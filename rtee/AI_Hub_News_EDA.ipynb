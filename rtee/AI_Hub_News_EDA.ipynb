{
 "cells": [
  {
   "cell_type": "markdown",
   "id": "burning-fault",
   "metadata": {},
   "source": [
    "# Data Info\n",
    "-  비플라이소프트㈜는 그 동안 부족했던 한국어로 된 문서요약 텍스트 데이터의 축적 및 활용을 위하여 총 40만 건의 한국어 데이터셋을 구축하였으며 해당 데이터셋은 뉴스기사, 기고문, 법률 판결문, 잡지 등 다양한 도메인으로 구성되어 요약 AI 알고리즘화 성능 향상을 추구하였다.\n",
    "- 문서요약 텍스트 데이터셋은 원문데이터에 대한 추출요약과 생성요약으로 구성되며, 즉 하나의 데이터셋에 총 3건의 데이터 (원문, 추출, 생성)가 포함된다. \n",
    "- 원문데이터의 수량은 **뉴스기사 30만 건**, 기고문 6만 건, 잡지 1만 건, 법원 판결문 3만 건으로 총 40만 건이며, 이에 대한 추출요약과 생성요약도 각각 40만 건 씩 구축되었다.\n",
    "- 뉴스기사는 요약 AI 알고리즘의 핵심 데이터로서 10개 언론사로부터 30만 건의 원문데이터를 확보하였으며, 이 중 종합면 30%, 정치 20%, 경제 20%, 사회 20%, 문화 및 스포츠 기타 10%의 비율로 구성되어 있다.\n",
    "- **추출요약**은 원문의 형태적 구조를 바탕으로 내용을 잘 표현하는 문장 3개 (리드문 포함)를 추출하여 우선순위에 따라 차례로 작성했으며 \n",
    "- **생성요약**은 추출요약으로 형성된 문장, 제목의 키워드, 동의어 등을 활용하여 기사의 내용을 한 문장으로 요약했다."
   ]
  },
  {
   "cell_type": "markdown",
   "id": "faced-testing",
   "metadata": {},
   "source": [
    "# JSON to CSV"
   ]
  },
  {
   "cell_type": "code",
   "execution_count": 1,
   "id": "exterior-republican",
   "metadata": {},
   "outputs": [],
   "source": [
    "# import os\n",
    "# import csv\n",
    "# import json\n",
    "\n",
    "\n",
    "# input_file_name = os.getenv('HOME')+'/aiffel/aeumgil/data/train_original.json'\n",
    "# output_file_name = os.getenv('HOME')+'/aiffel/aeumgil/data/train_original.csv'\n",
    "# with open(input_file_name, \"r\", encoding=\"utf-8\", newline=\"\") as input_file, \\\n",
    "#         open(output_file_name, \"w\", encoding=\"utf-8\", newline=\"\") as output_file:\n",
    "#     json_data = json.load(input_file)\n",
    "#     documents = json_data['documents']\n",
    "    \n",
    "#     data = []\n",
    "#     columns = list(documents[0].keys())\n",
    "#     data.append(columns)\n",
    "#     for i in documents:\n",
    "#         values = list(i.values())\n",
    "#         data.append(values)\n",
    "    \n",
    "#     csvwriter = csv.writer(output_file)\n",
    "#     csvwriter.writerow(data[0])\n",
    "#     for line in data:\n",
    "#         csvwriter.writerow(line)\n",
    "#     input_file.close()\n",
    "#     output_file.close()"
   ]
  },
  {
   "cell_type": "markdown",
   "id": "medium-crawford",
   "metadata": {},
   "source": [
    "# Data EDA"
   ]
  },
  {
   "cell_type": "code",
   "execution_count": 2,
   "id": "equal-basin",
   "metadata": {},
   "outputs": [
    {
     "name": "stderr",
     "output_type": "stream",
     "text": [
      "/opt/conda/lib/python3.7/site-packages/IPython/core/interactiveshell.py:3146: DtypeWarning: Columns (0,6,10) have mixed types.Specify dtype option on import or set low_memory=False.\n",
      "  interactivity=interactivity, compiler=compiler, result=result)\n"
     ]
    }
   ],
   "source": [
    "import os\n",
    "import csv\n",
    "import pandas as pd\n",
    "\n",
    "output_file_name = os.getenv('HOME')+'/aiffel/aeumgil/data/train_original.csv'\n",
    "news = pd.read_csv(output_file_name)"
   ]
  },
  {
   "cell_type": "code",
   "execution_count": 3,
   "id": "classical-regular",
   "metadata": {
    "scrolled": true
   },
   "outputs": [
    {
     "data": {
      "text/html": [
       "<div>\n",
       "<style scoped>\n",
       "    .dataframe tbody tr th:only-of-type {\n",
       "        vertical-align: middle;\n",
       "    }\n",
       "\n",
       "    .dataframe tbody tr th {\n",
       "        vertical-align: top;\n",
       "    }\n",
       "\n",
       "    .dataframe thead th {\n",
       "        text-align: right;\n",
       "    }\n",
       "</style>\n",
       "<table border=\"1\" class=\"dataframe\">\n",
       "  <thead>\n",
       "    <tr style=\"text-align: right;\">\n",
       "      <th></th>\n",
       "      <th>id</th>\n",
       "      <th>category</th>\n",
       "      <th>media_type</th>\n",
       "      <th>media_sub_type</th>\n",
       "      <th>media_name</th>\n",
       "      <th>size</th>\n",
       "      <th>char_count</th>\n",
       "      <th>publish_date</th>\n",
       "      <th>title</th>\n",
       "      <th>text</th>\n",
       "      <th>annotator_id</th>\n",
       "      <th>document_quality_scores</th>\n",
       "      <th>extractive</th>\n",
       "      <th>abstractive</th>\n",
       "    </tr>\n",
       "  </thead>\n",
       "  <tbody>\n",
       "    <tr>\n",
       "      <th>1</th>\n",
       "      <td>290741778</td>\n",
       "      <td>종합</td>\n",
       "      <td>online</td>\n",
       "      <td>지역지</td>\n",
       "      <td>광양신문</td>\n",
       "      <td>small</td>\n",
       "      <td>927</td>\n",
       "      <td>2018-01-05 18:54:55</td>\n",
       "      <td>논 타작물 재배, 2월 말까지 신청하세요</td>\n",
       "      <td>[[{'index': 0, 'sentence': 'ha당 조사료 400만원…작물별 ...</td>\n",
       "      <td>11</td>\n",
       "      <td>{'readable': 4, 'accurate': 3, 'informative': ...</td>\n",
       "      <td>[2, 3, 10]</td>\n",
       "      <td>[\"전라남도가 쌀 과잉문제를 근본적으로 해결하기 위해 올해부터 벼를 심었던 논에 벼...</td>\n",
       "    </tr>\n",
       "    <tr>\n",
       "      <th>2</th>\n",
       "      <td>290741792</td>\n",
       "      <td>종합</td>\n",
       "      <td>online</td>\n",
       "      <td>지역지</td>\n",
       "      <td>광양신문</td>\n",
       "      <td>small</td>\n",
       "      <td>764</td>\n",
       "      <td>2018-01-05 18:53:20</td>\n",
       "      <td>여수시, 컬러빌리지 마무리...‘색채와 빛’도시 완성</td>\n",
       "      <td>[[{'index': 0, 'sentence': '8억 투입, 고소천사벽화·자산마을...</td>\n",
       "      <td>12</td>\n",
       "      <td>{'readable': 4, 'accurate': 4, 'informative': ...</td>\n",
       "      <td>[2, 4, 11]</td>\n",
       "      <td>['여수시는 컬러빌리지 사업에 8억원을 투입하여 ‘색채와 빛’ 도시를 완성하여 고소...</td>\n",
       "    </tr>\n",
       "    <tr>\n",
       "      <th>3</th>\n",
       "      <td>290741793</td>\n",
       "      <td>스포츠</td>\n",
       "      <td>online</td>\n",
       "      <td>지역지</td>\n",
       "      <td>광양신문</td>\n",
       "      <td>medium</td>\n",
       "      <td>1066</td>\n",
       "      <td>2018-01-05 18:52:15</td>\n",
       "      <td>“새해 정기 받고 올해는 반드시 일내자!”</td>\n",
       "      <td>[[{'index': 0, 'sentence': '전남드래곤즈 해맞이 다짐…선수 영...</td>\n",
       "      <td>13</td>\n",
       "      <td>{'readable': 4, 'accurate': 4, 'informative': ...</td>\n",
       "      <td>[3, 5, 7]</td>\n",
       "      <td>['전남드래곤즈 임직원과 선수단이 4일 구봉산 정상에 올라 일출을 보며 2018년 ...</td>\n",
       "    </tr>\n",
       "    <tr>\n",
       "      <th>4</th>\n",
       "      <td>290741794</td>\n",
       "      <td>정치</td>\n",
       "      <td>online</td>\n",
       "      <td>지역지</td>\n",
       "      <td>광양신문</td>\n",
       "      <td>small</td>\n",
       "      <td>746</td>\n",
       "      <td>2018-01-05 18:50:17</td>\n",
       "      <td>농업인 역량 강화, 새해 실용교육 실시</td>\n",
       "      <td>[[{'index': 0, 'sentence': '11~24일, 매실·감·참다래 등...</td>\n",
       "      <td>12</td>\n",
       "      <td>{'readable': 4, 'accurate': 4, 'informative': ...</td>\n",
       "      <td>[2, 3, 4]</td>\n",
       "      <td>['광양시는 농업인들의 경쟁력을 높이고, 소득안정을 위해 매실·감·참다래 등 지역특...</td>\n",
       "    </tr>\n",
       "    <tr>\n",
       "      <th>5</th>\n",
       "      <td>290741797</td>\n",
       "      <td>종합</td>\n",
       "      <td>online</td>\n",
       "      <td>지역지</td>\n",
       "      <td>광양신문</td>\n",
       "      <td>small</td>\n",
       "      <td>978</td>\n",
       "      <td>2018-01-05 18:52:36</td>\n",
       "      <td>타이완 크루즈관광객 4천여명‘전남’온다</td>\n",
       "      <td>[[{'index': 0, 'sentence': '홍콩 크루즈선사‘아쿠아리우스’ 4...</td>\n",
       "      <td>13</td>\n",
       "      <td>{'readable': 4, 'accurate': 4, 'informative': ...</td>\n",
       "      <td>[3, 7, 4]</td>\n",
       "      <td>['올해 4월과 6월 두 차례에 걸쳐 타이완의 크루즈 관광객 4000여명이 여수에 ...</td>\n",
       "    </tr>\n",
       "  </tbody>\n",
       "</table>\n",
       "</div>"
      ],
      "text/plain": [
       "          id category media_type media_sub_type media_name    size char_count  \\\n",
       "1  290741778       종합     online            지역지       광양신문   small        927   \n",
       "2  290741792       종합     online            지역지       광양신문   small        764   \n",
       "3  290741793      스포츠     online            지역지       광양신문  medium       1066   \n",
       "4  290741794       정치     online            지역지       광양신문   small        746   \n",
       "5  290741797       종합     online            지역지       광양신문   small        978   \n",
       "\n",
       "          publish_date                          title  \\\n",
       "1  2018-01-05 18:54:55         논 타작물 재배, 2월 말까지 신청하세요   \n",
       "2  2018-01-05 18:53:20  여수시, 컬러빌리지 마무리...‘색채와 빛’도시 완성   \n",
       "3  2018-01-05 18:52:15        “새해 정기 받고 올해는 반드시 일내자!”   \n",
       "4  2018-01-05 18:50:17          농업인 역량 강화, 새해 실용교육 실시   \n",
       "5  2018-01-05 18:52:36          타이완 크루즈관광객 4천여명‘전남’온다   \n",
       "\n",
       "                                                text annotator_id  \\\n",
       "1  [[{'index': 0, 'sentence': 'ha당 조사료 400만원…작물별 ...           11   \n",
       "2  [[{'index': 0, 'sentence': '8억 투입, 고소천사벽화·자산마을...           12   \n",
       "3  [[{'index': 0, 'sentence': '전남드래곤즈 해맞이 다짐…선수 영...           13   \n",
       "4  [[{'index': 0, 'sentence': '11~24일, 매실·감·참다래 등...           12   \n",
       "5  [[{'index': 0, 'sentence': '홍콩 크루즈선사‘아쿠아리우스’ 4...           13   \n",
       "\n",
       "                             document_quality_scores  extractive  \\\n",
       "1  {'readable': 4, 'accurate': 3, 'informative': ...  [2, 3, 10]   \n",
       "2  {'readable': 4, 'accurate': 4, 'informative': ...  [2, 4, 11]   \n",
       "3  {'readable': 4, 'accurate': 4, 'informative': ...   [3, 5, 7]   \n",
       "4  {'readable': 4, 'accurate': 4, 'informative': ...   [2, 3, 4]   \n",
       "5  {'readable': 4, 'accurate': 4, 'informative': ...   [3, 7, 4]   \n",
       "\n",
       "                                         abstractive  \n",
       "1  [\"전라남도가 쌀 과잉문제를 근본적으로 해결하기 위해 올해부터 벼를 심었던 논에 벼...  \n",
       "2  ['여수시는 컬러빌리지 사업에 8억원을 투입하여 ‘색채와 빛’ 도시를 완성하여 고소...  \n",
       "3  ['전남드래곤즈 임직원과 선수단이 4일 구봉산 정상에 올라 일출을 보며 2018년 ...  \n",
       "4  ['광양시는 농업인들의 경쟁력을 높이고, 소득안정을 위해 매실·감·참다래 등 지역특...  \n",
       "5  ['올해 4월과 6월 두 차례에 걸쳐 타이완의 크루즈 관광객 4000여명이 여수에 ...  "
      ]
     },
     "execution_count": 3,
     "metadata": {},
     "output_type": "execute_result"
    }
   ],
   "source": [
    "news = news.drop(news.index[0])\n",
    "news.head()"
   ]
  },
  {
   "cell_type": "code",
   "execution_count": 4,
   "id": "bridal-confidentiality",
   "metadata": {},
   "outputs": [
    {
     "data": {
      "text/plain": [
       "id                         False\n",
       "category                   False\n",
       "media_type                 False\n",
       "media_sub_type             False\n",
       "media_name                 False\n",
       "size                       False\n",
       "char_count                 False\n",
       "publish_date               False\n",
       "title                      False\n",
       "text                       False\n",
       "annotator_id               False\n",
       "document_quality_scores    False\n",
       "extractive                 False\n",
       "abstractive                False\n",
       "dtype: bool"
      ]
     },
     "execution_count": 4,
     "metadata": {},
     "output_type": "execute_result"
    }
   ],
   "source": [
    "news.isnull().any()"
   ]
  },
  {
   "cell_type": "code",
   "execution_count": 5,
   "id": "affiliated-report",
   "metadata": {},
   "outputs": [
    {
     "data": {
      "text/plain": [
       "\"[[{'index': 0, 'sentence': 'ha당 조사료 400만원…작물별 차등 지원', 'highlight_indices': ''}], [{'index': 1, 'sentence': '이성훈 sinawi@hanmail.net', 'highlight_indices': ''}], [{'index': 2, 'sentence': '전라남도가 쌀 과잉문제를 근본적으로 해결하기 위해 올해부터 시행하는 쌀 생산조정제를 적극 추진키로 했다.', 'highlight_indices': ''}], [{'index': 3, 'sentence': '쌀 생산조정제는 벼를 심었던 논에 벼 대신 사료작물이나 콩 등 다른 작물을 심으면 벼와의 일정 소득차를 보전해주는 제도다.', 'highlight_indices': '35,37'}], [{'index': 4, 'sentence': '올해 전남의 논 다른 작물 재배 계획면적은 전국 5만ha의 약 21%인 1만 698ha로, 세부시행지침을 확정, 시군에 통보했다.', 'highlight_indices': '9,11;33,34'}, {'index': 5, 'sentence': '지원사업 대상은 2017년산 쌀 변동직불금을 받은 농지에 10a(300평) 이상 벼 이외 다른 작물을 재배한 농업인이다.', 'highlight_indices': '50,52'}], [{'index': 6, 'sentence': '지원 대상 작물은 1년생을 포함한 다년생의 모든 작물이 해당되나 재배 면적 확대 시 수급과잉이 우려되는 고추, 무, 배추, 인삼, 대파 등 수급 불안 품목은 제외된다.', 'highlight_indices': '24,26'}], [{'index': 7, 'sentence': '농지의 경우도 이미 다른 작물 재배 의무가 부여된 간척지, 정부매입비축농지, 농진청 시범사업, 경관보전 직불금 수령 농지 등은 제외될 예정이다.', 'highlight_indices': '8,10;11,13'}], [{'index': 8, 'sentence': 'ha(3000평)당 지원 단가는 평균 340만원으로 사료작물 400만원, 일반작물은 340만원, 콩·팥 등 두류작물은 280만원 등이다.', 'highlight_indices': ''}, {'index': 9, 'sentence': '벼와 소득차와 영농 편이성을 감안해 작물별로 차등 지원된다.', 'highlight_indices': ''}], [{'index': 10, 'sentence': '논에 다른 작물 재배를 바라는 농가는 오는 22일부터 2월 28일까지 농지 소재지 읍면동사무소에 신청해야 한다.', 'highlight_indices': '3,5'}], [{'index': 11, 'sentence': '전남도는 도와 시군에 관련 기관과 농가 등이 참여하는‘논 타작물 지원사업 추진협의회’를 구성, 지역 특성에 맞는 작목 선정 및 사업 심의 등을 본격 추진할 방침이다.', 'highlight_indices': '32,33;69,70'}], [{'index': 12, 'sentence': '최향철 전라남도 친환경농업과장은 “최근 쌀값이 다소 상승추세에 있으나 매년 공급과잉에 따른 가격 하락으로 쌀농가에 어려움이 있었다”며“쌀 공급과잉을 구조적으로 해결하도록 논 타작물 재배 지원사업에 많이 참여해주길 바란다”고 말했다.', 'highlight_indices': '26,28;39,41;97,98;110,112'}]]\""
      ]
     },
     "execution_count": 5,
     "metadata": {},
     "output_type": "execute_result"
    }
   ],
   "source": [
    "news['text'][1]"
   ]
  },
  {
   "cell_type": "code",
   "execution_count": 6,
   "id": "hindu-arcade",
   "metadata": {},
   "outputs": [],
   "source": [
    "import ast\n",
    "\n",
    "exts = []\n",
    "txt = ast.literal_eval(news['text'][1])\n",
    "ext = ast.literal_eval(news.extractive[1])\n",
    "for i in txt :\n",
    "    if i[0]['index'] in list(ext):\n",
    "        exts.append(i[0]['sentence'])"
   ]
  },
  {
   "cell_type": "code",
   "execution_count": 7,
   "id": "cordless-aluminum",
   "metadata": {},
   "outputs": [
    {
     "data": {
      "text/plain": [
       "['전라남도가 쌀 과잉문제를 근본적으로 해결하기 위해 올해부터 시행하는 쌀 생산조정제를 적극 추진키로 했다.',\n",
       " '쌀 생산조정제는 벼를 심었던 논에 벼 대신 사료작물이나 콩 등 다른 작물을 심으면 벼와의 일정 소득차를 보전해주는 제도다.',\n",
       " '논에 다른 작물 재배를 바라는 농가는 오는 22일부터 2월 28일까지 농지 소재지 읍면동사무소에 신청해야 한다.']"
      ]
     },
     "execution_count": 7,
     "metadata": {},
     "output_type": "execute_result"
    }
   ],
   "source": [
    "exts"
   ]
  },
  {
   "cell_type": "code",
   "execution_count": 8,
   "id": "former-craps",
   "metadata": {
    "scrolled": false
   },
   "outputs": [
    {
     "data": {
      "text/plain": [
       "[\"전라남도가 쌀 과잉문제를 근본적으로 해결하기 위해 올해부터 벼를 심었던 논에 벼 대신 사료작물이나 콩 등 다른 작물을 심으면 벼와의 일정 소득차를 보전해주는 '쌀 생산조정제'를 적극적으로 시행하기로 하고 오는 22일부터 2월 28일까지 농지 소재지 읍면동사무소에서 신청받는다 .\"]"
      ]
     },
     "execution_count": 8,
     "metadata": {},
     "output_type": "execute_result"
    }
   ],
   "source": [
    "list(ast.literal_eval(news['abstractive'][1]))"
   ]
  },
  {
   "cell_type": "code",
   "execution_count": 9,
   "id": "capable-guyana",
   "metadata": {},
   "outputs": [
    {
     "data": {
      "text/plain": [
       "[2, 3, 10]"
      ]
     },
     "execution_count": 9,
     "metadata": {},
     "output_type": "execute_result"
    }
   ],
   "source": [
    "txt = ast.literal_eval(news['extractive'][1])\n",
    "txt\n"
   ]
  },
  {
   "cell_type": "code",
   "execution_count": 10,
   "id": "dominican-parts",
   "metadata": {},
   "outputs": [
    {
     "data": {
      "text/plain": [
       "[[{'index': 0,\n",
       "   'sentence': 'ha당 조사료 400만원…작물별 차등 지원',\n",
       "   'highlight_indices': ''}],\n",
       " [{'index': 1, 'sentence': '이성훈 sinawi@hanmail.net', 'highlight_indices': ''}],\n",
       " [{'index': 2,\n",
       "   'sentence': '전라남도가 쌀 과잉문제를 근본적으로 해결하기 위해 올해부터 시행하는 쌀 생산조정제를 적극 추진키로 했다.',\n",
       "   'highlight_indices': ''}],\n",
       " [{'index': 3,\n",
       "   'sentence': '쌀 생산조정제는 벼를 심었던 논에 벼 대신 사료작물이나 콩 등 다른 작물을 심으면 벼와의 일정 소득차를 보전해주는 제도다.',\n",
       "   'highlight_indices': '35,37'}],\n",
       " [{'index': 4,\n",
       "   'sentence': '올해 전남의 논 다른 작물 재배 계획면적은 전국 5만ha의 약 21%인 1만 698ha로, 세부시행지침을 확정, 시군에 통보했다.',\n",
       "   'highlight_indices': '9,11;33,34'},\n",
       "  {'index': 5,\n",
       "   'sentence': '지원사업 대상은 2017년산 쌀 변동직불금을 받은 농지에 10a(300평) 이상 벼 이외 다른 작물을 재배한 농업인이다.',\n",
       "   'highlight_indices': '50,52'}],\n",
       " [{'index': 6,\n",
       "   'sentence': '지원 대상 작물은 1년생을 포함한 다년생의 모든 작물이 해당되나 재배 면적 확대 시 수급과잉이 우려되는 고추, 무, 배추, 인삼, 대파 등 수급 불안 품목은 제외된다.',\n",
       "   'highlight_indices': '24,26'}],\n",
       " [{'index': 7,\n",
       "   'sentence': '농지의 경우도 이미 다른 작물 재배 의무가 부여된 간척지, 정부매입비축농지, 농진청 시범사업, 경관보전 직불금 수령 농지 등은 제외될 예정이다.',\n",
       "   'highlight_indices': '8,10;11,13'}],\n",
       " [{'index': 8,\n",
       "   'sentence': 'ha(3000평)당 지원 단가는 평균 340만원으로 사료작물 400만원, 일반작물은 340만원, 콩·팥 등 두류작물은 280만원 등이다.',\n",
       "   'highlight_indices': ''},\n",
       "  {'index': 9,\n",
       "   'sentence': '벼와 소득차와 영농 편이성을 감안해 작물별로 차등 지원된다.',\n",
       "   'highlight_indices': ''}],\n",
       " [{'index': 10,\n",
       "   'sentence': '논에 다른 작물 재배를 바라는 농가는 오는 22일부터 2월 28일까지 농지 소재지 읍면동사무소에 신청해야 한다.',\n",
       "   'highlight_indices': '3,5'}],\n",
       " [{'index': 11,\n",
       "   'sentence': '전남도는 도와 시군에 관련 기관과 농가 등이 참여하는‘논 타작물 지원사업 추진협의회’를 구성, 지역 특성에 맞는 작목 선정 및 사업 심의 등을 본격 추진할 방침이다.',\n",
       "   'highlight_indices': '32,33;69,70'}],\n",
       " [{'index': 12,\n",
       "   'sentence': '최향철 전라남도 친환경농업과장은 “최근 쌀값이 다소 상승추세에 있으나 매년 공급과잉에 따른 가격 하락으로 쌀농가에 어려움이 있었다”며“쌀 공급과잉을 구조적으로 해결하도록 논 타작물 재배 지원사업에 많이 참여해주길 바란다”고 말했다.',\n",
       "   'highlight_indices': '26,28;39,41;97,98;110,112'}]]"
      ]
     },
     "execution_count": 10,
     "metadata": {},
     "output_type": "execute_result"
    }
   ],
   "source": [
    "txt = ast.literal_eval(news['text'][1])\n",
    "txt"
   ]
  },
  {
   "cell_type": "code",
   "execution_count": 11,
   "id": "wired-virus",
   "metadata": {},
   "outputs": [
    {
     "data": {
      "text/plain": [
       "\"[[{'index': 0, 'sentence': 'ha당 조사료 400만원…작물별 차등 지원', 'highlight_indices': ''}], [{'index': 1, 'sentence': '이성훈 sinawi@hanmail.net', 'highlight_indices': ''}], [{'index': 2, 'sentence': '전라남도가 쌀 과잉문제를 근본적으로 해결하기 위해 올해부터 시행하는 쌀 생산조정제를 적극 추진키로 했다.', 'highlight_indices': ''}], [{'index': 3, 'sentence': '쌀 생산조정제는 벼를 심었던 논에 벼 대신 사료작물이나 콩 등 다른 작물을 심으면 벼와의 일정 소득차를 보전해주는 제도다.', 'highlight_indices': '35,37'}], [{'index': 4, 'sentence': '올해 전남의 논 다른 작물 재배 계획면적은 전국 5만ha의 약 21%인 1만 698ha로, 세부시행지침을 확정, 시군에 통보했다.', 'highlight_indices': '9,11;33,34'}, {'index': 5, 'sentence': '지원사업 대상은 2017년산 쌀 변동직불금을 받은 농지에 10a(300평) 이상 벼 이외 다른 작물을 재배한 농업인이다.', 'highlight_indices': '50,52'}], [{'index': 6, 'sentence': '지원 대상 작물은 1년생을 포함한 다년생의 모든 작물이 해당되나 재배 면적 확대 시 수급과잉이 우려되는 고추, 무, 배추, 인삼, 대파 등 수급 불안 품목은 제외된다.', 'highlight_indices': '24,26'}], [{'index': 7, 'sentence': '농지의 경우도 이미 다른 작물 재배 의무가 부여된 간척지, 정부매입비축농지, 농진청 시범사업, 경관보전 직불금 수령 농지 등은 제외될 예정이다.', 'highlight_indices': '8,10;11,13'}], [{'index': 8, 'sentence': 'ha(3000평)당 지원 단가는 평균 340만원으로 사료작물 400만원, 일반작물은 340만원, 콩·팥 등 두류작물은 280만원 등이다.', 'highlight_indices': ''}, {'index': 9, 'sentence': '벼와 소득차와 영농 편이성을 감안해 작물별로 차등 지원된다.', 'highlight_indices': ''}], [{'index': 10, 'sentence': '논에 다른 작물 재배를 바라는 농가는 오는 22일부터 2월 28일까지 농지 소재지 읍면동사무소에 신청해야 한다.', 'highlight_indices': '3,5'}], [{'index': 11, 'sentence': '전남도는 도와 시군에 관련 기관과 농가 등이 참여하는‘논 타작물 지원사업 추진협의회’를 구성, 지역 특성에 맞는 작목 선정 및 사업 심의 등을 본격 추진할 방침이다.', 'highlight_indices': '32,33;69,70'}], [{'index': 12, 'sentence': '최향철 전라남도 친환경농업과장은 “최근 쌀값이 다소 상승추세에 있으나 매년 공급과잉에 따른 가격 하락으로 쌀농가에 어려움이 있었다”며“쌀 공급과잉을 구조적으로 해결하도록 논 타작물 재배 지원사업에 많이 참여해주길 바란다”고 말했다.', 'highlight_indices': '26,28;39,41;97,98;110,112'}]]\""
      ]
     },
     "execution_count": 11,
     "metadata": {},
     "output_type": "execute_result"
    }
   ],
   "source": [
    "news['text'][1]"
   ]
  },
  {
   "cell_type": "code",
   "execution_count": 12,
   "id": "running-makeup",
   "metadata": {},
   "outputs": [],
   "source": [
    "def extract_sen(txt, ext):\n",
    "    '''\n",
    "    extractive 컬럼에 mapping하여 추출요약문 리스트를 반환하는 함수입니다.\n",
    "    '''\n",
    "    exts = []\n",
    "    txt = ast.literal_eval(txt)\n",
    "    ext = ast.literal_eval(ext)\n",
    "    for i in txt :\n",
    "        for j in (i):\n",
    "            if j['index'] in list(ext): \n",
    "                exts.append(j['sentence'])\n",
    "    return exts\n",
    "\n",
    "def abstract_sen(x):\n",
    "    '''\n",
    "    abstractive 컬럼에 mapping하여 생성요약문을 추출하는 반환하는 함수입니다.\n",
    "    '''\n",
    "    abst = list(ast.literal_eval(x))\n",
    "    return abst\n",
    "\n",
    "def origin(x):\n",
    "    '''\n",
    "    text 컬럼에 mapping하여 원문을 반환하는 함수입니다.\n",
    "    '''\n",
    "    origin_txt = []\n",
    "    txt = ast.literal_eval(x)\n",
    "    for i in txt :\n",
    "        for j in (i):\n",
    "            origin_txt.append(j['sentence'])\n",
    "    return origin_txt\n",
    "\n",
    "def score(x):\n",
    "    '''\n",
    "    document_quality_scores 컬럼에 mapping하여 readable, accurate, informative, trustworthy 를 반환하는 함수입니다.\n",
    "    '''\n",
    "    score = ast.literal_eval(x)\n",
    "    return score['readable'], score['accurate'], score['informative'], score['trustworthy']\n",
    "\n",
    "def publish_date(x):\n",
    "    '''\n",
    "    publish_date 컬럼에 mapping하여 year, month, date 을 반환하는 함수입니다. \n",
    "    '''\n",
    "    tmp = x.split()[0].split('-')\n",
    "    year = tmp[0]; month = tmp[1]; date = tmp[2]\n",
    "    return year, month, date"
   ]
  },
  {
   "cell_type": "code",
   "execution_count": 13,
   "id": "grand-valuation",
   "metadata": {},
   "outputs": [
    {
     "name": "stdout",
     "output_type": "stream",
     "text": [
      "CPU times: user 2min 13s, sys: 1.74 s, total: 2min 15s\n",
      "Wall time: 2min 15s\n"
     ]
    }
   ],
   "source": [
    "%%time\n",
    "news['ext_sum'] = news.apply(lambda x : extract_sen(x['text'],x['extractive']), axis=1 )\n",
    "news['abs_sum'] = news['abstractive'].map(lambda x : abstract_sen(x))\n",
    "news['origin'] = news['text'].map(lambda x : origin(x))"
   ]
  },
  {
   "cell_type": "code",
   "execution_count": 14,
   "id": "humanitarian-delivery",
   "metadata": {},
   "outputs": [
    {
     "name": "stdout",
     "output_type": "stream",
     "text": [
      "CPU times: user 17.4 s, sys: 228 ms, total: 17.7 s\n",
      "Wall time: 17.7 s\n"
     ]
    }
   ],
   "source": [
    "%%time\n",
    "news['readable'] = news['document_quality_scores'].map(lambda x : score(x)[0])\n",
    "news['accurate'] = news['document_quality_scores'].map(lambda x : score(x)[1])\n",
    "news['informative'] = news['document_quality_scores'].map(lambda x : score(x)[2])\n",
    "news['trustworthy'] = news['document_quality_scores'].map(lambda x : score(x)[3])"
   ]
  },
  {
   "cell_type": "code",
   "execution_count": 15,
   "id": "induced-honduras",
   "metadata": {},
   "outputs": [
    {
     "name": "stdout",
     "output_type": "stream",
     "text": [
      "CPU times: user 523 ms, sys: 40 ms, total: 563 ms\n",
      "Wall time: 562 ms\n"
     ]
    }
   ],
   "source": [
    "%%time\n",
    "news['year'] = news['publish_date'].map(lambda x : publish_date(x)[0])\n",
    "news['month'] = news['publish_date'].map(lambda x : publish_date(x)[1])\n",
    "news['date'] = news['publish_date'].map(lambda x : publish_date(x)[2])"
   ]
  },
  {
   "cell_type": "markdown",
   "id": "hungry-authorization",
   "metadata": {},
   "source": [
    "## Types of Features\n",
    "\n",
    "### Categorical Feautures\n",
    "- 'category' : 신문 기사의 주제 분류\n",
    "- 'media_name' : 신문 매체의 이름 분류\n",
    "\n",
    "### Ordinal Features\n",
    "- 'size' : char_count에 따른 기사 크기 분류 (small, medium, big)\n",
    "- 'readable' : 가독성에 따른 순서분류 (1-4)\n",
    "- 'accurate' : 정확성에 따른 순서분류 (1-4)\n",
    "- 'informative' : 정보량에 따른 순서분류 (1-4)\n",
    "- 'trustworthy' : 신뢰성에 따른 순서분류 (1-4)\n",
    "\n",
    "### Continuous Features\n",
    "- 'year', 'month', 'date' : 년, 월, 시"
   ]
  },
  {
   "cell_type": "code",
   "execution_count": 16,
   "id": "adaptive-casting",
   "metadata": {
    "scrolled": true
   },
   "outputs": [
    {
     "data": {
      "text/html": [
       "<div>\n",
       "<style scoped>\n",
       "    .dataframe tbody tr th:only-of-type {\n",
       "        vertical-align: middle;\n",
       "    }\n",
       "\n",
       "    .dataframe tbody tr th {\n",
       "        vertical-align: top;\n",
       "    }\n",
       "\n",
       "    .dataframe thead th {\n",
       "        text-align: right;\n",
       "    }\n",
       "</style>\n",
       "<table border=\"1\" class=\"dataframe\">\n",
       "  <thead>\n",
       "    <tr style=\"text-align: right;\">\n",
       "      <th></th>\n",
       "      <th>id</th>\n",
       "      <th>category</th>\n",
       "      <th>media_type</th>\n",
       "      <th>media_sub_type</th>\n",
       "      <th>media_name</th>\n",
       "      <th>size</th>\n",
       "      <th>char_count</th>\n",
       "      <th>publish_date</th>\n",
       "      <th>title</th>\n",
       "      <th>text</th>\n",
       "      <th>...</th>\n",
       "      <th>ext_sum</th>\n",
       "      <th>abs_sum</th>\n",
       "      <th>origin</th>\n",
       "      <th>readable</th>\n",
       "      <th>accurate</th>\n",
       "      <th>informative</th>\n",
       "      <th>trustworthy</th>\n",
       "      <th>year</th>\n",
       "      <th>month</th>\n",
       "      <th>date</th>\n",
       "    </tr>\n",
       "  </thead>\n",
       "  <tbody>\n",
       "    <tr>\n",
       "      <th>1</th>\n",
       "      <td>290741778</td>\n",
       "      <td>종합</td>\n",
       "      <td>online</td>\n",
       "      <td>지역지</td>\n",
       "      <td>광양신문</td>\n",
       "      <td>small</td>\n",
       "      <td>927</td>\n",
       "      <td>2018-01-05 18:54:55</td>\n",
       "      <td>논 타작물 재배, 2월 말까지 신청하세요</td>\n",
       "      <td>[[{'index': 0, 'sentence': 'ha당 조사료 400만원…작물별 ...</td>\n",
       "      <td>...</td>\n",
       "      <td>[전라남도가 쌀 과잉문제를 근본적으로 해결하기 위해 올해부터 시행하는 쌀 생산조정제...</td>\n",
       "      <td>[전라남도가 쌀 과잉문제를 근본적으로 해결하기 위해 올해부터 벼를 심었던 논에 벼 ...</td>\n",
       "      <td>[ha당 조사료 400만원…작물별 차등 지원, 이성훈 sinawi@hanmail.n...</td>\n",
       "      <td>4</td>\n",
       "      <td>3</td>\n",
       "      <td>3</td>\n",
       "      <td>3</td>\n",
       "      <td>2018</td>\n",
       "      <td>01</td>\n",
       "      <td>05</td>\n",
       "    </tr>\n",
       "    <tr>\n",
       "      <th>2</th>\n",
       "      <td>290741792</td>\n",
       "      <td>종합</td>\n",
       "      <td>online</td>\n",
       "      <td>지역지</td>\n",
       "      <td>광양신문</td>\n",
       "      <td>small</td>\n",
       "      <td>764</td>\n",
       "      <td>2018-01-05 18:53:20</td>\n",
       "      <td>여수시, 컬러빌리지 마무리...‘색채와 빛’도시 완성</td>\n",
       "      <td>[[{'index': 0, 'sentence': '8억 투입, 고소천사벽화·자산마을...</td>\n",
       "      <td>...</td>\n",
       "      <td>[여수시는 원도심 일대에서 추진된 컬러빌리지 사업을 지난해 말 마무리하며 색채와 빛...</td>\n",
       "      <td>[여수시는 컬러빌리지 사업에 8억원을 투입하여 ‘색채와 빛’ 도시를 완성하여 고소천...</td>\n",
       "      <td>[8억 투입, 고소천사벽화·자산마을에 색채 입혀, 이성훈 sinawi@hanmail...</td>\n",
       "      <td>4</td>\n",
       "      <td>4</td>\n",
       "      <td>5</td>\n",
       "      <td>4</td>\n",
       "      <td>2018</td>\n",
       "      <td>01</td>\n",
       "      <td>05</td>\n",
       "    </tr>\n",
       "    <tr>\n",
       "      <th>3</th>\n",
       "      <td>290741793</td>\n",
       "      <td>스포츠</td>\n",
       "      <td>online</td>\n",
       "      <td>지역지</td>\n",
       "      <td>광양신문</td>\n",
       "      <td>medium</td>\n",
       "      <td>1066</td>\n",
       "      <td>2018-01-05 18:52:15</td>\n",
       "      <td>“새해 정기 받고 올해는 반드시 일내자!”</td>\n",
       "      <td>[[{'index': 0, 'sentence': '전남드래곤즈 해맞이 다짐…선수 영...</td>\n",
       "      <td>...</td>\n",
       "      <td>[임직원과 선수단 모두는 이날 구봉산 정상에 올라 일출을 보며 2018년 구단 목표...</td>\n",
       "      <td>[전남드래곤즈 임직원과 선수단이 4일 구봉산 정상에 올라 일출을 보며 2018년 구...</td>\n",
       "      <td>[전남드래곤즈 해맞이 다짐…선수 영입 활발, 이성훈 sinawi@hanmail.ne...</td>\n",
       "      <td>4</td>\n",
       "      <td>4</td>\n",
       "      <td>4</td>\n",
       "      <td>4</td>\n",
       "      <td>2018</td>\n",
       "      <td>01</td>\n",
       "      <td>05</td>\n",
       "    </tr>\n",
       "    <tr>\n",
       "      <th>4</th>\n",
       "      <td>290741794</td>\n",
       "      <td>정치</td>\n",
       "      <td>online</td>\n",
       "      <td>지역지</td>\n",
       "      <td>광양신문</td>\n",
       "      <td>small</td>\n",
       "      <td>746</td>\n",
       "      <td>2018-01-05 18:50:17</td>\n",
       "      <td>농업인 역량 강화, 새해 실용교육 실시</td>\n",
       "      <td>[[{'index': 0, 'sentence': '11~24일, 매실·감·참다래 등...</td>\n",
       "      <td>...</td>\n",
       "      <td>[광양시는 오는 11일부터 24일까지 농업인교육관과 읍면동 회의실에서 농업인 105...</td>\n",
       "      <td>[광양시는 농업인들의 경쟁력을 높이고, 소득안정을 위해 매실·감·참다래 등 지역특화...</td>\n",
       "      <td>[11~24일, 매실·감·참다래 등 지역특화작목, 이성훈 sinawi@hanmail...</td>\n",
       "      <td>4</td>\n",
       "      <td>4</td>\n",
       "      <td>5</td>\n",
       "      <td>4</td>\n",
       "      <td>2018</td>\n",
       "      <td>01</td>\n",
       "      <td>05</td>\n",
       "    </tr>\n",
       "    <tr>\n",
       "      <th>5</th>\n",
       "      <td>290741797</td>\n",
       "      <td>종합</td>\n",
       "      <td>online</td>\n",
       "      <td>지역지</td>\n",
       "      <td>광양신문</td>\n",
       "      <td>small</td>\n",
       "      <td>978</td>\n",
       "      <td>2018-01-05 18:52:36</td>\n",
       "      <td>타이완 크루즈관광객 4천여명‘전남’온다</td>\n",
       "      <td>[[{'index': 0, 'sentence': '홍콩 크루즈선사‘아쿠아리우스’ 4...</td>\n",
       "      <td>...</td>\n",
       "      <td>[전라남도는 올해 4월과 6월 홍콩 크루즈선사 스타크루즈의 5만톤급‘아쿠아리우스’호...</td>\n",
       "      <td>[올해 4월과 6월 두 차례에 걸쳐 타이완의 크루즈 관광객 4000여명이 여수에 입...</td>\n",
       "      <td>[홍콩 크루즈선사‘아쿠아리우스’ 4, 6월 여수항 입항, 이성훈 sinawi@han...</td>\n",
       "      <td>4</td>\n",
       "      <td>4</td>\n",
       "      <td>4</td>\n",
       "      <td>4</td>\n",
       "      <td>2018</td>\n",
       "      <td>01</td>\n",
       "      <td>05</td>\n",
       "    </tr>\n",
       "  </tbody>\n",
       "</table>\n",
       "<p>5 rows × 24 columns</p>\n",
       "</div>"
      ],
      "text/plain": [
       "          id category media_type media_sub_type media_name    size char_count  \\\n",
       "1  290741778       종합     online            지역지       광양신문   small        927   \n",
       "2  290741792       종합     online            지역지       광양신문   small        764   \n",
       "3  290741793      스포츠     online            지역지       광양신문  medium       1066   \n",
       "4  290741794       정치     online            지역지       광양신문   small        746   \n",
       "5  290741797       종합     online            지역지       광양신문   small        978   \n",
       "\n",
       "          publish_date                          title  \\\n",
       "1  2018-01-05 18:54:55         논 타작물 재배, 2월 말까지 신청하세요   \n",
       "2  2018-01-05 18:53:20  여수시, 컬러빌리지 마무리...‘색채와 빛’도시 완성   \n",
       "3  2018-01-05 18:52:15        “새해 정기 받고 올해는 반드시 일내자!”   \n",
       "4  2018-01-05 18:50:17          농업인 역량 강화, 새해 실용교육 실시   \n",
       "5  2018-01-05 18:52:36          타이완 크루즈관광객 4천여명‘전남’온다   \n",
       "\n",
       "                                                text  ...  \\\n",
       "1  [[{'index': 0, 'sentence': 'ha당 조사료 400만원…작물별 ...  ...   \n",
       "2  [[{'index': 0, 'sentence': '8억 투입, 고소천사벽화·자산마을...  ...   \n",
       "3  [[{'index': 0, 'sentence': '전남드래곤즈 해맞이 다짐…선수 영...  ...   \n",
       "4  [[{'index': 0, 'sentence': '11~24일, 매실·감·참다래 등...  ...   \n",
       "5  [[{'index': 0, 'sentence': '홍콩 크루즈선사‘아쿠아리우스’ 4...  ...   \n",
       "\n",
       "                                             ext_sum  \\\n",
       "1  [전라남도가 쌀 과잉문제를 근본적으로 해결하기 위해 올해부터 시행하는 쌀 생산조정제...   \n",
       "2  [여수시는 원도심 일대에서 추진된 컬러빌리지 사업을 지난해 말 마무리하며 색채와 빛...   \n",
       "3  [임직원과 선수단 모두는 이날 구봉산 정상에 올라 일출을 보며 2018년 구단 목표...   \n",
       "4  [광양시는 오는 11일부터 24일까지 농업인교육관과 읍면동 회의실에서 농업인 105...   \n",
       "5  [전라남도는 올해 4월과 6월 홍콩 크루즈선사 스타크루즈의 5만톤급‘아쿠아리우스’호...   \n",
       "\n",
       "                                             abs_sum  \\\n",
       "1  [전라남도가 쌀 과잉문제를 근본적으로 해결하기 위해 올해부터 벼를 심었던 논에 벼 ...   \n",
       "2  [여수시는 컬러빌리지 사업에 8억원을 투입하여 ‘색채와 빛’ 도시를 완성하여 고소천...   \n",
       "3  [전남드래곤즈 임직원과 선수단이 4일 구봉산 정상에 올라 일출을 보며 2018년 구...   \n",
       "4  [광양시는 농업인들의 경쟁력을 높이고, 소득안정을 위해 매실·감·참다래 등 지역특화...   \n",
       "5  [올해 4월과 6월 두 차례에 걸쳐 타이완의 크루즈 관광객 4000여명이 여수에 입...   \n",
       "\n",
       "                                              origin readable accurate  \\\n",
       "1  [ha당 조사료 400만원…작물별 차등 지원, 이성훈 sinawi@hanmail.n...        4        3   \n",
       "2  [8억 투입, 고소천사벽화·자산마을에 색채 입혀, 이성훈 sinawi@hanmail...        4        4   \n",
       "3  [전남드래곤즈 해맞이 다짐…선수 영입 활발, 이성훈 sinawi@hanmail.ne...        4        4   \n",
       "4  [11~24일, 매실·감·참다래 등 지역특화작목, 이성훈 sinawi@hanmail...        4        4   \n",
       "5  [홍콩 크루즈선사‘아쿠아리우스’ 4, 6월 여수항 입항, 이성훈 sinawi@han...        4        4   \n",
       "\n",
       "  informative trustworthy  year  month  date  \n",
       "1           3           3  2018     01    05  \n",
       "2           5           4  2018     01    05  \n",
       "3           4           4  2018     01    05  \n",
       "4           5           4  2018     01    05  \n",
       "5           4           4  2018     01    05  \n",
       "\n",
       "[5 rows x 24 columns]"
      ]
     },
     "execution_count": 16,
     "metadata": {},
     "output_type": "execute_result"
    }
   ],
   "source": [
    "news.head()"
   ]
  },
  {
   "cell_type": "code",
   "execution_count": 17,
   "id": "laughing-kennedy",
   "metadata": {},
   "outputs": [],
   "source": [
    "%%capture\n",
    "!sudo apt-get install -y fonts-nanum\n",
    "!sudo fc-cache -fv\n",
    "!rm ~/.cache/matplotlib -rf"
   ]
  },
  {
   "cell_type": "code",
   "execution_count": 18,
   "id": "useful-brisbane",
   "metadata": {},
   "outputs": [],
   "source": [
    "import matplotlib.pyplot as plt\n",
    "import seaborn as sns\n",
    "plt.style.use('fivethirtyeight')\n",
    "import warnings\n",
    "warnings.filterwarnings('ignore')\n",
    "%matplotlib inline"
   ]
  },
  {
   "cell_type": "code",
   "execution_count": 19,
   "id": "headed-uncle",
   "metadata": {},
   "outputs": [
    {
     "data": {
      "image/png": "[encoded data removed]",
      "text/plain": [
       "<Figure size 432x288 with 1 Axes>"
      ]
     },
     "metadata": {
      "needs_background": "light"
     },
     "output_type": "display_data"
    }
   ],
   "source": [
    "plt.rc('font', family='NanumBarunGothic') \n",
    "sns.countplot(x=\"category\", data=news)\n",
    "sns.set(rc = {'figure.figsize':(8,5)})\n",
    "plt.xticks(rotation=45)\n",
    "\n",
    "plt.show()"
   ]
  },
  {
   "cell_type": "code",
   "execution_count": 20,
   "id": "breathing-chile",
   "metadata": {},
   "outputs": [
    {
     "data": {
      "image/png": "[encoded data removed]",
      "text/plain": [
       "<Figure size 576x360 with 1 Axes>"
      ]
     },
     "metadata": {},
     "output_type": "display_data"
    }
   ],
   "source": [
    "sns.countplot(x=\"size\", data=news)\n",
    "sns.set(rc = {'figure.figsize':(5,4)})\n",
    "# plt.xticks(rotation=45)\n",
    "plt.rc('font', family='NanumBarunGothic') \n",
    "\n",
    "plt.show()"
   ]
  },
  {
   "cell_type": "code",
   "execution_count": 21,
   "id": "written-anthony",
   "metadata": {},
   "outputs": [
    {
     "data": {
      "image/png": "[encoded data removed]",
      "text/plain": [
       "<Figure size 1800x288 with 1 Axes>"
      ]
     },
     "metadata": {},
     "output_type": "display_data"
    }
   ],
   "source": [
    "sns.set(rc = {'figure.figsize':(25,4)})\n",
    "plt.rc('font', family='NanumBarunGothic') \n",
    "sns.countplot(x=\"media_name\", data=news)\n",
    "\n",
    "plt.xticks(rotation=45)\n",
    "\n",
    "plt.show()"
   ]
  },
  {
   "cell_type": "code",
   "execution_count": 22,
   "id": "helpful-albania",
   "metadata": {},
   "outputs": [
    {
     "data": {
      "image/png": "[encoded data removed]",
      "text/plain": [
       "<Figure size 1440x360 with 2 Axes>"
      ]
     },
     "metadata": {},
     "output_type": "display_data"
    }
   ],
   "source": [
    "sns.set(rc = {'figure.figsize':(20,5)})\n",
    "\n",
    "fig, ax = plt.subplots(ncols=2)\n",
    "sns.countplot(x=\"readable\", data=news, ax=ax[0])\n",
    "sns.countplot(x=\"accurate\", data=news, ax=ax[1])\n",
    "\n",
    "# plt.xticks(rotation=45)\n",
    "plt.rc('font', family='NanumBarunGothic') \n",
    "\n",
    "# plt.show()"
   ]
  },
  {
   "cell_type": "code",
   "execution_count": 23,
   "id": "hollywood-positive",
   "metadata": {
    "scrolled": true
   },
   "outputs": [
    {
     "data": {
      "image/png": "[encoded data removed]",
      "text/plain": [
       "<Figure size 1440x360 with 2 Axes>"
      ]
     },
     "metadata": {},
     "output_type": "display_data"
    }
   ],
   "source": [
    "fig, ax = plt.subplots(ncols=2)\n",
    "\n",
    "sns.countplot(x=\"informative\", data=news,ax=ax[0])\n",
    "sns.countplot(x=\"trustworthy\", data=news, ax=ax[1])\n",
    "\n",
    "plt.rc('font', family='NanumBarunGothic') "
   ]
  },
  {
   "cell_type": "code",
   "execution_count": 24,
   "id": "extraordinary-portuguese",
   "metadata": {},
   "outputs": [
    {
     "data": {
      "image/png": "[encoded data removed]",
      "text/plain": [
       "<Figure size 1440x360 with 2 Axes>"
      ]
     },
     "metadata": {},
     "output_type": "display_data"
    }
   ],
   "source": [
    "fig, ax = plt.subplots(ncols=2)\n",
    "\n",
    "sns.countplot(x=\"year\", data=news,ax=ax[0])\n",
    "sns.countplot(x=\"month\", data=news, ax=ax[1])\n",
    "\n",
    "sns.set(rc = {'figure.figsize':(20,5)})\n",
    "\n",
    "plt.rc('font', family='NanumBarunGothic') "
   ]
  },
  {
   "cell_type": "code",
   "execution_count": 25,
   "id": "awful-think",
   "metadata": {
    "scrolled": true
   },
   "outputs": [
    {
     "data": {
      "text/html": [
       "<div>\n",
       "<style scoped>\n",
       "    .dataframe tbody tr th:only-of-type {\n",
       "        vertical-align: middle;\n",
       "    }\n",
       "\n",
       "    .dataframe tbody tr th {\n",
       "        vertical-align: top;\n",
       "    }\n",
       "\n",
       "    .dataframe thead th {\n",
       "        text-align: right;\n",
       "    }\n",
       "</style>\n",
       "<table border=\"1\" class=\"dataframe\">\n",
       "  <thead>\n",
       "    <tr style=\"text-align: right;\">\n",
       "      <th></th>\n",
       "      <th>category</th>\n",
       "      <th>media_name</th>\n",
       "      <th>title</th>\n",
       "      <th>origin</th>\n",
       "      <th>ext_sum</th>\n",
       "      <th>abs_sum</th>\n",
       "      <th>size</th>\n",
       "      <th>char_count</th>\n",
       "      <th>year</th>\n",
       "      <th>month</th>\n",
       "      <th>date</th>\n",
       "      <th>readable</th>\n",
       "      <th>accurate</th>\n",
       "      <th>informative</th>\n",
       "      <th>trustworthy</th>\n",
       "    </tr>\n",
       "  </thead>\n",
       "  <tbody>\n",
       "    <tr>\n",
       "      <th>1</th>\n",
       "      <td>종합</td>\n",
       "      <td>광양신문</td>\n",
       "      <td>논 타작물 재배, 2월 말까지 신청하세요</td>\n",
       "      <td>[ha당 조사료 400만원…작물별 차등 지원, 이성훈 sinawi@hanmail.n...</td>\n",
       "      <td>[전라남도가 쌀 과잉문제를 근본적으로 해결하기 위해 올해부터 시행하는 쌀 생산조정제...</td>\n",
       "      <td>[전라남도가 쌀 과잉문제를 근본적으로 해결하기 위해 올해부터 벼를 심었던 논에 벼 ...</td>\n",
       "      <td>small</td>\n",
       "      <td>927</td>\n",
       "      <td>2018</td>\n",
       "      <td>01</td>\n",
       "      <td>05</td>\n",
       "      <td>4</td>\n",
       "      <td>3</td>\n",
       "      <td>3</td>\n",
       "      <td>3</td>\n",
       "    </tr>\n",
       "    <tr>\n",
       "      <th>2</th>\n",
       "      <td>종합</td>\n",
       "      <td>광양신문</td>\n",
       "      <td>여수시, 컬러빌리지 마무리...‘색채와 빛’도시 완성</td>\n",
       "      <td>[8억 투입, 고소천사벽화·자산마을에 색채 입혀, 이성훈 sinawi@hanmail...</td>\n",
       "      <td>[여수시는 원도심 일대에서 추진된 컬러빌리지 사업을 지난해 말 마무리하며 색채와 빛...</td>\n",
       "      <td>[여수시는 컬러빌리지 사업에 8억원을 투입하여 ‘색채와 빛’ 도시를 완성하여 고소천...</td>\n",
       "      <td>small</td>\n",
       "      <td>764</td>\n",
       "      <td>2018</td>\n",
       "      <td>01</td>\n",
       "      <td>05</td>\n",
       "      <td>4</td>\n",
       "      <td>4</td>\n",
       "      <td>5</td>\n",
       "      <td>4</td>\n",
       "    </tr>\n",
       "    <tr>\n",
       "      <th>3</th>\n",
       "      <td>스포츠</td>\n",
       "      <td>광양신문</td>\n",
       "      <td>“새해 정기 받고 올해는 반드시 일내자!”</td>\n",
       "      <td>[전남드래곤즈 해맞이 다짐…선수 영입 활발, 이성훈 sinawi@hanmail.ne...</td>\n",
       "      <td>[임직원과 선수단 모두는 이날 구봉산 정상에 올라 일출을 보며 2018년 구단 목표...</td>\n",
       "      <td>[전남드래곤즈 임직원과 선수단이 4일 구봉산 정상에 올라 일출을 보며 2018년 구...</td>\n",
       "      <td>medium</td>\n",
       "      <td>1066</td>\n",
       "      <td>2018</td>\n",
       "      <td>01</td>\n",
       "      <td>05</td>\n",
       "      <td>4</td>\n",
       "      <td>4</td>\n",
       "      <td>4</td>\n",
       "      <td>4</td>\n",
       "    </tr>\n",
       "    <tr>\n",
       "      <th>4</th>\n",
       "      <td>정치</td>\n",
       "      <td>광양신문</td>\n",
       "      <td>농업인 역량 강화, 새해 실용교육 실시</td>\n",
       "      <td>[11~24일, 매실·감·참다래 등 지역특화작목, 이성훈 sinawi@hanmail...</td>\n",
       "      <td>[광양시는 오는 11일부터 24일까지 농업인교육관과 읍면동 회의실에서 농업인 105...</td>\n",
       "      <td>[광양시는 농업인들의 경쟁력을 높이고, 소득안정을 위해 매실·감·참다래 등 지역특화...</td>\n",
       "      <td>small</td>\n",
       "      <td>746</td>\n",
       "      <td>2018</td>\n",
       "      <td>01</td>\n",
       "      <td>05</td>\n",
       "      <td>4</td>\n",
       "      <td>4</td>\n",
       "      <td>5</td>\n",
       "      <td>4</td>\n",
       "    </tr>\n",
       "    <tr>\n",
       "      <th>5</th>\n",
       "      <td>종합</td>\n",
       "      <td>광양신문</td>\n",
       "      <td>타이완 크루즈관광객 4천여명‘전남’온다</td>\n",
       "      <td>[홍콩 크루즈선사‘아쿠아리우스’ 4, 6월 여수항 입항, 이성훈 sinawi@han...</td>\n",
       "      <td>[전라남도는 올해 4월과 6월 홍콩 크루즈선사 스타크루즈의 5만톤급‘아쿠아리우스’호...</td>\n",
       "      <td>[올해 4월과 6월 두 차례에 걸쳐 타이완의 크루즈 관광객 4000여명이 여수에 입...</td>\n",
       "      <td>small</td>\n",
       "      <td>978</td>\n",
       "      <td>2018</td>\n",
       "      <td>01</td>\n",
       "      <td>05</td>\n",
       "      <td>4</td>\n",
       "      <td>4</td>\n",
       "      <td>4</td>\n",
       "      <td>4</td>\n",
       "    </tr>\n",
       "  </tbody>\n",
       "</table>\n",
       "</div>"
      ],
      "text/plain": [
       "  category media_name                          title  \\\n",
       "1       종합       광양신문         논 타작물 재배, 2월 말까지 신청하세요   \n",
       "2       종합       광양신문  여수시, 컬러빌리지 마무리...‘색채와 빛’도시 완성   \n",
       "3      스포츠       광양신문        “새해 정기 받고 올해는 반드시 일내자!”   \n",
       "4       정치       광양신문          농업인 역량 강화, 새해 실용교육 실시   \n",
       "5       종합       광양신문          타이완 크루즈관광객 4천여명‘전남’온다   \n",
       "\n",
       "                                              origin  \\\n",
       "1  [ha당 조사료 400만원…작물별 차등 지원, 이성훈 sinawi@hanmail.n...   \n",
       "2  [8억 투입, 고소천사벽화·자산마을에 색채 입혀, 이성훈 sinawi@hanmail...   \n",
       "3  [전남드래곤즈 해맞이 다짐…선수 영입 활발, 이성훈 sinawi@hanmail.ne...   \n",
       "4  [11~24일, 매실·감·참다래 등 지역특화작목, 이성훈 sinawi@hanmail...   \n",
       "5  [홍콩 크루즈선사‘아쿠아리우스’ 4, 6월 여수항 입항, 이성훈 sinawi@han...   \n",
       "\n",
       "                                             ext_sum  \\\n",
       "1  [전라남도가 쌀 과잉문제를 근본적으로 해결하기 위해 올해부터 시행하는 쌀 생산조정제...   \n",
       "2  [여수시는 원도심 일대에서 추진된 컬러빌리지 사업을 지난해 말 마무리하며 색채와 빛...   \n",
       "3  [임직원과 선수단 모두는 이날 구봉산 정상에 올라 일출을 보며 2018년 구단 목표...   \n",
       "4  [광양시는 오는 11일부터 24일까지 농업인교육관과 읍면동 회의실에서 농업인 105...   \n",
       "5  [전라남도는 올해 4월과 6월 홍콩 크루즈선사 스타크루즈의 5만톤급‘아쿠아리우스’호...   \n",
       "\n",
       "                                             abs_sum    size char_count  year  \\\n",
       "1  [전라남도가 쌀 과잉문제를 근본적으로 해결하기 위해 올해부터 벼를 심었던 논에 벼 ...   small        927  2018   \n",
       "2  [여수시는 컬러빌리지 사업에 8억원을 투입하여 ‘색채와 빛’ 도시를 완성하여 고소천...   small        764  2018   \n",
       "3  [전남드래곤즈 임직원과 선수단이 4일 구봉산 정상에 올라 일출을 보며 2018년 구...  medium       1066  2018   \n",
       "4  [광양시는 농업인들의 경쟁력을 높이고, 소득안정을 위해 매실·감·참다래 등 지역특화...   small        746  2018   \n",
       "5  [올해 4월과 6월 두 차례에 걸쳐 타이완의 크루즈 관광객 4000여명이 여수에 입...   small        978  2018   \n",
       "\n",
       "  month date  readable  accurate  informative  trustworthy  \n",
       "1    01   05         4         3            3            3  \n",
       "2    01   05         4         4            5            4  \n",
       "3    01   05         4         4            4            4  \n",
       "4    01   05         4         4            5            4  \n",
       "5    01   05         4         4            4            4  "
      ]
     },
     "execution_count": 25,
     "metadata": {},
     "output_type": "execute_result"
    }
   ],
   "source": [
    "df = news[['category','media_name','title','origin','ext_sum','abs_sum','size','char_count','year','month','date','readable','accurate','informative','trustworthy']]\n",
    "df.head()"
   ]
  },
  {
   "cell_type": "code",
   "execution_count": 26,
   "id": "resident-cream",
   "metadata": {},
   "outputs": [
    {
     "name": "stdout",
     "output_type": "stream",
     "text": [
      "832.5040148372859\n",
      "1204.2265018739786\n",
      "1693.9704648430945\n"
     ]
    }
   ],
   "source": [
    "print(df[df['size']=='small']['char_count'].astype(int).mean()) #- size small의 평균 char_count : 833\n",
    "print(df[df['size']=='medium']['char_count'].astype(int).mean()) #- size medium의 평균 char_count : 1204\n",
    "print(df[df['size']=='large']['char_count'].astype(int).mean()) #- size large의 평균 char_count : 1694"
   ]
  },
  {
   "cell_type": "code",
   "execution_count": 27,
   "id": "seven-restoration",
   "metadata": {},
   "outputs": [
    {
     "data": {
      "text/html": [
       "<div>\n",
       "<style scoped>\n",
       "    .dataframe tbody tr th:only-of-type {\n",
       "        vertical-align: middle;\n",
       "    }\n",
       "\n",
       "    .dataframe tbody tr th {\n",
       "        vertical-align: top;\n",
       "    }\n",
       "\n",
       "    .dataframe thead th {\n",
       "        text-align: right;\n",
       "    }\n",
       "</style>\n",
       "<table border=\"1\" class=\"dataframe\">\n",
       "  <thead>\n",
       "    <tr style=\"text-align: right;\">\n",
       "      <th></th>\n",
       "      <th>readable</th>\n",
       "      <th>accurate</th>\n",
       "      <th>informative</th>\n",
       "      <th>trustworthy</th>\n",
       "    </tr>\n",
       "  </thead>\n",
       "  <tbody>\n",
       "    <tr>\n",
       "      <th>count</th>\n",
       "      <td>271093.000000</td>\n",
       "      <td>271093.000000</td>\n",
       "      <td>271093.000000</td>\n",
       "      <td>271093.000000</td>\n",
       "    </tr>\n",
       "    <tr>\n",
       "      <th>mean</th>\n",
       "      <td>3.722745</td>\n",
       "      <td>3.759994</td>\n",
       "      <td>3.546831</td>\n",
       "      <td>3.770592</td>\n",
       "    </tr>\n",
       "    <tr>\n",
       "      <th>std</th>\n",
       "      <td>0.893117</td>\n",
       "      <td>0.849028</td>\n",
       "      <td>0.919150</td>\n",
       "      <td>0.854285</td>\n",
       "    </tr>\n",
       "    <tr>\n",
       "      <th>min</th>\n",
       "      <td>0.000000</td>\n",
       "      <td>0.000000</td>\n",
       "      <td>0.000000</td>\n",
       "      <td>0.000000</td>\n",
       "    </tr>\n",
       "    <tr>\n",
       "      <th>25%</th>\n",
       "      <td>3.000000</td>\n",
       "      <td>3.000000</td>\n",
       "      <td>3.000000</td>\n",
       "      <td>3.000000</td>\n",
       "    </tr>\n",
       "    <tr>\n",
       "      <th>50%</th>\n",
       "      <td>4.000000</td>\n",
       "      <td>4.000000</td>\n",
       "      <td>4.000000</td>\n",
       "      <td>4.000000</td>\n",
       "    </tr>\n",
       "    <tr>\n",
       "      <th>75%</th>\n",
       "      <td>4.000000</td>\n",
       "      <td>4.000000</td>\n",
       "      <td>4.000000</td>\n",
       "      <td>4.000000</td>\n",
       "    </tr>\n",
       "    <tr>\n",
       "      <th>max</th>\n",
       "      <td>5.000000</td>\n",
       "      <td>5.000000</td>\n",
       "      <td>5.000000</td>\n",
       "      <td>5.000000</td>\n",
       "    </tr>\n",
       "  </tbody>\n",
       "</table>\n",
       "</div>"
      ],
      "text/plain": [
       "            readable       accurate    informative    trustworthy\n",
       "count  271093.000000  271093.000000  271093.000000  271093.000000\n",
       "mean        3.722745       3.759994       3.546831       3.770592\n",
       "std         0.893117       0.849028       0.919150       0.854285\n",
       "min         0.000000       0.000000       0.000000       0.000000\n",
       "25%         3.000000       3.000000       3.000000       3.000000\n",
       "50%         4.000000       4.000000       4.000000       4.000000\n",
       "75%         4.000000       4.000000       4.000000       4.000000\n",
       "max         5.000000       5.000000       5.000000       5.000000"
      ]
     },
     "execution_count": 27,
     "metadata": {},
     "output_type": "execute_result"
    }
   ],
   "source": [
    "df.describe()"
   ]
  },
  {
   "cell_type": "code",
   "execution_count": 28,
   "id": "portable-cookie",
   "metadata": {},
   "outputs": [
    {
     "data": {
      "text/plain": [
       "category       0\n",
       "media_name     0\n",
       "title          0\n",
       "origin         0\n",
       "ext_sum        0\n",
       "abs_sum        0\n",
       "size           0\n",
       "char_count     0\n",
       "year           0\n",
       "month          0\n",
       "date           0\n",
       "readable       0\n",
       "accurate       0\n",
       "informative    0\n",
       "trustworthy    0\n",
       "dtype: int64"
      ]
     },
     "execution_count": 28,
     "metadata": {},
     "output_type": "execute_result"
    }
   ],
   "source": [
    "df.isnull().sum()"
   ]
  },
  {
   "cell_type": "markdown",
   "id": "written-paraguay",
   "metadata": {},
   "source": [
    "## document_quality_scores"
   ]
  },
  {
   "cell_type": "code",
   "execution_count": 29,
   "id": "noted-jefferson",
   "metadata": {
    "scrolled": true
   },
   "outputs": [
    {
     "data": {
      "text/plain": [
       "<AxesSubplot:ylabel='Density'>"
      ]
     },
     "execution_count": 29,
     "metadata": {},
     "output_type": "execute_result"
    },
    {
     "data": {
      "image/png": "[encoded data removed]",
      "text/plain": [
       "<Figure size 1440x360 with 1 Axes>"
      ]
     },
     "metadata": {},
     "output_type": "display_data"
    }
   ],
   "source": [
    "df[['readable','accurate','informative','trustworthy']].plot(kind='kde')"
   ]
  },
  {
   "cell_type": "code",
   "execution_count": 30,
   "id": "phantom-honduras",
   "metadata": {},
   "outputs": [],
   "source": [
    "# #- 가독성 4점 이상 (약 16만7천개)\n",
    "# tmp = df[df['readable'] >= 4].reset_index()\n",
    "# tmp.shape\n",
    "\n",
    "# cnt = 0\n",
    "# for i in range(0,tmp.shape[0],100):\n",
    "#     cnt += 1\n",
    "#     print(f\"원문:\\n{tmp['origin'][i]}\\n\\n추출요약:\\n{tmp['ext_sum'][i]}\\n\\n생성요약\\n{tmp['abs_sum'][i]}\")\n",
    "#     if cnt > 5:\n",
    "#         break"
   ]
  },
  {
   "cell_type": "code",
   "execution_count": 31,
   "id": "celtic-ceramic",
   "metadata": {},
   "outputs": [],
   "source": [
    "# #- 가독성 1점 (약 3천4백개)\n",
    "# tmp = df[df['readable'] == 1].reset_index()\n",
    "# print(tmp.shape)\n",
    "\n",
    "# cnt = 0\n",
    "# for i in range(0,tmp.shape[0],100):\n",
    "#     cnt += 1\n",
    "#     print(f\"원문:\\n{tmp['origin'][i]}\\n\\n추출요약:\\n{tmp['ext_sum'][i]}\\n\\n생성요약\\n{tmp['abs_sum'][i]}\")\n",
    "#     if cnt > 5:\n",
    "#         break"
   ]
  },
  {
   "cell_type": "code",
   "execution_count": 32,
   "id": "invisible-princeton",
   "metadata": {
    "scrolled": false
   },
   "outputs": [
    {
     "name": "stdout",
     "output_type": "stream",
     "text": [
      "(104355, 16)\n",
      "원문:\n",
      "['8억 투입, 고소천사벽화·자산마을에 색채 입혀', '이성훈 sinawi@hanmail.net', '여수시는 원도심 일대에서 추진된 컬러빌리지 사업을 지난해 말 마무리하며 색채와 빛의 도시를 완성했다.', '시에 따르면 총 사업비 8억원이 투입된 컬러빌리지 사업은‘낮에는 색채, 밤에는 빛’을 주제로 지난해 초 착공에 들어갔다.', '컬러빌리지는 색채를 이용한 경관개선사업으로 사업완료에 따라 고소천사벽화마을과 자산마을은 알록달록 색깔 옷을 입었다.', '특히 자산마을 주택 70여 동은 동백꽃 색으로 새 단장을 마쳤다.', '마을 옆을 지나는 해상케이블카에서 내려다보면 동백꽃 한 송이가 피어있는 모습으로 SNS 등을 통해 입소문을 타고 있다.', '고소천사벽화마을 주택 130여 동도 지붕은 동백꽃 색, 벽면은 파스텔 톤 색상으로 변신해 이국적인 분위기를 내고 있다.', '마을 내 옹벽과 비탈면은 패턴벽화와 야간조명이 설치돼 포토존으로 인기를 끌고 있다.', '컬러빌리지 사업은 추진 전반에 마을 주민이 적극 참여했다는 점에서 좋은 평가를 받고 있다.', '시는 사업대상이 사유시설인 만큼 계획단계부터 주민들의 의견을 들었다.', '사업 시행과 준공 과정에서도 주민들의 참여를 유도해 민관이 함께 만들어가는 경관사업의 좋은 사례를 만들었다.', '시 관계자는“컬러빌리지 사업은 주민들의 적극적인 관심과 참여가 만들어낸 값진 성과물”이라며“돌산공원, 해상케이블카, 남산공원, 돌산대교 등에서 빛과 색채로 물들어가는 여수의 낭만을 만끽하시기 바란다”고 말했다.']\n",
      "\n",
      "추출요약:\n",
      "['여수시는 원도심 일대에서 추진된 컬러빌리지 사업을 지난해 말 마무리하며 색채와 빛의 도시를 완성했다.', '컬러빌리지는 색채를 이용한 경관개선사업으로 사업완료에 따라 고소천사벽화마을과 자산마을은 알록달록 색깔 옷을 입었다.', '사업 시행과 준공 과정에서도 주민들의 참여를 유도해 민관이 함께 만들어가는 경관사업의 좋은 사례를 만들었다.']\n",
      "\n",
      "생성요약\n",
      "['여수시는 컬러빌리지 사업에 8억원을 투입하여 ‘색채와 빛’ 도시를 완성하여 고소천사벽화마을과 자산마을은 알록달록 색깔 옷을 입었고 사업 시행과 준공 과정에서도 주민들의 참여를 유도해 경관사업의 좋은 사례를 만들었다.']\n",
      "원문:\n",
      "['너비 1미터 남짓…상인들, 비좁은 진열대 놓고‘갈등’', '김영신 기자 yskim0966@naver.com', '매화축제를 전후로 열리고 있는 직거래장터 판매부스 공간이 비좁아 상인들의 불만이 크다.', '너비 1미터 남짓한 진열대 두개가 나란히 들어 선 판매부스는 농산물을 진열하기에도 부족할 뿐 아니라 진열대 사이를 오가며 진열된 상품을 관리하기에도 불편해 상인과 관광객들도 큰 불편을 겪고 있다.', '주민들이 축제기간 중 직거래장터에서 올리는 수익은 하루 평균 20만원에서 30만원으로 농가에 많은 도움이 되고 있다.', '이렇다 보니 물건을 하나라도 더 진열하려는 상인들끼리 아침마다 진열대를 사이에 놓고 갈등을 빚고 있다.', '축제기간 중 매일 주민들의 직거래 장터를 살펴 본 다압면 A이장은 장터를 다녀올 때 마다 속상하다고 말한다.', 'A이장은“마을 어른들이 직거래장터를 열기 위해 아침 9시에 나가서 저녁 6시쯤 마을로 돌아온다.', '좁은 진열대 위에 물건을 하나라도 더 올려놓으려고 아침부터 서로 다투는 모습을 보면 속상하다”고 말했다.', '구경하는 관광객들에게 상품을 설명하려면 같은 판매부스에 나란히 붙어 있는 옆 사람 진열대를 조심스럽게 지나야 하는데 좁은 공간을 오가다 보니 옆 진열대에 놓인 다른 주민의 상품이 바닥으로 떨어지기도 한다.', '식품류는 그나마 키가 작아 괜찮지만 묘목의 경우는 꽃이 떨어지면 상품성이 떨어져 팔수가 없는 상황이다.', '이에 다압면 상인들은“올해는 이미 판매부스를 확정하고 축제를 진행했기 때문에 감수하겠지만 내년 축제부터는 판매부스 공간을 좀 더 넓혀 상인과 관광객들이 불편함 없이 즐거운 마음으로 매화축제를 즐겼으면 좋겠다”고 입을 모았다.', '농특산물 직거래장터는 시와 자매시의 우수 농·특산물을 홍보해 인지도를 높이고 소비 확대를 통한 농가소득증대를 위해 마련됐다.', '농특산물 직거래장터에는 지역농가와 사회적 기업, 마을기업 등 13개 업체와 자매도시인 파주시가 참가한 가운데 지역에서 생산한 우수 농·특산물을 시중보다 저렴하게 판매하고 있다.']\n",
      "\n",
      "추출요약:\n",
      "['너비 1미터 남짓한 진열대 두개가 나란히 들어 선 판매부스는 농산물을 진열하기에도 부족할 뿐 아니라 진열대 사이를 오가며 진열된 상품을 관리하기에도 불편해 상인과 관광객들도 큰 불편을 겪고 있다.', '이렇다 보니 물건을 하나라도 더 진열하려는 상인들끼리 아침마다 진열대를 사이에 놓고 갈등을 빚고 있다.', '구경하는 관광객들에게 상품을 설명하려면 같은 판매부스에 나란히 붙어 있는 옆 사람 진열대를 조심스럽게 지나야 하는데 좁은 공간을 오가다 보니 옆 진열대에 놓인 다른 주민의 상품이 바닥으로 떨어지기도 한다.']\n",
      "\n",
      "생성요약\n",
      "['매화축제를 전후로 열리고 있는 직거래 장터 판매부스는 진열 공간이 부족할 뿐 아니라 관리도 불편해 상인과 관광객들이 불편을 겪고 있다.']\n",
      "원문:\n",
      "['123일간 130곳 540명 기부…“감사드린다”', '이정교 기자 shado262@naver.com', '광양 평화의 소녀상 건립추진위원회가 지난 3월 1일 광양역사문화관 앞에서 제막식을 갖고 광양 평화의 소녀상을 건립한 가운데, 그동안 지역 참여와 과정의 역사가 담긴 건립백서를 발간했다.', '광양평화의소녀상 건립백서', '건립백서에는 발족식부터 시민모금운동 활동사진 및 소녀상 제작과정까지 소녀상과 관련한 모든 기록과 그동안의 추진위 경과보고, 국내외 평화비 건립현황 등이 담겨있다.', '강용재 추진위 상임대표는 발간사를 통해 “위안부 피해 할머니들은 30명도 채 남지 않았다”며 “광양 평화의 소녀상을 통해 위안부 피해 할머니들의 바람을 기억하고‘역사를 기억하는 시민’으로 후손들에게 전해지길 소망한다”고 전했다.', '노성희 집행위원장은“광양 평화의 소녀상은 지역 어린아이의 고사리 같은 손길부터 어르신들의 쌈짓돈이 모여 광양시민의 평화 의지를 보였다”며“무명으로 입금해준 광양시민 한분 한분 모두 감사드린다”고 말했다.', '한편 광양 평화의 소녀상은 지난해 10월 24일 발대식부터 올해 2월까지 123일 동안 지역의 학교와 기업, 기관·단체 등 142곳과 600여명의 개인이 참여해 1억380여만원을 모금했다.', '추진위는 지난 3월 1일 제막식에 이어 같은 달 30일 해단식과 함께 공식 활동을 종료했다.', '발간된 건립백서는 소녀상 모금에 참여했던 지역 내 기관·단체에 배포되며 타 지역에서 후원에 참가한 단체에는 우편으로 발송될 예정이다.']\n",
      "\n",
      "추출요약:\n",
      "['광양 평화의 소녀상 건립추진위원회가 지난 3월 1일 광양역사문화관 앞에서 제막식을 갖고 광양 평화의 소녀상을 건립한 가운데, 그동안 지역 참여와 과정의 역사가 담긴 건립백서를 발간했다.', '건립백서에는 발족식부터 시민모금운동 활동사진 및 소녀상 제작과정까지 소녀상과 관련한 모든 기록과 그동안의 추진위 경과보고, 국내외 평화비 건립현황 등이 담겨있다.', '강용재 추진위 상임대표는 발간사를 통해 “위안부 피해 할머니들은 30명도 채 남지 않았다”며 “광양 평화의 소녀상을 통해 위안부 피해 할머니들의 바람을 기억하고‘역사를 기억하는 시민’으로 후손들에게 전해지길 소망한다”고 전했다.']\n",
      "\n",
      "생성요약\n",
      "['광양 평화의 소녀상 건립추진위원회가 평화의 소녀상 건립과 더불어 소녀상 제작과정 및 이와 관련된 모든 기록들을 담은 건립백서를 발간하였다.']\n",
      "원문:\n",
      "['푸조?홍가시나무 식재…감성 관광지 각광‘기대’', '김영신 기자 yskim@gynet.co.kr', '매화축제가 열리는 섬진강변 매화마을 입구인 다압면 신원 둔치 제방도로에 명품 가로수길이 준공됐다.', '이번에 조성한 가로수길은‘섬진강 뱃길 복원 및 수상레저 기반 조성사업’의 일환으로 국비 50%를 포함한 총 사업비 7억9700만원의 예산이 투입됐다.', '시에 따르면 매화마을로 가는 길목 약 1km에 신원제방 제내지(하천 제방 안) 쪽으로 우리나라 고유 전통수종인 푸조나무와 상록수인 홍가시나무를 조화롭게 식재했다.', '특히 이번에 조성한 명품 가로수길이 둔치주차장에 주차해 매화마을로 이동하는 관광객들에게 섬진강변과 어우러진 또 다른 볼거리를 제공할 것으로 기대하고 있다.', '더나가 기존의 좁은 인도와 도로가 인접해 있어 교통흐름 방해와 사고 위험이 있었지만, 가로수길 조성으로 내년 봄 축제기간에는 교통흐름이 좀 더 원활해지는 만큼, 관광객들이 안전하게 축제장으로 이동할 수 있을 것으로 보고 있다.', '시는 명품 가로수길을 잘 가꿔 사계절 가족과 연인이 함께 찾는 대표적인 감성 관광지의 하나로 자리매김 될 수 있도록 발전시켜 나갈 계획이다.', '손봉호 관광시설팀장은“이번에 조성한 명품 가로수길이 섬진강변 라이더와 매화마을을 찾는 관광객들에게 특색 있는 힐링공간으로 사랑받게 될 것”이라며“내년에 섬진강뱃길복원사업이 마무리 되면 망덕포구에서 다압면 일대까지의 섬진강 하류지역이 관광과 레포츠를 즐길 수 있는 거점으로 부상하게 될 것으로 기대 한다”고 말했다.', '한편‘섬진강 뱃길복원 및 수상레저 기반 조성사업’은 섬진강의 천혜 자연관광 자원을 활용한 동서통합의 상징지대로 만들기 위해 광양시·하동군·구례군이 총 사업비 200억원을 투입해 추진하고 있다.', '또한 이번 사업에서 85억원을 투입해 나루터 복원 3개소, 수변쉼터, 강수욕장, MTB체험장, 가로수길 등도 조성 중에 있으며, 내년에는 최근 특허공법 심사를 마친 망덕산~배알도수변공원 간 짚와이어 설치를 끝으로 모든 사업을 마무리할 계획이다.', '김영신 기자']\n",
      "\n",
      "추출요약:\n",
      "['매화축제가 열리는 섬진강변 매화마을 입구인 다압면 신원 둔치 제방도로에 명품 가로수길이 준공됐다.', '시에 따르면 매화마을로 가는 길목 약 1km에 신원제방 제내지(하천 제방 안) 쪽으로 우리나라 고유 전통수종인 푸조나무와 상록수인 홍가시나무를 조화롭게 식재했다.', '특히 이번에 조성한 명품 가로수길이 둔치주차장에 주차해 매화마을로 이동하는 관광객들에게 섬진강변과 어우러진 또 다른 볼거리를 제공할 것으로 기대하고 있다.']\n",
      "\n",
      "생성요약\n",
      "['시는 다압면 신원 둔치 제방도로에 푸조나무와 홍가시나무를 조화롭게 식재해 명품 가로수길을 준공하였으며 이는 관광객들에게 또 다른 볼거리를 공유할 수 있다는 기대를 사고 있다.']\n",
      "원문:\n",
      "['김호 기자 호수 805 중도 퇴사 공실…지난 1일부터 선착순 4명', '광양시가 2019년도 광양학사 입사생 수시 모집에 들어갔다.', '시는 지난 2월 정기모집으로 광양학사에 입사한 학생들이 중도 퇴사함에 따라 발생한 공실 2실 총 4명을 수시 모집한다.', '접수기간은 지난 1일부터 선착순으로 운영되고, 입사원서는 시청 교육보육과로 방문 제출하면 된다.', '자격 요건은 선발공고일 기준 부모 또는 보호자가 광양에 주민등록이 되어 있으면서 실제 거주해야 하며, 서울과 경기, 인천소재 2년제 이상 대학교 신입생, 재학생, 대학원생 누구나 가능하다.', '또한 지방대학생이 서울과 경기·인천 소재 2년제 이상 대학교에 1학기 이상 교환 학생으로 재학할 경우와 학업뿐만 아니라 취업관련 연수 또는 실습을 6개월 이상 받을 경우에도 지원신청 가능하다.', '이 밖에도 ‘광양시 향우회 교류 및 지원에 관한 조례’에서 규정하고 있는 향우회 회원 자녀, 서울 및 경인권 소재 입시전문학원에 등록해 대학수학능력시험에 응시 예정인 입시 준비생도 가능하다.', '자세한 사항은 광양시청 홈페이지 공지사항 및 고시·공고란을 통해 확인할 수 있으며, 시청 교육보육과로 문의하면 된다.', '한편 광양학사는 서울시와 광양시 등 전국의 18개 지자체가 참여해 건립한 공공기숙사로 총 193호실을 갖추고 2인/1실 원룸 형태로 구분되어 있다.', '부대시설로는 체력단련실, 도서관, 컴퓨터실, 게스트하우스 등이 있다.', '특히 지하철 5호선 마곡역에서 도보로 10여분 거리에 위치해 1시간 이내에 주요 대학까지 이동 가능하고, 기숙사 주변은 대단위 공동주택과 공원이 조성돼 주거 및 면학 환경에 있어 안전성과 쾌적성을 모두 갖춘 곳이다.']\n",
      "\n",
      "추출요약:\n",
      "['광양시가 2019년도 광양학사 입사생 수시 모집에 들어갔다.', '시는 지난 2월 정기모집으로 광양학사에 입사한 학생들이 중도 퇴사함에 따라 발생한 공실 2실 총 4명을 수시 모집한다.', '자격 요건은 선발공고일 기준 부모 또는 보호자가 광양에 주민등록이 되어 있으면서 실제 거주해야 하며, 서울과 경기, 인천소재 2년제 이상 대학교 신입생, 재학생, 대학원생 누구나 가능하다.']\n",
      "\n",
      "생성요약\n",
      "['광양시가 마곡역에 위치한 광양학사에서 서울,경기, 인천 소재 대학,대학원에 재학중인 광양학생 4명을 수시모집한다고 밝혔다. ']\n",
      "원문:\n",
      "['김호 기자', '부실한 광양시 사업추진 도마', '주민설명회 생략‘행정력 낭비’', '백 의원“주민 입장 정책”주문', '市 “집단민원 거울삼아 소통강화”', '광양시가 지역민 등 이해관계가 얽힌 사업을 진행하는 과정에서 주민을 대상으로 한 사업설명회가 부실해 불필요한 민원 자초 등 행정력 낭비로 이어지고 있다는 지적이다.', '주민설명회가 의무가 아니거나 불필요한 과정이라고 할지라도 민원발생이 예상되는 경우에는 설명회나 주민을 설득하는 절차가 이뤄지는 게 맞는 민원 대응 방법이라는 것이다.', '즉 행정의 업무처리에 대해 그동안 수차례 강조돼 온‘향후에라도 민원 발생이 예상될 경우를 대비해 적극적으로 대응하라’는 원칙을 지키지 못한 것이 원인으로 지적되고 있다.', '더나가 민원 발생이 수요자 중심의 정책이 아닌 공급자의 편의 중심 정책을 펼치는 과정에서 발생한다는 점에서 대민업무 개선 대책이 필요하다는 목소리도 나오고 있다.', '최근 들어 하루가 멀다 하고 벌어지는 시청 앞 집회나 현수막 게첨이 이어지는 것과 무관하지 않다는 주장이다.', '특히 이해가 얽혀 있는 주민들이 행정에 대한 소통 부재를 주장하며 시청 앞 뿐 아니라 위험한 도로 가두행진을 불사하고 있는 등 문제가 커지는 상황에서 행정의 중재 역할 및 민원 해결 의지가 더욱 아쉽다는 지적이다.', '이 같은 주장은 지난 24일 열린 281회 광양시의회 임시회 시정질의에서 나왔다.', '이날 시정질의에 나선 백성호 의원은 시를 상대로 올 들어 제기됐거나, 제기 중인 민원인 △광양칠성지구 청년행복주택 건립사업 △광양중동지구 행복주택 건립사업 △진월면 송현마을 태양광 발전사업 △중앙초 및 동광양중 앞 육교철거사업 △중마동 영주교회 입구 주차장 조성사업 등에 대해 날카롭게 질문했다.', '백 의원은 광양칠성지구 청년행복주택 건립사업 등 집단민원에 부딪혀 사업 추진이 지연되고 있는 사업들을 지적했다.', '백 의원은“지난해 9월부터 해당 지구의 각종 사전 행정절차가 일사천리로 진행되는 과정에서 주민들에게 알리지 않아 정작 해당 주민들은 아무것도 모르고 있었다는 것이 가장 큰 문제”라며 광양시의 소통부재를 꼬집었다.', '답변자로 나선 광양시 문병한 안전도시국장은“해당 사업은 국토부 사업으로 관계법령상 사업후보지 선정 전엔 부동산 투기 등 사업보안을 위해 주민설명회를 실시하지 않는다는 규정에 따랐다”고 해명했다.', '백 의원은“이해관계가 있는 당사자들이 모르고 있었다는 게 문제”라며 “국토부에서 알리지 말라 해도 이미 부동산들은 다 알고 있었다.', '처음부터 당사자들과 충분히 공유하고 소통했다면 문제가 발생하지 않았을 것이고 행정력 낭비도 막았을 것”이라고 말했다.', '이어 중동지구 청년행복주택 등 민원으로 지연되고 있는 사업들에 대해서도 쓴 소리를 쏟아냈다.', '백 의원은“민원이 우려되면 해당 주민들과 사전에 충분히 소통하고 공감해야 한다”며“공무원도 시민도 민원으로 인한 피로도가 계속 쌓여가는 만큼 주민 설득은 반드시 필요한 사항”이라고 말했다.', '또한“결국 현재 시청 앞 집회가 끊이지 않고 이어지는 이유는 행정이 이해관계인들이나 민원인들과 소통이 부족한 데서 오는 것”이라며“좀 더디더라도 주민들과 충분히 소통해 달라”고 주문했다.', '문 국장은“이번 집단민원을 거울삼아 이후부터는 법령에 관련규정이 없다고 하더라도 사업시행 전에 반상회 등을 통해 주민과 소통하는 방안을 강구해 나가겠다”며“특히 정부정책에 대한 홍보 강화 및 현장여건을 고려해 주민들의 의견이 충분히 반영되도록 인허가 업무에도 최선을 다하겠다”고 밝혔다.']\n",
      "\n",
      "추출요약:\n",
      "['최근 들어 하루가 멀다 하고 벌어지는 시청 앞 집회나 현수막 게첨이 이어지는 것과 무관하지 않다는 주장이다.', '특히 이해가 얽혀 있는 주민들이 행정에 대한 소통 부재를 주장하며 시청 앞 뿐 아니라 위험한 도로 가두행진을 불사하고 있는 등 문제가 커지는 상황에서 행정의 중재 역할 및 민원 해결 의지가 더욱 아쉽다는 지적이다.', '이 같은 주장은 지난 24일 열린 281회 광양시의회 임시회 시정질의에서 나왔다.']\n",
      "\n",
      "생성요약\n",
      "['지난 24일 광양시의회임시회 시정질의에서 시청 앞 집회나 현수막 게첨의 이유가 주민들과의 소통 부재라는 의견이 나왔다.']\n"
     ]
    }
   ],
   "source": [
    "#- 모든 스코어 4점 이상 (약 10만4천개)\n",
    "tmp = df[(df['readable'] >= 4) & (df['accurate'] >= 4) & (df['informative'] >= 4) & (df['trustworthy'] >= 4)].reset_index()\n",
    "print(tmp.shape)\n",
    "\n",
    "cnt = 0\n",
    "for i in range(0,tmp.shape[0],100):\n",
    "    cnt += 1\n",
    "    print(f\"원문:\\n{tmp['origin'][i]}\\n\\n추출요약:\\n{tmp['ext_sum'][i]}\\n\\n생성요약\\n{tmp['abs_sum'][i]}\")\n",
    "    if cnt > 5:\n",
    "        break"
   ]
  },
  {
   "cell_type": "code",
   "execution_count": 33,
   "id": "daily-somerset",
   "metadata": {
    "scrolled": true
   },
   "outputs": [
    {
     "data": {
      "text/html": [
       "<div>\n",
       "<style scoped>\n",
       "    .dataframe tbody tr th:only-of-type {\n",
       "        vertical-align: middle;\n",
       "    }\n",
       "\n",
       "    .dataframe tbody tr th {\n",
       "        vertical-align: top;\n",
       "    }\n",
       "\n",
       "    .dataframe thead th {\n",
       "        text-align: right;\n",
       "    }\n",
       "</style>\n",
       "<table border=\"1\" class=\"dataframe\">\n",
       "  <thead>\n",
       "    <tr style=\"text-align: right;\">\n",
       "      <th></th>\n",
       "      <th>index</th>\n",
       "      <th>category</th>\n",
       "      <th>media_name</th>\n",
       "      <th>title</th>\n",
       "      <th>origin</th>\n",
       "      <th>ext_sum</th>\n",
       "      <th>abs_sum</th>\n",
       "      <th>size</th>\n",
       "      <th>char_count</th>\n",
       "      <th>year</th>\n",
       "      <th>month</th>\n",
       "      <th>date</th>\n",
       "      <th>readable</th>\n",
       "      <th>accurate</th>\n",
       "      <th>informative</th>\n",
       "      <th>trustworthy</th>\n",
       "    </tr>\n",
       "  </thead>\n",
       "  <tbody>\n",
       "    <tr>\n",
       "      <th>0</th>\n",
       "      <td>2</td>\n",
       "      <td>종합</td>\n",
       "      <td>광양신문</td>\n",
       "      <td>여수시, 컬러빌리지 마무리...‘색채와 빛’도시 완성</td>\n",
       "      <td>[8억 투입, 고소천사벽화·자산마을에 색채 입혀, 이성훈 sinawi@hanmail...</td>\n",
       "      <td>[여수시는 원도심 일대에서 추진된 컬러빌리지 사업을 지난해 말 마무리하며 색채와 빛...</td>\n",
       "      <td>[여수시는 컬러빌리지 사업에 8억원을 투입하여 ‘색채와 빛’ 도시를 완성하여 고소천...</td>\n",
       "      <td>small</td>\n",
       "      <td>764</td>\n",
       "      <td>2018</td>\n",
       "      <td>01</td>\n",
       "      <td>05</td>\n",
       "      <td>4</td>\n",
       "      <td>4</td>\n",
       "      <td>5</td>\n",
       "      <td>4</td>\n",
       "    </tr>\n",
       "    <tr>\n",
       "      <th>1</th>\n",
       "      <td>3</td>\n",
       "      <td>스포츠</td>\n",
       "      <td>광양신문</td>\n",
       "      <td>“새해 정기 받고 올해는 반드시 일내자!”</td>\n",
       "      <td>[전남드래곤즈 해맞이 다짐…선수 영입 활발, 이성훈 sinawi@hanmail.ne...</td>\n",
       "      <td>[임직원과 선수단 모두는 이날 구봉산 정상에 올라 일출을 보며 2018년 구단 목표...</td>\n",
       "      <td>[전남드래곤즈 임직원과 선수단이 4일 구봉산 정상에 올라 일출을 보며 2018년 구...</td>\n",
       "      <td>medium</td>\n",
       "      <td>1066</td>\n",
       "      <td>2018</td>\n",
       "      <td>01</td>\n",
       "      <td>05</td>\n",
       "      <td>4</td>\n",
       "      <td>4</td>\n",
       "      <td>4</td>\n",
       "      <td>4</td>\n",
       "    </tr>\n",
       "    <tr>\n",
       "      <th>2</th>\n",
       "      <td>4</td>\n",
       "      <td>정치</td>\n",
       "      <td>광양신문</td>\n",
       "      <td>농업인 역량 강화, 새해 실용교육 실시</td>\n",
       "      <td>[11~24일, 매실·감·참다래 등 지역특화작목, 이성훈 sinawi@hanmail...</td>\n",
       "      <td>[광양시는 오는 11일부터 24일까지 농업인교육관과 읍면동 회의실에서 농업인 105...</td>\n",
       "      <td>[광양시는 농업인들의 경쟁력을 높이고, 소득안정을 위해 매실·감·참다래 등 지역특화...</td>\n",
       "      <td>small</td>\n",
       "      <td>746</td>\n",
       "      <td>2018</td>\n",
       "      <td>01</td>\n",
       "      <td>05</td>\n",
       "      <td>4</td>\n",
       "      <td>4</td>\n",
       "      <td>5</td>\n",
       "      <td>4</td>\n",
       "    </tr>\n",
       "    <tr>\n",
       "      <th>3</th>\n",
       "      <td>5</td>\n",
       "      <td>종합</td>\n",
       "      <td>광양신문</td>\n",
       "      <td>타이완 크루즈관광객 4천여명‘전남’온다</td>\n",
       "      <td>[홍콩 크루즈선사‘아쿠아리우스’ 4, 6월 여수항 입항, 이성훈 sinawi@han...</td>\n",
       "      <td>[전라남도는 올해 4월과 6월 홍콩 크루즈선사 스타크루즈의 5만톤급‘아쿠아리우스’호...</td>\n",
       "      <td>[올해 4월과 6월 두 차례에 걸쳐 타이완의 크루즈 관광객 4000여명이 여수에 입...</td>\n",
       "      <td>small</td>\n",
       "      <td>978</td>\n",
       "      <td>2018</td>\n",
       "      <td>01</td>\n",
       "      <td>05</td>\n",
       "      <td>4</td>\n",
       "      <td>4</td>\n",
       "      <td>4</td>\n",
       "      <td>4</td>\n",
       "    </tr>\n",
       "    <tr>\n",
       "      <th>4</th>\n",
       "      <td>6</td>\n",
       "      <td>정치</td>\n",
       "      <td>광양신문</td>\n",
       "      <td>읍면동 주민센터, 일자리 안정자금 접수</td>\n",
       "      <td>[30인 미만 중소기업 등 사업주에 월 13만원 지급, 이성훈 sinawi@hanm...</td>\n",
       "      <td>[광양시는 정부가 2018년 1월 1일부터 시행하는 일자리 안정자금 신청을 12개 ...</td>\n",
       "      <td>[광양시는 30인 미만 중소기업 등 사업주에 1인당 월 13만원씩 지급하는 일자리 ...</td>\n",
       "      <td>small</td>\n",
       "      <td>953</td>\n",
       "      <td>2018</td>\n",
       "      <td>01</td>\n",
       "      <td>05</td>\n",
       "      <td>4</td>\n",
       "      <td>4</td>\n",
       "      <td>5</td>\n",
       "      <td>4</td>\n",
       "    </tr>\n",
       "  </tbody>\n",
       "</table>\n",
       "</div>"
      ],
      "text/plain": [
       "   index category media_name                          title  \\\n",
       "0      2       종합       광양신문  여수시, 컬러빌리지 마무리...‘색채와 빛’도시 완성   \n",
       "1      3      스포츠       광양신문        “새해 정기 받고 올해는 반드시 일내자!”   \n",
       "2      4       정치       광양신문          농업인 역량 강화, 새해 실용교육 실시   \n",
       "3      5       종합       광양신문          타이완 크루즈관광객 4천여명‘전남’온다   \n",
       "4      6       정치       광양신문          읍면동 주민센터, 일자리 안정자금 접수   \n",
       "\n",
       "                                              origin  \\\n",
       "0  [8억 투입, 고소천사벽화·자산마을에 색채 입혀, 이성훈 sinawi@hanmail...   \n",
       "1  [전남드래곤즈 해맞이 다짐…선수 영입 활발, 이성훈 sinawi@hanmail.ne...   \n",
       "2  [11~24일, 매실·감·참다래 등 지역특화작목, 이성훈 sinawi@hanmail...   \n",
       "3  [홍콩 크루즈선사‘아쿠아리우스’ 4, 6월 여수항 입항, 이성훈 sinawi@han...   \n",
       "4  [30인 미만 중소기업 등 사업주에 월 13만원 지급, 이성훈 sinawi@hanm...   \n",
       "\n",
       "                                             ext_sum  \\\n",
       "0  [여수시는 원도심 일대에서 추진된 컬러빌리지 사업을 지난해 말 마무리하며 색채와 빛...   \n",
       "1  [임직원과 선수단 모두는 이날 구봉산 정상에 올라 일출을 보며 2018년 구단 목표...   \n",
       "2  [광양시는 오는 11일부터 24일까지 농업인교육관과 읍면동 회의실에서 농업인 105...   \n",
       "3  [전라남도는 올해 4월과 6월 홍콩 크루즈선사 스타크루즈의 5만톤급‘아쿠아리우스’호...   \n",
       "4  [광양시는 정부가 2018년 1월 1일부터 시행하는 일자리 안정자금 신청을 12개 ...   \n",
       "\n",
       "                                             abs_sum    size char_count  year  \\\n",
       "0  [여수시는 컬러빌리지 사업에 8억원을 투입하여 ‘색채와 빛’ 도시를 완성하여 고소천...   small        764  2018   \n",
       "1  [전남드래곤즈 임직원과 선수단이 4일 구봉산 정상에 올라 일출을 보며 2018년 구...  medium       1066  2018   \n",
       "2  [광양시는 농업인들의 경쟁력을 높이고, 소득안정을 위해 매실·감·참다래 등 지역특화...   small        746  2018   \n",
       "3  [올해 4월과 6월 두 차례에 걸쳐 타이완의 크루즈 관광객 4000여명이 여수에 입...   small        978  2018   \n",
       "4  [광양시는 30인 미만 중소기업 등 사업주에 1인당 월 13만원씩 지급하는 일자리 ...   small        953  2018   \n",
       "\n",
       "  month date  readable  accurate  informative  trustworthy  \n",
       "0    01   05         4         4            5            4  \n",
       "1    01   05         4         4            4            4  \n",
       "2    01   05         4         4            5            4  \n",
       "3    01   05         4         4            4            4  \n",
       "4    01   05         4         4            5            4  "
      ]
     },
     "execution_count": 33,
     "metadata": {},
     "output_type": "execute_result"
    }
   ],
   "source": [
    "tmp.head()"
   ]
  },
  {
   "cell_type": "code",
   "execution_count": 34,
   "id": "classical-article",
   "metadata": {},
   "outputs": [],
   "source": [
    "#- 모든 score 4 이상인 데이터 \n",
    "df_filtered = tmp"
   ]
  },
  {
   "cell_type": "markdown",
   "id": "documentary-cotton",
   "metadata": {},
   "source": [
    "## size\n",
    "- 모든 score 4 이상 & size small & char_count 평균 833 : 약 5만 4천개"
   ]
  },
  {
   "cell_type": "code",
   "execution_count": 35,
   "id": "parental-change",
   "metadata": {
    "scrolled": true
   },
   "outputs": [],
   "source": [
    "# #- size small 약 5만 4천 개 \n",
    "# tmp = df_filtered[df_filtered['size'] == 'small'].reset_index()\n",
    "# print(tmp.shape)\n",
    "\n",
    "# cnt = 0\n",
    "# for i in range(0,tmp.shape[0],100):\n",
    "#     cnt += 1\n",
    "#     print(f\"원문:\\n{tmp['origin'][i]}\\n\\n글자수:{tmp['char_count'][i]}\\n\\n추출요약:\\n{tmp['ext_sum'][i]}\\n\\n생성요약\\n{tmp['abs_sum'][i]}\")\n",
    "#     if cnt > 5:\n",
    "#         break"
   ]
  },
  {
   "cell_type": "code",
   "execution_count": 36,
   "id": "desperate-buddy",
   "metadata": {},
   "outputs": [],
   "source": [
    "# #- size medium ; 약 4만 개\n",
    "# tmp = df_filtered[df_filtered['size'] == 'medium'].reset_index()\n",
    "# print(tmp.shape)\n",
    "\n",
    "# cnt = 0\n",
    "# for i in range(0,tmp.shape[0],100):\n",
    "#     cnt += 1\n",
    "#     print(f\"원문:\\n{tmp['origin'][i]}\\n\\n글자수:{tmp['char_count'][i]}\\n\\n추출요약:\\n{tmp['ext_sum'][i]}\\n\\n생성요약\\n{tmp['abs_sum'][i]}\")\n",
    "#     if cnt > 5:\n",
    "#         break"
   ]
  },
  {
   "cell_type": "code",
   "execution_count": 37,
   "id": "formed-spain",
   "metadata": {},
   "outputs": [],
   "source": [
    "# #- size large ; 약 1만 천개\n",
    "# tmp = df_filtered[df_filtered['size'] == 'large'].reset_index()\n",
    "# print(tmp.shape)\n",
    "\n",
    "# cnt = 0\n",
    "# for i in range(0,tmp.shape[0],100):\n",
    "#     cnt += 1\n",
    "#     print(f\"원문:\\n{tmp['origin'][i]}\\n\\n글자수:{tmp['char_count'][i]}\\n\\n추출요약:\\n{tmp['ext_sum'][i]}\\n\\n생성요약\\n{tmp['abs_sum'][i]}\\n\\n\")\n",
    "#     if cnt > 5:\n",
    "#         break"
   ]
  },
  {
   "cell_type": "markdown",
   "id": "super-jonathan",
   "metadata": {},
   "source": [
    "# Mecab()\n",
    "- https://konlpy.org/ko/latest/install/#ubuntu\n",
    "- https://bitbucket.org/eunjeon/mecab-ko-dic/src/master/"
   ]
  },
  {
   "cell_type": "code",
   "execution_count": 38,
   "id": "published-certification",
   "metadata": {},
   "outputs": [],
   "source": [
    "# #- Install dependencies\n",
    "# ! Install Java 1.8 or up\n",
    "# ! sudo apt-get install g++ openjdk-8-jdk python3-dev python3-pip curl"
   ]
  },
  {
   "cell_type": "code",
   "execution_count": 39,
   "id": "visible-melissa",
   "metadata": {},
   "outputs": [],
   "source": [
    "# #- Install KoNLPy\n",
    "# ! python3 -m pip install --upgrade pip\n",
    "# ! python3 -m pip install konlpy       # Python 3.x"
   ]
  },
  {
   "cell_type": "code",
   "execution_count": 40,
   "id": "foreign-denial",
   "metadata": {},
   "outputs": [],
   "source": [
    "# #- mecab 설치\n",
    "# ! sudo apt-get install curl git\n",
    "# ! bash <(curl -s https://raw.githubusercontent.com/konlpy/konlpy/master/scripts/mecab.sh)\n"
   ]
  },
  {
   "cell_type": "markdown",
   "id": "objective-pierce",
   "metadata": {},
   "source": [
    "```python\n",
    ">>> # MeCab installation needed\n",
    ">>> from konlpy.tag import Mecab\n",
    ">>> mecab = Mecab()\n",
    ">>> print(mecab.morphs(u'영등포구청역에 있는 맛집 좀 알려주세요.'))\n",
    "['영등포구', '청역', '에', '있', '는', '맛집', '좀', '알려', '주', '세요', '.']\n",
    ">>> print(mecab.nouns(u'우리나라에는 무릎 치료를 잘하는 정형외과가 없는가!'))\n",
    "['우리', '나라', '무릎', '치료', '정형외과']\n",
    ">>> print(mecab.pos(u'자연주의 쇼핑몰은 어떤 곳인가?'))\n",
    "[('자연', 'NNG'), ('주', 'NNG'), ('의', 'JKG'), ('쇼핑몰', 'NNG'), ('은', 'JX'), ('어떤', 'MM'), ('곳', 'NNG'), ('인가', 'VCP+EF'), ('?', 'SF')]\n",
    "```"
   ]
  },
  {
   "cell_type": "code",
   "execution_count": 41,
   "id": "responsible-chemistry",
   "metadata": {},
   "outputs": [
    {
     "data": {
      "text/html": [
       "<div>\n",
       "<style scoped>\n",
       "    .dataframe tbody tr th:only-of-type {\n",
       "        vertical-align: middle;\n",
       "    }\n",
       "\n",
       "    .dataframe tbody tr th {\n",
       "        vertical-align: top;\n",
       "    }\n",
       "\n",
       "    .dataframe thead th {\n",
       "        text-align: right;\n",
       "    }\n",
       "</style>\n",
       "<table border=\"1\" class=\"dataframe\">\n",
       "  <thead>\n",
       "    <tr style=\"text-align: right;\">\n",
       "      <th></th>\n",
       "      <th>ext_sum</th>\n",
       "      <th>abs_sum</th>\n",
       "    </tr>\n",
       "  </thead>\n",
       "  <tbody>\n",
       "    <tr>\n",
       "      <th>0</th>\n",
       "      <td>[여수시는 원도심 일대에서 추진된 컬러빌리지 사업을 지난해 말 마무리하며 색채와 빛...</td>\n",
       "      <td>[여수시는 컬러빌리지 사업에 8억원을 투입하여 ‘색채와 빛’ 도시를 완성하여 고소천...</td>\n",
       "    </tr>\n",
       "    <tr>\n",
       "      <th>1</th>\n",
       "      <td>[임직원과 선수단 모두는 이날 구봉산 정상에 올라 일출을 보며 2018년 구단 목표...</td>\n",
       "      <td>[전남드래곤즈 임직원과 선수단이 4일 구봉산 정상에 올라 일출을 보며 2018년 구...</td>\n",
       "    </tr>\n",
       "    <tr>\n",
       "      <th>2</th>\n",
       "      <td>[광양시는 오는 11일부터 24일까지 농업인교육관과 읍면동 회의실에서 농업인 105...</td>\n",
       "      <td>[광양시는 농업인들의 경쟁력을 높이고, 소득안정을 위해 매실·감·참다래 등 지역특화...</td>\n",
       "    </tr>\n",
       "    <tr>\n",
       "      <th>3</th>\n",
       "      <td>[전라남도는 올해 4월과 6월 홍콩 크루즈선사 스타크루즈의 5만톤급‘아쿠아리우스’호...</td>\n",
       "      <td>[올해 4월과 6월 두 차례에 걸쳐 타이완의 크루즈 관광객 4000여명이 여수에 입...</td>\n",
       "    </tr>\n",
       "    <tr>\n",
       "      <th>4</th>\n",
       "      <td>[광양시는 정부가 2018년 1월 1일부터 시행하는 일자리 안정자금 신청을 12개 ...</td>\n",
       "      <td>[광양시는 30인 미만 중소기업 등 사업주에 1인당 월 13만원씩 지급하는 일자리 ...</td>\n",
       "    </tr>\n",
       "  </tbody>\n",
       "</table>\n",
       "</div>"
      ],
      "text/plain": [
       "                                             ext_sum  \\\n",
       "0  [여수시는 원도심 일대에서 추진된 컬러빌리지 사업을 지난해 말 마무리하며 색채와 빛...   \n",
       "1  [임직원과 선수단 모두는 이날 구봉산 정상에 올라 일출을 보며 2018년 구단 목표...   \n",
       "2  [광양시는 오는 11일부터 24일까지 농업인교육관과 읍면동 회의실에서 농업인 105...   \n",
       "3  [전라남도는 올해 4월과 6월 홍콩 크루즈선사 스타크루즈의 5만톤급‘아쿠아리우스’호...   \n",
       "4  [광양시는 정부가 2018년 1월 1일부터 시행하는 일자리 안정자금 신청을 12개 ...   \n",
       "\n",
       "                                             abs_sum  \n",
       "0  [여수시는 컬러빌리지 사업에 8억원을 투입하여 ‘색채와 빛’ 도시를 완성하여 고소천...  \n",
       "1  [전남드래곤즈 임직원과 선수단이 4일 구봉산 정상에 올라 일출을 보며 2018년 구...  \n",
       "2  [광양시는 농업인들의 경쟁력을 높이고, 소득안정을 위해 매실·감·참다래 등 지역특화...  \n",
       "3  [올해 4월과 6월 두 차례에 걸쳐 타이완의 크루즈 관광객 4000여명이 여수에 입...  \n",
       "4  [광양시는 30인 미만 중소기업 등 사업주에 1인당 월 13만원씩 지급하는 일자리 ...  "
      ]
     },
     "execution_count": 41,
     "metadata": {},
     "output_type": "execute_result"
    }
   ],
   "source": [
    "pair_data = df_filtered[['ext_sum','abs_sum']]\n",
    "pair_data.head()"
   ]
  },
  {
   "cell_type": "code",
   "execution_count": 42,
   "id": "dying-dealer",
   "metadata": {},
   "outputs": [],
   "source": [
    "from konlpy.tag import Mecab\n",
    "mecab = Mecab()"
   ]
  },
  {
   "cell_type": "code",
   "execution_count": 43,
   "id": "sharp-validity",
   "metadata": {},
   "outputs": [
    {
     "data": {
      "text/plain": [
       "(104355, 2)"
      ]
     },
     "execution_count": 43,
     "metadata": {},
     "output_type": "execute_result"
    }
   ],
   "source": [
    " pair_data.shape"
   ]
  },
  {
   "cell_type": "code",
   "execution_count": 44,
   "id": "neither-while",
   "metadata": {},
   "outputs": [
    {
     "name": "stdout",
     "output_type": "stream",
     "text": [
      "여수시는 컬러빌리지 사업에 8억원을 투입하여 ‘색채와 빛’ 도시를 완성하여 고소천사벽화마을과 자산마을은 알록달록 색깔 옷을 입었고 사업 시행과 준공 과정에서도 주민들의 참여를 유도해 경관사업의 좋은 사례를 만들었다.\n"
     ]
    }
   ],
   "source": [
    "print(pair_data.abs_sum[0][0])"
   ]
  },
  {
   "cell_type": "code",
   "execution_count": 45,
   "id": "military-liberia",
   "metadata": {},
   "outputs": [
    {
     "name": "stdout",
     "output_type": "stream",
     "text": [
      "['여수시', '는', '컬러', '빌리지', '사업', '에', '8', '억', '원', '을', '투입', '하', '여', '‘', '색채', '와', '빛', '’', '도시', '를', '완성', '하', '여', '고소', '천사', '벽화', '마을', '과', '자산', '마을', '은', '알록달록', '색깔', '옷', '을', '입', '었', '고', '사업', '시행', '과', '준공', '과정', '에서', '도', '주민', '들', '의', '참여', '를', '유도', '해', '경관', '사업', '의', '좋', '은', '사례', '를', '만들', '었', '다', '.']\n"
     ]
    }
   ],
   "source": [
    "print(mecab.morphs(pair_data.abs_sum[0][0]))"
   ]
  },
  {
   "cell_type": "code",
   "execution_count": 46,
   "id": "pending-creativity",
   "metadata": {},
   "outputs": [
    {
     "name": "stdout",
     "output_type": "stream",
     "text": [
      "[('여수시', 'NNP'), ('는', 'JX'), ('컬러', 'NNG'), ('빌리지', 'NNG'), ('사업', 'NNG'), ('에', 'JKB'), ('8', 'SN'), ('억', 'NR'), ('원', 'NNBC'), ('을', 'JKO'), ('투입', 'NNG'), ('하', 'XSV'), ('여', 'EC'), ('‘', 'SY'), ('색채', 'NNG'), ('와', 'JC'), ('빛', 'NNG'), ('’', 'SY'), ('도시', 'NNG'), ('를', 'JKO'), ('완성', 'NNG'), ('하', 'XSV'), ('여', 'EC'), ('고소', 'NNG'), ('천사', 'NNG'), ('벽화', 'NNG'), ('마을', 'NNG'), ('과', 'JC'), ('자산', 'NNG'), ('마을', 'NNG'), ('은', 'JX'), ('알록달록', 'MAG'), ('색깔', 'NNG'), ('옷', 'NNG'), ('을', 'JKO'), ('입', 'VV'), ('었', 'EP'), ('고', 'EC'), ('사업', 'NNG'), ('시행', 'NNG'), ('과', 'JC'), ('준공', 'NNG'), ('과정', 'NNG'), ('에서', 'JKB'), ('도', 'JX'), ('주민', 'NNG'), ('들', 'XSN'), ('의', 'JKG'), ('참여', 'NNG'), ('를', 'JKO'), ('유도', 'NNG'), ('해', 'XSV+EC'), ('경관', 'NNG'), ('사업', 'NNG'), ('의', 'JKG'), ('좋', 'VA'), ('은', 'ETM'), ('사례', 'NNG'), ('를', 'JKO'), ('만들', 'VV'), ('었', 'EP'), ('다', 'EF'), ('.', 'SF')]\n"
     ]
    }
   ],
   "source": [
    "print(mecab.pos(pair_data.abs_sum[0][0]))"
   ]
  },
  {
   "cell_type": "markdown",
   "id": "adopted-parish",
   "metadata": {},
   "source": [
    "- 생성요약문 origin.ver\n",
    "    - 여수시는 컬러빌리지 사업에 8억원을 투입하여 ‘색채와 빛’ 도시를 완성하여 고소천사벽화마을과 자산마을은 알록달록 색깔 옷을 입었고 사업 시행과 준공 과정에서도 주민들의 참여를 유도해 경관사업의 좋은 사례를 만들었다.\n",
    "- 생성요약문 어미 전환.ver\n",
    "    - 여수시는 컬러빌리지 사업에 8억원을 투입하여 ‘색채와 빛’ 도시를 완성하여 고소천사벽화마을과 자산마을은 알록달록 색깔 옷을 입었어요. 그리고 사업 시행과 준공 과정에서도 주민들의 참여를 유도해 경관사업의 좋은 사례를 만들었어요."
   ]
  },
  {
   "cell_type": "code",
   "execution_count": 47,
   "id": "prescribed-nancy",
   "metadata": {},
   "outputs": [
    {
     "name": "stdout",
     "output_type": "stream",
     "text": [
      "['여수시', '는', '컬러', '빌리지', '사업', '에', '8', '억', '원', '을', '투입', '하', '여', '‘', '색채', '와', '빛', '’', '도시', '를', '완성', '하', '여', '고소', '천사', '벽화', '마을', '과', '자산', '마을', '은', '알록달록', '색깔', '옷', '을', '입', '었', '어요', '.', '그리고', '사업', '시행', '과', '준공', '과정', '에서', '도', '주민', '들', '의', '참여', '를', '유도', '해', '경관', '사업', '의', '좋', '은', '사례', '를', '만들', '었', '어요', '.']\n"
     ]
    }
   ],
   "source": [
    "print(mecab.morphs(u'여수시는 컬러빌리지 사업에 8억원을 투입하여 ‘색채와 빛’ 도시를 완성하여 고소천사벽화마을과 자산마을은 알록달록 색깔 옷을 입었어요. 그리고 사업 시행과 준공 과정에서도 주민들의 참여를 유도해 경관사업의 좋은 사례를 만들었어요.'))"
   ]
  },
  {
   "cell_type": "code",
   "execution_count": 48,
   "id": "familiar-sister",
   "metadata": {},
   "outputs": [
    {
     "name": "stdout",
     "output_type": "stream",
     "text": [
      "[('여수시', 'NNP'), ('는', 'JX'), ('컬러', 'NNG'), ('빌리지', 'NNG'), ('사업', 'NNG'), ('에', 'JKB'), ('8', 'SN'), ('억', 'NR'), ('원', 'NNBC'), ('을', 'JKO'), ('투입', 'NNG'), ('하', 'XSV'), ('여', 'EC'), ('‘', 'SY'), ('색채', 'NNG'), ('와', 'JC'), ('빛', 'NNG'), ('’', 'SY'), ('도시', 'NNG'), ('를', 'JKO'), ('완성', 'NNG'), ('하', 'XSV'), ('여', 'EC'), ('고소', 'NNG'), ('천사', 'NNG'), ('벽화', 'NNG'), ('마을', 'NNG'), ('과', 'JC'), ('자산', 'NNG'), ('마을', 'NNG'), ('은', 'JX'), ('알록달록', 'MAG'), ('색깔', 'NNG'), ('옷', 'NNG'), ('을', 'JKO'), ('입', 'VV'), ('었', 'EP'), ('어요', 'EF'), ('.', 'SF'), ('그리고', 'MAJ'), ('사업', 'NNG'), ('시행', 'NNG'), ('과', 'JC'), ('준공', 'NNG'), ('과정', 'NNG'), ('에서', 'JKB'), ('도', 'JX'), ('주민', 'NNG'), ('들', 'XSN'), ('의', 'JKG'), ('참여', 'NNG'), ('를', 'JKO'), ('유도', 'NNG'), ('해', 'XSV+EC'), ('경관', 'NNG'), ('사업', 'NNG'), ('의', 'JKG'), ('좋', 'VA'), ('은', 'ETM'), ('사례', 'NNG'), ('를', 'JKO'), ('만들', 'VV'), ('었', 'EP'), ('어요', 'EF'), ('.', 'SF')]\n"
     ]
    }
   ],
   "source": [
    "print(mecab.pos(u'여수시는 컬러빌리지 사업에 8억원을 투입하여 ‘색채와 빛’ 도시를 완성하여 고소천사벽화마을과 자산마을은 알록달록 색깔 옷을 입었어요. 그리고 사업 시행과 준공 과정에서도 주민들의 참여를 유도해 경관사업의 좋은 사례를 만들었어요.'))"
   ]
  },
  {
   "cell_type": "markdown",
   "id": "classified-brisbane",
   "metadata": {},
   "source": [
    "- ('고', 'EC') : 연결어미\n",
    "    - 연결어미(EC)는 접속부사('그리고', 'MAJ') + 종결어미(EF)로 전환\n",
    "- ('다', 'EF') : 종결어미\n",
    "    - 종결어미(EF)는 ~요체 EF로 전환\n",
    "    - ~어요, ~지요, ~다고, ~라고\n",
    "---\n",
    "- ('여수시', 'NNP') : 고유명사\n",
    "- ('는', 'JX') : 보조사\n",
    "- ('컬러', 'NNG') : 일반명사\n",
    "- ('에', 'JKB') : 부사격 조사\n",
    "- ('8', 'SN') : 숫자\n",
    "- ('억', 'NR') : 수사\n",
    "- ('원', 'NNBC') : 단위를 나타내는 명사\n",
    "- ('을', 'JKO') : 목적격 조사\n",
    "- ('투입', 'NNG') : 일반 명사\n",
    "- ('하', 'XSV') : 동사 파생 접미사\n",
    "- ('여', 'EC') : 연결어미\n",
    "- ('과', 'JC') : 접속 조사\n",
    "- ('은', 'JX') : 보조사\n",
    "- ('알록달록', 'MAG') : 일반부사\n",
    "- ('입', 'VV') : 동사\n",
    "- ('었', 'EP') : 선어말 어미\n",
    "- ('.', 'SF') : 마침표, 물음표, 느낌표\n",
    "- ('그리고', 'MAJ') : 접속부사\n",
    "- ('들', 'XSN') : 명사 파생 접미사\n",
    "- ('해', 'XSV+EC') : 형용사 파생 접미사 + 연결 어미\n",
    "- ('좋', 'VA') : 형용사\n",
    "- ('은', 'ETM') : 관형형 전성 어미\n"
   ]
  },
  {
   "cell_type": "code",
   "execution_count": 49,
   "id": "motivated-cotton",
   "metadata": {},
   "outputs": [
    {
     "data": {
      "text/plain": [
       "list"
      ]
     },
     "execution_count": 49,
     "metadata": {},
     "output_type": "execute_result"
    }
   ],
   "source": [
    "tmp = mecab.pos(u'여수시는 컬러빌리지 사업에 8억원을 투입하여 ‘색채와 빛’ 도시를 완성하여 고소천사벽화마을과 자산마을은 알록달록 색깔 옷을 입었어요. 그리고 사업 시행과 준공 과정에서도 주민들의 참여를 유도해 경관사업의 좋은 사례를 만들었어요.')\n",
    "type(tmp)"
   ]
  },
  {
   "cell_type": "code",
   "execution_count": 50,
   "id": "handy-impact",
   "metadata": {},
   "outputs": [
    {
     "data": {
      "text/plain": [
       "[('어요', 'EF'), ('어요', 'EF')]"
      ]
     },
     "execution_count": 50,
     "metadata": {},
     "output_type": "execute_result"
    }
   ],
   "source": [
    "#- 종결 어미\n",
    "ef = [i for i in tmp if i[1]=='EF']\n",
    "ef"
   ]
  },
  {
   "cell_type": "code",
   "execution_count": 51,
   "id": "severe-hudson",
   "metadata": {},
   "outputs": [
    {
     "data": {
      "text/plain": [
       "[('여', 'EC'), ('여', 'EC')]"
      ]
     },
     "execution_count": 51,
     "metadata": {},
     "output_type": "execute_result"
    }
   ],
   "source": [
    "#- 연결 어미\n",
    "ec = [i for i in tmp if i[1]=='EC']\n",
    "ec"
   ]
  },
  {
   "cell_type": "code",
   "execution_count": 52,
   "id": "conceptual-variable",
   "metadata": {},
   "outputs": [
    {
     "data": {
      "text/plain": [
       "[('컬러', 'NNG'),\n",
       " ('빌리지', 'NNG'),\n",
       " ('사업', 'NNG'),\n",
       " ('투입', 'NNG'),\n",
       " ('색채', 'NNG'),\n",
       " ('빛', 'NNG'),\n",
       " ('도시', 'NNG'),\n",
       " ('완성', 'NNG'),\n",
       " ('고소', 'NNG'),\n",
       " ('천사', 'NNG'),\n",
       " ('벽화', 'NNG'),\n",
       " ('마을', 'NNG'),\n",
       " ('자산', 'NNG'),\n",
       " ('마을', 'NNG'),\n",
       " ('색깔', 'NNG'),\n",
       " ('옷', 'NNG'),\n",
       " ('사업', 'NNG'),\n",
       " ('시행', 'NNG'),\n",
       " ('준공', 'NNG'),\n",
       " ('과정', 'NNG'),\n",
       " ('주민', 'NNG'),\n",
       " ('참여', 'NNG'),\n",
       " ('유도', 'NNG'),\n",
       " ('경관', 'NNG'),\n",
       " ('사업', 'NNG'),\n",
       " ('사례', 'NNG')]"
      ]
     },
     "execution_count": 52,
     "metadata": {},
     "output_type": "execute_result"
    }
   ],
   "source": [
    "#- 일반 명사\n",
    "nng = [i for i in tmp if i[1]=='NNG']\n",
    "nng"
   ]
  },
  {
   "cell_type": "code",
   "execution_count": 53,
   "id": "hybrid-phase",
   "metadata": {},
   "outputs": [
    {
     "data": {
      "text/plain": [
       "[('입', 'VV'), ('만들', 'VV')]"
      ]
     },
     "execution_count": 53,
     "metadata": {},
     "output_type": "execute_result"
    }
   ],
   "source": [
    "#- 동사\n",
    "vv = [i for i in tmp if i[1]=='VV']\n",
    "vv"
   ]
  },
  {
   "cell_type": "code",
   "execution_count": 54,
   "id": "german-albuquerque",
   "metadata": {},
   "outputs": [
    {
     "data": {
      "text/plain": [
       "[('좋', 'VA')]"
      ]
     },
     "execution_count": 54,
     "metadata": {},
     "output_type": "execute_result"
    }
   ],
   "source": [
    "#- 형용사\n",
    "va = [i for i in tmp if i[1]=='VA']\n",
    "va"
   ]
  },
  {
   "cell_type": "code",
   "execution_count": 55,
   "id": "norwegian-dance",
   "metadata": {
    "scrolled": false
   },
   "outputs": [
    {
     "name": "stdout",
     "output_type": "stream",
     "text": [
      "0번째 생성요약문: 여수시는 컬러빌리지 사업에 8억원을 투입하여 ‘색채와 빛’ 도시를 완성하여 고소천사벽화마을과 자산마을은 알록달록 색깔 옷을 입었고 사업 시행과 준공 과정에서도 주민들의 참여를 유도해 경관사업의 좋은 사례를 만들었다.             \n",
      "\n",
      "형태소 분석['여수시', '는', '컬러', '빌리지', '사업', '에', '8', '억', '원', '을', '투입', '하', '여', '‘', '색채', '와', '빛', '’', '도시', '를', '완성', '하', '여', '고소', '천사', '벽화', '마을', '과', '자산', '마을', '은', '알록달록', '색깔', '옷', '을', '입', '었', '고', '사업', '시행', '과', '준공', '과정', '에서', '도', '주민', '들', '의', '참여', '를', '유도', '해', '경관', '사업', '의', '좋', '은', '사례', '를', '만들', '었', '다', '.']             \n",
      "\n",
      "품사 태깅[('여수시', 'NNP'), ('는', 'JX'), ('컬러', 'NNG'), ('빌리지', 'NNG'), ('사업', 'NNG'), ('에', 'JKB'), ('8', 'SN'), ('억', 'NR'), ('원', 'NNBC'), ('을', 'JKO'), ('투입', 'NNG'), ('하', 'XSV'), ('여', 'EC'), ('‘', 'SY'), ('색채', 'NNG'), ('와', 'JC'), ('빛', 'NNG'), ('’', 'SY'), ('도시', 'NNG'), ('를', 'JKO'), ('완성', 'NNG'), ('하', 'XSV'), ('여', 'EC'), ('고소', 'NNG'), ('천사', 'NNG'), ('벽화', 'NNG'), ('마을', 'NNG'), ('과', 'JC'), ('자산', 'NNG'), ('마을', 'NNG'), ('은', 'JX'), ('알록달록', 'MAG'), ('색깔', 'NNG'), ('옷', 'NNG'), ('을', 'JKO'), ('입', 'VV'), ('었', 'EP'), ('고', 'EC'), ('사업', 'NNG'), ('시행', 'NNG'), ('과', 'JC'), ('준공', 'NNG'), ('과정', 'NNG'), ('에서', 'JKB'), ('도', 'JX'), ('주민', 'NNG'), ('들', 'XSN'), ('의', 'JKG'), ('참여', 'NNG'), ('를', 'JKO'), ('유도', 'NNG'), ('해', 'XSV+EC'), ('경관', 'NNG'), ('사업', 'NNG'), ('의', 'JKG'), ('좋', 'VA'), ('은', 'ETM'), ('사례', 'NNG'), ('를', 'JKO'), ('만들', 'VV'), ('었', 'EP'), ('다', 'EF'), ('.', 'SF')]\n",
      "\n",
      "\n",
      "10번째 생성요약문: 전라남도와 전남문화관광재단은 문화 소외계층이 문화예술, 여행, 체육 분야에서 사용할 수 있는 ‘문화누리카드'를 오는 2월 1일부터 발급한다.             \n",
      "\n",
      "형태소 분석['전라남도', '와', '전남', '문화', '관광', '재단', '은', '문화', '소외', '계층', '이', '문화', '예술', ',', '여행', ',', '체육', '분야', '에서', '사용', '할', '수', '있', '는', '‘', '문화', '누리', '카드', \"'\", '를', '오', '는', '2', '월', '1', '일', '부터', '발급', '한다', '.']             \n",
      "\n",
      "품사 태깅[('전라남도', 'NNP'), ('와', 'JC'), ('전남', 'NNP'), ('문화', 'NNG'), ('관광', 'NNG'), ('재단', 'NNG'), ('은', 'JX'), ('문화', 'NNG'), ('소외', 'NNG'), ('계층', 'NNG'), ('이', 'JKS'), ('문화', 'NNG'), ('예술', 'NNG'), (',', 'SC'), ('여행', 'NNG'), (',', 'SC'), ('체육', 'NNG'), ('분야', 'NNG'), ('에서', 'JKB'), ('사용', 'NNG'), ('할', 'XSV+ETM'), ('수', 'NNB'), ('있', 'VV'), ('는', 'ETM'), ('‘', 'SY'), ('문화', 'NNG'), ('누리', 'NNG'), ('카드', 'NNG'), (\"'\", 'SY'), ('를', 'JKO'), ('오', 'VV'), ('는', 'ETM'), ('2', 'SN'), ('월', 'NNBC'), ('1', 'SN'), ('일', 'NNBC'), ('부터', 'JX'), ('발급', 'NNG'), ('한다', 'XSV+EF'), ('.', 'SF')]\n",
      "\n",
      "\n",
      "20번째 생성요약문: 광양시는 오는 16일부터 31일까지 자동차세 연납을 신청하면 10%까지 자동차세를 할인해 준다.             \n",
      "\n",
      "형태소 분석['광양시', '는', '오', '는', '16', '일', '부터', '31', '일', '까지', '자동차세', '연납', '을', '신청', '하', '면', '10', '%', '까지', '자동차세', '를', '할인', '해', '준다', '.']             \n",
      "\n",
      "품사 태깅[('광양시', 'NNP'), ('는', 'JX'), ('오', 'VV'), ('는', 'ETM'), ('16', 'SN'), ('일', 'NNBC'), ('부터', 'JX'), ('31', 'SN'), ('일', 'NNBC'), ('까지', 'JX'), ('자동차세', 'NNG'), ('연납', 'NNG'), ('을', 'JKO'), ('신청', 'NNG'), ('하', 'XSV'), ('면', 'EC'), ('10', 'SN'), ('%', 'SY'), ('까지', 'JX'), ('자동차세', 'NNG'), ('를', 'JKO'), ('할인', 'NNG'), ('해', 'XSV+EC'), ('준다', 'VX+EF'), ('.', 'SF')]\n",
      "\n",
      "\n",
      "30번째 생성요약문: 전국 주요 대학병원으로의 높은 취업률을 보유한 광양보건대학교 임상병리과가 올해 임상병리사 국가고시 시험에서 졸업예정자 32명 전원이 100% 합격하는 성과를 거뒀다.             \n",
      "\n",
      "형태소 분석['전국', '주요', '대학', '병원', '으로', '의', '높', '은', '취업률', '을', '보유', '한', '광양', '보건', '대학교', '임상', '병리', '과', '가', '올해', '임상', '병리', '사', '국가', '고시', '시험', '에서', '졸업', '예정자', '32', '명', '전원', '이', '100', '%', '합격', '하', '는', '성과', '를', '거뒀', '다', '.']             \n",
      "\n",
      "품사 태깅[('전국', 'NNG'), ('주요', 'NNG'), ('대학', 'NNG'), ('병원', 'NNG'), ('으로', 'JKB'), ('의', 'JKG'), ('높', 'VA'), ('은', 'ETM'), ('취업률', 'NNG'), ('을', 'JKO'), ('보유', 'NNG'), ('한', 'XSV+ETM'), ('광양', 'NNP'), ('보건', 'NNG'), ('대학교', 'NNG'), ('임상', 'NNG'), ('병리', 'NNG'), ('과', 'NNG'), ('가', 'JKS'), ('올해', 'NNG'), ('임상', 'NNG'), ('병리', 'NNG'), ('사', 'NR'), ('국가', 'NNG'), ('고시', 'NNG'), ('시험', 'NNG'), ('에서', 'JKB'), ('졸업', 'NNG'), ('예정자', 'NNG'), ('32', 'SN'), ('명', 'NNBC'), ('전원', 'NNG'), ('이', 'JKS'), ('100', 'SN'), ('%', 'SY'), ('합격', 'NNG'), ('하', 'XSV'), ('는', 'ETM'), ('성과', 'NNG'), ('를', 'JKO'), ('거뒀', 'VV+EP'), ('다', 'EF'), ('.', 'SF')]\n",
      "\n",
      "\n",
      "40번째 생성요약문: 20년 째 '사랑나눔 헌혈행사'를 진행해온 포스코 광양제철소는 직원들이 헌혈을 통해 혈액 부족 문제 해결에 이바지하고 이웃 사랑을 실천할 수 있도록 참여 직원들에게 다양한 혜택을 제공한다.             \n",
      "\n",
      "형태소 분석['20', '년', '째', \"'\", '사랑', '나눔', '헌혈', '행사', \"'\", '를', '진행', '해', '온', '포스코', '광양제철', '소', '는', '직원', '들', '이', '헌혈', '을', '통해', '혈액', '부족', '문제', '해결', '에', '이바지', '하', '고', '이웃', '사랑', '을', '실천', '할', '수', '있', '도록', '참여', '직원', '들', '에게', '다양', '한', '혜택', '을', '제공', '한다', '.']             \n",
      "\n",
      "품사 태깅[('20', 'SN'), ('년', 'NNBC'), ('째', 'XSN'), (\"'\", 'SY'), ('사랑', 'NNG'), ('나눔', 'VV+ETN'), ('헌혈', 'NNG'), ('행사', 'NNG'), (\"'\", 'SY'), ('를', 'JKO'), ('진행', 'NNG'), ('해', 'XSV+EC'), ('온', 'VX+ETM'), ('포스코', 'NNP'), ('광양제철', 'NNP'), ('소', 'NNG'), ('는', 'JX'), ('직원', 'NNG'), ('들', 'XSN'), ('이', 'JKS'), ('헌혈', 'NNG'), ('을', 'JKO'), ('통해', 'VV+EC'), ('혈액', 'NNG'), ('부족', 'NNG'), ('문제', 'NNG'), ('해결', 'NNG'), ('에', 'JKB'), ('이바지', 'NNG'), ('하', 'XSV'), ('고', 'EC'), ('이웃', 'NNG'), ('사랑', 'NNG'), ('을', 'JKO'), ('실천', 'NNG'), ('할', 'XSV+ETM'), ('수', 'NNB'), ('있', 'VV'), ('도록', 'EC'), ('참여', 'NNG'), ('직원', 'NNG'), ('들', 'XSN'), ('에게', 'JKB'), ('다양', 'XR'), ('한', 'XSA+ETM'), ('혜택', 'NNG'), ('을', 'JKO'), ('제공', 'NNG'), ('한다', 'XSV+EF'), ('.', 'SF')]\n",
      "\n",
      "\n",
      "50번째 생성요약문: 광양시는 2월 5일까지 만 18세부터 39세 이하의 청년을 대상으로 청년정책 홍보 및 정책 제안 활동을 펼칠 ‘제1기 광양시 청년 서포터즈단’ 30명을 모집한다.             \n",
      "\n",
      "형태소 분석['광양시', '는', '2', '월', '5', '일', '까지', '만', '18', '세', '부터', '39', '세', '이하', '의', '청년', '을', '대상', '으로', '청년', '정책', '홍보', '및', '정책', '제안', '활동', '을', '펼칠', '‘', '제', '1', '기', '광양시', '청년', '서포터', '즈단', '’', '30', '명', '을', '모집', '한다', '.']             \n",
      "\n",
      "품사 태깅[('광양시', 'NNP'), ('는', 'JX'), ('2', 'SN'), ('월', 'NNBC'), ('5', 'SN'), ('일', 'NNBC'), ('까지', 'JX'), ('만', 'MM'), ('18', 'SN'), ('세', 'NNBC'), ('부터', 'JX'), ('39', 'SN'), ('세', 'NNBC'), ('이하', 'NNG'), ('의', 'JKG'), ('청년', 'NNG'), ('을', 'JKO'), ('대상', 'NNG'), ('으로', 'JKB'), ('청년', 'NNG'), ('정책', 'NNG'), ('홍보', 'NNG'), ('및', 'MAJ'), ('정책', 'NNG'), ('제안', 'NNG'), ('활동', 'NNG'), ('을', 'JKO'), ('펼칠', 'VV+ETM'), ('‘', 'SY'), ('제', 'XPN'), ('1', 'SN'), ('기', 'NNBC'), ('광양시', 'NNP'), ('청년', 'NNG'), ('서포터', 'NNG'), ('즈단', 'NNP'), ('’', 'SY'), ('30', 'SN'), ('명', 'NNBC'), ('을', 'JKO'), ('모집', 'NNG'), ('한다', 'XSV+EF'), ('.', 'SF')]\n",
      "\n",
      "\n"
     ]
    }
   ],
   "source": [
    "for i in range(0,pair_data.shape[0],10):\n",
    "    \n",
    "    print(f'{i}번째 생성요약문: {pair_data.abs_sum[i][0]} \\\n",
    "            \\n\\n형태소 분석{mecab.morphs(pair_data.abs_sum[i][0])} \\\n",
    "            \\n\\n품사 태깅{mecab.pos(pair_data.abs_sum[i][0])}\\n\\n')\n",
    "    if i == 50:\n",
    "        break"
   ]
  },
  {
   "cell_type": "code",
   "execution_count": 56,
   "id": "empty-tonight",
   "metadata": {},
   "outputs": [],
   "source": [
    "def morphs_pos(pair_data, i):\n",
    "    abs_ = pair_data.abs_sum[i][0]\n",
    "    morphs_ = mecab.morphs(pair_data.abs_sum[i][0])\n",
    "    tmp = mecab.pos(pair_data.abs_sum[i][0])\n",
    "    print(f'{i}번째 생성요약문 : {abs_} \\\n",
    "            \\n\\n형태소 분석 : {morphs_} \\\n",
    "            \\n\\n품사 태깅 : {tmp}\\n\\n')\n",
    "\n",
    "    #- 종결 어미\n",
    "    ef = [i for i in tmp if 'EF' in i[1]]\n",
    "    #- 연결 어미\n",
    "    ec = [i for i in tmp if 'EC' in i[1]]\n",
    "    #- 일반 명사\n",
    "    nng = [i for i in tmp if 'NNG' in i[1]]\n",
    "    #- 동사\n",
    "    vv = [i for i in tmp if 'VV' in i[1]]\n",
    "    #- 형용사\n",
    "    va = [i for i in tmp if 'VA' in i[1]]\n",
    "    \n",
    "    print(f'종결어미 : {ef}\\n연결어미 : {ec}\\n일반명사 : {nng}\\n동사 : {vv}\\n형용사 : {va}')"
   ]
  },
  {
   "cell_type": "code",
   "execution_count": 57,
   "id": "ordered-casino",
   "metadata": {},
   "outputs": [
    {
     "name": "stdout",
     "output_type": "stream",
     "text": [
      "2번째 생성요약문 : 광양시는 농업인들의 경쟁력을 높이고, 소득안정을 위해 매실·감·참다래 등 지역특화작목 중심으로 농업인 실용교육을 실시한다.             \n",
      "\n",
      "형태소 분석 : ['광양시', '는', '농업', '인', '들', '의', '경쟁력', '을', '높이', '고', ',', '소득', '안정', '을', '위해', '매실', '·', '감', '·', '참', '다래', '등', '지역', '특화', '작목', '중심', '으로', '농업', '인', '실용', '교육', '을', '실시', '한다', '.']             \n",
      "\n",
      "품사 태깅 : [('광양시', 'NNP'), ('는', 'JX'), ('농업', 'NNG'), ('인', 'XSN'), ('들', 'XSN'), ('의', 'JKG'), ('경쟁력', 'NNG'), ('을', 'JKO'), ('높이', 'VV'), ('고', 'EC'), (',', 'SC'), ('소득', 'NNG'), ('안정', 'NNG'), ('을', 'JKO'), ('위해', 'VV+EC'), ('매실', 'NNG'), ('·', 'SC'), ('감', 'NNG'), ('·', 'SC'), ('참', 'IC'), ('다래', 'NNP'), ('등', 'NNB'), ('지역', 'NNG'), ('특화', 'NNG'), ('작목', 'NNG'), ('중심', 'NNG'), ('으로', 'JKB'), ('농업', 'NNG'), ('인', 'VCP+ETM'), ('실용', 'NNG'), ('교육', 'NNG'), ('을', 'JKO'), ('실시', 'NNG'), ('한다', 'XSV+EF'), ('.', 'SF')]\n",
      "\n",
      "\n",
      "종결어미 : [('한다', 'XSV+EF')]\n",
      "연결어미 : [('고', 'EC'), ('위해', 'VV+EC')]\n",
      "일반명사 : [('농업', 'NNG'), ('경쟁력', 'NNG'), ('소득', 'NNG'), ('안정', 'NNG'), ('매실', 'NNG'), ('감', 'NNG'), ('지역', 'NNG'), ('특화', 'NNG'), ('작목', 'NNG'), ('중심', 'NNG'), ('농업', 'NNG'), ('실용', 'NNG'), ('교육', 'NNG'), ('실시', 'NNG')]\n",
      "동사 : [('높이', 'VV'), ('위해', 'VV+EC')]\n",
      "형용사 : []\n"
     ]
    }
   ],
   "source": [
    "morphs_pos(pair_data, 2)"
   ]
  },
  {
   "cell_type": "code",
   "execution_count": 58,
   "id": "premier-report",
   "metadata": {},
   "outputs": [
    {
     "name": "stdout",
     "output_type": "stream",
     "text": [
      "3번째 생성요약문 : 올해 4월과 6월 두 차례에 걸쳐 타이완의 크루즈 관광객 4000여명이 여수에 입항해 전남의 관광지를 방문할 예정이다.             \n",
      "\n",
      "형태소 분석 : ['올해', '4', '월', '과', '6', '월', '두', '차례', '에', '걸쳐', '타이완', '의', '크루즈', '관광객', '4000', '여', '명', '이', '여수', '에', '입항', '해', '전남', '의', '관광지', '를', '방문', '할', '예정', '이', '다', '.']             \n",
      "\n",
      "품사 태깅 : [('올해', 'NNG'), ('4', 'SN'), ('월', 'NNBC'), ('과', 'JC'), ('6', 'SN'), ('월', 'NNBC'), ('두', 'MM'), ('차례', 'NNG'), ('에', 'JKB'), ('걸쳐', 'VV+EC'), ('타이완', 'NNP'), ('의', 'JKG'), ('크루즈', 'NNP'), ('관광객', 'NNG'), ('4000', 'SN'), ('여', 'XSN'), ('명', 'NNBC'), ('이', 'JKS'), ('여수', 'NNP'), ('에', 'JKB'), ('입항', 'NNG'), ('해', 'XSV+EC'), ('전남', 'NNP'), ('의', 'JKG'), ('관광지', 'NNG'), ('를', 'JKO'), ('방문', 'NNG'), ('할', 'XSV+ETM'), ('예정', 'NNG'), ('이', 'VCP'), ('다', 'EF'), ('.', 'SF')]\n",
      "\n",
      "\n",
      "종결어미 : [('다', 'EF')]\n",
      "연결어미 : [('걸쳐', 'VV+EC'), ('해', 'XSV+EC')]\n",
      "일반명사 : [('올해', 'NNG'), ('차례', 'NNG'), ('관광객', 'NNG'), ('입항', 'NNG'), ('관광지', 'NNG'), ('방문', 'NNG'), ('예정', 'NNG')]\n",
      "동사 : [('걸쳐', 'VV+EC')]\n",
      "형용사 : []\n"
     ]
    }
   ],
   "source": [
    "morphs_pos(pair_data, 3)"
   ]
  },
  {
   "cell_type": "code",
   "execution_count": 59,
   "id": "announced-reporter",
   "metadata": {},
   "outputs": [
    {
     "name": "stdout",
     "output_type": "stream",
     "text": [
      "10000번째 생성요약문 : 인천시 강화군은 축산농가의 예상치 못한 각종 재해와 질병으로 인한 피해를 최소화하고 농가의 안정화를 보장하기 위하여 산출보험료의 80%를 군에서 지원하고, 축산농가는 20%만 부담하는 '가축재해보험 가입 지원사업'을 추진하고 있다고 19일 밝혔다.              \n",
      "\n",
      "형태소 분석 : ['인천시', '강화군', '은', '축산', '농가', '의', '예상', '치', '못한', '각종', '재해', '와', '질병', '으로', '인한', '피해', '를', '최소', '화', '하', '고', '농가', '의', '안정', '화', '를', '보장', '하', '기', '위하', '여', '산출', '보험료', '의', '80', '%', '를', '군', '에서', '지원', '하', '고', ',', '축산', '농가', '는', '20', '%', '만', '부담', '하', '는', \"'\", '가', '축재', '해', '보험', '가입', '지원', '사업', \"'\", '을', '추진', '하', '고', '있', '다고', '19', '일', '밝혔', '다', '.']             \n",
      "\n",
      "품사 태깅 : [('인천시', 'NNP'), ('강화군', 'NNG'), ('은', 'JX'), ('축산', 'NNG'), ('농가', 'NNG'), ('의', 'JKG'), ('예상', 'NNG'), ('치', 'XSV+EC'), ('못한', 'VX+ETM'), ('각종', 'NNG'), ('재해', 'NNG'), ('와', 'JC'), ('질병', 'NNG'), ('으로', 'JKB'), ('인한', 'VV+ETM'), ('피해', 'NNG'), ('를', 'JKO'), ('최소', 'NNG'), ('화', 'XSN'), ('하', 'XSV'), ('고', 'EC'), ('농가', 'NNG'), ('의', 'JKG'), ('안정', 'NNG'), ('화', 'XSN'), ('를', 'JKO'), ('보장', 'NNG'), ('하', 'XSV'), ('기', 'ETN'), ('위하', 'VV'), ('여', 'EC'), ('산출', 'NNG'), ('보험료', 'NNG'), ('의', 'JKG'), ('80', 'SN'), ('%', 'SY'), ('를', 'JKO'), ('군', 'NNG'), ('에서', 'JKB'), ('지원', 'NNG'), ('하', 'XSV'), ('고', 'EC'), (',', 'SC'), ('축산', 'NNG'), ('농가', 'NNG'), ('는', 'JX'), ('20', 'SN'), ('%', 'SY'), ('만', 'JX'), ('부담', 'NNG'), ('하', 'XSV'), ('는', 'ETM'), (\"'\", 'SY'), ('가', 'JKS'), ('축재', 'NNG'), ('해', 'XSV+EC'), ('보험', 'NNG'), ('가입', 'NNG'), ('지원', 'NNG'), ('사업', 'NNG'), (\"'\", 'SY'), ('을', 'JKO'), ('추진', 'NNG'), ('하', 'XSV'), ('고', 'EC'), ('있', 'VX'), ('다고', 'EC'), ('19', 'SN'), ('일', 'NNBC'), ('밝혔', 'VV+EP'), ('다', 'EF'), ('.', 'SF')]\n",
      "\n",
      "\n",
      "종결어미 : [('다', 'EF')]\n",
      "연결어미 : [('치', 'XSV+EC'), ('고', 'EC'), ('여', 'EC'), ('고', 'EC'), ('해', 'XSV+EC'), ('고', 'EC'), ('다고', 'EC')]\n",
      "일반명사 : [('강화군', 'NNG'), ('축산', 'NNG'), ('농가', 'NNG'), ('예상', 'NNG'), ('각종', 'NNG'), ('재해', 'NNG'), ('질병', 'NNG'), ('피해', 'NNG'), ('최소', 'NNG'), ('농가', 'NNG'), ('안정', 'NNG'), ('보장', 'NNG'), ('산출', 'NNG'), ('보험료', 'NNG'), ('군', 'NNG'), ('지원', 'NNG'), ('축산', 'NNG'), ('농가', 'NNG'), ('부담', 'NNG'), ('축재', 'NNG'), ('보험', 'NNG'), ('가입', 'NNG'), ('지원', 'NNG'), ('사업', 'NNG'), ('추진', 'NNG')]\n",
      "동사 : [('인한', 'VV+ETM'), ('위하', 'VV'), ('밝혔', 'VV+EP')]\n",
      "형용사 : []\n"
     ]
    }
   ],
   "source": [
    "morphs_pos(pair_data, 10000)"
   ]
  },
  {
   "cell_type": "markdown",
   "id": "affected-transmission",
   "metadata": {},
   "source": [
    "- 모든 score 4점 이상 & 사이즈  \n",
    "- 특징 생성\n",
    "- 종결 어미, 연결 어미, 종결 어미 개수, 연결 어미 개수, 글자 수"
   ]
  },
  {
   "cell_type": "code",
   "execution_count": 60,
   "id": "wanted-services",
   "metadata": {},
   "outputs": [],
   "source": [
    "def morphs(x): return mecab.morphs(x)\n",
    "def pos(x): return mecab.pos(x)\n",
    "def pos_(x): return [i[1] for i in x]\n",
    "def word_phase(x): return x.split()\n",
    "\n",
    "def pos_NNG(x): return [i[0] for i in x if 'NNG' in i[1]] \n",
    "def pos_NNP(x): return [i[0] for i in x if 'NNP' in i[1]] \n",
    "def pos_EC(x): return [i[0] for i in x if 'EC' in i[1]]\n",
    "def pos_EF(x): return [i[0] for i in x if 'EF' in i[1]]\n",
    "def pos_SN(x): return [i[0] for i in x if 'SN' in i[1]]\n",
    "def pos_MAG(x): return [i[0] for i in x if 'MAG' in i[1]]\n",
    "def pos_MAJ(x): return [i[0] for i in x if 'MAJ' in i[1]]\n",
    "\n",
    "def pos_num_NNG(x): return len([i for i in x if 'NNG' in i[1]]) #- 일반명사\n",
    "def pos_num_NNP(x): return len([i for i in x if 'NNP' in i[1]]) #- 고유명사\n",
    "def pos_num_EC(x): return len([i for i in x if 'EC' in i[1]]) #- 연결어미\n",
    "def pos_num_EF(x): return len([i for i in x if 'EF' in i[1]]) #- 종결어미\n",
    "def pos_num_SN(x): return len([i for i in x if 'SN' in i[1]]) #- 숫자\n",
    "def pos_num_MAG(x): return len([i for i in x if 'MAG' in i[1]]) #- 일반부사\n",
    "def pos_num_MAJ(x): return len([i for i in x if 'MAJ' in i[1]]) #- 접속부사\n",
    "\n",
    "\n",
    "# def morph_to_pos(morphs, pos_): return dict(zip(morphs, pos_))\n",
    "def morph_to_pos(x): return dict(x)\n",
    "def morphs_num(x): return len(x) "
   ]
  },
  {
   "cell_type": "code",
   "execution_count": 61,
   "id": "chubby-subject",
   "metadata": {
    "scrolled": false
   },
   "outputs": [
    {
     "name": "stdout",
     "output_type": "stream",
     "text": [
      "CPU times: user 1min 13s, sys: 1.58 s, total: 1min 15s\n",
      "Wall time: 1min 15s\n"
     ]
    },
    {
     "data": {
      "text/html": [
       "<div>\n",
       "<style scoped>\n",
       "    .dataframe tbody tr th:only-of-type {\n",
       "        vertical-align: middle;\n",
       "    }\n",
       "\n",
       "    .dataframe tbody tr th {\n",
       "        vertical-align: top;\n",
       "    }\n",
       "\n",
       "    .dataframe thead th {\n",
       "        text-align: right;\n",
       "    }\n",
       "</style>\n",
       "<table border=\"1\" class=\"dataframe\">\n",
       "  <thead>\n",
       "    <tr style=\"text-align: right;\">\n",
       "      <th></th>\n",
       "      <th>ext_sum</th>\n",
       "      <th>abs_sum</th>\n",
       "      <th>pos</th>\n",
       "      <th>morphs</th>\n",
       "      <th>pos_</th>\n",
       "      <th>word_phase</th>\n",
       "      <th>morph_to_pos</th>\n",
       "      <th>pos_NNP</th>\n",
       "      <th>pos_NNG</th>\n",
       "      <th>pos_EC</th>\n",
       "      <th>...</th>\n",
       "      <th>pos_MAG</th>\n",
       "      <th>pos_MAJ</th>\n",
       "      <th>pos_num_NNP</th>\n",
       "      <th>pos_num_NNG</th>\n",
       "      <th>pos_num_EC</th>\n",
       "      <th>pos_num_EF</th>\n",
       "      <th>pos_num_SN</th>\n",
       "      <th>pos_num_MAG</th>\n",
       "      <th>pos_num_MAJ</th>\n",
       "      <th>morphs_num</th>\n",
       "    </tr>\n",
       "  </thead>\n",
       "  <tbody>\n",
       "    <tr>\n",
       "      <th>0</th>\n",
       "      <td>[여수시는 원도심 일대에서 추진된 컬러빌리지 사업을 지난해 말 마무리하며 색채와 빛...</td>\n",
       "      <td>[여수시는 컬러빌리지 사업에 8억원을 투입하여 ‘색채와 빛’ 도시를 완성하여 고소천...</td>\n",
       "      <td>[(여수시, NNP), (는, JX), (컬러, NNG), (빌리지, NNG), (...</td>\n",
       "      <td>[여수시, 는, 컬러, 빌리지, 사업, 에, 8, 억, 원, 을, 투입, 하, 여,...</td>\n",
       "      <td>[NNP, JX, NNG, NNG, NNG, JKB, SN, NR, NNBC, JK...</td>\n",
       "      <td>[여수시는, 컬러빌리지, 사업에, 8억원을, 투입하여, ‘색채와, 빛’, 도시를, ...</td>\n",
       "      <td>{'여수시': 'NNP', '는': 'JX', '컬러': 'NNG', '빌리지': ...</td>\n",
       "      <td>[여수시]</td>\n",
       "      <td>[컬러, 빌리지, 사업, 투입, 색채, 빛, 도시, 완성, 고소, 천사, 벽화, 마...</td>\n",
       "      <td>[여, 여, 고, 해]</td>\n",
       "      <td>...</td>\n",
       "      <td>[알록달록]</td>\n",
       "      <td>[]</td>\n",
       "      <td>1</td>\n",
       "      <td>26</td>\n",
       "      <td>4</td>\n",
       "      <td>1</td>\n",
       "      <td>2</td>\n",
       "      <td>1</td>\n",
       "      <td>0</td>\n",
       "      <td>63</td>\n",
       "    </tr>\n",
       "    <tr>\n",
       "      <th>1</th>\n",
       "      <td>[임직원과 선수단 모두는 이날 구봉산 정상에 올라 일출을 보며 2018년 구단 목표...</td>\n",
       "      <td>[전남드래곤즈 임직원과 선수단이 4일 구봉산 정상에 올라 일출을 보며 2018년 구...</td>\n",
       "      <td>[(전남, NNP), (드래곤즈, NNP), (임직원, NNG), (과, JC), ...</td>\n",
       "      <td>[전남, 드래곤즈, 임직원, 과, 선수단, 이, 4, 일, 구봉산, 정상, 에, 올...</td>\n",
       "      <td>[NNP, NNP, NNG, JC, NNG, JKS, SN, NNBC, NNP, N...</td>\n",
       "      <td>[전남드래곤즈, 임직원과, 선수단이, 4일, 구봉산, 정상에, 올라, 일출을, 보며...</td>\n",
       "      <td>{'전남': 'NNP', '드래곤즈': 'NNP', '임직원': 'NNG', '과'...</td>\n",
       "      <td>[전남, 드래곤즈, 구봉산]</td>\n",
       "      <td>[임직원, 선수단, 정상, 일출, 구단, 목표, 달성, 새해, 각오]</td>\n",
       "      <td>[올라, 며]</td>\n",
       "      <td>...</td>\n",
       "      <td>[]</td>\n",
       "      <td>[]</td>\n",
       "      <td>3</td>\n",
       "      <td>9</td>\n",
       "      <td>2</td>\n",
       "      <td>1</td>\n",
       "      <td>2</td>\n",
       "      <td>0</td>\n",
       "      <td>0</td>\n",
       "      <td>29</td>\n",
       "    </tr>\n",
       "    <tr>\n",
       "      <th>2</th>\n",
       "      <td>[광양시는 오는 11일부터 24일까지 농업인교육관과 읍면동 회의실에서 농업인 105...</td>\n",
       "      <td>[광양시는 농업인들의 경쟁력을 높이고, 소득안정을 위해 매실·감·참다래 등 지역특화...</td>\n",
       "      <td>[(광양시, NNP), (는, JX), (농업, NNG), (인, XSN), (들,...</td>\n",
       "      <td>[광양시, 는, 농업, 인, 들, 의, 경쟁력, 을, 높이, 고, ,, 소득, 안정...</td>\n",
       "      <td>[NNP, JX, NNG, XSN, XSN, JKG, NNG, JKO, VV, EC...</td>\n",
       "      <td>[광양시는, 농업인들의, 경쟁력을, 높이고,, 소득안정을, 위해, 매실·감·참다래,...</td>\n",
       "      <td>{'광양시': 'NNP', '는': 'JX', '농업': 'NNG', '인': 'V...</td>\n",
       "      <td>[광양시, 다래]</td>\n",
       "      <td>[농업, 경쟁력, 소득, 안정, 매실, 감, 지역, 특화, 작목, 중심, 농업, 실...</td>\n",
       "      <td>[고, 위해]</td>\n",
       "      <td>...</td>\n",
       "      <td>[]</td>\n",
       "      <td>[]</td>\n",
       "      <td>2</td>\n",
       "      <td>14</td>\n",
       "      <td>2</td>\n",
       "      <td>1</td>\n",
       "      <td>2</td>\n",
       "      <td>0</td>\n",
       "      <td>0</td>\n",
       "      <td>35</td>\n",
       "    </tr>\n",
       "    <tr>\n",
       "      <th>3</th>\n",
       "      <td>[전라남도는 올해 4월과 6월 홍콩 크루즈선사 스타크루즈의 5만톤급‘아쿠아리우스’호...</td>\n",
       "      <td>[올해 4월과 6월 두 차례에 걸쳐 타이완의 크루즈 관광객 4000여명이 여수에 입...</td>\n",
       "      <td>[(올해, NNG), (4, SN), (월, NNBC), (과, JC), (6, S...</td>\n",
       "      <td>[올해, 4, 월, 과, 6, 월, 두, 차례, 에, 걸쳐, 타이완, 의, 크루즈,...</td>\n",
       "      <td>[NNG, SN, NNBC, JC, SN, NNBC, MM, NNG, JKB, VV...</td>\n",
       "      <td>[올해, 4월과, 6월, 두, 차례에, 걸쳐, 타이완의, 크루즈, 관광객, 4000...</td>\n",
       "      <td>{'올해': 'NNG', '4': 'SN', '월': 'NNBC', '과': 'JC...</td>\n",
       "      <td>[타이완, 크루즈, 여수, 전남]</td>\n",
       "      <td>[올해, 차례, 관광객, 입항, 관광지, 방문, 예정]</td>\n",
       "      <td>[걸쳐, 해]</td>\n",
       "      <td>...</td>\n",
       "      <td>[]</td>\n",
       "      <td>[]</td>\n",
       "      <td>4</td>\n",
       "      <td>7</td>\n",
       "      <td>2</td>\n",
       "      <td>1</td>\n",
       "      <td>4</td>\n",
       "      <td>0</td>\n",
       "      <td>0</td>\n",
       "      <td>32</td>\n",
       "    </tr>\n",
       "    <tr>\n",
       "      <th>4</th>\n",
       "      <td>[광양시는 정부가 2018년 1월 1일부터 시행하는 일자리 안정자금 신청을 12개 ...</td>\n",
       "      <td>[광양시는 30인 미만 중소기업 등 사업주에 1인당 월 13만원씩 지급하는 일자리 ...</td>\n",
       "      <td>[(광양시, NNP), (는, JX), (30, SN), (인, NNG), (미만,...</td>\n",
       "      <td>[광양시, 는, 30, 인, 미만, 중소기업, 등, 사업주, 에, 1, 인, 당, ...</td>\n",
       "      <td>[NNP, JX, SN, NNG, NNG, NNG, NNB, NNG, JKB, SN...</td>\n",
       "      <td>[광양시는, 30인, 미만, 중소기업, 등, 사업주에, 1인당, 월, 13만원씩, ...</td>\n",
       "      <td>{'광양시': 'NNP', '는': 'ETM', '30': 'SN', '인': 'N...</td>\n",
       "      <td>[광양시]</td>\n",
       "      <td>[인, 미만, 중소기업, 사업주, 인, 월, 지급, 일자리, 안정, 자금, 신청, ...</td>\n",
       "      <td>[면, 통해]</td>\n",
       "      <td>...</td>\n",
       "      <td>[]</td>\n",
       "      <td>[]</td>\n",
       "      <td>1</td>\n",
       "      <td>15</td>\n",
       "      <td>2</td>\n",
       "      <td>1</td>\n",
       "      <td>6</td>\n",
       "      <td>0</td>\n",
       "      <td>0</td>\n",
       "      <td>38</td>\n",
       "    </tr>\n",
       "  </tbody>\n",
       "</table>\n",
       "<p>5 rows × 22 columns</p>\n",
       "</div>"
      ],
      "text/plain": [
       "                                             ext_sum  \\\n",
       "0  [여수시는 원도심 일대에서 추진된 컬러빌리지 사업을 지난해 말 마무리하며 색채와 빛...   \n",
       "1  [임직원과 선수단 모두는 이날 구봉산 정상에 올라 일출을 보며 2018년 구단 목표...   \n",
       "2  [광양시는 오는 11일부터 24일까지 농업인교육관과 읍면동 회의실에서 농업인 105...   \n",
       "3  [전라남도는 올해 4월과 6월 홍콩 크루즈선사 스타크루즈의 5만톤급‘아쿠아리우스’호...   \n",
       "4  [광양시는 정부가 2018년 1월 1일부터 시행하는 일자리 안정자금 신청을 12개 ...   \n",
       "\n",
       "                                             abs_sum  \\\n",
       "0  [여수시는 컬러빌리지 사업에 8억원을 투입하여 ‘색채와 빛’ 도시를 완성하여 고소천...   \n",
       "1  [전남드래곤즈 임직원과 선수단이 4일 구봉산 정상에 올라 일출을 보며 2018년 구...   \n",
       "2  [광양시는 농업인들의 경쟁력을 높이고, 소득안정을 위해 매실·감·참다래 등 지역특화...   \n",
       "3  [올해 4월과 6월 두 차례에 걸쳐 타이완의 크루즈 관광객 4000여명이 여수에 입...   \n",
       "4  [광양시는 30인 미만 중소기업 등 사업주에 1인당 월 13만원씩 지급하는 일자리 ...   \n",
       "\n",
       "                                                 pos  \\\n",
       "0  [(여수시, NNP), (는, JX), (컬러, NNG), (빌리지, NNG), (...   \n",
       "1  [(전남, NNP), (드래곤즈, NNP), (임직원, NNG), (과, JC), ...   \n",
       "2  [(광양시, NNP), (는, JX), (농업, NNG), (인, XSN), (들,...   \n",
       "3  [(올해, NNG), (4, SN), (월, NNBC), (과, JC), (6, S...   \n",
       "4  [(광양시, NNP), (는, JX), (30, SN), (인, NNG), (미만,...   \n",
       "\n",
       "                                              morphs  \\\n",
       "0  [여수시, 는, 컬러, 빌리지, 사업, 에, 8, 억, 원, 을, 투입, 하, 여,...   \n",
       "1  [전남, 드래곤즈, 임직원, 과, 선수단, 이, 4, 일, 구봉산, 정상, 에, 올...   \n",
       "2  [광양시, 는, 농업, 인, 들, 의, 경쟁력, 을, 높이, 고, ,, 소득, 안정...   \n",
       "3  [올해, 4, 월, 과, 6, 월, 두, 차례, 에, 걸쳐, 타이완, 의, 크루즈,...   \n",
       "4  [광양시, 는, 30, 인, 미만, 중소기업, 등, 사업주, 에, 1, 인, 당, ...   \n",
       "\n",
       "                                                pos_  \\\n",
       "0  [NNP, JX, NNG, NNG, NNG, JKB, SN, NR, NNBC, JK...   \n",
       "1  [NNP, NNP, NNG, JC, NNG, JKS, SN, NNBC, NNP, N...   \n",
       "2  [NNP, JX, NNG, XSN, XSN, JKG, NNG, JKO, VV, EC...   \n",
       "3  [NNG, SN, NNBC, JC, SN, NNBC, MM, NNG, JKB, VV...   \n",
       "4  [NNP, JX, SN, NNG, NNG, NNG, NNB, NNG, JKB, SN...   \n",
       "\n",
       "                                          word_phase  \\\n",
       "0  [여수시는, 컬러빌리지, 사업에, 8억원을, 투입하여, ‘색채와, 빛’, 도시를, ...   \n",
       "1  [전남드래곤즈, 임직원과, 선수단이, 4일, 구봉산, 정상에, 올라, 일출을, 보며...   \n",
       "2  [광양시는, 농업인들의, 경쟁력을, 높이고,, 소득안정을, 위해, 매실·감·참다래,...   \n",
       "3  [올해, 4월과, 6월, 두, 차례에, 걸쳐, 타이완의, 크루즈, 관광객, 4000...   \n",
       "4  [광양시는, 30인, 미만, 중소기업, 등, 사업주에, 1인당, 월, 13만원씩, ...   \n",
       "\n",
       "                                        morph_to_pos             pos_NNP  \\\n",
       "0  {'여수시': 'NNP', '는': 'JX', '컬러': 'NNG', '빌리지': ...               [여수시]   \n",
       "1  {'전남': 'NNP', '드래곤즈': 'NNP', '임직원': 'NNG', '과'...     [전남, 드래곤즈, 구봉산]   \n",
       "2  {'광양시': 'NNP', '는': 'JX', '농업': 'NNG', '인': 'V...           [광양시, 다래]   \n",
       "3  {'올해': 'NNG', '4': 'SN', '월': 'NNBC', '과': 'JC...  [타이완, 크루즈, 여수, 전남]   \n",
       "4  {'광양시': 'NNP', '는': 'ETM', '30': 'SN', '인': 'N...               [광양시]   \n",
       "\n",
       "                                             pos_NNG        pos_EC  ...  \\\n",
       "0  [컬러, 빌리지, 사업, 투입, 색채, 빛, 도시, 완성, 고소, 천사, 벽화, 마...  [여, 여, 고, 해]  ...   \n",
       "1             [임직원, 선수단, 정상, 일출, 구단, 목표, 달성, 새해, 각오]       [올라, 며]  ...   \n",
       "2  [농업, 경쟁력, 소득, 안정, 매실, 감, 지역, 특화, 작목, 중심, 농업, 실...       [고, 위해]  ...   \n",
       "3                     [올해, 차례, 관광객, 입항, 관광지, 방문, 예정]       [걸쳐, 해]  ...   \n",
       "4  [인, 미만, 중소기업, 사업주, 인, 월, 지급, 일자리, 안정, 자금, 신청, ...       [면, 통해]  ...   \n",
       "\n",
       "  pos_MAG pos_MAJ pos_num_NNP pos_num_NNG  pos_num_EC  pos_num_EF  pos_num_SN  \\\n",
       "0  [알록달록]      []           1          26           4           1           2   \n",
       "1      []      []           3           9           2           1           2   \n",
       "2      []      []           2          14           2           1           2   \n",
       "3      []      []           4           7           2           1           4   \n",
       "4      []      []           1          15           2           1           6   \n",
       "\n",
       "   pos_num_MAG  pos_num_MAJ  morphs_num  \n",
       "0            1            0          63  \n",
       "1            0            0          29  \n",
       "2            0            0          35  \n",
       "3            0            0          32  \n",
       "4            0            0          38  \n",
       "\n",
       "[5 rows x 22 columns]"
      ]
     },
     "execution_count": 61,
     "metadata": {},
     "output_type": "execute_result"
    }
   ],
   "source": [
    "%%time\n",
    "\n",
    "pair_data['pos'] = pair_data['abs_sum'].map(lambda x : pos(x[0]))\n",
    "pair_data['morphs'] = pair_data['abs_sum'].map(lambda x : morphs(x[0]))\n",
    "\n",
    "pair_data['pos_'] = pair_data['pos'].map(lambda x : pos_(x))\n",
    "pair_data['word_phase'] = pair_data['abs_sum'].map(lambda x : word_phase(x[0]))\n",
    "# pair_data['morph_to_pos'] = pair_data.apply(lambda x: morph_to_pos(x['morphs'],x['pos_']), axis=1)\n",
    "pair_data['morph_to_pos'] = pair_data['pos'].map(lambda x:morph_to_pos(x))\n",
    "\n",
    "pair_data['pos_NNP'] = pair_data['pos'].map(lambda x : pos_NNP(x))\n",
    "pair_data['pos_NNG'] = pair_data['pos'].map(lambda x : pos_NNG(x))\n",
    "pair_data['pos_EC'] = pair_data['pos'].map(lambda x : pos_EC(x))\n",
    "pair_data['pos_EF'] = pair_data['pos'].map(lambda x : pos_EF(x))\n",
    "pair_data['pos_SN'] = pair_data['pos'].map(lambda x : pos_SN(x))\n",
    "pair_data['pos_MAG'] = pair_data['pos'].map(lambda x : pos_MAG(x))\n",
    "pair_data['pos_MAJ'] = pair_data['pos'].map(lambda x : pos_MAJ(x))\n",
    "\n",
    "\n",
    "pair_data['pos_num_NNP'] = pair_data['pos'].map(lambda x : pos_num_NNP(x))\n",
    "pair_data['pos_num_NNG'] = pair_data['pos'].map(lambda x : pos_num_NNG(x))\n",
    "pair_data['pos_num_EC'] = pair_data['pos'].map(lambda x : pos_num_EC(x))\n",
    "pair_data['pos_num_EF'] = pair_data['pos'].map(lambda x : pos_num_EF(x))\n",
    "pair_data['pos_num_SN'] = pair_data['pos'].map(lambda x : pos_num_SN(x))\n",
    "pair_data['pos_num_MAG'] = pair_data['pos'].map(lambda x : pos_num_MAG(x))\n",
    "pair_data['pos_num_MAJ'] = pair_data['pos'].map(lambda x : pos_num_MAJ(x))\n",
    "\n",
    "pair_data['morphs_num'] = pair_data['morphs'].map(lambda x : morphs_num(x))\n",
    "\n",
    "pair_data.head()"
   ]
  },
  {
   "cell_type": "code",
   "execution_count": 62,
   "id": "environmental-chosen",
   "metadata": {},
   "outputs": [
    {
     "data": {
      "text/plain": [
       "count    104355.000000\n",
       "mean          0.999358\n",
       "std           0.173656\n",
       "min           0.000000\n",
       "25%           1.000000\n",
       "50%           1.000000\n",
       "75%           1.000000\n",
       "max           8.000000\n",
       "Name: pos_num_SF, dtype: float64"
      ]
     },
     "execution_count": 62,
     "metadata": {},
     "output_type": "execute_result"
    }
   ],
   "source": [
    "def pos_SF(x): return [i[0] for i in x if 'SF' in i[1]]\n",
    "def pos_num_SF(x): return len([i for i in x if 'SF' in i[1]]) \n",
    "pair_data['pos_SF'] = pair_data['pos'].map(lambda x : pos_SF(x))\n",
    "pair_data['pos_num_SF'] = pair_data['pos'].map(lambda x : pos_num_SF(x))\n",
    "pair_data['pos_num_SF'].describe()"
   ]
  },
  {
   "cell_type": "code",
   "execution_count": 63,
   "id": "solved-headset",
   "metadata": {},
   "outputs": [
    {
     "data": {
      "text/plain": [
       "count    104355.000000\n",
       "mean         22.915711\n",
       "std           7.786412\n",
       "min           0.000000\n",
       "25%          17.000000\n",
       "50%          22.000000\n",
       "75%          28.000000\n",
       "max         112.000000\n",
       "Name: pos_num_NNG, dtype: float64"
      ]
     },
     "execution_count": 63,
     "metadata": {},
     "output_type": "execute_result"
    }
   ],
   "source": [
    "#- 생성요약 문장 당 '일반명사 개수' 통계 분포\n",
    "\n",
    "pair_data['pos_num_NNG'].describe()"
   ]
  },
  {
   "cell_type": "code",
   "execution_count": 64,
   "id": "proof-picking",
   "metadata": {
    "scrolled": true
   },
   "outputs": [
    {
     "data": {
      "text/plain": [
       "count    104355.000000\n",
       "mean          2.864788\n",
       "std           2.307283\n",
       "min           0.000000\n",
       "25%           1.000000\n",
       "50%           2.000000\n",
       "75%           4.000000\n",
       "max          25.000000\n",
       "Name: pos_num_NNP, dtype: float64"
      ]
     },
     "execution_count": 64,
     "metadata": {},
     "output_type": "execute_result"
    }
   ],
   "source": [
    "#- 생성요약 문장 당 '고유명사 개수' 통계 분포\n",
    "\n",
    "pair_data['pos_num_NNP'].describe()"
   ]
  },
  {
   "cell_type": "code",
   "execution_count": 65,
   "id": "fancy-christopher",
   "metadata": {},
   "outputs": [
    {
     "data": {
      "text/plain": [
       "count    104355.000000\n",
       "mean          3.746692\n",
       "std           2.597808\n",
       "min           0.000000\n",
       "25%           2.000000\n",
       "50%           3.000000\n",
       "75%           5.000000\n",
       "max          34.000000\n",
       "Name: pos_num_SN, dtype: float64"
      ]
     },
     "execution_count": 65,
     "metadata": {},
     "output_type": "execute_result"
    }
   ],
   "source": [
    "#- 생성요약 문장 당 '숫자 개수' 통계 분포\n",
    "\n",
    "pair_data['pos_num_SN'].describe()"
   ]
  },
  {
   "cell_type": "code",
   "execution_count": 66,
   "id": "literary-legend",
   "metadata": {},
   "outputs": [
    {
     "data": {
      "text/plain": [
       "count    104355.000000\n",
       "mean          3.534100\n",
       "std           2.131551\n",
       "min           0.000000\n",
       "25%           2.000000\n",
       "50%           3.000000\n",
       "75%           5.000000\n",
       "max          29.000000\n",
       "Name: pos_num_EC, dtype: float64"
      ]
     },
     "execution_count": 66,
     "metadata": {},
     "output_type": "execute_result"
    }
   ],
   "source": [
    "#- 생성요약 문장 당 '연결어미 개수' 통계 분포\n",
    "\n",
    "pair_data['pos_num_EC'].describe()"
   ]
  },
  {
   "cell_type": "code",
   "execution_count": 67,
   "id": "smooth-routine",
   "metadata": {},
   "outputs": [
    {
     "data": {
      "text/plain": [
       "count    104355.000000\n",
       "mean          1.011806\n",
       "std           0.216592\n",
       "min           0.000000\n",
       "25%           1.000000\n",
       "50%           1.000000\n",
       "75%           1.000000\n",
       "max          10.000000\n",
       "Name: pos_num_EF, dtype: float64"
      ]
     },
     "execution_count": 67,
     "metadata": {},
     "output_type": "execute_result"
    }
   ],
   "source": [
    "#- 생성요약 문장 당 '종결어미 개수' 통계 분포\n",
    "\n",
    "pair_data['pos_num_EF'].describe()"
   ]
  },
  {
   "cell_type": "code",
   "execution_count": 68,
   "id": "meaningful-hardwood",
   "metadata": {},
   "outputs": [
    {
     "data": {
      "text/plain": [
       "count    104355.000000\n",
       "mean          0.170428\n",
       "std           0.435985\n",
       "min           0.000000\n",
       "25%           0.000000\n",
       "50%           0.000000\n",
       "75%           0.000000\n",
       "max           5.000000\n",
       "Name: pos_num_MAJ, dtype: float64"
      ]
     },
     "execution_count": 68,
     "metadata": {},
     "output_type": "execute_result"
    }
   ],
   "source": [
    "#- 생성요약 문장 당 '연결부사 개수' 통계 분포\n",
    "\n",
    "pair_data['pos_num_MAJ'].describe()"
   ]
  },
  {
   "cell_type": "code",
   "execution_count": 69,
   "id": "clean-brook",
   "metadata": {
    "scrolled": false
   },
   "outputs": [
    {
     "data": {
      "text/plain": [
       "count    104355.000000\n",
       "mean         62.175947\n",
       "std          17.076692\n",
       "min           0.000000\n",
       "25%          50.000000\n",
       "50%          60.000000\n",
       "75%          73.000000\n",
       "max         297.000000\n",
       "Name: morphs_num, dtype: float64"
      ]
     },
     "execution_count": 69,
     "metadata": {},
     "output_type": "execute_result"
    }
   ],
   "source": [
    "#- 생성요약 문장 당 '단어(형태소 분석)' 통계 분포\n",
    "\n",
    "pair_data['morphs_num'].describe()"
   ]
  },
  {
   "cell_type": "markdown",
   "id": "chief-assault",
   "metadata": {},
   "source": [
    "## 형태소 개수 (morphs_num)\n",
    "- mean 은 62개\n",
    "- 75% 는 73개 에 속함\n",
    "- max 는 297"
   ]
  },
  {
   "cell_type": "code",
   "execution_count": 70,
   "id": "particular-identifier",
   "metadata": {
    "scrolled": true
   },
   "outputs": [
    {
     "data": {
      "text/plain": [
       "[['지난 20일 일본 도쿄에서 개막된 2019 럭비 월드컵에서 주최측은 물론 외국 관중들도 욱일기를 응원에 사용하고 있는 것에 대해 서경덕 교수는 이를 방관한 일본과 응원을 막지 않은 주최국 일본이 더 큰 문제라고 지적했다. \\n* 제시된 문장은 누가 홍보 부족을 지적했는지가 나와있질 않습니다. 가이드라인에 나와있는 6하원칙 중 누가 라는 부분이 삭제 되는 것인데요... 홍보부족이라는 부분도 지적내용에 들어가 있질 않고요...\\n=>기사 어디에도 제목에 있는 \"홍보 절실\"이란 표현은 없지만 기자가 \"서양인들은 일본 욱일기가 독일 하켄크로이츠와 같은 전범기임을 잘 모르기에 사용했으리라 추정된다.\"에서 홍보를 통해 정확한 사실을 알려야겠다는 취지로 달아 놓은 것으로 생각됩니다. 6하 원칙을 따지면 주어는 \"성신여자대학교 교양학부 서경덕 교수\"가 되어야 하는데 기사가 \"외국인도 전범기 사용\"에 초점이 맞춰져 있으므로 \"홍보\"라는 문구를 생각해서  아래와 같이 수정 요약 문구를 제시해 봅니다.\\n=> 20일 2019 럭비 월드컵이 개막되었지만 주최 측은 물론이고 외국 관중들도 전범기인 욱일기를 응원에 사용하고 있어 이를 방관하고 응원을 막지 않은 주최국 일본에 문제가 있음이 지적되었다.']]"
      ]
     },
     "execution_count": 70,
     "metadata": {},
     "output_type": "execute_result"
    }
   ],
   "source": [
    "list(pair_data[pair_data['morphs_num'] == 297].abs_sum)"
   ]
  },
  {
   "cell_type": "code",
   "execution_count": 71,
   "id": "enormous-formula",
   "metadata": {
    "scrolled": true
   },
   "outputs": [],
   "source": [
    "def quantile(col):\n",
    "    Q25=pair_data[col].quantile(.25)\n",
    "    Q50=pair_data[col].quantile(.50)\n",
    "    Q75=pair_data[col].quantile(.75)\n",
    "    Q95=pair_data[col].quantile(.95)\n",
    "    bins = [0,Q25,Q50,Q75,Q95]\n",
    "    labels = ['Q25','Q50','Q75','Q95']\n",
    "    return bins, labels"
   ]
  },
  {
   "cell_type": "code",
   "execution_count": 72,
   "id": "underlying-combine",
   "metadata": {},
   "outputs": [
    {
     "data": {
      "text/plain": [
       "count     99337\n",
       "unique        4\n",
       "top         Q75\n",
       "freq      27705\n",
       "Name: pos_cat_morphs, dtype: object"
      ]
     },
     "execution_count": 72,
     "metadata": {},
     "output_type": "execute_result"
    }
   ],
   "source": [
    "bins, labels = quantile('morphs_num')  \n",
    "pair_data['pos_cat_morphs'] = pd.cut(x=pair_data['morphs_num'],bins=bins,labels=labels)\n",
    "\n",
    "pair_data['pos_cat_morphs'].describe()"
   ]
  },
  {
   "cell_type": "code",
   "execution_count": 73,
   "id": "expanded-wilderness",
   "metadata": {
    "scrolled": true
   },
   "outputs": [
    {
     "data": {
      "text/plain": [
       "count     95867\n",
       "unique        4\n",
       "top         Q25\n",
       "freq      33202\n",
       "Name: pos_cat_EC, dtype: object"
      ]
     },
     "execution_count": 73,
     "metadata": {},
     "output_type": "execute_result"
    }
   ],
   "source": [
    "#- NaN은 연결어미EC 개수가 0인 경우\n",
    "bins, labels = quantile('pos_num_EC')  \n",
    "pair_data['pos_cat_EC'] = pd.cut(x=pair_data['pos_num_EC'],bins=bins,labels=labels)\n",
    "pair_data['pos_cat_EC'].describe()"
   ]
  },
  {
   "cell_type": "code",
   "execution_count": 74,
   "id": "placed-health",
   "metadata": {},
   "outputs": [
    {
     "data": {
      "text/html": [
       "<div>\n",
       "<style scoped>\n",
       "    .dataframe tbody tr th:only-of-type {\n",
       "        vertical-align: middle;\n",
       "    }\n",
       "\n",
       "    .dataframe tbody tr th {\n",
       "        vertical-align: top;\n",
       "    }\n",
       "\n",
       "    .dataframe thead th {\n",
       "        text-align: right;\n",
       "    }\n",
       "</style>\n",
       "<table border=\"1\" class=\"dataframe\">\n",
       "  <thead>\n",
       "    <tr style=\"text-align: right;\">\n",
       "      <th></th>\n",
       "      <th>pos_cat_EC</th>\n",
       "      <th>Q25</th>\n",
       "      <th>Q50</th>\n",
       "      <th>Q75</th>\n",
       "      <th>Q95</th>\n",
       "    </tr>\n",
       "    <tr>\n",
       "      <th>pos_num_EF</th>\n",
       "      <th>pos_cat_morphs</th>\n",
       "      <th></th>\n",
       "      <th></th>\n",
       "      <th></th>\n",
       "      <th></th>\n",
       "    </tr>\n",
       "  </thead>\n",
       "  <tbody>\n",
       "    <tr>\n",
       "      <th rowspan=\"4\" valign=\"top\">0</th>\n",
       "      <th>Q25</th>\n",
       "      <td>40.189349</td>\n",
       "      <td>43.309735</td>\n",
       "      <td>44.798507</td>\n",
       "      <td>46.045455</td>\n",
       "    </tr>\n",
       "    <tr>\n",
       "      <th>Q50</th>\n",
       "      <td>54.740260</td>\n",
       "      <td>55.629310</td>\n",
       "      <td>55.466667</td>\n",
       "      <td>55.692308</td>\n",
       "    </tr>\n",
       "    <tr>\n",
       "      <th>Q75</th>\n",
       "      <td>65.739130</td>\n",
       "      <td>66.272727</td>\n",
       "      <td>66.468254</td>\n",
       "      <td>66.938272</td>\n",
       "    </tr>\n",
       "    <tr>\n",
       "      <th>Q95</th>\n",
       "      <td>81.125000</td>\n",
       "      <td>80.750000</td>\n",
       "      <td>80.476190</td>\n",
       "      <td>80.625000</td>\n",
       "    </tr>\n",
       "    <tr>\n",
       "      <th rowspan=\"4\" valign=\"top\">1</th>\n",
       "      <th>Q25</th>\n",
       "      <td>41.775247</td>\n",
       "      <td>43.862815</td>\n",
       "      <td>44.902622</td>\n",
       "      <td>46.038076</td>\n",
       "    </tr>\n",
       "    <tr>\n",
       "      <th>Q50</th>\n",
       "      <td>55.300724</td>\n",
       "      <td>55.519659</td>\n",
       "      <td>55.877288</td>\n",
       "      <td>56.255198</td>\n",
       "    </tr>\n",
       "    <tr>\n",
       "      <th>Q75</th>\n",
       "      <td>66.036204</td>\n",
       "      <td>66.267308</td>\n",
       "      <td>66.668286</td>\n",
       "      <td>67.150394</td>\n",
       "    </tr>\n",
       "    <tr>\n",
       "      <th>Q95</th>\n",
       "      <td>80.108220</td>\n",
       "      <td>80.436155</td>\n",
       "      <td>81.153383</td>\n",
       "      <td>81.911653</td>\n",
       "    </tr>\n",
       "    <tr>\n",
       "      <th rowspan=\"4\" valign=\"top\">2</th>\n",
       "      <th>Q25</th>\n",
       "      <td>43.214286</td>\n",
       "      <td>45.551020</td>\n",
       "      <td>45.580000</td>\n",
       "      <td>46.625000</td>\n",
       "    </tr>\n",
       "    <tr>\n",
       "      <th>Q50</th>\n",
       "      <td>55.457286</td>\n",
       "      <td>55.189189</td>\n",
       "      <td>56.429577</td>\n",
       "      <td>57.000000</td>\n",
       "    </tr>\n",
       "    <tr>\n",
       "      <th>Q75</th>\n",
       "      <td>66.327869</td>\n",
       "      <td>66.732394</td>\n",
       "      <td>66.780269</td>\n",
       "      <td>67.817073</td>\n",
       "    </tr>\n",
       "    <tr>\n",
       "      <th>Q95</th>\n",
       "      <td>79.633333</td>\n",
       "      <td>81.530612</td>\n",
       "      <td>81.685000</td>\n",
       "      <td>82.482270</td>\n",
       "    </tr>\n",
       "    <tr>\n",
       "      <th rowspan=\"4\" valign=\"top\">3</th>\n",
       "      <th>Q25</th>\n",
       "      <td>44.666667</td>\n",
       "      <td>47.000000</td>\n",
       "      <td>46.000000</td>\n",
       "      <td>NaN</td>\n",
       "    </tr>\n",
       "    <tr>\n",
       "      <th>Q50</th>\n",
       "      <td>57.857143</td>\n",
       "      <td>55.875000</td>\n",
       "      <td>57.666667</td>\n",
       "      <td>51.000000</td>\n",
       "    </tr>\n",
       "    <tr>\n",
       "      <th>Q75</th>\n",
       "      <td>64.571429</td>\n",
       "      <td>65.692308</td>\n",
       "      <td>66.900000</td>\n",
       "      <td>65.833333</td>\n",
       "    </tr>\n",
       "    <tr>\n",
       "      <th>Q95</th>\n",
       "      <td>81.636364</td>\n",
       "      <td>84.800000</td>\n",
       "      <td>80.562500</td>\n",
       "      <td>81.571429</td>\n",
       "    </tr>\n",
       "    <tr>\n",
       "      <th rowspan=\"4\" valign=\"top\">4</th>\n",
       "      <th>Q25</th>\n",
       "      <td>NaN</td>\n",
       "      <td>NaN</td>\n",
       "      <td>NaN</td>\n",
       "      <td>NaN</td>\n",
       "    </tr>\n",
       "    <tr>\n",
       "      <th>Q50</th>\n",
       "      <td>NaN</td>\n",
       "      <td>57.000000</td>\n",
       "      <td>NaN</td>\n",
       "      <td>NaN</td>\n",
       "    </tr>\n",
       "    <tr>\n",
       "      <th>Q75</th>\n",
       "      <td>69.000000</td>\n",
       "      <td>NaN</td>\n",
       "      <td>NaN</td>\n",
       "      <td>71.000000</td>\n",
       "    </tr>\n",
       "    <tr>\n",
       "      <th>Q95</th>\n",
       "      <td>NaN</td>\n",
       "      <td>86.000000</td>\n",
       "      <td>NaN</td>\n",
       "      <td>82.666667</td>\n",
       "    </tr>\n",
       "    <tr>\n",
       "      <th rowspan=\"4\" valign=\"top\">5</th>\n",
       "      <th>Q25</th>\n",
       "      <td>NaN</td>\n",
       "      <td>NaN</td>\n",
       "      <td>NaN</td>\n",
       "      <td>NaN</td>\n",
       "    </tr>\n",
       "    <tr>\n",
       "      <th>Q50</th>\n",
       "      <td>NaN</td>\n",
       "      <td>NaN</td>\n",
       "      <td>NaN</td>\n",
       "      <td>NaN</td>\n",
       "    </tr>\n",
       "    <tr>\n",
       "      <th>Q75</th>\n",
       "      <td>NaN</td>\n",
       "      <td>NaN</td>\n",
       "      <td>NaN</td>\n",
       "      <td>NaN</td>\n",
       "    </tr>\n",
       "    <tr>\n",
       "      <th>Q95</th>\n",
       "      <td>NaN</td>\n",
       "      <td>NaN</td>\n",
       "      <td>NaN</td>\n",
       "      <td>NaN</td>\n",
       "    </tr>\n",
       "    <tr>\n",
       "      <th rowspan=\"4\" valign=\"top\">6</th>\n",
       "      <th>Q25</th>\n",
       "      <td>NaN</td>\n",
       "      <td>NaN</td>\n",
       "      <td>NaN</td>\n",
       "      <td>NaN</td>\n",
       "    </tr>\n",
       "    <tr>\n",
       "      <th>Q50</th>\n",
       "      <td>NaN</td>\n",
       "      <td>NaN</td>\n",
       "      <td>NaN</td>\n",
       "      <td>NaN</td>\n",
       "    </tr>\n",
       "    <tr>\n",
       "      <th>Q75</th>\n",
       "      <td>NaN</td>\n",
       "      <td>NaN</td>\n",
       "      <td>NaN</td>\n",
       "      <td>NaN</td>\n",
       "    </tr>\n",
       "    <tr>\n",
       "      <th>Q95</th>\n",
       "      <td>NaN</td>\n",
       "      <td>NaN</td>\n",
       "      <td>NaN</td>\n",
       "      <td>NaN</td>\n",
       "    </tr>\n",
       "    <tr>\n",
       "      <th rowspan=\"4\" valign=\"top\">8</th>\n",
       "      <th>Q25</th>\n",
       "      <td>NaN</td>\n",
       "      <td>NaN</td>\n",
       "      <td>NaN</td>\n",
       "      <td>NaN</td>\n",
       "    </tr>\n",
       "    <tr>\n",
       "      <th>Q50</th>\n",
       "      <td>NaN</td>\n",
       "      <td>NaN</td>\n",
       "      <td>NaN</td>\n",
       "      <td>NaN</td>\n",
       "    </tr>\n",
       "    <tr>\n",
       "      <th>Q75</th>\n",
       "      <td>NaN</td>\n",
       "      <td>NaN</td>\n",
       "      <td>NaN</td>\n",
       "      <td>NaN</td>\n",
       "    </tr>\n",
       "    <tr>\n",
       "      <th>Q95</th>\n",
       "      <td>NaN</td>\n",
       "      <td>NaN</td>\n",
       "      <td>NaN</td>\n",
       "      <td>NaN</td>\n",
       "    </tr>\n",
       "    <tr>\n",
       "      <th rowspan=\"4\" valign=\"top\">10</th>\n",
       "      <th>Q25</th>\n",
       "      <td>NaN</td>\n",
       "      <td>NaN</td>\n",
       "      <td>NaN</td>\n",
       "      <td>NaN</td>\n",
       "    </tr>\n",
       "    <tr>\n",
       "      <th>Q50</th>\n",
       "      <td>NaN</td>\n",
       "      <td>NaN</td>\n",
       "      <td>NaN</td>\n",
       "      <td>NaN</td>\n",
       "    </tr>\n",
       "    <tr>\n",
       "      <th>Q75</th>\n",
       "      <td>NaN</td>\n",
       "      <td>NaN</td>\n",
       "      <td>NaN</td>\n",
       "      <td>NaN</td>\n",
       "    </tr>\n",
       "    <tr>\n",
       "      <th>Q95</th>\n",
       "      <td>NaN</td>\n",
       "      <td>NaN</td>\n",
       "      <td>NaN</td>\n",
       "      <td>NaN</td>\n",
       "    </tr>\n",
       "  </tbody>\n",
       "</table>\n",
       "</div>"
      ],
      "text/plain": [
       "pos_cat_EC                       Q25        Q50        Q75        Q95\n",
       "pos_num_EF pos_cat_morphs                                            \n",
       "0          Q25             40.189349  43.309735  44.798507  46.045455\n",
       "           Q50             54.740260  55.629310  55.466667  55.692308\n",
       "           Q75             65.739130  66.272727  66.468254  66.938272\n",
       "           Q95             81.125000  80.750000  80.476190  80.625000\n",
       "1          Q25             41.775247  43.862815  44.902622  46.038076\n",
       "           Q50             55.300724  55.519659  55.877288  56.255198\n",
       "           Q75             66.036204  66.267308  66.668286  67.150394\n",
       "           Q95             80.108220  80.436155  81.153383  81.911653\n",
       "2          Q25             43.214286  45.551020  45.580000  46.625000\n",
       "           Q50             55.457286  55.189189  56.429577  57.000000\n",
       "           Q75             66.327869  66.732394  66.780269  67.817073\n",
       "           Q95             79.633333  81.530612  81.685000  82.482270\n",
       "3          Q25             44.666667  47.000000  46.000000        NaN\n",
       "           Q50             57.857143  55.875000  57.666667  51.000000\n",
       "           Q75             64.571429  65.692308  66.900000  65.833333\n",
       "           Q95             81.636364  84.800000  80.562500  81.571429\n",
       "4          Q25                   NaN        NaN        NaN        NaN\n",
       "           Q50                   NaN  57.000000        NaN        NaN\n",
       "           Q75             69.000000        NaN        NaN  71.000000\n",
       "           Q95                   NaN  86.000000        NaN  82.666667\n",
       "5          Q25                   NaN        NaN        NaN        NaN\n",
       "           Q50                   NaN        NaN        NaN        NaN\n",
       "           Q75                   NaN        NaN        NaN        NaN\n",
       "           Q95                   NaN        NaN        NaN        NaN\n",
       "6          Q25                   NaN        NaN        NaN        NaN\n",
       "           Q50                   NaN        NaN        NaN        NaN\n",
       "           Q75                   NaN        NaN        NaN        NaN\n",
       "           Q95                   NaN        NaN        NaN        NaN\n",
       "8          Q25                   NaN        NaN        NaN        NaN\n",
       "           Q50                   NaN        NaN        NaN        NaN\n",
       "           Q75                   NaN        NaN        NaN        NaN\n",
       "           Q95                   NaN        NaN        NaN        NaN\n",
       "10         Q25                   NaN        NaN        NaN        NaN\n",
       "           Q50                   NaN        NaN        NaN        NaN\n",
       "           Q75                   NaN        NaN        NaN        NaN\n",
       "           Q95                   NaN        NaN        NaN        NaN"
      ]
     },
     "execution_count": 74,
     "metadata": {},
     "output_type": "execute_result"
    }
   ],
   "source": [
    "tmp = pair_data.groupby(['pos_num_EF','pos_cat_morphs','pos_cat_EC'])['morphs_num'].mean()\n",
    "tmp.unstack()\n",
    "#- 종결어미 개수가 많아질수록 연결어미 개수 0일 가능성이 높아짐"
   ]
  },
  {
   "cell_type": "code",
   "execution_count": 75,
   "id": "absent-editor",
   "metadata": {},
   "outputs": [
    {
     "data": {
      "text/plain": [
       "pos_num_EC\n",
       "0      45.651410\n",
       "1      50.981128\n",
       "2      55.569841\n",
       "3      59.939328\n",
       "4      64.534833\n",
       "5      68.824720\n",
       "6      72.906055\n",
       "7      77.099636\n",
       "8      80.621294\n",
       "9      84.797458\n",
       "10     88.296970\n",
       "11     92.598820\n",
       "12     98.708791\n",
       "13    101.289157\n",
       "14    108.488889\n",
       "15    123.681818\n",
       "16    125.000000\n",
       "17    113.800000\n",
       "18    136.600000\n",
       "19    165.000000\n",
       "20    105.000000\n",
       "21    108.000000\n",
       "25    174.000000\n",
       "29    297.000000\n",
       "Name: morphs_num, dtype: float64"
      ]
     },
     "execution_count": 75,
     "metadata": {},
     "output_type": "execute_result"
    }
   ],
   "source": [
    "#- 문장 내 연결어미의 개수에 따른 평균 문장 길이(형태소 개수)\n",
    "pair_data['morphs_num'].groupby(pair_data['pos_num_EC']).mean()"
   ]
  },
  {
   "cell_type": "code",
   "execution_count": 76,
   "id": "medieval-oklahoma",
   "metadata": {
    "scrolled": true
   },
   "outputs": [
    {
     "data": {
      "text/plain": [
       "pos_num_EF\n",
       "0      61.060233\n",
       "1      62.002115\n",
       "2      68.693119\n",
       "3      78.485030\n",
       "4      89.846154\n",
       "5     139.000000\n",
       "6      95.000000\n",
       "8     297.000000\n",
       "10    236.000000\n",
       "Name: morphs_num, dtype: float64"
      ]
     },
     "execution_count": 76,
     "metadata": {},
     "output_type": "execute_result"
    }
   ],
   "source": [
    "#- 문장 내 종결어미의 개수에 따른 평균 문장 길이(형태소 개수)\n",
    "pair_data['morphs_num'].groupby(pair_data['pos_num_EF']).mean()"
   ]
  },
  {
   "cell_type": "code",
   "execution_count": 77,
   "id": "searching-zealand",
   "metadata": {},
   "outputs": [],
   "source": [
    "# from collections import Counter\n",
    "\n",
    "# def detect_outliers(df, n, features):\n",
    "#     outlier_indices = [] \n",
    "#     for col in features:\n",
    "#         Q1 = np.percentile(df[col], 25)\n",
    "#         Q3 = np.percentile(df[col], 75)\n",
    "#         IQR = Q3-Q1\n",
    "        \n",
    "#         outlier_step = 1.5 * IQR\n",
    "        \n",
    "#         outlier_list_col = df[(df[col] < Q1 - outlier_step) | (df[col] > Q3 + outlier_step)].index\n",
    "#         outlier_indices.extend(outlier_list_col)\n",
    "#         print(outlier_list_col)\n",
    "#     outlier_indices = Counter(outlier_indices)\n",
    "#     multiple_outliers = list(k for k, v in outlier_indices.items() if v > n)\n",
    "    \n",
    "#     return multiple_outliers\n",
    "\n",
    "# Outliers_to_drop = detect_outliers(pair_data, 2, ['pos_num_EF','pos_num_EC','morphs_num'])\n",
    "# pair_data.loc[Outliers_to_drop]        \n"
   ]
  },
  {
   "cell_type": "code",
   "execution_count": 78,
   "id": "precious-baptist",
   "metadata": {},
   "outputs": [
    {
     "data": {
      "text/plain": [
       "[['서울경제] \\'진심이 닿다\\' 이동욱-유인나의 달콤하고 야릇한 소파 키스로 안방극장은 후끈 달아올랐고, 두 사람의 \\'숨멎 로맨스\\'가 시청자들의 심장을 더욱 요동치게 했다. \"우리 지금 잡은 이 손. 다신 놓지 않기로 약속해요\"라는 오진심의 말에 권정록은 \"절대 놓지 않겠습니다\" 라며 두 손을 맞잡고 다짐했다. \\n\\n권정록은 오진심이 출연하는 드라마에서 남자주인공의 케미가 \\'키스 장인\\'이라는 남자주인공의 타이틀에 신경이 쓰여 키스신 촬영 당일 현장에 찾아간다. 화기애애해 보이는 오진심과 남자주인공의 모습을 보고 질투심을 폭발한다. \\n\\n집에 돌아온 오진심은 혹시나 권정록이 오해했을까 키스신은 연기한 것뿐이라며 해명하기 시작했다. 이를 듣던 권정록은 \"그럼 척이 아니라 진짜는 이렇게 합니까?\"라며 오진심을 부드럽게 끌어당겨 키스한 데 이어, 그를 조심스레 소파에 눕힌 뒤 다시 한번 진하고 뜨겁게 키스를 하는 모습으로 숨멎을 유발했다.']]"
      ]
     },
     "execution_count": 78,
     "metadata": {},
     "output_type": "execute_result"
    }
   ],
   "source": [
    "#- 종결어미가 10개인 경우. 이상치\n",
    "list(pair_data[pair_data['pos_num_EF']==10]['abs_sum'])"
   ]
  },
  {
   "cell_type": "code",
   "execution_count": 79,
   "id": "caroline-christianity",
   "metadata": {},
   "outputs": [
    {
     "data": {
      "text/plain": [
       "1544"
      ]
     },
     "execution_count": 79,
     "metadata": {},
     "output_type": "execute_result"
    }
   ],
   "source": [
    "#- 종결어미가 연결어미로 분류된 경우. 1500개 \n",
    "len(list(pair_data[pair_data['pos_num_EF']==0]['abs_sum']))\n",
    "# list(pair_data[pair_data['pos_num_EF']==0]['pos'])"
   ]
  },
  {
   "cell_type": "code",
   "execution_count": 80,
   "id": "metropolitan-lodging",
   "metadata": {},
   "outputs": [
    {
     "data": {
      "text/plain": [
       "<AxesSubplot:>"
      ]
     },
     "execution_count": 80,
     "metadata": {},
     "output_type": "execute_result"
    },
    {
     "data": {
      "image/png": "[encoded data removed]",
      "text/plain": [
       "<Figure size 1440x360 with 1 Axes>"
      ]
     },
     "metadata": {},
     "output_type": "display_data"
    }
   ],
   "source": [
    "color = {'boxes': 'DarkGreen', 'whiskers': 'DarkOrange', 'medians': 'DarkBlue', 'caps': 'Gray'}\n",
    "# pair_data.plot.box(color=color, sym='r+')\n",
    "pair_data.boxplot(color=color, sym='r+')"
   ]
  },
  {
   "cell_type": "markdown",
   "id": "looking-removal",
   "metadata": {},
   "source": [
    "- 약 9만개\n",
    "- 문장길이(형태소 개수) < 90 이고 종결어미의 개수는 1개 이하\n",
    "- 연결어미의 개수는 7개 이하 이고 숫자의 개수는 9개 이하 \n",
    "- 위 기준은 quantile 95"
   ]
  },
  {
   "cell_type": "code",
   "execution_count": 81,
   "id": "subjective-disease",
   "metadata": {},
   "outputs": [
    {
     "data": {
      "text/plain": [
       "count    104355.000000\n",
       "mean         62.175947\n",
       "std          17.076692\n",
       "min           0.000000\n",
       "25%          50.000000\n",
       "50%          60.000000\n",
       "75%          73.000000\n",
       "max         297.000000\n",
       "Name: morphs_num, dtype: float64"
      ]
     },
     "execution_count": 81,
     "metadata": {},
     "output_type": "execute_result"
    }
   ],
   "source": [
    "pair_data['morphs_num'].describe()"
   ]
  },
  {
   "cell_type": "code",
   "execution_count": null,
   "id": "particular-desert",
   "metadata": {},
   "outputs": [],
   "source": [
    "#- 누락된 데이터 제거 \n",
    "pair_data = pair_data[pair_data['morphs_num'] !=0]"
   ]
  },
  {
   "cell_type": "code",
   "execution_count": 86,
   "id": "opposite-baseball",
   "metadata": {},
   "outputs": [],
   "source": [
    "pair_data['last_pos'] = pair_data['pos_'].map(lambda x : x[-1])"
   ]
  },
  {
   "cell_type": "code",
   "execution_count": 87,
   "id": "consecutive-passing",
   "metadata": {},
   "outputs": [
    {
     "data": {
      "text/plain": [
       "SF              102949\n",
       "EC                1109\n",
       "XSV+EC             154\n",
       "VV+EC               59\n",
       "SC                  24\n",
       "VX+EC               18\n",
       "SY                   9\n",
       "VV+EF                7\n",
       "VCP+EC               6\n",
       "NNG                  4\n",
       "SSC                  3\n",
       "UNKNOWN              2\n",
       "MAG                  2\n",
       "SL                   1\n",
       "XSV+EC+VX+EC         1\n",
       "XSV+EP               1\n",
       "XSN                  1\n",
       "SN                   1\n",
       "XSV+ETM              1\n",
       "EP+EF                1\n",
       "Name: last_pos, dtype: int64"
      ]
     },
     "execution_count": 87,
     "metadata": {},
     "output_type": "execute_result"
    }
   ],
   "source": [
    "pair_data['last_pos'].value_counts()"
   ]
  },
  {
   "cell_type": "code",
   "execution_count": 88,
   "id": "burning-royal",
   "metadata": {},
   "outputs": [
    {
     "data": {
      "text/plain": [
       "SF    102949\n",
       "Name: last_pos, dtype: int64"
      ]
     },
     "execution_count": 88,
     "metadata": {},
     "output_type": "execute_result"
    }
   ],
   "source": [
    "pair_data = pair_data[pair_data['last_pos'] == 'SF']\n",
    "pair_data['last_pos'].value_counts()"
   ]
  },
  {
   "cell_type": "code",
   "execution_count": 89,
   "id": "seeing-anime",
   "metadata": {},
   "outputs": [
    {
     "name": "stdout",
     "output_type": "stream",
     "text": [
      "(88497, 27)\n"
     ]
    }
   ],
   "source": [
    "pair_data_ = pair_data[(pair_data['morphs_num']<90) & (pair_data['pos_num_EF'] == 1) & (pair_data['pos_num_EC']<= 7) & (pair_data['pos_num_SN']<= 9)]\n",
    "print(pair_data_.shape) #- 8만 8천개"
   ]
  },
  {
   "cell_type": "code",
   "execution_count": 90,
   "id": "solid-burst",
   "metadata": {
    "scrolled": false
   },
   "outputs": [],
   "source": [
    "pair_data['sec_last_pos'] = pair_data['pos_'].map(lambda x : x[-2])"
   ]
  },
  {
   "cell_type": "code",
   "execution_count": 143,
   "id": "regulation-mistress",
   "metadata": {},
   "outputs": [],
   "source": [
    "pair_data['sec_last_morphs'] = pair_data['morphs'].map(lambda x : x[-2])"
   ]
  },
  {
   "cell_type": "code",
   "execution_count": 91,
   "id": "voluntary-worth",
   "metadata": {},
   "outputs": [
    {
     "data": {
      "text/plain": [
       "EF              86862\n",
       "XSV+EF           9289\n",
       "VV+EF            4462\n",
       "VX+EF            1388\n",
       "VCP+EF            404\n",
       "VV+EC+VX+EF       204\n",
       "VV+EC             188\n",
       "SY                 35\n",
       "SF                 35\n",
       "XSA+EC+VX+EF       23\n",
       "UNKNOWN            11\n",
       "XSV+EC+VX+EF        9\n",
       "NNB+VCP+EF          6\n",
       "NNG                 5\n",
       "MAG                 4\n",
       "VX+EC+VX+EF         3\n",
       "XSA+EC+VV+EF        3\n",
       "VX+EP+EF            3\n",
       "SL                  2\n",
       "XSA+EF              2\n",
       "EC+EF               2\n",
       "SN                  1\n",
       "VV+EC+VV+EF         1\n",
       "EC+VX+EF            1\n",
       "VV+EC+EF            1\n",
       "JKB                 1\n",
       "VV+EC+VX            1\n",
       "NA+EF               1\n",
       "XSV+ETN             1\n",
       "SC                  1\n",
       "Name: sec_last_pos, dtype: int64"
      ]
     },
     "execution_count": 91,
     "metadata": {},
     "output_type": "execute_result"
    }
   ],
   "source": [
    "pair_data['sec_last_pos'].value_counts()"
   ]
  },
  {
   "cell_type": "code",
   "execution_count": 107,
   "id": "raised-sussex",
   "metadata": {},
   "outputs": [
    {
     "data": {
      "text/plain": [
       "count     102664\n",
       "unique         1\n",
       "top         True\n",
       "freq      102664\n",
       "Name: have_EF, dtype: object"
      ]
     },
     "execution_count": 107,
     "metadata": {},
     "output_type": "execute_result"
    }
   ],
   "source": [
    "#- EF + SF 로 맞추기 \n",
    "pair_data['have_EF'] = pair_data['sec_last_pos'].map(lambda x : 'EF' in x)\n",
    "pair_data = pair_data[pair_data['have_EF']]\n",
    "pair_data['have_EF'].describe()"
   ]
  },
  {
   "cell_type": "code",
   "execution_count": 121,
   "id": "improving-council",
   "metadata": {},
   "outputs": [
    {
     "data": {
      "text/plain": [
       "EF              86862\n",
       "XSV+EF           9289\n",
       "VV+EF            4462\n",
       "VX+EF            1388\n",
       "VCP+EF            404\n",
       "VV+EC+VX+EF       204\n",
       "XSA+EC+VX+EF       23\n",
       "XSV+EC+VX+EF        9\n",
       "NNB+VCP+EF          6\n",
       "VX+EC+VX+EF         3\n",
       "XSA+EC+VV+EF        3\n",
       "VX+EP+EF            3\n",
       "EC+EF               2\n",
       "XSA+EF              2\n",
       "NA+EF               1\n",
       "VV+EC+EF            1\n",
       "VV+EC+VV+EF         1\n",
       "EC+VX+EF            1\n",
       "Name: sec_last_pos, dtype: int64"
      ]
     },
     "execution_count": 121,
     "metadata": {},
     "output_type": "execute_result"
    }
   ],
   "source": [
    "pair_data['sec_last_pos'].value_counts()"
   ]
  },
  {
   "cell_type": "code",
   "execution_count": 110,
   "id": "tender-graham",
   "metadata": {},
   "outputs": [
    {
     "data": {
      "text/plain": [
       "'NNG'"
      ]
     },
     "execution_count": 110,
     "metadata": {},
     "output_type": "execute_result"
    }
   ],
   "source": [
    "pair_data['pos_'][10][-3]"
   ]
  },
  {
   "cell_type": "code",
   "execution_count": 131,
   "id": "knowing-defense",
   "metadata": {},
   "outputs": [],
   "source": [
    "def have_irregular(x): return (x == 'VV+EF')| (x == 'VX+EF')\n",
    "pair_data['have_irregular'] = pair_data['sec_last_pos'].map(lambda x : have_irregular(x))"
   ]
  },
  {
   "cell_type": "code",
   "execution_count": 133,
   "id": "cultural-smart",
   "metadata": {},
   "outputs": [
    {
     "data": {
      "text/plain": [
       "count     102664\n",
       "unique         2\n",
       "top        False\n",
       "freq       96814\n",
       "Name: have_irregular, dtype: object"
      ]
     },
     "execution_count": 133,
     "metadata": {},
     "output_type": "execute_result"
    }
   ],
   "source": [
    "pair_data['have_irregular'].describe()"
   ]
  },
  {
   "cell_type": "code",
   "execution_count": 132,
   "id": "chemical-wings",
   "metadata": {},
   "outputs": [
    {
     "data": {
      "text/plain": [
       "False    96814\n",
       "True      5850\n",
       "Name: have_irregular, dtype: int64"
      ]
     },
     "execution_count": 132,
     "metadata": {},
     "output_type": "execute_result"
    }
   ],
   "source": [
    "pair_data['have_irregular'].value_counts()"
   ]
  },
  {
   "cell_type": "code",
   "execution_count": 146,
   "id": "female-sharp",
   "metadata": {
    "scrolled": true
   },
   "outputs": [
    {
     "data": {
      "text/html": [
       "<div>\n",
       "<style scoped>\n",
       "    .dataframe tbody tr th:only-of-type {\n",
       "        vertical-align: middle;\n",
       "    }\n",
       "\n",
       "    .dataframe tbody tr th {\n",
       "        vertical-align: top;\n",
       "    }\n",
       "\n",
       "    .dataframe thead th {\n",
       "        text-align: right;\n",
       "    }\n",
       "</style>\n",
       "<table border=\"1\" class=\"dataframe\">\n",
       "  <thead>\n",
       "    <tr style=\"text-align: right;\">\n",
       "      <th></th>\n",
       "      <th>sec_last_morphs</th>\n",
       "    </tr>\n",
       "    <tr>\n",
       "      <th>sec_last_pos</th>\n",
       "      <th></th>\n",
       "    </tr>\n",
       "  </thead>\n",
       "  <tbody>\n",
       "    <tr>\n",
       "      <th>VV+EF</th>\n",
       "      <td>4462</td>\n",
       "    </tr>\n",
       "    <tr>\n",
       "      <th>VX+EF</th>\n",
       "      <td>1388</td>\n",
       "    </tr>\n",
       "  </tbody>\n",
       "</table>\n",
       "</div>"
      ],
      "text/plain": [
       "              sec_last_morphs\n",
       "sec_last_pos                 \n",
       "VV+EF                    4462\n",
       "VX+EF                    1388"
      ]
     },
     "execution_count": 146,
     "metadata": {},
     "output_type": "execute_result"
    }
   ],
   "source": [
    "pair_data[pair_data['have_irregular']][['sec_last_pos', 'sec_last_morphs']].groupby('sec_last_pos').count()"
   ]
  },
  {
   "cell_type": "code",
   "execution_count": 149,
   "id": "polished-drunk",
   "metadata": {},
   "outputs": [
    {
     "data": {
      "text/plain": [
       "한다       1445\n",
       "보인다      1167\n",
       "된다       1106\n",
       "열린다       292\n",
       "나선다       235\n",
       "         ... \n",
       "난다          1\n",
       "없앤다         1\n",
       "들여다본다       1\n",
       "뜬다          1\n",
       "취한다         1\n",
       "Name: sec_last_morphs, Length: 194, dtype: int64"
      ]
     },
     "execution_count": 149,
     "metadata": {},
     "output_type": "execute_result"
    }
   ],
   "source": [
    "pair_data[pair_data['have_irregular']]['sec_last_morphs'].value_counts()"
   ]
  },
  {
   "cell_type": "code",
   "execution_count": 153,
   "id": "chicken-cardiff",
   "metadata": {},
   "outputs": [
    {
     "data": {
      "text/plain": [
       "(10,)"
      ]
     },
     "execution_count": 153,
     "metadata": {},
     "output_type": "execute_result"
    }
   ],
   "source": [
    "pair_data[pair_data['sec_last_pos']=='VX+EF']['sec_last_morphs'].value_counts().shape"
   ]
  },
  {
   "cell_type": "markdown",
   "id": "uniform-congress",
   "metadata": {},
   "source": [
    "- 불규칙 어미 VV+EF는 4462개(190개 단어), VX+EF는 1388개(10개 단어)\n",
    "- 불규칙 단어의 set은 194개 (VV+EF 는 190개 , VX+EF는 10개)"
   ]
  },
  {
   "cell_type": "code",
   "execution_count": 155,
   "id": "elegant-funds",
   "metadata": {},
   "outputs": [],
   "source": [
    "regular_data = pair_data[pair_data['have_irregular'] == False]"
   ]
  },
  {
   "cell_type": "code",
   "execution_count": 157,
   "id": "endangered-prison",
   "metadata": {
    "scrolled": false
   },
   "outputs": [
    {
     "data": {
      "text/html": [
       "<div>\n",
       "<style scoped>\n",
       "    .dataframe tbody tr th:only-of-type {\n",
       "        vertical-align: middle;\n",
       "    }\n",
       "\n",
       "    .dataframe tbody tr th {\n",
       "        vertical-align: top;\n",
       "    }\n",
       "\n",
       "    .dataframe thead th {\n",
       "        text-align: right;\n",
       "    }\n",
       "</style>\n",
       "<table border=\"1\" class=\"dataframe\">\n",
       "  <thead>\n",
       "    <tr style=\"text-align: right;\">\n",
       "      <th></th>\n",
       "      <th>pos_num_NNP</th>\n",
       "      <th>pos_num_NNG</th>\n",
       "      <th>pos_num_EC</th>\n",
       "      <th>pos_num_EF</th>\n",
       "      <th>pos_num_SN</th>\n",
       "      <th>pos_num_MAG</th>\n",
       "      <th>pos_num_MAJ</th>\n",
       "      <th>morphs_num</th>\n",
       "      <th>pos_num_SF</th>\n",
       "    </tr>\n",
       "  </thead>\n",
       "  <tbody>\n",
       "    <tr>\n",
       "      <th>count</th>\n",
       "      <td>96814.000000</td>\n",
       "      <td>96814.000000</td>\n",
       "      <td>96814.000000</td>\n",
       "      <td>96814.000000</td>\n",
       "      <td>96814.000000</td>\n",
       "      <td>96814.000000</td>\n",
       "      <td>96814.000000</td>\n",
       "      <td>96814.000000</td>\n",
       "      <td>96814.000000</td>\n",
       "    </tr>\n",
       "    <tr>\n",
       "      <th>mean</th>\n",
       "      <td>2.867591</td>\n",
       "      <td>22.955967</td>\n",
       "      <td>3.516816</td>\n",
       "      <td>1.026814</td>\n",
       "      <td>3.742031</td>\n",
       "      <td>0.508687</td>\n",
       "      <td>0.170667</td>\n",
       "      <td>62.224017</td>\n",
       "      <td>1.012054</td>\n",
       "    </tr>\n",
       "    <tr>\n",
       "      <th>std</th>\n",
       "      <td>2.295754</td>\n",
       "      <td>7.773357</td>\n",
       "      <td>2.126110</td>\n",
       "      <td>0.178781</td>\n",
       "      <td>2.589603</td>\n",
       "      <td>0.779690</td>\n",
       "      <td>0.435873</td>\n",
       "      <td>17.039172</td>\n",
       "      <td>0.129634</td>\n",
       "    </tr>\n",
       "    <tr>\n",
       "      <th>min</th>\n",
       "      <td>0.000000</td>\n",
       "      <td>1.000000</td>\n",
       "      <td>0.000000</td>\n",
       "      <td>1.000000</td>\n",
       "      <td>0.000000</td>\n",
       "      <td>0.000000</td>\n",
       "      <td>0.000000</td>\n",
       "      <td>11.000000</td>\n",
       "      <td>1.000000</td>\n",
       "    </tr>\n",
       "    <tr>\n",
       "      <th>25%</th>\n",
       "      <td>1.000000</td>\n",
       "      <td>17.000000</td>\n",
       "      <td>2.000000</td>\n",
       "      <td>1.000000</td>\n",
       "      <td>2.000000</td>\n",
       "      <td>0.000000</td>\n",
       "      <td>0.000000</td>\n",
       "      <td>50.000000</td>\n",
       "      <td>1.000000</td>\n",
       "    </tr>\n",
       "    <tr>\n",
       "      <th>50%</th>\n",
       "      <td>2.000000</td>\n",
       "      <td>22.000000</td>\n",
       "      <td>3.000000</td>\n",
       "      <td>1.000000</td>\n",
       "      <td>3.000000</td>\n",
       "      <td>0.000000</td>\n",
       "      <td>0.000000</td>\n",
       "      <td>61.000000</td>\n",
       "      <td>1.000000</td>\n",
       "    </tr>\n",
       "    <tr>\n",
       "      <th>75%</th>\n",
       "      <td>4.000000</td>\n",
       "      <td>28.000000</td>\n",
       "      <td>5.000000</td>\n",
       "      <td>1.000000</td>\n",
       "      <td>5.000000</td>\n",
       "      <td>1.000000</td>\n",
       "      <td>0.000000</td>\n",
       "      <td>73.000000</td>\n",
       "      <td>1.000000</td>\n",
       "    </tr>\n",
       "    <tr>\n",
       "      <th>max</th>\n",
       "      <td>24.000000</td>\n",
       "      <td>112.000000</td>\n",
       "      <td>29.000000</td>\n",
       "      <td>10.000000</td>\n",
       "      <td>34.000000</td>\n",
       "      <td>10.000000</td>\n",
       "      <td>5.000000</td>\n",
       "      <td>297.000000</td>\n",
       "      <td>8.000000</td>\n",
       "    </tr>\n",
       "  </tbody>\n",
       "</table>\n",
       "</div>"
      ],
      "text/plain": [
       "        pos_num_NNP   pos_num_NNG    pos_num_EC    pos_num_EF    pos_num_SN  \\\n",
       "count  96814.000000  96814.000000  96814.000000  96814.000000  96814.000000   \n",
       "mean       2.867591     22.955967      3.516816      1.026814      3.742031   \n",
       "std        2.295754      7.773357      2.126110      0.178781      2.589603   \n",
       "min        0.000000      1.000000      0.000000      1.000000      0.000000   \n",
       "25%        1.000000     17.000000      2.000000      1.000000      2.000000   \n",
       "50%        2.000000     22.000000      3.000000      1.000000      3.000000   \n",
       "75%        4.000000     28.000000      5.000000      1.000000      5.000000   \n",
       "max       24.000000    112.000000     29.000000     10.000000     34.000000   \n",
       "\n",
       "        pos_num_MAG   pos_num_MAJ    morphs_num    pos_num_SF  \n",
       "count  96814.000000  96814.000000  96814.000000  96814.000000  \n",
       "mean       0.508687      0.170667     62.224017      1.012054  \n",
       "std        0.779690      0.435873     17.039172      0.129634  \n",
       "min        0.000000      0.000000     11.000000      1.000000  \n",
       "25%        0.000000      0.000000     50.000000      1.000000  \n",
       "50%        0.000000      0.000000     61.000000      1.000000  \n",
       "75%        1.000000      0.000000     73.000000      1.000000  \n",
       "max       10.000000      5.000000    297.000000      8.000000  "
      ]
     },
     "execution_count": 157,
     "metadata": {},
     "output_type": "execute_result"
    }
   ],
   "source": [
    "regular_data.describe()"
   ]
  },
  {
   "cell_type": "code",
   "execution_count": 196,
   "id": "billion-fetish",
   "metadata": {},
   "outputs": [
    {
     "data": {
      "text/plain": [
       "'어요'"
      ]
     },
     "execution_count": 196,
     "metadata": {},
     "output_type": "execute_result"
    }
   ],
   "source": [
    "a = '고마웠어요'\n",
    "a[-2:]"
   ]
  },
  {
   "cell_type": "code",
   "execution_count": 199,
   "id": "remarkable-bowling",
   "metadata": {},
   "outputs": [
    {
     "data": {
      "text/html": [
       "<div>\n",
       "<style scoped>\n",
       "    .dataframe tbody tr th:only-of-type {\n",
       "        vertical-align: middle;\n",
       "    }\n",
       "\n",
       "    .dataframe tbody tr th {\n",
       "        vertical-align: top;\n",
       "    }\n",
       "\n",
       "    .dataframe thead th {\n",
       "        text-align: right;\n",
       "    }\n",
       "</style>\n",
       "<table border=\"1\" class=\"dataframe\">\n",
       "  <thead>\n",
       "    <tr style=\"text-align: right;\">\n",
       "      <th></th>\n",
       "      <th>ext_sum</th>\n",
       "      <th>abs_sum</th>\n",
       "      <th>pos</th>\n",
       "      <th>morphs</th>\n",
       "      <th>pos_</th>\n",
       "      <th>word_phase</th>\n",
       "      <th>morph_to_pos</th>\n",
       "      <th>pos_NNP</th>\n",
       "      <th>pos_NNG</th>\n",
       "      <th>pos_EC</th>\n",
       "      <th>...</th>\n",
       "      <th>pos_num_SF</th>\n",
       "      <th>pos_cat_morphs</th>\n",
       "      <th>pos_cat_EC</th>\n",
       "      <th>last_pos</th>\n",
       "      <th>sec_last_pos</th>\n",
       "      <th>have_EF</th>\n",
       "      <th>irregular</th>\n",
       "      <th>have_irregular</th>\n",
       "      <th>sec_last_morphs</th>\n",
       "      <th>converted_morphs</th>\n",
       "    </tr>\n",
       "  </thead>\n",
       "  <tbody>\n",
       "    <tr>\n",
       "      <th>0</th>\n",
       "      <td>[여수시는 원도심 일대에서 추진된 컬러빌리지 사업을 지난해 말 마무리하며 색채와 빛...</td>\n",
       "      <td>[여수시는 컬러빌리지 사업에 8억원을 투입하여 ‘색채와 빛’ 도시를 완성하여 고소천...</td>\n",
       "      <td>[(여수시, NNP), (는, JX), (컬러, NNG), (빌리지, NNG), (...</td>\n",
       "      <td>[여수시, 는, 컬러, 빌리지, 사업, 에, 8, 억, 원, 을, 투입, 하, 여,...</td>\n",
       "      <td>[NNP, JX, NNG, NNG, NNG, JKB, SN, NR, NNBC, JK...</td>\n",
       "      <td>[여수시는, 컬러빌리지, 사업에, 8억원을, 투입하여, ‘색채와, 빛’, 도시를, ...</td>\n",
       "      <td>{'여수시': 'NNP', '는': 'JX', '컬러': 'NNG', '빌리지': ...</td>\n",
       "      <td>[여수시]</td>\n",
       "      <td>[컬러, 빌리지, 사업, 투입, 색채, 빛, 도시, 완성, 고소, 천사, 벽화, 마...</td>\n",
       "      <td>[여, 여, 고, 해]</td>\n",
       "      <td>...</td>\n",
       "      <td>1</td>\n",
       "      <td>Q75</td>\n",
       "      <td>Q75</td>\n",
       "      <td>SF</td>\n",
       "      <td>EF</td>\n",
       "      <td>True</td>\n",
       "      <td>False</td>\n",
       "      <td>False</td>\n",
       "      <td>다</td>\n",
       "      <td>[여수시, 는, 컬러, 빌리지, 사업, 에, 8, 억, 원, 을, 투입, 하, 여,...</td>\n",
       "    </tr>\n",
       "    <tr>\n",
       "      <th>1</th>\n",
       "      <td>[임직원과 선수단 모두는 이날 구봉산 정상에 올라 일출을 보며 2018년 구단 목표...</td>\n",
       "      <td>[전남드래곤즈 임직원과 선수단이 4일 구봉산 정상에 올라 일출을 보며 2018년 구...</td>\n",
       "      <td>[(전남, NNP), (드래곤즈, NNP), (임직원, NNG), (과, JC), ...</td>\n",
       "      <td>[전남, 드래곤즈, 임직원, 과, 선수단, 이, 4, 일, 구봉산, 정상, 에, 올...</td>\n",
       "      <td>[NNP, NNP, NNG, JC, NNG, JKS, SN, NNBC, NNP, N...</td>\n",
       "      <td>[전남드래곤즈, 임직원과, 선수단이, 4일, 구봉산, 정상에, 올라, 일출을, 보며...</td>\n",
       "      <td>{'전남': 'NNP', '드래곤즈': 'NNP', '임직원': 'NNG', '과'...</td>\n",
       "      <td>[전남, 드래곤즈, 구봉산]</td>\n",
       "      <td>[임직원, 선수단, 정상, 일출, 구단, 목표, 달성, 새해, 각오]</td>\n",
       "      <td>[올라, 며]</td>\n",
       "      <td>...</td>\n",
       "      <td>1</td>\n",
       "      <td>Q25</td>\n",
       "      <td>Q25</td>\n",
       "      <td>SF</td>\n",
       "      <td>EF</td>\n",
       "      <td>True</td>\n",
       "      <td>False</td>\n",
       "      <td>False</td>\n",
       "      <td>다</td>\n",
       "      <td>[전남, 드래곤즈, 임직원, 과, 선수단, 이, 4, 일, 구봉산, 정상, 에, 올...</td>\n",
       "    </tr>\n",
       "    <tr>\n",
       "      <th>2</th>\n",
       "      <td>[광양시는 오는 11일부터 24일까지 농업인교육관과 읍면동 회의실에서 농업인 105...</td>\n",
       "      <td>[광양시는 농업인들의 경쟁력을 높이고, 소득안정을 위해 매실·감·참다래 등 지역특화...</td>\n",
       "      <td>[(광양시, NNP), (는, JX), (농업, NNG), (인, XSN), (들,...</td>\n",
       "      <td>[광양시, 는, 농업, 인, 들, 의, 경쟁력, 을, 높이, 고, ,, 소득, 안정...</td>\n",
       "      <td>[NNP, JX, NNG, XSN, XSN, JKG, NNG, JKO, VV, EC...</td>\n",
       "      <td>[광양시는, 농업인들의, 경쟁력을, 높이고,, 소득안정을, 위해, 매실·감·참다래,...</td>\n",
       "      <td>{'광양시': 'NNP', '는': 'JX', '농업': 'NNG', '인': 'V...</td>\n",
       "      <td>[광양시, 다래]</td>\n",
       "      <td>[농업, 경쟁력, 소득, 안정, 매실, 감, 지역, 특화, 작목, 중심, 농업, 실...</td>\n",
       "      <td>[고, 위해]</td>\n",
       "      <td>...</td>\n",
       "      <td>1</td>\n",
       "      <td>Q25</td>\n",
       "      <td>Q25</td>\n",
       "      <td>SF</td>\n",
       "      <td>XSV+EF</td>\n",
       "      <td>True</td>\n",
       "      <td>False</td>\n",
       "      <td>False</td>\n",
       "      <td>한다</td>\n",
       "      <td>[광양시, 는, 농업, 인, 들, 의, 경쟁력, 을, 높이, 고, ,, 소득, 안정...</td>\n",
       "    </tr>\n",
       "    <tr>\n",
       "      <th>3</th>\n",
       "      <td>[전라남도는 올해 4월과 6월 홍콩 크루즈선사 스타크루즈의 5만톤급‘아쿠아리우스’호...</td>\n",
       "      <td>[올해 4월과 6월 두 차례에 걸쳐 타이완의 크루즈 관광객 4000여명이 여수에 입...</td>\n",
       "      <td>[(올해, NNG), (4, SN), (월, NNBC), (과, JC), (6, S...</td>\n",
       "      <td>[올해, 4, 월, 과, 6, 월, 두, 차례, 에, 걸쳐, 타이완, 의, 크루즈,...</td>\n",
       "      <td>[NNG, SN, NNBC, JC, SN, NNBC, MM, NNG, JKB, VV...</td>\n",
       "      <td>[올해, 4월과, 6월, 두, 차례에, 걸쳐, 타이완의, 크루즈, 관광객, 4000...</td>\n",
       "      <td>{'올해': 'NNG', '4': 'SN', '월': 'NNBC', '과': 'JC...</td>\n",
       "      <td>[타이완, 크루즈, 여수, 전남]</td>\n",
       "      <td>[올해, 차례, 관광객, 입항, 관광지, 방문, 예정]</td>\n",
       "      <td>[걸쳐, 해]</td>\n",
       "      <td>...</td>\n",
       "      <td>1</td>\n",
       "      <td>Q25</td>\n",
       "      <td>Q25</td>\n",
       "      <td>SF</td>\n",
       "      <td>EF</td>\n",
       "      <td>True</td>\n",
       "      <td>False</td>\n",
       "      <td>False</td>\n",
       "      <td>다</td>\n",
       "      <td>[올해, 4, 월, 과, 6, 월, 두, 차례, 에, 걸쳐, 타이완, 의, 크루즈,...</td>\n",
       "    </tr>\n",
       "    <tr>\n",
       "      <th>4</th>\n",
       "      <td>[광양시는 정부가 2018년 1월 1일부터 시행하는 일자리 안정자금 신청을 12개 ...</td>\n",
       "      <td>[광양시는 30인 미만 중소기업 등 사업주에 1인당 월 13만원씩 지급하는 일자리 ...</td>\n",
       "      <td>[(광양시, NNP), (는, JX), (30, SN), (인, NNG), (미만,...</td>\n",
       "      <td>[광양시, 는, 30, 인, 미만, 중소기업, 등, 사업주, 에, 1, 인, 당, ...</td>\n",
       "      <td>[NNP, JX, SN, NNG, NNG, NNG, NNB, NNG, JKB, SN...</td>\n",
       "      <td>[광양시는, 30인, 미만, 중소기업, 등, 사업주에, 1인당, 월, 13만원씩, ...</td>\n",
       "      <td>{'광양시': 'NNP', '는': 'ETM', '30': 'SN', '인': 'N...</td>\n",
       "      <td>[광양시]</td>\n",
       "      <td>[인, 미만, 중소기업, 사업주, 인, 월, 지급, 일자리, 안정, 자금, 신청, ...</td>\n",
       "      <td>[면, 통해]</td>\n",
       "      <td>...</td>\n",
       "      <td>1</td>\n",
       "      <td>Q25</td>\n",
       "      <td>Q25</td>\n",
       "      <td>SF</td>\n",
       "      <td>EF</td>\n",
       "      <td>True</td>\n",
       "      <td>False</td>\n",
       "      <td>False</td>\n",
       "      <td>는다</td>\n",
       "      <td>[광양시, 는, 30, 인, 미만, 중소기업, 등, 사업주, 에, 1, 인, 당, ...</td>\n",
       "    </tr>\n",
       "  </tbody>\n",
       "</table>\n",
       "<p>5 rows × 33 columns</p>\n",
       "</div>"
      ],
      "text/plain": [
       "                                             ext_sum  \\\n",
       "0  [여수시는 원도심 일대에서 추진된 컬러빌리지 사업을 지난해 말 마무리하며 색채와 빛...   \n",
       "1  [임직원과 선수단 모두는 이날 구봉산 정상에 올라 일출을 보며 2018년 구단 목표...   \n",
       "2  [광양시는 오는 11일부터 24일까지 농업인교육관과 읍면동 회의실에서 농업인 105...   \n",
       "3  [전라남도는 올해 4월과 6월 홍콩 크루즈선사 스타크루즈의 5만톤급‘아쿠아리우스’호...   \n",
       "4  [광양시는 정부가 2018년 1월 1일부터 시행하는 일자리 안정자금 신청을 12개 ...   \n",
       "\n",
       "                                             abs_sum  \\\n",
       "0  [여수시는 컬러빌리지 사업에 8억원을 투입하여 ‘색채와 빛’ 도시를 완성하여 고소천...   \n",
       "1  [전남드래곤즈 임직원과 선수단이 4일 구봉산 정상에 올라 일출을 보며 2018년 구...   \n",
       "2  [광양시는 농업인들의 경쟁력을 높이고, 소득안정을 위해 매실·감·참다래 등 지역특화...   \n",
       "3  [올해 4월과 6월 두 차례에 걸쳐 타이완의 크루즈 관광객 4000여명이 여수에 입...   \n",
       "4  [광양시는 30인 미만 중소기업 등 사업주에 1인당 월 13만원씩 지급하는 일자리 ...   \n",
       "\n",
       "                                                 pos  \\\n",
       "0  [(여수시, NNP), (는, JX), (컬러, NNG), (빌리지, NNG), (...   \n",
       "1  [(전남, NNP), (드래곤즈, NNP), (임직원, NNG), (과, JC), ...   \n",
       "2  [(광양시, NNP), (는, JX), (농업, NNG), (인, XSN), (들,...   \n",
       "3  [(올해, NNG), (4, SN), (월, NNBC), (과, JC), (6, S...   \n",
       "4  [(광양시, NNP), (는, JX), (30, SN), (인, NNG), (미만,...   \n",
       "\n",
       "                                              morphs  \\\n",
       "0  [여수시, 는, 컬러, 빌리지, 사업, 에, 8, 억, 원, 을, 투입, 하, 여,...   \n",
       "1  [전남, 드래곤즈, 임직원, 과, 선수단, 이, 4, 일, 구봉산, 정상, 에, 올...   \n",
       "2  [광양시, 는, 농업, 인, 들, 의, 경쟁력, 을, 높이, 고, ,, 소득, 안정...   \n",
       "3  [올해, 4, 월, 과, 6, 월, 두, 차례, 에, 걸쳐, 타이완, 의, 크루즈,...   \n",
       "4  [광양시, 는, 30, 인, 미만, 중소기업, 등, 사업주, 에, 1, 인, 당, ...   \n",
       "\n",
       "                                                pos_  \\\n",
       "0  [NNP, JX, NNG, NNG, NNG, JKB, SN, NR, NNBC, JK...   \n",
       "1  [NNP, NNP, NNG, JC, NNG, JKS, SN, NNBC, NNP, N...   \n",
       "2  [NNP, JX, NNG, XSN, XSN, JKG, NNG, JKO, VV, EC...   \n",
       "3  [NNG, SN, NNBC, JC, SN, NNBC, MM, NNG, JKB, VV...   \n",
       "4  [NNP, JX, SN, NNG, NNG, NNG, NNB, NNG, JKB, SN...   \n",
       "\n",
       "                                          word_phase  \\\n",
       "0  [여수시는, 컬러빌리지, 사업에, 8억원을, 투입하여, ‘색채와, 빛’, 도시를, ...   \n",
       "1  [전남드래곤즈, 임직원과, 선수단이, 4일, 구봉산, 정상에, 올라, 일출을, 보며...   \n",
       "2  [광양시는, 농업인들의, 경쟁력을, 높이고,, 소득안정을, 위해, 매실·감·참다래,...   \n",
       "3  [올해, 4월과, 6월, 두, 차례에, 걸쳐, 타이완의, 크루즈, 관광객, 4000...   \n",
       "4  [광양시는, 30인, 미만, 중소기업, 등, 사업주에, 1인당, 월, 13만원씩, ...   \n",
       "\n",
       "                                        morph_to_pos             pos_NNP  \\\n",
       "0  {'여수시': 'NNP', '는': 'JX', '컬러': 'NNG', '빌리지': ...               [여수시]   \n",
       "1  {'전남': 'NNP', '드래곤즈': 'NNP', '임직원': 'NNG', '과'...     [전남, 드래곤즈, 구봉산]   \n",
       "2  {'광양시': 'NNP', '는': 'JX', '농업': 'NNG', '인': 'V...           [광양시, 다래]   \n",
       "3  {'올해': 'NNG', '4': 'SN', '월': 'NNBC', '과': 'JC...  [타이완, 크루즈, 여수, 전남]   \n",
       "4  {'광양시': 'NNP', '는': 'ETM', '30': 'SN', '인': 'N...               [광양시]   \n",
       "\n",
       "                                             pos_NNG        pos_EC  ...  \\\n",
       "0  [컬러, 빌리지, 사업, 투입, 색채, 빛, 도시, 완성, 고소, 천사, 벽화, 마...  [여, 여, 고, 해]  ...   \n",
       "1             [임직원, 선수단, 정상, 일출, 구단, 목표, 달성, 새해, 각오]       [올라, 며]  ...   \n",
       "2  [농업, 경쟁력, 소득, 안정, 매실, 감, 지역, 특화, 작목, 중심, 농업, 실...       [고, 위해]  ...   \n",
       "3                     [올해, 차례, 관광객, 입항, 관광지, 방문, 예정]       [걸쳐, 해]  ...   \n",
       "4  [인, 미만, 중소기업, 사업주, 인, 월, 지급, 일자리, 안정, 자금, 신청, ...       [면, 통해]  ...   \n",
       "\n",
       "  pos_num_SF pos_cat_morphs pos_cat_EC last_pos  sec_last_pos  have_EF  \\\n",
       "0          1            Q75        Q75       SF            EF     True   \n",
       "1          1            Q25        Q25       SF            EF     True   \n",
       "2          1            Q25        Q25       SF        XSV+EF     True   \n",
       "3          1            Q25        Q25       SF            EF     True   \n",
       "4          1            Q25        Q25       SF            EF     True   \n",
       "\n",
       "   irregular  have_irregular  sec_last_morphs  \\\n",
       "0      False           False                다   \n",
       "1      False           False                다   \n",
       "2      False           False               한다   \n",
       "3      False           False                다   \n",
       "4      False           False               는다   \n",
       "\n",
       "                                    converted_morphs  \n",
       "0  [여수시, 는, 컬러, 빌리지, 사업, 에, 8, 억, 원, 을, 투입, 하, 여,...  \n",
       "1  [전남, 드래곤즈, 임직원, 과, 선수단, 이, 4, 일, 구봉산, 정상, 에, 올...  \n",
       "2  [광양시, 는, 농업, 인, 들, 의, 경쟁력, 을, 높이, 고, ,, 소득, 안정...  \n",
       "3  [올해, 4, 월, 과, 6, 월, 두, 차례, 에, 걸쳐, 타이완, 의, 크루즈,...  \n",
       "4  [광양시, 는, 30, 인, 미만, 중소기업, 등, 사업주, 에, 1, 인, 당, ...  \n",
       "\n",
       "[5 rows x 33 columns]"
      ]
     },
     "execution_count": 199,
     "metadata": {},
     "output_type": "execute_result"
    }
   ],
   "source": [
    "pair_data_.head()"
   ]
  },
  {
   "cell_type": "code",
   "execution_count": 197,
   "id": "racial-accordance",
   "metadata": {},
   "outputs": [],
   "source": [
    "#- default : ['pos_'][-1] == '.', ['pos_'][-2] == 'EF'\n",
    "#- 불규칙 (x == '(VV+EF)') | (x == '(VX+EF)') 은 제거됨..\n",
    "\n",
    "def convert_EF(pos, morphs, sen=False):\n",
    "#- 현재\n",
    "    if pos[-3] == 'VV': \n",
    "        morphs[-2] = '어요' #- 다 \n",
    "    elif pos[-3] == 'VX':\n",
    "        morphs[-2] = '어요' #- 다\n",
    "    elif pos[-3] == 'XSA':\n",
    "        morphs[-3] = '해' #- 한\n",
    "        morphs[-2] = '요' #- 다\n",
    "    elif pos[-2] == 'XSV+EF':\n",
    "        if sen:\n",
    "            morphs[-3:] = '해요.' \n",
    "        else: morphs[-2] = '해요'\n",
    "    elif pos[-3] == 'VCP':\n",
    "        morphs[-2] = '에요' #-다        \n",
    "#- 과거\n",
    "    elif pos[-3] == 'EP':\n",
    "        morphs[-2] = '어요' #- 다\n",
    "    elif pos[-3] == 'VV+EP':\n",
    "        morphs[-2] = '어요' #- 다\n",
    "    elif pos[-3] == 'VX+EP':\n",
    "        morphs[-2] = '어요' #- 다\n",
    "    elif pos[-3] == 'XSV+EP':\n",
    "        morphs[-2] = '어요' #- 다\n",
    "    elif (pos[-4] == 'XSV')&(pos[-3] == 'EP'):\n",
    "        if sen:\n",
    "            morphs[-4:] = '했어요.'\n",
    "        else:\n",
    "            morphs[-4] = ''\n",
    "            morphs[-3] = '했'\n",
    "            morphs[-2] = '어요'\n",
    "    return morphs\n"
   ]
  },
  {
   "cell_type": "code",
   "execution_count": 171,
   "id": "congressional-export",
   "metadata": {},
   "outputs": [],
   "source": [
    "pair_data_['converted_morphs'] = pair_data_.apply(lambda x : convert_EF(x['pos_'], x['morphs']), axis=1) "
   ]
  },
  {
   "cell_type": "code",
   "execution_count": 158,
   "id": "opponent-stick",
   "metadata": {},
   "outputs": [],
   "source": [
    "pair_data_ = pair_data[(pair_data['have_irregular'] == False) & (pair_data['morphs_num']<90)  & (pair_data['pos_num_EC']<= 7) & (pair_data['pos_num_SN']<= 9) & (pair_data['pos_num_SF']==1)]"
   ]
  },
  {
   "cell_type": "code",
   "execution_count": 173,
   "id": "amino-vehicle",
   "metadata": {},
   "outputs": [
    {
     "data": {
      "text/html": [
       "<div>\n",
       "<style scoped>\n",
       "    .dataframe tbody tr th:only-of-type {\n",
       "        vertical-align: middle;\n",
       "    }\n",
       "\n",
       "    .dataframe tbody tr th {\n",
       "        vertical-align: top;\n",
       "    }\n",
       "\n",
       "    .dataframe thead th {\n",
       "        text-align: right;\n",
       "    }\n",
       "</style>\n",
       "<table border=\"1\" class=\"dataframe\">\n",
       "  <thead>\n",
       "    <tr style=\"text-align: right;\">\n",
       "      <th></th>\n",
       "      <th>ext_sum</th>\n",
       "      <th>abs_sum</th>\n",
       "      <th>pos</th>\n",
       "      <th>morphs</th>\n",
       "      <th>pos_</th>\n",
       "      <th>word_phase</th>\n",
       "      <th>morph_to_pos</th>\n",
       "      <th>pos_NNP</th>\n",
       "      <th>pos_NNG</th>\n",
       "      <th>pos_EC</th>\n",
       "      <th>...</th>\n",
       "      <th>pos_num_SF</th>\n",
       "      <th>pos_cat_morphs</th>\n",
       "      <th>pos_cat_EC</th>\n",
       "      <th>last_pos</th>\n",
       "      <th>sec_last_pos</th>\n",
       "      <th>have_EF</th>\n",
       "      <th>irregular</th>\n",
       "      <th>have_irregular</th>\n",
       "      <th>sec_last_morphs</th>\n",
       "      <th>converted_morphs</th>\n",
       "    </tr>\n",
       "  </thead>\n",
       "  <tbody>\n",
       "    <tr>\n",
       "      <th>0</th>\n",
       "      <td>[여수시는 원도심 일대에서 추진된 컬러빌리지 사업을 지난해 말 마무리하며 색채와 빛...</td>\n",
       "      <td>[여수시는 컬러빌리지 사업에 8억원을 투입하여 ‘색채와 빛’ 도시를 완성하여 고소천...</td>\n",
       "      <td>[(여수시, NNP), (는, JX), (컬러, NNG), (빌리지, NNG), (...</td>\n",
       "      <td>[여수시, 는, 컬러, 빌리지, 사업, 에, 8, 억, 원, 을, 투입, 하, 여,...</td>\n",
       "      <td>[NNP, JX, NNG, NNG, NNG, JKB, SN, NR, NNBC, JK...</td>\n",
       "      <td>[여수시는, 컬러빌리지, 사업에, 8억원을, 투입하여, ‘색채와, 빛’, 도시를, ...</td>\n",
       "      <td>{'여수시': 'NNP', '는': 'JX', '컬러': 'NNG', '빌리지': ...</td>\n",
       "      <td>[여수시]</td>\n",
       "      <td>[컬러, 빌리지, 사업, 투입, 색채, 빛, 도시, 완성, 고소, 천사, 벽화, 마...</td>\n",
       "      <td>[여, 여, 고, 해]</td>\n",
       "      <td>...</td>\n",
       "      <td>1</td>\n",
       "      <td>Q75</td>\n",
       "      <td>Q75</td>\n",
       "      <td>SF</td>\n",
       "      <td>EF</td>\n",
       "      <td>True</td>\n",
       "      <td>False</td>\n",
       "      <td>False</td>\n",
       "      <td>다</td>\n",
       "      <td>[여수시, 는, 컬러, 빌리지, 사업, 에, 8, 억, 원, 을, 투입, 하, 여,...</td>\n",
       "    </tr>\n",
       "    <tr>\n",
       "      <th>1</th>\n",
       "      <td>[임직원과 선수단 모두는 이날 구봉산 정상에 올라 일출을 보며 2018년 구단 목표...</td>\n",
       "      <td>[전남드래곤즈 임직원과 선수단이 4일 구봉산 정상에 올라 일출을 보며 2018년 구...</td>\n",
       "      <td>[(전남, NNP), (드래곤즈, NNP), (임직원, NNG), (과, JC), ...</td>\n",
       "      <td>[전남, 드래곤즈, 임직원, 과, 선수단, 이, 4, 일, 구봉산, 정상, 에, 올...</td>\n",
       "      <td>[NNP, NNP, NNG, JC, NNG, JKS, SN, NNBC, NNP, N...</td>\n",
       "      <td>[전남드래곤즈, 임직원과, 선수단이, 4일, 구봉산, 정상에, 올라, 일출을, 보며...</td>\n",
       "      <td>{'전남': 'NNP', '드래곤즈': 'NNP', '임직원': 'NNG', '과'...</td>\n",
       "      <td>[전남, 드래곤즈, 구봉산]</td>\n",
       "      <td>[임직원, 선수단, 정상, 일출, 구단, 목표, 달성, 새해, 각오]</td>\n",
       "      <td>[올라, 며]</td>\n",
       "      <td>...</td>\n",
       "      <td>1</td>\n",
       "      <td>Q25</td>\n",
       "      <td>Q25</td>\n",
       "      <td>SF</td>\n",
       "      <td>EF</td>\n",
       "      <td>True</td>\n",
       "      <td>False</td>\n",
       "      <td>False</td>\n",
       "      <td>다</td>\n",
       "      <td>[전남, 드래곤즈, 임직원, 과, 선수단, 이, 4, 일, 구봉산, 정상, 에, 올...</td>\n",
       "    </tr>\n",
       "    <tr>\n",
       "      <th>2</th>\n",
       "      <td>[광양시는 오는 11일부터 24일까지 농업인교육관과 읍면동 회의실에서 농업인 105...</td>\n",
       "      <td>[광양시는 농업인들의 경쟁력을 높이고, 소득안정을 위해 매실·감·참다래 등 지역특화...</td>\n",
       "      <td>[(광양시, NNP), (는, JX), (농업, NNG), (인, XSN), (들,...</td>\n",
       "      <td>[광양시, 는, 농업, 인, 들, 의, 경쟁력, 을, 높이, 고, ,, 소득, 안정...</td>\n",
       "      <td>[NNP, JX, NNG, XSN, XSN, JKG, NNG, JKO, VV, EC...</td>\n",
       "      <td>[광양시는, 농업인들의, 경쟁력을, 높이고,, 소득안정을, 위해, 매실·감·참다래,...</td>\n",
       "      <td>{'광양시': 'NNP', '는': 'JX', '농업': 'NNG', '인': 'V...</td>\n",
       "      <td>[광양시, 다래]</td>\n",
       "      <td>[농업, 경쟁력, 소득, 안정, 매실, 감, 지역, 특화, 작목, 중심, 농업, 실...</td>\n",
       "      <td>[고, 위해]</td>\n",
       "      <td>...</td>\n",
       "      <td>1</td>\n",
       "      <td>Q25</td>\n",
       "      <td>Q25</td>\n",
       "      <td>SF</td>\n",
       "      <td>XSV+EF</td>\n",
       "      <td>True</td>\n",
       "      <td>False</td>\n",
       "      <td>False</td>\n",
       "      <td>한다</td>\n",
       "      <td>[광양시, 는, 농업, 인, 들, 의, 경쟁력, 을, 높이, 고, ,, 소득, 안정...</td>\n",
       "    </tr>\n",
       "    <tr>\n",
       "      <th>3</th>\n",
       "      <td>[전라남도는 올해 4월과 6월 홍콩 크루즈선사 스타크루즈의 5만톤급‘아쿠아리우스’호...</td>\n",
       "      <td>[올해 4월과 6월 두 차례에 걸쳐 타이완의 크루즈 관광객 4000여명이 여수에 입...</td>\n",
       "      <td>[(올해, NNG), (4, SN), (월, NNBC), (과, JC), (6, S...</td>\n",
       "      <td>[올해, 4, 월, 과, 6, 월, 두, 차례, 에, 걸쳐, 타이완, 의, 크루즈,...</td>\n",
       "      <td>[NNG, SN, NNBC, JC, SN, NNBC, MM, NNG, JKB, VV...</td>\n",
       "      <td>[올해, 4월과, 6월, 두, 차례에, 걸쳐, 타이완의, 크루즈, 관광객, 4000...</td>\n",
       "      <td>{'올해': 'NNG', '4': 'SN', '월': 'NNBC', '과': 'JC...</td>\n",
       "      <td>[타이완, 크루즈, 여수, 전남]</td>\n",
       "      <td>[올해, 차례, 관광객, 입항, 관광지, 방문, 예정]</td>\n",
       "      <td>[걸쳐, 해]</td>\n",
       "      <td>...</td>\n",
       "      <td>1</td>\n",
       "      <td>Q25</td>\n",
       "      <td>Q25</td>\n",
       "      <td>SF</td>\n",
       "      <td>EF</td>\n",
       "      <td>True</td>\n",
       "      <td>False</td>\n",
       "      <td>False</td>\n",
       "      <td>다</td>\n",
       "      <td>[올해, 4, 월, 과, 6, 월, 두, 차례, 에, 걸쳐, 타이완, 의, 크루즈,...</td>\n",
       "    </tr>\n",
       "    <tr>\n",
       "      <th>4</th>\n",
       "      <td>[광양시는 정부가 2018년 1월 1일부터 시행하는 일자리 안정자금 신청을 12개 ...</td>\n",
       "      <td>[광양시는 30인 미만 중소기업 등 사업주에 1인당 월 13만원씩 지급하는 일자리 ...</td>\n",
       "      <td>[(광양시, NNP), (는, JX), (30, SN), (인, NNG), (미만,...</td>\n",
       "      <td>[광양시, 는, 30, 인, 미만, 중소기업, 등, 사업주, 에, 1, 인, 당, ...</td>\n",
       "      <td>[NNP, JX, SN, NNG, NNG, NNG, NNB, NNG, JKB, SN...</td>\n",
       "      <td>[광양시는, 30인, 미만, 중소기업, 등, 사업주에, 1인당, 월, 13만원씩, ...</td>\n",
       "      <td>{'광양시': 'NNP', '는': 'ETM', '30': 'SN', '인': 'N...</td>\n",
       "      <td>[광양시]</td>\n",
       "      <td>[인, 미만, 중소기업, 사업주, 인, 월, 지급, 일자리, 안정, 자금, 신청, ...</td>\n",
       "      <td>[면, 통해]</td>\n",
       "      <td>...</td>\n",
       "      <td>1</td>\n",
       "      <td>Q25</td>\n",
       "      <td>Q25</td>\n",
       "      <td>SF</td>\n",
       "      <td>EF</td>\n",
       "      <td>True</td>\n",
       "      <td>False</td>\n",
       "      <td>False</td>\n",
       "      <td>는다</td>\n",
       "      <td>[광양시, 는, 30, 인, 미만, 중소기업, 등, 사업주, 에, 1, 인, 당, ...</td>\n",
       "    </tr>\n",
       "  </tbody>\n",
       "</table>\n",
       "<p>5 rows × 33 columns</p>\n",
       "</div>"
      ],
      "text/plain": [
       "                                             ext_sum  \\\n",
       "0  [여수시는 원도심 일대에서 추진된 컬러빌리지 사업을 지난해 말 마무리하며 색채와 빛...   \n",
       "1  [임직원과 선수단 모두는 이날 구봉산 정상에 올라 일출을 보며 2018년 구단 목표...   \n",
       "2  [광양시는 오는 11일부터 24일까지 농업인교육관과 읍면동 회의실에서 농업인 105...   \n",
       "3  [전라남도는 올해 4월과 6월 홍콩 크루즈선사 스타크루즈의 5만톤급‘아쿠아리우스’호...   \n",
       "4  [광양시는 정부가 2018년 1월 1일부터 시행하는 일자리 안정자금 신청을 12개 ...   \n",
       "\n",
       "                                             abs_sum  \\\n",
       "0  [여수시는 컬러빌리지 사업에 8억원을 투입하여 ‘색채와 빛’ 도시를 완성하여 고소천...   \n",
       "1  [전남드래곤즈 임직원과 선수단이 4일 구봉산 정상에 올라 일출을 보며 2018년 구...   \n",
       "2  [광양시는 농업인들의 경쟁력을 높이고, 소득안정을 위해 매실·감·참다래 등 지역특화...   \n",
       "3  [올해 4월과 6월 두 차례에 걸쳐 타이완의 크루즈 관광객 4000여명이 여수에 입...   \n",
       "4  [광양시는 30인 미만 중소기업 등 사업주에 1인당 월 13만원씩 지급하는 일자리 ...   \n",
       "\n",
       "                                                 pos  \\\n",
       "0  [(여수시, NNP), (는, JX), (컬러, NNG), (빌리지, NNG), (...   \n",
       "1  [(전남, NNP), (드래곤즈, NNP), (임직원, NNG), (과, JC), ...   \n",
       "2  [(광양시, NNP), (는, JX), (농업, NNG), (인, XSN), (들,...   \n",
       "3  [(올해, NNG), (4, SN), (월, NNBC), (과, JC), (6, S...   \n",
       "4  [(광양시, NNP), (는, JX), (30, SN), (인, NNG), (미만,...   \n",
       "\n",
       "                                              morphs  \\\n",
       "0  [여수시, 는, 컬러, 빌리지, 사업, 에, 8, 억, 원, 을, 투입, 하, 여,...   \n",
       "1  [전남, 드래곤즈, 임직원, 과, 선수단, 이, 4, 일, 구봉산, 정상, 에, 올...   \n",
       "2  [광양시, 는, 농업, 인, 들, 의, 경쟁력, 을, 높이, 고, ,, 소득, 안정...   \n",
       "3  [올해, 4, 월, 과, 6, 월, 두, 차례, 에, 걸쳐, 타이완, 의, 크루즈,...   \n",
       "4  [광양시, 는, 30, 인, 미만, 중소기업, 등, 사업주, 에, 1, 인, 당, ...   \n",
       "\n",
       "                                                pos_  \\\n",
       "0  [NNP, JX, NNG, NNG, NNG, JKB, SN, NR, NNBC, JK...   \n",
       "1  [NNP, NNP, NNG, JC, NNG, JKS, SN, NNBC, NNP, N...   \n",
       "2  [NNP, JX, NNG, XSN, XSN, JKG, NNG, JKO, VV, EC...   \n",
       "3  [NNG, SN, NNBC, JC, SN, NNBC, MM, NNG, JKB, VV...   \n",
       "4  [NNP, JX, SN, NNG, NNG, NNG, NNB, NNG, JKB, SN...   \n",
       "\n",
       "                                          word_phase  \\\n",
       "0  [여수시는, 컬러빌리지, 사업에, 8억원을, 투입하여, ‘색채와, 빛’, 도시를, ...   \n",
       "1  [전남드래곤즈, 임직원과, 선수단이, 4일, 구봉산, 정상에, 올라, 일출을, 보며...   \n",
       "2  [광양시는, 농업인들의, 경쟁력을, 높이고,, 소득안정을, 위해, 매실·감·참다래,...   \n",
       "3  [올해, 4월과, 6월, 두, 차례에, 걸쳐, 타이완의, 크루즈, 관광객, 4000...   \n",
       "4  [광양시는, 30인, 미만, 중소기업, 등, 사업주에, 1인당, 월, 13만원씩, ...   \n",
       "\n",
       "                                        morph_to_pos             pos_NNP  \\\n",
       "0  {'여수시': 'NNP', '는': 'JX', '컬러': 'NNG', '빌리지': ...               [여수시]   \n",
       "1  {'전남': 'NNP', '드래곤즈': 'NNP', '임직원': 'NNG', '과'...     [전남, 드래곤즈, 구봉산]   \n",
       "2  {'광양시': 'NNP', '는': 'JX', '농업': 'NNG', '인': 'V...           [광양시, 다래]   \n",
       "3  {'올해': 'NNG', '4': 'SN', '월': 'NNBC', '과': 'JC...  [타이완, 크루즈, 여수, 전남]   \n",
       "4  {'광양시': 'NNP', '는': 'ETM', '30': 'SN', '인': 'N...               [광양시]   \n",
       "\n",
       "                                             pos_NNG        pos_EC  ...  \\\n",
       "0  [컬러, 빌리지, 사업, 투입, 색채, 빛, 도시, 완성, 고소, 천사, 벽화, 마...  [여, 여, 고, 해]  ...   \n",
       "1             [임직원, 선수단, 정상, 일출, 구단, 목표, 달성, 새해, 각오]       [올라, 며]  ...   \n",
       "2  [농업, 경쟁력, 소득, 안정, 매실, 감, 지역, 특화, 작목, 중심, 농업, 실...       [고, 위해]  ...   \n",
       "3                     [올해, 차례, 관광객, 입항, 관광지, 방문, 예정]       [걸쳐, 해]  ...   \n",
       "4  [인, 미만, 중소기업, 사업주, 인, 월, 지급, 일자리, 안정, 자금, 신청, ...       [면, 통해]  ...   \n",
       "\n",
       "  pos_num_SF pos_cat_morphs pos_cat_EC last_pos  sec_last_pos  have_EF  \\\n",
       "0          1            Q75        Q75       SF            EF     True   \n",
       "1          1            Q25        Q25       SF            EF     True   \n",
       "2          1            Q25        Q25       SF        XSV+EF     True   \n",
       "3          1            Q25        Q25       SF            EF     True   \n",
       "4          1            Q25        Q25       SF            EF     True   \n",
       "\n",
       "   irregular  have_irregular  sec_last_morphs  \\\n",
       "0      False           False                다   \n",
       "1      False           False                다   \n",
       "2      False           False               한다   \n",
       "3      False           False                다   \n",
       "4      False           False               는다   \n",
       "\n",
       "                                    converted_morphs  \n",
       "0  [여수시, 는, 컬러, 빌리지, 사업, 에, 8, 억, 원, 을, 투입, 하, 여,...  \n",
       "1  [전남, 드래곤즈, 임직원, 과, 선수단, 이, 4, 일, 구봉산, 정상, 에, 올...  \n",
       "2  [광양시, 는, 농업, 인, 들, 의, 경쟁력, 을, 높이, 고, ,, 소득, 안정...  \n",
       "3  [올해, 4, 월, 과, 6, 월, 두, 차례, 에, 걸쳐, 타이완, 의, 크루즈,...  \n",
       "4  [광양시, 는, 30, 인, 미만, 중소기업, 등, 사업주, 에, 1, 인, 당, ...  \n",
       "\n",
       "[5 rows x 33 columns]"
      ]
     },
     "execution_count": 173,
     "metadata": {},
     "output_type": "execute_result"
    }
   ],
   "source": [
    "pair_data_.head()"
   ]
  },
  {
   "cell_type": "code",
   "execution_count": 179,
   "id": "subject-baptist",
   "metadata": {},
   "outputs": [
    {
     "data": {
      "text/html": [
       "<div>\n",
       "<style scoped>\n",
       "    .dataframe tbody tr th:only-of-type {\n",
       "        vertical-align: middle;\n",
       "    }\n",
       "\n",
       "    .dataframe tbody tr th {\n",
       "        vertical-align: top;\n",
       "    }\n",
       "\n",
       "    .dataframe thead th {\n",
       "        text-align: right;\n",
       "    }\n",
       "</style>\n",
       "<table border=\"1\" class=\"dataframe\">\n",
       "  <thead>\n",
       "    <tr style=\"text-align: right;\">\n",
       "      <th></th>\n",
       "      <th>ext_sum</th>\n",
       "      <th>abs_sum</th>\n",
       "      <th>converted_morphs</th>\n",
       "      <th>word_phase</th>\n",
       "      <th>pos</th>\n",
       "    </tr>\n",
       "  </thead>\n",
       "  <tbody>\n",
       "    <tr>\n",
       "      <th>0</th>\n",
       "      <td>[여수시는 원도심 일대에서 추진된 컬러빌리지 사업을 지난해 말 마무리하며 색채와 빛...</td>\n",
       "      <td>[여수시는 컬러빌리지 사업에 8억원을 투입하여 ‘색채와 빛’ 도시를 완성하여 고소천...</td>\n",
       "      <td>[여수시, 는, 컬러, 빌리지, 사업, 에, 8, 억, 원, 을, 투입, 하, 여,...</td>\n",
       "      <td>[여수시는, 컬러빌리지, 사업에, 8억원을, 투입하여, ‘색채와, 빛’, 도시를, ...</td>\n",
       "      <td>[(여수시, NNP), (는, JX), (컬러, NNG), (빌리지, NNG), (...</td>\n",
       "    </tr>\n",
       "    <tr>\n",
       "      <th>1</th>\n",
       "      <td>[임직원과 선수단 모두는 이날 구봉산 정상에 올라 일출을 보며 2018년 구단 목표...</td>\n",
       "      <td>[전남드래곤즈 임직원과 선수단이 4일 구봉산 정상에 올라 일출을 보며 2018년 구...</td>\n",
       "      <td>[전남, 드래곤즈, 임직원, 과, 선수단, 이, 4, 일, 구봉산, 정상, 에, 올...</td>\n",
       "      <td>[전남드래곤즈, 임직원과, 선수단이, 4일, 구봉산, 정상에, 올라, 일출을, 보며...</td>\n",
       "      <td>[(전남, NNP), (드래곤즈, NNP), (임직원, NNG), (과, JC), ...</td>\n",
       "    </tr>\n",
       "    <tr>\n",
       "      <th>2</th>\n",
       "      <td>[광양시는 오는 11일부터 24일까지 농업인교육관과 읍면동 회의실에서 농업인 105...</td>\n",
       "      <td>[광양시는 농업인들의 경쟁력을 높이고, 소득안정을 위해 매실·감·참다래 등 지역특화...</td>\n",
       "      <td>[광양시, 는, 농업, 인, 들, 의, 경쟁력, 을, 높이, 고, ,, 소득, 안정...</td>\n",
       "      <td>[광양시는, 농업인들의, 경쟁력을, 높이고,, 소득안정을, 위해, 매실·감·참다래,...</td>\n",
       "      <td>[(광양시, NNP), (는, JX), (농업, NNG), (인, XSN), (들,...</td>\n",
       "    </tr>\n",
       "    <tr>\n",
       "      <th>3</th>\n",
       "      <td>[전라남도는 올해 4월과 6월 홍콩 크루즈선사 스타크루즈의 5만톤급‘아쿠아리우스’호...</td>\n",
       "      <td>[올해 4월과 6월 두 차례에 걸쳐 타이완의 크루즈 관광객 4000여명이 여수에 입...</td>\n",
       "      <td>[올해, 4, 월, 과, 6, 월, 두, 차례, 에, 걸쳐, 타이완, 의, 크루즈,...</td>\n",
       "      <td>[올해, 4월과, 6월, 두, 차례에, 걸쳐, 타이완의, 크루즈, 관광객, 4000...</td>\n",
       "      <td>[(올해, NNG), (4, SN), (월, NNBC), (과, JC), (6, S...</td>\n",
       "    </tr>\n",
       "    <tr>\n",
       "      <th>4</th>\n",
       "      <td>[광양시는 정부가 2018년 1월 1일부터 시행하는 일자리 안정자금 신청을 12개 ...</td>\n",
       "      <td>[광양시는 30인 미만 중소기업 등 사업주에 1인당 월 13만원씩 지급하는 일자리 ...</td>\n",
       "      <td>[광양시, 는, 30, 인, 미만, 중소기업, 등, 사업주, 에, 1, 인, 당, ...</td>\n",
       "      <td>[광양시는, 30인, 미만, 중소기업, 등, 사업주에, 1인당, 월, 13만원씩, ...</td>\n",
       "      <td>[(광양시, NNP), (는, JX), (30, SN), (인, NNG), (미만,...</td>\n",
       "    </tr>\n",
       "    <tr>\n",
       "      <th>...</th>\n",
       "      <td>...</td>\n",
       "      <td>...</td>\n",
       "      <td>...</td>\n",
       "      <td>...</td>\n",
       "      <td>...</td>\n",
       "    </tr>\n",
       "    <tr>\n",
       "      <th>104348</th>\n",
       "      <td>[라이프타임 채널이 'AOA의 다사다낭 심쿵다낭'의 베트남 촬영 현장 사진을 공개해...</td>\n",
       "      <td>[AOA 혜정, 유나, 찬미의 첫 해외 리얼리티 라이프타임 채널 'AOA의 다사다낭...</td>\n",
       "      <td>[AOA, 혜정, ,, 유나, ,, 찬미, 의, 첫, 해외, 리얼리티, 라이프타임,...</td>\n",
       "      <td>[AOA, 혜정,, 유나,, 찬미의, 첫, 해외, 리얼리티, 라이프타임, 채널, '...</td>\n",
       "      <td>[(AOA, SL), (혜정, NNG), (,, SC), (유나, NNP), (,,...</td>\n",
       "    </tr>\n",
       "    <tr>\n",
       "      <th>104349</th>\n",
       "      <td>[세계 각국의 플라스틱 사용 규제에 스타벅스 등 글로벌 커피 매장들이 동참하면서 친...</td>\n",
       "      <td>[세계 각국의 플라스틱 사용 규제로 친환경 빨대 시장이 급속히 성장하는 가운데 꽃신...</td>\n",
       "      <td>[세계, 각국, 의, 플라스틱, 사용, 규제, 로, 친환경, 빨대, 시장, 이, 급...</td>\n",
       "      <td>[세계, 각국의, 플라스틱, 사용, 규제로, 친환경, 빨대, 시장이, 급속히, 성장...</td>\n",
       "      <td>[(세계, NNG), (각국, NNG), (의, JKG), (플라스틱, NNG), ...</td>\n",
       "    </tr>\n",
       "    <tr>\n",
       "      <th>104350</th>\n",
       "      <td>[강병원 더불어민주당 국회의원과 코리아스타트업포럼이 8일 국회 의원회관에서 공동으로...</td>\n",
       "      <td>[8일 국회 의원회관에서 열린 '스타트업이 묻고, 국회가 답하다' 토론회에서 박재욱...</td>\n",
       "      <td>[8, 일, 국회, 의원, 회관, 에서, 열린, ', 스타트업, 이, 묻, 고, ,...</td>\n",
       "      <td>[8일, 국회, 의원회관에서, 열린, '스타트업이, 묻고,, 국회가, 답하다', 토...</td>\n",
       "      <td>[(8, SN), (일, NNBC), (국회, NNG), (의원, NNG), (회관...</td>\n",
       "    </tr>\n",
       "    <tr>\n",
       "      <th>104351</th>\n",
       "      <td>[] 개인방송 플랫폼 서비스 업체 아프리카TV가 1분기 실적 개선 기대에 코스닥시장...</td>\n",
       "      <td>[아프리카 TV가 '별풍선' 등 아이템과 e스포츠 성장으로 게임방송관련 매출이 큰 ...</td>\n",
       "      <td>[아프리카, TV, 가, ', 별, 풍선, ', 등, 아이템, 과, e, 스포츠, ...</td>\n",
       "      <td>[아프리카, TV가, '별풍선', 등, 아이템과, e스포츠, 성장으로, 게임방송관련...</td>\n",
       "      <td>[(아프리카, NNP), (TV, SL), (가, JKS), (', SY), (별,...</td>\n",
       "    </tr>\n",
       "    <tr>\n",
       "      <th>104353</th>\n",
       "      <td>[] 외국인 투자자와 기관투자가가 화학주를 '쌍끌이'로 사들이고 있다., \"석유화학...</td>\n",
       "      <td>[8일 유가증권시장 화학업종지수는 33.66포인트 증가한 5276.37로 마쳤고 외...</td>\n",
       "      <td>[8, 일, 유가증권, 시장, 화학, 업종, 지수, 는, 33, ., 66, 포인트...</td>\n",
       "      <td>[8일, 유가증권시장, 화학업종지수는, 33.66포인트, 증가한, 5276.37로,...</td>\n",
       "      <td>[(8, SN), (일, NNBC), (유가증권, NNP), (시장, NNG), (...</td>\n",
       "    </tr>\n",
       "  </tbody>\n",
       "</table>\n",
       "<p>83097 rows × 5 columns</p>\n",
       "</div>"
      ],
      "text/plain": [
       "                                                  ext_sum  \\\n",
       "0       [여수시는 원도심 일대에서 추진된 컬러빌리지 사업을 지난해 말 마무리하며 색채와 빛...   \n",
       "1       [임직원과 선수단 모두는 이날 구봉산 정상에 올라 일출을 보며 2018년 구단 목표...   \n",
       "2       [광양시는 오는 11일부터 24일까지 농업인교육관과 읍면동 회의실에서 농업인 105...   \n",
       "3       [전라남도는 올해 4월과 6월 홍콩 크루즈선사 스타크루즈의 5만톤급‘아쿠아리우스’호...   \n",
       "4       [광양시는 정부가 2018년 1월 1일부터 시행하는 일자리 안정자금 신청을 12개 ...   \n",
       "...                                                   ...   \n",
       "104348  [라이프타임 채널이 'AOA의 다사다낭 심쿵다낭'의 베트남 촬영 현장 사진을 공개해...   \n",
       "104349  [세계 각국의 플라스틱 사용 규제에 스타벅스 등 글로벌 커피 매장들이 동참하면서 친...   \n",
       "104350  [강병원 더불어민주당 국회의원과 코리아스타트업포럼이 8일 국회 의원회관에서 공동으로...   \n",
       "104351  [] 개인방송 플랫폼 서비스 업체 아프리카TV가 1분기 실적 개선 기대에 코스닥시장...   \n",
       "104353  [] 외국인 투자자와 기관투자가가 화학주를 '쌍끌이'로 사들이고 있다., \"석유화학...   \n",
       "\n",
       "                                                  abs_sum  \\\n",
       "0       [여수시는 컬러빌리지 사업에 8억원을 투입하여 ‘색채와 빛’ 도시를 완성하여 고소천...   \n",
       "1       [전남드래곤즈 임직원과 선수단이 4일 구봉산 정상에 올라 일출을 보며 2018년 구...   \n",
       "2       [광양시는 농업인들의 경쟁력을 높이고, 소득안정을 위해 매실·감·참다래 등 지역특화...   \n",
       "3       [올해 4월과 6월 두 차례에 걸쳐 타이완의 크루즈 관광객 4000여명이 여수에 입...   \n",
       "4       [광양시는 30인 미만 중소기업 등 사업주에 1인당 월 13만원씩 지급하는 일자리 ...   \n",
       "...                                                   ...   \n",
       "104348  [AOA 혜정, 유나, 찬미의 첫 해외 리얼리티 라이프타임 채널 'AOA의 다사다낭...   \n",
       "104349  [세계 각국의 플라스틱 사용 규제로 친환경 빨대 시장이 급속히 성장하는 가운데 꽃신...   \n",
       "104350  [8일 국회 의원회관에서 열린 '스타트업이 묻고, 국회가 답하다' 토론회에서 박재욱...   \n",
       "104351  [아프리카 TV가 '별풍선' 등 아이템과 e스포츠 성장으로 게임방송관련 매출이 큰 ...   \n",
       "104353  [8일 유가증권시장 화학업종지수는 33.66포인트 증가한 5276.37로 마쳤고 외...   \n",
       "\n",
       "                                         converted_morphs  \\\n",
       "0       [여수시, 는, 컬러, 빌리지, 사업, 에, 8, 억, 원, 을, 투입, 하, 여,...   \n",
       "1       [전남, 드래곤즈, 임직원, 과, 선수단, 이, 4, 일, 구봉산, 정상, 에, 올...   \n",
       "2       [광양시, 는, 농업, 인, 들, 의, 경쟁력, 을, 높이, 고, ,, 소득, 안정...   \n",
       "3       [올해, 4, 월, 과, 6, 월, 두, 차례, 에, 걸쳐, 타이완, 의, 크루즈,...   \n",
       "4       [광양시, 는, 30, 인, 미만, 중소기업, 등, 사업주, 에, 1, 인, 당, ...   \n",
       "...                                                   ...   \n",
       "104348  [AOA, 혜정, ,, 유나, ,, 찬미, 의, 첫, 해외, 리얼리티, 라이프타임,...   \n",
       "104349  [세계, 각국, 의, 플라스틱, 사용, 규제, 로, 친환경, 빨대, 시장, 이, 급...   \n",
       "104350  [8, 일, 국회, 의원, 회관, 에서, 열린, ', 스타트업, 이, 묻, 고, ,...   \n",
       "104351  [아프리카, TV, 가, ', 별, 풍선, ', 등, 아이템, 과, e, 스포츠, ...   \n",
       "104353  [8, 일, 유가증권, 시장, 화학, 업종, 지수, 는, 33, ., 66, 포인트...   \n",
       "\n",
       "                                               word_phase  \\\n",
       "0       [여수시는, 컬러빌리지, 사업에, 8억원을, 투입하여, ‘색채와, 빛’, 도시를, ...   \n",
       "1       [전남드래곤즈, 임직원과, 선수단이, 4일, 구봉산, 정상에, 올라, 일출을, 보며...   \n",
       "2       [광양시는, 농업인들의, 경쟁력을, 높이고,, 소득안정을, 위해, 매실·감·참다래,...   \n",
       "3       [올해, 4월과, 6월, 두, 차례에, 걸쳐, 타이완의, 크루즈, 관광객, 4000...   \n",
       "4       [광양시는, 30인, 미만, 중소기업, 등, 사업주에, 1인당, 월, 13만원씩, ...   \n",
       "...                                                   ...   \n",
       "104348  [AOA, 혜정,, 유나,, 찬미의, 첫, 해외, 리얼리티, 라이프타임, 채널, '...   \n",
       "104349  [세계, 각국의, 플라스틱, 사용, 규제로, 친환경, 빨대, 시장이, 급속히, 성장...   \n",
       "104350  [8일, 국회, 의원회관에서, 열린, '스타트업이, 묻고,, 국회가, 답하다', 토...   \n",
       "104351  [아프리카, TV가, '별풍선', 등, 아이템과, e스포츠, 성장으로, 게임방송관련...   \n",
       "104353  [8일, 유가증권시장, 화학업종지수는, 33.66포인트, 증가한, 5276.37로,...   \n",
       "\n",
       "                                                      pos  \n",
       "0       [(여수시, NNP), (는, JX), (컬러, NNG), (빌리지, NNG), (...  \n",
       "1       [(전남, NNP), (드래곤즈, NNP), (임직원, NNG), (과, JC), ...  \n",
       "2       [(광양시, NNP), (는, JX), (농업, NNG), (인, XSN), (들,...  \n",
       "3       [(올해, NNG), (4, SN), (월, NNBC), (과, JC), (6, S...  \n",
       "4       [(광양시, NNP), (는, JX), (30, SN), (인, NNG), (미만,...  \n",
       "...                                                   ...  \n",
       "104348  [(AOA, SL), (혜정, NNG), (,, SC), (유나, NNP), (,,...  \n",
       "104349  [(세계, NNG), (각국, NNG), (의, JKG), (플라스틱, NNG), ...  \n",
       "104350  [(8, SN), (일, NNBC), (국회, NNG), (의원, NNG), (회관...  \n",
       "104351  [(아프리카, NNP), (TV, SL), (가, JKS), (', SY), (별,...  \n",
       "104353  [(8, SN), (일, NNBC), (유가증권, NNP), (시장, NNG), (...  \n",
       "\n",
       "[83097 rows x 5 columns]"
      ]
     },
     "execution_count": 179,
     "metadata": {},
     "output_type": "execute_result"
    }
   ],
   "source": [
    "pair_data_[['ext_sum','abs_sum','converted_morphs','word_phase','pos']]"
   ]
  },
  {
   "cell_type": "code",
   "execution_count": 201,
   "id": "junior-major",
   "metadata": {},
   "outputs": [],
   "source": [
    "pair_data_['join_converted_morphs'] = pair_data['converted_morphs'].map(lambda x: \"\".join(x))\n"
   ]
  },
  {
   "cell_type": "code",
   "execution_count": 204,
   "id": "timely-conversion",
   "metadata": {},
   "outputs": [
    {
     "data": {
      "text/plain": [
       "0         [(여수시, NNP), (는, JX), (컬러, NNG), (빌리지, NNG), (...\n",
       "1         [(전남, NNP), (드래곤즈, NNP), (임직원, NNG), (과, JC), ...\n",
       "2         [(광양시, NNP), (는, JX), (농업, NNG), (인, XSN), (들,...\n",
       "3         [(올해, NNG), (4, SN), (월, NNBC), (과, JC), (6, S...\n",
       "4         [(광양시, NNP), (는, JX), (30, SN), (인, NNG), (미만,...\n",
       "                                ...                        \n",
       "104348    [(AOA, SL), (혜정, NNG), (,, SC), (유나, NNP), (,,...\n",
       "104349    [(세계, NNG), (각국, NNG), (의, JKG), (플라스틱, NNG), ...\n",
       "104350    [(8, SN), (일, NNBC), (국회의원, NNG), (회관, NNG), (...\n",
       "104351    [(아프리카, NNP), (TV, SL), (가, JKS), (', SY), (별,...\n",
       "104353    [(8, SN), (일, NNBC), (유가증권, NNP), (시장, NNG), (...\n",
       "Name: join_converted_morphs, Length: 83097, dtype: object"
      ]
     },
     "execution_count": 204,
     "metadata": {},
     "output_type": "execute_result"
    }
   ],
   "source": [
    "pair_data_['join_converted_morphs'].map(lambda x:pos(x)) "
   ]
  },
  {
   "cell_type": "code",
   "execution_count": 207,
   "id": "closed-construction",
   "metadata": {},
   "outputs": [],
   "source": [
    "def space_index(x):\n",
    "    tmp = 0\n",
    "    lst = []\n",
    "    for i in x:\n",
    "        tmp += len(i)\n",
    "        lst.append(tmp)\n",
    "    return lst\n",
    "                           \n",
    "pair_data_['space_index']=pair_data_['word_phase'].map(lambda x: space_index(x))"
   ]
  },
  {
   "cell_type": "code",
   "execution_count": 208,
   "id": "continent-burden",
   "metadata": {},
   "outputs": [
    {
     "data": {
      "text/plain": [
       "0         [4, 9, 12, 16, 20, 24, 26, 29, 33, 42, 47, 51,...\n",
       "1         [6, 10, 14, 16, 19, 22, 24, 27, 29, 34, 36, 38...\n",
       "2         [4, 9, 13, 17, 22, 24, 32, 33, 39, 43, 46, 51,...\n",
       "3         [2, 5, 7, 8, 11, 13, 17, 20, 23, 30, 33, 36, 3...\n",
       "4         [4, 7, 9, 13, 14, 18, 21, 22, 27, 31, 34, 38, ...\n",
       "                                ...                        \n",
       "104348    [3, 6, 9, 12, 13, 15, 19, 24, 26, 31, 35, 41, ...\n",
       "104349    [2, 5, 9, 11, 14, 17, 19, 22, 25, 29, 32, 34, ...\n",
       "104350    [2, 4, 10, 12, 18, 21, 24, 28, 33, 36, 44, 47,...\n",
       "104351    [4, 7, 12, 13, 17, 21, 25, 31, 34, 35, 38, 43,...\n",
       "104353    [2, 8, 15, 23, 26, 34, 37, 40, 44, 50, 54, 60,...\n",
       "Name: space_index, Length: 83097, dtype: object"
      ]
     },
     "execution_count": 208,
     "metadata": {},
     "output_type": "execute_result"
    }
   ],
   "source": [
    "pair_data_['space_index']"
   ]
  },
  {
   "cell_type": "code",
   "execution_count": 229,
   "id": "artificial-fraud",
   "metadata": {},
   "outputs": [],
   "source": [
    "def insert_space(x, y):\n",
    "    tmp = 0\n",
    "    x = list(x)\n",
    "    for i in y:\n",
    "        x.insert(i+tmp,' ')\n",
    "        tmp += 1\n",
    "    return ''.join(x)\n",
    "pair_data_['space_converted_morphs'] = pair_data_.apply(lambda x : insert_space(x['join_converted_morphs'],x['space_index']), axis=1)\n"
   ]
  },
  {
   "cell_type": "code",
   "execution_count": 234,
   "id": "positive-maria",
   "metadata": {},
   "outputs": [
    {
     "data": {
      "text/plain": [
       "\"인천시 강화군은 축산농가의 예상치 못한 각종 재해와 질병으로 인한 피해를 최소화하고 농가의 안정화를 보장하기 위하여 산출보험료의 80%를 군에서 지원하고, 축산농가는 20%만 부담하는 '가축재해보험 가입 지원사업'을 추진하고 있다고 19일 밝혔어요 .\""
      ]
     },
     "execution_count": 234,
     "metadata": {},
     "output_type": "execute_result"
    }
   ],
   "source": [
    "pair_data_['space_converted_morphs'][10000]"
   ]
  },
  {
   "cell_type": "code",
   "execution_count": 246,
   "id": "convinced-aside",
   "metadata": {},
   "outputs": [],
   "source": [
    "#- 4만 5천개\n",
    "pair_data_60 = pair_data_[pair_data_['morphs_num']<=60][['ext_sum','abs_sum','space_converted_morphs']]"
   ]
  },
  {
   "cell_type": "code",
   "execution_count": 247,
   "id": "classical-apparatus",
   "metadata": {
    "scrolled": true
   },
   "outputs": [
    {
     "data": {
      "text/plain": [
       "(46758, 3)"
      ]
     },
     "execution_count": 247,
     "metadata": {},
     "output_type": "execute_result"
    }
   ],
   "source": [
    "pair_data_60.shape"
   ]
  },
  {
   "cell_type": "code",
   "execution_count": 251,
   "id": "tough-energy",
   "metadata": {
    "scrolled": true
   },
   "outputs": [
    {
     "data": {
      "text/html": [
       "<div>\n",
       "<style scoped>\n",
       "    .dataframe tbody tr th:only-of-type {\n",
       "        vertical-align: middle;\n",
       "    }\n",
       "\n",
       "    .dataframe tbody tr th {\n",
       "        vertical-align: top;\n",
       "    }\n",
       "\n",
       "    .dataframe thead th {\n",
       "        text-align: right;\n",
       "    }\n",
       "</style>\n",
       "<table border=\"1\" class=\"dataframe\">\n",
       "  <thead>\n",
       "    <tr style=\"text-align: right;\">\n",
       "      <th></th>\n",
       "      <th>category</th>\n",
       "      <th>media_name</th>\n",
       "      <th>title</th>\n",
       "      <th>origin</th>\n",
       "      <th>ext_sum</th>\n",
       "      <th>abs_sum</th>\n",
       "      <th>size</th>\n",
       "      <th>char_count</th>\n",
       "      <th>year</th>\n",
       "      <th>month</th>\n",
       "      <th>date</th>\n",
       "      <th>readable</th>\n",
       "      <th>accurate</th>\n",
       "      <th>informative</th>\n",
       "      <th>trustworthy</th>\n",
       "    </tr>\n",
       "  </thead>\n",
       "  <tbody>\n",
       "    <tr>\n",
       "      <th>1</th>\n",
       "      <td>종합</td>\n",
       "      <td>광양신문</td>\n",
       "      <td>논 타작물 재배, 2월 말까지 신청하세요</td>\n",
       "      <td>[ha당 조사료 400만원…작물별 차등 지원, 이성훈 sinawi@hanmail.n...</td>\n",
       "      <td>[전라남도가 쌀 과잉문제를 근본적으로 해결하기 위해 올해부터 시행하는 쌀 생산조정제...</td>\n",
       "      <td>[전라남도가 쌀 과잉문제를 근본적으로 해결하기 위해 올해부터 벼를 심었던 논에 벼 ...</td>\n",
       "      <td>small</td>\n",
       "      <td>927</td>\n",
       "      <td>2018</td>\n",
       "      <td>01</td>\n",
       "      <td>05</td>\n",
       "      <td>4</td>\n",
       "      <td>3</td>\n",
       "      <td>3</td>\n",
       "      <td>3</td>\n",
       "    </tr>\n",
       "    <tr>\n",
       "      <th>2</th>\n",
       "      <td>종합</td>\n",
       "      <td>광양신문</td>\n",
       "      <td>여수시, 컬러빌리지 마무리...‘색채와 빛’도시 완성</td>\n",
       "      <td>[8억 투입, 고소천사벽화·자산마을에 색채 입혀, 이성훈 sinawi@hanmail...</td>\n",
       "      <td>[여수시는 원도심 일대에서 추진된 컬러빌리지 사업을 지난해 말 마무리하며 색채와 빛...</td>\n",
       "      <td>[여수시는 컬러빌리지 사업에 8억원을 투입하여 ‘색채와 빛’ 도시를 완성하여 고소천...</td>\n",
       "      <td>small</td>\n",
       "      <td>764</td>\n",
       "      <td>2018</td>\n",
       "      <td>01</td>\n",
       "      <td>05</td>\n",
       "      <td>4</td>\n",
       "      <td>4</td>\n",
       "      <td>5</td>\n",
       "      <td>4</td>\n",
       "    </tr>\n",
       "    <tr>\n",
       "      <th>3</th>\n",
       "      <td>스포츠</td>\n",
       "      <td>광양신문</td>\n",
       "      <td>“새해 정기 받고 올해는 반드시 일내자!”</td>\n",
       "      <td>[전남드래곤즈 해맞이 다짐…선수 영입 활발, 이성훈 sinawi@hanmail.ne...</td>\n",
       "      <td>[임직원과 선수단 모두는 이날 구봉산 정상에 올라 일출을 보며 2018년 구단 목표...</td>\n",
       "      <td>[전남드래곤즈 임직원과 선수단이 4일 구봉산 정상에 올라 일출을 보며 2018년 구...</td>\n",
       "      <td>medium</td>\n",
       "      <td>1066</td>\n",
       "      <td>2018</td>\n",
       "      <td>01</td>\n",
       "      <td>05</td>\n",
       "      <td>4</td>\n",
       "      <td>4</td>\n",
       "      <td>4</td>\n",
       "      <td>4</td>\n",
       "    </tr>\n",
       "    <tr>\n",
       "      <th>4</th>\n",
       "      <td>정치</td>\n",
       "      <td>광양신문</td>\n",
       "      <td>농업인 역량 강화, 새해 실용교육 실시</td>\n",
       "      <td>[11~24일, 매실·감·참다래 등 지역특화작목, 이성훈 sinawi@hanmail...</td>\n",
       "      <td>[광양시는 오는 11일부터 24일까지 농업인교육관과 읍면동 회의실에서 농업인 105...</td>\n",
       "      <td>[광양시는 농업인들의 경쟁력을 높이고, 소득안정을 위해 매실·감·참다래 등 지역특화...</td>\n",
       "      <td>small</td>\n",
       "      <td>746</td>\n",
       "      <td>2018</td>\n",
       "      <td>01</td>\n",
       "      <td>05</td>\n",
       "      <td>4</td>\n",
       "      <td>4</td>\n",
       "      <td>5</td>\n",
       "      <td>4</td>\n",
       "    </tr>\n",
       "    <tr>\n",
       "      <th>5</th>\n",
       "      <td>종합</td>\n",
       "      <td>광양신문</td>\n",
       "      <td>타이완 크루즈관광객 4천여명‘전남’온다</td>\n",
       "      <td>[홍콩 크루즈선사‘아쿠아리우스’ 4, 6월 여수항 입항, 이성훈 sinawi@han...</td>\n",
       "      <td>[전라남도는 올해 4월과 6월 홍콩 크루즈선사 스타크루즈의 5만톤급‘아쿠아리우스’호...</td>\n",
       "      <td>[올해 4월과 6월 두 차례에 걸쳐 타이완의 크루즈 관광객 4000여명이 여수에 입...</td>\n",
       "      <td>small</td>\n",
       "      <td>978</td>\n",
       "      <td>2018</td>\n",
       "      <td>01</td>\n",
       "      <td>05</td>\n",
       "      <td>4</td>\n",
       "      <td>4</td>\n",
       "      <td>4</td>\n",
       "      <td>4</td>\n",
       "    </tr>\n",
       "  </tbody>\n",
       "</table>\n",
       "</div>"
      ],
      "text/plain": [
       "  category media_name                          title  \\\n",
       "1       종합       광양신문         논 타작물 재배, 2월 말까지 신청하세요   \n",
       "2       종합       광양신문  여수시, 컬러빌리지 마무리...‘색채와 빛’도시 완성   \n",
       "3      스포츠       광양신문        “새해 정기 받고 올해는 반드시 일내자!”   \n",
       "4       정치       광양신문          농업인 역량 강화, 새해 실용교육 실시   \n",
       "5       종합       광양신문          타이완 크루즈관광객 4천여명‘전남’온다   \n",
       "\n",
       "                                              origin  \\\n",
       "1  [ha당 조사료 400만원…작물별 차등 지원, 이성훈 sinawi@hanmail.n...   \n",
       "2  [8억 투입, 고소천사벽화·자산마을에 색채 입혀, 이성훈 sinawi@hanmail...   \n",
       "3  [전남드래곤즈 해맞이 다짐…선수 영입 활발, 이성훈 sinawi@hanmail.ne...   \n",
       "4  [11~24일, 매실·감·참다래 등 지역특화작목, 이성훈 sinawi@hanmail...   \n",
       "5  [홍콩 크루즈선사‘아쿠아리우스’ 4, 6월 여수항 입항, 이성훈 sinawi@han...   \n",
       "\n",
       "                                             ext_sum  \\\n",
       "1  [전라남도가 쌀 과잉문제를 근본적으로 해결하기 위해 올해부터 시행하는 쌀 생산조정제...   \n",
       "2  [여수시는 원도심 일대에서 추진된 컬러빌리지 사업을 지난해 말 마무리하며 색채와 빛...   \n",
       "3  [임직원과 선수단 모두는 이날 구봉산 정상에 올라 일출을 보며 2018년 구단 목표...   \n",
       "4  [광양시는 오는 11일부터 24일까지 농업인교육관과 읍면동 회의실에서 농업인 105...   \n",
       "5  [전라남도는 올해 4월과 6월 홍콩 크루즈선사 스타크루즈의 5만톤급‘아쿠아리우스’호...   \n",
       "\n",
       "                                             abs_sum    size char_count  year  \\\n",
       "1  [전라남도가 쌀 과잉문제를 근본적으로 해결하기 위해 올해부터 벼를 심었던 논에 벼 ...   small        927  2018   \n",
       "2  [여수시는 컬러빌리지 사업에 8억원을 투입하여 ‘색채와 빛’ 도시를 완성하여 고소천...   small        764  2018   \n",
       "3  [전남드래곤즈 임직원과 선수단이 4일 구봉산 정상에 올라 일출을 보며 2018년 구...  medium       1066  2018   \n",
       "4  [광양시는 농업인들의 경쟁력을 높이고, 소득안정을 위해 매실·감·참다래 등 지역특화...   small        746  2018   \n",
       "5  [올해 4월과 6월 두 차례에 걸쳐 타이완의 크루즈 관광객 4000여명이 여수에 입...   small        978  2018   \n",
       "\n",
       "  month date  readable  accurate  informative  trustworthy  \n",
       "1    01   05         4         3            3            3  \n",
       "2    01   05         4         4            5            4  \n",
       "3    01   05         4         4            4            4  \n",
       "4    01   05         4         4            5            4  \n",
       "5    01   05         4         4            4            4  "
      ]
     },
     "execution_count": 251,
     "metadata": {},
     "output_type": "execute_result"
    }
   ],
   "source": [
    "df.head()"
   ]
  },
  {
   "cell_type": "code",
   "execution_count": 256,
   "id": "constitutional-research",
   "metadata": {},
   "outputs": [
    {
     "data": {
      "text/plain": [
       "1         [ha당 조사료 400만원…작물별 차등 지원, 이성훈 sinawi@hanmail.n...\n",
       "2         [8억 투입, 고소천사벽화·자산마을에 색채 입혀, 이성훈 sinawi@hanmail...\n",
       "3         [전남드래곤즈 해맞이 다짐…선수 영입 활발, 이성훈 sinawi@hanmail.ne...\n",
       "4         [11~24일, 매실·감·참다래 등 지역특화작목, 이성훈 sinawi@hanmail...\n",
       "5         [홍콩 크루즈선사‘아쿠아리우스’ 4, 6월 여수항 입항, 이성훈 sinawi@han...\n",
       "                                ...                        \n",
       "104342    [박은 기자l parkeun90@naver.com, 전북도와 시·군, 지역 국회의원...\n",
       "104344    [이수화 기자l waterflower20@, “대학교수로서 비리와 싸울 땐 바뀌지 ...\n",
       "104346    [도의회 예결위, 7조8262억 의결 일자리 5714억-저출산4532억 등 도교육청...\n",
       "104349    [“민간체육회 초석 다질 것”, 양대진 기자l djyang7110@, 초대 진안군 ...\n",
       "104351    [18일 진학상담교사 50여명 초청 2020학년도 대입전형결과 제공, 이병재 기자l...\n",
       "Name: origin, Length: 46758, dtype: object"
      ]
     },
     "execution_count": 256,
     "metadata": {},
     "output_type": "execute_result"
    }
   ],
   "source": [
    "df.loc[pair_data_60.index.values, 'origin']"
   ]
  },
  {
   "cell_type": "code",
   "execution_count": 257,
   "id": "public-university",
   "metadata": {},
   "outputs": [],
   "source": [
    "pair_data_60.rename(columns={'space_converted_morphs':'converted_sum'},inplace=True)\n",
    "pair_data_60['original'] = df.loc[pair_data_60.index.values, 'origin']"
   ]
  },
  {
   "cell_type": "code",
   "execution_count": 258,
   "id": "answering-luxury",
   "metadata": {
    "scrolled": true
   },
   "outputs": [
    {
     "data": {
      "text/html": [
       "<div>\n",
       "<style scoped>\n",
       "    .dataframe tbody tr th:only-of-type {\n",
       "        vertical-align: middle;\n",
       "    }\n",
       "\n",
       "    .dataframe tbody tr th {\n",
       "        vertical-align: top;\n",
       "    }\n",
       "\n",
       "    .dataframe thead th {\n",
       "        text-align: right;\n",
       "    }\n",
       "</style>\n",
       "<table border=\"1\" class=\"dataframe\">\n",
       "  <thead>\n",
       "    <tr style=\"text-align: right;\">\n",
       "      <th></th>\n",
       "      <th>ext_sum</th>\n",
       "      <th>abs_sum</th>\n",
       "      <th>converted_sum</th>\n",
       "      <th>original</th>\n",
       "    </tr>\n",
       "  </thead>\n",
       "  <tbody>\n",
       "    <tr>\n",
       "      <th>1</th>\n",
       "      <td>[임직원과 선수단 모두는 이날 구봉산 정상에 올라 일출을 보며 2018년 구단 목표...</td>\n",
       "      <td>[전남드래곤즈 임직원과 선수단이 4일 구봉산 정상에 올라 일출을 보며 2018년 구...</td>\n",
       "      <td>전남드래곤즈 임직원과 선수단이 4일 구봉산 정상에 올라 일출을 보며 2018년 구단...</td>\n",
       "      <td>[ha당 조사료 400만원…작물별 차등 지원, 이성훈 sinawi@hanmail.n...</td>\n",
       "    </tr>\n",
       "    <tr>\n",
       "      <th>2</th>\n",
       "      <td>[광양시는 오는 11일부터 24일까지 농업인교육관과 읍면동 회의실에서 농업인 105...</td>\n",
       "      <td>[광양시는 농업인들의 경쟁력을 높이고, 소득안정을 위해 매실·감·참다래 등 지역특화...</td>\n",
       "      <td>광양시는 농업인들의 경쟁력을 높이고, 소득안정을 위해 매실·감·참다래 등 지역특화작...</td>\n",
       "      <td>[8억 투입, 고소천사벽화·자산마을에 색채 입혀, 이성훈 sinawi@hanmail...</td>\n",
       "    </tr>\n",
       "    <tr>\n",
       "      <th>3</th>\n",
       "      <td>[전라남도는 올해 4월과 6월 홍콩 크루즈선사 스타크루즈의 5만톤급‘아쿠아리우스’호...</td>\n",
       "      <td>[올해 4월과 6월 두 차례에 걸쳐 타이완의 크루즈 관광객 4000여명이 여수에 입...</td>\n",
       "      <td>올해 4월과 6월 두 차례에 걸쳐 타이완의 크루즈 관광객 4000여명이 여수에 입항...</td>\n",
       "      <td>[전남드래곤즈 해맞이 다짐…선수 영입 활발, 이성훈 sinawi@hanmail.ne...</td>\n",
       "    </tr>\n",
       "    <tr>\n",
       "      <th>4</th>\n",
       "      <td>[광양시는 정부가 2018년 1월 1일부터 시행하는 일자리 안정자금 신청을 12개 ...</td>\n",
       "      <td>[광양시는 30인 미만 중소기업 등 사업주에 1인당 월 13만원씩 지급하는 일자리 ...</td>\n",
       "      <td>광양시는 30인 미만 중소기업 등 사업주에 1인당 월 13만원씩 지급하는 일자리 안...</td>\n",
       "      <td>[11~24일, 매실·감·참다래 등 지역특화작목, 이성훈 sinawi@hanmail...</td>\n",
       "    </tr>\n",
       "    <tr>\n",
       "      <th>5</th>\n",
       "      <td>[말과 흑인여성을 화폭에 담은 출향작가‘강홍순 전’이 오는 14일까지 광양문화원 기...</td>\n",
       "      <td>[말과 흑인여성을 화폭에 담은 서양화가 ‘강홍순 전’이 오는 14일까지 광양문화원 ...</td>\n",
       "      <td>말과 흑인여성을 화폭에 담은 서양화가 ‘강홍순 전’이 오는 14일까지 광양문화원 기...</td>\n",
       "      <td>[홍콩 크루즈선사‘아쿠아리우스’ 4, 6월 여수항 입항, 이성훈 sinawi@han...</td>\n",
       "    </tr>\n",
       "    <tr>\n",
       "      <th>...</th>\n",
       "      <td>...</td>\n",
       "      <td>...</td>\n",
       "      <td>...</td>\n",
       "      <td>...</td>\n",
       "    </tr>\n",
       "    <tr>\n",
       "      <th>104342</th>\n",
       "      <td>[김기문 중소기업중앙회 회장(사진)이 지난 2월 말 선거 당선 후 평일 오후 5시께...</td>\n",
       "      <td>[김기문 중소기업중앙회 회장이 협동조합 이사장들에게 주요 정책 등 현안을 다룬 'K...</td>\n",
       "      <td>김기문 중소기업중앙회 회장이 협동조합 이사장들에게 주요 정책 등 현안을 다룬 'KB...</td>\n",
       "      <td>[박은 기자l parkeun90@naver.com, 전북도와 시·군, 지역 국회의원...</td>\n",
       "    </tr>\n",
       "    <tr>\n",
       "      <th>104344</th>\n",
       "      <td>[유주현 대한건설협회 회장(사진)은 8일 기자간담회를 열어 \"적자공사가 누적돼 건설...</td>\n",
       "      <td>[8일 유주현 대한건설협회 회장은 한국은 발주기관의 예정가격이 하락하고 낙착률이 고...</td>\n",
       "      <td>8일 유주현 대한건설협회 회장은 한국은 발주기관의 예정가격이 하락하고 낙착률이 고정...</td>\n",
       "      <td>[이수화 기자l waterflower20@, “대학교수로서 비리와 싸울 땐 바뀌지 ...</td>\n",
       "    </tr>\n",
       "    <tr>\n",
       "      <th>104346</th>\n",
       "      <td>[] 고동진 삼성전자 IM(IT모바일)부문장(사장·사진)이 8일 세계 갤럭시S10 ...</td>\n",
       "      <td>[8일 삼성전자는 고동진 삼성전자 사장이 갤S10 소비자에게 구매감사와 모바일 경험...</td>\n",
       "      <td>8일 삼성전자는 고동진 삼성전자 사장이 갤S10 소비자에게 구매감사와 모바일 경험 ...</td>\n",
       "      <td>[도의회 예결위, 7조8262억 의결 일자리 5714억-저출산4532억 등 도교육청...</td>\n",
       "    </tr>\n",
       "    <tr>\n",
       "      <th>104349</th>\n",
       "      <td>[세계 각국의 플라스틱 사용 규제에 스타벅스 등 글로벌 커피 매장들이 동참하면서 친...</td>\n",
       "      <td>[세계 각국의 플라스틱 사용 규제로 친환경 빨대 시장이 급속히 성장하는 가운데 꽃신...</td>\n",
       "      <td>세계 각국의 플라스틱 사용 규제로 친환경 빨대 시장이 급속히 성장하는 가운데 꽃신 ...</td>\n",
       "      <td>[“민간체육회 초석 다질 것”, 양대진 기자l djyang7110@, 초대 진안군 ...</td>\n",
       "    </tr>\n",
       "    <tr>\n",
       "      <th>104351</th>\n",
       "      <td>[] 개인방송 플랫폼 서비스 업체 아프리카TV가 1분기 실적 개선 기대에 코스닥시장...</td>\n",
       "      <td>[아프리카 TV가 '별풍선' 등 아이템과 e스포츠 성장으로 게임방송관련 매출이 큰 ...</td>\n",
       "      <td>아프리카 TV가 '별풍선' 등 아이템과 e스포츠 성장으로 게임방송관련 매출이 큰 폭...</td>\n",
       "      <td>[18일 진학상담교사 50여명 초청 2020학년도 대입전형결과 제공, 이병재 기자l...</td>\n",
       "    </tr>\n",
       "  </tbody>\n",
       "</table>\n",
       "<p>46758 rows × 4 columns</p>\n",
       "</div>"
      ],
      "text/plain": [
       "                                                  ext_sum  \\\n",
       "1       [임직원과 선수단 모두는 이날 구봉산 정상에 올라 일출을 보며 2018년 구단 목표...   \n",
       "2       [광양시는 오는 11일부터 24일까지 농업인교육관과 읍면동 회의실에서 농업인 105...   \n",
       "3       [전라남도는 올해 4월과 6월 홍콩 크루즈선사 스타크루즈의 5만톤급‘아쿠아리우스’호...   \n",
       "4       [광양시는 정부가 2018년 1월 1일부터 시행하는 일자리 안정자금 신청을 12개 ...   \n",
       "5       [말과 흑인여성을 화폭에 담은 출향작가‘강홍순 전’이 오는 14일까지 광양문화원 기...   \n",
       "...                                                   ...   \n",
       "104342  [김기문 중소기업중앙회 회장(사진)이 지난 2월 말 선거 당선 후 평일 오후 5시께...   \n",
       "104344  [유주현 대한건설협회 회장(사진)은 8일 기자간담회를 열어 \"적자공사가 누적돼 건설...   \n",
       "104346  [] 고동진 삼성전자 IM(IT모바일)부문장(사장·사진)이 8일 세계 갤럭시S10 ...   \n",
       "104349  [세계 각국의 플라스틱 사용 규제에 스타벅스 등 글로벌 커피 매장들이 동참하면서 친...   \n",
       "104351  [] 개인방송 플랫폼 서비스 업체 아프리카TV가 1분기 실적 개선 기대에 코스닥시장...   \n",
       "\n",
       "                                                  abs_sum  \\\n",
       "1       [전남드래곤즈 임직원과 선수단이 4일 구봉산 정상에 올라 일출을 보며 2018년 구...   \n",
       "2       [광양시는 농업인들의 경쟁력을 높이고, 소득안정을 위해 매실·감·참다래 등 지역특화...   \n",
       "3       [올해 4월과 6월 두 차례에 걸쳐 타이완의 크루즈 관광객 4000여명이 여수에 입...   \n",
       "4       [광양시는 30인 미만 중소기업 등 사업주에 1인당 월 13만원씩 지급하는 일자리 ...   \n",
       "5       [말과 흑인여성을 화폭에 담은 서양화가 ‘강홍순 전’이 오는 14일까지 광양문화원 ...   \n",
       "...                                                   ...   \n",
       "104342  [김기문 중소기업중앙회 회장이 협동조합 이사장들에게 주요 정책 등 현안을 다룬 'K...   \n",
       "104344  [8일 유주현 대한건설협회 회장은 한국은 발주기관의 예정가격이 하락하고 낙착률이 고...   \n",
       "104346  [8일 삼성전자는 고동진 삼성전자 사장이 갤S10 소비자에게 구매감사와 모바일 경험...   \n",
       "104349  [세계 각국의 플라스틱 사용 규제로 친환경 빨대 시장이 급속히 성장하는 가운데 꽃신...   \n",
       "104351  [아프리카 TV가 '별풍선' 등 아이템과 e스포츠 성장으로 게임방송관련 매출이 큰 ...   \n",
       "\n",
       "                                            converted_sum  \\\n",
       "1       전남드래곤즈 임직원과 선수단이 4일 구봉산 정상에 올라 일출을 보며 2018년 구단...   \n",
       "2       광양시는 농업인들의 경쟁력을 높이고, 소득안정을 위해 매실·감·참다래 등 지역특화작...   \n",
       "3       올해 4월과 6월 두 차례에 걸쳐 타이완의 크루즈 관광객 4000여명이 여수에 입항...   \n",
       "4       광양시는 30인 미만 중소기업 등 사업주에 1인당 월 13만원씩 지급하는 일자리 안...   \n",
       "5       말과 흑인여성을 화폭에 담은 서양화가 ‘강홍순 전’이 오는 14일까지 광양문화원 기...   \n",
       "...                                                   ...   \n",
       "104342  김기문 중소기업중앙회 회장이 협동조합 이사장들에게 주요 정책 등 현안을 다룬 'KB...   \n",
       "104344  8일 유주현 대한건설협회 회장은 한국은 발주기관의 예정가격이 하락하고 낙착률이 고정...   \n",
       "104346  8일 삼성전자는 고동진 삼성전자 사장이 갤S10 소비자에게 구매감사와 모바일 경험 ...   \n",
       "104349  세계 각국의 플라스틱 사용 규제로 친환경 빨대 시장이 급속히 성장하는 가운데 꽃신 ...   \n",
       "104351  아프리카 TV가 '별풍선' 등 아이템과 e스포츠 성장으로 게임방송관련 매출이 큰 폭...   \n",
       "\n",
       "                                                 original  \n",
       "1       [ha당 조사료 400만원…작물별 차등 지원, 이성훈 sinawi@hanmail.n...  \n",
       "2       [8억 투입, 고소천사벽화·자산마을에 색채 입혀, 이성훈 sinawi@hanmail...  \n",
       "3       [전남드래곤즈 해맞이 다짐…선수 영입 활발, 이성훈 sinawi@hanmail.ne...  \n",
       "4       [11~24일, 매실·감·참다래 등 지역특화작목, 이성훈 sinawi@hanmail...  \n",
       "5       [홍콩 크루즈선사‘아쿠아리우스’ 4, 6월 여수항 입항, 이성훈 sinawi@han...  \n",
       "...                                                   ...  \n",
       "104342  [박은 기자l parkeun90@naver.com, 전북도와 시·군, 지역 국회의원...  \n",
       "104344  [이수화 기자l waterflower20@, “대학교수로서 비리와 싸울 땐 바뀌지 ...  \n",
       "104346  [도의회 예결위, 7조8262억 의결 일자리 5714억-저출산4532억 등 도교육청...  \n",
       "104349  [“민간체육회 초석 다질 것”, 양대진 기자l djyang7110@, 초대 진안군 ...  \n",
       "104351  [18일 진학상담교사 50여명 초청 2020학년도 대입전형결과 제공, 이병재 기자l...  \n",
       "\n",
       "[46758 rows x 4 columns]"
      ]
     },
     "execution_count": 258,
     "metadata": {},
     "output_type": "execute_result"
    }
   ],
   "source": [
    "pair_data_60"
   ]
  },
  {
   "cell_type": "code",
   "execution_count": 269,
   "id": "similar-confusion",
   "metadata": {},
   "outputs": [],
   "source": [
    "pair_data_60.to_csv('ai_hub_50000.csv')"
   ]
  }
 ],
 "metadata": {
  "kernelspec": {
   "display_name": "Python 3",
   "language": "python",
   "name": "python3"
  },
  "language_info": {
   "codemirror_mode": {
    "name": "ipython",
    "version": 3
   },
   "file_extension": ".py",
   "mimetype": "text/x-python",
   "name": "python",
   "nbconvert_exporter": "python",
   "pygments_lexer": "ipython3",
   "version": "3.7.9"
  }
 },
 "nbformat": 4,
 "nbformat_minor": 5
}
