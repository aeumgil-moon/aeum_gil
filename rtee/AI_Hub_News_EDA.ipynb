{
 "cells": [
  {
   "cell_type": "markdown",
   "id": "elect-extreme",
   "metadata": {},
   "source": [
    "# Data Info\n",
    "-  비플라이소프트㈜는 그 동안 부족했던 한국어로 된 문서요약 텍스트 데이터의 축적 및 활용을 위하여 총 40만 건의 한국어 데이터셋을 구축하였으며 해당 데이터셋은 뉴스기사, 기고문, 법률 판결문, 잡지 등 다양한 도메인으로 구성되어 요약 AI 알고리즘화 성능 향상을 추구하였다.\n",
    "- 문서요약 텍스트 데이터셋은 원문데이터에 대한 추출요약과 생성요약으로 구성되며, 즉 하나의 데이터셋에 총 3건의 데이터 (원문, 추출, 생성)가 포함된다. \n",
    "- 원문데이터의 수량은 **뉴스기사 30만 건**, 기고문 6만 건, 잡지 1만 건, 법원 판결문 3만 건으로 총 40만 건이며, 이에 대한 추출요약과 생성요약도 각각 40만 건 씩 구축되었다.\n",
    "- 뉴스기사는 요약 AI 알고리즘의 핵심 데이터로서 10개 언론사로부터 30만 건의 원문데이터를 확보하였으며, 이 중 종합면 30%, 정치 20%, 경제 20%, 사회 20%, 문화 및 스포츠 기타 10%의 비율로 구성되어 있다.\n",
    "- **추출요약**은 원문의 형태적 구조를 바탕으로 내용을 잘 표현하는 문장 3개 (리드문 포함)를 추출하여 우선순위에 따라 차례로 작성했으며 \n",
    "- **생성요약**은 추출요약으로 형성된 문장, 제목의 키워드, 동의어 등을 활용하여 기사의 내용을 한 문장으로 요약했다."
   ]
  },
  {
   "cell_type": "markdown",
   "id": "american-cardiff",
   "metadata": {},
   "source": [
    "# JSON to CSV"
   ]
  },
  {
   "cell_type": "code",
   "execution_count": 1,
   "id": "numerous-filling",
   "metadata": {},
   "outputs": [],
   "source": [
    "# import os\n",
    "# import csv\n",
    "# import json\n",
    "\n",
    "\n",
    "# input_file_name = os.getenv('HOME')+'/aiffel/aeumgil/data/train_original.json'\n",
    "# output_file_name = os.getenv('HOME')+'/aiffel/aeumgil/data/train_original.csv'\n",
    "# with open(input_file_name, \"r\", encoding=\"utf-8\", newline=\"\") as input_file, \\\n",
    "#         open(output_file_name, \"w\", encoding=\"utf-8\", newline=\"\") as output_file:\n",
    "#     json_data = json.load(input_file)\n",
    "#     documents = json_data['documents']\n",
    "    \n",
    "#     data = []\n",
    "#     columns = list(documents[0].keys())\n",
    "#     data.append(columns)\n",
    "#     for i in documents:\n",
    "#         values = list(i.values())\n",
    "#         data.append(values)\n",
    "    \n",
    "#     csvwriter = csv.writer(output_file)\n",
    "#     csvwriter.writerow(data[0])\n",
    "#     for line in data:\n",
    "#         csvwriter.writerow(line)\n",
    "#     input_file.close()\n",
    "#     output_file.close()"
   ]
  },
  {
   "cell_type": "markdown",
   "id": "recognized-grant",
   "metadata": {},
   "source": [
    "# Data EDA"
   ]
  },
  {
   "cell_type": "code",
   "execution_count": 2,
   "id": "worst-costume",
   "metadata": {},
   "outputs": [
    {
     "name": "stderr",
     "output_type": "stream",
     "text": [
      "/opt/conda/lib/python3.7/site-packages/IPython/core/interactiveshell.py:3146: DtypeWarning: Columns (0,6,10) have mixed types.Specify dtype option on import or set low_memory=False.\n",
      "  interactivity=interactivity, compiler=compiler, result=result)\n"
     ]
    }
   ],
   "source": [
    "import os\n",
    "import csv\n",
    "import pandas as pd\n",
    "\n",
    "output_file_name = os.getenv('HOME')+'/aiffel/aeumgil/data/train_original.csv'\n",
    "news = pd.read_csv(output_file_name)"
   ]
  },
  {
   "cell_type": "code",
   "execution_count": 3,
   "id": "electric-announcement",
   "metadata": {
    "scrolled": true
   },
   "outputs": [
    {
     "data": {
      "text/html": [
       "<div>\n",
       "<style scoped>\n",
       "    .dataframe tbody tr th:only-of-type {\n",
       "        vertical-align: middle;\n",
       "    }\n",
       "\n",
       "    .dataframe tbody tr th {\n",
       "        vertical-align: top;\n",
       "    }\n",
       "\n",
       "    .dataframe thead th {\n",
       "        text-align: right;\n",
       "    }\n",
       "</style>\n",
       "<table border=\"1\" class=\"dataframe\">\n",
       "  <thead>\n",
       "    <tr style=\"text-align: right;\">\n",
       "      <th></th>\n",
       "      <th>id</th>\n",
       "      <th>category</th>\n",
       "      <th>media_type</th>\n",
       "      <th>media_sub_type</th>\n",
       "      <th>media_name</th>\n",
       "      <th>size</th>\n",
       "      <th>char_count</th>\n",
       "      <th>publish_date</th>\n",
       "      <th>title</th>\n",
       "      <th>text</th>\n",
       "      <th>annotator_id</th>\n",
       "      <th>document_quality_scores</th>\n",
       "      <th>extractive</th>\n",
       "      <th>abstractive</th>\n",
       "    </tr>\n",
       "  </thead>\n",
       "  <tbody>\n",
       "    <tr>\n",
       "      <th>1</th>\n",
       "      <td>290741778</td>\n",
       "      <td>종합</td>\n",
       "      <td>online</td>\n",
       "      <td>지역지</td>\n",
       "      <td>광양신문</td>\n",
       "      <td>small</td>\n",
       "      <td>927</td>\n",
       "      <td>2018-01-05 18:54:55</td>\n",
       "      <td>논 타작물 재배, 2월 말까지 신청하세요</td>\n",
       "      <td>[[{'index': 0, 'sentence': 'ha당 조사료 400만원…작물별 ...</td>\n",
       "      <td>11</td>\n",
       "      <td>{'readable': 4, 'accurate': 3, 'informative': ...</td>\n",
       "      <td>[2, 3, 10]</td>\n",
       "      <td>[\"전라남도가 쌀 과잉문제를 근본적으로 해결하기 위해 올해부터 벼를 심었던 논에 벼...</td>\n",
       "    </tr>\n",
       "    <tr>\n",
       "      <th>2</th>\n",
       "      <td>290741792</td>\n",
       "      <td>종합</td>\n",
       "      <td>online</td>\n",
       "      <td>지역지</td>\n",
       "      <td>광양신문</td>\n",
       "      <td>small</td>\n",
       "      <td>764</td>\n",
       "      <td>2018-01-05 18:53:20</td>\n",
       "      <td>여수시, 컬러빌리지 마무리...‘색채와 빛’도시 완성</td>\n",
       "      <td>[[{'index': 0, 'sentence': '8억 투입, 고소천사벽화·자산마을...</td>\n",
       "      <td>12</td>\n",
       "      <td>{'readable': 4, 'accurate': 4, 'informative': ...</td>\n",
       "      <td>[2, 4, 11]</td>\n",
       "      <td>['여수시는 컬러빌리지 사업에 8억원을 투입하여 ‘색채와 빛’ 도시를 완성하여 고소...</td>\n",
       "    </tr>\n",
       "    <tr>\n",
       "      <th>3</th>\n",
       "      <td>290741793</td>\n",
       "      <td>스포츠</td>\n",
       "      <td>online</td>\n",
       "      <td>지역지</td>\n",
       "      <td>광양신문</td>\n",
       "      <td>medium</td>\n",
       "      <td>1066</td>\n",
       "      <td>2018-01-05 18:52:15</td>\n",
       "      <td>“새해 정기 받고 올해는 반드시 일내자!”</td>\n",
       "      <td>[[{'index': 0, 'sentence': '전남드래곤즈 해맞이 다짐…선수 영...</td>\n",
       "      <td>13</td>\n",
       "      <td>{'readable': 4, 'accurate': 4, 'informative': ...</td>\n",
       "      <td>[3, 5, 7]</td>\n",
       "      <td>['전남드래곤즈 임직원과 선수단이 4일 구봉산 정상에 올라 일출을 보며 2018년 ...</td>\n",
       "    </tr>\n",
       "    <tr>\n",
       "      <th>4</th>\n",
       "      <td>290741794</td>\n",
       "      <td>정치</td>\n",
       "      <td>online</td>\n",
       "      <td>지역지</td>\n",
       "      <td>광양신문</td>\n",
       "      <td>small</td>\n",
       "      <td>746</td>\n",
       "      <td>2018-01-05 18:50:17</td>\n",
       "      <td>농업인 역량 강화, 새해 실용교육 실시</td>\n",
       "      <td>[[{'index': 0, 'sentence': '11~24일, 매실·감·참다래 등...</td>\n",
       "      <td>12</td>\n",
       "      <td>{'readable': 4, 'accurate': 4, 'informative': ...</td>\n",
       "      <td>[2, 3, 4]</td>\n",
       "      <td>['광양시는 농업인들의 경쟁력을 높이고, 소득안정을 위해 매실·감·참다래 등 지역특...</td>\n",
       "    </tr>\n",
       "    <tr>\n",
       "      <th>5</th>\n",
       "      <td>290741797</td>\n",
       "      <td>종합</td>\n",
       "      <td>online</td>\n",
       "      <td>지역지</td>\n",
       "      <td>광양신문</td>\n",
       "      <td>small</td>\n",
       "      <td>978</td>\n",
       "      <td>2018-01-05 18:52:36</td>\n",
       "      <td>타이완 크루즈관광객 4천여명‘전남’온다</td>\n",
       "      <td>[[{'index': 0, 'sentence': '홍콩 크루즈선사‘아쿠아리우스’ 4...</td>\n",
       "      <td>13</td>\n",
       "      <td>{'readable': 4, 'accurate': 4, 'informative': ...</td>\n",
       "      <td>[3, 7, 4]</td>\n",
       "      <td>['올해 4월과 6월 두 차례에 걸쳐 타이완의 크루즈 관광객 4000여명이 여수에 ...</td>\n",
       "    </tr>\n",
       "  </tbody>\n",
       "</table>\n",
       "</div>"
      ],
      "text/plain": [
       "          id category media_type media_sub_type media_name    size char_count  \\\n",
       "1  290741778       종합     online            지역지       광양신문   small        927   \n",
       "2  290741792       종합     online            지역지       광양신문   small        764   \n",
       "3  290741793      스포츠     online            지역지       광양신문  medium       1066   \n",
       "4  290741794       정치     online            지역지       광양신문   small        746   \n",
       "5  290741797       종합     online            지역지       광양신문   small        978   \n",
       "\n",
       "          publish_date                          title  \\\n",
       "1  2018-01-05 18:54:55         논 타작물 재배, 2월 말까지 신청하세요   \n",
       "2  2018-01-05 18:53:20  여수시, 컬러빌리지 마무리...‘색채와 빛’도시 완성   \n",
       "3  2018-01-05 18:52:15        “새해 정기 받고 올해는 반드시 일내자!”   \n",
       "4  2018-01-05 18:50:17          농업인 역량 강화, 새해 실용교육 실시   \n",
       "5  2018-01-05 18:52:36          타이완 크루즈관광객 4천여명‘전남’온다   \n",
       "\n",
       "                                                text annotator_id  \\\n",
       "1  [[{'index': 0, 'sentence': 'ha당 조사료 400만원…작물별 ...           11   \n",
       "2  [[{'index': 0, 'sentence': '8억 투입, 고소천사벽화·자산마을...           12   \n",
       "3  [[{'index': 0, 'sentence': '전남드래곤즈 해맞이 다짐…선수 영...           13   \n",
       "4  [[{'index': 0, 'sentence': '11~24일, 매실·감·참다래 등...           12   \n",
       "5  [[{'index': 0, 'sentence': '홍콩 크루즈선사‘아쿠아리우스’ 4...           13   \n",
       "\n",
       "                             document_quality_scores  extractive  \\\n",
       "1  {'readable': 4, 'accurate': 3, 'informative': ...  [2, 3, 10]   \n",
       "2  {'readable': 4, 'accurate': 4, 'informative': ...  [2, 4, 11]   \n",
       "3  {'readable': 4, 'accurate': 4, 'informative': ...   [3, 5, 7]   \n",
       "4  {'readable': 4, 'accurate': 4, 'informative': ...   [2, 3, 4]   \n",
       "5  {'readable': 4, 'accurate': 4, 'informative': ...   [3, 7, 4]   \n",
       "\n",
       "                                         abstractive  \n",
       "1  [\"전라남도가 쌀 과잉문제를 근본적으로 해결하기 위해 올해부터 벼를 심었던 논에 벼...  \n",
       "2  ['여수시는 컬러빌리지 사업에 8억원을 투입하여 ‘색채와 빛’ 도시를 완성하여 고소...  \n",
       "3  ['전남드래곤즈 임직원과 선수단이 4일 구봉산 정상에 올라 일출을 보며 2018년 ...  \n",
       "4  ['광양시는 농업인들의 경쟁력을 높이고, 소득안정을 위해 매실·감·참다래 등 지역특...  \n",
       "5  ['올해 4월과 6월 두 차례에 걸쳐 타이완의 크루즈 관광객 4000여명이 여수에 ...  "
      ]
     },
     "execution_count": 3,
     "metadata": {},
     "output_type": "execute_result"
    }
   ],
   "source": [
    "news = news.drop(news.index[0])\n",
    "news.head()"
   ]
  },
  {
   "cell_type": "code",
   "execution_count": 4,
   "id": "threaded-strap",
   "metadata": {},
   "outputs": [
    {
     "data": {
      "text/plain": [
       "id                         False\n",
       "category                   False\n",
       "media_type                 False\n",
       "media_sub_type             False\n",
       "media_name                 False\n",
       "size                       False\n",
       "char_count                 False\n",
       "publish_date               False\n",
       "title                      False\n",
       "text                       False\n",
       "annotator_id               False\n",
       "document_quality_scores    False\n",
       "extractive                 False\n",
       "abstractive                False\n",
       "dtype: bool"
      ]
     },
     "execution_count": 4,
     "metadata": {},
     "output_type": "execute_result"
    }
   ],
   "source": [
    "news.isnull().any()"
   ]
  },
  {
   "cell_type": "code",
   "execution_count": 5,
   "id": "radical-hydrogen",
   "metadata": {},
   "outputs": [
    {
     "data": {
      "text/plain": [
       "\"[[{'index': 0, 'sentence': 'ha당 조사료 400만원…작물별 차등 지원', 'highlight_indices': ''}], [{'index': 1, 'sentence': '이성훈 sinawi@hanmail.net', 'highlight_indices': ''}], [{'index': 2, 'sentence': '전라남도가 쌀 과잉문제를 근본적으로 해결하기 위해 올해부터 시행하는 쌀 생산조정제를 적극 추진키로 했다.', 'highlight_indices': ''}], [{'index': 3, 'sentence': '쌀 생산조정제는 벼를 심었던 논에 벼 대신 사료작물이나 콩 등 다른 작물을 심으면 벼와의 일정 소득차를 보전해주는 제도다.', 'highlight_indices': '35,37'}], [{'index': 4, 'sentence': '올해 전남의 논 다른 작물 재배 계획면적은 전국 5만ha의 약 21%인 1만 698ha로, 세부시행지침을 확정, 시군에 통보했다.', 'highlight_indices': '9,11;33,34'}, {'index': 5, 'sentence': '지원사업 대상은 2017년산 쌀 변동직불금을 받은 농지에 10a(300평) 이상 벼 이외 다른 작물을 재배한 농업인이다.', 'highlight_indices': '50,52'}], [{'index': 6, 'sentence': '지원 대상 작물은 1년생을 포함한 다년생의 모든 작물이 해당되나 재배 면적 확대 시 수급과잉이 우려되는 고추, 무, 배추, 인삼, 대파 등 수급 불안 품목은 제외된다.', 'highlight_indices': '24,26'}], [{'index': 7, 'sentence': '농지의 경우도 이미 다른 작물 재배 의무가 부여된 간척지, 정부매입비축농지, 농진청 시범사업, 경관보전 직불금 수령 농지 등은 제외될 예정이다.', 'highlight_indices': '8,10;11,13'}], [{'index': 8, 'sentence': 'ha(3000평)당 지원 단가는 평균 340만원으로 사료작물 400만원, 일반작물은 340만원, 콩·팥 등 두류작물은 280만원 등이다.', 'highlight_indices': ''}, {'index': 9, 'sentence': '벼와 소득차와 영농 편이성을 감안해 작물별로 차등 지원된다.', 'highlight_indices': ''}], [{'index': 10, 'sentence': '논에 다른 작물 재배를 바라는 농가는 오는 22일부터 2월 28일까지 농지 소재지 읍면동사무소에 신청해야 한다.', 'highlight_indices': '3,5'}], [{'index': 11, 'sentence': '전남도는 도와 시군에 관련 기관과 농가 등이 참여하는‘논 타작물 지원사업 추진협의회’를 구성, 지역 특성에 맞는 작목 선정 및 사업 심의 등을 본격 추진할 방침이다.', 'highlight_indices': '32,33;69,70'}], [{'index': 12, 'sentence': '최향철 전라남도 친환경농업과장은 “최근 쌀값이 다소 상승추세에 있으나 매년 공급과잉에 따른 가격 하락으로 쌀농가에 어려움이 있었다”며“쌀 공급과잉을 구조적으로 해결하도록 논 타작물 재배 지원사업에 많이 참여해주길 바란다”고 말했다.', 'highlight_indices': '26,28;39,41;97,98;110,112'}]]\""
      ]
     },
     "execution_count": 5,
     "metadata": {},
     "output_type": "execute_result"
    }
   ],
   "source": [
    "news['text'][1]"
   ]
  },
  {
   "cell_type": "code",
   "execution_count": 6,
   "id": "affecting-audit",
   "metadata": {},
   "outputs": [],
   "source": [
    "import ast\n",
    "\n",
    "exts = []\n",
    "txt = ast.literal_eval(news['text'][1])\n",
    "ext = ast.literal_eval(news.extractive[1])\n",
    "for i in txt :\n",
    "    if i[0]['index'] in list(ext):\n",
    "        exts.append(i[0]['sentence'])"
   ]
  },
  {
   "cell_type": "code",
   "execution_count": 7,
   "id": "middle-fence",
   "metadata": {},
   "outputs": [
    {
     "data": {
      "text/plain": [
       "['전라남도가 쌀 과잉문제를 근본적으로 해결하기 위해 올해부터 시행하는 쌀 생산조정제를 적극 추진키로 했다.',\n",
       " '쌀 생산조정제는 벼를 심었던 논에 벼 대신 사료작물이나 콩 등 다른 작물을 심으면 벼와의 일정 소득차를 보전해주는 제도다.',\n",
       " '논에 다른 작물 재배를 바라는 농가는 오는 22일부터 2월 28일까지 농지 소재지 읍면동사무소에 신청해야 한다.']"
      ]
     },
     "execution_count": 7,
     "metadata": {},
     "output_type": "execute_result"
    }
   ],
   "source": [
    "exts"
   ]
  },
  {
   "cell_type": "code",
   "execution_count": 8,
   "id": "worse-vegetation",
   "metadata": {
    "scrolled": false
   },
   "outputs": [
    {
     "data": {
      "text/plain": [
       "[\"전라남도가 쌀 과잉문제를 근본적으로 해결하기 위해 올해부터 벼를 심었던 논에 벼 대신 사료작물이나 콩 등 다른 작물을 심으면 벼와의 일정 소득차를 보전해주는 '쌀 생산조정제'를 적극적으로 시행하기로 하고 오는 22일부터 2월 28일까지 농지 소재지 읍면동사무소에서 신청받는다 .\"]"
      ]
     },
     "execution_count": 8,
     "metadata": {},
     "output_type": "execute_result"
    }
   ],
   "source": [
    "list(ast.literal_eval(news['abstractive'][1]))"
   ]
  },
  {
   "cell_type": "code",
   "execution_count": 9,
   "id": "united-drilling",
   "metadata": {},
   "outputs": [
    {
     "data": {
      "text/plain": [
       "[2, 3, 10]"
      ]
     },
     "execution_count": 9,
     "metadata": {},
     "output_type": "execute_result"
    }
   ],
   "source": [
    "txt = ast.literal_eval(news['extractive'][1])\n",
    "txt\n"
   ]
  },
  {
   "cell_type": "code",
   "execution_count": 10,
   "id": "amino-cross",
   "metadata": {},
   "outputs": [
    {
     "data": {
      "text/plain": [
       "[[{'index': 0,\n",
       "   'sentence': 'ha당 조사료 400만원…작물별 차등 지원',\n",
       "   'highlight_indices': ''}],\n",
       " [{'index': 1, 'sentence': '이성훈 sinawi@hanmail.net', 'highlight_indices': ''}],\n",
       " [{'index': 2,\n",
       "   'sentence': '전라남도가 쌀 과잉문제를 근본적으로 해결하기 위해 올해부터 시행하는 쌀 생산조정제를 적극 추진키로 했다.',\n",
       "   'highlight_indices': ''}],\n",
       " [{'index': 3,\n",
       "   'sentence': '쌀 생산조정제는 벼를 심었던 논에 벼 대신 사료작물이나 콩 등 다른 작물을 심으면 벼와의 일정 소득차를 보전해주는 제도다.',\n",
       "   'highlight_indices': '35,37'}],\n",
       " [{'index': 4,\n",
       "   'sentence': '올해 전남의 논 다른 작물 재배 계획면적은 전국 5만ha의 약 21%인 1만 698ha로, 세부시행지침을 확정, 시군에 통보했다.',\n",
       "   'highlight_indices': '9,11;33,34'},\n",
       "  {'index': 5,\n",
       "   'sentence': '지원사업 대상은 2017년산 쌀 변동직불금을 받은 농지에 10a(300평) 이상 벼 이외 다른 작물을 재배한 농업인이다.',\n",
       "   'highlight_indices': '50,52'}],\n",
       " [{'index': 6,\n",
       "   'sentence': '지원 대상 작물은 1년생을 포함한 다년생의 모든 작물이 해당되나 재배 면적 확대 시 수급과잉이 우려되는 고추, 무, 배추, 인삼, 대파 등 수급 불안 품목은 제외된다.',\n",
       "   'highlight_indices': '24,26'}],\n",
       " [{'index': 7,\n",
       "   'sentence': '농지의 경우도 이미 다른 작물 재배 의무가 부여된 간척지, 정부매입비축농지, 농진청 시범사업, 경관보전 직불금 수령 농지 등은 제외될 예정이다.',\n",
       "   'highlight_indices': '8,10;11,13'}],\n",
       " [{'index': 8,\n",
       "   'sentence': 'ha(3000평)당 지원 단가는 평균 340만원으로 사료작물 400만원, 일반작물은 340만원, 콩·팥 등 두류작물은 280만원 등이다.',\n",
       "   'highlight_indices': ''},\n",
       "  {'index': 9,\n",
       "   'sentence': '벼와 소득차와 영농 편이성을 감안해 작물별로 차등 지원된다.',\n",
       "   'highlight_indices': ''}],\n",
       " [{'index': 10,\n",
       "   'sentence': '논에 다른 작물 재배를 바라는 농가는 오는 22일부터 2월 28일까지 농지 소재지 읍면동사무소에 신청해야 한다.',\n",
       "   'highlight_indices': '3,5'}],\n",
       " [{'index': 11,\n",
       "   'sentence': '전남도는 도와 시군에 관련 기관과 농가 등이 참여하는‘논 타작물 지원사업 추진협의회’를 구성, 지역 특성에 맞는 작목 선정 및 사업 심의 등을 본격 추진할 방침이다.',\n",
       "   'highlight_indices': '32,33;69,70'}],\n",
       " [{'index': 12,\n",
       "   'sentence': '최향철 전라남도 친환경농업과장은 “최근 쌀값이 다소 상승추세에 있으나 매년 공급과잉에 따른 가격 하락으로 쌀농가에 어려움이 있었다”며“쌀 공급과잉을 구조적으로 해결하도록 논 타작물 재배 지원사업에 많이 참여해주길 바란다”고 말했다.',\n",
       "   'highlight_indices': '26,28;39,41;97,98;110,112'}]]"
      ]
     },
     "execution_count": 10,
     "metadata": {},
     "output_type": "execute_result"
    }
   ],
   "source": [
    "txt = ast.literal_eval(news['text'][1])\n",
    "txt"
   ]
  },
  {
   "cell_type": "code",
   "execution_count": 11,
   "id": "caring-secretary",
   "metadata": {},
   "outputs": [
    {
     "data": {
      "text/plain": [
       "\"[[{'index': 0, 'sentence': 'ha당 조사료 400만원…작물별 차등 지원', 'highlight_indices': ''}], [{'index': 1, 'sentence': '이성훈 sinawi@hanmail.net', 'highlight_indices': ''}], [{'index': 2, 'sentence': '전라남도가 쌀 과잉문제를 근본적으로 해결하기 위해 올해부터 시행하는 쌀 생산조정제를 적극 추진키로 했다.', 'highlight_indices': ''}], [{'index': 3, 'sentence': '쌀 생산조정제는 벼를 심었던 논에 벼 대신 사료작물이나 콩 등 다른 작물을 심으면 벼와의 일정 소득차를 보전해주는 제도다.', 'highlight_indices': '35,37'}], [{'index': 4, 'sentence': '올해 전남의 논 다른 작물 재배 계획면적은 전국 5만ha의 약 21%인 1만 698ha로, 세부시행지침을 확정, 시군에 통보했다.', 'highlight_indices': '9,11;33,34'}, {'index': 5, 'sentence': '지원사업 대상은 2017년산 쌀 변동직불금을 받은 농지에 10a(300평) 이상 벼 이외 다른 작물을 재배한 농업인이다.', 'highlight_indices': '50,52'}], [{'index': 6, 'sentence': '지원 대상 작물은 1년생을 포함한 다년생의 모든 작물이 해당되나 재배 면적 확대 시 수급과잉이 우려되는 고추, 무, 배추, 인삼, 대파 등 수급 불안 품목은 제외된다.', 'highlight_indices': '24,26'}], [{'index': 7, 'sentence': '농지의 경우도 이미 다른 작물 재배 의무가 부여된 간척지, 정부매입비축농지, 농진청 시범사업, 경관보전 직불금 수령 농지 등은 제외될 예정이다.', 'highlight_indices': '8,10;11,13'}], [{'index': 8, 'sentence': 'ha(3000평)당 지원 단가는 평균 340만원으로 사료작물 400만원, 일반작물은 340만원, 콩·팥 등 두류작물은 280만원 등이다.', 'highlight_indices': ''}, {'index': 9, 'sentence': '벼와 소득차와 영농 편이성을 감안해 작물별로 차등 지원된다.', 'highlight_indices': ''}], [{'index': 10, 'sentence': '논에 다른 작물 재배를 바라는 농가는 오는 22일부터 2월 28일까지 농지 소재지 읍면동사무소에 신청해야 한다.', 'highlight_indices': '3,5'}], [{'index': 11, 'sentence': '전남도는 도와 시군에 관련 기관과 농가 등이 참여하는‘논 타작물 지원사업 추진협의회’를 구성, 지역 특성에 맞는 작목 선정 및 사업 심의 등을 본격 추진할 방침이다.', 'highlight_indices': '32,33;69,70'}], [{'index': 12, 'sentence': '최향철 전라남도 친환경농업과장은 “최근 쌀값이 다소 상승추세에 있으나 매년 공급과잉에 따른 가격 하락으로 쌀농가에 어려움이 있었다”며“쌀 공급과잉을 구조적으로 해결하도록 논 타작물 재배 지원사업에 많이 참여해주길 바란다”고 말했다.', 'highlight_indices': '26,28;39,41;97,98;110,112'}]]\""
      ]
     },
     "execution_count": 11,
     "metadata": {},
     "output_type": "execute_result"
    }
   ],
   "source": [
    "news['text'][1]"
   ]
  },
  {
   "cell_type": "code",
   "execution_count": 12,
   "id": "electric-sponsorship",
   "metadata": {},
   "outputs": [],
   "source": [
    "def extract_sen(txt, ext):\n",
    "    '''\n",
    "    extractive 컬럼에 mapping하여 추출요약문 리스트를 반환하는 함수입니다.\n",
    "    '''\n",
    "    exts = []\n",
    "    txt = ast.literal_eval(txt)\n",
    "    ext = ast.literal_eval(ext)\n",
    "    for i in txt :\n",
    "        for j in (i):\n",
    "            if j['index'] in list(ext): \n",
    "                exts.append(j['sentence'])\n",
    "    return exts\n",
    "\n",
    "def abstract_sen(x):\n",
    "    '''\n",
    "    abstractive 컬럼에 mapping하여 생성요약문을 추출하는 반환하는 함수입니다.\n",
    "    '''\n",
    "    abst = list(ast.literal_eval(x))\n",
    "    return abst\n",
    "\n",
    "def origin(x):\n",
    "    '''\n",
    "    text 컬럼에 mapping하여 원문을 반환하는 함수입니다.\n",
    "    '''\n",
    "    origin_txt = []\n",
    "    txt = ast.literal_eval(x)\n",
    "    for i in txt :\n",
    "        for j in (i):\n",
    "            origin_txt.append(j['sentence'])\n",
    "    return origin_txt\n",
    "\n",
    "def score(x):\n",
    "    '''\n",
    "    document_quality_scores 컬럼에 mapping하여 readable, accurate, informative, trustworthy 를 반환하는 함수입니다.\n",
    "    '''\n",
    "    score = ast.literal_eval(x)\n",
    "    return score['readable'], score['accurate'], score['informative'], score['trustworthy']\n",
    "\n",
    "def publish_date(x):\n",
    "    '''\n",
    "    publish_date 컬럼에 mapping하여 year, month, date 을 반환하는 함수입니다. \n",
    "    '''\n",
    "    tmp = x.split()[0].split('-')\n",
    "    year = tmp[0]; month = tmp[1]; date = tmp[2]\n",
    "    return year, month, date"
   ]
  },
  {
   "cell_type": "code",
   "execution_count": 13,
   "id": "suffering-evans",
   "metadata": {},
   "outputs": [],
   "source": [
    "news['ext_sum'] = news.apply(lambda x : extract_sen(x['text'],x['extractive']), axis=1 )"
   ]
  },
  {
   "cell_type": "code",
   "execution_count": 15,
   "id": "thermal-cheat",
   "metadata": {},
   "outputs": [],
   "source": [
    "news['abs_sum'] = news['abstractive'].map(lambda x : abstract_sen(x))"
   ]
  },
  {
   "cell_type": "code",
   "execution_count": 16,
   "id": "otherwise-wilderness",
   "metadata": {},
   "outputs": [],
   "source": [
    "news['origin'] = news['text'].map(lambda x : origin(x))"
   ]
  },
  {
   "cell_type": "code",
   "execution_count": 17,
   "id": "accepting-chile",
   "metadata": {},
   "outputs": [],
   "source": [
    "news['readable'] = news['document_quality_scores'].map(lambda x : score(x)[0])\n",
    "news['accurate'] = news['document_quality_scores'].map(lambda x : score(x)[1])\n",
    "news['informative'] = news['document_quality_scores'].map(lambda x : score(x)[2])\n",
    "news['trustworthy'] = news['document_quality_scores'].map(lambda x : score(x)[3])"
   ]
  },
  {
   "cell_type": "code",
   "execution_count": 18,
   "id": "intelligent-runner",
   "metadata": {},
   "outputs": [],
   "source": [
    "news['year'] = news['publish_date'].map(lambda x : publish_date(x)[0])\n",
    "news['month'] = news['publish_date'].map(lambda x : publish_date(x)[1])\n",
    "news['date'] = news['publish_date'].map(lambda x : publish_date(x)[2])"
   ]
  },
  {
   "cell_type": "markdown",
   "id": "packed-picture",
   "metadata": {},
   "source": [
    "## Types of Features\n",
    "\n",
    "### Categorical Feautures\n",
    "- 'category' : 신문 기사의 주제 분류\n",
    "- 'media_name' : 신문 매체의 이름 분류\n",
    "\n",
    "### Ordinal Features\n",
    "- 'size' : char_count에 따른 기사 크기 분류 (small, medium, big)\n",
    "- 'readable' : 가독성에 따른 순서분류 (1-4)\n",
    "- 'accurate' : 정확성에 따른 순서분류 (1-4)\n",
    "- 'informative' : 정보량에 따른 순서분류 (1-4)\n",
    "- 'trustworthy' : 신뢰성에 따른 순서분류 (1-4)\n",
    "\n",
    "### Continuous Features\n",
    "- 'year', 'month', 'date' : 년, 월, 시"
   ]
  },
  {
   "cell_type": "code",
   "execution_count": 19,
   "id": "conventional-paste",
   "metadata": {
    "scrolled": true
   },
   "outputs": [
    {
     "data": {
      "text/html": [
       "<div>\n",
       "<style scoped>\n",
       "    .dataframe tbody tr th:only-of-type {\n",
       "        vertical-align: middle;\n",
       "    }\n",
       "\n",
       "    .dataframe tbody tr th {\n",
       "        vertical-align: top;\n",
       "    }\n",
       "\n",
       "    .dataframe thead th {\n",
       "        text-align: right;\n",
       "    }\n",
       "</style>\n",
       "<table border=\"1\" class=\"dataframe\">\n",
       "  <thead>\n",
       "    <tr style=\"text-align: right;\">\n",
       "      <th></th>\n",
       "      <th>id</th>\n",
       "      <th>category</th>\n",
       "      <th>media_type</th>\n",
       "      <th>media_sub_type</th>\n",
       "      <th>media_name</th>\n",
       "      <th>size</th>\n",
       "      <th>char_count</th>\n",
       "      <th>publish_date</th>\n",
       "      <th>title</th>\n",
       "      <th>text</th>\n",
       "      <th>...</th>\n",
       "      <th>ext_sum</th>\n",
       "      <th>abs_sum</th>\n",
       "      <th>origin</th>\n",
       "      <th>readable</th>\n",
       "      <th>accurate</th>\n",
       "      <th>informative</th>\n",
       "      <th>trustworthy</th>\n",
       "      <th>year</th>\n",
       "      <th>month</th>\n",
       "      <th>date</th>\n",
       "    </tr>\n",
       "  </thead>\n",
       "  <tbody>\n",
       "    <tr>\n",
       "      <th>1</th>\n",
       "      <td>290741778</td>\n",
       "      <td>종합</td>\n",
       "      <td>online</td>\n",
       "      <td>지역지</td>\n",
       "      <td>광양신문</td>\n",
       "      <td>small</td>\n",
       "      <td>927</td>\n",
       "      <td>2018-01-05 18:54:55</td>\n",
       "      <td>논 타작물 재배, 2월 말까지 신청하세요</td>\n",
       "      <td>[[{'index': 0, 'sentence': 'ha당 조사료 400만원…작물별 ...</td>\n",
       "      <td>...</td>\n",
       "      <td>[전라남도가 쌀 과잉문제를 근본적으로 해결하기 위해 올해부터 시행하는 쌀 생산조정제...</td>\n",
       "      <td>[전라남도가 쌀 과잉문제를 근본적으로 해결하기 위해 올해부터 벼를 심었던 논에 벼 ...</td>\n",
       "      <td>[ha당 조사료 400만원…작물별 차등 지원, 이성훈 sinawi@hanmail.n...</td>\n",
       "      <td>4</td>\n",
       "      <td>3</td>\n",
       "      <td>3</td>\n",
       "      <td>3</td>\n",
       "      <td>2018</td>\n",
       "      <td>01</td>\n",
       "      <td>05</td>\n",
       "    </tr>\n",
       "    <tr>\n",
       "      <th>2</th>\n",
       "      <td>290741792</td>\n",
       "      <td>종합</td>\n",
       "      <td>online</td>\n",
       "      <td>지역지</td>\n",
       "      <td>광양신문</td>\n",
       "      <td>small</td>\n",
       "      <td>764</td>\n",
       "      <td>2018-01-05 18:53:20</td>\n",
       "      <td>여수시, 컬러빌리지 마무리...‘색채와 빛’도시 완성</td>\n",
       "      <td>[[{'index': 0, 'sentence': '8억 투입, 고소천사벽화·자산마을...</td>\n",
       "      <td>...</td>\n",
       "      <td>[여수시는 원도심 일대에서 추진된 컬러빌리지 사업을 지난해 말 마무리하며 색채와 빛...</td>\n",
       "      <td>[여수시는 컬러빌리지 사업에 8억원을 투입하여 ‘색채와 빛’ 도시를 완성하여 고소천...</td>\n",
       "      <td>[8억 투입, 고소천사벽화·자산마을에 색채 입혀, 이성훈 sinawi@hanmail...</td>\n",
       "      <td>4</td>\n",
       "      <td>4</td>\n",
       "      <td>5</td>\n",
       "      <td>4</td>\n",
       "      <td>2018</td>\n",
       "      <td>01</td>\n",
       "      <td>05</td>\n",
       "    </tr>\n",
       "    <tr>\n",
       "      <th>3</th>\n",
       "      <td>290741793</td>\n",
       "      <td>스포츠</td>\n",
       "      <td>online</td>\n",
       "      <td>지역지</td>\n",
       "      <td>광양신문</td>\n",
       "      <td>medium</td>\n",
       "      <td>1066</td>\n",
       "      <td>2018-01-05 18:52:15</td>\n",
       "      <td>“새해 정기 받고 올해는 반드시 일내자!”</td>\n",
       "      <td>[[{'index': 0, 'sentence': '전남드래곤즈 해맞이 다짐…선수 영...</td>\n",
       "      <td>...</td>\n",
       "      <td>[임직원과 선수단 모두는 이날 구봉산 정상에 올라 일출을 보며 2018년 구단 목표...</td>\n",
       "      <td>[전남드래곤즈 임직원과 선수단이 4일 구봉산 정상에 올라 일출을 보며 2018년 구...</td>\n",
       "      <td>[전남드래곤즈 해맞이 다짐…선수 영입 활발, 이성훈 sinawi@hanmail.ne...</td>\n",
       "      <td>4</td>\n",
       "      <td>4</td>\n",
       "      <td>4</td>\n",
       "      <td>4</td>\n",
       "      <td>2018</td>\n",
       "      <td>01</td>\n",
       "      <td>05</td>\n",
       "    </tr>\n",
       "    <tr>\n",
       "      <th>4</th>\n",
       "      <td>290741794</td>\n",
       "      <td>정치</td>\n",
       "      <td>online</td>\n",
       "      <td>지역지</td>\n",
       "      <td>광양신문</td>\n",
       "      <td>small</td>\n",
       "      <td>746</td>\n",
       "      <td>2018-01-05 18:50:17</td>\n",
       "      <td>농업인 역량 강화, 새해 실용교육 실시</td>\n",
       "      <td>[[{'index': 0, 'sentence': '11~24일, 매실·감·참다래 등...</td>\n",
       "      <td>...</td>\n",
       "      <td>[광양시는 오는 11일부터 24일까지 농업인교육관과 읍면동 회의실에서 농업인 105...</td>\n",
       "      <td>[광양시는 농업인들의 경쟁력을 높이고, 소득안정을 위해 매실·감·참다래 등 지역특화...</td>\n",
       "      <td>[11~24일, 매실·감·참다래 등 지역특화작목, 이성훈 sinawi@hanmail...</td>\n",
       "      <td>4</td>\n",
       "      <td>4</td>\n",
       "      <td>5</td>\n",
       "      <td>4</td>\n",
       "      <td>2018</td>\n",
       "      <td>01</td>\n",
       "      <td>05</td>\n",
       "    </tr>\n",
       "    <tr>\n",
       "      <th>5</th>\n",
       "      <td>290741797</td>\n",
       "      <td>종합</td>\n",
       "      <td>online</td>\n",
       "      <td>지역지</td>\n",
       "      <td>광양신문</td>\n",
       "      <td>small</td>\n",
       "      <td>978</td>\n",
       "      <td>2018-01-05 18:52:36</td>\n",
       "      <td>타이완 크루즈관광객 4천여명‘전남’온다</td>\n",
       "      <td>[[{'index': 0, 'sentence': '홍콩 크루즈선사‘아쿠아리우스’ 4...</td>\n",
       "      <td>...</td>\n",
       "      <td>[전라남도는 올해 4월과 6월 홍콩 크루즈선사 스타크루즈의 5만톤급‘아쿠아리우스’호...</td>\n",
       "      <td>[올해 4월과 6월 두 차례에 걸쳐 타이완의 크루즈 관광객 4000여명이 여수에 입...</td>\n",
       "      <td>[홍콩 크루즈선사‘아쿠아리우스’ 4, 6월 여수항 입항, 이성훈 sinawi@han...</td>\n",
       "      <td>4</td>\n",
       "      <td>4</td>\n",
       "      <td>4</td>\n",
       "      <td>4</td>\n",
       "      <td>2018</td>\n",
       "      <td>01</td>\n",
       "      <td>05</td>\n",
       "    </tr>\n",
       "  </tbody>\n",
       "</table>\n",
       "<p>5 rows × 24 columns</p>\n",
       "</div>"
      ],
      "text/plain": [
       "          id category media_type media_sub_type media_name    size char_count  \\\n",
       "1  290741778       종합     online            지역지       광양신문   small        927   \n",
       "2  290741792       종합     online            지역지       광양신문   small        764   \n",
       "3  290741793      스포츠     online            지역지       광양신문  medium       1066   \n",
       "4  290741794       정치     online            지역지       광양신문   small        746   \n",
       "5  290741797       종합     online            지역지       광양신문   small        978   \n",
       "\n",
       "          publish_date                          title  \\\n",
       "1  2018-01-05 18:54:55         논 타작물 재배, 2월 말까지 신청하세요   \n",
       "2  2018-01-05 18:53:20  여수시, 컬러빌리지 마무리...‘색채와 빛’도시 완성   \n",
       "3  2018-01-05 18:52:15        “새해 정기 받고 올해는 반드시 일내자!”   \n",
       "4  2018-01-05 18:50:17          농업인 역량 강화, 새해 실용교육 실시   \n",
       "5  2018-01-05 18:52:36          타이완 크루즈관광객 4천여명‘전남’온다   \n",
       "\n",
       "                                                text  ...  \\\n",
       "1  [[{'index': 0, 'sentence': 'ha당 조사료 400만원…작물별 ...  ...   \n",
       "2  [[{'index': 0, 'sentence': '8억 투입, 고소천사벽화·자산마을...  ...   \n",
       "3  [[{'index': 0, 'sentence': '전남드래곤즈 해맞이 다짐…선수 영...  ...   \n",
       "4  [[{'index': 0, 'sentence': '11~24일, 매실·감·참다래 등...  ...   \n",
       "5  [[{'index': 0, 'sentence': '홍콩 크루즈선사‘아쿠아리우스’ 4...  ...   \n",
       "\n",
       "                                             ext_sum  \\\n",
       "1  [전라남도가 쌀 과잉문제를 근본적으로 해결하기 위해 올해부터 시행하는 쌀 생산조정제...   \n",
       "2  [여수시는 원도심 일대에서 추진된 컬러빌리지 사업을 지난해 말 마무리하며 색채와 빛...   \n",
       "3  [임직원과 선수단 모두는 이날 구봉산 정상에 올라 일출을 보며 2018년 구단 목표...   \n",
       "4  [광양시는 오는 11일부터 24일까지 농업인교육관과 읍면동 회의실에서 농업인 105...   \n",
       "5  [전라남도는 올해 4월과 6월 홍콩 크루즈선사 스타크루즈의 5만톤급‘아쿠아리우스’호...   \n",
       "\n",
       "                                             abs_sum  \\\n",
       "1  [전라남도가 쌀 과잉문제를 근본적으로 해결하기 위해 올해부터 벼를 심었던 논에 벼 ...   \n",
       "2  [여수시는 컬러빌리지 사업에 8억원을 투입하여 ‘색채와 빛’ 도시를 완성하여 고소천...   \n",
       "3  [전남드래곤즈 임직원과 선수단이 4일 구봉산 정상에 올라 일출을 보며 2018년 구...   \n",
       "4  [광양시는 농업인들의 경쟁력을 높이고, 소득안정을 위해 매실·감·참다래 등 지역특화...   \n",
       "5  [올해 4월과 6월 두 차례에 걸쳐 타이완의 크루즈 관광객 4000여명이 여수에 입...   \n",
       "\n",
       "                                              origin readable accurate  \\\n",
       "1  [ha당 조사료 400만원…작물별 차등 지원, 이성훈 sinawi@hanmail.n...        4        3   \n",
       "2  [8억 투입, 고소천사벽화·자산마을에 색채 입혀, 이성훈 sinawi@hanmail...        4        4   \n",
       "3  [전남드래곤즈 해맞이 다짐…선수 영입 활발, 이성훈 sinawi@hanmail.ne...        4        4   \n",
       "4  [11~24일, 매실·감·참다래 등 지역특화작목, 이성훈 sinawi@hanmail...        4        4   \n",
       "5  [홍콩 크루즈선사‘아쿠아리우스’ 4, 6월 여수항 입항, 이성훈 sinawi@han...        4        4   \n",
       "\n",
       "  informative trustworthy  year  month  date  \n",
       "1           3           3  2018     01    05  \n",
       "2           5           4  2018     01    05  \n",
       "3           4           4  2018     01    05  \n",
       "4           5           4  2018     01    05  \n",
       "5           4           4  2018     01    05  \n",
       "\n",
       "[5 rows x 24 columns]"
      ]
     },
     "execution_count": 19,
     "metadata": {},
     "output_type": "execute_result"
    }
   ],
   "source": [
    "news.head()"
   ]
  },
  {
   "cell_type": "code",
   "execution_count": 20,
   "id": "numerous-eating",
   "metadata": {},
   "outputs": [],
   "source": [
    "%%capture\n",
    "!sudo apt-get install -y fonts-nanum\n",
    "!sudo fc-cache -fv\n",
    "!rm ~/.cache/matplotlib -rf"
   ]
  },
  {
   "cell_type": "code",
   "execution_count": 24,
   "id": "finished-connecticut",
   "metadata": {},
   "outputs": [
    {
     "data": {
      "image/png": "[encoded data removed]",
      "text/plain": [
       "<Figure size 432x288 with 1 Axes>"
      ]
     },
     "metadata": {
      "needs_background": "light"
     },
     "output_type": "display_data"
    }
   ],
   "source": [
    "import matplotlib.pyplot as plt\n",
    "import seaborn as sns\n",
    "plt.style.use('fivethirtyeight')\n",
    "import warnings\n",
    "warnings.filterwarnings('ignore')\n",
    "%matplotlib inline\n",
    "\n",
    "sns.countplot(x=\"category\", data=news)\n",
    "sns.set(rc = {'figure.figsize':(10,8)})\n",
    "plt.rc('font', family='NanumBarunGothic') \n",
    "plt.xticks(rotation=45)\n",
    "\n",
    "plt.show()"
   ]
  },
  {
   "cell_type": "code",
   "execution_count": 22,
   "id": "indian-coordinator",
   "metadata": {},
   "outputs": [
    {
     "data": {
      "image/png": "[encoded data removed]",
      "text/plain": [
       "<Figure size 720x576 with 1 Axes>"
      ]
     },
     "metadata": {},
     "output_type": "display_data"
    }
   ],
   "source": [
    "sns.countplot(x=\"size\", data=news)\n",
    "sns.set(rc = {'figure.figsize':(5,4)})\n",
    "# plt.xticks(rotation=45)\n",
    "plt.rc('font', family='NanumBarunGothic') \n",
    "\n",
    "plt.show()"
   ]
  },
  {
   "cell_type": "code",
   "execution_count": 26,
   "id": "acquired-reviewer",
   "metadata": {},
   "outputs": [
    {
     "data": {
      "image/png": "[encoded data removed]",
      "text/plain": [
       "<Figure size 1800x288 with 1 Axes>"
      ]
     },
     "metadata": {},
     "output_type": "display_data"
    }
   ],
   "source": [
    "sns.countplot(x=\"media_name\", data=news)\n",
    "sns.set(rc = {'figure.figsize':(25,4)})\n",
    "plt.xticks(rotation=45)\n",
    "plt.rc('font', family='NanumBarunGothic') \n",
    "\n",
    "plt.show()"
   ]
  },
  {
   "cell_type": "code",
   "execution_count": 27,
   "id": "bacterial-checklist",
   "metadata": {},
   "outputs": [
    {
     "data": {
      "image/png": "[encoded data removed]",
      "text/plain": [
       "<Figure size 1800x288 with 2 Axes>"
      ]
     },
     "metadata": {},
     "output_type": "display_data"
    }
   ],
   "source": [
    "fig, ax = plt.subplots(ncols=2)\n",
    "\n",
    "sns.countplot(x=\"readable\", data=news, ax=ax[0])\n",
    "sns.countplot(x=\"accurate\", data=news, ax=ax[1])\n",
    "\n",
    "sns.set(rc = {'figure.figsize':(20,5)})\n",
    "# plt.xticks(rotation=45)\n",
    "plt.rc('font', family='NanumBarunGothic') \n",
    "\n",
    "# plt.show()"
   ]
  },
  {
   "cell_type": "code",
   "execution_count": 28,
   "id": "placed-television",
   "metadata": {
    "scrolled": true
   },
   "outputs": [
    {
     "data": {
      "image/png": "[encoded data removed]",
      "text/plain": [
       "<Figure size 1440x360 with 2 Axes>"
      ]
     },
     "metadata": {},
     "output_type": "display_data"
    }
   ],
   "source": [
    "fig, ax = plt.subplots(ncols=2)\n",
    "\n",
    "sns.countplot(x=\"informative\", data=news,ax=ax[0])\n",
    "sns.countplot(x=\"trustworthy\", data=news, ax=ax[1])\n",
    "\n",
    "sns.set(rc = {'figure.figsize':(20,5)})\n",
    "\n",
    "plt.rc('font', family='NanumBarunGothic') "
   ]
  },
  {
   "cell_type": "code",
   "execution_count": 29,
   "id": "polish-information",
   "metadata": {},
   "outputs": [
    {
     "data": {
      "image/png": "[encoded data removed]",
      "text/plain": [
       "<Figure size 1440x360 with 2 Axes>"
      ]
     },
     "metadata": {},
     "output_type": "display_data"
    }
   ],
   "source": [
    "fig, ax = plt.subplots(ncols=2)\n",
    "\n",
    "sns.countplot(x=\"year\", data=news,ax=ax[0])\n",
    "sns.countplot(x=\"month\", data=news, ax=ax[1])\n",
    "\n",
    "sns.set(rc = {'figure.figsize':(20,5)})\n",
    "\n",
    "plt.rc('font', family='NanumBarunGothic') "
   ]
  },
  {
   "cell_type": "code",
   "execution_count": 30,
   "id": "lightweight-theorem",
   "metadata": {
    "scrolled": true
   },
   "outputs": [
    {
     "data": {
      "text/html": [
       "<div>\n",
       "<style scoped>\n",
       "    .dataframe tbody tr th:only-of-type {\n",
       "        vertical-align: middle;\n",
       "    }\n",
       "\n",
       "    .dataframe tbody tr th {\n",
       "        vertical-align: top;\n",
       "    }\n",
       "\n",
       "    .dataframe thead th {\n",
       "        text-align: right;\n",
       "    }\n",
       "</style>\n",
       "<table border=\"1\" class=\"dataframe\">\n",
       "  <thead>\n",
       "    <tr style=\"text-align: right;\">\n",
       "      <th></th>\n",
       "      <th>category</th>\n",
       "      <th>media_name</th>\n",
       "      <th>title</th>\n",
       "      <th>origin</th>\n",
       "      <th>ext_sum</th>\n",
       "      <th>abs_sum</th>\n",
       "      <th>size</th>\n",
       "      <th>char_count</th>\n",
       "      <th>year</th>\n",
       "      <th>month</th>\n",
       "      <th>date</th>\n",
       "      <th>readable</th>\n",
       "      <th>accurate</th>\n",
       "      <th>informative</th>\n",
       "      <th>trustworthy</th>\n",
       "    </tr>\n",
       "  </thead>\n",
       "  <tbody>\n",
       "    <tr>\n",
       "      <th>1</th>\n",
       "      <td>종합</td>\n",
       "      <td>광양신문</td>\n",
       "      <td>논 타작물 재배, 2월 말까지 신청하세요</td>\n",
       "      <td>[ha당 조사료 400만원…작물별 차등 지원, 이성훈 sinawi@hanmail.n...</td>\n",
       "      <td>[전라남도가 쌀 과잉문제를 근본적으로 해결하기 위해 올해부터 시행하는 쌀 생산조정제...</td>\n",
       "      <td>[전라남도가 쌀 과잉문제를 근본적으로 해결하기 위해 올해부터 벼를 심었던 논에 벼 ...</td>\n",
       "      <td>small</td>\n",
       "      <td>927</td>\n",
       "      <td>2018</td>\n",
       "      <td>01</td>\n",
       "      <td>05</td>\n",
       "      <td>4</td>\n",
       "      <td>3</td>\n",
       "      <td>3</td>\n",
       "      <td>3</td>\n",
       "    </tr>\n",
       "    <tr>\n",
       "      <th>2</th>\n",
       "      <td>종합</td>\n",
       "      <td>광양신문</td>\n",
       "      <td>여수시, 컬러빌리지 마무리...‘색채와 빛’도시 완성</td>\n",
       "      <td>[8억 투입, 고소천사벽화·자산마을에 색채 입혀, 이성훈 sinawi@hanmail...</td>\n",
       "      <td>[여수시는 원도심 일대에서 추진된 컬러빌리지 사업을 지난해 말 마무리하며 색채와 빛...</td>\n",
       "      <td>[여수시는 컬러빌리지 사업에 8억원을 투입하여 ‘색채와 빛’ 도시를 완성하여 고소천...</td>\n",
       "      <td>small</td>\n",
       "      <td>764</td>\n",
       "      <td>2018</td>\n",
       "      <td>01</td>\n",
       "      <td>05</td>\n",
       "      <td>4</td>\n",
       "      <td>4</td>\n",
       "      <td>5</td>\n",
       "      <td>4</td>\n",
       "    </tr>\n",
       "    <tr>\n",
       "      <th>3</th>\n",
       "      <td>스포츠</td>\n",
       "      <td>광양신문</td>\n",
       "      <td>“새해 정기 받고 올해는 반드시 일내자!”</td>\n",
       "      <td>[전남드래곤즈 해맞이 다짐…선수 영입 활발, 이성훈 sinawi@hanmail.ne...</td>\n",
       "      <td>[임직원과 선수단 모두는 이날 구봉산 정상에 올라 일출을 보며 2018년 구단 목표...</td>\n",
       "      <td>[전남드래곤즈 임직원과 선수단이 4일 구봉산 정상에 올라 일출을 보며 2018년 구...</td>\n",
       "      <td>medium</td>\n",
       "      <td>1066</td>\n",
       "      <td>2018</td>\n",
       "      <td>01</td>\n",
       "      <td>05</td>\n",
       "      <td>4</td>\n",
       "      <td>4</td>\n",
       "      <td>4</td>\n",
       "      <td>4</td>\n",
       "    </tr>\n",
       "    <tr>\n",
       "      <th>4</th>\n",
       "      <td>정치</td>\n",
       "      <td>광양신문</td>\n",
       "      <td>농업인 역량 강화, 새해 실용교육 실시</td>\n",
       "      <td>[11~24일, 매실·감·참다래 등 지역특화작목, 이성훈 sinawi@hanmail...</td>\n",
       "      <td>[광양시는 오는 11일부터 24일까지 농업인교육관과 읍면동 회의실에서 농업인 105...</td>\n",
       "      <td>[광양시는 농업인들의 경쟁력을 높이고, 소득안정을 위해 매실·감·참다래 등 지역특화...</td>\n",
       "      <td>small</td>\n",
       "      <td>746</td>\n",
       "      <td>2018</td>\n",
       "      <td>01</td>\n",
       "      <td>05</td>\n",
       "      <td>4</td>\n",
       "      <td>4</td>\n",
       "      <td>5</td>\n",
       "      <td>4</td>\n",
       "    </tr>\n",
       "    <tr>\n",
       "      <th>5</th>\n",
       "      <td>종합</td>\n",
       "      <td>광양신문</td>\n",
       "      <td>타이완 크루즈관광객 4천여명‘전남’온다</td>\n",
       "      <td>[홍콩 크루즈선사‘아쿠아리우스’ 4, 6월 여수항 입항, 이성훈 sinawi@han...</td>\n",
       "      <td>[전라남도는 올해 4월과 6월 홍콩 크루즈선사 스타크루즈의 5만톤급‘아쿠아리우스’호...</td>\n",
       "      <td>[올해 4월과 6월 두 차례에 걸쳐 타이완의 크루즈 관광객 4000여명이 여수에 입...</td>\n",
       "      <td>small</td>\n",
       "      <td>978</td>\n",
       "      <td>2018</td>\n",
       "      <td>01</td>\n",
       "      <td>05</td>\n",
       "      <td>4</td>\n",
       "      <td>4</td>\n",
       "      <td>4</td>\n",
       "      <td>4</td>\n",
       "    </tr>\n",
       "  </tbody>\n",
       "</table>\n",
       "</div>"
      ],
      "text/plain": [
       "  category media_name                          title  \\\n",
       "1       종합       광양신문         논 타작물 재배, 2월 말까지 신청하세요   \n",
       "2       종합       광양신문  여수시, 컬러빌리지 마무리...‘색채와 빛’도시 완성   \n",
       "3      스포츠       광양신문        “새해 정기 받고 올해는 반드시 일내자!”   \n",
       "4       정치       광양신문          농업인 역량 강화, 새해 실용교육 실시   \n",
       "5       종합       광양신문          타이완 크루즈관광객 4천여명‘전남’온다   \n",
       "\n",
       "                                              origin  \\\n",
       "1  [ha당 조사료 400만원…작물별 차등 지원, 이성훈 sinawi@hanmail.n...   \n",
       "2  [8억 투입, 고소천사벽화·자산마을에 색채 입혀, 이성훈 sinawi@hanmail...   \n",
       "3  [전남드래곤즈 해맞이 다짐…선수 영입 활발, 이성훈 sinawi@hanmail.ne...   \n",
       "4  [11~24일, 매실·감·참다래 등 지역특화작목, 이성훈 sinawi@hanmail...   \n",
       "5  [홍콩 크루즈선사‘아쿠아리우스’ 4, 6월 여수항 입항, 이성훈 sinawi@han...   \n",
       "\n",
       "                                             ext_sum  \\\n",
       "1  [전라남도가 쌀 과잉문제를 근본적으로 해결하기 위해 올해부터 시행하는 쌀 생산조정제...   \n",
       "2  [여수시는 원도심 일대에서 추진된 컬러빌리지 사업을 지난해 말 마무리하며 색채와 빛...   \n",
       "3  [임직원과 선수단 모두는 이날 구봉산 정상에 올라 일출을 보며 2018년 구단 목표...   \n",
       "4  [광양시는 오는 11일부터 24일까지 농업인교육관과 읍면동 회의실에서 농업인 105...   \n",
       "5  [전라남도는 올해 4월과 6월 홍콩 크루즈선사 스타크루즈의 5만톤급‘아쿠아리우스’호...   \n",
       "\n",
       "                                             abs_sum    size char_count  year  \\\n",
       "1  [전라남도가 쌀 과잉문제를 근본적으로 해결하기 위해 올해부터 벼를 심었던 논에 벼 ...   small        927  2018   \n",
       "2  [여수시는 컬러빌리지 사업에 8억원을 투입하여 ‘색채와 빛’ 도시를 완성하여 고소천...   small        764  2018   \n",
       "3  [전남드래곤즈 임직원과 선수단이 4일 구봉산 정상에 올라 일출을 보며 2018년 구...  medium       1066  2018   \n",
       "4  [광양시는 농업인들의 경쟁력을 높이고, 소득안정을 위해 매실·감·참다래 등 지역특화...   small        746  2018   \n",
       "5  [올해 4월과 6월 두 차례에 걸쳐 타이완의 크루즈 관광객 4000여명이 여수에 입...   small        978  2018   \n",
       "\n",
       "  month date  readable  accurate  informative  trustworthy  \n",
       "1    01   05         4         3            3            3  \n",
       "2    01   05         4         4            5            4  \n",
       "3    01   05         4         4            4            4  \n",
       "4    01   05         4         4            5            4  \n",
       "5    01   05         4         4            4            4  "
      ]
     },
     "execution_count": 30,
     "metadata": {},
     "output_type": "execute_result"
    }
   ],
   "source": [
    "df = news[['category','media_name','title','origin','ext_sum','abs_sum','size','char_count','year','month','date','readable','accurate','informative','trustworthy']]\n",
    "df.head()"
   ]
  },
  {
   "cell_type": "code",
   "execution_count": 31,
   "id": "dominican-mobile",
   "metadata": {},
   "outputs": [
    {
     "name": "stdout",
     "output_type": "stream",
     "text": [
      "832.5040148372859\n",
      "1204.2265018739786\n",
      "1693.9704648430945\n"
     ]
    }
   ],
   "source": [
    "print(df[df['size']=='small']['char_count'].astype(int).mean()) #- size small의 평균 char_count : 833\n",
    "print(df[df['size']=='medium']['char_count'].astype(int).mean()) #- size medium의 평균 char_count : 1204\n",
    "print(df[df['size']=='large']['char_count'].astype(int).mean()) #- size large의 평균 char_count : 1694"
   ]
  },
  {
   "cell_type": "code",
   "execution_count": 32,
   "id": "touched-berlin",
   "metadata": {},
   "outputs": [
    {
     "data": {
      "text/html": [
       "<div>\n",
       "<style scoped>\n",
       "    .dataframe tbody tr th:only-of-type {\n",
       "        vertical-align: middle;\n",
       "    }\n",
       "\n",
       "    .dataframe tbody tr th {\n",
       "        vertical-align: top;\n",
       "    }\n",
       "\n",
       "    .dataframe thead th {\n",
       "        text-align: right;\n",
       "    }\n",
       "</style>\n",
       "<table border=\"1\" class=\"dataframe\">\n",
       "  <thead>\n",
       "    <tr style=\"text-align: right;\">\n",
       "      <th></th>\n",
       "      <th>readable</th>\n",
       "      <th>accurate</th>\n",
       "      <th>informative</th>\n",
       "      <th>trustworthy</th>\n",
       "    </tr>\n",
       "  </thead>\n",
       "  <tbody>\n",
       "    <tr>\n",
       "      <th>count</th>\n",
       "      <td>271093.000000</td>\n",
       "      <td>271093.000000</td>\n",
       "      <td>271093.000000</td>\n",
       "      <td>271093.000000</td>\n",
       "    </tr>\n",
       "    <tr>\n",
       "      <th>mean</th>\n",
       "      <td>3.722745</td>\n",
       "      <td>3.759994</td>\n",
       "      <td>3.546831</td>\n",
       "      <td>3.770592</td>\n",
       "    </tr>\n",
       "    <tr>\n",
       "      <th>std</th>\n",
       "      <td>0.893117</td>\n",
       "      <td>0.849028</td>\n",
       "      <td>0.919150</td>\n",
       "      <td>0.854285</td>\n",
       "    </tr>\n",
       "    <tr>\n",
       "      <th>min</th>\n",
       "      <td>0.000000</td>\n",
       "      <td>0.000000</td>\n",
       "      <td>0.000000</td>\n",
       "      <td>0.000000</td>\n",
       "    </tr>\n",
       "    <tr>\n",
       "      <th>25%</th>\n",
       "      <td>3.000000</td>\n",
       "      <td>3.000000</td>\n",
       "      <td>3.000000</td>\n",
       "      <td>3.000000</td>\n",
       "    </tr>\n",
       "    <tr>\n",
       "      <th>50%</th>\n",
       "      <td>4.000000</td>\n",
       "      <td>4.000000</td>\n",
       "      <td>4.000000</td>\n",
       "      <td>4.000000</td>\n",
       "    </tr>\n",
       "    <tr>\n",
       "      <th>75%</th>\n",
       "      <td>4.000000</td>\n",
       "      <td>4.000000</td>\n",
       "      <td>4.000000</td>\n",
       "      <td>4.000000</td>\n",
       "    </tr>\n",
       "    <tr>\n",
       "      <th>max</th>\n",
       "      <td>5.000000</td>\n",
       "      <td>5.000000</td>\n",
       "      <td>5.000000</td>\n",
       "      <td>5.000000</td>\n",
       "    </tr>\n",
       "  </tbody>\n",
       "</table>\n",
       "</div>"
      ],
      "text/plain": [
       "            readable       accurate    informative    trustworthy\n",
       "count  271093.000000  271093.000000  271093.000000  271093.000000\n",
       "mean        3.722745       3.759994       3.546831       3.770592\n",
       "std         0.893117       0.849028       0.919150       0.854285\n",
       "min         0.000000       0.000000       0.000000       0.000000\n",
       "25%         3.000000       3.000000       3.000000       3.000000\n",
       "50%         4.000000       4.000000       4.000000       4.000000\n",
       "75%         4.000000       4.000000       4.000000       4.000000\n",
       "max         5.000000       5.000000       5.000000       5.000000"
      ]
     },
     "execution_count": 32,
     "metadata": {},
     "output_type": "execute_result"
    }
   ],
   "source": [
    "df.describe()"
   ]
  },
  {
   "cell_type": "code",
   "execution_count": 33,
   "id": "junior-precipitation",
   "metadata": {},
   "outputs": [
    {
     "data": {
      "text/plain": [
       "category       0\n",
       "media_name     0\n",
       "title          0\n",
       "origin         0\n",
       "ext_sum        0\n",
       "abs_sum        0\n",
       "size           0\n",
       "char_count     0\n",
       "year           0\n",
       "month          0\n",
       "date           0\n",
       "readable       0\n",
       "accurate       0\n",
       "informative    0\n",
       "trustworthy    0\n",
       "dtype: int64"
      ]
     },
     "execution_count": 33,
     "metadata": {},
     "output_type": "execute_result"
    }
   ],
   "source": [
    "df.isnull().sum()"
   ]
  },
  {
   "cell_type": "markdown",
   "id": "aware-camel",
   "metadata": {},
   "source": [
    "## document_quality_scores"
   ]
  },
  {
   "cell_type": "code",
   "execution_count": 34,
   "id": "electronic-burner",
   "metadata": {
    "scrolled": true
   },
   "outputs": [
    {
     "data": {
      "text/plain": [
       "<AxesSubplot:ylabel='Density'>"
      ]
     },
     "execution_count": 34,
     "metadata": {},
     "output_type": "execute_result"
    },
    {
     "data": {
      "image/png": "[encoded data removed]",
      "text/plain": [
       "<Figure size 1440x360 with 1 Axes>"
      ]
     },
     "metadata": {},
     "output_type": "display_data"
    }
   ],
   "source": [
    "df[['readable','accurate','informative','trustworthy']].plot(kind='kde')"
   ]
  },
  {
   "cell_type": "code",
   "execution_count": 44,
   "id": "remarkable-bible",
   "metadata": {},
   "outputs": [
    {
     "data": {
      "text/plain": [
       "(52832, 16)"
      ]
     },
     "execution_count": 44,
     "metadata": {},
     "output_type": "execute_result"
    }
   ],
   "source": [
    "tmp = df[df['readable'] == 5].reset_index()\n",
    "tmp.shape"
   ]
  },
  {
   "cell_type": "code",
   "execution_count": 35,
   "id": "mineral-location",
   "metadata": {},
   "outputs": [
    {
     "name": "stdout",
     "output_type": "stream",
     "text": [
      "원문:\n",
      "['ha당 조사료 400만원…작물별 차등 지원', '이성훈 sinawi@hanmail.net', '전라남도가 쌀 과잉문제를 근본적으로 해결하기 위해 올해부터 시행하는 쌀 생산조정제를 적극 추진키로 했다.', '쌀 생산조정제는 벼를 심었던 논에 벼 대신 사료작물이나 콩 등 다른 작물을 심으면 벼와의 일정 소득차를 보전해주는 제도다.', '올해 전남의 논 다른 작물 재배 계획면적은 전국 5만ha의 약 21%인 1만 698ha로, 세부시행지침을 확정, 시군에 통보했다.', '지원사업 대상은 2017년산 쌀 변동직불금을 받은 농지에 10a(300평) 이상 벼 이외 다른 작물을 재배한 농업인이다.', '지원 대상 작물은 1년생을 포함한 다년생의 모든 작물이 해당되나 재배 면적 확대 시 수급과잉이 우려되는 고추, 무, 배추, 인삼, 대파 등 수급 불안 품목은 제외된다.', '농지의 경우도 이미 다른 작물 재배 의무가 부여된 간척지, 정부매입비축농지, 농진청 시범사업, 경관보전 직불금 수령 농지 등은 제외될 예정이다.', 'ha(3000평)당 지원 단가는 평균 340만원으로 사료작물 400만원, 일반작물은 340만원, 콩·팥 등 두류작물은 280만원 등이다.', '벼와 소득차와 영농 편이성을 감안해 작물별로 차등 지원된다.', '논에 다른 작물 재배를 바라는 농가는 오는 22일부터 2월 28일까지 농지 소재지 읍면동사무소에 신청해야 한다.', '전남도는 도와 시군에 관련 기관과 농가 등이 참여하는‘논 타작물 지원사업 추진협의회’를 구성, 지역 특성에 맞는 작목 선정 및 사업 심의 등을 본격 추진할 방침이다.', '최향철 전라남도 친환경농업과장은 “최근 쌀값이 다소 상승추세에 있으나 매년 공급과잉에 따른 가격 하락으로 쌀농가에 어려움이 있었다”며“쌀 공급과잉을 구조적으로 해결하도록 논 타작물 재배 지원사업에 많이 참여해주길 바란다”고 말했다.']\n",
      "\n",
      "추출요약:\n",
      "['전라남도가 쌀 과잉문제를 근본적으로 해결하기 위해 올해부터 시행하는 쌀 생산조정제를 적극 추진키로 했다.', '쌀 생산조정제는 벼를 심었던 논에 벼 대신 사료작물이나 콩 등 다른 작물을 심으면 벼와의 일정 소득차를 보전해주는 제도다.', '논에 다른 작물 재배를 바라는 농가는 오는 22일부터 2월 28일까지 농지 소재지 읍면동사무소에 신청해야 한다.']\n",
      "\n",
      "생성요약\n",
      "[\"전라남도가 쌀 과잉문제를 근본적으로 해결하기 위해 올해부터 벼를 심었던 논에 벼 대신 사료작물이나 콩 등 다른 작물을 심으면 벼와의 일정 소득차를 보전해주는 '쌀 생산조정제'를 적극적으로 시행하기로 하고 오는 22일부터 2월 28일까지 농지 소재지 읍면동사무소에서 신청받는다 .\"]\n",
      "원문:\n",
      "['2선거구(중마?골약) 최대 인구수 초과 영향', '김양환 dori487@hanmail.net', '광양 2선거구인 중마·골약 선거구에 변화가 있을 것으로 보인다.', '중마동 인구증가로 인해 인구 기준치를 넘어선 것이 원인인데 골약 선거구는 3선거구(광영·금호·태인·옥곡·진월·진상·다압)로 옮겨질 가능성이 높은 것으로 알려졌다.', '선거구 획정은 국회 본회의 통과만 남겨놓고 있는데 골약 선거구가 바뀔 경우 3선거구 출마를 준비중인 도의원 예비후보들과 다선거구(옥곡·진월·진상·다압) 기초의원 예비후보자들의 선거 전략도 수정이 불가피해 보인다.', '5일 국회 본회의 통과만 남겨 놓은 국회 선거구 획정안에 따르면 전남도의원은 52명으로 현행대로 유지된다.', '기초의원도 243명으로 변화가 없다.', '대신 인구 상하한선에 따른 선거구 변화로 도의원 선거구는 순천이 1개 늘고, 함평이 1개 줄어든다.', '기초의원 선거구는 나주가 1명 늘고, 신안이 1면 줄어든다.', '광양은 시도의원 수 변화는 없지만, 도의원 선거구 중 2선구(중마·골약) 중 골약동이 3선거구(광영·금호·태인·옥곡·진월·진상·다압)로 옮길 가능성이 높다.', '골약동이 3선거구로 편입되면 기초의원 선거구는 다선거구(옥곡·진월·진상·다압)에 통합된다.', '전남지역 선거구별 인구 평균은 3만6459명이다.', '이를 기준으로 60%를 초과하거나 미달하면 선거구 변화가 생긴다.', '선거구 최소 인구는 1만4584명이고, 최대 인구는 5만8334명이다.', '현재 도의원 2선거구(중마동 5만8702명, 골약동 1888명)는 최대 기준치를 넘게 되어 골약동이 3선거구(3만9528명) 옮겨가는 방안이 유력하다.', '이에 따라 골약동은 도의원 3선거구 중 인구수가 적은 기초의원 다선거구(인구 1만1373명)에 편입될 가능성이 높아졌다.', '전남도는 국회의 선거구획정 개정안이 오는 5일 국회 본회의에서 통과되고 나면 오는 7일, 전남도선거구획정위원회를 열어 선거구를 확정할 방침이다.']\n",
      "\n",
      "추출요약:\n",
      "['광양 2선거구인 중마·골약 선거구에 변화가 있을 것으로 보인다.', '중마동 인구증가로 인해 인구 기준치를 넘어선 것이 원인인데 골약 선거구는 3선거구(광영·금호·태인·옥곡·진월·진상·다압)로 옮겨질 가능성이 높은 것으로 알려졌다.', '선거구 획정은 국회 본회의 통과만 남겨놓고 있는데 골약 선거구가 바뀔 경우 3선거구 출마를 준비중인 도의원 예비후보들과 다선거구(옥곡·진월·진상·다압) 기초의원 예비후보자들의 선거 전략도 수정이 불가피해 보인다.']\n",
      "\n",
      "생성요약\n",
      "['중마동의 인구증가로 인해 중마·골약 선거구가 3선거구로 옮겨질 가능성이 높아져 3선거구 출마를 준비중인 도의원 예비후보들과 다선거구 기초의원 예비후보자들의 선거 전략 수정이 예상된다.\\n']\n",
      "원문:\n",
      "['한국항만물류고, 산하누리 극기체험‘호응’', '이성훈 sinawi@hanmail.net', '한국항만물류고등학교(교장 허동균)는 지난 16일부터 18일까지 2박 3일 일정으로 1학년 학생들의 국토애와 호연지기를 기를 수 있는 지리산 국토 순례 극기체험을 실시했다.', '이번 산하누리 극기체험은 인솔교직원 11명과 1학년 학생 98명이 참여했다.', '학교를 출발하여 남원 주천면 둘레길을 시작으로 구례군 산동면을 지나 탑동마을에서 화엄사까지 이어졌다.', '마지막 날은 화엄사에서 구례읍 공설운동장까지 약 70km로 진행됐다.', '참여한 한 학생은“산하누리 극기체험을 통해 자연에 대한 겸손함과 국토애를 기를 수 있었다”며“코스가 험해서 체력적으로 많이 힘들고 어려웠지만 자신에 대한 정체성과 성취감을 느낄 수 있어 좋았다”고 전했다.', '특히“선생님들과 사제동행을 통해 끈끈한 정을 나눌 수 있어 행복했고, 건강한 신체를 주신 부모님께 감사드린다”고 말했다.', '허동균 교장은“이번 극기체험을 통해 학생들에게 자신감과 성취감을 심어주는 계기가 됐다”고 평가했다.', '허 교장은 “학교폭력과 왕따 문제로 걱정하는 교육 현실에서 친구들과 서로 도우며 우정의 소중함을 깨달은 귀한 시간이 됐다”면서“특히, 가정의 달을 맞이하여 건강한 신체를 주신 부모님에 대해 감사하는 학생들이 자랑스럽다”고 전했다.', '허 교장은“앞으로도 다양한 활동을 지원하여 더 열심히 학업에 집중할 수 있는 환경을 마련하는 한편, 교사·학생·학부모가 만족 할 수 있도록 최선을 다해 학생들을 지도하겠다”고 밝혔다.', '산하누리극기체험은 2010년 마이스터고 개교 이후 한 번도 빠짐없이 매년 5월 진행하고 있다.', '오랜 기간 동안 걷는 고단함 속에서 학생들의 인내심·끈기·책임감을 길러 취업 준비에 대한 강인한 정신력으로 취업 후 기업체의 관계자들에게 좋은 반응을 얻고 있다.']\n",
      "\n",
      "추출요약:\n",
      "['한국항만물류고등학교(교장 허동균)는 지난 16일부터 18일까지 2박 3일 일정으로 1학년 학생들의 국토애와 호연지기를 기를 수 있는 지리산 국토 순례 극기체험을 실시했다.', '학교를 출발하여 남원 주천면 둘레길을 시작으로 구례군 산동면을 지나 탑동마을에서 화엄사까지 이어졌다.', '마지막 날은 화엄사에서 구례읍 공설운동장까지 약 70km로 진행됐다.']\n",
      "\n",
      "생성요약\n",
      "['한국항만물류고등학교는 지난 16일부터 18일까지 1학년 학생을 대상으로 지리산 국토 순례 극기체험을 실시했으며 코스는 총 70km로 학교를 출발하여 남원 주천면 둘레길, 구례군 산동면을 지나 탑동마을, 화엄사, 구례읍 공설운동장까지 진행됐다.']\n",
      "원문:\n",
      "['김호 기자 giant1kim@hanmail.net', '12일부터, 지역 27개소 1천여명 학생 ‘주 1~2회’', '광양시가 9월 12일부터 초등돌봄교실 27개소 1000여명의 학생에게 제철과일로 만든 과일간식을 무상으로 제공한다.', '농림축산식품부 주관으로 시행되는 이번 ‘초등돌봄교실 과일간식 지원’은 어린이들의 건강한 먹거리와 올바른 식습관을 개선하고, 과수생산 농가의 판로확보를 위해 시범사업으로 추진되고 있다.', '시는 6200만원의 예산을 투입해 초등학교 방과후 돌봄교실을 이용하는 학생에게 주 1~2회씩 제철과일을 먹기 좋은 크기로 잘라 컵과일 형태로 제공한다.', '또 과일간식의 재료가 되는 과일·과채를 친환경 또는 우수농산물관리(GAP) 인증을 받은 국산 제철과일만을 사용한다.', '특히 시중 조각과일의 유통기한인 5일보다 더욱 엄격한 기준을 적용해 전처리(세척)부터 36시간 이내에 냉장 유통?', '소비를 원칙으로 지원을 추진한다.', '이 밖에도 학교에서 요청하는 경우 가공하지 않은 과일을 제공한다.', '앞서 시는 지난 3월부터 3차례에 걸쳐 광양교육지원청을 통해 과일간식 지원 수요조사를 실시한 결과 27개교로부터 지원 신청을 받았다.', '아울러 농림축산식품부가 선정한 과일간식 가공 적격업체 중 공모를 통해 장성 삼계농협을 과일간식 공급업체로 선정했다.', '시는 지난달 30일 학교 과일간식 지원근거를 담은 ‘식생활교육지원법’ 개정안이 국회 본회의를 통과함에 따라 어린이들에게 건강한 과일간식을 제공하는 이번 사업이 더욱 힘이 실릴 것으로 기대를 모으고 있다.', '정옥자 매실원예과장은 “어린이들에게 과일간식을 제공해 건강한 식습관을 기르고, 국산 과일의 소비기반을 확충해 과수 산업 발전에 기여하는 일거양득의 효과를 낳을 것으로 기대된다”며 “이번 시범사업 단계를 거쳐 앞으로 지역아동센터와 일반 초등학생까지 사업대상을 점차 확대해 나갈 예정”이라고 말했다.']\n",
      "\n",
      "추출요약:\n",
      "['광양시가 9월 12일부터 초등돌봄교실 27개소 1000여명의 학생에게 제철과일로 만든 과일간식을 무상으로 제공한다.', '농림축산식품부 주관으로 시행되는 이번 ‘초등돌봄교실 과일간식 지원’은 어린이들의 건강한 먹거리와 올바른 식습관을 개선하고, 과수생산 농가의 판로확보를 위해 시범사업으로 추진되고 있다.', '시는 6200만원의 예산을 투입해 초등학교 방과후 돌봄교실을 이용하는 학생에게 주 1~2회씩 제철과일을 먹기 좋은 크기로 잘라 컵과일 형태로 제공한다.']\n",
      "\n",
      "생성요약\n",
      "[\"광양시는 6200만원의 예산을 투입하여 '초등돌봄교실 과일간식 지원'사업을 시작할 예정이며 학생들에게 제철과일을 컵과일 형태로 무상 제공할 것이라고 밝혔다.\"]\n",
      "원문:\n",
      "['이정교 기자 shado262@gynet.co.kr', '일자리창출 및 지역경제 활성화 위해, 반드시 건립돼야‘주장’', '골약동상생협의회(대표 백윤식)가 황금산단에 들어설 바이오매스발전소 건립 인허가 지원을 요구하며 국회 앞 상경 집회를 진행했다.', '또한 정인화 국회의원실을 방문해 그동안 수차례에 걸쳐 정 의원에게 면담을 요청했지만 응하지 않은 것에 대해 유감을 표했다.', '집회에는 광양을 사랑하는 시민, 골약동상생협의회, 발전소유치추진위원회 등 70여명의 시민이 참석했다.', '협의회는“자녀의 일자리 창출과 침체된 지역경제 활성화를 위해서도 발전소는 건립돼야 한다”며“정부의 인허가 업무가 신속히 처리될 수 있도록 지원해줄 것”을 요청했다.', '이어“정 의원이 지역구에서 발전소 반대대책위원회와는 소통하면서, 유치를 찬성하는 지역민과 불통하는 처사는 유감스러운 일”이라고 주장했다.', '더나가“발전소와 인접한 지역주민들의 여론을 주시해줄 것”과“적극적인 소통으로 바이오매스 발전소 인허가 업무가 신속히 처리될 수 있도록 지원해주길 바란다”고 덧붙였다.', '한편 광양바이오매스발전소는 광양그린에너지가 광양경제청으로부터 개발행위를 허가 받아, 황금일반산업단지 내 14만3653㎡부지에 6820억원을 투자해 건립할 계획이다.', '올해 안에 산자부로부터 발전소 건설 인허가를 받고, 내년 초 착공해 2021년 말 준공될 예정인 것으로 알려졌다.']\n",
      "\n",
      "추출요약:\n",
      "['골약동상생협의회(대표 백윤식)가 황금산단에 들어설 바이오매스발전소 건립 인허가 지원을 요구하며 국회 앞 상경 집회를 진행했다.', '협의회는“자녀의 일자리 창출과 침체된 지역경제 활성화를 위해서도 발전소는 건립돼야 한다”며“정부의 인허가 업무가 신속히 처리될 수 있도록 지원해줄 것”을 요청했다.', '더나가“발전소와 인접한 지역주민들의 여론을 주시해줄 것”과“적극적인 소통으로 바이오매스 발전소 인허가 업무가 신속히 처리될 수 있도록 지원해주길 바란다”고 덧붙였다.']\n",
      "\n",
      "생성요약\n",
      "['골약동상생협의회가 일자리 창출과 지역경제 활성화를 이유로 바이오매스발전소 건립 인허가 지원을 요구하며 국회 앞 상경 집회를 진행했다.']\n",
      "원문:\n",
      "['김호 기자 호수 803 “밝은 소식 전해주는 메신저 역할 즐거워”', '전국 1만6천 집배원 중 10명“직원들에게 영광 돌린다”', '전국 1만6000명 집배원을 대상으로 우정사업본부가 실시한‘2018년도 집배원 연도대상’에서 광양목성우체국 오병철 목성2팀장(48)이 장관상을 수상해 화제다.', '전국에서 10명의 집배원을 선정하는 연도대상은 우정사업본부가 우편배달 업무와 지역사회 봉사활동을 통해 고객감동 실현한 집배원을 선발하는 의미 있는 상이다.', '올해로 25년째 집배업무를 담당하고 있는 오병철 팀장은‘집배원 365봉사단원’으로서 광양장애인재활센터에 지속적으로 기부활동을 해오는 등 도움이 필요한 곳에 물심양면 봉사를 펼쳐온 공로를 인정받았다.', '특히 집배구역 내 한우축사 화재를 신속하게 신고하고 초동조치 및 119 화재진압 기여를 통해 한우 30여 마리를 대피시키는 등 지역민과 함께하는 공직자상 정립에 모범을 보인 점이 높은 점수를 받은 것으로 알려졌다.', '이와함께 우편신뢰성 향상과 직원 간 화합 및 활기찬 직장분위기 조성 노력, 각종 우정사업 실적 향상 등의 공로도 집배원 연도대상 선정에 기여했다.', '황미숙 광양목성우체국장은“오병철 팀장은 기본에 충실한 업무자세로 우체국 본연의 일인 우편 신뢰성 향상과 우편 안전사고 예방에 남다른 열의와 노력을 보이고 있다”며“특히 온화한 성품과 바른 행동으로 지속적인 봉사활동 참여를 통해‘훌륭한 집배원’이라는 칭찬이 자자하다”고 소개했다.', '광양읍 초남이 고향으로 광양 토박이라는 오 팀장은“모든 직원이 함께 열심히 근무하고 있고 특별히 더 잘한 게 없는데 큰 상을 받게 돼 얼떨떨하다”며“함께 고생하고 있는 직원들에게 감사하고 이 영광을 함께 나누고 싶다”는 소감을 전했다.', '오 팀장은“항상 집배원 업무에 대해 자부심과 긍지 갖고 즐겁게 일하고 있다”며“남은 10여년의 근무기간 동안에도 최선을 다해 밝은 소식을 전해주는 메신저 역할을 충실히 해 갈 것”이라는 포부를 밝혔다.']\n",
      "\n",
      "추출요약:\n",
      "['전국 1만6000명 집배원을 대상으로 우정사업본부가 실시한‘2018년도 집배원 연도대상’에서 광양목성우체국 오병철 목성2팀장(48)이 장관상을 수상해 화제다.', '전국에서 10명의 집배원을 선정하는 연도대상은 우정사업본부가 우편배달 업무와 지역사회 봉사활동을 통해 고객감동 실현한 집배원을 선발하는 의미 있는 상이다.', '이와함께 우편신뢰성 향상과 직원 간 화합 및 활기찬 직장분위기 조성 노력, 각종 우정사업 실적 향상 등의 공로도 집배원 연도대상 선정에 기여했다.']\n",
      "\n",
      "생성요약\n",
      "[\"우정사업본부는 우수 집배원을 선발하는 '2018년도 집배원 연도대상'에서  광양목성우체국 오별철 목성제2팀장에게 장관상을 수여했다. \"]\n"
     ]
    }
   ],
   "source": [
    "#- 가독성 4점 이상 (약 16만7천개)\n",
    "tmp = df[df['readable'] >= 4].reset_index()\n",
    "tmp.shape\n",
    "\n",
    "cnt = 0\n",
    "for i in range(0,tmp.shape[0],100):\n",
    "    cnt += 1\n",
    "    print(f\"원문:\\n{tmp['origin'][i]}\\n\\n추출요약:\\n{tmp['ext_sum'][i]}\\n\\n생성요약\\n{tmp['abs_sum'][i]}\")\n",
    "    if cnt > 5:\n",
    "        break"
   ]
  },
  {
   "cell_type": "code",
   "execution_count": 36,
   "id": "amended-button",
   "metadata": {},
   "outputs": [
    {
     "name": "stdout",
     "output_type": "stream",
     "text": [
      "(3388, 16)\n",
      "원문:\n",
      "['이성훈 sinawi@hanmail.net', '광양시가 취업준비생과 사회초년생, 독신근로자의 주거비 부담을 덜어주는 청년주택자금 대출이자 지원 사업을 오는 16일부터 접수 받는다.', '기초 자치단체에서는 최초로 시행하는 이번 사업은‘청년희망 행복광양’기본계획의 하나다.', '시는 지난해 청년실태 조사에서 나타난 경제적으로 취약한 취업준비생 등을 대상으로 주거생활 안정을 도모하고, 청년들의 사회적응과 정착 지원을 위해 마련됐다.', '신청대상은 주거전용면적이 85㎡ 이하의 공동주택과 단독주택이다.', '구입자금으로는 주택가격은 3억원 이하, 전세자금은 2억원 이하의 주택 또는 주거용 오피스텔로, 광양시에 주소를 둔 만 19~39세 이하 무주택 세대주인 청년이면 가능하다.', '자격 요건으로는‘취업준비생’은 미혼자이면서 무소득·무주택 세대주로서 부모 합산 연소득 6000만원 이하다.', '‘사회초년생’은 첫 취업 후 5년 이내의 무주택 세대주로서 본인 연소득 4000만원 이하이거나 부부합산 연소득 7000만원 이하면 신청할 수 있다.', '‘독신근로자’는 취업 후 5년 이상 근로한 관내 거주 독신근로자인 무주택 세대주로서 본인 연소득 5000만원 이하인 청년이면 신청이 가능하다.', '신청은 오는 16일부터 2월 2일까지 신청서와 관련서류 등을 지참해 시청 전략정책담당관실로 방문해 접수하면 된다.', '접수된 서류는 시에서 청년주택 자금대출 이자지원 대상자를 적격여부인지를 심사해 대상여부를 통보하며, 신청자는 신한은행을 방문해 대출 신청을 하면 된다.', '대출 심사 결과 이차보전 대상자로 최종 선정될 경우 이자율 최대 3%로 구입자금은 연 300만원까지 3년간, 전세자금은 연 150만원까지 2년간 지원받을 수 있게 된다.', '특히, 대출이자 지원 기한을 연장할 경우에는 청년주택 구입자금으로 5년간 최대 1500만원, 전세자금 이자지원으로는 4년간 최대 600만원까지 지원받을 수 있다.', '윤영학 전략정책담당관은“이번 지원사업이 그동안 대출 부담으로 내 집 마련을 미루고 있던 청년들이 내 집 마련의 기회를 얻을 수 있게 됐다”며 “시는 앞으로도 신산업 분야 기술 인력 양성 사업, 청년활동 지원 사업 등 4대 분야 43개 청년정책 사업을 본격적으로 시행해 청년 희망도시의 면모를 갖춰나가겠다”고 말했다.', '청년주택자금 대출이자 지원 사업에 관한 자세한 사항이나 관련 서류는 시청 홈페이지 공고란을 참고하면 된다.', '문의 전략정책담당관 797-1989']\n",
      "\n",
      "추출요약:\n",
      "['광양시가 취업준비생과 사회초년생, 독신근로자의 주거비 부담을 덜어주는 청년주택자금 대출이자 지원 사업을 오는 16일부터 접수 받는다.', '자격 요건으로는‘취업준비생’은 미혼자이면서 무소득·무주택 세대주로서 부모 합산 연소득 6000만원 이하다.', '신청은 오는 16일부터 2월 2일까지 신청서와 관련서류 등을 지참해 시청 전략정책담당관실로 방문해 접수하면 된다.']\n",
      "\n",
      "생성요약\n",
      "['광양시가 오는 16일부터 주거생활 안정을 위해 경제적 취약층을 대상으로 지원사업을 접수받는다. ']\n",
      "원문:\n",
      "['황보라♥차현우 오래 사귄 비결…하루 1만 보 못 채우면 벌금 1만 원, 하정우 걷기 모임', '황보라는 #오늘도 걷는여자 4만보”라는 글과 함께 사진 한 장을 게재했다.', '황보라 인스타그램', '18일 황보라와 그의 남자친구 차현우, 그리고 차현우의 형인 하정우가 주목받고 있다.', '황보라는 18일 언론 인터뷰를 통해 7년째 열애 중인 남자친구 차현우와 결혼하고 싶다는 뜻을 밝힌 가운데 그들의 오래된 인연이 궁금증을 낳는다.', '지난해 SBS플러스 ‘걷는 재미에 빠지다 - 두발라이프’에서는 걷기모임을 통해 잠원에서 강일까지 40km를 걸은 황보라 모습이 그려졌다.', '이날 황보라와 걷기모임 멤버들은 도착 2시간을 앞두고 식당을 예약했다.', '가게에 도착하자 식당 주인은 하정우를 찾았다.', '주인은 “오늘은 왜 안 오셨냐” 물었고 황보라는 “정우 오빠가 촬영이 있어서 오늘은 못 왔다.', '다음에는 같이 오겠다”며 “하정우 오빠가 교장 선생님인데 항상 같이 온다”고 덧붙였다.', '앞서 황보라는 인터뷰에서 연인 차현우(김영훈)과의 오랜 연애의 비결로 “자주 모임을 갖게 되는 것이 아닌가 싶다”고 밝혔다.', '이 모임은 하루 1만 보를 채우지 못하면 벌금 1만원을 내야 한다는 규칙을 정해 건강과 친목을 도모하고 있다.', '황보라와 차현우(김영훈)는 공개 연애 중이며, 7년째 사랑을 이어오고 있다.', '배우 하정우의 친동생이기도 한 차현우는 배우에서 영화 제작자로 전향했으며 이름도 김영훈으로 바꿨다.', '이수환 기자 .']\n",
      "\n",
      "추출요약:\n",
      "['황보라는 18일 언론 인터뷰를 통해 7년째 열애 중인 남자친구 차현우와 결혼하고 싶다는 뜻을 밝힌 가운데 그들의 오래된 인연이 궁금증을 낳는다.', '지난해 SBS플러스 ‘걷는 재미에 빠지다 - 두발라이프’에서는 걷기모임을 통해 잠원에서 강일까지 40km를 걸은 황보라 모습이 그려졌다.', '이 모임은 하루 1만 보를 채우지 못하면 벌금 1만원을 내야 한다는 규칙을 정해 건강과 친목을 도모하고 있다.']\n",
      "\n",
      "생성요약\n",
      "[\"황보라는 18일 언론 인터뷰에서 '하정우 걷기모임'을 통해 인연을 이어오며 7년째 열애 중인 남자친구 차현우와 결혼하고 싶다는 뜻을 밝혔다. \"]\n",
      "원문:\n",
      "['■ 부천 범박동 일루미스테이트 현대건설 컨소시엄(현대건설·두산건설·코오롱글로벌)이 8월 중 부천시 범박동 39번지(계수·범박 재개발구역) 일원에서 ‘일루미스테이트’를 분양할 예정이다.', '‘일루미스테이트’는 지하 4층·지상 29층 37개 동, 총 4개 단지 3천724가구 규모로 이 중 전용면적 39~84㎡ 2천509가구가 일반분양된다.', '특히 수도권 비조정대상지역인 부천에 최대 브랜드 단지로 조성되는데다, 일반분양 전체가 85㎡ 이하 중소형으로 구성돼 수요자들의 높은 관심이 예상된다.', '# 신 주거벨트 중심… 서울 등 접근성 우수', '‘일루미스테이트’는 옥길지구~계수·범박지구~항동지구를 아우르는 신(新)주거벨트의 중심 입지에 들어선다.', '계수·범박지구는 옥길지구(7천635가구 예정)와 서울 항동지구(4천827가구 예정)가 인접해 있으며, 그 중심 입지에 위치한 ‘일루미스테이트’까지 입주 완료되면 총 1만6천여 가구의 신흥 주거타운으로 완성된다.', '서울 접근성도 우수하다.', '단지에서 약 200m 거리에 시흥~구로를 잇는 서해안로가 자리잡고 있어 자가용으로 서울 구로구 약 10분대, 양천구 약 20분대, 강서구는 약 30분대 이동이 가능하다.', '또한 단지에서 약 1.8㎞ 거리에 서울외곽순환고속도로 시흥나들목이 있고, 제2경인고속도로 광명나들목도 가까이 있어 이를 통해 시흥·광명·인천 등으로의 접근이 수월하다.', '# 우수한 교육 인프라… 쾌적한 원스톱 생활', '우수한 교육환경도 ‘일루미스테이트’의 강점이다.', '4단지 내 초등학교 부지가 계획돼 있는 것을 비롯해 단지에서 도보 5분 이내 거리에 범박초·범박중(2021년 예정)·범박고가 있어 자녀들의 안전한 도보 통학이 가능하다.', '생활편의성도 좋아 도보 10분대 거리에 스타필드 시티 부천(2019년 9월 예정)이 위치한다.', '이 외에도 홈플러스(역곡점), 뉴코아백화점(부천점), 이마트(부천점), 가톨릭대 부천성모병원 등을 이용할 수 있다.', '또한 단지 내 2개 공원이 조성될 계획이고 성주산, 소래산, 항동저수지 등을 비롯해 남부수자원생태공원, 괴안체육공원, 소사대공원 등이 있어 휴식 및 산책 등을 즐길 수 있다.', '# 다양한 커뮤니티-차별화된 특화 시스템', '‘일루미스테이트’는 단지 내 다양한 커뮤니티시설을 자랑한다.', '스크린골프장, 피트니스센터, GX룸, 도서관 등을 비롯해 클럽하우스, 맘스카페, 키즈클럽 등 특화 커뮤니티도 들어선다.', '특히 4단지의 경우 교육특화인 북카페, 남녀 독서실, 스터디룸, 동호회실 등이 함께 조성된다.', '‘일루미스테이트’의 분양홍보관은 부천시 중동 신흥로 150-1 위브더스테이트 상가 8동 313호에 마련돼 있으며, 현재 사전 분양 상담이 가능하다.', '견본주택은 부천시 소사구 계수동 1-20에 8월 중 오픈할 예정이다.', '분양 문의:☎1588-5207', '<부천>', '기호일보, KIHOILBO']\n",
      "\n",
      "추출요약:\n",
      "['■ 부천 범박동 일루미스테이트 현대건설 컨소시엄(현대건설·두산건설·코오롱글로벌)이 8월 중 부천시 범박동 39번지(계수·범박 재개발구역) 일원에서 ‘일루미스테이트’를 분양할 예정이다.', '‘일루미스테이트’는 옥길지구~계수·범박지구~항동지구를 아우르는 신(新)주거벨트의 중심 입지에 들어선다.', '우수한 교육환경도 ‘일루미스테이트’의 강점이다.']\n",
      "\n",
      "생성요약\n",
      "[\"현대건설 컨소시엄은 8월 중 옥길지구~항동지구의 신(新)주거벨트의 중심 단지에 교육환경과 생활 인프라가 탄탄한 '일루미스테이트'를 분양할 것이라고 전했다.\"]\n",
      "원문:\n",
      "['이창호 기자', '고남석 구청장, 임병택 시장 찾아 지역 환경 현안·협력방안 등 논의 주변 도시와 협의체 구성 계획도', '인천시 연수구는 시흥시 등 주변 도시들과 함께 환경대응협의체 구성하는 등 악취 문제에 공동 대응하기로 했다고 17일 밝혔다.', '구는 환경개선기금 등 지역 내 대기질 개선에 적극 사용될 수 있도록 환경부, 한국수자원공사 등의 협조를 끌어내는데 주변 도시들과 함께 노력할 방침이다.', '고남석 구청장은 지난 16일 시흥시청을 방문해 임병택 시장과 악취문제 개선 등 지역의 환경현안들에 대한 의견을 나누고 깊이 있는 협력방안에 대해 논의했다.', '구와 시흥시는 송도국제도시 11공구 습지를 사이에 두고 환경적으로 밀접한 관계에 있다.', '고 청장과 임 시장은 악취문제와 습지생태도시 활성화 방안을 함께 고민하는 등 환경문제를 비롯한 지역 현안들을 서로 공유하기로 했다.', '고 청장은 최근 송도지역 악취 문제의 심각성을 전달하고 시흥시뿐 아니라 인접지역까지 포함한 환경대응협의체를 구성하는 등 환경피해 대응방안을 제안했다.', '또 시흥시 악취관리센터를 방문해 시흥시의 악취개선사업 현황과 대응시스템을 둘러봤다.', '시화산단 악취유발 사업장을 둘러보고 철저한 관리운영을 당부했다.', '한편, 시흥시 시화산단에는 목재 종이업을 비롯해 기계, 전기 전자, 철강, 석유화학, 섬유의복 등 1만1천732개 사업체가 가동 중이다.', '이창호 기자 ych23@kihoilbo.co.kr']\n",
      "\n",
      "추출요약:\n",
      "['인천시 연수구는 시흥시 등 주변 도시들과 함께 환경대응협의체 구성하는 등 악취 문제에 공동 대응하기로 했다고 17일 밝혔다.', '구는 환경개선기금 등 지역 내 대기질 개선에 적극 사용될 수 있도록 환경부, 한국수자원공사 등의 협조를 끌어내는데 주변 도시들과 함께 노력할 방침이다.', '고 청장은 최근 송도지역 악취 문제의 심각성을 전달하고 시흥시뿐 아니라 인접지역까지 포함한 환경대응협의체를 구성하는 등 환경피해 대응방안을 제안했다.']\n",
      "\n",
      "생성요약\n",
      "['고 청장은 송도 지역 악취 문제의 심각성을 전달하고 시흥시와 주변지역까지 포함하여 환경피해 대응방안을 제안하여 시흥시 등 주변지역들과 함께 악취 문제에 대응하기로 했으며 연수구는 주변 도시들과 함께  지역내 대기질 개선에 적극적으로 노력 한다고 한다.']\n",
      "원문:\n",
      "['기호일보', '김선석 영종하늘도서관 관장/도시계획학 박사', '김선석 영종하늘도서관 관장', '요즘 현대인들은 참으로 바쁘게 살고 있습니다.', '학생들은 학교 시험이나 입시를 위해 밤늦게까지 공부를 하고, 직장인들은 회사 일에 온 정신을 쏟아야 합니다.', '신속성, 생산성, 탁월성 등을 중시하는 시대.', '예전보다 더 많은 것을 요구하는 사회이기 때문이겠지요.', '덕분에 19세기 초 마차를 대신한 증기기관차가 달리는 시대를 거쳐, 공장에서는 수많은 생산품이 쏟아지고, 시공간을 초월한 인터넷 세상이 되더니, 이제는 그토록 믿었던 인간의 능력을 넘나드는 인공지능(AI) 등이 세상을 더욱 편리하게 변화시키고 있습니다.', '그렇다면 우리는 시대적 요구에 어떻게 대응해 나가는 것이 바람직할까요?', '근대 철학자 데카르트가 \"좋은 책을 읽는 것은 가장 뛰어난 사람과 대화를 나누는 것과 같다\"고 강조한 것처럼 그 방안의 한 가지가 독서입니다.', '독서는 자신이 이루고 싶은 목표를 향해 나아가게 하는 최고의 도구입니다.', '하지만 대부분 독서시간을 내기가 어렵다고 말합니다.', '그렇다면 어떻게 시간을 낼까요?', '바로 아침 시간을 활용하는 것입니다.', '아침은 대부분 타의가 아닌 스스로 할 수 있는 기회의 시간이기 때문입니다.', '지금부터 아침 시간을 활용한 독서 방법을 소개합니다.', '우선 잠자기 전 아침에 읽고 싶은 책 서너 권을 정해 책상 위에 눈에 띄게 나란히 놓습니다.', '책은 가장 관심 있는 분야나 하는 일에 도움을 주는 것을 선택합니다.', '그리고 다음 날 잠에서 깨어나자마자 의식적으로 책상 앞에 앉습니다.', '어제 골라 놓은 책 가운데 마음에 끌리는 한 권을 택해서 읽기 시작합니다.', '처음에는 책의 내용이 머릿속에 잘 들어오지 않을 것입니다.', '마치 시동을 켜고 서서히 출발하는 자동차처럼 독서도 마찬가지입니다.', '이때 독서 속도는 ‘천천히 읽기(Slow Reading)’를 적극 추천합니다.', '이 방법은 겉핥기 식에서 벗어나 책의 내용을 제대로 이해해 생각하는 힘을 길러 주기 때문입니다.', '그리고 책을 읽어 가면서 중요한 부분 등에 밑줄을 긋고 메모하며 읽는다면 더 많은 정보를 시각화해 기억할 수 있습니다.', '하지만 읽기가 싫어지면 어떻게 해야 할까요?', '시도해 볼 만한 답이 있습니다.', '의식적으로 ‘책을 읽고 싶다’를 마음속으로 반복해서 되새깁니다.', '이 의식훈련은 미 스탠퍼드대 버나드 로스 교수가 제시한 것으로 스스로 선택한 어떤 계획을 실천하는데 대단히 효과적입니다.', '이런 식으로 처음에는 10분만 읽겠다고 마음을 다독이고, 날이 갈수록 차츰 20분, 30분씩 시간을 늘려 나갑니다.', '아침 독서 후 집 밖으로 나갈 때는 조금 전에 읽었던 부분을 가벼운 마음으로 떠올려 봅니다.', '처음에는 잘 떠오르지 않습니다.', '하지만 매일 반복해 보면 읽은 내용이 점점 머릿속에서 많이 기억나는 것을 느낄 수 있습니다.', '어쩌다 아침 독서를 하지 못한 날이 생긴다면?', '이때는 책의 목차 중에서 가장 읽고 싶은 주제 한두 개를 골라 스마트폰으로 찍어 지하철 등에서 읽는 것도 좋은 방법입니다.', '이런 방법이 귀찮다면 오디오북이나 전자책을 통해서 읽는 것을 권장합니다.', '세계는 사람들이 창조해 나가는 변화의 공간입니다.', '독서는 나만의 세계를 더 나은 방향으로 변화시키는 원동력입니다.', '내 안의 가능성과 잠재력을 키워나갈 수 있는 독서, 특히 스스로 하는 아침 독서는 의지만 있다면 지속성이 있어 나만의 경쟁력을 키우는데 큰 보탬이 될 것입니다.', '열정이 없으면 성취도 없습니다.', '우리에게 매일 찾아오는 아침.', '아침 시간을 생산적으로 쓰겠다는 마음도, 어떤 일을 시작하겠다는 계획도, 알고 보면 스스로 만드는 것입니다.', '벌써 한 해를 보내는 마지막 날입니다.', '다가오는 새해에는 세상을 만드는 독서, 아침 독서로 미래의 삶을 스스로 변화시켜 나가면 어떨까요?']\n",
      "\n",
      "추출요약:\n",
      "['독서는 자신이 이루고 싶은 목표를 향해 나아가게 하는 최고의 도구입니다.', '지금부터 아침 시간을 활용한 독서 방법을 소개합니다.', '독서는 나만의 세계를 더 나은 방향으로 변화시키는 원동력입니다.']\n",
      "\n",
      "생성요약\n",
      "['독서는 자신이 이루고 싶은 목표를 향해 나아가게 하는 최고의 도구이므로 아침 시간을 활용하여 독서를 한다면 나만의 세계를 더 나은 방향으로 변화시킬 수 있다.']\n",
      "원문:\n",
      "['윤종채 기자', '내년 광양시에 개교 한국창의예술고등학교 입학설명회 성료', '러시아 상트페테르부르크 음악원 MOU 기념 음악회 함께 열어', '전남도교육청과 광양시는 18일 광양 백운아트홀에서 한국창의예술고등학교 입학설명회를 성황리에 열었다고 밝혔다.', '입학설명회에는 장석웅 전남도 교육감과 정현복 광양시장을 비롯해 한국예술고 진학을 희망하는 중학생, 학부모, 교육 관계자, 시민 등 800여 명이 참석했다.', '이날 행사는 한국창의예술고와 러시아 상트페테르부르크 국립음악원과 업무협약을 기념하는 음악회가 함께 열려 예술고 입학을 희망하는 학생들에게 큰 호응을 얻었다.', '기념음악회는 러시아 상트페테르부르크 국립음악원의 한국 유학생이 주축이 된 ‘림코앙상블’가 맡았다.', '알렉세이 N.바실리에프 상트페테르부르크 국립음악원 총장은 축하 영상 메시지를 통해 “이번 음악회가 전남도교육청·광양시와 파트너십이 더욱 강화되는 계기가 되기를 바란다”며 “한국창의예술고의 발전을 위해 지원을 아끼지 않겠다”며 빠른 시일내 한국창의예술고에 방문하고 싶다는 뜻을 전했다.', '정현복 광양시장은 “한국창의예술고 발전을 위해 우수 강사 확보, 운영 계획 수립 등 행·재정적 지원을 아끼지 않고 있다”며 “젊은 예술인들의 꿈과 열정이 광양 창의예술고에서 실현되기를 바란다”고 말했다.', '2020년 광양시에 개교하는 한국창의예술고는 심미적 감성을 갖춘 창의 예술인 양성을 목표로 전국 단위 모집을 통해 창의음악과 2학급, 창의미술과 1학급 등 총 3학급 60명을 모집한다.', '세부 전공별로는 창의음악과에 성악 8명, 피아노 9명, 관악 5명, 현악 7명, 타악 1명, 창작 4명, 실용음악 6명 등 40명을 선발한다.', '창의미술과의 경우 20명의 신입생을 선발한 뒤, 2학년부터 조소, 서양화, 한국화, 디자인, 애니메이션, 미디어아트 등 세부전공으로 구분해 교육의 깊이를 더할 예정이다.', '응시원서는 오는 10월 21~ 24일 접수하며, 31일 실기고사를 실시하고 11월 11일 최종합격자를 발표할 예정이다.', '자세한 세부 전공별 실기고사 전형은 한국창의예술고등학교 홈페이지 입학 전형 코너를 참조하면 된다.', '한편, 전남도교육청과 광양시는 지난 5월 러시아 상트페테르부르크 국립음악원과 업무협약(MOU) 체결을 통해 우수한 교수진을 확보했으며, 학생들의 교류 활동기반을 구축하는 등 한국창의예술고의 발전을 위해 힘을 모아왔다.', '또한 광양시는 예술중학교를 광양시 지역내에 조기 개교해 전남 예술교육을 이끌어 나갈 방침이다.', '동부취재본부/윤종채 기자 yjc@namdonews.com', '윤종채 기자 yjc@namdonews.com']\n",
      "\n",
      "추출요약:\n",
      "['전남도교육청과 광양시는 18일 광양 백운아트홀에서 한국창의예술고등학교 입학설명회를 성황리에 열었다고 밝혔다.', '입학설명회에는 장석웅 전남도 교육감과 정현복 광양시장을 비롯해 한국예술고 진학을 희망하는 중학생, 학부모, 교육 관계자, 시민 등 800여 명이 참석했다.', '이날 행사는 한국창의예술고와 러시아 상트페테르부르크 국립음악원과 업무협약을 기념하는 음악회가 함께 열려 예술고 입학을 희망하는 학생들에게 큰 호응을 얻었다.']\n",
      "\n",
      "생성요약\n",
      "['전남도교육청과 광양시는 전남도 교육감과 광양시장 등 800여 명이 참석한 한국창의예술고등학교 입학설명회를 성황리에 열었고, 이날 행사의 기념하는 음악회가 열려 입학을 희망하는 학생들에게 큰 호응을 얻었다.']\n"
     ]
    }
   ],
   "source": [
    "#- 가독성 1점 (약 3천4백개)\n",
    "tmp = df[df['readable'] == 1].reset_index()\n",
    "print(tmp.shape)\n",
    "\n",
    "cnt = 0\n",
    "for i in range(0,tmp.shape[0],100):\n",
    "    cnt += 1\n",
    "    print(f\"원문:\\n{tmp['origin'][i]}\\n\\n추출요약:\\n{tmp['ext_sum'][i]}\\n\\n생성요약\\n{tmp['abs_sum'][i]}\")\n",
    "    if cnt > 5:\n",
    "        break"
   ]
  },
  {
   "cell_type": "code",
   "execution_count": 37,
   "id": "composite-bumper",
   "metadata": {
    "scrolled": false
   },
   "outputs": [
    {
     "name": "stdout",
     "output_type": "stream",
     "text": [
      "(104355, 16)\n",
      "원문:\n",
      "['8억 투입, 고소천사벽화·자산마을에 색채 입혀', '이성훈 sinawi@hanmail.net', '여수시는 원도심 일대에서 추진된 컬러빌리지 사업을 지난해 말 마무리하며 색채와 빛의 도시를 완성했다.', '시에 따르면 총 사업비 8억원이 투입된 컬러빌리지 사업은‘낮에는 색채, 밤에는 빛’을 주제로 지난해 초 착공에 들어갔다.', '컬러빌리지는 색채를 이용한 경관개선사업으로 사업완료에 따라 고소천사벽화마을과 자산마을은 알록달록 색깔 옷을 입었다.', '특히 자산마을 주택 70여 동은 동백꽃 색으로 새 단장을 마쳤다.', '마을 옆을 지나는 해상케이블카에서 내려다보면 동백꽃 한 송이가 피어있는 모습으로 SNS 등을 통해 입소문을 타고 있다.', '고소천사벽화마을 주택 130여 동도 지붕은 동백꽃 색, 벽면은 파스텔 톤 색상으로 변신해 이국적인 분위기를 내고 있다.', '마을 내 옹벽과 비탈면은 패턴벽화와 야간조명이 설치돼 포토존으로 인기를 끌고 있다.', '컬러빌리지 사업은 추진 전반에 마을 주민이 적극 참여했다는 점에서 좋은 평가를 받고 있다.', '시는 사업대상이 사유시설인 만큼 계획단계부터 주민들의 의견을 들었다.', '사업 시행과 준공 과정에서도 주민들의 참여를 유도해 민관이 함께 만들어가는 경관사업의 좋은 사례를 만들었다.', '시 관계자는“컬러빌리지 사업은 주민들의 적극적인 관심과 참여가 만들어낸 값진 성과물”이라며“돌산공원, 해상케이블카, 남산공원, 돌산대교 등에서 빛과 색채로 물들어가는 여수의 낭만을 만끽하시기 바란다”고 말했다.']\n",
      "\n",
      "추출요약:\n",
      "['여수시는 원도심 일대에서 추진된 컬러빌리지 사업을 지난해 말 마무리하며 색채와 빛의 도시를 완성했다.', '컬러빌리지는 색채를 이용한 경관개선사업으로 사업완료에 따라 고소천사벽화마을과 자산마을은 알록달록 색깔 옷을 입었다.', '사업 시행과 준공 과정에서도 주민들의 참여를 유도해 민관이 함께 만들어가는 경관사업의 좋은 사례를 만들었다.']\n",
      "\n",
      "생성요약\n",
      "['여수시는 컬러빌리지 사업에 8억원을 투입하여 ‘색채와 빛’ 도시를 완성하여 고소천사벽화마을과 자산마을은 알록달록 색깔 옷을 입었고 사업 시행과 준공 과정에서도 주민들의 참여를 유도해 경관사업의 좋은 사례를 만들었다.']\n",
      "원문:\n",
      "['너비 1미터 남짓…상인들, 비좁은 진열대 놓고‘갈등’', '김영신 기자 yskim0966@naver.com', '매화축제를 전후로 열리고 있는 직거래장터 판매부스 공간이 비좁아 상인들의 불만이 크다.', '너비 1미터 남짓한 진열대 두개가 나란히 들어 선 판매부스는 농산물을 진열하기에도 부족할 뿐 아니라 진열대 사이를 오가며 진열된 상품을 관리하기에도 불편해 상인과 관광객들도 큰 불편을 겪고 있다.', '주민들이 축제기간 중 직거래장터에서 올리는 수익은 하루 평균 20만원에서 30만원으로 농가에 많은 도움이 되고 있다.', '이렇다 보니 물건을 하나라도 더 진열하려는 상인들끼리 아침마다 진열대를 사이에 놓고 갈등을 빚고 있다.', '축제기간 중 매일 주민들의 직거래 장터를 살펴 본 다압면 A이장은 장터를 다녀올 때 마다 속상하다고 말한다.', 'A이장은“마을 어른들이 직거래장터를 열기 위해 아침 9시에 나가서 저녁 6시쯤 마을로 돌아온다.', '좁은 진열대 위에 물건을 하나라도 더 올려놓으려고 아침부터 서로 다투는 모습을 보면 속상하다”고 말했다.', '구경하는 관광객들에게 상품을 설명하려면 같은 판매부스에 나란히 붙어 있는 옆 사람 진열대를 조심스럽게 지나야 하는데 좁은 공간을 오가다 보니 옆 진열대에 놓인 다른 주민의 상품이 바닥으로 떨어지기도 한다.', '식품류는 그나마 키가 작아 괜찮지만 묘목의 경우는 꽃이 떨어지면 상품성이 떨어져 팔수가 없는 상황이다.', '이에 다압면 상인들은“올해는 이미 판매부스를 확정하고 축제를 진행했기 때문에 감수하겠지만 내년 축제부터는 판매부스 공간을 좀 더 넓혀 상인과 관광객들이 불편함 없이 즐거운 마음으로 매화축제를 즐겼으면 좋겠다”고 입을 모았다.', '농특산물 직거래장터는 시와 자매시의 우수 농·특산물을 홍보해 인지도를 높이고 소비 확대를 통한 농가소득증대를 위해 마련됐다.', '농특산물 직거래장터에는 지역농가와 사회적 기업, 마을기업 등 13개 업체와 자매도시인 파주시가 참가한 가운데 지역에서 생산한 우수 농·특산물을 시중보다 저렴하게 판매하고 있다.']\n",
      "\n",
      "추출요약:\n",
      "['너비 1미터 남짓한 진열대 두개가 나란히 들어 선 판매부스는 농산물을 진열하기에도 부족할 뿐 아니라 진열대 사이를 오가며 진열된 상품을 관리하기에도 불편해 상인과 관광객들도 큰 불편을 겪고 있다.', '이렇다 보니 물건을 하나라도 더 진열하려는 상인들끼리 아침마다 진열대를 사이에 놓고 갈등을 빚고 있다.', '구경하는 관광객들에게 상품을 설명하려면 같은 판매부스에 나란히 붙어 있는 옆 사람 진열대를 조심스럽게 지나야 하는데 좁은 공간을 오가다 보니 옆 진열대에 놓인 다른 주민의 상품이 바닥으로 떨어지기도 한다.']\n",
      "\n",
      "생성요약\n",
      "['매화축제를 전후로 열리고 있는 직거래 장터 판매부스는 진열 공간이 부족할 뿐 아니라 관리도 불편해 상인과 관광객들이 불편을 겪고 있다.']\n",
      "원문:\n",
      "['123일간 130곳 540명 기부…“감사드린다”', '이정교 기자 shado262@naver.com', '광양 평화의 소녀상 건립추진위원회가 지난 3월 1일 광양역사문화관 앞에서 제막식을 갖고 광양 평화의 소녀상을 건립한 가운데, 그동안 지역 참여와 과정의 역사가 담긴 건립백서를 발간했다.', '광양평화의소녀상 건립백서', '건립백서에는 발족식부터 시민모금운동 활동사진 및 소녀상 제작과정까지 소녀상과 관련한 모든 기록과 그동안의 추진위 경과보고, 국내외 평화비 건립현황 등이 담겨있다.', '강용재 추진위 상임대표는 발간사를 통해 “위안부 피해 할머니들은 30명도 채 남지 않았다”며 “광양 평화의 소녀상을 통해 위안부 피해 할머니들의 바람을 기억하고‘역사를 기억하는 시민’으로 후손들에게 전해지길 소망한다”고 전했다.', '노성희 집행위원장은“광양 평화의 소녀상은 지역 어린아이의 고사리 같은 손길부터 어르신들의 쌈짓돈이 모여 광양시민의 평화 의지를 보였다”며“무명으로 입금해준 광양시민 한분 한분 모두 감사드린다”고 말했다.', '한편 광양 평화의 소녀상은 지난해 10월 24일 발대식부터 올해 2월까지 123일 동안 지역의 학교와 기업, 기관·단체 등 142곳과 600여명의 개인이 참여해 1억380여만원을 모금했다.', '추진위는 지난 3월 1일 제막식에 이어 같은 달 30일 해단식과 함께 공식 활동을 종료했다.', '발간된 건립백서는 소녀상 모금에 참여했던 지역 내 기관·단체에 배포되며 타 지역에서 후원에 참가한 단체에는 우편으로 발송될 예정이다.']\n",
      "\n",
      "추출요약:\n",
      "['광양 평화의 소녀상 건립추진위원회가 지난 3월 1일 광양역사문화관 앞에서 제막식을 갖고 광양 평화의 소녀상을 건립한 가운데, 그동안 지역 참여와 과정의 역사가 담긴 건립백서를 발간했다.', '건립백서에는 발족식부터 시민모금운동 활동사진 및 소녀상 제작과정까지 소녀상과 관련한 모든 기록과 그동안의 추진위 경과보고, 국내외 평화비 건립현황 등이 담겨있다.', '강용재 추진위 상임대표는 발간사를 통해 “위안부 피해 할머니들은 30명도 채 남지 않았다”며 “광양 평화의 소녀상을 통해 위안부 피해 할머니들의 바람을 기억하고‘역사를 기억하는 시민’으로 후손들에게 전해지길 소망한다”고 전했다.']\n",
      "\n",
      "생성요약\n",
      "['광양 평화의 소녀상 건립추진위원회가 평화의 소녀상 건립과 더불어 소녀상 제작과정 및 이와 관련된 모든 기록들을 담은 건립백서를 발간하였다.']\n",
      "원문:\n",
      "['푸조?홍가시나무 식재…감성 관광지 각광‘기대’', '김영신 기자 yskim@gynet.co.kr', '매화축제가 열리는 섬진강변 매화마을 입구인 다압면 신원 둔치 제방도로에 명품 가로수길이 준공됐다.', '이번에 조성한 가로수길은‘섬진강 뱃길 복원 및 수상레저 기반 조성사업’의 일환으로 국비 50%를 포함한 총 사업비 7억9700만원의 예산이 투입됐다.', '시에 따르면 매화마을로 가는 길목 약 1km에 신원제방 제내지(하천 제방 안) 쪽으로 우리나라 고유 전통수종인 푸조나무와 상록수인 홍가시나무를 조화롭게 식재했다.', '특히 이번에 조성한 명품 가로수길이 둔치주차장에 주차해 매화마을로 이동하는 관광객들에게 섬진강변과 어우러진 또 다른 볼거리를 제공할 것으로 기대하고 있다.', '더나가 기존의 좁은 인도와 도로가 인접해 있어 교통흐름 방해와 사고 위험이 있었지만, 가로수길 조성으로 내년 봄 축제기간에는 교통흐름이 좀 더 원활해지는 만큼, 관광객들이 안전하게 축제장으로 이동할 수 있을 것으로 보고 있다.', '시는 명품 가로수길을 잘 가꿔 사계절 가족과 연인이 함께 찾는 대표적인 감성 관광지의 하나로 자리매김 될 수 있도록 발전시켜 나갈 계획이다.', '손봉호 관광시설팀장은“이번에 조성한 명품 가로수길이 섬진강변 라이더와 매화마을을 찾는 관광객들에게 특색 있는 힐링공간으로 사랑받게 될 것”이라며“내년에 섬진강뱃길복원사업이 마무리 되면 망덕포구에서 다압면 일대까지의 섬진강 하류지역이 관광과 레포츠를 즐길 수 있는 거점으로 부상하게 될 것으로 기대 한다”고 말했다.', '한편‘섬진강 뱃길복원 및 수상레저 기반 조성사업’은 섬진강의 천혜 자연관광 자원을 활용한 동서통합의 상징지대로 만들기 위해 광양시·하동군·구례군이 총 사업비 200억원을 투입해 추진하고 있다.', '또한 이번 사업에서 85억원을 투입해 나루터 복원 3개소, 수변쉼터, 강수욕장, MTB체험장, 가로수길 등도 조성 중에 있으며, 내년에는 최근 특허공법 심사를 마친 망덕산~배알도수변공원 간 짚와이어 설치를 끝으로 모든 사업을 마무리할 계획이다.', '김영신 기자']\n",
      "\n",
      "추출요약:\n",
      "['매화축제가 열리는 섬진강변 매화마을 입구인 다압면 신원 둔치 제방도로에 명품 가로수길이 준공됐다.', '시에 따르면 매화마을로 가는 길목 약 1km에 신원제방 제내지(하천 제방 안) 쪽으로 우리나라 고유 전통수종인 푸조나무와 상록수인 홍가시나무를 조화롭게 식재했다.', '특히 이번에 조성한 명품 가로수길이 둔치주차장에 주차해 매화마을로 이동하는 관광객들에게 섬진강변과 어우러진 또 다른 볼거리를 제공할 것으로 기대하고 있다.']\n",
      "\n",
      "생성요약\n",
      "['시는 다압면 신원 둔치 제방도로에 푸조나무와 홍가시나무를 조화롭게 식재해 명품 가로수길을 준공하였으며 이는 관광객들에게 또 다른 볼거리를 공유할 수 있다는 기대를 사고 있다.']\n",
      "원문:\n",
      "['김호 기자 호수 805 중도 퇴사 공실…지난 1일부터 선착순 4명', '광양시가 2019년도 광양학사 입사생 수시 모집에 들어갔다.', '시는 지난 2월 정기모집으로 광양학사에 입사한 학생들이 중도 퇴사함에 따라 발생한 공실 2실 총 4명을 수시 모집한다.', '접수기간은 지난 1일부터 선착순으로 운영되고, 입사원서는 시청 교육보육과로 방문 제출하면 된다.', '자격 요건은 선발공고일 기준 부모 또는 보호자가 광양에 주민등록이 되어 있으면서 실제 거주해야 하며, 서울과 경기, 인천소재 2년제 이상 대학교 신입생, 재학생, 대학원생 누구나 가능하다.', '또한 지방대학생이 서울과 경기·인천 소재 2년제 이상 대학교에 1학기 이상 교환 학생으로 재학할 경우와 학업뿐만 아니라 취업관련 연수 또는 실습을 6개월 이상 받을 경우에도 지원신청 가능하다.', '이 밖에도 ‘광양시 향우회 교류 및 지원에 관한 조례’에서 규정하고 있는 향우회 회원 자녀, 서울 및 경인권 소재 입시전문학원에 등록해 대학수학능력시험에 응시 예정인 입시 준비생도 가능하다.', '자세한 사항은 광양시청 홈페이지 공지사항 및 고시·공고란을 통해 확인할 수 있으며, 시청 교육보육과로 문의하면 된다.', '한편 광양학사는 서울시와 광양시 등 전국의 18개 지자체가 참여해 건립한 공공기숙사로 총 193호실을 갖추고 2인/1실 원룸 형태로 구분되어 있다.', '부대시설로는 체력단련실, 도서관, 컴퓨터실, 게스트하우스 등이 있다.', '특히 지하철 5호선 마곡역에서 도보로 10여분 거리에 위치해 1시간 이내에 주요 대학까지 이동 가능하고, 기숙사 주변은 대단위 공동주택과 공원이 조성돼 주거 및 면학 환경에 있어 안전성과 쾌적성을 모두 갖춘 곳이다.']\n",
      "\n",
      "추출요약:\n",
      "['광양시가 2019년도 광양학사 입사생 수시 모집에 들어갔다.', '시는 지난 2월 정기모집으로 광양학사에 입사한 학생들이 중도 퇴사함에 따라 발생한 공실 2실 총 4명을 수시 모집한다.', '자격 요건은 선발공고일 기준 부모 또는 보호자가 광양에 주민등록이 되어 있으면서 실제 거주해야 하며, 서울과 경기, 인천소재 2년제 이상 대학교 신입생, 재학생, 대학원생 누구나 가능하다.']\n",
      "\n",
      "생성요약\n",
      "['광양시가 마곡역에 위치한 광양학사에서 서울,경기, 인천 소재 대학,대학원에 재학중인 광양학생 4명을 수시모집한다고 밝혔다. ']\n",
      "원문:\n",
      "['김호 기자', '부실한 광양시 사업추진 도마', '주민설명회 생략‘행정력 낭비’', '백 의원“주민 입장 정책”주문', '市 “집단민원 거울삼아 소통강화”', '광양시가 지역민 등 이해관계가 얽힌 사업을 진행하는 과정에서 주민을 대상으로 한 사업설명회가 부실해 불필요한 민원 자초 등 행정력 낭비로 이어지고 있다는 지적이다.', '주민설명회가 의무가 아니거나 불필요한 과정이라고 할지라도 민원발생이 예상되는 경우에는 설명회나 주민을 설득하는 절차가 이뤄지는 게 맞는 민원 대응 방법이라는 것이다.', '즉 행정의 업무처리에 대해 그동안 수차례 강조돼 온‘향후에라도 민원 발생이 예상될 경우를 대비해 적극적으로 대응하라’는 원칙을 지키지 못한 것이 원인으로 지적되고 있다.', '더나가 민원 발생이 수요자 중심의 정책이 아닌 공급자의 편의 중심 정책을 펼치는 과정에서 발생한다는 점에서 대민업무 개선 대책이 필요하다는 목소리도 나오고 있다.', '최근 들어 하루가 멀다 하고 벌어지는 시청 앞 집회나 현수막 게첨이 이어지는 것과 무관하지 않다는 주장이다.', '특히 이해가 얽혀 있는 주민들이 행정에 대한 소통 부재를 주장하며 시청 앞 뿐 아니라 위험한 도로 가두행진을 불사하고 있는 등 문제가 커지는 상황에서 행정의 중재 역할 및 민원 해결 의지가 더욱 아쉽다는 지적이다.', '이 같은 주장은 지난 24일 열린 281회 광양시의회 임시회 시정질의에서 나왔다.', '이날 시정질의에 나선 백성호 의원은 시를 상대로 올 들어 제기됐거나, 제기 중인 민원인 △광양칠성지구 청년행복주택 건립사업 △광양중동지구 행복주택 건립사업 △진월면 송현마을 태양광 발전사업 △중앙초 및 동광양중 앞 육교철거사업 △중마동 영주교회 입구 주차장 조성사업 등에 대해 날카롭게 질문했다.', '백 의원은 광양칠성지구 청년행복주택 건립사업 등 집단민원에 부딪혀 사업 추진이 지연되고 있는 사업들을 지적했다.', '백 의원은“지난해 9월부터 해당 지구의 각종 사전 행정절차가 일사천리로 진행되는 과정에서 주민들에게 알리지 않아 정작 해당 주민들은 아무것도 모르고 있었다는 것이 가장 큰 문제”라며 광양시의 소통부재를 꼬집었다.', '답변자로 나선 광양시 문병한 안전도시국장은“해당 사업은 국토부 사업으로 관계법령상 사업후보지 선정 전엔 부동산 투기 등 사업보안을 위해 주민설명회를 실시하지 않는다는 규정에 따랐다”고 해명했다.', '백 의원은“이해관계가 있는 당사자들이 모르고 있었다는 게 문제”라며 “국토부에서 알리지 말라 해도 이미 부동산들은 다 알고 있었다.', '처음부터 당사자들과 충분히 공유하고 소통했다면 문제가 발생하지 않았을 것이고 행정력 낭비도 막았을 것”이라고 말했다.', '이어 중동지구 청년행복주택 등 민원으로 지연되고 있는 사업들에 대해서도 쓴 소리를 쏟아냈다.', '백 의원은“민원이 우려되면 해당 주민들과 사전에 충분히 소통하고 공감해야 한다”며“공무원도 시민도 민원으로 인한 피로도가 계속 쌓여가는 만큼 주민 설득은 반드시 필요한 사항”이라고 말했다.', '또한“결국 현재 시청 앞 집회가 끊이지 않고 이어지는 이유는 행정이 이해관계인들이나 민원인들과 소통이 부족한 데서 오는 것”이라며“좀 더디더라도 주민들과 충분히 소통해 달라”고 주문했다.', '문 국장은“이번 집단민원을 거울삼아 이후부터는 법령에 관련규정이 없다고 하더라도 사업시행 전에 반상회 등을 통해 주민과 소통하는 방안을 강구해 나가겠다”며“특히 정부정책에 대한 홍보 강화 및 현장여건을 고려해 주민들의 의견이 충분히 반영되도록 인허가 업무에도 최선을 다하겠다”고 밝혔다.']\n",
      "\n",
      "추출요약:\n",
      "['최근 들어 하루가 멀다 하고 벌어지는 시청 앞 집회나 현수막 게첨이 이어지는 것과 무관하지 않다는 주장이다.', '특히 이해가 얽혀 있는 주민들이 행정에 대한 소통 부재를 주장하며 시청 앞 뿐 아니라 위험한 도로 가두행진을 불사하고 있는 등 문제가 커지는 상황에서 행정의 중재 역할 및 민원 해결 의지가 더욱 아쉽다는 지적이다.', '이 같은 주장은 지난 24일 열린 281회 광양시의회 임시회 시정질의에서 나왔다.']\n",
      "\n",
      "생성요약\n",
      "['지난 24일 광양시의회임시회 시정질의에서 시청 앞 집회나 현수막 게첨의 이유가 주민들과의 소통 부재라는 의견이 나왔다.']\n"
     ]
    }
   ],
   "source": [
    "#- 모든 스코어 4점 이상 (약 10만4천개)\n",
    "tmp = df[(df['readable'] >= 4) & (df['accurate'] >= 4) & (df['informative'] >= 4) & (df['trustworthy'] >= 4)].reset_index()\n",
    "print(tmp.shape)\n",
    "\n",
    "cnt = 0\n",
    "for i in range(0,tmp.shape[0],100):\n",
    "    cnt += 1\n",
    "    print(f\"원문:\\n{tmp['origin'][i]}\\n\\n추출요약:\\n{tmp['ext_sum'][i]}\\n\\n생성요약\\n{tmp['abs_sum'][i]}\")\n",
    "    if cnt > 5:\n",
    "        break"
   ]
  },
  {
   "cell_type": "code",
   "execution_count": 38,
   "id": "coordinated-major",
   "metadata": {
    "scrolled": true
   },
   "outputs": [
    {
     "data": {
      "text/html": [
       "<div>\n",
       "<style scoped>\n",
       "    .dataframe tbody tr th:only-of-type {\n",
       "        vertical-align: middle;\n",
       "    }\n",
       "\n",
       "    .dataframe tbody tr th {\n",
       "        vertical-align: top;\n",
       "    }\n",
       "\n",
       "    .dataframe thead th {\n",
       "        text-align: right;\n",
       "    }\n",
       "</style>\n",
       "<table border=\"1\" class=\"dataframe\">\n",
       "  <thead>\n",
       "    <tr style=\"text-align: right;\">\n",
       "      <th></th>\n",
       "      <th>index</th>\n",
       "      <th>category</th>\n",
       "      <th>media_name</th>\n",
       "      <th>title</th>\n",
       "      <th>origin</th>\n",
       "      <th>ext_sum</th>\n",
       "      <th>abs_sum</th>\n",
       "      <th>size</th>\n",
       "      <th>char_count</th>\n",
       "      <th>year</th>\n",
       "      <th>month</th>\n",
       "      <th>date</th>\n",
       "      <th>readable</th>\n",
       "      <th>accurate</th>\n",
       "      <th>informative</th>\n",
       "      <th>trustworthy</th>\n",
       "    </tr>\n",
       "  </thead>\n",
       "  <tbody>\n",
       "    <tr>\n",
       "      <th>0</th>\n",
       "      <td>2</td>\n",
       "      <td>종합</td>\n",
       "      <td>광양신문</td>\n",
       "      <td>여수시, 컬러빌리지 마무리...‘색채와 빛’도시 완성</td>\n",
       "      <td>[8억 투입, 고소천사벽화·자산마을에 색채 입혀, 이성훈 sinawi@hanmail...</td>\n",
       "      <td>[여수시는 원도심 일대에서 추진된 컬러빌리지 사업을 지난해 말 마무리하며 색채와 빛...</td>\n",
       "      <td>[여수시는 컬러빌리지 사업에 8억원을 투입하여 ‘색채와 빛’ 도시를 완성하여 고소천...</td>\n",
       "      <td>small</td>\n",
       "      <td>764</td>\n",
       "      <td>2018</td>\n",
       "      <td>01</td>\n",
       "      <td>05</td>\n",
       "      <td>4</td>\n",
       "      <td>4</td>\n",
       "      <td>5</td>\n",
       "      <td>4</td>\n",
       "    </tr>\n",
       "    <tr>\n",
       "      <th>1</th>\n",
       "      <td>3</td>\n",
       "      <td>스포츠</td>\n",
       "      <td>광양신문</td>\n",
       "      <td>“새해 정기 받고 올해는 반드시 일내자!”</td>\n",
       "      <td>[전남드래곤즈 해맞이 다짐…선수 영입 활발, 이성훈 sinawi@hanmail.ne...</td>\n",
       "      <td>[임직원과 선수단 모두는 이날 구봉산 정상에 올라 일출을 보며 2018년 구단 목표...</td>\n",
       "      <td>[전남드래곤즈 임직원과 선수단이 4일 구봉산 정상에 올라 일출을 보며 2018년 구...</td>\n",
       "      <td>medium</td>\n",
       "      <td>1066</td>\n",
       "      <td>2018</td>\n",
       "      <td>01</td>\n",
       "      <td>05</td>\n",
       "      <td>4</td>\n",
       "      <td>4</td>\n",
       "      <td>4</td>\n",
       "      <td>4</td>\n",
       "    </tr>\n",
       "    <tr>\n",
       "      <th>2</th>\n",
       "      <td>4</td>\n",
       "      <td>정치</td>\n",
       "      <td>광양신문</td>\n",
       "      <td>농업인 역량 강화, 새해 실용교육 실시</td>\n",
       "      <td>[11~24일, 매실·감·참다래 등 지역특화작목, 이성훈 sinawi@hanmail...</td>\n",
       "      <td>[광양시는 오는 11일부터 24일까지 농업인교육관과 읍면동 회의실에서 농업인 105...</td>\n",
       "      <td>[광양시는 농업인들의 경쟁력을 높이고, 소득안정을 위해 매실·감·참다래 등 지역특화...</td>\n",
       "      <td>small</td>\n",
       "      <td>746</td>\n",
       "      <td>2018</td>\n",
       "      <td>01</td>\n",
       "      <td>05</td>\n",
       "      <td>4</td>\n",
       "      <td>4</td>\n",
       "      <td>5</td>\n",
       "      <td>4</td>\n",
       "    </tr>\n",
       "    <tr>\n",
       "      <th>3</th>\n",
       "      <td>5</td>\n",
       "      <td>종합</td>\n",
       "      <td>광양신문</td>\n",
       "      <td>타이완 크루즈관광객 4천여명‘전남’온다</td>\n",
       "      <td>[홍콩 크루즈선사‘아쿠아리우스’ 4, 6월 여수항 입항, 이성훈 sinawi@han...</td>\n",
       "      <td>[전라남도는 올해 4월과 6월 홍콩 크루즈선사 스타크루즈의 5만톤급‘아쿠아리우스’호...</td>\n",
       "      <td>[올해 4월과 6월 두 차례에 걸쳐 타이완의 크루즈 관광객 4000여명이 여수에 입...</td>\n",
       "      <td>small</td>\n",
       "      <td>978</td>\n",
       "      <td>2018</td>\n",
       "      <td>01</td>\n",
       "      <td>05</td>\n",
       "      <td>4</td>\n",
       "      <td>4</td>\n",
       "      <td>4</td>\n",
       "      <td>4</td>\n",
       "    </tr>\n",
       "    <tr>\n",
       "      <th>4</th>\n",
       "      <td>6</td>\n",
       "      <td>정치</td>\n",
       "      <td>광양신문</td>\n",
       "      <td>읍면동 주민센터, 일자리 안정자금 접수</td>\n",
       "      <td>[30인 미만 중소기업 등 사업주에 월 13만원 지급, 이성훈 sinawi@hanm...</td>\n",
       "      <td>[광양시는 정부가 2018년 1월 1일부터 시행하는 일자리 안정자금 신청을 12개 ...</td>\n",
       "      <td>[광양시는 30인 미만 중소기업 등 사업주에 1인당 월 13만원씩 지급하는 일자리 ...</td>\n",
       "      <td>small</td>\n",
       "      <td>953</td>\n",
       "      <td>2018</td>\n",
       "      <td>01</td>\n",
       "      <td>05</td>\n",
       "      <td>4</td>\n",
       "      <td>4</td>\n",
       "      <td>5</td>\n",
       "      <td>4</td>\n",
       "    </tr>\n",
       "  </tbody>\n",
       "</table>\n",
       "</div>"
      ],
      "text/plain": [
       "   index category media_name                          title  \\\n",
       "0      2       종합       광양신문  여수시, 컬러빌리지 마무리...‘색채와 빛’도시 완성   \n",
       "1      3      스포츠       광양신문        “새해 정기 받고 올해는 반드시 일내자!”   \n",
       "2      4       정치       광양신문          농업인 역량 강화, 새해 실용교육 실시   \n",
       "3      5       종합       광양신문          타이완 크루즈관광객 4천여명‘전남’온다   \n",
       "4      6       정치       광양신문          읍면동 주민센터, 일자리 안정자금 접수   \n",
       "\n",
       "                                              origin  \\\n",
       "0  [8억 투입, 고소천사벽화·자산마을에 색채 입혀, 이성훈 sinawi@hanmail...   \n",
       "1  [전남드래곤즈 해맞이 다짐…선수 영입 활발, 이성훈 sinawi@hanmail.ne...   \n",
       "2  [11~24일, 매실·감·참다래 등 지역특화작목, 이성훈 sinawi@hanmail...   \n",
       "3  [홍콩 크루즈선사‘아쿠아리우스’ 4, 6월 여수항 입항, 이성훈 sinawi@han...   \n",
       "4  [30인 미만 중소기업 등 사업주에 월 13만원 지급, 이성훈 sinawi@hanm...   \n",
       "\n",
       "                                             ext_sum  \\\n",
       "0  [여수시는 원도심 일대에서 추진된 컬러빌리지 사업을 지난해 말 마무리하며 색채와 빛...   \n",
       "1  [임직원과 선수단 모두는 이날 구봉산 정상에 올라 일출을 보며 2018년 구단 목표...   \n",
       "2  [광양시는 오는 11일부터 24일까지 농업인교육관과 읍면동 회의실에서 농업인 105...   \n",
       "3  [전라남도는 올해 4월과 6월 홍콩 크루즈선사 스타크루즈의 5만톤급‘아쿠아리우스’호...   \n",
       "4  [광양시는 정부가 2018년 1월 1일부터 시행하는 일자리 안정자금 신청을 12개 ...   \n",
       "\n",
       "                                             abs_sum    size char_count  year  \\\n",
       "0  [여수시는 컬러빌리지 사업에 8억원을 투입하여 ‘색채와 빛’ 도시를 완성하여 고소천...   small        764  2018   \n",
       "1  [전남드래곤즈 임직원과 선수단이 4일 구봉산 정상에 올라 일출을 보며 2018년 구...  medium       1066  2018   \n",
       "2  [광양시는 농업인들의 경쟁력을 높이고, 소득안정을 위해 매실·감·참다래 등 지역특화...   small        746  2018   \n",
       "3  [올해 4월과 6월 두 차례에 걸쳐 타이완의 크루즈 관광객 4000여명이 여수에 입...   small        978  2018   \n",
       "4  [광양시는 30인 미만 중소기업 등 사업주에 1인당 월 13만원씩 지급하는 일자리 ...   small        953  2018   \n",
       "\n",
       "  month date  readable  accurate  informative  trustworthy  \n",
       "0    01   05         4         4            5            4  \n",
       "1    01   05         4         4            4            4  \n",
       "2    01   05         4         4            5            4  \n",
       "3    01   05         4         4            4            4  \n",
       "4    01   05         4         4            5            4  "
      ]
     },
     "execution_count": 38,
     "metadata": {},
     "output_type": "execute_result"
    }
   ],
   "source": [
    "tmp.head()"
   ]
  },
  {
   "cell_type": "code",
   "execution_count": 39,
   "id": "every-manual",
   "metadata": {},
   "outputs": [],
   "source": [
    "#- 모든 score 4 이상인 데이터 \n",
    "df_filtered = tmp"
   ]
  },
  {
   "cell_type": "markdown",
   "id": "operational-polyester",
   "metadata": {},
   "source": [
    "## size\n",
    "- 모든 score 4 이상 & size small & char_count 평균 833 : 약 5만 4천개"
   ]
  },
  {
   "cell_type": "code",
   "execution_count": 40,
   "id": "announced-terrorism",
   "metadata": {
    "scrolled": false
   },
   "outputs": [
    {
     "name": "stdout",
     "output_type": "stream",
     "text": [
      "(54073, 17)\n",
      "원문:\n",
      "['8억 투입, 고소천사벽화·자산마을에 색채 입혀', '이성훈 sinawi@hanmail.net', '여수시는 원도심 일대에서 추진된 컬러빌리지 사업을 지난해 말 마무리하며 색채와 빛의 도시를 완성했다.', '시에 따르면 총 사업비 8억원이 투입된 컬러빌리지 사업은‘낮에는 색채, 밤에는 빛’을 주제로 지난해 초 착공에 들어갔다.', '컬러빌리지는 색채를 이용한 경관개선사업으로 사업완료에 따라 고소천사벽화마을과 자산마을은 알록달록 색깔 옷을 입었다.', '특히 자산마을 주택 70여 동은 동백꽃 색으로 새 단장을 마쳤다.', '마을 옆을 지나는 해상케이블카에서 내려다보면 동백꽃 한 송이가 피어있는 모습으로 SNS 등을 통해 입소문을 타고 있다.', '고소천사벽화마을 주택 130여 동도 지붕은 동백꽃 색, 벽면은 파스텔 톤 색상으로 변신해 이국적인 분위기를 내고 있다.', '마을 내 옹벽과 비탈면은 패턴벽화와 야간조명이 설치돼 포토존으로 인기를 끌고 있다.', '컬러빌리지 사업은 추진 전반에 마을 주민이 적극 참여했다는 점에서 좋은 평가를 받고 있다.', '시는 사업대상이 사유시설인 만큼 계획단계부터 주민들의 의견을 들었다.', '사업 시행과 준공 과정에서도 주민들의 참여를 유도해 민관이 함께 만들어가는 경관사업의 좋은 사례를 만들었다.', '시 관계자는“컬러빌리지 사업은 주민들의 적극적인 관심과 참여가 만들어낸 값진 성과물”이라며“돌산공원, 해상케이블카, 남산공원, 돌산대교 등에서 빛과 색채로 물들어가는 여수의 낭만을 만끽하시기 바란다”고 말했다.']\n",
      "\n",
      "글자수:764\n",
      "\n",
      "추출요약:\n",
      "['여수시는 원도심 일대에서 추진된 컬러빌리지 사업을 지난해 말 마무리하며 색채와 빛의 도시를 완성했다.', '컬러빌리지는 색채를 이용한 경관개선사업으로 사업완료에 따라 고소천사벽화마을과 자산마을은 알록달록 색깔 옷을 입었다.', '사업 시행과 준공 과정에서도 주민들의 참여를 유도해 민관이 함께 만들어가는 경관사업의 좋은 사례를 만들었다.']\n",
      "\n",
      "생성요약\n",
      "['여수시는 컬러빌리지 사업에 8억원을 투입하여 ‘색채와 빛’ 도시를 완성하여 고소천사벽화마을과 자산마을은 알록달록 색깔 옷을 입었고 사업 시행과 준공 과정에서도 주민들의 참여를 유도해 경관사업의 좋은 사례를 만들었다.']\n",
      "원문:\n",
      "['박노신 민주당 시의원 예비후보, 선거사무소 개소', '이성훈 sinawi@hanmail.net', '박노신 민주당 시의원 가선거구 예비후보는 지난 3일 광양읍 유당로 원예농협 로터리 인근에 선거사무소를 개소했다.', '개소식에는 김재무 시장 후보, 이용재 도의원 후보 등을 비롯해 민주당 후보들과 지지자 등이 참석했다.', '박노신 후보는“광양, 봉강, 옥룡은 현재 부영건설이 시행중인 목성뜰 도시개발사업과 세풍산단조성 등 중요한 개발사업들이 시작단계에서 진척이 부진한 여건”이라며“활성화를 위해서는 경륜과 소신을 가진 본인이 강력한 추진력을 발휘할 수 있다”고 지지를 호소했다.', '박 후보는 이어 미세먼지 주범의 하나인 목질계 바이오매스 화력발전소를 반드시 막겠다고 강조했다.', '그는“지난 12년 동안 의정활동 경험을 통하여 지역의 산적한 현안들에 대해 시민의 중지를 모아 꼭 해결한다는 각오로 본격적인 선거운동을 시작하겠다”고 강조했다.', '박 후보는 공약으로 △한려대, 보건대 정상화 추진 △공동주택 주민 주거환경개선 △동천변 체육공원조성 △어른 존중사회 조성 효도연금 도입 △백운산휴양림 중심 산악관광인프라 구축 등을 제시했다.', '박노신 후보는 민주당 가선거구 예비경선에서 최다득표를 얻어 기호‘1-가’를 부여받았다.', '박 후보는 5·6·7대 광양시의원, 6대 전반기 의장, 광양청년회의소 회장 등을 역임했다.']\n",
      "\n",
      "글자수:706\n",
      "\n",
      "추출요약:\n",
      "['박노신 민주당 시의원 가선거구 예비후보는 지난 3일 광양읍 유당로 원예농협 로터리 인근에 선거사무소를 개소했다.', '박노신 후보는“광양, 봉강, 옥룡은 현재 부영건설이 시행중인 목성뜰 도시개발사업과 세풍산단조성 등 중요한 개발사업들이 시작단계에서 진척이 부진한 여건”이라며“활성화를 위해서는 경륜과 소신을 가진 본인이 강력한 추진력을 발휘할 수 있다”고 지지를 호소했다.', '박 후보는 이어 미세먼지 주범의 하나인 목질계 바이오매스 화력발전소를 반드시 막겠다고 강조했다.']\n",
      "\n",
      "생성요약\n",
      "['박노신 민주당 시의원 가 선거구 예비후보는 지난 3일 광양읍 유다로 원예농협 로터리 인근에 선거사무소를 개소하며, 지역 도시개발사업과 세풍산단 조성 등 중요한 개발 산업 활성화와 지역 대학 정상화, 목질계 바이오매스 화력발전소를 막는데 강력한 추진력을 발휘하겠다고  강조했다.']\n",
      "원문:\n",
      "['적기 예방접종?', '손 씻기 등 개인위생수칙 준수‘당부’', '광양뉴스 webmaster@gynet.co.kr', '전라남도가 최근 전국적으로 많은 환자가 발생하는 호흡기질환인 백일해 예방을 위해 적기 예방접종과 손 씻기 등 개인위생 수칙 준수를 당부했다.', '도에 따르면 지난 한 해 동안 전남지역 42명을 포함해 전국적으로 964명(잠정통계)이 백일해에 감염됐다.', '광양 일부 초·중·고등학교에서는 15명이 발생해 전남도가 백일해 감염 예방 및 확산 방지를 위한 예방관리 대책 수립 등으로 총력을 기울이기도 했다.', '백일해는 보르데텔라균에 의해 발생하는 호흡기 질환으로 기도 염증과 심한 기침을 유발하며, 가족 내 2차 발병률이 80%에 달하는 전염력이 높은 질환이다.', '심한 경우 기관지가 막혀 폐의 일부에 공기가 전혀 들어가지 못하는 무기폐나 기관지 폐렴과 같은 합병증이 발생할 수 있다.', '주로 환자와의 직접적 접촉, 기침, 재채기 등에 의한 호흡기 전파로 감염된다.', '현재 환자 발생 시 집단 전파 차단을 위해 전염기(항생제 복용 시 5일까지 격리) 동안 등교·등원 중지와 자택격리, 예방적 항생제 투여를 하고 있다.', '확진자의 동거인, 고위험군(생후 12개월 미만 영아, 천식 및 만성폐질환자 등) 접촉자는 노출 후 예방을 위해 항생제 복용을 권하고, 백일해 예방접종 미완료자의 경우 접종을 완료토록 권고된다.', '특히 성인의 경우 백일해 증상 및 질병의 경과가 심하지 않더라도 백일해 고위험군인 영유아를 감염시킬 수 있기 때문에, 영유아와 생활을 같이 하거나 접촉이 많은 산모, 영유아 돌보미, 산후조리원, 의료기관 종사자 등은 성인용 백일해 백신(Tdap) 접종을 해야 한다.', '강미정 전남도 건강증진과장은“백일해 예방을 위해 손 씻기, 기침예절 등 개인위생 수칙을 지키고, 2주 이상 기침이 계속될 경우 신속히 진료를 받을 것”을 당부했다.']\n",
      "\n",
      "글자수:958\n",
      "\n",
      "추출요약:\n",
      "['전라남도가 최근 전국적으로 많은 환자가 발생하는 호흡기질환인 백일해 예방을 위해 적기 예방접종과 손 씻기 등 개인위생 수칙 준수를 당부했다.', '백일해는 보르데텔라균에 의해 발생하는 호흡기 질환으로 기도 염증과 심한 기침을 유발하며, 가족 내 2차 발병률이 80%에 달하는 전염력이 높은 질환이다.', '심한 경우 기관지가 막혀 폐의 일부에 공기가 전혀 들어가지 못하는 무기폐나 기관지 폐렴과 같은 합병증이 발생할 수 있다.']\n",
      "\n",
      "생성요약\n",
      "['최근 유행하는 호흡기 질환인 백일해는 전염성이 높고 무기폐나 기관지 폐렴 등의 합병증 발생 가능성도 있어 예방접종과 개인위생 수칙 준수가 필요하다.']\n",
      "원문:\n",
      "['광양뉴스', '내년부터 10년간 4천억 투입', '다양한 테마 섬 숲 조성', '전남도가 서남해를 둘러싼 섬 지역에 다양한 테마 숲을 조성해 세계적 해양관광지로 만들기 위한 ‘서남해안 섬 숲 생태복원사업’의 최종 용역을 24일 마무리했다.', '이번 용역은 2020년부터 2029년까지 64개소에 4000억 원의 예산을 들여 3000여ha의 숲을 영광에서부터 광양까지 15개 시군과 함께 조성하기 위한 것이다.', '세계 최초로 섬의 날을 제정하는 등 섬의 가치가 날로 높아지고 있는 요즘, 전국 섬의 65%를 보유한 지역으로서 섬 지역에 경관(관광)숲을 조성해 미래 블루오션 관광자원으로 개발해나간다는 구상이다.', '서남해안권에 조성되는 숲은 남미의 아마존처럼 한반도의 허브숲 역할을 할 것으로 기대된다.', '또한 남도의 섬, 해안, 갯벌 등 우수한 자연경관과 어울려 해양관광의 랜드마크가 될 전망이다.', '섬 지역에 조성되는‘초록 방패 숲’은 미세먼지 저감에도 큰 도움이 될 것으로 보인다.', '이를 위해 섬의 역사문화생태 등을 반영한 테마 섬숲을 조성하고, 3개 권역으로 나눠 기존 훼손된 숲의 복원을 추진한다.', '‘다도해권’의 경우 신안을 중심으로 사계절 꽃피는 숲을 조성해 2025년‘꽃섬 축제’를 개최할 예정이다.', '특히 신안 하의도에는 동북아 화합을 상징하는‘한반도 평화의 숲’을 조성한다.', '보성·장흥·강진을 중심으로 한‘남도문화권’에는 남도의 삶이 담긴 숲을, 여수·광양을 중심으로 한‘한려수도권’에는 해양레포츠 숲을 조성한다.', '향후 100년을 목표로 난대림 복원기술을 정립하고 섬별 향토 수종, 훼손된 산림 현황 등 산림자원 실태조사를 통해 섬 숲을 복원 조성할 계획이다.', '제공=전남도청']\n",
      "\n",
      "글자수:850\n",
      "\n",
      "추출요약:\n",
      "['전남도가 서남해를 둘러싼 섬 지역에 다양한 테마 숲을 조성해 세계적 해양관광지로 만들기 위한 ‘서남해안 섬 숲 생태복원사업’의 최종 용역을 24일 마무리했다.', '세계 최초로 섬의 날을 제정하는 등 섬의 가치가 날로 높아지고 있는 요즘, 전국 섬의 65%를 보유한 지역으로서 섬 지역에 경관(관광)숲을 조성해 미래 블루오션 관광자원으로 개발해나간다는 구상이다.', '향후 100년을 목표로 난대림 복원기술을 정립하고 섬별 향토 수종, 훼손된 산림 현황 등 산림자원 실태조사를 통해 섬 숲을 복원 조성할 계획이다.']\n",
      "\n",
      "생성요약\n",
      "[\"전라남도는 서남해를 둘러싼 섬 지역을 세계적 해양관광지로 만들기 위해 '서남해안 섬 숲 생태복원사업'의 최종 용역을 지난 24일에 끝냈다.\"]\n",
      "원문:\n",
      "['市·국방부, 후보지 설득나서…영향분석 용역 착수', '광주시와 국방부가 군 공항 이전사업 예정 후보지 주민 설득에 나서 표류 중인 이전 논의가 되살아날지 주목된다.', '22일 광주시에 따르면 시는 최근 국방부와 함께 군 공항 이전 후보지로 추천된 영암·무안·신안·해남을 방문했다.', '주민들이 군 공항 반대 목소리를 내면서 후보지 선정 작업이 진척되지 못하자 직접 설득에 나선 것이다.', '국방부는 지난해 후보지 주민들과 협의를 진행했지만, 환경 영향 등을 우려한 주민 반발로 진척을 보지 못했다.', '시는 23일부터 군 공항 이전사업을 알리는 전용 홈페이지(www2018.gwangju.go.kr/air force)를 개설하고 공감대 확산에도 나선다.', '군 공항 이전 후보지 지역민에게 이전의 필요성과 이전 절차, 이전 부지 주변 지원사업, 종전부지 개발계획 등 정보를 제공한다.', '또 소통의 공간을 마련해 이전 논의 과정, 사업 진행 방식 등에 대해 의견을 나누고 해법도 찾을 방침이다.', '광주시 관계자는 “국방부가 사업 주체라는 절차적인 문제를 벗어나 군 공항 이전사업에 대한 정확한 자료를 제공해 이해를 높이려고 한다”며 “지역의 새로운 미래를 위해 꼭 필요한 사업으로서 공감대를 확산하는 데 힘쓰겠다”고 말했다.', '광주시는 후보지 실태조사, 이해 당사자 의견 수렴, 주요 쟁점별 갈등요소 파악 및 해결방안 분석, 갈등 해소를 위한 해결방안 도출 등을 담은 ‘군 공항 예비이전 후보지 갈등 영향분석 용역’에도 착수했다.', '광주 군 공항 이전사업은 2028년까지 기부 대 양여 방식에 따라 15.3㎢ 규모의 신공항 건설과 8.2㎢ 규모의 기존 공항부지 개발 등을 추진한다.', '/김다이 기자', '김다이 기자']\n",
      "\n",
      "글자수:850\n",
      "\n",
      "추출요약:\n",
      "['광주시와 국방부가 군 공항 이전사업 예정 후보지 주민 설득에 나서 표류 중인 이전 논의가 되살아날지 주목된다.', '국방부는 지난해 후보지 주민들과 협의를 진행했지만, 환경 영향 등을 우려한 주민 반발로 진척을 보지 못했다.', '광주시 관계자는 “국방부가 사업 주체라는 절차적인 문제를 벗어나 군 공항 이전사업에 대한 정확한 자료를 제공해 이해를 높이려고 한다”며 “지역의 새로운 미래를 위해 꼭 필요한 사업으로서 공감대를 확산하는 데 힘쓰겠다”고 말했다.']\n",
      "\n",
      "생성요약\n",
      "['광주시의 군 공항 이전사업이 환경 영향을 우려한 후보지 주민들의 반발로 진전이 더뎌 광주시와 국방부가 정확한 자료와 주민들과의 소통을 통해 주민 설득에 나섰다.']\n",
      "원문:\n",
      "['유스 출신 김대웅 신인자유선발 영입', '김준형, 김대웅', '프로축구 광주FC가 미드필더 김준형을 영입하며 중원 전력을 강화했다.', '광주는 수원 삼성으로부터 김준형(22)을 1년간 임대 영입하고, 광주 유스 출신인 김대웅(23)을 신인자유선발로 발탁했다고 지난달 28일 밝혔다.', '날카로운 패스, 경기 조율 능력, 탈 압박 등의 강점을 지닌 김준형은 2016년 모교인 송호대를 U리그 왕중왕전 준우승으로 이끌며 가치를 인정받았다.', '이듬해 수원에 입단하며 프로생활을 시작한 김준형은 이종성, 사리치 등과의 경쟁과 부상으로 1년반 만에 데뷔전을 치렀지만, 볼배급과 강력한 슈팅으로 팬들의 이목을 사로잡으며 ‘제2의 권창훈’이라는 별명도 얻었다.', '파울루 벤투 국가대표 감독이 2019 UAE 아시안컵 예비명단에 깜짝 발탁하는 등 차세대 국가대표로서 가능성도 가지고 있다.', '김준형은 “아직 부족하지만 경쟁을 통해 반드시 그라운드에 서고 싶다”며 “광주를 승격으로 이끌고 선수로서 가치도 증명하겠다”고 밝혔다.', '신인자유선발로 입단한 김대웅은 광주 U-18(금호고) 출신으로 안정적인 포백보호와 빌드업이 강점인 수비형 미드필더다.', '폭넓은 움직임을 통한 공격가담 능력도 좋다.', '박진섭 감독은 “김준형과 김대웅은 중원에서 활발한 움직임으로 수비와 공격을 지원하는 살림꾼같은 존재”라며 “기존 선수들과의 경쟁과 훈련을 통해 최고의 조합을 만들어낼 것”이라고 밝혔다.', '한편, 광주는 오는 10일 오후 1시 광주월드컵경기장에서 아산 무궁화를 상대로 홈개막전을 치른다.', '이 날 행사에는 걸그룹 EXID 초청공연 등 다양한 행사가 펼쳐질 예정이다.', '/박희중 기자', '박희중 기자']\n",
      "\n",
      "글자수:840\n",
      "\n",
      "추출요약:\n",
      "['프로축구 광주FC가 미드필더 김준형을 영입하며 중원 전력을 강화했다.', '광주는 수원 삼성으로부터 김준형(22)을 1년간 임대 영입하고, 광주 유스 출신인 김대웅(23)을 신인자유선발로 발탁했다고 지난달 28일 밝혔다.', '날카로운 패스, 경기 조율 능력, 탈 압박 등의 강점을 지닌 김준형은 2016년 모교인 송호대를 U리그 왕중왕전 준우승으로 이끌며 가치를 인정받았다.']\n",
      "\n",
      "생성요약\n",
      "['프로축구 광주FC가 지난 28일, 모교인 송호대를 2016년 U리그 왕중왕전 준우승으로 이끈 김준형(22)을 수원 삼성으로부터 1년간 임대 영입하고 광주 유스 출신인 김대웅(23)을 신인자유선발로 발탁했다고 밝혔다.']\n"
     ]
    }
   ],
   "source": [
    "#- size small 약 5만 4천 개 \n",
    "tmp = df_filtered[df_filtered['size'] == 'small'].reset_index()\n",
    "print(tmp.shape)\n",
    "\n",
    "cnt = 0\n",
    "for i in range(0,tmp.shape[0],100):\n",
    "    cnt += 1\n",
    "    print(f\"원문:\\n{tmp['origin'][i]}\\n\\n글자수:{tmp['char_count'][i]}\\n\\n추출요약:\\n{tmp['ext_sum'][i]}\\n\\n생성요약\\n{tmp['abs_sum'][i]}\")\n",
    "    if cnt > 5:\n",
    "        break"
   ]
  },
  {
   "cell_type": "code",
   "execution_count": 41,
   "id": "fixed-decade",
   "metadata": {},
   "outputs": [
    {
     "name": "stdout",
     "output_type": "stream",
     "text": [
      "(39218, 17)\n",
      "원문:\n",
      "['전남드래곤즈 해맞이 다짐…선수 영입 활발', '이성훈 sinawi@hanmail.net', '전남드래곤즈(사장 신승재)는 지난 4일 구봉산 해맞이 행사를 통해 새해 각오를 다졌다.', '임직원과 선수단 모두는 이날 구봉산 정상에 올라 일출을 보며 2018년 구단 목표를 달성하기 위한 결연한 의지를 다졌다.', '이번 해맞이 행사는 2018년을 시작하면서 떠오르는 해를 보며 전남드래곤즈 구성원 모두가 한마음 한 뜻으로 구단 목표 달성을 위해 정진하자는 의미에서 실시한 것이다.', '신승재 사장은“유상철 감독을 비롯한 코칭스텝, 선수단 구성이 마무리 된 만큼 구성원 모두가 하나되어 K리그 클래식 5위 이내 진입, FA컵 우승 등 ACL 진출권 획득을 목표로 최선을 다하자”고 선수들에게 신년 인사말을 전했다.', '유상철 감독은“구봉산의 정기를 받아 2018년을 전남드래곤즈의 해로 만들겠다”며 각오를 다졌다.', '한편 전남은 선수들도 추가 영입했다.', '우선 프렌차이즈 스타 김영욱과 2020년까지 연장계약을 했다.', '전남 유스 출신인 김영욱은 당초 계약기간이 1년 남아 있었지만, 전남의 프렌차이즈 스타로 팀의 중추적인 역할을 하고 있어 2020년까지 연장계약을 체결하게 됐다.', '전남은 이어 측면 공격력 강화를 위해 포항에서 활약한 완델손을 1년 임대 영입했다.', '완델손은 왼발 크로스가 정확하고 화려한 테크닉을 이용한 측면 공격력이 뛰어난 선수이다.', '또한 윙 포워드는 물론 공격형 미드필더, 측면 수비수로도 뛸 수 있는 멀티 플레이어다.', '공격력 강화를 위해 페체신 대체자로 중국 리그에서 활약한 하태균도 영입했다.', '하태균은2007년 드래프트 1순위로 수원 삼성에 입단해 K리그 신인상을 수상한 공격수로 2014년까지 K리그 통산 135경기 30골 7도움을 기록했다.', '2015년 중국으로 이적, 연변에서 26골을 기록 득점왕에 오르며 팀을 슈퍼리그로 승격시켰다.', '또한 2017년에는 바오딩으로 이적해 팀 내 최다골인 14골을 기록할 정도로 득점력이 뛰어난 선수다.', '이와 함께 박태준·이경렬·윤동민도 영입하며 올 시즌을 준비하고 있다.']\n",
      "\n",
      "글자수:1066\n",
      "\n",
      "추출요약:\n",
      "['임직원과 선수단 모두는 이날 구봉산 정상에 올라 일출을 보며 2018년 구단 목표를 달성하기 위한 결연한 의지를 다졌다.', '신승재 사장은“유상철 감독을 비롯한 코칭스텝, 선수단 구성이 마무리 된 만큼 구성원 모두가 하나되어 K리그 클래식 5위 이내 진입, FA컵 우승 등 ACL 진출권 획득을 목표로 최선을 다하자”고 선수들에게 신년 인사말을 전했다.', '한편 전남은 선수들도 추가 영입했다.']\n",
      "\n",
      "생성요약\n",
      "['전남드래곤즈 임직원과 선수단이 4일 구봉산 정상에 올라 일출을 보며 2018년 구단 목표 달성을 위한 새해 각오를 다졌다.']\n",
      "원문:\n",
      "['광양시, 논란 분분‘유출수’ 환경부 유권해석 받기로', '녹색연합, 광양시 처리수 분석 결과 발표‘반박 성명’', '김호 기자 ho-kim@gynet.co.kr', '광양시가 광양제철소 수재슬래그 생산시설에서 발생되는 처리수 유해물질에 대해 조사한 결과, 모두 기준치 이하 또는 검출되지 않았다고 밝혀 환경오염 발생 논란이 사그라질지 관심이 모아지고 있다.', '시는 지난 13일 해당 생산시설에서 발생되는 처리수를 직접 채취해 전남도보건환경연구원에 분석 의뢰한 결과를 공개했다.', '이번 분석은 채수한 시료 중 특정수질유해물질 함유 여부를 확인하기 위해 이뤄졌다.', '분석 의뢰한 항목은 시안, 카드뮴 등 총 8개 항목으로, 분석결과 1고로 생산설비는 구리는 0.006mg/ℓ로써 기준치인 3mg/ℓ의 500배 이하이고, 나머지 항목은 불검출로 나타났다고 밝혔다.', '또한 2고로 생산설비는 시안이 0.03mg/ℓ로써 기준치인 1mg/ℓ의 33배 이하이며 나머지 항목은 모두 불검출로 나타났다.', '시는 검사 결과가 모두 기준치 이하인 것으로 밝혀졌지만, 그동안 수재슬래그 유출수가 폐수인지 침출수인지에 대한 해석이 엇갈리고 의견이 분분함에 따라 최종적으로 환경부의 유권해석을 받아 처리할 계획이다.', '또한 수재슬래그 생산시설을 폐기물처리시설 설치 승인을 받지 않고 지금까지 운영해 온 행위에 대해서는 특별사법경찰관으로 지명된 시청 환경과 직원이 직접 수사를 진행하고, 조사가 끝나는 대로 순천검찰청에 사건을 송치할 계획이다.', '시 관계자는“그동안 환경사범은 예외 없이 법과 원칙대로 처리해 왔다”며 “이번 사건 역시 철저히 조사해 처리할 방침”이라고 밝혔다.', '한편 이 같은 광양시의 발표에 지역 환경단체들은 받아들일 수 없다며 시를 비난하고 나섰다.', '광양만녹색연합은 광양시가 지난 13일 전남도보건환경연구원의 분석 결과를 공개하자, 광양시의 발표내용을 반박하는 성명을 발표했다.', '녹색연합은 성명을 통해“광양제철소의 불법 폐기물 시설 운영에 대한 감독소홀과 수재슬러그 침출수 유출 사태에 따른 책임회피를 멈추라”며“광양제철소도 폐기물처리시설 설치·승인 없이 연간 627만톤의 불법 수재슬래그 생산을 중단하라”고 주장했다.', '더불어“광양시장은 폐기물 관리는 물론 향후 이러한 일이 다시 발생되지 않도록 엄중한 행정처분 등 책임을 다하라”며“수재슬래그 생산시설 및 침출수 처리시설 등을 공개하고 침출수의 pH의 농도를 환경부, 언론 및 환경단체 및 시민들에게 측정 결과를 현장에서 공개하라”고 요구했다.', '김호 기자', 'ho-kim@gynet.co.kr']\n",
      "\n",
      "글자수:1312\n",
      "\n",
      "추출요약:\n",
      "['시는 지난 13일 해당 생산시설에서 발생되는 처리수를 직접 채취해 전남도보건환경연구원에 분석 의뢰한 결과를 공개했다.', '시는 검사 결과가 모두 기준치 이하인 것으로 밝혀졌지만, 그동안 수재슬래그 유출수가 폐수인지 침출수인지에 대한 해석이 엇갈리고 의견이 분분함에 따라 최종적으로 환경부의 유권해석을 받아 처리할 계획이다.', '한편 이 같은 광양시의 발표에 지역 환경단체들은 받아들일 수 없다며 시를 비난하고 나섰다.']\n",
      "\n",
      "생성요약\n",
      "['광양시가 광양제철소 수재슬래그 생산시설에서 발생되는 처리수 유해물질을 분석한 결과를 모두 기준치 이하 또는 미검출로 발표했으나 지역 환경단체들은 이를 반박하며 비판하고 있다.']\n",
      "원문:\n",
      "['“진상조사위, 국민 신뢰할 수 있는 합리적인 인물로 구성돼야”', '“진상규명 의지 있나?”', '오월단체와 광주시민사회단체·정당이 16일 오전 광주 동구 5·18민주광장에서 자유한국당의 5·18 진상규명위원 추천철회를 촉구하는 기자회견을 연 뒤 추천인사의 프로필을 찢는 퍼포먼스를 벌이고 있다.', '이들은 5·18 진상규명조사위원 3명 인사를 추천한 자유한국당을 향해 “추천한 인사의 행적을 보면 진상규명 의지와 전문성에 의문이 든다”며 “5·18 진상규명을 방해할 의도가 없다면 한국당은 진상규명조사위원 3인에 대한 추천을 즉각 철회하고 추천을 포기하라”고 밝혔다.', '▶관련기사 6면 /김애리 기자', '이용섭 광주시장은 16일 “자유한국당은 책임 있는 자세로 국민이 공감할 수 있는 인물들로 5·18 진상규명조사위원을 재추천해주기 바란다”고 말했다.', '이 시장은 이날 성명을 내고 “광주 시민은 자유한국당의 5·18진상규명조사위원 추천인사에 대해 분노와 실망을 금할 수 없다”면서 “‘5·18민주화운동 진상규명을 위한 특별법’이 시행된 이후 4개월 동안 차일피일 미루더니 결국 상식적인 수준에도 미치지 못하는 사람들을 추천해 국민적 울분을 자아내고 있다”고 비난했다.', '이 시장은 이어 “이번 추천된 위원들은 민주주의 역사에 역행하는 극우 이념을 가진 군 출신 인사 그리고 과거 5·18진상규명운동을 폄훼한 전력이 있는 언론인과 세월호 특조위에 참여해 조사활동을 방해한 법조인으로, 이는 5·18민주화운동 진상조사 활동을 방해하려는 저의가 분명하다”고 말했다.', '그러면서 “광주 시민뿐 아니라 대한민국 국민은 5·18진상규명조사위의 책임있고 정상적인 활동이 5·18의 진실을 명명백백하게 밝혀낼 마지막 기회라고 믿고 있다”며 “따라서 그 첫걸음인 조사위원회는 모든 국민이 신뢰할 수 있는 합리적인 인물들로 구성돼야 할 것”이라고 강조했다.', '이 시장은 “자유한국당은 소중한 가족을 잃고 광주 오월의 진상규명을 위해 차디 찬 아스팔트 위에서 목 놓아 울고 계신 오월 어머니들의 40년 한을 조금이라도 이해해 주기를 바란다”며 “5·18진실은 반드시 밝혀야 할 역사적 책무다.', '자유한국당은 책임있는 공당으로서 국민이 공감할 수 있는 인물들로 조속히 재추천해 주길 바란다”고 덧붙였다.', '/최권범 기자', '최권범 기자']\n",
      "\n",
      "글자수:1134\n",
      "\n",
      "추출요약:\n",
      "['이들은 5·18 진상규명조사위원 3명 인사를 추천한 자유한국당을 향해 “추천한 인사의 행적을 보면 진상규명 의지와 전문성에 의문이 든다”며 “5·18 진상규명을 방해할 의도가 없다면 한국당은 진상규명조사위원 3인에 대한 추천을 즉각 철회하고 추천을 포기하라”고 밝혔다.', '이용섭 광주시장은 16일 “자유한국당은 책임 있는 자세로 국민이 공감할 수 있는 인물들로 5·18 진상규명조사위원을 재추천해주기 바란다”고 말했다.', '이 시장은 이날 성명을 내고 “광주 시민은 자유한국당의 5·18진상규명조사위원 추천인사에 대해 분노와 실망을 금할 수 없다”면서 “‘5·18민주화운동 진상규명을 위한 특별법’이 시행된 이후 4개월 동안 차일피일 미루더니 결국 상식적인 수준에도 미치지 못하는 사람들을 추천해 국민적 울분을 자아내고 있다”고 비난했다.']\n",
      "\n",
      "생성요약\n",
      "['이용섭 광주시장은 16일 자유한국당에 5·18 진상규명조사위원 3인을 국민이 공감할 수 있는 인물들로 재추천할 것을 요청했다.']\n",
      "원문:\n",
      "['6개월간 지원…24일까지 접수', '전남도는 11일 “오는 4월부터 미취업 청년들의 경제적 부담 완화를 위해 월 50만원씩 최대 6개월간 취·창업 등 구직활동 경비를 지원한다”고 밝혔다.', '전남도일자리통합정보망 누리집(http://job.jeonmam.go.kr)을 통해 24일까지 참여자를 모집해 1차 500명을 선정하고, 이후 2차 모집으로 500명을 추가 선발할 계획이다.', '지원 대상은 ▲공고일 현재 전남 거주 ▲만 18-34세 이하 ▲최종학교 졸업·중퇴 후 2년 경과 ▲중위소득 150% 미만(3인 가구 기준 564만48원)인 장기 미취업 청년이다.', '다만 실업급여, 생계급여 수급자 및 취업 성공 패키지 등 정부와 다른 지자체 유사사업 참여자, 주 36시간 이상 근로자로 정기적인 소득이 있는 자는 제외된다.', '올해부터 졸업·중퇴 후 2년 이내 청년을 대상으로 시행 예정인 고용노동부 청년 구직활동지원금과도 중복 지원되지 않는다.', '대상자는 가구소득 40%, 미취업 기간 40%, 거주기간(가점 10점) 등 1차 정량평가(80%)와 구직활동계획서 심사 2차 정성평가(20%)를 통해 결정된다.', '매월 구직활동보고서를 근거로 50만원 씩 6개월간 최대 300만원을 지급한다.', '구직활동수당은 학원 수강료, 도서 구입비, 시험 응시료 등 직접적인 항목 외에도 구직활동에 따른 식비, 교통비 등의 간접비까지 사용할 수 있다.', '하지만 부정수급 방지를 위해 현금화가 불가능한 체크카드로 지급, 유흥 등 구직활동과 무관한 일부 업종은 제한된다.', '지원금 수급 기간 중 취업해 3개월간 근속 시, 취업성공수당 50만원을 지급할 예정이다.', '6개월 차 취업자는 지원에서 제외된다.', '김신남 전남도 일자리정책본부장은 “민선 7기 김영록 지사 취임 이후 일자리창출을 최우선으로 추진해 일자리 지표가 개선되는 효과를 거뒀고 지난해 하반기부터 전남 청년 실업률이 대폭 줄었다”며 “앞으로도 미취업 청년 지원사업 등 다양한 사업을 추진해 양질의 일자리를 만들어가겠다”고 말했다.', '/김재정 기자', '김재정 기자']\n",
      "\n",
      "글자수:1009\n",
      "\n",
      "추출요약:\n",
      "['전남도는 11일 “오는 4월부터 미취업 청년들의 경제적 부담 완화를 위해 월 50만원씩 최대 6개월간 취·창업 등 구직활동 경비를 지원한다”고 밝혔다.', '지원 대상은 ▲공고일 현재 전남 거주 ▲만 18-34세 이하 ▲최종학교 졸업·중퇴 후 2년 경과 ▲중위소득 150% 미만(3인 가구 기준 564만48원)인 장기 미취업 청년이다.', '구직활동수당은 학원 수강료, 도서 구입비, 시험 응시료 등 직접적인 항목 외에도 구직활동에 따른 식비, 교통비 등의 간접비까지 사용할 수 있다.']\n",
      "\n",
      "생성요약\n",
      "['전남도는 미취업 청년들에게 월 50만원씩 최대 6개월간 취·창업 등 구직활동비를 지원한다.']\n",
      "원문:\n",
      "['용역업체 사실상 선정…내달 작업 돌입', '부지가치 평가 등 이전 타당성 실무조사', '송정역 인근에 위치한 금호타이어 광주공장의 이전 작업이 본격화될 전망이다.', '이전 타당성을 실무적으로 조사할 용역업체가 사실상 선정됐기 때문이다.', '금호타이어는 광주공장 이전 타당성 조사 용역업체가 내부적으로 정해져 결재단계에 있다며 조만간 단수 업체가 최종 선정될 것이라고 28일 밝혔다.', '금호타이어 관계자는 “용역업체를 언론 등 외부에 발표할 계획은 현재로서는 없다”며 “이 용역업체는 회사 이전안 등을 토대로 광주공장 부지 가치 평가 등 이전 타당성 실무 조사를 할 것”이라고 말했다.', '이 용역업체는 지난 1월 금호타이어와 광주공장 이전을 위한 업무협약을 맺은 미래에셋대우와 긴밀한 관계를 유지하면서 이전 실무 역할을 담당하게 된다.', '금호타이어 관계자는 “미래에셋대우는 광주공장 이전과 관련해 그랜드디자인 역할을 하고, 용역업체는 광주공장 부지 가치 평가 등 세부적인 역할을 담당하게 된다”고 말했다.', '이와 관련 금호타이어 측은 최근 토론회에서 “공장을 이전한다면 친환경 생산 설비를 갖추고 4차산업혁명을 리드하는 방안으로 이뤄져야 한다”며 “부지 매입까지 포함해 대략 1조원 정도 비용이 필요할 것으로 보인다”고 말했다.', '광주시와 광산구는 금호타이어 광주공장을 이전해 현재 부지를 송정역 고속철도(KTX) 투자 선도지구 개발 사업에 포함한다는 계획이다.', '광주시가 한국토지주택공사(LH)와 공동으로 추진하는 광주 송정역 일대 지역경제거점형 KTX 투자 선도지구 개발 사업은 지난해 9월 예비타당성 조사를 통과했다.', '광주송정역 인근 64만㎡의 땅에 모두 4천100억원을 투자해 산업시설·연구용지·주거단지·상업용지 등을 조성한다는 것이다.', '한편, 금호타이어는 모기업이던 광주여객(금호고속 전신)이 양질의 타이어 확보에 어려움을 겪자 “직접 제대로 된 타이어를 만들어보자”며 1960년 삼양타이어란 이름으로 설립됐다.', '지난해 유동성 위기를 겪으면서 중국 더블스타로 넘어갔다.', '광주 서구 양동에 세운 공장을 1974년 광산구 소촌동 현 광주공장으로 확장 이전했다.', '1980년대 들어 연구소와 주차장 등을 추가로 조성해 공장 규모를 약 39만6천694㎡(12만평) 규모로 키웠다.', '설립 당시에는 시 외곽에 자리했으나 도심이 확장하면서 광주공장 이전을 요구하는 목소리가 나오고 있다.', '/임후성 기자', '임후성 기자']\n",
      "\n",
      "글자수:1206\n",
      "\n",
      "추출요약:\n",
      "['송정역 인근에 위치한 금호타이어 광주공장의 이전 작업이 본격화될 전망이다.', '금호타이어는 광주공장 이전 타당성 조사 용역업체가 내부적으로 정해져 결재단계에 있다며 조만간 단수 업체가 최종 선정될 것이라고 28일 밝혔다.', '광주시와 광산구는 금호타이어 광주공장을 이전해 현재 부지를 송정역 고속철도(KTX) 투자 선도지구 개발 사업에 포함한다는 계획이다.']\n",
      "\n",
      "생성요약\n",
      "['광주시는 금호타이어 광주공장의 이전 작업과 관련한 타당성 조사 용역업체가 사실상 선정되어 조만간 이전 사업이 실시될 예정이며 해당 부지는 송정역 고속철도 투자 선도지구 개발사업에 포함될 것이라고 전하였다.']\n",
      "원문:\n",
      "['EBS 연계율 70%수준 출제…“변별력은 유지”', '국어·영어 작년보다 난이도 낮아, 수학 어려워', '2020학년도 대학수학능력시험 6월 모의평가가 전국 2천53개 고등학교와 425개 지정학원에서 동시에 실시된 4일 오전 광주여자고등학교에서 수험생들이 시험을 치르고 있다.', '/김애리 기자', '오는 11월 14일 치러질 2020학년도 대학수학능력시험의 출제 방향과 난이도를 가늠할 수 있는 6월 모의평가가 4일 실시됐다.', '이번 모의평가는 예년과 같은 기조로 EBS 연계율 70%를 유지했다.', '수능 출제기관으로 모의평가를 주관한 한국교육과정평가원은 이날 출제 방향을 발표했다.', '평가원은 “학생들의 과도한 수험 준비 부담을 완화하고 학교 교육이 내실화할 수 있도록 고등학교 교육과정을 기준으로 했다”면서 “학교 교육을 통해 학습된 능력을 측정하기 위해 핵심적이고 기본적인 내용 중심으로 출제했다”고 설명했다.', '이어 “타당도 높은 문항을 출제하기 위해 이미 출제됐던 내용이어도 교육과정에서 다루는 핵심적이고 기본적인 내용은 문항 형태, 발상, 접근 방식 등을 수정해 출제할 수 있도록 했다”고 밝혔다.', '국어와 영어 영역은 출제 범위를 바탕으로 다양한 소재의 지문과 자료를 활용했다.', '수학 및 탐구 영역, 제2외국어·한문 영역은 개별 교과 특성을 바탕으로 한 사고력 중심 평가를 지향하고자 했고, 필수영역인 한국사 영역은 기본 역사 소양을 평가하기 위해 핵심 내용 위주로 평이하게 출제됐다.', 'EBS 수능 교재·강의 연계율은 문항 수를 기준으로 지난해처럼 70% 수준이다.', '영어가 73.3%, 국어 71.1%, 다른 영역은 모두 70.0%다.', '연계 방식은 영역별로 다르지만, 개념이나 원리, 지문이나 자료, 핵심 제재나 논지 등을 활용하는 방법과 문항을 변형·재구성하는 방법 등이 사용됐다.', '영어 영역은 대의 파악(중심 내용과 맥락 파악)과 세부 정보(세부 내용)를 묻는 연계 문항의 경우 EBS 연계 교재의 지문과 주제 등이 비슷한 다른 지문을 활용해 출제됐다.', '입시 전문가들은 “지난해 불수능에 비교하면 대체로 쉬웠다”면서 그렇다고 변별력이 없을 정도’는 아니었던 것으로 분석했다.', '국어 영역은 화법과 작문, 문법이 쉬웠던 반면 비문학 지문은 다소 어려웠다.', '수학 영역 나형에 대해선 지난해와 비슷하거나 약간 어려운 수준으로 출제됐다고 평가했다.', '가형에 대한 난이도 는 엇갈렸다.', '영어 영역은 독해 문항 지문 해석이 매우 쉬워 답안을 고르는 데 있어서도 상당히 쉽게 출제됐다는 반응이다.', '이번 모의평가 지원자는 54만183명(재학생 46만2천85명·졸업생 7만8천98명)으로 집계됐다.', '정답은 오는 17일 확정 발표하며, 채점 결과는 25일까지 수험생에게 통보된다.', '/김종민 기자', '김종민 기자']\n",
      "\n",
      "글자수:1373\n",
      "\n",
      "추출요약:\n",
      "['오는 11월 14일 치러질 2020학년도 대학수학능력시험의 출제 방향과 난이도를 가늠할 수 있는 6월 모의평가가 4일 실시됐다.', '이번 모의평가는 예년과 같은 기조로 EBS 연계율 70%를 유지했다.', '평가원은 “학생들의 과도한 수험 준비 부담을 완화하고 학교 교육이 내실화할 수 있도록 고등학교 교육과정을 기준으로 했다”면서 “학교 교육을 통해 학습된 능력을 측정하기 위해 핵심적이고 기본적인 내용 중심으로 출제했다”고 설명했다.']\n",
      "\n",
      "생성요약\n",
      "['6월 모의고사는 예년과 같은 기조로 EBS 연계율 70%를 유지했으며, 평가원은 학교교육과정기준으로  핵심적이고 기본적인 내용중심으로 출제했다고 발표했다.']\n"
     ]
    }
   ],
   "source": [
    "#- size medium ; 약 4만 개\n",
    "tmp = df_filtered[df_filtered['size'] == 'medium'].reset_index()\n",
    "print(tmp.shape)\n",
    "\n",
    "cnt = 0\n",
    "for i in range(0,tmp.shape[0],100):\n",
    "    cnt += 1\n",
    "    print(f\"원문:\\n{tmp['origin'][i]}\\n\\n글자수:{tmp['char_count'][i]}\\n\\n추출요약:\\n{tmp['ext_sum'][i]}\\n\\n생성요약\\n{tmp['abs_sum'][i]}\")\n",
    "    if cnt > 5:\n",
    "        break"
   ]
  },
  {
   "cell_type": "code",
   "execution_count": 42,
   "id": "horizontal-silicon",
   "metadata": {},
   "outputs": [
    {
     "name": "stdout",
     "output_type": "stream",
     "text": [
      "(11064, 17)\n",
      "원문:\n",
      "['신년 기자간담회…개발 자제, 시민 행복 정책 초점', '이성훈 sinawi@hanmail.net', '광양시가 올해 개발 중심 시책에서 시민 삶의 질 향상에 초점을 두고 시정을 운영할 방침이다.', '민선 6기 정현복 시장은 지난 4년 동안 인프라 구축과 각종 개발에 중점을 뒀는데 올해 사업들을 살펴보면 오는 6월 민선 6기를 마무리하고 7기가 출범하는 올해 그동안 추진했던 개발 사업을 어느정도 마무리 짓고 7기로 이양하겠다는 목표가 뚜렷하다.', '시의 이같은 계획은 오는 6월 지방선거에 출마하는 정현복 시장이 재선 성공 여부를 떠나 일단 민선 6기에 추진했던 사업들은 하나둘씩 마무리하겠다는 것으로 풀이된다.', '정현복 시장은 지난 3일 시청 상황실에서 2018년 신년 기자간담회를 가졌다.', '간담회에는 민선6기 주요 성과와 올해 시정 핵심목표인‘아이가 행복하고 청년들이 꿈을 이루는 도시’등 7대 역점시책을 중심으로 시정운영 방향을 설명하고, 지역 현안과 시정 전반에 대한 의견을 나누는 순으로 진행됐다.', '정 시장은 그동안 추진했던 성과로 △160개 기업 3조 1000억원 투자유치와 1만 2000여 개 일자리 창출 △시 재정 1조 원 달성과 부채 제로 △전국 최초 어린이 보육재단 출범과 희망도서관 개관 등을 통한 아이 양육하기 좋은 도시 기반 마련 △청년 희망도시 만들기 주력 등을 꼽았다.', '이어 △성황·도이 도시개발사업 착공 △여성친화도시 지정 △고용복지+센터 개소 △LF스퀘어 광양점과 광양운전면허시험장 개장 등도 포함됐다.', '정 시장은“그동안 어려운 여건 속에서도 광양시의 미래를 향해 흔들림 없이 힘차게 전진해 왔다”며“지금까지 시민 행복과 새로운 광양발전을 위해 쉼 없이 달려 왔듯이 새해에도 도시발전과 시민 한분 한분의 행복을 위해 혼신의 노력을 다하겠다”고 말했다.', '올해 시정운영 방향을 살펴보면 시민 삶의 질 향상을 우선 순위에 둔 것으로 나타났다.', '<2면에 계속>시는 2018년 시정운영방향으로 첫째 아이 키우기 좋은 도시, 청년이 꿈을 이루는 희망 도시, 여성이 안전하고 어르신이 건강한 행복 도시 조성을 선언했다.', '이는 정 시장이 민선 6기부터 꾸준히 추진해온 것인데 그동안 추진했던 사업을 바탕으로 기틀을 확고히 하겠다는 의지다.', '시는 이를 위해 △맞춤형 보육사업 추진 △육아종합지원센터 건립 △국공립 어린이집 확충 △어린이 테마파크 조성 △청년 창업거리 조성과 4차 산업혁명을 선도할 청년 인력 양성 △여성비전센터 설치 △다목적 복합체육관 등 생활스포츠 타운을 조성해 나가기로 했다.', '이야기와 즐길 거리가 있는 문화·관광기반 조성에는 △광양읍권 도립미술관과 연계한 복합문화공간 조성 △중마도심권 이순신대교 주변에 해변관광 테마거리 조성 △구봉산 전망대 산림 공원과 LF스퀘어 광양점이 약속한 골프장 등 유치 △백운산 치유의 숲과 둘레길, 산림복지단지 △섬진강 뱃길 복원사업을 추진한다.', '안전·녹색도시 만들기에는 △범죄발생 우려지역 CCTV와 비상벨 설치 △천만그루 나무 심기와 꽃길 조성 △남해고속도로 선형 개량 및 순천~완주 고속도로 덕례 진출입로 개설 등 국가계획 반영을 통해 지역민의 생활여건을 개선해 나갈 방침이다.', '정 시장은“시민과 소통하고, 시민의 입장에서 시민중심 행정 실천을 위해 기존의 시민과의 대화, 해피데이, 시정 공감토크 등 내실 있는 운영, 시의회와 소통을 더욱 강화해 시정의 투명성을 더욱 높여나갈 계획이다”고 발표했다.', '이어“올해도 초심을 잃지 않고,‘뜻을 세우고 부단히 노력하면 마침내 이룬다’는 유지경성(有志竟成)의 자세로 오로지 시 발전과 시민 모두가 더 행복해지는 광양을 만들어 나가기 위해 최선을 다하겠다”고 말했다.']\n",
      "\n",
      "글자수:1815\n",
      "\n",
      "추출요약:\n",
      "['광양시가 올해 개발 중심 시책에서 시민 삶의 질 향상에 초점을 두고 시정을 운영할 방침이다.', '<2면에 계속>시는 2018년 시정운영방향으로 첫째 아이 키우기 좋은 도시, 청년이 꿈을 이루는 희망 도시, 여성이 안전하고 어르신이 건강한 행복 도시 조성을 선언했다.', '이야기와 즐길 거리가 있는 문화·관광기반 조성에는 △광양읍권 도립미술관과 연계한 복합문화공간 조성 △중마도심권 이순신대교 주변에 해변관광 테마거리 조성 △구봉산 전망대 산림 공원과 LF스퀘어 광양점이 약속한 골프장 등 유치 △백운산 치유의 숲과 둘레길, 산림복지단지 △섬진강 뱃길 복원사업을 추진한다.']\n",
      "\n",
      "생성요약\n",
      "['광양시는 2018년 시민의 행복을 위한 도시 조성, 문화·관광기반 조성 등 시민 삶의 질 향상에 초점을 두고 시정을 운영할 방침이다.']\n",
      "원문:\n",
      "['21대 총선 D-1년', '지역 정치권, 조직 재정비…총선모드 본격 전환', '생존전략 마련 분주·물밑 경쟁, 표심 향배 촉각', '내년 4월15일 치러지는 21대 총선이 꼭 1년 앞으로 다가왔다.', '총선을 1년 앞두고 각 정당은 조직을 재정비하고 총선 전략 수립에 나서는 등 벌써부터 물밑경쟁이 시작됐다.', '특히 지난 대선과 지방선거에서 문재인 정권에 압도적인 지지를 보낸 호남을 놓고 각 정당마다 생존을 위한 셈법에 분주한 가운데 호남민심 향배에 관심이 집중되고 있다.', '14일 지역 정치권에 따르면 2020년 4월15일 제21대 국회의원 선거가 이날로 D-1년 카운트다운에 들어갔다.', '광주와 전남은 지난 대통령 선거와 지난해 지방선거에서 더불어민주당에 압도적인 지지를 보낸 바 있어 내년 총선에서도 민주당의 강세가 이어질 것으로 예상되지만 다수의 현역의원을 보유한 민주평화당과 바른미래당의 텃밭을 지키기 위한 공세도 가열될 것으로 보여 치열한 경쟁이 전망된다.', '하지만 내년 총선까지는 연동형 비례대표제를 골자로 한 선거제 개혁, 야권발 정계개편 등의 변수가 있어 섣부른 전망을 어렵게 한다.', '지난 20대 총선에서는 국민의당이 ‘녹색돌풍’을 일으키며 호남에서 싹쓸이를 해 지역내 여당 지위를 획득했고 민주당은 전통적인 텃밭에서 완패를 당하는 수모를 겪었다.', '현재는 국민의당과 바른정당의 통합으로 바른미래당이 탄생하고 통합에 반대했던 의원들이 민주평화당을 창당하면서 정당 구도가 복잡해졌다.', '지역 정치권이 3당 구도로 재편된 가운데 각 당은 지역 조직을 정비하고 경선에 대비해 당원 모집에 들어가는 등 빠르게 총선 모드로 전환하고 있다.', '지난 20대 총선에서 1당 독주를 견제할 대안으로 창당한 국민의당에게 자리를 내어준 민주당은 호남 주도권 탈환을 위해 절치부심하며 내년 총선을 준비하고 있다.', '민주당 광주시당은 지난달 27일 광산을 지역위원장 직무대행에 송남수 현 수석부위원장을 임명했다.', '광산을 지역위원회는 수석부위원장, 청년위원장, 노동위원장 등을 새롭게 임명하고 총선 준비를 위한 조직 개편을 마쳤다.', '민주당 전남도당에서는 여수갑(위원장 주철현)·여수을지역위원회(위원장 정기명)와 광양·곡성·구례지역위원회(위원장직대 이용재)가 최근 대의원대회 및 개편대회를 열고 새로운 출범을 알렸다.', '중앙당도 공천룰 개선 작업에 착수했다.', '민주당은 지난 4일 총선공천기획단 회의를 열고 음주운전 면허 취소자에 대한 공천 원천배제 원칙을 확정했으며, 경선 방법을 총선 1년전 조기 확정·발표하겠다는 방침을 정하면서 조만간 공천 방식이 발표될 것으로 전망된다.', '광주가 주요 정치 기반인 민주평화당과 바른미래당도 조직을 정비하고 총선 준비에 들어갔다.', '광주에 4명의 현역의원을 두고 있는 민주평화당 광주시당은 지난달 30일 개편대회를 열고 최경환 의원(북을)을 시당위원장으로 선출하는 등 조직을 정비해 본격적인 총선 준비에 나섰다.', '전남도당도 지난달 29일 개편대회를 열고 윤영일(해남·완도·진도) 의원을 새로운 위원장으로 선출했다.', '개편대회 참석자들은 조직 정비를 마치고 내년 총선 승리를 결의했다.', '광주에 현역의원 3명을 두고 있는 바른미래당 광주시당도 의원 중심으로 총선 준비를 위한 조직 재정비에 돌입했다.', '지역위원회별로 위원장, 부위원장 등을 임명하기 위한 공모가 진행중이며, 소속 의원들은 주말과 휴일마다 지역구를 돌며 표심챙기기에 나서고 있다.', '지역 정치권 한 인사는 “총선이 1년 앞으로 다가오면서 현역 의원을 포함해 출마 예상자들의 활동이 활발하다”며 “조만간 정당별 공천룰이 확정 발표되면 지역 총선 분위기가 고조될 것”이라고 말했다.', '/김다이 기자', '김다이 기자']\n",
      "\n",
      "글자수:1816\n",
      "\n",
      "추출요약:\n",
      "['총선을 1년 앞두고 각 정당은 조직을 재정비하고 총선 전략 수립에 나서는 등 벌써부터 물밑경쟁이 시작됐다.', '특히 지난 대선과 지방선거에서 문재인 정권에 압도적인 지지를 보낸 호남을 놓고 각 정당마다 생존을 위한 셈법에 분주한 가운데 호남민심 향배에 관심이 집중되고 있다.', '광주와 전남은 지난 대통령 선거와 지난해 지방선거에서 더불어민주당에 압도적인 지지를 보낸 바 있어 내년 총선에서도 민주당의 강세가 이어질 것으로 예상되지만 다수의 현역의원을 보유한 민주평화당과 바른미래당의 텃밭을 지키기 위한 공세도 가열될 것으로 보여 치열한 경쟁이 전망된다.']\n",
      "\n",
      "생성요약\n",
      "['총선까지 1년이 남은 시점에서 민주평화당과 바른미래당을 비롯한 정당들이 텃밭을 지키기 위한 공세에 나서는 등 총선 전략 수립의 움직임을 보이고 있다.\\n']\n",
      "원문:\n",
      "['전국 16개 시·도, 내달까지 대규모 참관단 잇단 파견', '시·도의 날 운영·단체관람 등 대회 분위기 확산 큰힘', '대한민국 ‘인어’의 점프', '17일 오전 서구 염주종합체육관 아티스틱 수영경기장에서 열린 ‘2019광주세계수영선수권대회’ 아티스틱 수영 팀 프리 예선에서 대한민국 대표팀이 멋진 연기를 선보이고 있다.', '/특별취재팀=김애리 기자', '“광주에서 열리는 국제스포츠 행사에 조금이나마 도움을 주고 싶어 멀리서 응원 왔습니다.”', '2019광주세계수영선수권대회가 개막 6일째를 맞은 가운데 전국의 자치단체에서 응원방문이 잇따르면서 광주수영대회가 ‘국민 화합의 장’이 되고 있다.', '특히 수영대회 현장이 각 지자체를 홍보하는 데 절호의 기회로 평가받으면서 단체장을 비롯해 지역 주민, 체육인들이 대거 광주를 방문해 대회 초반 흥행 열기를 고조시키고 있다.', '17일 광주시와 수영대회 조직위원회에 따르면 올해 유일하게 국내에서 열리는 국제 스포츠 대회인 광주세계수영선수권대회에 전국 16개 시·도의 방문이 잇따르면서 대회 분위기 확산에 큰 도움을 주고 있다.', '타 지자체들은 수영선수권대회와 마스터즈대회 기간인 오는 8월18일까지 지자체별로 ‘시·도의 날’을 마련해 경기를 관람하고, 시·도 홍보관도 운영한다.', '이날에는 최문순 강원도지사와 직원 1천여 명이 남부대 수구경기장을 찾아 경기를 관람하며 열띤 응원을 벌였다.', '강원도는 전통 문화공연을 준비하는 등 남부대 마켓스트리트 내에 지역 시책, 특산품, 관광 등을 소개하는 홍보관을 18일까지 운영한다.', '이어 19일에는 오거돈 부산시장과 직원 40여명이 염주체육관 아티스틱 경기장을 찾아 경기를 관람한 후 남부대 마켓스트리트 내에 설치된 부산시 홍보관을 방문할 계획이다.', '경영 종목이 시작되는 오는 21일에는 이춘희 세종시장과 체육회 직원 등 50여명이 남부대 주경기장을 찾아 경기를 관람한다.', '이어 23일에는 광주시와 달빛동맹을 맺고 교류를 이어가고 있는 대구시의 권영진 시장과 대구 여성단체 등이 남부대 주경기장을 찾아 경영 경기를 관람하고, 홍보관에서 홍보활동도 펼친다.', '특히 대구시는 대구예총 달빛동맹 예술교류단의 문화공연도 준비했다.', '뮤지컬 갈라공연, 퓨전국악 공연, 마칭퍼포먼스, 연합 무용공연 등을 선수들과 관람객 등에게 선보일 예정이다.', '이밖에 충북도는 24일 수영연맹 등 600여명, 제주도는 27일 직원 및 체육회 관계자 230명, 경북도는 28일 700명, 전북도는 8월5일-6일 1천300명, 전남도는 8월7일-8일, 충남도는 8월9일-10일, 경남도는 8월1일-13일 640명, 대전시는 8월14일 730여명, 울산시는 8월16일-17일에 각각 경기관람 및 홍보관 운영이 예정돼 있다.', '아쉽게도 이 기간은 마스터즈대회 기간으로 단체장의 방문 응원전은 열리지 않는다.', '대회 기간 동안 경기장과 선수촌, 공항, 역, 터미널, 호텔 등 다중 집합장소에서는 4개 국어(한국어, 영어, 중국어, 일본어) 관광홍보 지도 및 리플릿을 비치하는 등 온·오프라인 홍보활동도 펼친다.', '이에 앞서 서울시는 지난 15일-16일을 ‘서울의 날’로 정하고 남부대 마켓스트리트에서 홍보버스를 운영했다.', '서울시는 대회 개막 후 1만8천여명의 서울시민들이 단체 관람을 하는 등 대회 흥행에 큰 힘을 실어줬다.', '광주시 관계자는 “전국의 지자체들이 한마음으로 광주수영대회 성공개최를 응원하기 위해 ‘시·도의 날’을 운영하는 등 큰 도움을 주고 있다”면서 “광주수영대회가 국민 대화합 축제의 장이 되면서 성공대회에 대한 기대감도 높아지고 있다”고 말했다.', '/특별취재팀=김다이 기자', '특별취재팀=김다이 기자']\n",
      "\n",
      "글자수:1796\n",
      "\n",
      "추출요약:\n",
      "['2019광주세계수영선수권대회가 개막 6일째를 맞은 가운데 전국의 자치단체에서 응원방문이 잇따르면서 광주수영대회가 ‘국민 화합의 장’이 되고 있다.', '특히 수영대회 현장이 각 지자체를 홍보하는 데 절호의 기회로 평가받으면서 단체장을 비롯해 지역 주민, 체육인들이 대거 광주를 방문해 대회 초반 흥행 열기를 고조시키고 있다.', '17일 광주시와 수영대회 조직위원회에 따르면 올해 유일하게 국내에서 열리는 국제 스포츠 대회인 광주세계수영선수권대회에 전국 16개 시·도의 방문이 잇따르면서 대회 분위기 확산에 큰 도움을 주고 있다.']\n",
      "\n",
      "생성요약\n",
      "[' 광주시와 수영대회 조직위원회에 따르면 2019광주세계수영선수권대회가 각 지자체를 홍보하는 데 절호의 기회로 평가받으면서 전국 16개 시·도의 방문이 잇따르면서 대회 초반 분위기 확산에 큰 도움을 주면서 ‘국민 화합의 장’이 되고 있다.']\n",
      "원문:\n",
      "['김경진 “당선시 주민지지 정당 입당” vs 조오섭 “金, 입탈당 반복” 견제', '손금주 “현 정부 개혁과제 완수 동참” 2차 도전장…15일 입당 심사 예정', '제21대 총선 시계가 빠르게 흘러가고 있는 가운데 광주·전남 정치권에서 더불어민주당 경선 경쟁이 달아오르고 있다.', '특히 최근 무소속 현역 의원들의 입당 여부를 놓고 당내 경쟁자 등과의 미묘한 신경전이 펼쳐지고 있어 내년 총선에서 변수로 작용할 전망이다.', '11일 지역정가에 따르면 김경진(무소속·북구갑) 국회의원은 내년 총선에 ‘선 무소속 출마 당선 후 입당’ 전략을 펼칠 것으로 알려졌다.', '청문회 스타로 전국적 인지도를 올린 김 의원은 민주평화당에서 탈당해 대안정치연대에 합류하지 않고 독자노선을 고수하며 지역구 표심 다지기에 열을 올리고 있다.', '김 의원은 광주매일신문과 통화에서 “현재까지 무소속으로 출마한 뒤 당선되면 주민들이 보편적으로 지지하는 정당에 입당해서 정치활동을 하겠다는 입장은 변함없다”면서 “최근 민주당 총선 경쟁력 여론조사 결과에서 당내에서도 입당시킬지 검토했다는 말이 나왔지만 현재는 들어간 걸로 안다”고 밝혔다.', '단, 대안신당 합류에 대해선 선을 그었다.', '김 의원은 “수도권에서 대안신당이 꾸려진다면 가능성이 있다고 보지만 현재 호남 지역에만 국한돼 꾸리다보면 미스매치로 어려울 것으로 본다”고 전망했다.', '김 의원 입당설에 같은 지역구에 출마 예정인 조오섭 더불어민주당 이인영 원내대표 정무특보는 이날 시의회 기자실을 찾아 견제에 나섰다.', '조 특보는 “(김 의원) 민주당 복당은 강기정 정무수석이 아마 용인하지 않을 것이라는 발언은 당원 동지를 모독한 것”이라며 “민주당을 지지하고 사랑하는 지역민들에 대한 ‘안하무인’이고 ‘오만방자’한 언행”이라고 밝혔다.', '조 특보는 “개인적인 정치적 유불리에 따라 소속 정당이 강하면 계속 머무르고 약하면 탈당하는 것은 인기영합주의”라며 “실제로 (김경진 의원) 과거 경력에서 보여주듯이 입·탈당을 반복해왔다”고 지적했다.', '전남지역에서도 민주당 입당을 놓고 시끌시끌하다.', '손금주 의원(무소속·나주화순)은 지난 6일 민주당에 입당원서를 제출했으며, 민주당은 오는 15일 입당 여부 심사를 할 것으로 전해졌다.', '지난 1차 입당 심사에서 불허된 손 의원은 총선 5개월을 앞두고 2차 도전장을 내밀면서 당 지도부와 사전교감을 한 것 아니냐는 추측이 나돌고 있다.', '손 의원은 긍정도 부정도 아닌 제스처를 취하고 있다.', '손 의원은 “전임 대통령의 탄핵으로 이뤄낸 촛불정권이 개혁과제를 완수하는 데 동참해야 하는 데 일조하고 싶어 민주당 입당 원서를 냈다”면서 “과거 10년 집권했던 보수정권으로 회귀하지 않도록 문재인 정부 성공을 돕고 싶다”고 말했다.', '이와 관련 손 의원의 페이스북에는 지역발전을 위한 대승적인 찬성 의견과 지난 대선 문 대통령과 대척점에 선 점에서 반대 의견이 엇갈리고 있다.', '하지만 손 의원이 민주당 입당을 하더라도 당내 나주화순 지역구 터줏대감인 신정훈 전 의원이 버티고 있어 쉽지 않는 경선이 예상된다.', '실제 손 의원은 민주당 권리당원 모집 등 신 전 의원보다 불리한 상황에서 경쟁을 펼쳐야 할 처지에 놓였다.', '여기에 김병원 농협중앙회 회장이 총선을 위한 워밍업을 하고 있어 나주화순 지역은 21대 총선 전남 핫이슈 선거구로 떠오를 전망이다.', '지역정가 한 관계자는 “총선시계가 빨라지면서 지역여론의 우위를 점하고 있는 민주당의 경선 구도 또한 더욱 치열해지는 분위기”라면서 “일부 무소속 현역의원들의 합류 여부가 내년 총선에서 큰 변수가 될 수 있다”고 분석했다.', '/임채만 기자', '/김다이 기자', '임채만 기자김다이 기자']\n",
      "\n",
      "글자수:1812\n",
      "\n",
      "추출요약:\n",
      "['제21대 총선 시계가 빠르게 흘러가고 있는 가운데 광주·전남 정치권에서 더불어민주당 경선 경쟁이 달아오르고 있다.', '특히 최근 무소속 현역 의원들의 입당 여부를 놓고 당내 경쟁자 등과의 미묘한 신경전이 펼쳐지고 있어 내년 총선에서 변수로 작용할 전망이다.', '11일 지역정가에 따르면 김경진(무소속·북구갑) 국회의원은 내년 총선에 ‘선 무소속 출마 당선 후 입당’ 전략을 펼칠 것으로 알려졌다.']\n",
      "\n",
      "생성요약\n",
      "['제21대 총선이 다가오고 있는 가운데 광주·전남 정치권에서 더불어민주당 경선 경쟁이 달아오르며 특히 최근 무소속 현역 의원들의 입당 여부를 놓고 당내 경쟁자 등과의 미묘한 신경전이 펼쳐지고 있다.']\n",
      "원문:\n",
      "['집까지 쫓아가며 잇단 범죄…원룸 창문 통해 침입 시도 20대 검거', '광주 일주일새 3건…돌출형 CC-TV 설치·호신용품 구매 등 고심', '최근 귀갓길 여성을 뒤따라가 집 앞에서 서성이거나 집 안으로 들어가려는 주거침입 범죄가 잇따르면서 혼자 사는 여성들이 불안감을 호소하고 있다.', '경찰은 순찰강화 등을 통해 범죄를 예방하겠다고 밝혔지만, 여성용 호신용품 구매와 CC-TV 설치 문의 등이 급증하고 있다.', '남성들도 여성을 대하는 태도가 달라지는 분위기다.', '남성들 사이에선 심야시간대에 외진 장소 등에서 모르는 여성과 마주칠 경우 상대 여성이 오해를 하지 않도록 행동을 조심해야 한다는 의견도 나오고 있다.', '27일 광주지방경찰청 등에 따르면 광주서부경찰은 이날 혼자 사는 여성의 집에 들어가려 한 혐의(주거침입미수)로 A(26)씨를 불구속 입건했다.', '경찰에 따르면 A씨는 지난 26일 새벽 3시45분께 광주시 서구 풍암동 한 원룸 외벽 기둥을 타고 올라가 2층에 사는 B(여·29)씨의 집 창문을 열고 들어가려한 혐의다.', 'A씨는 인기척을 느낀 B씨가 소리를 지르자 도주했다.', '경찰조사결과 같은 원룸에 살고 있는 A씨는 B씨가 혼자 살고 있는 것을 미리 알고 이 같은 범행을 저지른 것으로 드러났다.', 'A씨는 경찰에서 “술을 많이 마시고 B씨와 대화를 하고 싶어 침입했다”고 진술한 것으로 알려졌다.', '앞서 지난 23일에도 서구 쌍촌동의 한 오피스텔에서 술에 취해 귀가하던 20대 여성의 집 안에 들어가려한 C(39)씨가 주거침입 혐의로 경찰에 붙잡혀 구속됐다.', '또 25일에는 남구 주월동의 한 아파트 복도에서 우연히 마주친 30대 여성의 향수 냄새가 좋다며, 이 여성이 거주하는 아파트 현관의 도어락을 만지고 냄새를 맡은 D(28)씨가 같은 혐의로 경찰에 입건됐다.', '일주일 사이 광주에서만 여성 대상 주거침입 범죄가 3건이나 발생한 것이다.', '최근 3년간 광주에서 발생한 주거침입 범죄도 2016년 225건(구속 9명), 2017년 269건(14명), 2018년 320건(7명) 등으로 증가세를 보이고 있다.', '여성 대상 범죄가 끊이지 않으면서 인터넷 커뮤니티를 중심으로 여성 스스로 자구책을 마련해야 한다는 분위기도 확산하고 있다.', '원룸 거주 여성을 중심으로는 1층 출입문 인근 눈에 잘 띄는 곳에 돌출형 CC-TV를 설치하거나 호신용품을 구매하는 현상도 유행처럼 번지고 있다.', '또 배달 음식을 시킬 땐 전화번호를 노출하지 않기 위해 스마트폰 배달 어플리케이션만 이용하거나 집 현관 비밀번호를 수시로 변경하는 등 주거침입 범죄를 막기 위한 각종 대처 노하우도 공유되고 있다.', '김미나(여·33·남구 백운동)씨는 “회사 회식 등으로 늦은 밤 귀가할 때 모르는 남성이 골목길 등에 있으면 불안한 마음이 든다”면서 “여성을 상대로 한 범죄가 이어지다 보니 호신용 최루액 스프레이나 경보기 구입을 고민하고 있다”고 말했다.', '남성들 사이에서도 심야시간 한적한 장소 등에선 홀로 가는 여성의 뒤를 따라 걷지 않고 잠시 기다렸다 걷는 등 여성을 배려하는 풍조가 생겨나고 있다.', '회사원 윤영석(46·북구 용봉동)씨는 “남자 직원들 사이에서 야간 귀가길에 앞서 가는 여성이 자꾸 힐끔힐끔 쳐다봐 범죄자 취급을 받는 듯 해 민망했던 적이 있었다는 경험담도 나온다”면서 “과거엔 길거리나 시내버스 등에서 마음에 드는 여성이 있으면 따라가 자신의 마음을 표현하는 게 낭만으로 여겨졌으나, 지금은 범죄 행위가 될 수 있다는 점을 남성 스스로 인식해야 할 시점인 듯 하다”고 말했다.', '/김용희 기자 kimyh@kwangju.co.kr', '/김민석 기자 mskim@kwangju.co.kr']\n",
      "\n",
      "글자수:1811\n",
      "\n",
      "추출요약:\n",
      "['최근 3년간 광주에서 발생한 주거침입 범죄도 2016년 225건(구속 9명), 2017년 269건(14명), 2018년 320건(7명) 등으로 증가세를 보이고 있다.', '여성 대상 범죄가 끊이지 않으면서 인터넷 커뮤니티를 중심으로 여성 스스로 자구책을 마련해야 한다는 분위기도 확산하고 있다.', '남성들 사이에서도 심야시간 한적한 장소 등에선 홀로 가는 여성의 뒤를 따라 걷지 않고 잠시 기다렸다 걷는 등 여성을 배려하는 풍조가 생겨나고 있다.']\n",
      "\n",
      "생성요약\n",
      "['최근 3년간 광주에서 발생한 주거침입 범죄가 증가세를 보이며 여성 대상 범죄가 증가하여 여성 스스로 자구책을 마련해야 하며  남성들 사이에서도 여성을 배려하는 풍조가 생겨나고 있다.']\n",
      "원문:\n",
      "['수영 선수권·마스터즈 대회 한 달 간 대장정 마무리', '화합과 친목, 감동의 환희가 물결쳤던 지구촌 수영 동호인들의 축제인 ‘2019 광주세계마스터즈수영선수권대회‘가 14일간의 열전을 마무리하고 18일 대단원의 막을 내렸다.', '이로써 지난달 12일부터 28일까지 각 국 국가대표들이 참가해 ‘금빛 레이스’를 펼친 세계수영선수권대회에 이어 이번 마스터즈대회까지 한 달여 간 빛고을 광주에서 펼쳐진 전 세계 수영인들의 축제가 성공적으로 모두 마무리됐다.', '이처럼 선수권대회와 마스터즈 대회를 성공적으로 치러내면서 광주는 도시 브랜드 가치 상승과 지역경제 활성화 등 적지않은 경제적인 효과 등을 거뒀다.', '18일 광주시와 광주세계마스터즈수영선수권대회 조직위에 따르면 84개국에서 수영 동호회원 등 6000여명이 참가한 이번 마스터즈대회는 참가비와 경기 등록비, 숙박비 등을 참가자들이 직접 부담해야 하는 특성상 고정수익만 17억원이 넘을 것으로 추산된다.', '또한, 문화·예술의 도시 광주의 맛과 멋, 흥이 가득한 다양한 문화와 관광을 체험하는 관광상품 등에 내외국인들이 몰리면서 지역경제에 상당한 효과가 있었을 것으로 전망된다.', '지난달 12일부터 치러진 선수권대회도 역대 최대 규모인 194개국의 선수단 2537명과 코치와 임원 1621명, 미디어진 1365명, 국제수영연맹(FINA) 관계자 583명, 후원사 274명, 각국 연맹 298명이 등록하는 등 총 6678명이 광주를 찾았다.', '지난 2012년 옛 광주발전연구원이 추산한 광주세계수영선수권대회 경제효과는 생산유발 효과로는 전국 2조4000억원, 광주 1조4000억원이다.', '부가가치유발 효과는 전국 1조원, 광주 6500억원이다.', '고용창출 효과도 전국적으로 2만4000여명으로, 광주를 비롯한 호남권에서 취업유발효과는 1만8000여명으로 내다봤다.', '국제도시로서의 광주 브랜드 가치도 상승할 것으로 전망된다.', '대회기간 전 세계 39억명이 실시간으로 TV를 시청하면서 언론을 통해 광주가 노출됨에 따라 도시의 국제적 위상도 높아질 것으로 예상된다.', '수영은 전 세계 생활스포츠 1위인데다 유럽과 미 대륙에서 최고 인기 스포츠로 자리하고 있어 대회 시청률 또한 높았을 것으로 보인다.', '특히 2015년 하계유니버시아드에 이어 국제 스포츠 대회를 또 한번 성공적으로 치러내면서 전 세계에 글로벌도시 광주 이미지에 대한 긍정적 인식 형성과 광주의 미래지향적인 정체성 정립으로 시민들의 자긍심 향상도 가져올 것으로 기대된다.', '아울러, 두 번의 국제대회를 치르면서 효율적으로 체육시설을 활용하는 글로벌 스포츠마케팅의 모범도시로의 위상도 정립했다는 평가를 받고 있다.', '또한, 한달 간의 수영대회를 치러내면서 자발적인 참여와 협조로 성공대회를 이끈 ‘시민의식’을 다시 한번 확인하는 계기를 마련했고, 이를 통한 시민들의 자신감 확산과 지역발전 역량을 결집하는 동력을 마련했다는 평가도 나오고 있다.', '이밖에 국제 무대에서 상대적으로 미흡한 한국 수영의 경기력 향상과 수영에 대한 국민적 관심 고조와 국가적 차원의 투자를 통해 경기력 향상 계기를 만드는 효과도 가져왔다.', '조직위 관계자는 “선수권대회와 마스터즈 대회가 열린 한달 간 많은 선수와 임원, 응원단 등을 포함해 광주를 찾은 내외국인들이 많았고, 이들의 소비를 통해 지역 경제에 쏠쏠한 효과가 있었다”면서 “특히 돈으로 환산할 수 없는 유·무형의 광주 도시브랜드 제고 효과를 이번 대회의 가장 큰 수익이라고 할 수 있다”고 말했다.', '한편, 광주세계마스터즈수영선수권대회 폐회식은 18일 오후 국립아시문화전당 예술극장 야외무대에서 공식행사와 축하공연 등으로 진행됐고, 오는 2021년 후쿠오카 대회에서 다시 만날 것을 약속하며 모든 일정을 마무리했다.', '/최권일 기자 cki@kwangju.co.kr']\n",
      "\n",
      "글자수:1867\n",
      "\n",
      "추출요약:\n",
      "['화합과 친목, 감동의 환희가 물결쳤던 지구촌 수영 동호인들의 축제인 ‘2019 광주세계마스터즈수영선수권대회‘가 14일간의 열전을 마무리하고 18일 대단원의 막을 내렸다.', '이로써 지난달 12일부터 28일까지 각 국 국가대표들이 참가해 ‘금빛 레이스’를 펼친 세계수영선수권대회에 이어 이번 마스터즈대회까지 한 달여 간 빛고을 광주에서 펼쳐진 전 세계 수영인들의 축제가 성공적으로 모두 마무리됐다.', '이처럼 선수권대회와 마스터즈 대회를 성공적으로 치러내면서 광주는 도시 브랜드 가치 상승과 지역경제 활성화 등 적지않은 경제적인 효과 등을 거뒀다.']\n",
      "\n",
      "생성요약\n",
      "['광주에서 열린 2019 광주세계마스터즈수영선수권대회와 세계수영선수권대회 모두 성공적으로 마무리되었으며, 광주시는 도시 브랜드 가치 상승, 지역경제 활성화 등의 경제적인 효과를 얻었다.']\n"
     ]
    }
   ],
   "source": [
    "#- size large ; 약 1만 천개\n",
    "tmp = df_filtered[df_filtered['size'] == 'large'].reset_index()\n",
    "print(tmp.shape)\n",
    "\n",
    "cnt = 0\n",
    "for i in range(0,tmp.shape[0],100):\n",
    "    cnt += 1\n",
    "    print(f\"원문:\\n{tmp['origin'][i]}\\n\\n글자수:{tmp['char_count'][i]}\\n\\n추출요약:\\n{tmp['ext_sum'][i]}\\n\\n생성요약\\n{tmp['abs_sum'][i]}\")\n",
    "    if cnt > 5:\n",
    "        break"
   ]
  },
  {
   "cell_type": "code",
   "execution_count": 43,
   "id": "understanding-swift",
   "metadata": {},
   "outputs": [],
   "source": [
    "df_filtered = df_filtered[df_filtered['size'] == 'small'].reset_index()"
   ]
  }
 ],
 "metadata": {
  "kernelspec": {
   "display_name": "Python 3",
   "language": "python",
   "name": "python3"
  },
  "language_info": {
   "codemirror_mode": {
    "name": "ipython",
    "version": 3
   },
   "file_extension": ".py",
   "mimetype": "text/x-python",
   "name": "python",
   "nbconvert_exporter": "python",
   "pygments_lexer": "ipython3",
   "version": "3.7.9"
  }
 },
 "nbformat": 4,
 "nbformat_minor": 5
}
