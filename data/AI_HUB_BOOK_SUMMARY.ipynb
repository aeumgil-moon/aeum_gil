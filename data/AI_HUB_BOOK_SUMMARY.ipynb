{
 "cells": [
  {
   "cell_type": "markdown",
   "id": "d060c189",
   "metadata": {},
   "source": [
    "# AI_HUB_BOOK_SUMMARY (AI HUB 도서자료 요약)"
   ]
  },
  {
   "cell_type": "markdown",
   "id": "8e57340f",
   "metadata": {},
   "source": [
    "> 기술과학: sci_tech   \n",
    "기타: etc   \n",
    "사회과학: soc_sci   \n",
    "예술: art"
   ]
  },
  {
   "cell_type": "code",
   "execution_count": 1,
   "id": "laden-laser",
   "metadata": {},
   "outputs": [],
   "source": [
    "import json\n",
    "import glob"
   ]
  },
  {
   "cell_type": "markdown",
   "id": "textile-india",
   "metadata": {},
   "source": [
    "## 0. 데이터가 있는 경로로 접근"
   ]
  },
  {
   "cell_type": "code",
   "execution_count": 2,
   "id": "particular-differential",
   "metadata": {},
   "outputs": [],
   "source": [
    "data_path = 'data/AI_HUB/AI_HUB_BOOK_SUMMARY/Training/*/*'\n",
    "sci_tech_data_path = 'data/AI_HUB/AI_HUB_BOOK_SUMMARY/Training/sci_tech/*'\n",
    "etc_data_path = 'data/AI_HUB/AI_HUB_BOOK_SUMMARY/Training/etc/*'\n",
    "soc_sci_data_path = 'data/AI_HUB/AI_HUB_BOOK_SUMMARY/Training/soc_sci/*'\n",
    "art_data_path = 'data/AI_HUB/AI_HUB_BOOK_SUMMARY/Training/art/*'"
   ]
  },
  {
   "cell_type": "markdown",
   "id": "60458698",
   "metadata": {},
   "source": [
    "### 기술과학"
   ]
  },
  {
   "cell_type": "code",
   "execution_count": 3,
   "id": "a0246b87",
   "metadata": {
    "scrolled": true
   },
   "outputs": [
    {
     "data": {
      "text/plain": [
       "['data/AI_HUB/AI_HUB_BOOK_SUMMARY/Training/sci_tech\\\\PCY_201410221112092321_0.json',\n",
       " 'data/AI_HUB/AI_HUB_BOOK_SUMMARY/Training/sci_tech\\\\PCY_201410221112092321_1.json',\n",
       " 'data/AI_HUB/AI_HUB_BOOK_SUMMARY/Training/sci_tech\\\\PCY_201410221112092321_2.json',\n",
       " 'data/AI_HUB/AI_HUB_BOOK_SUMMARY/Training/sci_tech\\\\PCY_201410221112092321_3.json',\n",
       " 'data/AI_HUB/AI_HUB_BOOK_SUMMARY/Training/sci_tech\\\\PCY_201410221112092321_4.json']"
      ]
     },
     "execution_count": 3,
     "metadata": {},
     "output_type": "execute_result"
    }
   ],
   "source": [
    "sci_tech_file_list = glob.glob(sci_tech_data_path)\n",
    "sci_tech_file_list[:5]"
   ]
  },
  {
   "cell_type": "markdown",
   "id": "415906a2",
   "metadata": {},
   "source": [
    "### 기타"
   ]
  },
  {
   "cell_type": "code",
   "execution_count": 4,
   "id": "1dccc9a7",
   "metadata": {},
   "outputs": [
    {
     "data": {
      "text/plain": [
       "['data/AI_HUB/AI_HUB_BOOK_SUMMARY/Training/etc\\\\CNTS-00047966743_15_16-0.json',\n",
       " 'data/AI_HUB/AI_HUB_BOOK_SUMMARY/Training/etc\\\\CNTS-00047966743_161_162-0.json',\n",
       " 'data/AI_HUB/AI_HUB_BOOK_SUMMARY/Training/etc\\\\CNTS-00047966743_216_217-0.json',\n",
       " 'data/AI_HUB/AI_HUB_BOOK_SUMMARY/Training/etc\\\\CNTS-00047966743_21_23-0.json',\n",
       " 'data/AI_HUB/AI_HUB_BOOK_SUMMARY/Training/etc\\\\CNTS-00047966743_341_341-0.json']"
      ]
     },
     "execution_count": 4,
     "metadata": {},
     "output_type": "execute_result"
    }
   ],
   "source": [
    "etc_file_list = glob.glob(etc_data_path)\n",
    "etc_file_list[:5]"
   ]
  },
  {
   "cell_type": "markdown",
   "id": "2177123b",
   "metadata": {},
   "source": [
    "### 사회과학"
   ]
  },
  {
   "cell_type": "code",
   "execution_count": 5,
   "id": "8797f97f",
   "metadata": {},
   "outputs": [
    {
     "data": {
      "text/plain": [
       "['data/AI_HUB/AI_HUB_BOOK_SUMMARY/Training/soc_sci\\\\CNTS-00047965957_104_106-0.json',\n",
       " 'data/AI_HUB/AI_HUB_BOOK_SUMMARY/Training/soc_sci\\\\CNTS-00047965957_108_109-0.json',\n",
       " 'data/AI_HUB/AI_HUB_BOOK_SUMMARY/Training/soc_sci\\\\CNTS-00047965957_10_11-0.json',\n",
       " 'data/AI_HUB/AI_HUB_BOOK_SUMMARY/Training/soc_sci\\\\CNTS-00047965957_116_116-0.json',\n",
       " 'data/AI_HUB/AI_HUB_BOOK_SUMMARY/Training/soc_sci\\\\CNTS-00047965957_118_118-0.json']"
      ]
     },
     "execution_count": 5,
     "metadata": {},
     "output_type": "execute_result"
    }
   ],
   "source": [
    "soc_sci_file_list = glob.glob(soc_sci_data_path)\n",
    "soc_sci_file_list[:5]"
   ]
  },
  {
   "cell_type": "markdown",
   "id": "c22cb5bb",
   "metadata": {},
   "source": [
    "### 예술"
   ]
  },
  {
   "cell_type": "code",
   "execution_count": 6,
   "id": "2efa40dd",
   "metadata": {
    "scrolled": true
   },
   "outputs": [
    {
     "data": {
      "text/plain": [
       "['data/AI_HUB/AI_HUB_BOOK_SUMMARY/Training/art\\\\CNTS-00047966809_0.json',\n",
       " 'data/AI_HUB/AI_HUB_BOOK_SUMMARY/Training/art\\\\CNTS-00047966809_1.json',\n",
       " 'data/AI_HUB/AI_HUB_BOOK_SUMMARY/Training/art\\\\CNTS-00047966809_10.json',\n",
       " 'data/AI_HUB/AI_HUB_BOOK_SUMMARY/Training/art\\\\CNTS-00047966809_102.json',\n",
       " 'data/AI_HUB/AI_HUB_BOOK_SUMMARY/Training/art\\\\CNTS-00047966809_104.json']"
      ]
     },
     "execution_count": 6,
     "metadata": {},
     "output_type": "execute_result"
    }
   ],
   "source": [
    "art_file_list = glob.glob(art_data_path)\n",
    "art_file_list[:5]"
   ]
  },
  {
   "cell_type": "code",
   "execution_count": 7,
   "id": "d35fae40",
   "metadata": {},
   "outputs": [
    {
     "data": {
      "text/plain": [
       "['data/AI_HUB/AI_HUB_BOOK_SUMMARY/Training\\\\art\\\\CNTS-00047966809_0.json',\n",
       " 'data/AI_HUB/AI_HUB_BOOK_SUMMARY/Training\\\\art\\\\CNTS-00047966809_1.json',\n",
       " 'data/AI_HUB/AI_HUB_BOOK_SUMMARY/Training\\\\art\\\\CNTS-00047966809_10.json',\n",
       " 'data/AI_HUB/AI_HUB_BOOK_SUMMARY/Training\\\\art\\\\CNTS-00047966809_102.json',\n",
       " 'data/AI_HUB/AI_HUB_BOOK_SUMMARY/Training\\\\art\\\\CNTS-00047966809_104.json']"
      ]
     },
     "execution_count": 7,
     "metadata": {},
     "output_type": "execute_result"
    }
   ],
   "source": [
    "file_list = glob.glob(data_path)\n",
    "file_list[:5]"
   ]
  },
  {
   "cell_type": "markdown",
   "id": "blind-generic",
   "metadata": {},
   "source": [
    "## 1. json 파일 읽기 (테스트)"
   ]
  },
  {
   "cell_type": "markdown",
   "id": "19bcb868",
   "metadata": {},
   "source": [
    "### 기술과학"
   ]
  },
  {
   "cell_type": "code",
   "execution_count": 8,
   "id": "preceding-conservative",
   "metadata": {},
   "outputs": [],
   "source": [
    "with open('data/AI_HUB/AI_HUB_BOOK_SUMMARY/Training/sci_tech/PCY_201410221112092321_0.json', \"r\", encoding='utf8') as json_test_file:\n",
    "    load_test_json = json.load(json_test_file)"
   ]
  },
  {
   "cell_type": "code",
   "execution_count": 9,
   "id": "going-brazilian",
   "metadata": {
    "scrolled": true
   },
   "outputs": [
    {
     "data": {
      "text/plain": [
       "{'passage_id': 'PCY_201410221112092321_0',\n",
       " 'metadata': {'doc_id': 'PCY_201410221112092321',\n",
       "  'doc_type': '도서',\n",
       "  'doc_name': '수산물 수급 위기관리체계 구축을 위한 기초연구',\n",
       "  'author': None,\n",
       "  'publisher': '한국해양수산개발원',\n",
       "  'published_year': None,\n",
       "  'kdc_label': '해양수산·어촌',\n",
       "  'kdc_code': '500'},\n",
       " 'chapter': None,\n",
       " 'passage': '지금의 국가가 직면하는 위기는 전통사회의 그것과 위기의 규모뿐만아니라 종류와 성질 면에서 사뭇 다르다고 할 수 있다. 즉 현대 사회에서는 매우 다양하고 광범위하게 위기가 발생할 뿐만 아니라 지구온난화에 따른 각종 자연재해로부터 인위적 재난인 사회적 이슈로 인한 위기에 이르기까지 복잡한 양상을 보이고 있다. 따라서 위기의 영향은 한 산업뿐만 아니라 국가의 재난으로 이어지는 경우가 많다. 따라서 국가는 이러한 위기상황이 발생하였을 경우에 그 징후를 빨리 파악하고 대응하지 않으면 안 되는데, 국민의 생명과 재산을 보호하는 것이 바로 국가의 가장 기본적인 의무이기 때문이다.',\n",
       " 'summary': '현대 사회에서 발생하는 다양하고 복잡한 위기는 과거와 다르게 국가의 재난으로 이어질 수 있으므로 국가의 신속한 대책 능력이 필요하다.'}"
      ]
     },
     "execution_count": 9,
     "metadata": {},
     "output_type": "execute_result"
    }
   ],
   "source": [
    "load_test_json"
   ]
  },
  {
   "cell_type": "code",
   "execution_count": 10,
   "id": "c5b05549",
   "metadata": {
    "scrolled": false
   },
   "outputs": [
    {
     "data": {
      "text/plain": [
       "dict_keys(['passage_id', 'metadata', 'chapter', 'passage', 'summary'])"
      ]
     },
     "execution_count": 10,
     "metadata": {},
     "output_type": "execute_result"
    }
   ],
   "source": [
    "load_test_json.keys()"
   ]
  },
  {
   "cell_type": "code",
   "execution_count": 11,
   "id": "guided-paraguay",
   "metadata": {},
   "outputs": [
    {
     "data": {
      "text/plain": [
       "'지금의 국가가 직면하는 위기는 전통사회의 그것과 위기의 규모뿐만아니라 종류와 성질 면에서 사뭇 다르다고 할 수 있다. 즉 현대 사회에서는 매우 다양하고 광범위하게 위기가 발생할 뿐만 아니라 지구온난화에 따른 각종 자연재해로부터 인위적 재난인 사회적 이슈로 인한 위기에 이르기까지 복잡한 양상을 보이고 있다. 따라서 위기의 영향은 한 산업뿐만 아니라 국가의 재난으로 이어지는 경우가 많다. 따라서 국가는 이러한 위기상황이 발생하였을 경우에 그 징후를 빨리 파악하고 대응하지 않으면 안 되는데, 국민의 생명과 재산을 보호하는 것이 바로 국가의 가장 기본적인 의무이기 때문이다.'"
      ]
     },
     "execution_count": 11,
     "metadata": {},
     "output_type": "execute_result"
    }
   ],
   "source": [
    "# passage: 원문\n",
    "load_test_json['passage']"
   ]
  },
  {
   "cell_type": "code",
   "execution_count": 12,
   "id": "different-founder",
   "metadata": {
    "scrolled": true
   },
   "outputs": [
    {
     "data": {
      "text/plain": [
       "'현대 사회에서 발생하는 다양하고 복잡한 위기는 과거와 다르게 국가의 재난으로 이어질 수 있으므로 국가의 신속한 대책 능력이 필요하다.'"
      ]
     },
     "execution_count": 12,
     "metadata": {},
     "output_type": "execute_result"
    }
   ],
   "source": [
    "# summary: 요약문\n",
    "load_test_json['summary']"
   ]
  },
  {
   "cell_type": "markdown",
   "id": "e1d16db5",
   "metadata": {},
   "source": [
    "### 기타"
   ]
  },
  {
   "cell_type": "code",
   "execution_count": 13,
   "id": "5810ee7b",
   "metadata": {},
   "outputs": [],
   "source": [
    "with open('data/AI_HUB/AI_HUB_BOOK_SUMMARY/Training/etc/CNTS-00047966743_15_16-0.json', \"r\", encoding='utf8') as json_test_file:\n",
    "    load_test_json = json.load(json_test_file)"
   ]
  },
  {
   "cell_type": "code",
   "execution_count": 14,
   "id": "ec6754ee",
   "metadata": {
    "scrolled": false
   },
   "outputs": [
    {
     "data": {
      "text/plain": [
       "{'passage_id': 'CNTS-00047966743_15_16-0',\n",
       " 'metadata': {'doc_id': 'CNTS-00047966743',\n",
       "  'doc_type': '도서',\n",
       "  'doc_name': '독일어 형태론',\n",
       "  'author': '신수송 저',\n",
       "  'publisher': '역락',\n",
       "  'published_year': '2006',\n",
       "  'kdc_label': '독일어',\n",
       "  'kdc_code': '750'},\n",
       " 'chapter': '제1부. 형태론의 기초 Ⅰ. 형태론의 기본개념들 ',\n",
       " 'passage': '제1부. 형태론의 기초\\nⅠ. 형태론의 기본개념들\\n 형태론은 단어의 내적 구조를 연구하는 언어학의 한 분야이다. Saussure의 정의에 따라 언어를 인간들이 대화를 하기 위한 기호체계로 볼 때, 모든 언어의 기호체계는 감각적으로 인지할 수 있는, 즉 음성적인 연속체로서의 표현면과 의미를 담고 있는 내용면을 가진다. 그리고 이러한 기호체계를 연구하는 학문이 언어학이다. 언어학의 기초이론 분야는 음운론, 형태론, 통사론, 의미론, 화용론 등으로 구성되는데, 음운론(Phonologie)이 음소(Phonem)라는 최소 단위를 중심으로 그 결합과 교체를 기술하는 분야라면 형태론(Morphologie)은 형태소(Morphem)라는 단위를 중심으로 그 결합과 교체를 기술하는 분야라고 할 수 있다. 이 형태소들이 단어(Wort)라고 하는 단위의 구성원이 되고, 이 단어들의 결합으로 문장(Satz)이 형성되는데 이러한 단어들의 결합을 기술하는 이론분야를 우리는 통사론(Syntax)이라고 말한다. 따라서 언어학의 이론분야는 다음과 같은 문법적인 단위를 구성원으로 하는 세부 분야의 위계(Hierarchie)적인 관계로 구성되어 있다.\\n 형태소는 문장이나 단어에 직접 나타나는 것이 아니라 문장이나 단어를 분절Segmentierung)하여 의미를 지니는 최소단위의 형태를 얻고 이 형태들을 분류(Klassifikation)하여 얻게 된다. 따라서 형태소란 의미를 지니는 최소단위이고 이러한 형태소를 찾기 위한 분석절차가 필요하게 된다.',\n",
       " 'summary': '언어학은 언어가 갖고 있는 내용면과 표현면의 기호체계를 연구하는 학문이다. 형태론은 언어학의 기초이론 중 한 분야로, 형태소를 중심으로 결합과 교체를 기술하는 것이다. 형태소는 단어의 구성원이 되고, 단어는 문장을 형성한다. 형태소는 문장이나 단어를 분절하여 나타나는 의미를 지닌 최소단위이며, 이를 찾기 위한 분석절차가 필요하다.'}"
      ]
     },
     "execution_count": 14,
     "metadata": {},
     "output_type": "execute_result"
    }
   ],
   "source": [
    "load_test_json"
   ]
  },
  {
   "cell_type": "code",
   "execution_count": 15,
   "id": "16f10d77",
   "metadata": {},
   "outputs": [
    {
     "data": {
      "text/plain": [
       "'제1부. 형태론의 기초\\nⅠ. 형태론의 기본개념들\\n 형태론은 단어의 내적 구조를 연구하는 언어학의 한 분야이다. Saussure의 정의에 따라 언어를 인간들이 대화를 하기 위한 기호체계로 볼 때, 모든 언어의 기호체계는 감각적으로 인지할 수 있는, 즉 음성적인 연속체로서의 표현면과 의미를 담고 있는 내용면을 가진다. 그리고 이러한 기호체계를 연구하는 학문이 언어학이다. 언어학의 기초이론 분야는 음운론, 형태론, 통사론, 의미론, 화용론 등으로 구성되는데, 음운론(Phonologie)이 음소(Phonem)라는 최소 단위를 중심으로 그 결합과 교체를 기술하는 분야라면 형태론(Morphologie)은 형태소(Morphem)라는 단위를 중심으로 그 결합과 교체를 기술하는 분야라고 할 수 있다. 이 형태소들이 단어(Wort)라고 하는 단위의 구성원이 되고, 이 단어들의 결합으로 문장(Satz)이 형성되는데 이러한 단어들의 결합을 기술하는 이론분야를 우리는 통사론(Syntax)이라고 말한다. 따라서 언어학의 이론분야는 다음과 같은 문법적인 단위를 구성원으로 하는 세부 분야의 위계(Hierarchie)적인 관계로 구성되어 있다.\\n 형태소는 문장이나 단어에 직접 나타나는 것이 아니라 문장이나 단어를 분절Segmentierung)하여 의미를 지니는 최소단위의 형태를 얻고 이 형태들을 분류(Klassifikation)하여 얻게 된다. 따라서 형태소란 의미를 지니는 최소단위이고 이러한 형태소를 찾기 위한 분석절차가 필요하게 된다.'"
      ]
     },
     "execution_count": 15,
     "metadata": {},
     "output_type": "execute_result"
    }
   ],
   "source": [
    "# passage: 원문\n",
    "load_test_json['passage']"
   ]
  },
  {
   "cell_type": "code",
   "execution_count": 16,
   "id": "8d10fb57",
   "metadata": {
    "scrolled": false
   },
   "outputs": [
    {
     "data": {
      "text/plain": [
       "'언어학은 언어가 갖고 있는 내용면과 표현면의 기호체계를 연구하는 학문이다. 형태론은 언어학의 기초이론 중 한 분야로, 형태소를 중심으로 결합과 교체를 기술하는 것이다. 형태소는 단어의 구성원이 되고, 단어는 문장을 형성한다. 형태소는 문장이나 단어를 분절하여 나타나는 의미를 지닌 최소단위이며, 이를 찾기 위한 분석절차가 필요하다.'"
      ]
     },
     "execution_count": 16,
     "metadata": {},
     "output_type": "execute_result"
    }
   ],
   "source": [
    "# summary: 요약문\n",
    "load_test_json['summary']"
   ]
  },
  {
   "cell_type": "markdown",
   "id": "be4815d9",
   "metadata": {},
   "source": [
    "### 사회과학"
   ]
  },
  {
   "cell_type": "code",
   "execution_count": 17,
   "id": "dc498bf4",
   "metadata": {},
   "outputs": [],
   "source": [
    "with open('data/AI_HUB/AI_HUB_BOOK_SUMMARY/Training/soc_sci/CNTS-00047965957_104_106-0.json', \"r\", encoding='utf8') as json_test_file:\n",
    "    load_test_json = json.load(json_test_file)"
   ]
  },
  {
   "cell_type": "code",
   "execution_count": 18,
   "id": "442ab0b2",
   "metadata": {
    "scrolled": false
   },
   "outputs": [
    {
     "data": {
      "text/plain": [
       "{'passage_id': 'CNTS-00047965957_104_106-0',\n",
       " 'metadata': {'doc_id': 'CNTS-00047965957',\n",
       "  'doc_type': '도서',\n",
       "  'doc_name': '후진타오 시대의 중국정치',\n",
       "  'author': '조영남',\n",
       "  'publisher': '나남출판',\n",
       "  'published_year': '2006',\n",
       "  'kdc_label': '정치학',\n",
       "  'kdc_code': '340'},\n",
       " 'chapter': '2부 후진타오 시대의 등장과 정치변화 3장 후진타오 시대의 등장',\n",
       " 'passage': ' 둘째, 제 16차 당 대회에서 공산당은 삼개대표 이론에 입각하여 생산력발전과 사회진보에 공헌한 자영업자(개체호)나 사영기업가 같은 ‘선진세력’의 입당을 공식 허용했다. 이것은 사영기업가의 입당을 불허한 13년 전의 당 방침, 즉 “당 건설 강화에 대한 통치”(1989)를 철회하고, 경제적 차원뿐만 아니라 정치적 차원에서도 사영기업가 계층에게 합법적 지위를 인정한 것이다. 물론 이 조치도 언론에 보도되었던 것처럼 새롭고 획기적인 것은 아니었다. 왜냐하면 이 조치 이전에도 1990년대에 들어 각 지방에서는 사영기업가가 하나의 사회계층으로 형성되면서 입당 외에 지방의회(지방인민대표대회/지방인대) 대표가 되거나 공익사업에 출연하는 등 여러 가지 방법을 통해 자신의 정치적 지위를 높이려는 노력을 꾸준히 해왔기 때문이다. 그래서 사영경제가 발달한 일부지방에서는 현급 지방의회 의원 중에서 20-40% 정도가 사영기업가 출신인 경우도 있었다. 따라서 이 조치는 이미 현실적으로 존재하는 사실을 사후 승인한 것이다.',\n",
       " 'summary': ' 공산당은 16차 당대회에서 선진세력의 입당을 공식 허용했다. 이는 “당 건설 강화에 대한 통치”라는 당 방침을 철회하고 사영기업가 계층의 합법적 지위를 인정했지만 이전에도 사영기업가가 자신의 정치적 지위를 높이려 했기 때문에 새롭고 획기적인 조치는 아니었다.'}"
      ]
     },
     "execution_count": 18,
     "metadata": {},
     "output_type": "execute_result"
    }
   ],
   "source": [
    "load_test_json"
   ]
  },
  {
   "cell_type": "code",
   "execution_count": 19,
   "id": "46f07227",
   "metadata": {},
   "outputs": [
    {
     "data": {
      "text/plain": [
       "' 둘째, 제 16차 당 대회에서 공산당은 삼개대표 이론에 입각하여 생산력발전과 사회진보에 공헌한 자영업자(개체호)나 사영기업가 같은 ‘선진세력’의 입당을 공식 허용했다. 이것은 사영기업가의 입당을 불허한 13년 전의 당 방침, 즉 “당 건설 강화에 대한 통치”(1989)를 철회하고, 경제적 차원뿐만 아니라 정치적 차원에서도 사영기업가 계층에게 합법적 지위를 인정한 것이다. 물론 이 조치도 언론에 보도되었던 것처럼 새롭고 획기적인 것은 아니었다. 왜냐하면 이 조치 이전에도 1990년대에 들어 각 지방에서는 사영기업가가 하나의 사회계층으로 형성되면서 입당 외에 지방의회(지방인민대표대회/지방인대) 대표가 되거나 공익사업에 출연하는 등 여러 가지 방법을 통해 자신의 정치적 지위를 높이려는 노력을 꾸준히 해왔기 때문이다. 그래서 사영경제가 발달한 일부지방에서는 현급 지방의회 의원 중에서 20-40% 정도가 사영기업가 출신인 경우도 있었다. 따라서 이 조치는 이미 현실적으로 존재하는 사실을 사후 승인한 것이다.'"
      ]
     },
     "execution_count": 19,
     "metadata": {},
     "output_type": "execute_result"
    }
   ],
   "source": [
    "# passage: 원문\n",
    "load_test_json['passage']"
   ]
  },
  {
   "cell_type": "code",
   "execution_count": 20,
   "id": "02b37673",
   "metadata": {
    "scrolled": false
   },
   "outputs": [
    {
     "data": {
      "text/plain": [
       "' 공산당은 16차 당대회에서 선진세력의 입당을 공식 허용했다. 이는 “당 건설 강화에 대한 통치”라는 당 방침을 철회하고 사영기업가 계층의 합법적 지위를 인정했지만 이전에도 사영기업가가 자신의 정치적 지위를 높이려 했기 때문에 새롭고 획기적인 조치는 아니었다.'"
      ]
     },
     "execution_count": 20,
     "metadata": {},
     "output_type": "execute_result"
    }
   ],
   "source": [
    "# summary: 요약문\n",
    "load_test_json['summary']"
   ]
  },
  {
   "cell_type": "markdown",
   "id": "5a5b3f1b",
   "metadata": {},
   "source": [
    "### 예술"
   ]
  },
  {
   "cell_type": "code",
   "execution_count": 21,
   "id": "125acf22",
   "metadata": {},
   "outputs": [],
   "source": [
    "with open('data/AI_HUB/AI_HUB_BOOK_SUMMARY/Training/art/CNTS-00047966809_0.json', \"r\", encoding='utf8') as json_test_file:\n",
    "    load_test_json = json.load(json_test_file)"
   ]
  },
  {
   "cell_type": "code",
   "execution_count": 22,
   "id": "bc6c5201",
   "metadata": {
    "scrolled": true
   },
   "outputs": [
    {
     "data": {
      "text/plain": [
       "{'passage_id': 'CNTS-00047966809_0',\n",
       " 'metadata': {'doc_id': 'CNTS-00047966809',\n",
       "  'doc_type': '도서',\n",
       "  'doc_name': '북한 연극/희곡의 분석과 전망',\n",
       "  'author': '박영정',\n",
       "  'publisher': '연극과인간',\n",
       "  'published_year': '2007',\n",
       "  'kdc_label': '공연예술 및 매체예술',\n",
       "  'kdc_code': '680'},\n",
       " 'chapter': None,\n",
       " 'passage': '북한 연극에 대한 나의 탐구는 해방공간에 북으로 사라져 간 수많은 연극인들의 행적을 찾아보고자 하는 단순한 호기심에서 시작되었다. 해방공간에서 활동하던 연극인의 대다수가 납․월북의 과정을 거쳐 북한 연극계에 자리를 잡았기 때문이다. 그 안에는 극작가 송영, 함세덕, 박영호, 조영출, 연출가 이서향, 안영일, 신고송, 무대미술가 김일영, 강호, 배우 황철, 김선영, 문예봉, 만담가 신불출 등 기라성 같은 멤버들이 포함되어 있었다. 그 숫자로만 본다면 일제강점기 서울의 연극계가 통으로 평양으로 옮겨간 셈이었다. 그렇지만 이제 북한 연극에서 더 이상 그들의 존재를 확인하기 어려운 상황이다. 그들은 남에서도 북에서도 시계에서 영원히 사라져버린 ‘잃어버린 세대’ 그 자체이다. 그들의 흔적을 찾는 것은 차라리 고고학의 과제가 되었다. 그들이 역사의 저편으로 사라진 그 자리에 오늘의 북한 연극이 성채처럼 위용을 자랑하고 있다. 오늘날의 북한 연극은 모두가 주체사실주의에 입각하여 만들어지는 이른바 ‘<성황당>식 혁명연극’ 일색이다. 1978년 국립연극단의 <성황당> 공연의 성과를 본보기로 삼아 모든 연극이 ‘따라 배우기’를 하고 있기 때문이다. 북한의 연극과 희곡은 정점에서 내려 쏟는 단성적(單聲的) 문화회로 안에 갇혀 있다. 혁명연극 <성황당>(1978)의 본보기는 혁명가극 <피바다>(1971)이며, 그 근저에는 1960년대부터 시작된 김정일 주도의 문화예술혁명이 가로놓여 있다. 북한 연극의 창작과 향유, 그 모든 과정에서 김정일의 그림자에 맞닥뜨리지 않을 수 없다. 최근에 방문한 조선예술영화촬영소 에 있는 ‘문화성혁명사적관’(김정일관)에는 1960년대 중반부터 2000년대까지 40년 동안 김정일의 문화예술 부문 지도가 11,890건이며, 그 중 문화예술기관을 직접 방문하여 지도한 이른바 ‘현지지도’가 1,770건이라는 안내판이 있었다. 북한 연극이 김정일과 주체사상이라는 키워드를 떠나 존재할 수 없다는 것을 단적으로 말해 준다.',\n",
       " 'summary': '해방공간에서 활동한 대다수의 연극인은 납·월북을 통해 북한 연극계에 자리 잡았지만 이제 북한 연극에서 그들을 보기 어렵다. 그 자리에 지금 북한 연극이 자리 잡았다. 1978년 국립연극단 <성황당> 공연을 토대로 북한의 모든 연극은 ‘<성황당>식 혁명연극’ 일색이다. 북한 연극과 희곡은 단성적 문화회로에 묶여있고, 그 시작은 김정일 주도 문화예술혁명이 있고, 북한 연극의 창작과 향유 등 김정일 흔적이 있다. 김정일의 문화예술 부문 지도 기록은 북한 연극이 김정일과 주체사상을 떠날 수 없는 것을 보여준다.'}"
      ]
     },
     "execution_count": 22,
     "metadata": {},
     "output_type": "execute_result"
    }
   ],
   "source": [
    "load_test_json"
   ]
  },
  {
   "cell_type": "code",
   "execution_count": 23,
   "id": "3803d338",
   "metadata": {},
   "outputs": [
    {
     "data": {
      "text/plain": [
       "'북한 연극에 대한 나의 탐구는 해방공간에 북으로 사라져 간 수많은 연극인들의 행적을 찾아보고자 하는 단순한 호기심에서 시작되었다. 해방공간에서 활동하던 연극인의 대다수가 납․월북의 과정을 거쳐 북한 연극계에 자리를 잡았기 때문이다. 그 안에는 극작가 송영, 함세덕, 박영호, 조영출, 연출가 이서향, 안영일, 신고송, 무대미술가 김일영, 강호, 배우 황철, 김선영, 문예봉, 만담가 신불출 등 기라성 같은 멤버들이 포함되어 있었다. 그 숫자로만 본다면 일제강점기 서울의 연극계가 통으로 평양으로 옮겨간 셈이었다. 그렇지만 이제 북한 연극에서 더 이상 그들의 존재를 확인하기 어려운 상황이다. 그들은 남에서도 북에서도 시계에서 영원히 사라져버린 ‘잃어버린 세대’ 그 자체이다. 그들의 흔적을 찾는 것은 차라리 고고학의 과제가 되었다. 그들이 역사의 저편으로 사라진 그 자리에 오늘의 북한 연극이 성채처럼 위용을 자랑하고 있다. 오늘날의 북한 연극은 모두가 주체사실주의에 입각하여 만들어지는 이른바 ‘<성황당>식 혁명연극’ 일색이다. 1978년 국립연극단의 <성황당> 공연의 성과를 본보기로 삼아 모든 연극이 ‘따라 배우기’를 하고 있기 때문이다. 북한의 연극과 희곡은 정점에서 내려 쏟는 단성적(單聲的) 문화회로 안에 갇혀 있다. 혁명연극 <성황당>(1978)의 본보기는 혁명가극 <피바다>(1971)이며, 그 근저에는 1960년대부터 시작된 김정일 주도의 문화예술혁명이 가로놓여 있다. 북한 연극의 창작과 향유, 그 모든 과정에서 김정일의 그림자에 맞닥뜨리지 않을 수 없다. 최근에 방문한 조선예술영화촬영소 에 있는 ‘문화성혁명사적관’(김정일관)에는 1960년대 중반부터 2000년대까지 40년 동안 김정일의 문화예술 부문 지도가 11,890건이며, 그 중 문화예술기관을 직접 방문하여 지도한 이른바 ‘현지지도’가 1,770건이라는 안내판이 있었다. 북한 연극이 김정일과 주체사상이라는 키워드를 떠나 존재할 수 없다는 것을 단적으로 말해 준다.'"
      ]
     },
     "execution_count": 23,
     "metadata": {},
     "output_type": "execute_result"
    }
   ],
   "source": [
    "# passage: 원문\n",
    "load_test_json['passage']"
   ]
  },
  {
   "cell_type": "code",
   "execution_count": 24,
   "id": "ac080a4d",
   "metadata": {
    "scrolled": true
   },
   "outputs": [
    {
     "data": {
      "text/plain": [
       "'해방공간에서 활동한 대다수의 연극인은 납·월북을 통해 북한 연극계에 자리 잡았지만 이제 북한 연극에서 그들을 보기 어렵다. 그 자리에 지금 북한 연극이 자리 잡았다. 1978년 국립연극단 <성황당> 공연을 토대로 북한의 모든 연극은 ‘<성황당>식 혁명연극’ 일색이다. 북한 연극과 희곡은 단성적 문화회로에 묶여있고, 그 시작은 김정일 주도 문화예술혁명이 있고, 북한 연극의 창작과 향유 등 김정일 흔적이 있다. 김정일의 문화예술 부문 지도 기록은 북한 연극이 김정일과 주체사상을 떠날 수 없는 것을 보여준다.'"
      ]
     },
     "execution_count": 24,
     "metadata": {},
     "output_type": "execute_result"
    }
   ],
   "source": [
    "# summary: 요약문\n",
    "load_test_json['summary']"
   ]
  },
  {
   "cell_type": "code",
   "execution_count": 28,
   "id": "5b7a6b1f",
   "metadata": {},
   "outputs": [],
   "source": [
    "sentence_test_list = []\n",
    "summary_test_list = []\n",
    "\n",
    "sentence_test_list.append(load_test_json['passage'])\n",
    "summary_test_list.append(load_test_json['summary'])"
   ]
  },
  {
   "cell_type": "code",
   "execution_count": 29,
   "id": "55cf7cdd",
   "metadata": {},
   "outputs": [
    {
     "data": {
      "text/plain": [
       "['북한 연극에 대한 나의 탐구는 해방공간에 북으로 사라져 간 수많은 연극인들의 행적을 찾아보고자 하는 단순한 호기심에서 시작되었다. 해방공간에서 활동하던 연극인의 대다수가 납․월북의 과정을 거쳐 북한 연극계에 자리를 잡았기 때문이다. 그 안에는 극작가 송영, 함세덕, 박영호, 조영출, 연출가 이서향, 안영일, 신고송, 무대미술가 김일영, 강호, 배우 황철, 김선영, 문예봉, 만담가 신불출 등 기라성 같은 멤버들이 포함되어 있었다. 그 숫자로만 본다면 일제강점기 서울의 연극계가 통으로 평양으로 옮겨간 셈이었다. 그렇지만 이제 북한 연극에서 더 이상 그들의 존재를 확인하기 어려운 상황이다. 그들은 남에서도 북에서도 시계에서 영원히 사라져버린 ‘잃어버린 세대’ 그 자체이다. 그들의 흔적을 찾는 것은 차라리 고고학의 과제가 되었다. 그들이 역사의 저편으로 사라진 그 자리에 오늘의 북한 연극이 성채처럼 위용을 자랑하고 있다. 오늘날의 북한 연극은 모두가 주체사실주의에 입각하여 만들어지는 이른바 ‘<성황당>식 혁명연극’ 일색이다. 1978년 국립연극단의 <성황당> 공연의 성과를 본보기로 삼아 모든 연극이 ‘따라 배우기’를 하고 있기 때문이다. 북한의 연극과 희곡은 정점에서 내려 쏟는 단성적(單聲的) 문화회로 안에 갇혀 있다. 혁명연극 <성황당>(1978)의 본보기는 혁명가극 <피바다>(1971)이며, 그 근저에는 1960년대부터 시작된 김정일 주도의 문화예술혁명이 가로놓여 있다. 북한 연극의 창작과 향유, 그 모든 과정에서 김정일의 그림자에 맞닥뜨리지 않을 수 없다. 최근에 방문한 조선예술영화촬영소 에 있는 ‘문화성혁명사적관’(김정일관)에는 1960년대 중반부터 2000년대까지 40년 동안 김정일의 문화예술 부문 지도가 11,890건이며, 그 중 문화예술기관을 직접 방문하여 지도한 이른바 ‘현지지도’가 1,770건이라는 안내판이 있었다. 북한 연극이 김정일과 주체사상이라는 키워드를 떠나 존재할 수 없다는 것을 단적으로 말해 준다.']"
      ]
     },
     "execution_count": 29,
     "metadata": {},
     "output_type": "execute_result"
    }
   ],
   "source": [
    "sentence_test_list"
   ]
  },
  {
   "cell_type": "code",
   "execution_count": 30,
   "id": "a518c8ec",
   "metadata": {},
   "outputs": [
    {
     "data": {
      "text/plain": [
       "['해방공간에서 활동한 대다수의 연극인은 납·월북을 통해 북한 연극계에 자리 잡았지만 이제 북한 연극에서 그들을 보기 어렵다. 그 자리에 지금 북한 연극이 자리 잡았다. 1978년 국립연극단 <성황당> 공연을 토대로 북한의 모든 연극은 ‘<성황당>식 혁명연극’ 일색이다. 북한 연극과 희곡은 단성적 문화회로에 묶여있고, 그 시작은 김정일 주도 문화예술혁명이 있고, 북한 연극의 창작과 향유 등 김정일 흔적이 있다. 김정일의 문화예술 부문 지도 기록은 북한 연극이 김정일과 주체사상을 떠날 수 없는 것을 보여준다.']"
      ]
     },
     "execution_count": 30,
     "metadata": {},
     "output_type": "execute_result"
    }
   ],
   "source": [
    "summary_test_list"
   ]
  },
  {
   "cell_type": "markdown",
   "id": "585420c9",
   "metadata": {},
   "source": [
    "## 2. json 파일을 읽는 함수 생성"
   ]
  },
  {
   "cell_type": "code",
   "execution_count": 31,
   "id": "joined-malta",
   "metadata": {},
   "outputs": [],
   "source": [
    "sentence_list = []\n",
    "summary_list = []\n",
    "\n",
    "def load_json_file(file_list):\n",
    "    file_list_json = [file for file in file_list if file.endswith(\".json\")]\n",
    "    \n",
    "    for file in file_list_json:\n",
    "        with open(file, \"r\", encoding='utf8') as json_file:\n",
    "            json_file = json.load(json_file)\n",
    "            \n",
    "            sentence_list.append(json_file['passage'])\n",
    "            summary_list.append(json_file['summary'])"
   ]
  },
  {
   "cell_type": "code",
   "execution_count": 32,
   "id": "governmental-studio",
   "metadata": {},
   "outputs": [],
   "source": [
    "load_json_file(file_list)"
   ]
  },
  {
   "cell_type": "code",
   "execution_count": 33,
   "id": "innovative-steps",
   "metadata": {},
   "outputs": [
    {
     "data": {
      "text/plain": [
       "'북한 연극에 대한 나의 탐구는 해방공간에 북으로 사라져 간 수많은 연극인들의 행적을 찾아보고자 하는 단순한 호기심에서 시작되었다. 해방공간에서 활동하던 연극인의 대다수가 납․월북의 과정을 거쳐 북한 연극계에 자리를 잡았기 때문이다. 그 안에는 극작가 송영, 함세덕, 박영호, 조영출, 연출가 이서향, 안영일, 신고송, 무대미술가 김일영, 강호, 배우 황철, 김선영, 문예봉, 만담가 신불출 등 기라성 같은 멤버들이 포함되어 있었다. 그 숫자로만 본다면 일제강점기 서울의 연극계가 통으로 평양으로 옮겨간 셈이었다. 그렇지만 이제 북한 연극에서 더 이상 그들의 존재를 확인하기 어려운 상황이다. 그들은 남에서도 북에서도 시계에서 영원히 사라져버린 ‘잃어버린 세대’ 그 자체이다. 그들의 흔적을 찾는 것은 차라리 고고학의 과제가 되었다. 그들이 역사의 저편으로 사라진 그 자리에 오늘의 북한 연극이 성채처럼 위용을 자랑하고 있다. 오늘날의 북한 연극은 모두가 주체사실주의에 입각하여 만들어지는 이른바 ‘<성황당>식 혁명연극’ 일색이다. 1978년 국립연극단의 <성황당> 공연의 성과를 본보기로 삼아 모든 연극이 ‘따라 배우기’를 하고 있기 때문이다. 북한의 연극과 희곡은 정점에서 내려 쏟는 단성적(單聲的) 문화회로 안에 갇혀 있다. 혁명연극 <성황당>(1978)의 본보기는 혁명가극 <피바다>(1971)이며, 그 근저에는 1960년대부터 시작된 김정일 주도의 문화예술혁명이 가로놓여 있다. 북한 연극의 창작과 향유, 그 모든 과정에서 김정일의 그림자에 맞닥뜨리지 않을 수 없다. 최근에 방문한 조선예술영화촬영소 에 있는 ‘문화성혁명사적관’(김정일관)에는 1960년대 중반부터 2000년대까지 40년 동안 김정일의 문화예술 부문 지도가 11,890건이며, 그 중 문화예술기관을 직접 방문하여 지도한 이른바 ‘현지지도’가 1,770건이라는 안내판이 있었다. 북한 연극이 김정일과 주체사상이라는 키워드를 떠나 존재할 수 없다는 것을 단적으로 말해 준다.'"
      ]
     },
     "execution_count": 33,
     "metadata": {},
     "output_type": "execute_result"
    }
   ],
   "source": [
    "sentence_list[0]"
   ]
  },
  {
   "cell_type": "code",
   "execution_count": 34,
   "id": "occupational-receptor",
   "metadata": {},
   "outputs": [
    {
     "data": {
      "text/plain": [
       "'해방공간에서 활동한 대다수의 연극인은 납·월북을 통해 북한 연극계에 자리 잡았지만 이제 북한 연극에서 그들을 보기 어렵다. 그 자리에 지금 북한 연극이 자리 잡았다. 1978년 국립연극단 <성황당> 공연을 토대로 북한의 모든 연극은 ‘<성황당>식 혁명연극’ 일색이다. 북한 연극과 희곡은 단성적 문화회로에 묶여있고, 그 시작은 김정일 주도 문화예술혁명이 있고, 북한 연극의 창작과 향유 등 김정일 흔적이 있다. 김정일의 문화예술 부문 지도 기록은 북한 연극이 김정일과 주체사상을 떠날 수 없는 것을 보여준다.'"
      ]
     },
     "execution_count": 34,
     "metadata": {},
     "output_type": "execute_result"
    }
   ],
   "source": [
    "summary_list[0]"
   ]
  },
  {
   "cell_type": "code",
   "execution_count": 35,
   "id": "residential-friday",
   "metadata": {},
   "outputs": [
    {
     "name": "stdout",
     "output_type": "stream",
     "text": [
      "160002 160002\n"
     ]
    }
   ],
   "source": [
    "print(len(sentence_list), len(summary_list))"
   ]
  },
  {
   "cell_type": "markdown",
   "id": "directed-saver",
   "metadata": {},
   "source": [
    "## 3. 원문과 요약문을 DataFrame으로 변환 (원문 - 요약문 쌍 데이터)"
   ]
  },
  {
   "cell_type": "code",
   "execution_count": 36,
   "id": "through-ethnic",
   "metadata": {
    "scrolled": true
   },
   "outputs": [],
   "source": [
    "import pandas as pd"
   ]
  },
  {
   "cell_type": "code",
   "execution_count": 37,
   "id": "christian-polyester",
   "metadata": {},
   "outputs": [],
   "source": [
    "def convert_dataframe(sentence_list, summary_list):\n",
    "    df = pd.DataFrame([ x for x in zip(sentence_list, summary_list)], columns=['passage', 'summary'])\n",
    "    \n",
    "    return df"
   ]
  },
  {
   "cell_type": "code",
   "execution_count": 38,
   "id": "confused-ethnic",
   "metadata": {},
   "outputs": [
    {
     "data": {
      "text/html": [
       "<div>\n",
       "<style scoped>\n",
       "    .dataframe tbody tr th:only-of-type {\n",
       "        vertical-align: middle;\n",
       "    }\n",
       "\n",
       "    .dataframe tbody tr th {\n",
       "        vertical-align: top;\n",
       "    }\n",
       "\n",
       "    .dataframe thead th {\n",
       "        text-align: right;\n",
       "    }\n",
       "</style>\n",
       "<table border=\"1\" class=\"dataframe\">\n",
       "  <thead>\n",
       "    <tr style=\"text-align: right;\">\n",
       "      <th></th>\n",
       "      <th>passage</th>\n",
       "      <th>summary</th>\n",
       "    </tr>\n",
       "  </thead>\n",
       "  <tbody>\n",
       "    <tr>\n",
       "      <th>0</th>\n",
       "      <td>북한 연극에 대한 나의 탐구는 해방공간에 북으로 사라져 간 수많은 연극인들의 행적을...</td>\n",
       "      <td>해방공간에서 활동한 대다수의 연극인은 납·월북을 통해 북한 연극계에 자리 잡았지만 ...</td>\n",
       "    </tr>\n",
       "    <tr>\n",
       "      <th>1</th>\n",
       "      <td>이 책에서 다루고 있는 북한의 연극과 희곡은 1970년대 이래 주체사실주의에 기초하...</td>\n",
       "      <td>북한의 희곡과 연극은 주체사실주의에 바탕을 둔 국가라는 거대 주체에 의해 창작된다....</td>\n",
       "    </tr>\n",
       "    <tr>\n",
       "      <th>2</th>\n",
       "      <td>비전문극단에는 각 공장․기업소․농장․학교․군대에 편성된 예술소조들과 각 도에 편성된...</td>\n",
       "      <td>비전문극단에는 예술소조와 예술선전대, 기동예술선동대 등이 있다. 예술선전대는 전문과...</td>\n",
       "    </tr>\n",
       "    <tr>\n",
       "      <th>3</th>\n",
       "      <td>이처럼 대상 작가가 확대되어 나타난 것은 문학사 서술 체계상의 변화와 맞물려 있다는...</td>\n",
       "      <td>대상 작가가 확대된 것은 문학사 서술 체계의 변화와 관계있다. 류만의 (신)조선문학...</td>\n",
       "    </tr>\n",
       "    <tr>\n",
       "      <th>4</th>\n",
       "      <td>그렇지만 “우리는 문학사 서술에서 지난 시기의 성과와 경험을 살려 주체성의 원칙, ...</td>\n",
       "      <td>'(신)조선문학사'는 그간의 연구 성과가 집대성하고, 또 가능한 많은 작가와 작품을...</td>\n",
       "    </tr>\n",
       "    <tr>\n",
       "      <th>...</th>\n",
       "      <td>...</td>\n",
       "      <td>...</td>\n",
       "    </tr>\n",
       "    <tr>\n",
       "      <th>159997</th>\n",
       "      <td>지난해 4월 스웨덴의 여름만큼 아름답고 화창한 봄날의 판문점을 세계인이 주시했습니다...</td>\n",
       "      <td>작년 4월 김정은 위원장이 최초로 군사분계선을 넘어와, 남북 정상이 10년 만에 다...</td>\n",
       "    </tr>\n",
       "    <tr>\n",
       "      <th>159998</th>\n",
       "      <td>스웨덴의 오늘을 만든 힘은 신뢰라고 생각합니다. 스웨덴 국민은 서로를 신뢰하고 정부...</td>\n",
       "      <td>신뢰는 스웨덴의 오늘을 만든 힘으로, 스웨덴 국민들은 서로 뿐 아니라 정부와 기업도...</td>\n",
       "    </tr>\n",
       "    <tr>\n",
       "      <th>159999</th>\n",
       "      <td>셋째, 국제사회의 신뢰입니다. 반만년 역사에서 남북은 그 어떤 나라도 침략한 적이 ...</td>\n",
       "      <td>남북을 향한 국제적 제재를 풀려면 우선 세계인의 우려를 해소해야 한다. 이를 위해 ...</td>\n",
       "    </tr>\n",
       "    <tr>\n",
       "      <th>160000</th>\n",
       "      <td>문화를 수입하던 나라에서 수출하는 나라가 되었고 2012년 문화산업 흑자 국가로 탈...</td>\n",
       "      <td>불법 복제나 한류 위조상품 등으로 피해 보는 일이 없도록 저작권을 국제적으로 보호하...</td>\n",
       "    </tr>\n",
       "    <tr>\n",
       "      <th>160001</th>\n",
       "      <td>올해부터 지방소비세율이 10%p 늘어나 중앙에서 지방으로 재원이전이 본격화됩니다. ...</td>\n",
       "      <td>지역과 함께, 국민과 함께 상생도약하는 대한민국을 만들겠습니다.</td>\n",
       "    </tr>\n",
       "  </tbody>\n",
       "</table>\n",
       "<p>160002 rows × 2 columns</p>\n",
       "</div>"
      ],
      "text/plain": [
       "                                                  passage  \\\n",
       "0       북한 연극에 대한 나의 탐구는 해방공간에 북으로 사라져 간 수많은 연극인들의 행적을...   \n",
       "1       이 책에서 다루고 있는 북한의 연극과 희곡은 1970년대 이래 주체사실주의에 기초하...   \n",
       "2       비전문극단에는 각 공장․기업소․농장․학교․군대에 편성된 예술소조들과 각 도에 편성된...   \n",
       "3       이처럼 대상 작가가 확대되어 나타난 것은 문학사 서술 체계상의 변화와 맞물려 있다는...   \n",
       "4       그렇지만 “우리는 문학사 서술에서 지난 시기의 성과와 경험을 살려 주체성의 원칙, ...   \n",
       "...                                                   ...   \n",
       "159997  지난해 4월 스웨덴의 여름만큼 아름답고 화창한 봄날의 판문점을 세계인이 주시했습니다...   \n",
       "159998  스웨덴의 오늘을 만든 힘은 신뢰라고 생각합니다. 스웨덴 국민은 서로를 신뢰하고 정부...   \n",
       "159999  셋째, 국제사회의 신뢰입니다. 반만년 역사에서 남북은 그 어떤 나라도 침략한 적이 ...   \n",
       "160000  문화를 수입하던 나라에서 수출하는 나라가 되었고 2012년 문화산업 흑자 국가로 탈...   \n",
       "160001  올해부터 지방소비세율이 10%p 늘어나 중앙에서 지방으로 재원이전이 본격화됩니다. ...   \n",
       "\n",
       "                                                  summary  \n",
       "0       해방공간에서 활동한 대다수의 연극인은 납·월북을 통해 북한 연극계에 자리 잡았지만 ...  \n",
       "1       북한의 희곡과 연극은 주체사실주의에 바탕을 둔 국가라는 거대 주체에 의해 창작된다....  \n",
       "2       비전문극단에는 예술소조와 예술선전대, 기동예술선동대 등이 있다. 예술선전대는 전문과...  \n",
       "3       대상 작가가 확대된 것은 문학사 서술 체계의 변화와 관계있다. 류만의 (신)조선문학...  \n",
       "4       '(신)조선문학사'는 그간의 연구 성과가 집대성하고, 또 가능한 많은 작가와 작품을...  \n",
       "...                                                   ...  \n",
       "159997  작년 4월 김정은 위원장이 최초로 군사분계선을 넘어와, 남북 정상이 10년 만에 다...  \n",
       "159998  신뢰는 스웨덴의 오늘을 만든 힘으로, 스웨덴 국민들은 서로 뿐 아니라 정부와 기업도...  \n",
       "159999  남북을 향한 국제적 제재를 풀려면 우선 세계인의 우려를 해소해야 한다. 이를 위해 ...  \n",
       "160000  불법 복제나 한류 위조상품 등으로 피해 보는 일이 없도록 저작권을 국제적으로 보호하...  \n",
       "160001                지역과 함께, 국민과 함께 상생도약하는 대한민국을 만들겠습니다.  \n",
       "\n",
       "[160002 rows x 2 columns]"
      ]
     },
     "execution_count": 38,
     "metadata": {},
     "output_type": "execute_result"
    }
   ],
   "source": [
    "df = convert_dataframe(sentence_list, summary_list)\n",
    "df"
   ]
  },
  {
   "cell_type": "markdown",
   "id": "gross-nursing",
   "metadata": {},
   "source": [
    "## 4. csv 파일로 저장"
   ]
  },
  {
   "cell_type": "code",
   "execution_count": 39,
   "id": "known-syndrome",
   "metadata": {},
   "outputs": [],
   "source": [
    "save_file_name = 'csv/AI_HUB/AI_HUB_BOOK_SUMMARY/AI_HUB_BOOK_SUMMARY.csv'"
   ]
  },
  {
   "cell_type": "code",
   "execution_count": 40,
   "id": "fleet-consent",
   "metadata": {},
   "outputs": [],
   "source": [
    "def save_dataframe_to_csv(df, save_file_name):\n",
    "    df.to_csv(save_file_name, sep=',', na_rep='NaN', index=False, encoding='utf-8-sig')"
   ]
  },
  {
   "cell_type": "code",
   "execution_count": 41,
   "id": "decreased-asian",
   "metadata": {},
   "outputs": [],
   "source": [
    "save_dataframe_to_csv(df, save_file_name)"
   ]
  },
  {
   "cell_type": "markdown",
   "id": "hungarian-water",
   "metadata": {},
   "source": [
    "## 5. 저장한 csv 파일을 읽어오기"
   ]
  },
  {
   "cell_type": "code",
   "execution_count": 42,
   "id": "constant-volleyball",
   "metadata": {},
   "outputs": [
    {
     "data": {
      "text/html": [
       "<div>\n",
       "<style scoped>\n",
       "    .dataframe tbody tr th:only-of-type {\n",
       "        vertical-align: middle;\n",
       "    }\n",
       "\n",
       "    .dataframe tbody tr th {\n",
       "        vertical-align: top;\n",
       "    }\n",
       "\n",
       "    .dataframe thead th {\n",
       "        text-align: right;\n",
       "    }\n",
       "</style>\n",
       "<table border=\"1\" class=\"dataframe\">\n",
       "  <thead>\n",
       "    <tr style=\"text-align: right;\">\n",
       "      <th></th>\n",
       "      <th>passage</th>\n",
       "      <th>summary</th>\n",
       "    </tr>\n",
       "  </thead>\n",
       "  <tbody>\n",
       "    <tr>\n",
       "      <th>0</th>\n",
       "      <td>북한 연극에 대한 나의 탐구는 해방공간에 북으로 사라져 간 수많은 연극인들의 행적을...</td>\n",
       "      <td>해방공간에서 활동한 대다수의 연극인은 납·월북을 통해 북한 연극계에 자리 잡았지만 ...</td>\n",
       "    </tr>\n",
       "    <tr>\n",
       "      <th>1</th>\n",
       "      <td>이 책에서 다루고 있는 북한의 연극과 희곡은 1970년대 이래 주체사실주의에 기초하...</td>\n",
       "      <td>북한의 희곡과 연극은 주체사실주의에 바탕을 둔 국가라는 거대 주체에 의해 창작된다....</td>\n",
       "    </tr>\n",
       "    <tr>\n",
       "      <th>2</th>\n",
       "      <td>비전문극단에는 각 공장․기업소․농장․학교․군대에 편성된 예술소조들과 각 도에 편성된...</td>\n",
       "      <td>비전문극단에는 예술소조와 예술선전대, 기동예술선동대 등이 있다. 예술선전대는 전문과...</td>\n",
       "    </tr>\n",
       "    <tr>\n",
       "      <th>3</th>\n",
       "      <td>이처럼 대상 작가가 확대되어 나타난 것은 문학사 서술 체계상의 변화와 맞물려 있다는...</td>\n",
       "      <td>대상 작가가 확대된 것은 문학사 서술 체계의 변화와 관계있다. 류만의 (신)조선문학...</td>\n",
       "    </tr>\n",
       "    <tr>\n",
       "      <th>4</th>\n",
       "      <td>그렇지만 “우리는 문학사 서술에서 지난 시기의 성과와 경험을 살려 주체성의 원칙, ...</td>\n",
       "      <td>'(신)조선문학사'는 그간의 연구 성과가 집대성하고, 또 가능한 많은 작가와 작품을...</td>\n",
       "    </tr>\n",
       "    <tr>\n",
       "      <th>...</th>\n",
       "      <td>...</td>\n",
       "      <td>...</td>\n",
       "    </tr>\n",
       "    <tr>\n",
       "      <th>159997</th>\n",
       "      <td>지난해 4월 스웨덴의 여름만큼 아름답고 화창한 봄날의 판문점을 세계인이 주시했습니다...</td>\n",
       "      <td>작년 4월 김정은 위원장이 최초로 군사분계선을 넘어와, 남북 정상이 10년 만에 다...</td>\n",
       "    </tr>\n",
       "    <tr>\n",
       "      <th>159998</th>\n",
       "      <td>스웨덴의 오늘을 만든 힘은 신뢰라고 생각합니다. 스웨덴 국민은 서로를 신뢰하고 정부...</td>\n",
       "      <td>신뢰는 스웨덴의 오늘을 만든 힘으로, 스웨덴 국민들은 서로 뿐 아니라 정부와 기업도...</td>\n",
       "    </tr>\n",
       "    <tr>\n",
       "      <th>159999</th>\n",
       "      <td>셋째, 국제사회의 신뢰입니다. 반만년 역사에서 남북은 그 어떤 나라도 침략한 적이 ...</td>\n",
       "      <td>남북을 향한 국제적 제재를 풀려면 우선 세계인의 우려를 해소해야 한다. 이를 위해 ...</td>\n",
       "    </tr>\n",
       "    <tr>\n",
       "      <th>160000</th>\n",
       "      <td>문화를 수입하던 나라에서 수출하는 나라가 되었고 2012년 문화산업 흑자 국가로 탈...</td>\n",
       "      <td>불법 복제나 한류 위조상품 등으로 피해 보는 일이 없도록 저작권을 국제적으로 보호하...</td>\n",
       "    </tr>\n",
       "    <tr>\n",
       "      <th>160001</th>\n",
       "      <td>올해부터 지방소비세율이 10%p 늘어나 중앙에서 지방으로 재원이전이 본격화됩니다. ...</td>\n",
       "      <td>지역과 함께, 국민과 함께 상생도약하는 대한민국을 만들겠습니다.</td>\n",
       "    </tr>\n",
       "  </tbody>\n",
       "</table>\n",
       "<p>160002 rows × 2 columns</p>\n",
       "</div>"
      ],
      "text/plain": [
       "                                                  passage  \\\n",
       "0       북한 연극에 대한 나의 탐구는 해방공간에 북으로 사라져 간 수많은 연극인들의 행적을...   \n",
       "1       이 책에서 다루고 있는 북한의 연극과 희곡은 1970년대 이래 주체사실주의에 기초하...   \n",
       "2       비전문극단에는 각 공장․기업소․농장․학교․군대에 편성된 예술소조들과 각 도에 편성된...   \n",
       "3       이처럼 대상 작가가 확대되어 나타난 것은 문학사 서술 체계상의 변화와 맞물려 있다는...   \n",
       "4       그렇지만 “우리는 문학사 서술에서 지난 시기의 성과와 경험을 살려 주체성의 원칙, ...   \n",
       "...                                                   ...   \n",
       "159997  지난해 4월 스웨덴의 여름만큼 아름답고 화창한 봄날의 판문점을 세계인이 주시했습니다...   \n",
       "159998  스웨덴의 오늘을 만든 힘은 신뢰라고 생각합니다. 스웨덴 국민은 서로를 신뢰하고 정부...   \n",
       "159999  셋째, 국제사회의 신뢰입니다. 반만년 역사에서 남북은 그 어떤 나라도 침략한 적이 ...   \n",
       "160000  문화를 수입하던 나라에서 수출하는 나라가 되었고 2012년 문화산업 흑자 국가로 탈...   \n",
       "160001  올해부터 지방소비세율이 10%p 늘어나 중앙에서 지방으로 재원이전이 본격화됩니다. ...   \n",
       "\n",
       "                                                  summary  \n",
       "0       해방공간에서 활동한 대다수의 연극인은 납·월북을 통해 북한 연극계에 자리 잡았지만 ...  \n",
       "1       북한의 희곡과 연극은 주체사실주의에 바탕을 둔 국가라는 거대 주체에 의해 창작된다....  \n",
       "2       비전문극단에는 예술소조와 예술선전대, 기동예술선동대 등이 있다. 예술선전대는 전문과...  \n",
       "3       대상 작가가 확대된 것은 문학사 서술 체계의 변화와 관계있다. 류만의 (신)조선문학...  \n",
       "4       '(신)조선문학사'는 그간의 연구 성과가 집대성하고, 또 가능한 많은 작가와 작품을...  \n",
       "...                                                   ...  \n",
       "159997  작년 4월 김정은 위원장이 최초로 군사분계선을 넘어와, 남북 정상이 10년 만에 다...  \n",
       "159998  신뢰는 스웨덴의 오늘을 만든 힘으로, 스웨덴 국민들은 서로 뿐 아니라 정부와 기업도...  \n",
       "159999  남북을 향한 국제적 제재를 풀려면 우선 세계인의 우려를 해소해야 한다. 이를 위해 ...  \n",
       "160000  불법 복제나 한류 위조상품 등으로 피해 보는 일이 없도록 저작권을 국제적으로 보호하...  \n",
       "160001                지역과 함께, 국민과 함께 상생도약하는 대한민국을 만들겠습니다.  \n",
       "\n",
       "[160002 rows x 2 columns]"
      ]
     },
     "execution_count": 42,
     "metadata": {},
     "output_type": "execute_result"
    }
   ],
   "source": [
    "passage = pd.read_csv(save_file_name)\n",
    "passage"
   ]
  },
  {
   "cell_type": "code",
   "execution_count": null,
   "id": "competitive-mobile",
   "metadata": {},
   "outputs": [],
   "source": []
  }
 ],
 "metadata": {
  "kernelspec": {
   "display_name": "Python 3",
   "language": "python",
   "name": "python3"
  },
  "language_info": {
   "codemirror_mode": {
    "name": "ipython",
    "version": 3
   },
   "file_extension": ".py",
   "mimetype": "text/x-python",
   "name": "python",
   "nbconvert_exporter": "python",
   "pygments_lexer": "ipython3",
   "version": "3.8.8"
  }
 },
 "nbformat": 4,
 "nbformat_minor": 5
}
