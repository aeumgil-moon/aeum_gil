{
 "cells": [
  {
   "cell_type": "markdown",
   "id": "3a2758ce",
   "metadata": {},
   "source": [
    "# NIKL_NEWSPAPER_2020 (국립국어원 신문 말뭉치(2020) v1.1)"
   ]
  },
  {
   "cell_type": "code",
   "execution_count": 1,
   "id": "93e26e1d",
   "metadata": {},
   "outputs": [],
   "source": [
    "import json\n",
    "import os, glob"
   ]
  },
  {
   "cell_type": "markdown",
   "id": "textile-india",
   "metadata": {},
   "source": [
    "## 0. 데이터가 있는 경로로 접근"
   ]
  },
  {
   "cell_type": "code",
   "execution_count": 2,
   "id": "8060ab2c",
   "metadata": {},
   "outputs": [],
   "source": [
    "data_path = 'data/NIKL/NIKL_NEWSPAPER_2020/*'"
   ]
  },
  {
   "cell_type": "code",
   "execution_count": 3,
   "id": "82742f7e",
   "metadata": {},
   "outputs": [
    {
     "data": {
      "text/plain": [
       "['data/NIKL/NIKL_NEWSPAPER_2020\\\\NIRW2000000001.json',\n",
       " 'data/NIKL/NIKL_NEWSPAPER_2020\\\\NIRW2000000002.json',\n",
       " 'data/NIKL/NIKL_NEWSPAPER_2020\\\\NLRW2000000001.json',\n",
       " 'data/NIKL/NIKL_NEWSPAPER_2020\\\\NLRW2000000002.json',\n",
       " 'data/NIKL/NIKL_NEWSPAPER_2020\\\\NLRW2000000003.json']"
      ]
     },
     "execution_count": 3,
     "metadata": {},
     "output_type": "execute_result"
    }
   ],
   "source": [
    "file_list = glob.glob(data_path)\n",
    "file_list[:5]"
   ]
  },
  {
   "cell_type": "markdown",
   "id": "blind-generic",
   "metadata": {},
   "source": [
    "## 1. json 파일 읽기 (테스트)"
   ]
  },
  {
   "cell_type": "code",
   "execution_count": 4,
   "id": "38a71edd",
   "metadata": {},
   "outputs": [],
   "source": [
    "with open('data/NIKL/NIKL_NEWSPAPER_2020/NIRW2000000001.json', 'r', encoding='utf8') as json_file:\n",
    "    load_json = json.load(json_file)"
   ]
  },
  {
   "cell_type": "code",
   "execution_count": 5,
   "id": "4d986e82",
   "metadata": {},
   "outputs": [
    {
     "data": {
      "text/plain": [
       "dict_keys(['id', 'metadata', 'document'])"
      ]
     },
     "execution_count": 5,
     "metadata": {},
     "output_type": "execute_result"
    }
   ],
   "source": [
    "load_json.keys()"
   ]
  },
  {
   "cell_type": "code",
   "execution_count": 6,
   "id": "001db1d4",
   "metadata": {},
   "outputs": [
    {
     "data": {
      "text/plain": [
       "'NIRW2000000001'"
      ]
     },
     "execution_count": 6,
     "metadata": {},
     "output_type": "execute_result"
    }
   ],
   "source": [
    "load_json['id']"
   ]
  },
  {
   "cell_type": "code",
   "execution_count": 7,
   "id": "4c146426",
   "metadata": {},
   "outputs": [
    {
     "data": {
      "text/plain": [
       "{'title': '국립국어원 신문 말뭉치 NIRW2000000001',\n",
       " 'creator': '국립국어원',\n",
       " 'distributor': '국립국어원',\n",
       " 'year': '2019',\n",
       " 'category': '신문>인터넷 신문',\n",
       " 'annotation_level': ['원시'],\n",
       " 'sampling': '본문 전체'}"
      ]
     },
     "execution_count": 7,
     "metadata": {},
     "output_type": "execute_result"
    }
   ],
   "source": [
    "load_json['metadata']"
   ]
  },
  {
   "cell_type": "code",
   "execution_count": 8,
   "id": "9e361c8b",
   "metadata": {},
   "outputs": [
    {
     "data": {
      "text/plain": [
       "{'id': 'NIRW2000000001.1',\n",
       " 'metadata': {'title': '노컷뉴스 2019년 기사',\n",
       "  'author': '광주CBS 권신오 기자',\n",
       "  'publisher': '노컷뉴스',\n",
       "  'date': '20190120',\n",
       "  'topic': '생활',\n",
       "  'original_topic': '지역,지역일반||'},\n",
       " 'paragraph': [{'id': 'NIRW2000000001.1.1',\n",
       "   'form': \"목포시, '근대역사문화공간' 재생활성화 사업 흔들림 없이 추진\"},\n",
       "  {'id': 'NIRW2000000001.1.2',\n",
       "   'form': '전남 목포시는 최근 이목이 집중되고 있는 근대역사문화공간 재생활성화 사업을 근대문화재 보존과 활용이라는 당초 취지대로 차질없이 추진하겠다고 밝혔다.'},\n",
       "  {'id': 'NIRW2000000001.1.3',\n",
       "   'form': '이 사업은 목포 원도심인 유달‧만호동 일대에 산재해 있는 근대건축물 등 문화유산을 보존하고 보수‧정비하는 사업으로 금년부터 향후 5년간 총 사업비 500억원이 투입된다.'},\n",
       "  {'id': 'NIRW2000000001.1.4',\n",
       "   'form': '목포시는 원도심 일대의 근대경관을 회복하고 거주민 생활여건 개선과 관광인프라 확충 등을 통해 이 지역을 전국적인 근대 문화유산의 보고로 만들어 나간다는 계획이다.'},\n",
       "  {'id': 'NIRW2000000001.1.5',\n",
       "   'form': '아울러, 최근 언론의 집중 보도로 목포 근대문화재에 대해 관심이 많아진 이 기회를 문화유산 보존의 필요성과 당위성을 널리 알리고 이에 대한 사회적 합의를 이루는 계기로 만드는 노력도 기울이기로 했다.'},\n",
       "  {'id': 'NIRW2000000001.1.6',\n",
       "   'form': '올 해는 종합정비계획을 수립하고 역사문화공간 내 건축자산 매입 및 정비에 나선다. 개별문화재로 등록된 15개소를 중심으로 우선 매입하고, 역사적‧건축적 가치가 높은 건축물과 경관을 훼손하는 건축물도 매입해서 공공재로의 활용을 확대한다는 계획이다.'},\n",
       "  {'id': 'NIRW2000000001.1.7',\n",
       "   'form': '특히, 목포시는 건축자산 매입 시 공정하고 투명한 행정절차를 통해 투기자본 유입을 원천 차단한다. 또, 근대역사문화공간 내 보존 활용, 관리 및 지원 기준에 관한 조례를 제정해 젠트리피케이션 발생을 예방하고, 특정 투기세력들이 수혜를 받을 수 없도록 제도적 장치를 마련하기로 했다.'},\n",
       "  {'id': 'NIRW2000000001.1.8',\n",
       "   'form': '목포시는 근대역사문화공간 재생 활성화 시범사업이 목포의 역사적 가치를 보존하면서 지역발전도 함께 이룰 수 있는 중요한 기회이자, 소중한 문화유산을 지키기 위해 꼭 필요한 사업이라는 점을 강조했다.'},\n",
       "  {'id': 'NIRW2000000001.1.9',\n",
       "   'form': '아울러, 문화재청, 관련 기관 등과 잘 협력해 사업을 본래의 취지대로 흔들림없이 추진해서 반드시 근대문화재 보존활용의 성공 모델로 만들어 간다는 방침을 확고히 했다.'}]}"
      ]
     },
     "execution_count": 8,
     "metadata": {},
     "output_type": "execute_result"
    }
   ],
   "source": [
    "load_json['document'][0]"
   ]
  },
  {
   "cell_type": "code",
   "execution_count": 9,
   "id": "c4c7d64e",
   "metadata": {},
   "outputs": [
    {
     "data": {
      "text/plain": [
       "21343"
      ]
     },
     "execution_count": 9,
     "metadata": {},
     "output_type": "execute_result"
    }
   ],
   "source": [
    "len(load_json['document'])"
   ]
  },
  {
   "cell_type": "code",
   "execution_count": 10,
   "id": "040bdf87",
   "metadata": {},
   "outputs": [],
   "source": [
    "document_test_list = []"
   ]
  },
  {
   "cell_type": "code",
   "execution_count": 11,
   "id": "b5187a5b",
   "metadata": {},
   "outputs": [],
   "source": [
    "for idx, value in enumerate(load_json['document']):\n",
    "    load_json_contents = value['paragraph']\n",
    "    concat_value = ''\n",
    "    \n",
    "    for content in load_json_contents:\n",
    "        concat_value = concat_value + content['form'] + \" \"\n",
    "\n",
    "    document_test_list.append(concat_value)"
   ]
  },
  {
   "cell_type": "code",
   "execution_count": 12,
   "id": "168c69ba",
   "metadata": {
    "scrolled": false
   },
   "outputs": [
    {
     "data": {
      "text/plain": [
       "\"목포시, '근대역사문화공간' 재생활성화 사업 흔들림 없이 추진 전남 목포시는 최근 이목이 집중되고 있는 근대역사문화공간 재생활성화 사업을 근대문화재 보존과 활용이라는 당초 취지대로 차질없이 추진하겠다고 밝혔다. 이 사업은 목포 원도심인 유달‧만호동 일대에 산재해 있는 근대건축물 등 문화유산을 보존하고 보수‧정비하는 사업으로 금년부터 향후 5년간 총 사업비 500억원이 투입된다. 목포시는 원도심 일대의 근대경관을 회복하고 거주민 생활여건 개선과 관광인프라 확충 등을 통해 이 지역을 전국적인 근대 문화유산의 보고로 만들어 나간다는 계획이다. 아울러, 최근 언론의 집중 보도로 목포 근대문화재에 대해 관심이 많아진 이 기회를 문화유산 보존의 필요성과 당위성을 널리 알리고 이에 대한 사회적 합의를 이루는 계기로 만드는 노력도 기울이기로 했다. 올 해는 종합정비계획을 수립하고 역사문화공간 내 건축자산 매입 및 정비에 나선다. 개별문화재로 등록된 15개소를 중심으로 우선 매입하고, 역사적‧건축적 가치가 높은 건축물과 경관을 훼손하는 건축물도 매입해서 공공재로의 활용을 확대한다는 계획이다. 특히, 목포시는 건축자산 매입 시 공정하고 투명한 행정절차를 통해 투기자본 유입을 원천 차단한다. 또, 근대역사문화공간 내 보존 활용, 관리 및 지원 기준에 관한 조례를 제정해 젠트리피케이션 발생을 예방하고, 특정 투기세력들이 수혜를 받을 수 없도록 제도적 장치를 마련하기로 했다. 목포시는 근대역사문화공간 재생 활성화 시범사업이 목포의 역사적 가치를 보존하면서 지역발전도 함께 이룰 수 있는 중요한 기회이자, 소중한 문화유산을 지키기 위해 꼭 필요한 사업이라는 점을 강조했다. 아울러, 문화재청, 관련 기관 등과 잘 협력해 사업을 본래의 취지대로 흔들림없이 추진해서 반드시 근대문화재 보존활용의 성공 모델로 만들어 간다는 방침을 확고히 했다. \""
      ]
     },
     "execution_count": 12,
     "metadata": {},
     "output_type": "execute_result"
    }
   ],
   "source": [
    "document_test_list[0]"
   ]
  },
  {
   "cell_type": "markdown",
   "id": "9de83197",
   "metadata": {},
   "source": [
    "## 2. json 파일을 하나의 리스트에 담는 함수 생성"
   ]
  },
  {
   "cell_type": "code",
   "execution_count": 13,
   "id": "78ad65da",
   "metadata": {},
   "outputs": [],
   "source": [
    "# 최종적으로 신문 말뭉치를 모두 담을 리스트 생성\n",
    "document_list = []"
   ]
  },
  {
   "cell_type": "code",
   "execution_count": 14,
   "id": "30197d20",
   "metadata": {},
   "outputs": [],
   "source": [
    "def json_to_list(file_list):\n",
    "    json_file = [file for file in file_list if file.endswith('.json')]\n",
    "\n",
    "    for file in json_file: # 364개의 json파일\n",
    "        print(file)\n",
    "\n",
    "        with open(file, 'r', encoding='utf8') as f:\n",
    "            f = json.load(f)\n",
    "\n",
    "            for idx, value in enumerate(f['document']):\n",
    "                load_json_contents = value['paragraph']\n",
    "                concat_value = ''\n",
    "\n",
    "                for content in load_json_contents:\n",
    "                    concat_value = concat_value + content['form'] + \" \" # 기사 문단간 공백을 주어 구분\n",
    "\n",
    "                document_list.append(concat_value)"
   ]
  },
  {
   "cell_type": "code",
   "execution_count": 15,
   "id": "8482fc7a",
   "metadata": {},
   "outputs": [
    {
     "name": "stdout",
     "output_type": "stream",
     "text": [
      "data/NIKL/NIKL_NEWSPAPER_2020\\NIRW2000000001.json\n",
      "data/NIKL/NIKL_NEWSPAPER_2020\\NIRW2000000002.json\n",
      "data/NIKL/NIKL_NEWSPAPER_2020\\NLRW2000000001.json\n",
      "data/NIKL/NIKL_NEWSPAPER_2020\\NLRW2000000002.json\n",
      "data/NIKL/NIKL_NEWSPAPER_2020\\NLRW2000000003.json\n",
      "data/NIKL/NIKL_NEWSPAPER_2020\\NLRW2000000004.json\n",
      "data/NIKL/NIKL_NEWSPAPER_2020\\NLRW2000000005.json\n",
      "data/NIKL/NIKL_NEWSPAPER_2020\\NLRW2000000006.json\n",
      "data/NIKL/NIKL_NEWSPAPER_2020\\NLRW2000000007.json\n",
      "data/NIKL/NIKL_NEWSPAPER_2020\\NLRW2000000008.json\n",
      "data/NIKL/NIKL_NEWSPAPER_2020\\NLRW2000000009.json\n",
      "data/NIKL/NIKL_NEWSPAPER_2020\\NLRW2000000010.json\n",
      "data/NIKL/NIKL_NEWSPAPER_2020\\NLRW2000000011.json\n",
      "data/NIKL/NIKL_NEWSPAPER_2020\\NLRW2000000012.json\n",
      "data/NIKL/NIKL_NEWSPAPER_2020\\NLRW2000000013.json\n",
      "data/NIKL/NIKL_NEWSPAPER_2020\\NLRW2000000014.json\n",
      "data/NIKL/NIKL_NEWSPAPER_2020\\NLRW2000000015.json\n",
      "data/NIKL/NIKL_NEWSPAPER_2020\\NLRW2000000016.json\n",
      "data/NIKL/NIKL_NEWSPAPER_2020\\NLRW2000000017.json\n",
      "data/NIKL/NIKL_NEWSPAPER_2020\\NLRW2000000018.json\n",
      "data/NIKL/NIKL_NEWSPAPER_2020\\NLRW2000000019.json\n",
      "data/NIKL/NIKL_NEWSPAPER_2020\\NLRW2000000020.json\n",
      "data/NIKL/NIKL_NEWSPAPER_2020\\NLRW2000000021.json\n",
      "data/NIKL/NIKL_NEWSPAPER_2020\\NLRW2000000022.json\n",
      "data/NIKL/NIKL_NEWSPAPER_2020\\NLRW2000000023.json\n",
      "data/NIKL/NIKL_NEWSPAPER_2020\\NLRW2000000024.json\n",
      "data/NIKL/NIKL_NEWSPAPER_2020\\NLRW2000000025.json\n",
      "data/NIKL/NIKL_NEWSPAPER_2020\\NPRW2000000001.json\n",
      "data/NIKL/NIKL_NEWSPAPER_2020\\NPRW2000000002.json\n",
      "data/NIKL/NIKL_NEWSPAPER_2020\\NPRW2000000003.json\n",
      "data/NIKL/NIKL_NEWSPAPER_2020\\NPRW2000000004.json\n",
      "data/NIKL/NIKL_NEWSPAPER_2020\\NPRW2000000005.json\n",
      "data/NIKL/NIKL_NEWSPAPER_2020\\NWRW2000000001.json\n",
      "data/NIKL/NIKL_NEWSPAPER_2020\\NWRW2000000002.json\n",
      "data/NIKL/NIKL_NEWSPAPER_2020\\NWRW2000000003.json\n"
     ]
    }
   ],
   "source": [
    "json_to_list(file_list)"
   ]
  },
  {
   "cell_type": "code",
   "execution_count": 16,
   "id": "4af2b54a",
   "metadata": {
    "scrolled": true
   },
   "outputs": [
    {
     "name": "stdout",
     "output_type": "stream",
     "text": [
      "총 개수: 580152\n"
     ]
    }
   ],
   "source": [
    "print('총 개수: {}'.format(len(document_list)))"
   ]
  },
  {
   "cell_type": "code",
   "execution_count": 17,
   "id": "9ba14fc6",
   "metadata": {},
   "outputs": [
    {
     "data": {
      "text/plain": [
       "\"목포시, '근대역사문화공간' 재생활성화 사업 흔들림 없이 추진 전남 목포시는 최근 이목이 집중되고 있는 근대역사문화공간 재생활성화 사업을 근대문화재 보존과 활용이라는 당초 취지대로 차질없이 추진하겠다고 밝혔다. 이 사업은 목포 원도심인 유달‧만호동 일대에 산재해 있는 근대건축물 등 문화유산을 보존하고 보수‧정비하는 사업으로 금년부터 향후 5년간 총 사업비 500억원이 투입된다. 목포시는 원도심 일대의 근대경관을 회복하고 거주민 생활여건 개선과 관광인프라 확충 등을 통해 이 지역을 전국적인 근대 문화유산의 보고로 만들어 나간다는 계획이다. 아울러, 최근 언론의 집중 보도로 목포 근대문화재에 대해 관심이 많아진 이 기회를 문화유산 보존의 필요성과 당위성을 널리 알리고 이에 대한 사회적 합의를 이루는 계기로 만드는 노력도 기울이기로 했다. 올 해는 종합정비계획을 수립하고 역사문화공간 내 건축자산 매입 및 정비에 나선다. 개별문화재로 등록된 15개소를 중심으로 우선 매입하고, 역사적‧건축적 가치가 높은 건축물과 경관을 훼손하는 건축물도 매입해서 공공재로의 활용을 확대한다는 계획이다. 특히, 목포시는 건축자산 매입 시 공정하고 투명한 행정절차를 통해 투기자본 유입을 원천 차단한다. 또, 근대역사문화공간 내 보존 활용, 관리 및 지원 기준에 관한 조례를 제정해 젠트리피케이션 발생을 예방하고, 특정 투기세력들이 수혜를 받을 수 없도록 제도적 장치를 마련하기로 했다. 목포시는 근대역사문화공간 재생 활성화 시범사업이 목포의 역사적 가치를 보존하면서 지역발전도 함께 이룰 수 있는 중요한 기회이자, 소중한 문화유산을 지키기 위해 꼭 필요한 사업이라는 점을 강조했다. 아울러, 문화재청, 관련 기관 등과 잘 협력해 사업을 본래의 취지대로 흔들림없이 추진해서 반드시 근대문화재 보존활용의 성공 모델로 만들어 간다는 방침을 확고히 했다. \""
      ]
     },
     "execution_count": 17,
     "metadata": {},
     "output_type": "execute_result"
    }
   ],
   "source": [
    "document_list[0]"
   ]
  },
  {
   "cell_type": "markdown",
   "id": "directed-saver",
   "metadata": {},
   "source": [
    "## 3. 리스트를 DataFrame으로 변환"
   ]
  },
  {
   "cell_type": "code",
   "execution_count": 18,
   "id": "13decc7f",
   "metadata": {},
   "outputs": [],
   "source": [
    "import pandas as pd"
   ]
  },
  {
   "cell_type": "code",
   "execution_count": 19,
   "id": "885593f8",
   "metadata": {},
   "outputs": [],
   "source": [
    "def convert_dataframe(document_list):\n",
    "    df = pd.DataFrame(document_list, columns=['original_text'])\n",
    "    \n",
    "    return df"
   ]
  },
  {
   "cell_type": "code",
   "execution_count": 20,
   "id": "ae0e4bab",
   "metadata": {},
   "outputs": [
    {
     "data": {
      "text/html": [
       "<div>\n",
       "<style scoped>\n",
       "    .dataframe tbody tr th:only-of-type {\n",
       "        vertical-align: middle;\n",
       "    }\n",
       "\n",
       "    .dataframe tbody tr th {\n",
       "        vertical-align: top;\n",
       "    }\n",
       "\n",
       "    .dataframe thead th {\n",
       "        text-align: right;\n",
       "    }\n",
       "</style>\n",
       "<table border=\"1\" class=\"dataframe\">\n",
       "  <thead>\n",
       "    <tr style=\"text-align: right;\">\n",
       "      <th></th>\n",
       "      <th>original_text</th>\n",
       "    </tr>\n",
       "  </thead>\n",
       "  <tbody>\n",
       "    <tr>\n",
       "      <th>0</th>\n",
       "      <td>목포시, '근대역사문화공간' 재생활성화 사업 흔들림 없이 추진 전남 목포시는 최근 ...</td>\n",
       "    </tr>\n",
       "    <tr>\n",
       "      <th>1</th>\n",
       "      <td>대구·시흥 이어 안산도…홍역 전국 동시다발 '비상' 대구와 경기도 시흥에 이어 안산...</td>\n",
       "    </tr>\n",
       "    <tr>\n",
       "      <th>2</th>\n",
       "      <td>'확 달라진 베트남 축구' 박항서 매직은 현재 진행형 '박항서 매직'은 현재 진행형...</td>\n",
       "    </tr>\n",
       "    <tr>\n",
       "      <th>3</th>\n",
       "      <td>'홈' 창원에서 3년 만에 왕좌 되찾은 3점왕과 덩크왕 3점왕과 덩크왕이 홈코트에서...</td>\n",
       "    </tr>\n",
       "    <tr>\n",
       "      <th>4</th>\n",
       "      <td>대형사고 위험 77개 건설현장에 작업중지 명령 대형사고 위험이 높은 건설현장 77곳...</td>\n",
       "    </tr>\n",
       "    <tr>\n",
       "      <th>...</th>\n",
       "      <td>...</td>\n",
       "    </tr>\n",
       "    <tr>\n",
       "      <th>580147</th>\n",
       "      <td>버닝썬, 몽키뮤지엄 브랜드 사용료로 2억 지출 클럽 버닝썬 자금 2억여원이 가수 승...</td>\n",
       "    </tr>\n",
       "    <tr>\n",
       "      <th>580148</th>\n",
       "      <td>‘범죄 정의’ 못 내리는 사이 '스토킹'은 늘고 있다 [이슈+] 지난해 10월 서울...</td>\n",
       "    </tr>\n",
       "    <tr>\n",
       "      <th>580149</th>\n",
       "      <td>“트위터 최고 인기” 방탄소년단 뷔, 최단기간 180만 ‘좋아요’…해외매체도 주목 ...</td>\n",
       "    </tr>\n",
       "    <tr>\n",
       "      <th>580150</th>\n",
       "      <td>전북 ‘여행 체험 1번지’로 진화 전북도가 다양한 생태관광 프로그램을 통해 ‘여행 ...</td>\n",
       "    </tr>\n",
       "    <tr>\n",
       "      <th>580151</th>\n",
       "      <td>BTS의 위엄… 앨범 발표 4일 만에 美 빌보드+英 오피셜 차트 동시 석권 새 앨범...</td>\n",
       "    </tr>\n",
       "  </tbody>\n",
       "</table>\n",
       "<p>580152 rows × 1 columns</p>\n",
       "</div>"
      ],
      "text/plain": [
       "                                            original_text\n",
       "0       목포시, '근대역사문화공간' 재생활성화 사업 흔들림 없이 추진 전남 목포시는 최근 ...\n",
       "1       대구·시흥 이어 안산도…홍역 전국 동시다발 '비상' 대구와 경기도 시흥에 이어 안산...\n",
       "2       '확 달라진 베트남 축구' 박항서 매직은 현재 진행형 '박항서 매직'은 현재 진행형...\n",
       "3       '홈' 창원에서 3년 만에 왕좌 되찾은 3점왕과 덩크왕 3점왕과 덩크왕이 홈코트에서...\n",
       "4       대형사고 위험 77개 건설현장에 작업중지 명령 대형사고 위험이 높은 건설현장 77곳...\n",
       "...                                                   ...\n",
       "580147  버닝썬, 몽키뮤지엄 브랜드 사용료로 2억 지출 클럽 버닝썬 자금 2억여원이 가수 승...\n",
       "580148  ‘범죄 정의’ 못 내리는 사이 '스토킹'은 늘고 있다 [이슈+] 지난해 10월 서울...\n",
       "580149  “트위터 최고 인기” 방탄소년단 뷔, 최단기간 180만 ‘좋아요’…해외매체도 주목 ...\n",
       "580150  전북 ‘여행 체험 1번지’로 진화 전북도가 다양한 생태관광 프로그램을 통해 ‘여행 ...\n",
       "580151  BTS의 위엄… 앨범 발표 4일 만에 美 빌보드+英 오피셜 차트 동시 석권 새 앨범...\n",
       "\n",
       "[580152 rows x 1 columns]"
      ]
     },
     "execution_count": 20,
     "metadata": {},
     "output_type": "execute_result"
    }
   ],
   "source": [
    "df = convert_dataframe(document_list)\n",
    "df"
   ]
  },
  {
   "cell_type": "markdown",
   "id": "gross-nursing",
   "metadata": {},
   "source": [
    "## 4. csv 파일로 저장"
   ]
  },
  {
   "cell_type": "code",
   "execution_count": 21,
   "id": "e2ac250d",
   "metadata": {},
   "outputs": [],
   "source": [
    "save_file_name = 'csv/NIKL/NIKL_NEWSPAPER_2020/NIKL_NEWSPAPER_2020.csv'"
   ]
  },
  {
   "cell_type": "code",
   "execution_count": 22,
   "id": "f99ce292",
   "metadata": {},
   "outputs": [],
   "source": [
    "def save_to_csv(df, save_file_name):\n",
    "    df.to_csv(save_file_name, sep=',', na_rep='NaN', index=False, encoding='utf-8-sig')"
   ]
  },
  {
   "cell_type": "code",
   "execution_count": 23,
   "id": "66ae6194",
   "metadata": {},
   "outputs": [],
   "source": [
    "save_to_csv(df, save_file_name)"
   ]
  },
  {
   "cell_type": "markdown",
   "id": "76c06162",
   "metadata": {},
   "source": [
    "## 5. 저장한 csv 파일을 읽어오기"
   ]
  },
  {
   "cell_type": "code",
   "execution_count": 24,
   "id": "d8297c13",
   "metadata": {
    "scrolled": true
   },
   "outputs": [
    {
     "data": {
      "text/html": [
       "<div>\n",
       "<style scoped>\n",
       "    .dataframe tbody tr th:only-of-type {\n",
       "        vertical-align: middle;\n",
       "    }\n",
       "\n",
       "    .dataframe tbody tr th {\n",
       "        vertical-align: top;\n",
       "    }\n",
       "\n",
       "    .dataframe thead th {\n",
       "        text-align: right;\n",
       "    }\n",
       "</style>\n",
       "<table border=\"1\" class=\"dataframe\">\n",
       "  <thead>\n",
       "    <tr style=\"text-align: right;\">\n",
       "      <th></th>\n",
       "      <th>original_text</th>\n",
       "    </tr>\n",
       "  </thead>\n",
       "  <tbody>\n",
       "    <tr>\n",
       "      <th>0</th>\n",
       "      <td>목포시, '근대역사문화공간' 재생활성화 사업 흔들림 없이 추진 전남 목포시는 최근 ...</td>\n",
       "    </tr>\n",
       "    <tr>\n",
       "      <th>1</th>\n",
       "      <td>대구·시흥 이어 안산도…홍역 전국 동시다발 '비상' 대구와 경기도 시흥에 이어 안산...</td>\n",
       "    </tr>\n",
       "    <tr>\n",
       "      <th>2</th>\n",
       "      <td>'확 달라진 베트남 축구' 박항서 매직은 현재 진행형 '박항서 매직'은 현재 진행형...</td>\n",
       "    </tr>\n",
       "    <tr>\n",
       "      <th>3</th>\n",
       "      <td>'홈' 창원에서 3년 만에 왕좌 되찾은 3점왕과 덩크왕 3점왕과 덩크왕이 홈코트에서...</td>\n",
       "    </tr>\n",
       "    <tr>\n",
       "      <th>4</th>\n",
       "      <td>대형사고 위험 77개 건설현장에 작업중지 명령 대형사고 위험이 높은 건설현장 77곳...</td>\n",
       "    </tr>\n",
       "    <tr>\n",
       "      <th>...</th>\n",
       "      <td>...</td>\n",
       "    </tr>\n",
       "    <tr>\n",
       "      <th>580147</th>\n",
       "      <td>버닝썬, 몽키뮤지엄 브랜드 사용료로 2억 지출 클럽 버닝썬 자금 2억여원이 가수 승...</td>\n",
       "    </tr>\n",
       "    <tr>\n",
       "      <th>580148</th>\n",
       "      <td>‘범죄 정의’ 못 내리는 사이 '스토킹'은 늘고 있다 [이슈+] 지난해 10월 서울...</td>\n",
       "    </tr>\n",
       "    <tr>\n",
       "      <th>580149</th>\n",
       "      <td>“트위터 최고 인기” 방탄소년단 뷔, 최단기간 180만 ‘좋아요’…해외매체도 주목 ...</td>\n",
       "    </tr>\n",
       "    <tr>\n",
       "      <th>580150</th>\n",
       "      <td>전북 ‘여행 체험 1번지’로 진화 전북도가 다양한 생태관광 프로그램을 통해 ‘여행 ...</td>\n",
       "    </tr>\n",
       "    <tr>\n",
       "      <th>580151</th>\n",
       "      <td>BTS의 위엄… 앨범 발표 4일 만에 美 빌보드+英 오피셜 차트 동시 석권 새 앨범...</td>\n",
       "    </tr>\n",
       "  </tbody>\n",
       "</table>\n",
       "<p>580152 rows × 1 columns</p>\n",
       "</div>"
      ],
      "text/plain": [
       "                                            original_text\n",
       "0       목포시, '근대역사문화공간' 재생활성화 사업 흔들림 없이 추진 전남 목포시는 최근 ...\n",
       "1       대구·시흥 이어 안산도…홍역 전국 동시다발 '비상' 대구와 경기도 시흥에 이어 안산...\n",
       "2       '확 달라진 베트남 축구' 박항서 매직은 현재 진행형 '박항서 매직'은 현재 진행형...\n",
       "3       '홈' 창원에서 3년 만에 왕좌 되찾은 3점왕과 덩크왕 3점왕과 덩크왕이 홈코트에서...\n",
       "4       대형사고 위험 77개 건설현장에 작업중지 명령 대형사고 위험이 높은 건설현장 77곳...\n",
       "...                                                   ...\n",
       "580147  버닝썬, 몽키뮤지엄 브랜드 사용료로 2억 지출 클럽 버닝썬 자금 2억여원이 가수 승...\n",
       "580148  ‘범죄 정의’ 못 내리는 사이 '스토킹'은 늘고 있다 [이슈+] 지난해 10월 서울...\n",
       "580149  “트위터 최고 인기” 방탄소년단 뷔, 최단기간 180만 ‘좋아요’…해외매체도 주목 ...\n",
       "580150  전북 ‘여행 체험 1번지’로 진화 전북도가 다양한 생태관광 프로그램을 통해 ‘여행 ...\n",
       "580151  BTS의 위엄… 앨범 발표 4일 만에 美 빌보드+英 오피셜 차트 동시 석권 새 앨범...\n",
       "\n",
       "[580152 rows x 1 columns]"
      ]
     },
     "execution_count": 24,
     "metadata": {},
     "output_type": "execute_result"
    }
   ],
   "source": [
    "passage = pd.read_csv(save_file_name)\n",
    "passage"
   ]
  },
  {
   "cell_type": "code",
   "execution_count": null,
   "id": "513e2fa3",
   "metadata": {},
   "outputs": [],
   "source": []
  }
 ],
 "metadata": {
  "kernelspec": {
   "display_name": "Python 3",
   "language": "python",
   "name": "python3"
  },
  "language_info": {
   "codemirror_mode": {
    "name": "ipython",
    "version": 3
   },
   "file_extension": ".py",
   "mimetype": "text/x-python",
   "name": "python",
   "nbconvert_exporter": "python",
   "pygments_lexer": "ipython3",
   "version": "3.8.8"
  }
 },
 "nbformat": 4,
 "nbformat_minor": 5
}
