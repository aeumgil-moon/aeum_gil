{
 "cells": [
  {
   "cell_type": "markdown",
   "id": "d060c189",
   "metadata": {},
   "source": [
    "# AI_HUB_DOCUMENT_SUMMARY (AI HUB 문서요약 텍스트)"
   ]
  },
  {
   "cell_type": "code",
   "execution_count": 1,
   "id": "laden-laser",
   "metadata": {},
   "outputs": [],
   "source": [
    "import json\n",
    "import glob"
   ]
  },
  {
   "cell_type": "markdown",
   "id": "65cfb853",
   "metadata": {},
   "source": [
    "> 법률: law   \n",
    "사설잡지: magazine   \n",
    "신문기사: newspaper"
   ]
  },
  {
   "cell_type": "markdown",
   "id": "textile-india",
   "metadata": {},
   "source": [
    "## 0. 데이터가 있는 경로로 접근"
   ]
  },
  {
   "cell_type": "code",
   "execution_count": 2,
   "id": "particular-differential",
   "metadata": {},
   "outputs": [],
   "source": [
    "data_path = 'data/AI_HUB/AI_HUB_DOCUMENT_SUMMARY/Training/*'"
   ]
  },
  {
   "cell_type": "code",
   "execution_count": 3,
   "id": "1dccc9a7",
   "metadata": {},
   "outputs": [
    {
     "data": {
      "text/plain": [
       "['data/AI_HUB/AI_HUB_DOCUMENT_SUMMARY/Training\\\\law_train.json',\n",
       " 'data/AI_HUB/AI_HUB_DOCUMENT_SUMMARY/Training\\\\magazine_train.json',\n",
       " 'data/AI_HUB/AI_HUB_DOCUMENT_SUMMARY/Training\\\\newspaper_train.json']"
      ]
     },
     "execution_count": 3,
     "metadata": {},
     "output_type": "execute_result"
    }
   ],
   "source": [
    "file_list = glob.glob(data_path)\n",
    "file_list[:5]"
   ]
  },
  {
   "cell_type": "markdown",
   "id": "blind-generic",
   "metadata": {},
   "source": [
    "## 1. json 파일 읽기 (테스트)"
   ]
  },
  {
   "cell_type": "markdown",
   "id": "05e75266",
   "metadata": {},
   "source": [
    "### 신문기사"
   ]
  },
  {
   "cell_type": "code",
   "execution_count": 4,
   "id": "c37c4638",
   "metadata": {},
   "outputs": [],
   "source": [
    "with open('data/AI_HUB/AI_HUB_DOCUMENT_SUMMARY/Training/newspaper_train.json', \"r\", encoding='utf8') as json_test_file:\n",
    "    load_test_json = json.load(json_test_file)"
   ]
  },
  {
   "cell_type": "code",
   "execution_count": 5,
   "id": "21cefcc0",
   "metadata": {},
   "outputs": [
    {
     "data": {
      "text/plain": [
       "dict_keys(['name', 'delivery_date', 'documents'])"
      ]
     },
     "execution_count": 5,
     "metadata": {},
     "output_type": "execute_result"
    }
   ],
   "source": [
    "load_test_json.keys()"
   ]
  },
  {
   "cell_type": "code",
   "execution_count": 6,
   "id": "3341d30a",
   "metadata": {},
   "outputs": [
    {
     "data": {
      "text/plain": [
       "'문서요약 프로젝트'"
      ]
     },
     "execution_count": 6,
     "metadata": {},
     "output_type": "execute_result"
    }
   ],
   "source": [
    "load_test_json['name']"
   ]
  },
  {
   "cell_type": "code",
   "execution_count": 7,
   "id": "45e4999b",
   "metadata": {},
   "outputs": [
    {
     "data": {
      "text/plain": [
       "'2020-12-23 12:01:15'"
      ]
     },
     "execution_count": 7,
     "metadata": {},
     "output_type": "execute_result"
    }
   ],
   "source": [
    "load_test_json['delivery_date']"
   ]
  },
  {
   "cell_type": "code",
   "execution_count": 8,
   "id": "ce09f353",
   "metadata": {},
   "outputs": [
    {
     "data": {
      "text/plain": [
       "271093"
      ]
     },
     "execution_count": 8,
     "metadata": {},
     "output_type": "execute_result"
    }
   ],
   "source": [
    "len(load_test_json['documents'])"
   ]
  },
  {
   "cell_type": "code",
   "execution_count": 9,
   "id": "11d742e4",
   "metadata": {},
   "outputs": [
    {
     "data": {
      "text/plain": [
       "{'id': '290741794',\n",
       " 'category': '정치',\n",
       " 'media_type': 'online',\n",
       " 'media_sub_type': '지역지',\n",
       " 'media_name': '광양신문',\n",
       " 'size': 'small',\n",
       " 'char_count': '746',\n",
       " 'publish_date': '2018-01-05 18:50:17',\n",
       " 'title': '농업인 역량 강화, 새해 실용교육 실시',\n",
       " 'text': [[{'index': 0,\n",
       "    'sentence': '11~24일, 매실·감·참다래 등 지역특화작목',\n",
       "    'highlight_indices': ''}],\n",
       "  [{'index': 1,\n",
       "    'sentence': '이성훈 sinawi@hanmail.net',\n",
       "    'highlight_indices': ''}],\n",
       "  [{'index': 2,\n",
       "    'sentence': '광양시는 오는 11일부터 24일까지 농업인교육관과 읍면동 회의실에서 농업인 1050명을 대상으로 새해 농업인 실용교육을 실시한다.',\n",
       "    'highlight_indices': '30,31'}],\n",
       "  [{'index': 3,\n",
       "    'sentence': '이번 교육은 농산물 FTA 확대와 경기침체 등 국내외 농업여건의 어려워짐에 따라 농업인들의 경쟁력을 높이고, 소득안정을 위해 마련됐다.',\n",
       "    'highlight_indices': ''}],\n",
       "  [{'index': 4,\n",
       "    'sentence': '교육은 시의 특화작목인 감, 참다래, 생강, 매실 등에 대한 저비용 생산과 고품질 재배기술을 중점적으로 다룬다.',\n",
       "    'highlight_indices': '34,35'},\n",
       "   {'index': 5,\n",
       "    'sentence': '농가 소득을 이끌어 낼 수 있도록 품질 향상과 노동력 절감에 중점을 두고 농산물 저장과 가공, 유통, 판매 등 농업의 6차산업에 대한 교육도 이뤄진다.',\n",
       "    'highlight_indices': ''}],\n",
       "  [{'index': 6,\n",
       "    'sentence': '시는 그동안 주요소득작목을 중심으로 연중 체계적인 교육과 현장학습을 통해 농업인들의 전문기술 향상을 이끌어 내고 있다.',\n",
       "    'highlight_indices': ''},\n",
       "   {'index': 7,\n",
       "    'sentence': '아울러 기후변화에 맞춰 망고, 천혜향, 체리 등에 대한 실증시범과 재배기술교육을 통해 새로운 지역특화작목으로 육성해 나갈 계획이다.',\n",
       "    'highlight_indices': '0,3'}],\n",
       "  [{'index': 8,\n",
       "    'sentence': '이정헌 기술지원팀장은“이번 교육은 국립특작과학원과 전남농업기술원 등에서 전문가를 초빙해 품목별로 내실 있는 교육으로 진행된다”며,“많은 농가에서 이번 교육에 참여해 유익한 농업기술정보를 가져가는 시간이 되었으면 한다”고 말했다.',\n",
       "    'highlight_indices': ''}],\n",
       "  [{'index': 9,\n",
       "    'sentence': '자세한 교육 일정은 광양시 농업기술센터 홈페이지 농업인교육에서 확인할 수 있으며, 교육을 희망하는 농업인은 기술보급과 기술지원팀(797-3323)이나 읍면동 농업인상담소로 문의하면 된다.',\n",
       "    'highlight_indices': '86,87'}]],\n",
       " 'annotator_id': 12,\n",
       " 'document_quality_scores': {'readable': 4,\n",
       "  'accurate': 4,\n",
       "  'informative': 5,\n",
       "  'trustworthy': 4},\n",
       " 'extractive': [2, 3, 4],\n",
       " 'abstractive': ['광양시는 농업인들의 경쟁력을 높이고, 소득안정을 위해 매실·감·참다래 등 지역특화작목 중심으로 농업인 실용교육을 실시한다.']}"
      ]
     },
     "execution_count": 9,
     "metadata": {},
     "output_type": "execute_result"
    }
   ],
   "source": [
    "load_test_json['documents'][3]"
   ]
  },
  {
   "cell_type": "code",
   "execution_count": 10,
   "id": "bf87f2d2",
   "metadata": {},
   "outputs": [],
   "source": [
    "sentence_test_list = []\n",
    "summary_test_list = []\n",
    "\n",
    "for idx, text in enumerate(load_test_json['documents']):\n",
    "    if idx == 3:\n",
    "        summary_test_list.append(text['abstractive'][0])\n",
    "        content = text['text']\n",
    "        \n",
    "        val_test_list = []\n",
    "        concat_sentence = ''\n",
    "        \n",
    "        for value in content:\n",
    "            for val in value:\n",
    "                val_test_list.append(val['sentence'])\n",
    "        \n",
    "        concat_sentence = ' '.join(val_test_list)\n",
    "        sentence_test_list.append(concat_sentence)"
   ]
  },
  {
   "cell_type": "code",
   "execution_count": 11,
   "id": "c549851a",
   "metadata": {},
   "outputs": [
    {
     "data": {
      "text/plain": [
       "['11~24일, 매실·감·참다래 등 지역특화작목 이성훈 sinawi@hanmail.net 광양시는 오는 11일부터 24일까지 농업인교육관과 읍면동 회의실에서 농업인 1050명을 대상으로 새해 농업인 실용교육을 실시한다. 이번 교육은 농산물 FTA 확대와 경기침체 등 국내외 농업여건의 어려워짐에 따라 농업인들의 경쟁력을 높이고, 소득안정을 위해 마련됐다. 교육은 시의 특화작목인 감, 참다래, 생강, 매실 등에 대한 저비용 생산과 고품질 재배기술을 중점적으로 다룬다. 농가 소득을 이끌어 낼 수 있도록 품질 향상과 노동력 절감에 중점을 두고 농산물 저장과 가공, 유통, 판매 등 농업의 6차산업에 대한 교육도 이뤄진다. 시는 그동안 주요소득작목을 중심으로 연중 체계적인 교육과 현장학습을 통해 농업인들의 전문기술 향상을 이끌어 내고 있다. 아울러 기후변화에 맞춰 망고, 천혜향, 체리 등에 대한 실증시범과 재배기술교육을 통해 새로운 지역특화작목으로 육성해 나갈 계획이다. 이정헌 기술지원팀장은“이번 교육은 국립특작과학원과 전남농업기술원 등에서 전문가를 초빙해 품목별로 내실 있는 교육으로 진행된다”며,“많은 농가에서 이번 교육에 참여해 유익한 농업기술정보를 가져가는 시간이 되었으면 한다”고 말했다. 자세한 교육 일정은 광양시 농업기술센터 홈페이지 농업인교육에서 확인할 수 있으며, 교육을 희망하는 농업인은 기술보급과 기술지원팀(797-3323)이나 읍면동 농업인상담소로 문의하면 된다.']"
      ]
     },
     "execution_count": 11,
     "metadata": {},
     "output_type": "execute_result"
    }
   ],
   "source": [
    "sentence_test_list"
   ]
  },
  {
   "cell_type": "code",
   "execution_count": 12,
   "id": "48c82801",
   "metadata": {
    "scrolled": true
   },
   "outputs": [
    {
     "data": {
      "text/plain": [
       "['광양시는 농업인들의 경쟁력을 높이고, 소득안정을 위해 매실·감·참다래 등 지역특화작목 중심으로 농업인 실용교육을 실시한다.']"
      ]
     },
     "execution_count": 12,
     "metadata": {},
     "output_type": "execute_result"
    }
   ],
   "source": [
    "summary_test_list"
   ]
  },
  {
   "cell_type": "markdown",
   "id": "585420c9",
   "metadata": {},
   "source": [
    "## 2. json 파일을 읽는 함수 생성"
   ]
  },
  {
   "cell_type": "code",
   "execution_count": 13,
   "id": "joined-malta",
   "metadata": {},
   "outputs": [],
   "source": [
    "sentence_list = []\n",
    "summary_list = []\n",
    "\n",
    "def load_json_file(file_list):\n",
    "    file_list_json = [file for file in file_list if file.endswith(\"newspaper_train.json\")]\n",
    "    \n",
    "    for file in file_list_json:\n",
    "        with open(file, \"r\", encoding='utf8') as json_file:\n",
    "            json_file = json.load(json_file)\n",
    "            \n",
    "            for idx, text in enumerate(json_file['documents']):\n",
    "                summary_list.append(text['abstractive'][0])\n",
    "                content = text['text']\n",
    "\n",
    "                val_list = []\n",
    "                concat_sentence = ''\n",
    "\n",
    "                for value in content:\n",
    "                    for val in value:\n",
    "                        val_list.append(val['sentence'])\n",
    "\n",
    "                concat_sentence = ' '.join(val_list)\n",
    "                sentence_list.append(concat_sentence)"
   ]
  },
  {
   "cell_type": "code",
   "execution_count": 14,
   "id": "governmental-studio",
   "metadata": {},
   "outputs": [],
   "source": [
    "load_json_file(file_list)"
   ]
  },
  {
   "cell_type": "code",
   "execution_count": 15,
   "id": "innovative-steps",
   "metadata": {},
   "outputs": [
    {
     "data": {
      "text/plain": [
       "'ha당 조사료 400만원…작물별 차등 지원 이성훈 sinawi@hanmail.net 전라남도가 쌀 과잉문제를 근본적으로 해결하기 위해 올해부터 시행하는 쌀 생산조정제를 적극 추진키로 했다. 쌀 생산조정제는 벼를 심었던 논에 벼 대신 사료작물이나 콩 등 다른 작물을 심으면 벼와의 일정 소득차를 보전해주는 제도다. 올해 전남의 논 다른 작물 재배 계획면적은 전국 5만ha의 약 21%인 1만 698ha로, 세부시행지침을 확정, 시군에 통보했다. 지원사업 대상은 2017년산 쌀 변동직불금을 받은 농지에 10a(300평) 이상 벼 이외 다른 작물을 재배한 농업인이다. 지원 대상 작물은 1년생을 포함한 다년생의 모든 작물이 해당되나 재배 면적 확대 시 수급과잉이 우려되는 고추, 무, 배추, 인삼, 대파 등 수급 불안 품목은 제외된다. 농지의 경우도 이미 다른 작물 재배 의무가 부여된 간척지, 정부매입비축농지, 농진청 시범사업, 경관보전 직불금 수령 농지 등은 제외될 예정이다. ha(3000평)당 지원 단가는 평균 340만원으로 사료작물 400만원, 일반작물은 340만원, 콩·팥 등 두류작물은 280만원 등이다. 벼와 소득차와 영농 편이성을 감안해 작물별로 차등 지원된다. 논에 다른 작물 재배를 바라는 농가는 오는 22일부터 2월 28일까지 농지 소재지 읍면동사무소에 신청해야 한다. 전남도는 도와 시군에 관련 기관과 농가 등이 참여하는‘논 타작물 지원사업 추진협의회’를 구성, 지역 특성에 맞는 작목 선정 및 사업 심의 등을 본격 추진할 방침이다. 최향철 전라남도 친환경농업과장은 “최근 쌀값이 다소 상승추세에 있으나 매년 공급과잉에 따른 가격 하락으로 쌀농가에 어려움이 있었다”며“쌀 공급과잉을 구조적으로 해결하도록 논 타작물 재배 지원사업에 많이 참여해주길 바란다”고 말했다.'"
      ]
     },
     "execution_count": 15,
     "metadata": {},
     "output_type": "execute_result"
    }
   ],
   "source": [
    "sentence_list[0]"
   ]
  },
  {
   "cell_type": "code",
   "execution_count": 16,
   "id": "occupational-receptor",
   "metadata": {},
   "outputs": [
    {
     "data": {
      "text/plain": [
       "\"전라남도가 쌀 과잉문제를 근본적으로 해결하기 위해 올해부터 벼를 심었던 논에 벼 대신 사료작물이나 콩 등 다른 작물을 심으면 벼와의 일정 소득차를 보전해주는 '쌀 생산조정제'를 적극적으로 시행하기로 하고 오는 22일부터 2월 28일까지 농지 소재지 읍면동사무소에서 신청받는다 .\""
      ]
     },
     "execution_count": 16,
     "metadata": {},
     "output_type": "execute_result"
    }
   ],
   "source": [
    "summary_list[0]"
   ]
  },
  {
   "cell_type": "code",
   "execution_count": 17,
   "id": "residential-friday",
   "metadata": {},
   "outputs": [
    {
     "name": "stdout",
     "output_type": "stream",
     "text": [
      "271093 271093\n"
     ]
    }
   ],
   "source": [
    "print(len(sentence_list), len(summary_list))"
   ]
  },
  {
   "cell_type": "markdown",
   "id": "directed-saver",
   "metadata": {},
   "source": [
    "## 3. 원문과 요약문을 DataFrame으로 변환 (원문 - 요약문 쌍 데이터)"
   ]
  },
  {
   "cell_type": "code",
   "execution_count": 18,
   "id": "through-ethnic",
   "metadata": {
    "scrolled": true
   },
   "outputs": [],
   "source": [
    "import pandas as pd"
   ]
  },
  {
   "cell_type": "code",
   "execution_count": 19,
   "id": "christian-polyester",
   "metadata": {},
   "outputs": [],
   "source": [
    "def convert_dataframe(sentence_list, summary_list):\n",
    "    df = pd.DataFrame([ x for x in zip(sentence_list, summary_list)], columns=['original_text', 'summary'])\n",
    "    \n",
    "    return df"
   ]
  },
  {
   "cell_type": "code",
   "execution_count": 20,
   "id": "confused-ethnic",
   "metadata": {},
   "outputs": [
    {
     "data": {
      "text/html": [
       "<div>\n",
       "<style scoped>\n",
       "    .dataframe tbody tr th:only-of-type {\n",
       "        vertical-align: middle;\n",
       "    }\n",
       "\n",
       "    .dataframe tbody tr th {\n",
       "        vertical-align: top;\n",
       "    }\n",
       "\n",
       "    .dataframe thead th {\n",
       "        text-align: right;\n",
       "    }\n",
       "</style>\n",
       "<table border=\"1\" class=\"dataframe\">\n",
       "  <thead>\n",
       "    <tr style=\"text-align: right;\">\n",
       "      <th></th>\n",
       "      <th>original_text</th>\n",
       "      <th>summary</th>\n",
       "    </tr>\n",
       "  </thead>\n",
       "  <tbody>\n",
       "    <tr>\n",
       "      <th>0</th>\n",
       "      <td>ha당 조사료 400만원…작물별 차등 지원 이성훈 sinawi@hanmail.net...</td>\n",
       "      <td>전라남도가 쌀 과잉문제를 근본적으로 해결하기 위해 올해부터 벼를 심었던 논에 벼 대...</td>\n",
       "    </tr>\n",
       "    <tr>\n",
       "      <th>1</th>\n",
       "      <td>8억 투입, 고소천사벽화·자산마을에 색채 입혀 이성훈 sinawi@hanmail.n...</td>\n",
       "      <td>여수시는 컬러빌리지 사업에 8억원을 투입하여 ‘색채와 빛’ 도시를 완성하여 고소천사...</td>\n",
       "    </tr>\n",
       "    <tr>\n",
       "      <th>2</th>\n",
       "      <td>전남드래곤즈 해맞이 다짐…선수 영입 활발 이성훈 sinawi@hanmail.net ...</td>\n",
       "      <td>전남드래곤즈 임직원과 선수단이 4일 구봉산 정상에 올라 일출을 보며 2018년 구단...</td>\n",
       "    </tr>\n",
       "    <tr>\n",
       "      <th>3</th>\n",
       "      <td>11~24일, 매실·감·참다래 등 지역특화작목 이성훈 sinawi@hanmail.n...</td>\n",
       "      <td>광양시는 농업인들의 경쟁력을 높이고, 소득안정을 위해 매실·감·참다래 등 지역특화작...</td>\n",
       "    </tr>\n",
       "    <tr>\n",
       "      <th>4</th>\n",
       "      <td>홍콩 크루즈선사‘아쿠아리우스’ 4, 6월 여수항 입항 이성훈 sinawi@hanma...</td>\n",
       "      <td>올해 4월과 6월 두 차례에 걸쳐 타이완의 크루즈 관광객 4000여명이 여수에 입항...</td>\n",
       "    </tr>\n",
       "    <tr>\n",
       "      <th>...</th>\n",
       "      <td>...</td>\n",
       "      <td>...</td>\n",
       "    </tr>\n",
       "    <tr>\n",
       "      <th>271088</th>\n",
       "      <td>[ 노유정 기자 ] 조양호 한진그룹 회장의 갑작스런 타계 소식이 전해진 8일 오전,...</td>\n",
       "      <td>8일 미국에서 들려온 조양호 한진그룹 회장의 사망 소식에 서울 공항동 대한항공 본사...</td>\n",
       "    </tr>\n",
       "    <tr>\n",
       "      <th>271089</th>\n",
       "      <td>] 조양호 한진그룹 회장이 타계하자 재계는 일제히 추모성명을 냈다. 전국경제인연합회...</td>\n",
       "      <td>조양호 한진그룹 회장이 타계하고 8일 전국경제인연합회는 논평을 통해 한국 항공과 물...</td>\n",
       "    </tr>\n",
       "    <tr>\n",
       "      <th>271090</th>\n",
       "      <td>[ 김익환 기자 ] 조양호 한진그룹 회장이 타계하면서 그의 재산을 물려받을 장남 조...</td>\n",
       "      <td>고 조 회장의 한진칼, 한진 등 상장회사의 주식가격 총합은 약 3560억 정도 되며...</td>\n",
       "    </tr>\n",
       "    <tr>\n",
       "      <th>271091</th>\n",
       "      <td>[ 김보형 기자 ] 조양호 한진그룹 회장이 8일 타계하면서 그의 장남인 조원태 대한...</td>\n",
       "      <td>지난 8일 조양호 한진그룹 회장이 별세하면서 한진그룹은 비상경영체제에 돌입했고, 그...</td>\n",
       "    </tr>\n",
       "    <tr>\n",
       "      <th>271092</th>\n",
       "      <td>[ 박동휘 기자 ] 국방부가 8일 상반기 군 장성 인사를 단행했다. 한국군 주도의 ...</td>\n",
       "      <td>국방부는 8일 신임 육군참모총장에 '서욱' 합동참모본부 작전본부장, 신임 공군참모총...</td>\n",
       "    </tr>\n",
       "  </tbody>\n",
       "</table>\n",
       "<p>271093 rows × 2 columns</p>\n",
       "</div>"
      ],
      "text/plain": [
       "                                            original_text  \\\n",
       "0       ha당 조사료 400만원…작물별 차등 지원 이성훈 sinawi@hanmail.net...   \n",
       "1       8억 투입, 고소천사벽화·자산마을에 색채 입혀 이성훈 sinawi@hanmail.n...   \n",
       "2       전남드래곤즈 해맞이 다짐…선수 영입 활발 이성훈 sinawi@hanmail.net ...   \n",
       "3       11~24일, 매실·감·참다래 등 지역특화작목 이성훈 sinawi@hanmail.n...   \n",
       "4       홍콩 크루즈선사‘아쿠아리우스’ 4, 6월 여수항 입항 이성훈 sinawi@hanma...   \n",
       "...                                                   ...   \n",
       "271088  [ 노유정 기자 ] 조양호 한진그룹 회장의 갑작스런 타계 소식이 전해진 8일 오전,...   \n",
       "271089  ] 조양호 한진그룹 회장이 타계하자 재계는 일제히 추모성명을 냈다. 전국경제인연합회...   \n",
       "271090  [ 김익환 기자 ] 조양호 한진그룹 회장이 타계하면서 그의 재산을 물려받을 장남 조...   \n",
       "271091  [ 김보형 기자 ] 조양호 한진그룹 회장이 8일 타계하면서 그의 장남인 조원태 대한...   \n",
       "271092  [ 박동휘 기자 ] 국방부가 8일 상반기 군 장성 인사를 단행했다. 한국군 주도의 ...   \n",
       "\n",
       "                                                  summary  \n",
       "0       전라남도가 쌀 과잉문제를 근본적으로 해결하기 위해 올해부터 벼를 심었던 논에 벼 대...  \n",
       "1       여수시는 컬러빌리지 사업에 8억원을 투입하여 ‘색채와 빛’ 도시를 완성하여 고소천사...  \n",
       "2       전남드래곤즈 임직원과 선수단이 4일 구봉산 정상에 올라 일출을 보며 2018년 구단...  \n",
       "3       광양시는 농업인들의 경쟁력을 높이고, 소득안정을 위해 매실·감·참다래 등 지역특화작...  \n",
       "4       올해 4월과 6월 두 차례에 걸쳐 타이완의 크루즈 관광객 4000여명이 여수에 입항...  \n",
       "...                                                   ...  \n",
       "271088  8일 미국에서 들려온 조양호 한진그룹 회장의 사망 소식에 서울 공항동 대한항공 본사...  \n",
       "271089  조양호 한진그룹 회장이 타계하고 8일 전국경제인연합회는 논평을 통해 한국 항공과 물...  \n",
       "271090  고 조 회장의 한진칼, 한진 등 상장회사의 주식가격 총합은 약 3560억 정도 되며...  \n",
       "271091  지난 8일 조양호 한진그룹 회장이 별세하면서 한진그룹은 비상경영체제에 돌입했고, 그...  \n",
       "271092  국방부는 8일 신임 육군참모총장에 '서욱' 합동참모본부 작전본부장, 신임 공군참모총...  \n",
       "\n",
       "[271093 rows x 2 columns]"
      ]
     },
     "execution_count": 20,
     "metadata": {},
     "output_type": "execute_result"
    }
   ],
   "source": [
    "df = convert_dataframe(sentence_list, summary_list)\n",
    "df"
   ]
  },
  {
   "cell_type": "markdown",
   "id": "gross-nursing",
   "metadata": {},
   "source": [
    "## 4. csv 파일로 저장"
   ]
  },
  {
   "cell_type": "code",
   "execution_count": 21,
   "id": "known-syndrome",
   "metadata": {},
   "outputs": [],
   "source": [
    "save_file_name = 'csv/AI_HUB/AI_HUB_DOCUMENT_SUMMARY/AI_HUB_DOCUMENT_SUMMARY.csv'"
   ]
  },
  {
   "cell_type": "code",
   "execution_count": 22,
   "id": "fleet-consent",
   "metadata": {},
   "outputs": [],
   "source": [
    "def save_dataframe_to_csv(df, save_file_name):\n",
    "    df.to_csv(save_file_name, sep=',', na_rep='NaN', index=False, encoding='utf-8-sig')"
   ]
  },
  {
   "cell_type": "code",
   "execution_count": 23,
   "id": "decreased-asian",
   "metadata": {},
   "outputs": [],
   "source": [
    "save_dataframe_to_csv(df, save_file_name)"
   ]
  },
  {
   "cell_type": "markdown",
   "id": "hungarian-water",
   "metadata": {},
   "source": [
    "## 5. 저장한 csv 파일을 읽어오기"
   ]
  },
  {
   "cell_type": "code",
   "execution_count": 24,
   "id": "constant-volleyball",
   "metadata": {},
   "outputs": [
    {
     "data": {
      "text/html": [
       "<div>\n",
       "<style scoped>\n",
       "    .dataframe tbody tr th:only-of-type {\n",
       "        vertical-align: middle;\n",
       "    }\n",
       "\n",
       "    .dataframe tbody tr th {\n",
       "        vertical-align: top;\n",
       "    }\n",
       "\n",
       "    .dataframe thead th {\n",
       "        text-align: right;\n",
       "    }\n",
       "</style>\n",
       "<table border=\"1\" class=\"dataframe\">\n",
       "  <thead>\n",
       "    <tr style=\"text-align: right;\">\n",
       "      <th></th>\n",
       "      <th>original_text</th>\n",
       "      <th>summary</th>\n",
       "    </tr>\n",
       "  </thead>\n",
       "  <tbody>\n",
       "    <tr>\n",
       "      <th>0</th>\n",
       "      <td>ha당 조사료 400만원…작물별 차등 지원 이성훈 sinawi@hanmail.net...</td>\n",
       "      <td>전라남도가 쌀 과잉문제를 근본적으로 해결하기 위해 올해부터 벼를 심었던 논에 벼 대...</td>\n",
       "    </tr>\n",
       "    <tr>\n",
       "      <th>1</th>\n",
       "      <td>8억 투입, 고소천사벽화·자산마을에 색채 입혀 이성훈 sinawi@hanmail.n...</td>\n",
       "      <td>여수시는 컬러빌리지 사업에 8억원을 투입하여 ‘색채와 빛’ 도시를 완성하여 고소천사...</td>\n",
       "    </tr>\n",
       "    <tr>\n",
       "      <th>2</th>\n",
       "      <td>전남드래곤즈 해맞이 다짐…선수 영입 활발 이성훈 sinawi@hanmail.net ...</td>\n",
       "      <td>전남드래곤즈 임직원과 선수단이 4일 구봉산 정상에 올라 일출을 보며 2018년 구단...</td>\n",
       "    </tr>\n",
       "    <tr>\n",
       "      <th>3</th>\n",
       "      <td>11~24일, 매실·감·참다래 등 지역특화작목 이성훈 sinawi@hanmail.n...</td>\n",
       "      <td>광양시는 농업인들의 경쟁력을 높이고, 소득안정을 위해 매실·감·참다래 등 지역특화작...</td>\n",
       "    </tr>\n",
       "    <tr>\n",
       "      <th>4</th>\n",
       "      <td>홍콩 크루즈선사‘아쿠아리우스’ 4, 6월 여수항 입항 이성훈 sinawi@hanma...</td>\n",
       "      <td>올해 4월과 6월 두 차례에 걸쳐 타이완의 크루즈 관광객 4000여명이 여수에 입항...</td>\n",
       "    </tr>\n",
       "    <tr>\n",
       "      <th>...</th>\n",
       "      <td>...</td>\n",
       "      <td>...</td>\n",
       "    </tr>\n",
       "    <tr>\n",
       "      <th>271088</th>\n",
       "      <td>[ 노유정 기자 ] 조양호 한진그룹 회장의 갑작스런 타계 소식이 전해진 8일 오전,...</td>\n",
       "      <td>8일 미국에서 들려온 조양호 한진그룹 회장의 사망 소식에 서울 공항동 대한항공 본사...</td>\n",
       "    </tr>\n",
       "    <tr>\n",
       "      <th>271089</th>\n",
       "      <td>] 조양호 한진그룹 회장이 타계하자 재계는 일제히 추모성명을 냈다. 전국경제인연합회...</td>\n",
       "      <td>조양호 한진그룹 회장이 타계하고 8일 전국경제인연합회는 논평을 통해 한국 항공과 물...</td>\n",
       "    </tr>\n",
       "    <tr>\n",
       "      <th>271090</th>\n",
       "      <td>[ 김익환 기자 ] 조양호 한진그룹 회장이 타계하면서 그의 재산을 물려받을 장남 조...</td>\n",
       "      <td>고 조 회장의 한진칼, 한진 등 상장회사의 주식가격 총합은 약 3560억 정도 되며...</td>\n",
       "    </tr>\n",
       "    <tr>\n",
       "      <th>271091</th>\n",
       "      <td>[ 김보형 기자 ] 조양호 한진그룹 회장이 8일 타계하면서 그의 장남인 조원태 대한...</td>\n",
       "      <td>지난 8일 조양호 한진그룹 회장이 별세하면서 한진그룹은 비상경영체제에 돌입했고, 그...</td>\n",
       "    </tr>\n",
       "    <tr>\n",
       "      <th>271092</th>\n",
       "      <td>[ 박동휘 기자 ] 국방부가 8일 상반기 군 장성 인사를 단행했다. 한국군 주도의 ...</td>\n",
       "      <td>국방부는 8일 신임 육군참모총장에 '서욱' 합동참모본부 작전본부장, 신임 공군참모총...</td>\n",
       "    </tr>\n",
       "  </tbody>\n",
       "</table>\n",
       "<p>271093 rows × 2 columns</p>\n",
       "</div>"
      ],
      "text/plain": [
       "                                            original_text  \\\n",
       "0       ha당 조사료 400만원…작물별 차등 지원 이성훈 sinawi@hanmail.net...   \n",
       "1       8억 투입, 고소천사벽화·자산마을에 색채 입혀 이성훈 sinawi@hanmail.n...   \n",
       "2       전남드래곤즈 해맞이 다짐…선수 영입 활발 이성훈 sinawi@hanmail.net ...   \n",
       "3       11~24일, 매실·감·참다래 등 지역특화작목 이성훈 sinawi@hanmail.n...   \n",
       "4       홍콩 크루즈선사‘아쿠아리우스’ 4, 6월 여수항 입항 이성훈 sinawi@hanma...   \n",
       "...                                                   ...   \n",
       "271088  [ 노유정 기자 ] 조양호 한진그룹 회장의 갑작스런 타계 소식이 전해진 8일 오전,...   \n",
       "271089  ] 조양호 한진그룹 회장이 타계하자 재계는 일제히 추모성명을 냈다. 전국경제인연합회...   \n",
       "271090  [ 김익환 기자 ] 조양호 한진그룹 회장이 타계하면서 그의 재산을 물려받을 장남 조...   \n",
       "271091  [ 김보형 기자 ] 조양호 한진그룹 회장이 8일 타계하면서 그의 장남인 조원태 대한...   \n",
       "271092  [ 박동휘 기자 ] 국방부가 8일 상반기 군 장성 인사를 단행했다. 한국군 주도의 ...   \n",
       "\n",
       "                                                  summary  \n",
       "0       전라남도가 쌀 과잉문제를 근본적으로 해결하기 위해 올해부터 벼를 심었던 논에 벼 대...  \n",
       "1       여수시는 컬러빌리지 사업에 8억원을 투입하여 ‘색채와 빛’ 도시를 완성하여 고소천사...  \n",
       "2       전남드래곤즈 임직원과 선수단이 4일 구봉산 정상에 올라 일출을 보며 2018년 구단...  \n",
       "3       광양시는 농업인들의 경쟁력을 높이고, 소득안정을 위해 매실·감·참다래 등 지역특화작...  \n",
       "4       올해 4월과 6월 두 차례에 걸쳐 타이완의 크루즈 관광객 4000여명이 여수에 입항...  \n",
       "...                                                   ...  \n",
       "271088  8일 미국에서 들려온 조양호 한진그룹 회장의 사망 소식에 서울 공항동 대한항공 본사...  \n",
       "271089  조양호 한진그룹 회장이 타계하고 8일 전국경제인연합회는 논평을 통해 한국 항공과 물...  \n",
       "271090  고 조 회장의 한진칼, 한진 등 상장회사의 주식가격 총합은 약 3560억 정도 되며...  \n",
       "271091  지난 8일 조양호 한진그룹 회장이 별세하면서 한진그룹은 비상경영체제에 돌입했고, 그...  \n",
       "271092  국방부는 8일 신임 육군참모총장에 '서욱' 합동참모본부 작전본부장, 신임 공군참모총...  \n",
       "\n",
       "[271093 rows x 2 columns]"
      ]
     },
     "execution_count": 24,
     "metadata": {},
     "output_type": "execute_result"
    }
   ],
   "source": [
    "passage = pd.read_csv(save_file_name)\n",
    "passage"
   ]
  },
  {
   "cell_type": "code",
   "execution_count": null,
   "id": "competitive-mobile",
   "metadata": {},
   "outputs": [],
   "source": []
  }
 ],
 "metadata": {
  "kernelspec": {
   "display_name": "Python 3",
   "language": "python",
   "name": "python3"
  },
  "language_info": {
   "codemirror_mode": {
    "name": "ipython",
    "version": 3
   },
   "file_extension": ".py",
   "mimetype": "text/x-python",
   "name": "python",
   "nbconvert_exporter": "python",
   "pygments_lexer": "ipython3",
   "version": "3.8.8"
  }
 },
 "nbformat": 4,
 "nbformat_minor": 5
}
