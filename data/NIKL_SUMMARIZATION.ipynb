{
 "cells": [
  {
   "cell_type": "markdown",
   "id": "58f20488",
   "metadata": {},
   "source": [
    "# NIKL_SUMMARIZATION (국립국어원 문서 요약 말뭉치)"
   ]
  },
  {
   "cell_type": "code",
   "execution_count": 1,
   "id": "6188f7a5",
   "metadata": {},
   "outputs": [],
   "source": [
    "import json\n",
    "import os, glob"
   ]
  },
  {
   "cell_type": "markdown",
   "id": "textile-india",
   "metadata": {},
   "source": [
    "## 0. 데이터가 있는 경로로 접근"
   ]
  },
  {
   "cell_type": "code",
   "execution_count": 2,
   "id": "5575efdd",
   "metadata": {},
   "outputs": [],
   "source": [
    "data_path = 'data/NIKL/NIKL_SUMMARIZATION/*'"
   ]
  },
  {
   "cell_type": "code",
   "execution_count": 3,
   "id": "a46f1782",
   "metadata": {},
   "outputs": [
    {
     "data": {
      "text/plain": [
       "['data/NIKL/NIKL_SUMMARIZATION\\\\NIKL_SC.json']"
      ]
     },
     "execution_count": 3,
     "metadata": {},
     "output_type": "execute_result"
    }
   ],
   "source": [
    "file_list = glob.glob(data_path)\n",
    "file_list[:5]"
   ]
  },
  {
   "cell_type": "markdown",
   "id": "blind-generic",
   "metadata": {},
   "source": [
    "## 1. json 파일 읽기 (테스트)"
   ]
  },
  {
   "cell_type": "code",
   "execution_count": 4,
   "id": "96365371",
   "metadata": {},
   "outputs": [],
   "source": [
    "with open('data/NIKL/NIKL_SUMMARIZATION/NIKL_SC.json', 'r', encoding='utf8') as json_file:\n",
    "    load_json = json.load(json_file)"
   ]
  },
  {
   "cell_type": "code",
   "execution_count": 5,
   "id": "bab284c5",
   "metadata": {},
   "outputs": [
    {
     "data": {
      "text/plain": [
       "dict_keys(['id', 'metadata', 'data'])"
      ]
     },
     "execution_count": 5,
     "metadata": {},
     "output_type": "execute_result"
    }
   ],
   "source": [
    "load_json.keys()"
   ]
  },
  {
   "cell_type": "code",
   "execution_count": 6,
   "id": "82d3b244",
   "metadata": {},
   "outputs": [
    {
     "data": {
      "text/plain": [
       "'NIKL_SC'"
      ]
     },
     "execution_count": 6,
     "metadata": {},
     "output_type": "execute_result"
    }
   ],
   "source": [
    "load_json['id']"
   ]
  },
  {
   "cell_type": "code",
   "execution_count": 7,
   "id": "d9782ff7",
   "metadata": {},
   "outputs": [
    {
     "data": {
      "text/plain": [
       "{'title': '국립국어원 문서 요약 말뭉치',\n",
       " 'creator': '국립국어원',\n",
       " 'distributor': '국립국어원',\n",
       " 'year': '2019',\n",
       " 'sampling': '부분 추출 - 임의 추출'}"
      ]
     },
     "execution_count": 7,
     "metadata": {},
     "output_type": "execute_result"
    }
   ],
   "source": [
    "load_json['metadata']"
   ]
  },
  {
   "cell_type": "code",
   "execution_count": 8,
   "id": "a4d227f9",
   "metadata": {},
   "outputs": [
    {
     "data": {
      "text/plain": [
       "{'document_id': 'NWRW1800000021.6',\n",
       " 'subclass': 'NA',\n",
       " 'head': '與, 쟁점법안 대폭후퇴 끝 타결',\n",
       " 'subhead': '',\n",
       " 'topic_sentences': ['여야가 6일 임시국회 종료 이틀을 남기고 주요 쟁점법안 처리 문제를 일괄 타결했다.',\n",
       "  '이로써 지난해 12월 10일 개회 이래 4주 동안 야당의 본회의장 불법 점거와 국회의장의 질서유지권 발동 등으로 가파르게 대치했던 정국이 정상화됐다.',\n",
       "  '여야는 최대 쟁점이었던 미디어 관계 법안 8건 중 언론중재법 등 여야 간 이견이 없는 법안 2건만 이번 임시국회에서 협의 처리하고 신문·방송 겸영 허용과 대기업 방송 진출 허용 등 여야가 맞서는 6개 법안은 이른 시일 안에 합의 처리하도록 노력하기로 했다.'],\n",
       " 'summary_sentences': ['한나라당 홍준표, 민주당 원혜영, 선진과 창조의 모임 문국현 원내대표는 6일 임시국회 종료 이틀을 남기고 미디어 관계 법 등 쟁점 법안 처리 방안 10개 항에 합의했다.',\n",
       "  '여야는 여야 간 이견이 없는 언론중재법 등 2건만 이번에 협의 처리하고 신문·방송 겸영과 대기업 방송 진출 허용 등과 관련한 6개 쟁점 법안은 가능한 한 빨리 합의 처리하기로 했다.',\n",
       "  '이로써 지난해 12월 10일 개회한 후 4주 동안 야당의 본회의장 불법 점거와 국회의장의 질서유지권 발동 등으로 대치했던 정국이 정상화됐다.']}"
      ]
     },
     "execution_count": 8,
     "metadata": {},
     "output_type": "execute_result"
    }
   ],
   "source": [
    "load_json['data'][0]"
   ]
  },
  {
   "cell_type": "code",
   "execution_count": 9,
   "id": "4deda9f7",
   "metadata": {},
   "outputs": [
    {
     "data": {
      "text/plain": [
       "4389"
      ]
     },
     "execution_count": 9,
     "metadata": {},
     "output_type": "execute_result"
    }
   ],
   "source": [
    "len(load_json['data'])"
   ]
  },
  {
   "cell_type": "code",
   "execution_count": 10,
   "id": "040bdf87",
   "metadata": {},
   "outputs": [],
   "source": [
    "document_test_topic_list = []\n",
    "document_test_summary_list = []"
   ]
  },
  {
   "cell_type": "code",
   "execution_count": 11,
   "id": "b5187a5b",
   "metadata": {},
   "outputs": [],
   "source": [
    "for idx, value in enumerate(load_json['data']):\n",
    "    topic_sentences = value['topic_sentences']\n",
    "    summary_sentences = value['summary_sentences']\n",
    "    concat_topic = ''\n",
    "    concat_summary = ''\n",
    "    \n",
    "    for content in topic_sentences:\n",
    "        concat_topic = concat_topic + content + \" \"\n",
    "        \n",
    "    for content in summary_sentences:\n",
    "        concat_summary = concat_summary + content + \" \"\n",
    "\n",
    "    document_test_topic_list.append(concat_topic)\n",
    "    document_test_summary_list.append(concat_summary)"
   ]
  },
  {
   "cell_type": "code",
   "execution_count": 12,
   "id": "168c69ba",
   "metadata": {
    "scrolled": false
   },
   "outputs": [
    {
     "data": {
      "text/plain": [
       "'여야가 6일 임시국회 종료 이틀을 남기고 주요 쟁점법안 처리 문제를 일괄 타결했다. 이로써 지난해 12월 10일 개회 이래 4주 동안 야당의 본회의장 불법 점거와 국회의장의 질서유지권 발동 등으로 가파르게 대치했던 정국이 정상화됐다. 여야는 최대 쟁점이었던 미디어 관계 법안 8건 중 언론중재법 등 여야 간 이견이 없는 법안 2건만 이번 임시국회에서 협의 처리하고 신문·방송 겸영 허용과 대기업 방송 진출 허용 등 여야가 맞서는 6개 법안은 이른 시일 안에 합의 처리하도록 노력하기로 했다. '"
      ]
     },
     "execution_count": 12,
     "metadata": {},
     "output_type": "execute_result"
    }
   ],
   "source": [
    "document_test_topic_list[0]"
   ]
  },
  {
   "cell_type": "code",
   "execution_count": 13,
   "id": "0d4e0810",
   "metadata": {},
   "outputs": [
    {
     "data": {
      "text/plain": [
       "'한나라당 홍준표, 민주당 원혜영, 선진과 창조의 모임 문국현 원내대표는 6일 임시국회 종료 이틀을 남기고 미디어 관계 법 등 쟁점 법안 처리 방안 10개 항에 합의했다. 여야는 여야 간 이견이 없는 언론중재법 등 2건만 이번에 협의 처리하고 신문·방송 겸영과 대기업 방송 진출 허용 등과 관련한 6개 쟁점 법안은 가능한 한 빨리 합의 처리하기로 했다. 이로써 지난해 12월 10일 개회한 후 4주 동안 야당의 본회의장 불법 점거와 국회의장의 질서유지권 발동 등으로 대치했던 정국이 정상화됐다. '"
      ]
     },
     "execution_count": 13,
     "metadata": {},
     "output_type": "execute_result"
    }
   ],
   "source": [
    "document_test_summary_list[0]"
   ]
  },
  {
   "cell_type": "markdown",
   "id": "9de83197",
   "metadata": {},
   "source": [
    "## 2. json 파일을 하나의 리스트에 담는 함수 생성"
   ]
  },
  {
   "cell_type": "code",
   "execution_count": 14,
   "id": "78ad65da",
   "metadata": {},
   "outputs": [],
   "source": [
    "# 최종적으로 원문-요약 말뭉치를 각각 담을 리스트 생성\n",
    "document_topic_list = []\n",
    "document_summary_list = []"
   ]
  },
  {
   "cell_type": "code",
   "execution_count": 15,
   "id": "30197d20",
   "metadata": {},
   "outputs": [],
   "source": [
    "def json_to_list(file_list):\n",
    "    json_file = [file for file in file_list if file.endswith('.json')]\n",
    "\n",
    "    for file in json_file: # 364개의 json파일\n",
    "        print(file)\n",
    "\n",
    "        with open(file, 'r', encoding='utf8') as f:\n",
    "            f = json.load(f)\n",
    "\n",
    "            for idx, value in enumerate(f['data']):\n",
    "                topic_sentences = value['topic_sentences']\n",
    "                summary_sentences = value['summary_sentences']\n",
    "                concat_topic = ''\n",
    "                concat_summary = ''\n",
    "\n",
    "                for content in topic_sentences:\n",
    "                    concat_topic = concat_topic + content + \" \"\n",
    "\n",
    "                for content in summary_sentences:\n",
    "                    concat_summary = concat_summary + content + \" \"\n",
    "\n",
    "                document_topic_list.append(concat_topic)\n",
    "                document_summary_list.append(concat_summary)"
   ]
  },
  {
   "cell_type": "code",
   "execution_count": 16,
   "id": "8482fc7a",
   "metadata": {},
   "outputs": [
    {
     "name": "stdout",
     "output_type": "stream",
     "text": [
      "data/NIKL/NIKL_SUMMARIZATION\\NIKL_SC.json\n"
     ]
    }
   ],
   "source": [
    "json_to_list(file_list)"
   ]
  },
  {
   "cell_type": "code",
   "execution_count": 17,
   "id": "4af2b54a",
   "metadata": {
    "scrolled": true
   },
   "outputs": [
    {
     "data": {
      "text/plain": [
       "4389"
      ]
     },
     "execution_count": 17,
     "metadata": {},
     "output_type": "execute_result"
    }
   ],
   "source": [
    "len(document_topic_list)"
   ]
  },
  {
   "cell_type": "code",
   "execution_count": 18,
   "id": "dd08534c",
   "metadata": {},
   "outputs": [
    {
     "data": {
      "text/plain": [
       "4389"
      ]
     },
     "execution_count": 18,
     "metadata": {},
     "output_type": "execute_result"
    }
   ],
   "source": [
    "len(document_summary_list)"
   ]
  },
  {
   "cell_type": "code",
   "execution_count": 19,
   "id": "9ba14fc6",
   "metadata": {},
   "outputs": [
    {
     "data": {
      "text/plain": [
       "'여야가 6일 임시국회 종료 이틀을 남기고 주요 쟁점법안 처리 문제를 일괄 타결했다. 이로써 지난해 12월 10일 개회 이래 4주 동안 야당의 본회의장 불법 점거와 국회의장의 질서유지권 발동 등으로 가파르게 대치했던 정국이 정상화됐다. 여야는 최대 쟁점이었던 미디어 관계 법안 8건 중 언론중재법 등 여야 간 이견이 없는 법안 2건만 이번 임시국회에서 협의 처리하고 신문·방송 겸영 허용과 대기업 방송 진출 허용 등 여야가 맞서는 6개 법안은 이른 시일 안에 합의 처리하도록 노력하기로 했다. '"
      ]
     },
     "execution_count": 19,
     "metadata": {},
     "output_type": "execute_result"
    }
   ],
   "source": [
    "document_topic_list[0]"
   ]
  },
  {
   "cell_type": "code",
   "execution_count": 20,
   "id": "3eb96d87",
   "metadata": {},
   "outputs": [
    {
     "data": {
      "text/plain": [
       "'한나라당 홍준표, 민주당 원혜영, 선진과 창조의 모임 문국현 원내대표는 6일 임시국회 종료 이틀을 남기고 미디어 관계 법 등 쟁점 법안 처리 방안 10개 항에 합의했다. 여야는 여야 간 이견이 없는 언론중재법 등 2건만 이번에 협의 처리하고 신문·방송 겸영과 대기업 방송 진출 허용 등과 관련한 6개 쟁점 법안은 가능한 한 빨리 합의 처리하기로 했다. 이로써 지난해 12월 10일 개회한 후 4주 동안 야당의 본회의장 불법 점거와 국회의장의 질서유지권 발동 등으로 대치했던 정국이 정상화됐다. '"
      ]
     },
     "execution_count": 20,
     "metadata": {},
     "output_type": "execute_result"
    }
   ],
   "source": [
    "document_summary_list[0]"
   ]
  },
  {
   "cell_type": "code",
   "execution_count": null,
   "id": "d5a39022",
   "metadata": {},
   "outputs": [],
   "source": []
  },
  {
   "cell_type": "code",
   "execution_count": null,
   "id": "133bce51",
   "metadata": {},
   "outputs": [],
   "source": []
  },
  {
   "cell_type": "code",
   "execution_count": null,
   "id": "c2d47cf2",
   "metadata": {},
   "outputs": [],
   "source": []
  }
 ],
 "metadata": {
  "kernelspec": {
   "display_name": "Python 3",
   "language": "python",
   "name": "python3"
  },
  "language_info": {
   "codemirror_mode": {
    "name": "ipython",
    "version": 3
   },
   "file_extension": ".py",
   "mimetype": "text/x-python",
   "name": "python",
   "nbconvert_exporter": "python",
   "pygments_lexer": "ipython3",
   "version": "3.8.8"
  }
 },
 "nbformat": 4,
 "nbformat_minor": 5
}
