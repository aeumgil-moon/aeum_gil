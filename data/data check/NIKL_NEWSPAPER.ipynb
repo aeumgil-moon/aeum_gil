{
 "cells": [
  {
   "cell_type": "markdown",
   "id": "a914bda8",
   "metadata": {},
   "source": [
    "# NIKL_NEWSPAPER (국립국어원 신문 말뭉치 v2.0)"
   ]
  },
  {
   "cell_type": "code",
   "execution_count": 1,
   "id": "6d4f18f8",
   "metadata": {},
   "outputs": [],
   "source": [
    "import json\n",
    "import os, glob"
   ]
  },
  {
   "cell_type": "markdown",
   "id": "textile-india",
   "metadata": {},
   "source": [
    "## 0. 데이터가 있는 경로로 접근"
   ]
  },
  {
   "cell_type": "code",
   "execution_count": 2,
   "id": "fc1a45d0",
   "metadata": {},
   "outputs": [],
   "source": [
    "data_path = 'data/NIKL/NIKL_NEWSPAPER/*'"
   ]
  },
  {
   "cell_type": "code",
   "execution_count": 3,
   "id": "11fe9ee1",
   "metadata": {},
   "outputs": [
    {
     "data": {
      "text/plain": [
       "['data/NIKL/NIKL_NEWSPAPER\\\\NIRW1900000001.json',\n",
       " 'data/NIKL/NIKL_NEWSPAPER\\\\NIRW1900000002.json',\n",
       " 'data/NIKL/NIKL_NEWSPAPER\\\\NIRW1900000003.json',\n",
       " 'data/NIKL/NIKL_NEWSPAPER\\\\NIRW1900000004.json',\n",
       " 'data/NIKL/NIKL_NEWSPAPER\\\\NIRW1900000005.json']"
      ]
     },
     "execution_count": 3,
     "metadata": {},
     "output_type": "execute_result"
    }
   ],
   "source": [
    "file_list = glob.glob(data_path)\n",
    "file_list[:5]"
   ]
  },
  {
   "cell_type": "code",
   "execution_count": 4,
   "id": "df1dac6e",
   "metadata": {},
   "outputs": [
    {
     "data": {
      "text/plain": [
       "364"
      ]
     },
     "execution_count": 4,
     "metadata": {},
     "output_type": "execute_result"
    }
   ],
   "source": [
    "len(file_list)"
   ]
  },
  {
   "cell_type": "markdown",
   "id": "blind-generic",
   "metadata": {},
   "source": [
    "## 1. json 파일 읽기 (테스트)"
   ]
  },
  {
   "cell_type": "code",
   "execution_count": 5,
   "id": "8746b1bd",
   "metadata": {},
   "outputs": [],
   "source": [
    "with open('data/NIKL/NIKL_NEWSPAPER/NIRW1900000001.json', 'r', encoding='utf8') as json_file:\n",
    "    load_json = json.load(json_file)"
   ]
  },
  {
   "cell_type": "code",
   "execution_count": 6,
   "id": "3a7ef2b7",
   "metadata": {},
   "outputs": [
    {
     "data": {
      "text/plain": [
       "dict_keys(['id', 'metadata', 'document'])"
      ]
     },
     "execution_count": 6,
     "metadata": {},
     "output_type": "execute_result"
    }
   ],
   "source": [
    "load_json.keys()"
   ]
  },
  {
   "cell_type": "code",
   "execution_count": 7,
   "id": "05fc9219",
   "metadata": {},
   "outputs": [
    {
     "data": {
      "text/plain": [
       "'NIRW1900000001'"
      ]
     },
     "execution_count": 7,
     "metadata": {},
     "output_type": "execute_result"
    }
   ],
   "source": [
    "load_json['id']"
   ]
  },
  {
   "cell_type": "code",
   "execution_count": 8,
   "id": "6a3b15af",
   "metadata": {},
   "outputs": [
    {
     "data": {
      "text/plain": [
       "{'title': '국립국어원 신문 말뭉치 NIRW1900000001',\n",
       " 'creator': '국립국어원',\n",
       " 'distributor': '국립국어원',\n",
       " 'year': '2019',\n",
       " 'category': '신문 > 인터넷 기반 신문',\n",
       " 'annotation_level': ['원시'],\n",
       " 'sampling': '부분 추출 - 임의 추출'}"
      ]
     },
     "execution_count": 8,
     "metadata": {},
     "output_type": "execute_result"
    }
   ],
   "source": [
    "load_json['metadata']"
   ]
  },
  {
   "cell_type": "code",
   "execution_count": 9,
   "id": "2ec55112",
   "metadata": {},
   "outputs": [
    {
     "data": {
      "text/plain": [
       "{'id': 'NIRW1900000001.19354',\n",
       " 'metadata': {'title': '오마이뉴스 2009년 기사',\n",
       "  'author': '이경태',\n",
       "  'publisher': '오마이뉴스',\n",
       "  'date': '20091230',\n",
       "  'topic': '정치',\n",
       "  'original_topic': '정치'},\n",
       " 'paragraph': [{'id': 'NIRW1900000001.19354.1',\n",
       "   'form': '추미애 \"비정규직법과 문제 푸는 방식 다르다\"'},\n",
       "  {'id': 'NIRW1900000001.19354.2',\n",
       "   'form': '\"비정규직법 때와 상황이 다르다. 그때는 직권상정을 막으려면 소위 구성을 안 하고 상정을 안 하는 방법밖에 없었다. 그러나 지금은 상임위 상정을 하지 않는다고 해결되나. 중재안을 내는 수밖에 없었다… 똑같이 사회적 약자를 보호해야 하는 상황이지만 (문제를) 푸는 방식이 다른 것이다.\"'},\n",
       "  {'id': 'NIRW1900000001.19354.3',\n",
       "   'form': '지난 7월 비정규직법 처리를 두고는 \"여야 간사 간 합의가 되지 않았다\"며 끝까지 법을 상정하지 않고 버티던 추미애 국회 환경노동위원장은 30일 야당 의원들의 회의불참 상태에서 \\'노동조합 및 노동관계조정법\\' 개정안을 상정했다. 이유는 \\'비정규직법 때와는 상황이 다르다\\'는 것이다.'},\n",
       "  {'id': 'NIRW1900000001.19354.4',\n",
       "   'form': \"이미 '친정' 민주당으로부터 '이적행위'라 지탄을 받고, 민주노동당으로부턴 '배반의 정치인'이란 오명까지 얻게 된 추 위원장은 심히 지친 모습이었다. 그러나 자신이 취한 결정에 대한 후회는 없었다.\"},\n",
       "  {'id': 'NIRW1900000001.19354.5',\n",
       "   'form': '\"당의 고통 충분히 이해해... 징계 결정 내리면 수용하겠다\"'},\n",
       "  {'id': 'NIRW1900000001.19354.6',\n",
       "   'form': '추 위원장은 이날 저녁 8시 기자간담회를 열어 \"노동조합법 개정안이 현행법 그대로 시행은 안되고 한나라당의 일방처리도 막아야 한다는 입장이었다\"며 \"저는 이 두 가지를 일찌감치 말했고 환노위의 단일안을 만들어 연내에 반드시 처리하겠다고 약속도 했다\"고 강조했다.'},\n",
       "  {'id': 'NIRW1900000001.19354.7',\n",
       "   'form': '추 위원장은 이어 \"노·사·정, 여·야가 첨예하게 부딪힌 상황에서 (중재안의) 내용이 중립적이지 않으면 안 된다\"며 \"어느 당과도 접촉하는 순간에 중립성이 깨지기 때문에 각 이익단체와의 연쇄회동과 8인 연석회의에서 접한 의견들, 헌법 원칙과 국제노동기준 등을 반영해 중재안을 만든 것\"이라고 설명했다.'},\n",
       "  {'id': 'NIRW1900000001.19354.8',\n",
       "   'form': \"민주당 김상희 의원의 개정안과 다른 중재안을 당과 협의하지 않고 나온 이유가 '중립성 확보'를 위한 것이라는 설명이다. 그러나 추 위원장의 '중립성 확보 노력'은 민주당 환노위원들과 추 위원장 사이의 불신을 싹 틔웠다.\"},\n",
       "  {'id': 'NIRW1900000001.19354.9',\n",
       "   'form': '추 위원장은 이에 대해 \"예산안 처리 문제로 힘든 상황인 당이 \\'상임위원장이 알아서 잘하지 않겠냐\\'는 신뢰가 있었을 것이라고 생각한다\"며 \"(이번 결정으로 인한) 당의 고통을 충분히 이해한다, 양해 부탁드린다\"고 말했다.'},\n",
       "  {'id': 'NIRW1900000001.19354.10',\n",
       "   'form': '그러나 추 위원장은 \"3년 전 노동조합법을 유예시킬 당시 17대 국회의원을 했던 분이라면 모두 이 사안의 쟁점이 무엇인지 알테지만 아무도 도와줄 수 없었고, 도와주지도 않았다\"며 \"나도 괴롭다, 마치 십자가를 진 사람처럼 무거운 마음이고 또 외로운 마음이다\"고 현재의 심경을 드러냈다.'},\n",
       "  {'id': 'NIRW1900000001.19354.11',\n",
       "   'form': '다만, 추 위원장은 당의 반대에도 강행처리한 것에 대한 징계 방침이 내려진다면 \"어떤 방식으로 수용할지는 추이를 봐야겠지만 당이 결정을 내리면 수용하겠다\"고 밝혔다.'},\n",
       "  {'id': 'NIRW1900000001.19354.12',\n",
       "   'form': '\"중재안 법안 발의는 국회법 따른 것... 수차례 경고에도 야당 의원들이 퇴장해\"'},\n",
       "  {'id': 'NIRW1900000001.19354.13',\n",
       "   'form': \"추 위원장은 그러나, 이날 불거진 '법안 발의 절차 미비', '표결권 침해' 논란에 대해선 강하게 반박했다.\"},\n",
       "  {'id': 'NIRW1900000001.19354.14',\n",
       "   'form': '그는 환노위 소속 야당 위원들이 이날 처리된 중재안이 \\'법안 발의 절차 미비\\' 등 법적 하자가 있었다는 지적에 대해 \"국회법 제71조에 따라 절차대로 된 것\"이라며 \"내 대안은 이미 언론을 통해서 공개됐었다\"고 반박했다.'},\n",
       "  {'id': 'NIRW1900000001.19354.15',\n",
       "   'form': '또 중재안을 환노위원들에게 문서 등으로 전달, 공개하지 않고 언론을 통해 공개한 까닭은 \"언론을 통해 도표를 통해 공개되어 이해가 충분한 상황이었고 민주당의 경우, 중재안을 정리한 문건을 의원총회에서 제시했다\"고 말했다.'},\n",
       "  {'id': 'NIRW1900000001.19354.16',\n",
       "   'form': '추 위원장은 아울러 오후 회의 속개 시간을 공지하지 않고 출입문을 걸어 잠궈 환노위 야당 위원들의 표결권을 침해했다는 주장에 대해선 \"의사처리과정에서 중재안에 대해 알려면 회의에 참석해야 한다\"며 \"이미 그 점을 여러 차례 고지하고 \\'나가시지 마라\\', \\'퇴실하지 말라\\'고 미리 경고했다\"고 밝혔다.'},\n",
       "  {'id': 'NIRW1900000001.19354.17',\n",
       "   'form': '특히 일부 환노위 야당 위원들이 \\'상임위 보이콧\\'을 주장하는 것에 대해서는 \"의원님들 개개인은 얼마든지 선명성을 강조할 순 있지만 저는 당의 부담이 된다는 것을 알면서도 피할 수 없는 상황이었다\"며 \"어느 누구로부터 원망만 듣지 흔쾌히 동의 받지 못하는 상황인 것은 알지만 원망하지 않는다, 지금 감정 섞인 말은 안 하겠다\"고 말했다.'}]}"
      ]
     },
     "execution_count": 9,
     "metadata": {},
     "output_type": "execute_result"
    }
   ],
   "source": [
    "load_json['document'][19344]"
   ]
  },
  {
   "cell_type": "code",
   "execution_count": 10,
   "id": "040bdf87",
   "metadata": {},
   "outputs": [],
   "source": [
    "document_test_list = []"
   ]
  },
  {
   "cell_type": "code",
   "execution_count": 11,
   "id": "b5187a5b",
   "metadata": {},
   "outputs": [],
   "source": [
    "for idx, value in enumerate(load_json['document']):\n",
    "    load_json_contents = value['paragraph']\n",
    "    concat_value = ''\n",
    "    \n",
    "    for content in load_json_contents:\n",
    "        concat_value = concat_value + content['form'] + \" \"\n",
    "\n",
    "    document_test_list.append(concat_value)"
   ]
  },
  {
   "cell_type": "code",
   "execution_count": 12,
   "id": "168c69ba",
   "metadata": {},
   "outputs": [
    {
     "data": {
      "text/plain": [
       "'추미애 \"비정규직법과 문제 푸는 방식 다르다\" \"비정규직법 때와 상황이 다르다. 그때는 직권상정을 막으려면 소위 구성을 안 하고 상정을 안 하는 방법밖에 없었다. 그러나 지금은 상임위 상정을 하지 않는다고 해결되나. 중재안을 내는 수밖에 없었다… 똑같이 사회적 약자를 보호해야 하는 상황이지만 (문제를) 푸는 방식이 다른 것이다.\" 지난 7월 비정규직법 처리를 두고는 \"여야 간사 간 합의가 되지 않았다\"며 끝까지 법을 상정하지 않고 버티던 추미애 국회 환경노동위원장은 30일 야당 의원들의 회의불참 상태에서 \\'노동조합 및 노동관계조정법\\' 개정안을 상정했다. 이유는 \\'비정규직법 때와는 상황이 다르다\\'는 것이다. 이미 \\'친정\\' 민주당으로부터 \\'이적행위\\'라 지탄을 받고, 민주노동당으로부턴 \\'배반의 정치인\\'이란 오명까지 얻게 된 추 위원장은 심히 지친 모습이었다. 그러나 자신이 취한 결정에 대한 후회는 없었다. \"당의 고통 충분히 이해해... 징계 결정 내리면 수용하겠다\" 추 위원장은 이날 저녁 8시 기자간담회를 열어 \"노동조합법 개정안이 현행법 그대로 시행은 안되고 한나라당의 일방처리도 막아야 한다는 입장이었다\"며 \"저는 이 두 가지를 일찌감치 말했고 환노위의 단일안을 만들어 연내에 반드시 처리하겠다고 약속도 했다\"고 강조했다. 추 위원장은 이어 \"노·사·정, 여·야가 첨예하게 부딪힌 상황에서 (중재안의) 내용이 중립적이지 않으면 안 된다\"며 \"어느 당과도 접촉하는 순간에 중립성이 깨지기 때문에 각 이익단체와의 연쇄회동과 8인 연석회의에서 접한 의견들, 헌법 원칙과 국제노동기준 등을 반영해 중재안을 만든 것\"이라고 설명했다. 민주당 김상희 의원의 개정안과 다른 중재안을 당과 협의하지 않고 나온 이유가 \\'중립성 확보\\'를 위한 것이라는 설명이다. 그러나 추 위원장의 \\'중립성 확보 노력\\'은 민주당 환노위원들과 추 위원장 사이의 불신을 싹 틔웠다. 추 위원장은 이에 대해 \"예산안 처리 문제로 힘든 상황인 당이 \\'상임위원장이 알아서 잘하지 않겠냐\\'는 신뢰가 있었을 것이라고 생각한다\"며 \"(이번 결정으로 인한) 당의 고통을 충분히 이해한다, 양해 부탁드린다\"고 말했다. 그러나 추 위원장은 \"3년 전 노동조합법을 유예시킬 당시 17대 국회의원을 했던 분이라면 모두 이 사안의 쟁점이 무엇인지 알테지만 아무도 도와줄 수 없었고, 도와주지도 않았다\"며 \"나도 괴롭다, 마치 십자가를 진 사람처럼 무거운 마음이고 또 외로운 마음이다\"고 현재의 심경을 드러냈다. 다만, 추 위원장은 당의 반대에도 강행처리한 것에 대한 징계 방침이 내려진다면 \"어떤 방식으로 수용할지는 추이를 봐야겠지만 당이 결정을 내리면 수용하겠다\"고 밝혔다. \"중재안 법안 발의는 국회법 따른 것... 수차례 경고에도 야당 의원들이 퇴장해\" 추 위원장은 그러나, 이날 불거진 \\'법안 발의 절차 미비\\', \\'표결권 침해\\' 논란에 대해선 강하게 반박했다. 그는 환노위 소속 야당 위원들이 이날 처리된 중재안이 \\'법안 발의 절차 미비\\' 등 법적 하자가 있었다는 지적에 대해 \"국회법 제71조에 따라 절차대로 된 것\"이라며 \"내 대안은 이미 언론을 통해서 공개됐었다\"고 반박했다. 또 중재안을 환노위원들에게 문서 등으로 전달, 공개하지 않고 언론을 통해 공개한 까닭은 \"언론을 통해 도표를 통해 공개되어 이해가 충분한 상황이었고 민주당의 경우, 중재안을 정리한 문건을 의원총회에서 제시했다\"고 말했다. 추 위원장은 아울러 오후 회의 속개 시간을 공지하지 않고 출입문을 걸어 잠궈 환노위 야당 위원들의 표결권을 침해했다는 주장에 대해선 \"의사처리과정에서 중재안에 대해 알려면 회의에 참석해야 한다\"며 \"이미 그 점을 여러 차례 고지하고 \\'나가시지 마라\\', \\'퇴실하지 말라\\'고 미리 경고했다\"고 밝혔다. 특히 일부 환노위 야당 위원들이 \\'상임위 보이콧\\'을 주장하는 것에 대해서는 \"의원님들 개개인은 얼마든지 선명성을 강조할 순 있지만 저는 당의 부담이 된다는 것을 알면서도 피할 수 없는 상황이었다\"며 \"어느 누구로부터 원망만 듣지 흔쾌히 동의 받지 못하는 상황인 것은 알지만 원망하지 않는다, 지금 감정 섞인 말은 안 하겠다\"고 말했다. '"
      ]
     },
     "execution_count": 12,
     "metadata": {},
     "output_type": "execute_result"
    }
   ],
   "source": [
    "document_test_list[19344]"
   ]
  },
  {
   "cell_type": "code",
   "execution_count": 13,
   "id": "f8399634",
   "metadata": {},
   "outputs": [
    {
     "ename": "NameError",
     "evalue": "name 'asdasfasfasf' is not defined",
     "output_type": "error",
     "traceback": [
      "\u001b[1;31m---------------------------------------------------------------------------\u001b[0m",
      "\u001b[1;31mNameError\u001b[0m                                 Traceback (most recent call last)",
      "\u001b[1;32m<ipython-input-13-d05e34bb0728>\u001b[0m in \u001b[0;36m<module>\u001b[1;34m\u001b[0m\n\u001b[1;32m----> 1\u001b[1;33m \u001b[0masdasfasfasf\u001b[0m\u001b[1;33m\u001b[0m\u001b[1;33m\u001b[0m\u001b[0m\n\u001b[0m",
      "\u001b[1;31mNameError\u001b[0m: name 'asdasfasfasf' is not defined"
     ]
    }
   ],
   "source": [
    "asdasfasfasf"
   ]
  },
  {
   "cell_type": "markdown",
   "id": "9de83197",
   "metadata": {},
   "source": [
    "## 2. json 파일을 하나의 리스트에 담는 함수 생성"
   ]
  },
  {
   "cell_type": "code",
   "execution_count": 14,
   "id": "78ad65da",
   "metadata": {},
   "outputs": [],
   "source": [
    "# 최종적으로 신문 말뭉치를 모두 담을 리스트 생성\n",
    "document_list = []"
   ]
  },
  {
   "cell_type": "code",
   "execution_count": 15,
   "id": "30197d20",
   "metadata": {},
   "outputs": [],
   "source": [
    "def json_to_list(file_list):\n",
    "    json_file = [file for file in file_list if file.endswith('.json')]\n",
    "\n",
    "    for file in json_file: # 364개의 json파일\n",
    "        print(file)\n",
    "\n",
    "        with open(file, 'r', encoding='utf8') as f:\n",
    "            f = json.load(f)\n",
    "\n",
    "            for idx, value in enumerate(f['document']): # 1번 파일은 19344개가 있다.\n",
    "                load_json_contents = value['paragraph']\n",
    "                concat_value = ''\n",
    "\n",
    "                for content in load_json_contents:\n",
    "                    concat_value = concat_value + content['form'] + \" \" # 기사 문단간 공백을 주어 구분\n",
    "\n",
    "                document_list.append(concat_value)"
   ]
  },
  {
   "cell_type": "code",
   "execution_count": 16,
   "id": "8482fc7a",
   "metadata": {},
   "outputs": [
    {
     "name": "stdout",
     "output_type": "stream",
     "text": [
      "data/NIKL/NIKL_NEWSPAPER\\NIRW1900000001.json\n",
      "data/NIKL/NIKL_NEWSPAPER\\NIRW1900000002.json\n",
      "data/NIKL/NIKL_NEWSPAPER\\NIRW1900000003.json\n",
      "data/NIKL/NIKL_NEWSPAPER\\NIRW1900000004.json\n",
      "data/NIKL/NIKL_NEWSPAPER\\NIRW1900000005.json\n",
      "data/NIKL/NIKL_NEWSPAPER\\NIRW1900000006.json\n",
      "data/NIKL/NIKL_NEWSPAPER\\NIRW1900000007.json\n",
      "data/NIKL/NIKL_NEWSPAPER\\NIRW1900000008.json\n",
      "data/NIKL/NIKL_NEWSPAPER\\NIRW1900000009.json\n",
      "data/NIKL/NIKL_NEWSPAPER\\NIRW1900000010.json\n",
      "data/NIKL/NIKL_NEWSPAPER\\NIRW1900000011.json\n",
      "data/NIKL/NIKL_NEWSPAPER\\NIRW1900000012.json\n",
      "data/NIKL/NIKL_NEWSPAPER\\NIRW1900000013.json\n",
      "data/NIKL/NIKL_NEWSPAPER\\NIRW1900000014.json\n",
      "data/NIKL/NIKL_NEWSPAPER\\NIRW1900000015.json\n",
      "data/NIKL/NIKL_NEWSPAPER\\NIRW1900000016.json\n",
      "data/NIKL/NIKL_NEWSPAPER\\NIRW1900000017.json\n",
      "data/NIKL/NIKL_NEWSPAPER\\NIRW1900000018.json\n",
      "data/NIKL/NIKL_NEWSPAPER\\NIRW1900000019.json\n",
      "data/NIKL/NIKL_NEWSPAPER\\NIRW1900000020.json\n",
      "data/NIKL/NIKL_NEWSPAPER\\NIRW1900000021.json\n",
      "data/NIKL/NIKL_NEWSPAPER\\NIRW1900000022.json\n",
      "data/NIKL/NIKL_NEWSPAPER\\NIRW1900000023.json\n",
      "data/NIKL/NIKL_NEWSPAPER\\NIRW1900000024.json\n",
      "data/NIKL/NIKL_NEWSPAPER\\NIRW1900000025.json\n",
      "data/NIKL/NIKL_NEWSPAPER\\NIRW1900000026.json\n",
      "data/NIKL/NIKL_NEWSPAPER\\NIRW1900000027.json\n",
      "data/NIKL/NIKL_NEWSPAPER\\NIRW1900000028.json\n",
      "data/NIKL/NIKL_NEWSPAPER\\NIRW1900000029.json\n",
      "data/NIKL/NIKL_NEWSPAPER\\NIRW1900000030.json\n",
      "data/NIKL/NIKL_NEWSPAPER\\NLRW1900000001.json\n",
      "data/NIKL/NIKL_NEWSPAPER\\NLRW1900000002.json\n",
      "data/NIKL/NIKL_NEWSPAPER\\NLRW1900000003.json\n",
      "data/NIKL/NIKL_NEWSPAPER\\NLRW1900000004.json\n",
      "data/NIKL/NIKL_NEWSPAPER\\NLRW1900000005.json\n",
      "data/NIKL/NIKL_NEWSPAPER\\NLRW1900000006.json\n",
      "data/NIKL/NIKL_NEWSPAPER\\NLRW1900000007.json\n",
      "data/NIKL/NIKL_NEWSPAPER\\NLRW1900000008.json\n",
      "data/NIKL/NIKL_NEWSPAPER\\NLRW1900000009.json\n",
      "data/NIKL/NIKL_NEWSPAPER\\NLRW1900000010.json\n",
      "data/NIKL/NIKL_NEWSPAPER\\NLRW1900000011.json\n",
      "data/NIKL/NIKL_NEWSPAPER\\NLRW1900000012.json\n",
      "data/NIKL/NIKL_NEWSPAPER\\NLRW1900000013.json\n",
      "data/NIKL/NIKL_NEWSPAPER\\NLRW1900000014.json\n",
      "data/NIKL/NIKL_NEWSPAPER\\NLRW1900000015.json\n",
      "data/NIKL/NIKL_NEWSPAPER\\NLRW1900000016.json\n",
      "data/NIKL/NIKL_NEWSPAPER\\NLRW1900000017.json\n",
      "data/NIKL/NIKL_NEWSPAPER\\NLRW1900000018.json\n",
      "data/NIKL/NIKL_NEWSPAPER\\NLRW1900000019.json\n",
      "data/NIKL/NIKL_NEWSPAPER\\NLRW1900000020.json\n",
      "data/NIKL/NIKL_NEWSPAPER\\NLRW1900000021.json\n",
      "data/NIKL/NIKL_NEWSPAPER\\NLRW1900000022.json\n",
      "data/NIKL/NIKL_NEWSPAPER\\NLRW1900000023.json\n",
      "data/NIKL/NIKL_NEWSPAPER\\NLRW1900000024.json\n",
      "data/NIKL/NIKL_NEWSPAPER\\NLRW1900000025.json\n",
      "data/NIKL/NIKL_NEWSPAPER\\NLRW1900000026.json\n",
      "data/NIKL/NIKL_NEWSPAPER\\NLRW1900000027.json\n",
      "data/NIKL/NIKL_NEWSPAPER\\NLRW1900000028.json\n",
      "data/NIKL/NIKL_NEWSPAPER\\NLRW1900000029.json\n",
      "data/NIKL/NIKL_NEWSPAPER\\NLRW1900000030.json\n",
      "data/NIKL/NIKL_NEWSPAPER\\NLRW1900000031.json\n",
      "data/NIKL/NIKL_NEWSPAPER\\NLRW1900000032.json\n",
      "data/NIKL/NIKL_NEWSPAPER\\NLRW1900000033.json\n",
      "data/NIKL/NIKL_NEWSPAPER\\NLRW1900000034.json\n",
      "data/NIKL/NIKL_NEWSPAPER\\NLRW1900000035.json\n",
      "data/NIKL/NIKL_NEWSPAPER\\NLRW1900000036.json\n",
      "data/NIKL/NIKL_NEWSPAPER\\NLRW1900000037.json\n",
      "data/NIKL/NIKL_NEWSPAPER\\NLRW1900000038.json\n",
      "data/NIKL/NIKL_NEWSPAPER\\NLRW1900000039.json\n",
      "data/NIKL/NIKL_NEWSPAPER\\NLRW1900000040.json\n",
      "data/NIKL/NIKL_NEWSPAPER\\NLRW1900000041.json\n",
      "data/NIKL/NIKL_NEWSPAPER\\NLRW1900000042.json\n",
      "data/NIKL/NIKL_NEWSPAPER\\NLRW1900000043.json\n",
      "data/NIKL/NIKL_NEWSPAPER\\NLRW1900000044.json\n",
      "data/NIKL/NIKL_NEWSPAPER\\NLRW1900000045.json\n",
      "data/NIKL/NIKL_NEWSPAPER\\NLRW1900000046.json\n",
      "data/NIKL/NIKL_NEWSPAPER\\NLRW1900000047.json\n",
      "data/NIKL/NIKL_NEWSPAPER\\NLRW1900000048.json\n",
      "data/NIKL/NIKL_NEWSPAPER\\NLRW1900000049.json\n",
      "data/NIKL/NIKL_NEWSPAPER\\NLRW1900000050.json\n",
      "data/NIKL/NIKL_NEWSPAPER\\NLRW1900000051.json\n",
      "data/NIKL/NIKL_NEWSPAPER\\NLRW1900000052.json\n",
      "data/NIKL/NIKL_NEWSPAPER\\NLRW1900000053.json\n",
      "data/NIKL/NIKL_NEWSPAPER\\NLRW1900000054.json\n",
      "data/NIKL/NIKL_NEWSPAPER\\NLRW1900000055.json\n",
      "data/NIKL/NIKL_NEWSPAPER\\NLRW1900000056.json\n",
      "data/NIKL/NIKL_NEWSPAPER\\NLRW1900000057.json\n",
      "data/NIKL/NIKL_NEWSPAPER\\NLRW1900000058.json\n",
      "data/NIKL/NIKL_NEWSPAPER\\NLRW1900000059.json\n",
      "data/NIKL/NIKL_NEWSPAPER\\NLRW1900000060.json\n",
      "data/NIKL/NIKL_NEWSPAPER\\NLRW1900000061.json\n",
      "data/NIKL/NIKL_NEWSPAPER\\NLRW1900000062.json\n",
      "data/NIKL/NIKL_NEWSPAPER\\NLRW1900000063.json\n",
      "data/NIKL/NIKL_NEWSPAPER\\NLRW1900000064.json\n",
      "data/NIKL/NIKL_NEWSPAPER\\NLRW1900000065.json\n",
      "data/NIKL/NIKL_NEWSPAPER\\NLRW1900000066.json\n",
      "data/NIKL/NIKL_NEWSPAPER\\NLRW1900000067.json\n",
      "data/NIKL/NIKL_NEWSPAPER\\NLRW1900000068.json\n",
      "data/NIKL/NIKL_NEWSPAPER\\NLRW1900000069.json\n",
      "data/NIKL/NIKL_NEWSPAPER\\NLRW1900000070.json\n",
      "data/NIKL/NIKL_NEWSPAPER\\NLRW1900000071.json\n",
      "data/NIKL/NIKL_NEWSPAPER\\NLRW1900000072.json\n",
      "data/NIKL/NIKL_NEWSPAPER\\NLRW1900000073.json\n",
      "data/NIKL/NIKL_NEWSPAPER\\NLRW1900000074.json\n",
      "data/NIKL/NIKL_NEWSPAPER\\NLRW1900000075.json\n",
      "data/NIKL/NIKL_NEWSPAPER\\NLRW1900000076.json\n",
      "data/NIKL/NIKL_NEWSPAPER\\NLRW1900000077.json\n",
      "data/NIKL/NIKL_NEWSPAPER\\NLRW1900000078.json\n",
      "data/NIKL/NIKL_NEWSPAPER\\NLRW1900000079.json\n",
      "data/NIKL/NIKL_NEWSPAPER\\NLRW1900000080.json\n",
      "data/NIKL/NIKL_NEWSPAPER\\NLRW1900000081.json\n",
      "data/NIKL/NIKL_NEWSPAPER\\NLRW1900000082.json\n",
      "data/NIKL/NIKL_NEWSPAPER\\NLRW1900000083.json\n",
      "data/NIKL/NIKL_NEWSPAPER\\NLRW1900000084.json\n",
      "data/NIKL/NIKL_NEWSPAPER\\NLRW1900000085.json\n",
      "data/NIKL/NIKL_NEWSPAPER\\NLRW1900000086.json\n",
      "data/NIKL/NIKL_NEWSPAPER\\NLRW1900000087.json\n",
      "data/NIKL/NIKL_NEWSPAPER\\NLRW1900000088.json\n",
      "data/NIKL/NIKL_NEWSPAPER\\NLRW1900000089.json\n",
      "data/NIKL/NIKL_NEWSPAPER\\NLRW1900000090.json\n",
      "data/NIKL/NIKL_NEWSPAPER\\NLRW1900000091.json\n",
      "data/NIKL/NIKL_NEWSPAPER\\NLRW1900000092.json\n",
      "data/NIKL/NIKL_NEWSPAPER\\NLRW1900000093.json\n",
      "data/NIKL/NIKL_NEWSPAPER\\NLRW1900000094.json\n",
      "data/NIKL/NIKL_NEWSPAPER\\NLRW1900000095.json\n",
      "data/NIKL/NIKL_NEWSPAPER\\NLRW1900000096.json\n",
      "data/NIKL/NIKL_NEWSPAPER\\NLRW1900000097.json\n",
      "data/NIKL/NIKL_NEWSPAPER\\NLRW1900000098.json\n",
      "data/NIKL/NIKL_NEWSPAPER\\NLRW1900000099.json\n",
      "data/NIKL/NIKL_NEWSPAPER\\NLRW1900000100.json\n",
      "data/NIKL/NIKL_NEWSPAPER\\NLRW1900000101.json\n",
      "data/NIKL/NIKL_NEWSPAPER\\NLRW1900000102.json\n",
      "data/NIKL/NIKL_NEWSPAPER\\NLRW1900000103.json\n",
      "data/NIKL/NIKL_NEWSPAPER\\NLRW1900000104.json\n",
      "data/NIKL/NIKL_NEWSPAPER\\NLRW1900000105.json\n",
      "data/NIKL/NIKL_NEWSPAPER\\NLRW1900000106.json\n",
      "data/NIKL/NIKL_NEWSPAPER\\NLRW1900000107.json\n",
      "data/NIKL/NIKL_NEWSPAPER\\NLRW1900000108.json\n",
      "data/NIKL/NIKL_NEWSPAPER\\NLRW1900000109.json\n",
      "data/NIKL/NIKL_NEWSPAPER\\NLRW1900000110.json\n",
      "data/NIKL/NIKL_NEWSPAPER\\NLRW1900000111.json\n",
      "data/NIKL/NIKL_NEWSPAPER\\NLRW1900000112.json\n",
      "data/NIKL/NIKL_NEWSPAPER\\NLRW1900000113.json\n",
      "data/NIKL/NIKL_NEWSPAPER\\NLRW1900000114.json\n",
      "data/NIKL/NIKL_NEWSPAPER\\NLRW1900000115.json\n",
      "data/NIKL/NIKL_NEWSPAPER\\NLRW1900000116.json\n",
      "data/NIKL/NIKL_NEWSPAPER\\NLRW1900000117.json\n",
      "data/NIKL/NIKL_NEWSPAPER\\NLRW1900000118.json\n",
      "data/NIKL/NIKL_NEWSPAPER\\NLRW1900000119.json\n",
      "data/NIKL/NIKL_NEWSPAPER\\NLRW1900000120.json\n",
      "data/NIKL/NIKL_NEWSPAPER\\NLRW1900000121.json\n",
      "data/NIKL/NIKL_NEWSPAPER\\NLRW1900000122.json\n",
      "data/NIKL/NIKL_NEWSPAPER\\NLRW1900000123.json\n",
      "data/NIKL/NIKL_NEWSPAPER\\NLRW1900000124.json\n",
      "data/NIKL/NIKL_NEWSPAPER\\NLRW1900000125.json\n",
      "data/NIKL/NIKL_NEWSPAPER\\NLRW1900000126.json\n",
      "data/NIKL/NIKL_NEWSPAPER\\NLRW1900000127.json\n",
      "data/NIKL/NIKL_NEWSPAPER\\NLRW1900000128.json\n",
      "data/NIKL/NIKL_NEWSPAPER\\NLRW1900000129.json\n",
      "data/NIKL/NIKL_NEWSPAPER\\NLRW1900000130.json\n",
      "data/NIKL/NIKL_NEWSPAPER\\NLRW1900000131.json\n",
      "data/NIKL/NIKL_NEWSPAPER\\NLRW1900000132.json\n",
      "data/NIKL/NIKL_NEWSPAPER\\NLRW1900000133.json\n",
      "data/NIKL/NIKL_NEWSPAPER\\NLRW1900000134.json\n",
      "data/NIKL/NIKL_NEWSPAPER\\NLRW1900000135.json\n",
      "data/NIKL/NIKL_NEWSPAPER\\NLRW1900000136.json\n",
      "data/NIKL/NIKL_NEWSPAPER\\NLRW1900000137.json\n",
      "data/NIKL/NIKL_NEWSPAPER\\NLRW1900000138.json\n",
      "data/NIKL/NIKL_NEWSPAPER\\NLRW1900000139.json\n",
      "data/NIKL/NIKL_NEWSPAPER\\NLRW1900000140.json\n",
      "data/NIKL/NIKL_NEWSPAPER\\NLRW1900000141.json\n",
      "data/NIKL/NIKL_NEWSPAPER\\NLRW1900000142.json\n",
      "data/NIKL/NIKL_NEWSPAPER\\NLRW1900000143.json\n",
      "data/NIKL/NIKL_NEWSPAPER\\NLRW1900000144.json\n",
      "data/NIKL/NIKL_NEWSPAPER\\NLRW1900000145.json\n",
      "data/NIKL/NIKL_NEWSPAPER\\NLRW1900000146.json\n",
      "data/NIKL/NIKL_NEWSPAPER\\NLRW1900000147.json\n",
      "data/NIKL/NIKL_NEWSPAPER\\NLRW1900000148.json\n",
      "data/NIKL/NIKL_NEWSPAPER\\NLRW1900000149.json\n",
      "data/NIKL/NIKL_NEWSPAPER\\NLRW1900000150.json\n",
      "data/NIKL/NIKL_NEWSPAPER\\NLRW1900000151.json\n",
      "data/NIKL/NIKL_NEWSPAPER\\NLRW1900000152.json\n",
      "data/NIKL/NIKL_NEWSPAPER\\NLRW1900000153.json\n"
     ]
    },
    {
     "name": "stdout",
     "output_type": "stream",
     "text": [
      "data/NIKL/NIKL_NEWSPAPER\\NLRW1900000154.json\n",
      "data/NIKL/NIKL_NEWSPAPER\\NLRW1900000155.json\n",
      "data/NIKL/NIKL_NEWSPAPER\\NLRW1900000156.json\n",
      "data/NIKL/NIKL_NEWSPAPER\\NLRW1900000157.json\n",
      "data/NIKL/NIKL_NEWSPAPER\\NLRW1900000158.json\n",
      "data/NIKL/NIKL_NEWSPAPER\\NLRW1900000159.json\n",
      "data/NIKL/NIKL_NEWSPAPER\\NLRW1900000160.json\n",
      "data/NIKL/NIKL_NEWSPAPER\\NLRW1900000161.json\n",
      "data/NIKL/NIKL_NEWSPAPER\\NPRW1900000001.json\n",
      "data/NIKL/NIKL_NEWSPAPER\\NPRW1900000002.json\n",
      "data/NIKL/NIKL_NEWSPAPER\\NPRW1900000003.json\n",
      "data/NIKL/NIKL_NEWSPAPER\\NPRW1900000004.json\n",
      "data/NIKL/NIKL_NEWSPAPER\\NPRW1900000005.json\n",
      "data/NIKL/NIKL_NEWSPAPER\\NPRW1900000006.json\n",
      "data/NIKL/NIKL_NEWSPAPER\\NPRW1900000007.json\n",
      "data/NIKL/NIKL_NEWSPAPER\\NPRW1900000008.json\n",
      "data/NIKL/NIKL_NEWSPAPER\\NPRW1900000009.json\n",
      "data/NIKL/NIKL_NEWSPAPER\\NPRW1900000010.json\n",
      "data/NIKL/NIKL_NEWSPAPER\\NPRW1900000011.json\n",
      "data/NIKL/NIKL_NEWSPAPER\\NPRW1900000012.json\n",
      "data/NIKL/NIKL_NEWSPAPER\\NPRW1900000013.json\n",
      "data/NIKL/NIKL_NEWSPAPER\\NPRW1900000014.json\n",
      "data/NIKL/NIKL_NEWSPAPER\\NPRW1900000015.json\n",
      "data/NIKL/NIKL_NEWSPAPER\\NPRW1900000016.json\n",
      "data/NIKL/NIKL_NEWSPAPER\\NPRW1900000017.json\n",
      "data/NIKL/NIKL_NEWSPAPER\\NPRW1900000018.json\n",
      "data/NIKL/NIKL_NEWSPAPER\\NPRW1900000019.json\n",
      "data/NIKL/NIKL_NEWSPAPER\\NPRW1900000020.json\n",
      "data/NIKL/NIKL_NEWSPAPER\\NPRW1900000021.json\n",
      "data/NIKL/NIKL_NEWSPAPER\\NPRW1900000022.json\n",
      "data/NIKL/NIKL_NEWSPAPER\\NPRW1900000023.json\n",
      "data/NIKL/NIKL_NEWSPAPER\\NPRW1900000024.json\n",
      "data/NIKL/NIKL_NEWSPAPER\\NPRW1900000025.json\n",
      "data/NIKL/NIKL_NEWSPAPER\\NPRW1900000026.json\n",
      "data/NIKL/NIKL_NEWSPAPER\\NPRW1900000027.json\n",
      "data/NIKL/NIKL_NEWSPAPER\\NPRW1900000028.json\n",
      "data/NIKL/NIKL_NEWSPAPER\\NPRW1900000029.json\n",
      "data/NIKL/NIKL_NEWSPAPER\\NPRW1900000030.json\n",
      "data/NIKL/NIKL_NEWSPAPER\\NPRW1900000031.json\n",
      "data/NIKL/NIKL_NEWSPAPER\\NPRW1900000032.json\n",
      "data/NIKL/NIKL_NEWSPAPER\\NPRW1900000033.json\n",
      "data/NIKL/NIKL_NEWSPAPER\\NPRW1900000034.json\n",
      "data/NIKL/NIKL_NEWSPAPER\\NPRW1900000035.json\n",
      "data/NIKL/NIKL_NEWSPAPER\\NPRW1900000036.json\n",
      "data/NIKL/NIKL_NEWSPAPER\\NPRW1900000037.json\n",
      "data/NIKL/NIKL_NEWSPAPER\\NPRW1900000038.json\n",
      "data/NIKL/NIKL_NEWSPAPER\\NPRW1900000039.json\n",
      "data/NIKL/NIKL_NEWSPAPER\\NPRW1900000040.json\n",
      "data/NIKL/NIKL_NEWSPAPER\\NPRW1900000041.json\n",
      "data/NIKL/NIKL_NEWSPAPER\\NPRW1900000042.json\n",
      "data/NIKL/NIKL_NEWSPAPER\\NPRW1900000043.json\n",
      "data/NIKL/NIKL_NEWSPAPER\\NPRW1900000044.json\n",
      "data/NIKL/NIKL_NEWSPAPER\\NPRW1900000045.json\n",
      "data/NIKL/NIKL_NEWSPAPER\\NPRW1900000046.json\n",
      "data/NIKL/NIKL_NEWSPAPER\\NPRW1900000047.json\n",
      "data/NIKL/NIKL_NEWSPAPER\\NPRW1900000048.json\n",
      "data/NIKL/NIKL_NEWSPAPER\\NPRW1900000049.json\n",
      "data/NIKL/NIKL_NEWSPAPER\\NPRW1900000050.json\n",
      "data/NIKL/NIKL_NEWSPAPER\\NPRW1900000051.json\n",
      "data/NIKL/NIKL_NEWSPAPER\\NPRW1900000052.json\n",
      "data/NIKL/NIKL_NEWSPAPER\\NPRW1900000053.json\n",
      "data/NIKL/NIKL_NEWSPAPER\\NPRW1900000054.json\n",
      "data/NIKL/NIKL_NEWSPAPER\\NPRW1900000055.json\n",
      "data/NIKL/NIKL_NEWSPAPER\\NPRW1900000056.json\n",
      "data/NIKL/NIKL_NEWSPAPER\\NPRW1900000057.json\n",
      "data/NIKL/NIKL_NEWSPAPER\\NPRW1900000058.json\n",
      "data/NIKL/NIKL_NEWSPAPER\\NPRW1900000059.json\n",
      "data/NIKL/NIKL_NEWSPAPER\\NPRW1900000060.json\n",
      "data/NIKL/NIKL_NEWSPAPER\\NPRW1900000061.json\n",
      "data/NIKL/NIKL_NEWSPAPER\\NPRW1900000062.json\n",
      "data/NIKL/NIKL_NEWSPAPER\\NPRW1900000063.json\n",
      "data/NIKL/NIKL_NEWSPAPER\\NPRW1900000064.json\n",
      "data/NIKL/NIKL_NEWSPAPER\\NPRW1900000065.json\n",
      "data/NIKL/NIKL_NEWSPAPER\\NPRW1900000066.json\n",
      "data/NIKL/NIKL_NEWSPAPER\\NPRW1900000067.json\n",
      "data/NIKL/NIKL_NEWSPAPER\\NPRW1900000068.json\n",
      "data/NIKL/NIKL_NEWSPAPER\\NPRW1900000069.json\n",
      "data/NIKL/NIKL_NEWSPAPER\\NPRW1900000070.json\n",
      "data/NIKL/NIKL_NEWSPAPER\\NWRW1800000001.json\n",
      "data/NIKL/NIKL_NEWSPAPER\\NWRW1800000002.json\n",
      "data/NIKL/NIKL_NEWSPAPER\\NWRW1800000004.json\n",
      "data/NIKL/NIKL_NEWSPAPER\\NWRW1800000005.json\n",
      "data/NIKL/NIKL_NEWSPAPER\\NWRW1800000006.json\n",
      "data/NIKL/NIKL_NEWSPAPER\\NWRW1800000008.json\n",
      "data/NIKL/NIKL_NEWSPAPER\\NWRW1800000009.json\n",
      "data/NIKL/NIKL_NEWSPAPER\\NWRW1800000010.json\n",
      "data/NIKL/NIKL_NEWSPAPER\\NWRW1800000012.json\n",
      "data/NIKL/NIKL_NEWSPAPER\\NWRW1800000013.json\n",
      "data/NIKL/NIKL_NEWSPAPER\\NWRW1800000014.json\n",
      "data/NIKL/NIKL_NEWSPAPER\\NWRW1800000016.json\n",
      "data/NIKL/NIKL_NEWSPAPER\\NWRW1800000017.json\n",
      "data/NIKL/NIKL_NEWSPAPER\\NWRW1800000018.json\n",
      "data/NIKL/NIKL_NEWSPAPER\\NWRW1800000020.json\n",
      "data/NIKL/NIKL_NEWSPAPER\\NWRW1800000021.json\n",
      "data/NIKL/NIKL_NEWSPAPER\\NWRW1800000022.json\n",
      "data/NIKL/NIKL_NEWSPAPER\\NWRW1800000024.json\n",
      "data/NIKL/NIKL_NEWSPAPER\\NWRW1800000025.json\n",
      "data/NIKL/NIKL_NEWSPAPER\\NWRW1800000026.json\n",
      "data/NIKL/NIKL_NEWSPAPER\\NWRW1800000028.json\n",
      "data/NIKL/NIKL_NEWSPAPER\\NWRW1800000029.json\n",
      "data/NIKL/NIKL_NEWSPAPER\\NWRW1800000030.json\n",
      "data/NIKL/NIKL_NEWSPAPER\\NWRW1800000032.json\n",
      "data/NIKL/NIKL_NEWSPAPER\\NWRW1800000033.json\n",
      "data/NIKL/NIKL_NEWSPAPER\\NWRW1800000034.json\n",
      "data/NIKL/NIKL_NEWSPAPER\\NWRW1800000036.json\n",
      "data/NIKL/NIKL_NEWSPAPER\\NWRW1800000037.json\n",
      "data/NIKL/NIKL_NEWSPAPER\\NWRW1800000038.json\n",
      "data/NIKL/NIKL_NEWSPAPER\\NWRW1800000040.json\n",
      "data/NIKL/NIKL_NEWSPAPER\\NWRW1800000041.json\n",
      "data/NIKL/NIKL_NEWSPAPER\\NWRW1800000042.json\n",
      "data/NIKL/NIKL_NEWSPAPER\\NWRW1800000044.json\n",
      "data/NIKL/NIKL_NEWSPAPER\\NWRW1800000045.json\n",
      "data/NIKL/NIKL_NEWSPAPER\\NWRW1800000046.json\n",
      "data/NIKL/NIKL_NEWSPAPER\\NWRW1800000048.json\n",
      "data/NIKL/NIKL_NEWSPAPER\\NWRW1800000049.json\n",
      "data/NIKL/NIKL_NEWSPAPER\\NWRW1800000050.json\n",
      "data/NIKL/NIKL_NEWSPAPER\\NWRW1800000052.json\n",
      "data/NIKL/NIKL_NEWSPAPER\\NWRW1800000053.json\n",
      "data/NIKL/NIKL_NEWSPAPER\\NWRW1800000054.json\n",
      "data/NIKL/NIKL_NEWSPAPER\\NWRW1800000056.json\n",
      "data/NIKL/NIKL_NEWSPAPER\\NWRW1900000001.json\n",
      "data/NIKL/NIKL_NEWSPAPER\\NWRW1900000002.json\n",
      "data/NIKL/NIKL_NEWSPAPER\\NWRW1900000003.json\n",
      "data/NIKL/NIKL_NEWSPAPER\\NWRW1900000004.json\n",
      "data/NIKL/NIKL_NEWSPAPER\\NWRW1900000005.json\n",
      "data/NIKL/NIKL_NEWSPAPER\\NWRW1900000006.json\n",
      "data/NIKL/NIKL_NEWSPAPER\\NWRW1900000007.json\n",
      "data/NIKL/NIKL_NEWSPAPER\\NWRW1900000008.json\n",
      "data/NIKL/NIKL_NEWSPAPER\\NWRW1900000009.json\n",
      "data/NIKL/NIKL_NEWSPAPER\\NWRW1900000010.json\n",
      "data/NIKL/NIKL_NEWSPAPER\\NWRW1900000011.json\n",
      "data/NIKL/NIKL_NEWSPAPER\\NWRW1900000012.json\n",
      "data/NIKL/NIKL_NEWSPAPER\\NWRW1900000013.json\n",
      "data/NIKL/NIKL_NEWSPAPER\\NWRW1900000014.json\n",
      "data/NIKL/NIKL_NEWSPAPER\\NWRW1900000015.json\n",
      "data/NIKL/NIKL_NEWSPAPER\\NWRW1900000016.json\n",
      "data/NIKL/NIKL_NEWSPAPER\\NWRW1900000017.json\n",
      "data/NIKL/NIKL_NEWSPAPER\\NWRW1900000018.json\n",
      "data/NIKL/NIKL_NEWSPAPER\\NWRW1900000019.json\n",
      "data/NIKL/NIKL_NEWSPAPER\\NWRW1900000020.json\n",
      "data/NIKL/NIKL_NEWSPAPER\\NWRW1900000021.json\n",
      "data/NIKL/NIKL_NEWSPAPER\\NWRW1900000022.json\n",
      "data/NIKL/NIKL_NEWSPAPER\\NWRW1900000023.json\n",
      "data/NIKL/NIKL_NEWSPAPER\\NWRW1900000024.json\n",
      "data/NIKL/NIKL_NEWSPAPER\\NWRW1900000025.json\n",
      "data/NIKL/NIKL_NEWSPAPER\\NWRW1900000026.json\n",
      "data/NIKL/NIKL_NEWSPAPER\\NWRW1900000027.json\n",
      "data/NIKL/NIKL_NEWSPAPER\\NWRW1900000028.json\n",
      "data/NIKL/NIKL_NEWSPAPER\\NWRW1900000029.json\n",
      "data/NIKL/NIKL_NEWSPAPER\\NWRW1900000030.json\n",
      "data/NIKL/NIKL_NEWSPAPER\\NWRW1900000031.json\n",
      "data/NIKL/NIKL_NEWSPAPER\\NWRW1900000032.json\n",
      "data/NIKL/NIKL_NEWSPAPER\\NWRW1900000033.json\n",
      "data/NIKL/NIKL_NEWSPAPER\\NWRW1900000034.json\n",
      "data/NIKL/NIKL_NEWSPAPER\\NWRW1900000035.json\n",
      "data/NIKL/NIKL_NEWSPAPER\\NWRW1900000036.json\n",
      "data/NIKL/NIKL_NEWSPAPER\\NWRW1900000037.json\n",
      "data/NIKL/NIKL_NEWSPAPER\\NWRW1900000038.json\n",
      "data/NIKL/NIKL_NEWSPAPER\\NWRW1900000039.json\n",
      "data/NIKL/NIKL_NEWSPAPER\\NWRW1900000040.json\n",
      "data/NIKL/NIKL_NEWSPAPER\\NWRW1900000041.json\n",
      "data/NIKL/NIKL_NEWSPAPER\\NWRW1900000042.json\n",
      "data/NIKL/NIKL_NEWSPAPER\\NWRW1900000043.json\n",
      "data/NIKL/NIKL_NEWSPAPER\\NWRW1900000044.json\n",
      "data/NIKL/NIKL_NEWSPAPER\\NWRW1900000045.json\n",
      "data/NIKL/NIKL_NEWSPAPER\\NWRW1900000046.json\n",
      "data/NIKL/NIKL_NEWSPAPER\\NWRW1900000047.json\n",
      "data/NIKL/NIKL_NEWSPAPER\\NWRW1900000048.json\n",
      "data/NIKL/NIKL_NEWSPAPER\\NWRW1900000049.json\n",
      "data/NIKL/NIKL_NEWSPAPER\\NWRW1900000050.json\n",
      "data/NIKL/NIKL_NEWSPAPER\\NWRW1900000051.json\n",
      "data/NIKL/NIKL_NEWSPAPER\\NWRW1900000052.json\n",
      "data/NIKL/NIKL_NEWSPAPER\\NWRW1900000053.json\n",
      "data/NIKL/NIKL_NEWSPAPER\\NWRW1900000054.json\n",
      "data/NIKL/NIKL_NEWSPAPER\\NWRW1900000055.json\n",
      "data/NIKL/NIKL_NEWSPAPER\\NWRW1900000056.json\n",
      "data/NIKL/NIKL_NEWSPAPER\\NWRW1900000057.json\n",
      "data/NIKL/NIKL_NEWSPAPER\\NWRW1900000058.json\n",
      "data/NIKL/NIKL_NEWSPAPER\\NWRW1900000059.json\n",
      "data/NIKL/NIKL_NEWSPAPER\\NWRW1900000060.json\n",
      "data/NIKL/NIKL_NEWSPAPER\\NZRW1900000001.json\n"
     ]
    }
   ],
   "source": [
    "json_to_list(file_list)"
   ]
  },
  {
   "cell_type": "code",
   "execution_count": 17,
   "id": "4af2b54a",
   "metadata": {
    "scrolled": true
   },
   "outputs": [
    {
     "name": "stdout",
     "output_type": "stream",
     "text": [
      "총 개수: 3536491\n"
     ]
    }
   ],
   "source": [
    "print('총 개수: {}'.format(len(document_list)))"
   ]
  },
  {
   "cell_type": "code",
   "execution_count": 18,
   "id": "9ba14fc6",
   "metadata": {},
   "outputs": [
    {
     "data": {
      "text/plain": [
       "'추미애 \"비정규직법과 문제 푸는 방식 다르다\" \"비정규직법 때와 상황이 다르다. 그때는 직권상정을 막으려면 소위 구성을 안 하고 상정을 안 하는 방법밖에 없었다. 그러나 지금은 상임위 상정을 하지 않는다고 해결되나. 중재안을 내는 수밖에 없었다… 똑같이 사회적 약자를 보호해야 하는 상황이지만 (문제를) 푸는 방식이 다른 것이다.\" 지난 7월 비정규직법 처리를 두고는 \"여야 간사 간 합의가 되지 않았다\"며 끝까지 법을 상정하지 않고 버티던 추미애 국회 환경노동위원장은 30일 야당 의원들의 회의불참 상태에서 \\'노동조합 및 노동관계조정법\\' 개정안을 상정했다. 이유는 \\'비정규직법 때와는 상황이 다르다\\'는 것이다. 이미 \\'친정\\' 민주당으로부터 \\'이적행위\\'라 지탄을 받고, 민주노동당으로부턴 \\'배반의 정치인\\'이란 오명까지 얻게 된 추 위원장은 심히 지친 모습이었다. 그러나 자신이 취한 결정에 대한 후회는 없었다. \"당의 고통 충분히 이해해... 징계 결정 내리면 수용하겠다\" 추 위원장은 이날 저녁 8시 기자간담회를 열어 \"노동조합법 개정안이 현행법 그대로 시행은 안되고 한나라당의 일방처리도 막아야 한다는 입장이었다\"며 \"저는 이 두 가지를 일찌감치 말했고 환노위의 단일안을 만들어 연내에 반드시 처리하겠다고 약속도 했다\"고 강조했다. 추 위원장은 이어 \"노·사·정, 여·야가 첨예하게 부딪힌 상황에서 (중재안의) 내용이 중립적이지 않으면 안 된다\"며 \"어느 당과도 접촉하는 순간에 중립성이 깨지기 때문에 각 이익단체와의 연쇄회동과 8인 연석회의에서 접한 의견들, 헌법 원칙과 국제노동기준 등을 반영해 중재안을 만든 것\"이라고 설명했다. 민주당 김상희 의원의 개정안과 다른 중재안을 당과 협의하지 않고 나온 이유가 \\'중립성 확보\\'를 위한 것이라는 설명이다. 그러나 추 위원장의 \\'중립성 확보 노력\\'은 민주당 환노위원들과 추 위원장 사이의 불신을 싹 틔웠다. 추 위원장은 이에 대해 \"예산안 처리 문제로 힘든 상황인 당이 \\'상임위원장이 알아서 잘하지 않겠냐\\'는 신뢰가 있었을 것이라고 생각한다\"며 \"(이번 결정으로 인한) 당의 고통을 충분히 이해한다, 양해 부탁드린다\"고 말했다. 그러나 추 위원장은 \"3년 전 노동조합법을 유예시킬 당시 17대 국회의원을 했던 분이라면 모두 이 사안의 쟁점이 무엇인지 알테지만 아무도 도와줄 수 없었고, 도와주지도 않았다\"며 \"나도 괴롭다, 마치 십자가를 진 사람처럼 무거운 마음이고 또 외로운 마음이다\"고 현재의 심경을 드러냈다. 다만, 추 위원장은 당의 반대에도 강행처리한 것에 대한 징계 방침이 내려진다면 \"어떤 방식으로 수용할지는 추이를 봐야겠지만 당이 결정을 내리면 수용하겠다\"고 밝혔다. \"중재안 법안 발의는 국회법 따른 것... 수차례 경고에도 야당 의원들이 퇴장해\" 추 위원장은 그러나, 이날 불거진 \\'법안 발의 절차 미비\\', \\'표결권 침해\\' 논란에 대해선 강하게 반박했다. 그는 환노위 소속 야당 위원들이 이날 처리된 중재안이 \\'법안 발의 절차 미비\\' 등 법적 하자가 있었다는 지적에 대해 \"국회법 제71조에 따라 절차대로 된 것\"이라며 \"내 대안은 이미 언론을 통해서 공개됐었다\"고 반박했다. 또 중재안을 환노위원들에게 문서 등으로 전달, 공개하지 않고 언론을 통해 공개한 까닭은 \"언론을 통해 도표를 통해 공개되어 이해가 충분한 상황이었고 민주당의 경우, 중재안을 정리한 문건을 의원총회에서 제시했다\"고 말했다. 추 위원장은 아울러 오후 회의 속개 시간을 공지하지 않고 출입문을 걸어 잠궈 환노위 야당 위원들의 표결권을 침해했다는 주장에 대해선 \"의사처리과정에서 중재안에 대해 알려면 회의에 참석해야 한다\"며 \"이미 그 점을 여러 차례 고지하고 \\'나가시지 마라\\', \\'퇴실하지 말라\\'고 미리 경고했다\"고 밝혔다. 특히 일부 환노위 야당 위원들이 \\'상임위 보이콧\\'을 주장하는 것에 대해서는 \"의원님들 개개인은 얼마든지 선명성을 강조할 순 있지만 저는 당의 부담이 된다는 것을 알면서도 피할 수 없는 상황이었다\"며 \"어느 누구로부터 원망만 듣지 흔쾌히 동의 받지 못하는 상황인 것은 알지만 원망하지 않는다, 지금 감정 섞인 말은 안 하겠다\"고 말했다. '"
      ]
     },
     "execution_count": 18,
     "metadata": {},
     "output_type": "execute_result"
    }
   ],
   "source": [
    "document_list[19344]"
   ]
  },
  {
   "cell_type": "code",
   "execution_count": null,
   "id": "fd439743",
   "metadata": {},
   "outputs": [],
   "source": [
    "asdasfasfasf # 일부로 에러나도록 설정(다음 단계로 넘어가지 못하도록)"
   ]
  },
  {
   "cell_type": "markdown",
   "id": "directed-saver",
   "metadata": {},
   "source": [
    "## 3. 리스트를 DataFrame으로 변환"
   ]
  },
  {
   "cell_type": "code",
   "execution_count": 19,
   "id": "13decc7f",
   "metadata": {},
   "outputs": [],
   "source": [
    "import pandas as pd"
   ]
  },
  {
   "cell_type": "code",
   "execution_count": 20,
   "id": "885593f8",
   "metadata": {},
   "outputs": [],
   "source": [
    "def convert_dataframe(document_list):\n",
    "    df = pd.DataFrame(document_list, columns=['passage'])\n",
    "    \n",
    "    return df"
   ]
  },
  {
   "cell_type": "code",
   "execution_count": 21,
   "id": "ae0e4bab",
   "metadata": {},
   "outputs": [
    {
     "data": {
      "text/html": [
       "<div>\n",
       "<style scoped>\n",
       "    .dataframe tbody tr th:only-of-type {\n",
       "        vertical-align: middle;\n",
       "    }\n",
       "\n",
       "    .dataframe tbody tr th {\n",
       "        vertical-align: top;\n",
       "    }\n",
       "\n",
       "    .dataframe thead th {\n",
       "        text-align: right;\n",
       "    }\n",
       "</style>\n",
       "<table border=\"1\" class=\"dataframe\">\n",
       "  <thead>\n",
       "    <tr style=\"text-align: right;\">\n",
       "      <th></th>\n",
       "      <th>passage</th>\n",
       "    </tr>\n",
       "  </thead>\n",
       "  <tbody>\n",
       "    <tr>\n",
       "      <th>0</th>\n",
       "      <td>\"대통령, 시장 방문만 하지 말고 실천해달라\" 2008년의 마지막 새벽, 언론의 카...</td>\n",
       "    </tr>\n",
       "    <tr>\n",
       "      <th>1</th>\n",
       "      <td>'근성가이' 키센코, '펀치연타' 앞세워 사토 제압! '어떤 상황에서도 쉬지 않는 ...</td>\n",
       "    </tr>\n",
       "    <tr>\n",
       "      <th>2</th>\n",
       "      <td>출근길의 '지하철 순례객'들과 지하철 범죄예방 새로 출근하게 된 회사의 사무실이 지...</td>\n",
       "    </tr>\n",
       "    <tr>\n",
       "      <th>3</th>\n",
       "      <td>진성호 의원, 겨우 이 정도였나 오늘(31일) 한나라당 의원 총회에서 조선일보 출신...</td>\n",
       "    </tr>\n",
       "    <tr>\n",
       "      <th>4</th>\n",
       "      <td>\"소의 해, 정치인들 싸움 좀 그만하시죠\" 지난해 12월 31일 대구국채보상기념운동...</td>\n",
       "    </tr>\n",
       "    <tr>\n",
       "      <th>...</th>\n",
       "      <td>...</td>\n",
       "    </tr>\n",
       "    <tr>\n",
       "      <th>3536486</th>\n",
       "      <td>일명 고데기라고 불리며 여성들의 필수품이 되어버린 헤어 아이론. 미용실에서 아이론을...</td>\n",
       "    </tr>\n",
       "    <tr>\n",
       "      <th>3536487</th>\n",
       "      <td>지난달 20일 서울 예술의전당 토요콘서트에서 최희준이 지휘하는 KBS교향악단의 쇼스...</td>\n",
       "    </tr>\n",
       "    <tr>\n",
       "      <th>3536488</th>\n",
       "      <td>돌아온 뮤지컬 영화 &lt;미니언즈&gt;를 만들었던 일루미네이션 스튜디오의 새 영화 &lt;씽&gt;은...</td>\n",
       "    </tr>\n",
       "    <tr>\n",
       "      <th>3536489</th>\n",
       "      <td>배우 이민호가 SBS 수목 미니시리즈 &lt;시티헌터&gt;로 내년 5월 안방극장에 컴백한다....</td>\n",
       "    </tr>\n",
       "    <tr>\n",
       "      <th>3536490</th>\n",
       "      <td>멤버들의 신장이 모두 170㎝를 넘는 국내 최장신 9인조 그룹 나인뮤지스가 현해탄을...</td>\n",
       "    </tr>\n",
       "  </tbody>\n",
       "</table>\n",
       "<p>3536491 rows × 1 columns</p>\n",
       "</div>"
      ],
      "text/plain": [
       "                                                   passage\n",
       "0        \"대통령, 시장 방문만 하지 말고 실천해달라\" 2008년의 마지막 새벽, 언론의 카...\n",
       "1        '근성가이' 키센코, '펀치연타' 앞세워 사토 제압! '어떤 상황에서도 쉬지 않는 ...\n",
       "2        출근길의 '지하철 순례객'들과 지하철 범죄예방 새로 출근하게 된 회사의 사무실이 지...\n",
       "3        진성호 의원, 겨우 이 정도였나 오늘(31일) 한나라당 의원 총회에서 조선일보 출신...\n",
       "4        \"소의 해, 정치인들 싸움 좀 그만하시죠\" 지난해 12월 31일 대구국채보상기념운동...\n",
       "...                                                    ...\n",
       "3536486  일명 고데기라고 불리며 여성들의 필수품이 되어버린 헤어 아이론. 미용실에서 아이론을...\n",
       "3536487  지난달 20일 서울 예술의전당 토요콘서트에서 최희준이 지휘하는 KBS교향악단의 쇼스...\n",
       "3536488  돌아온 뮤지컬 영화 <미니언즈>를 만들었던 일루미네이션 스튜디오의 새 영화 <씽>은...\n",
       "3536489  배우 이민호가 SBS 수목 미니시리즈 <시티헌터>로 내년 5월 안방극장에 컴백한다....\n",
       "3536490  멤버들의 신장이 모두 170㎝를 넘는 국내 최장신 9인조 그룹 나인뮤지스가 현해탄을...\n",
       "\n",
       "[3536491 rows x 1 columns]"
      ]
     },
     "execution_count": 21,
     "metadata": {},
     "output_type": "execute_result"
    }
   ],
   "source": [
    "df = convert_dataframe(document_list)\n",
    "df"
   ]
  },
  {
   "cell_type": "markdown",
   "id": "gross-nursing",
   "metadata": {},
   "source": [
    "## 4. csv 파일로 저장"
   ]
  },
  {
   "cell_type": "code",
   "execution_count": 23,
   "id": "e2ac250d",
   "metadata": {},
   "outputs": [],
   "source": [
    "save_file_name = 'csv/NIKL/NIKL_NEWSPAPER/NIKL_NEWSPAPER.csv'"
   ]
  },
  {
   "cell_type": "code",
   "execution_count": 24,
   "id": "f99ce292",
   "metadata": {},
   "outputs": [],
   "source": [
    "def save_to_csv(df, save_file_name):\n",
    "    df.to_csv(save_file_name, sep=',', na_rep='NaN', index=False, encoding='utf-8-sig')"
   ]
  },
  {
   "cell_type": "code",
   "execution_count": 25,
   "id": "66ae6194",
   "metadata": {},
   "outputs": [],
   "source": [
    "save_to_csv(df, save_file_name)"
   ]
  },
  {
   "cell_type": "markdown",
   "id": "76c06162",
   "metadata": {},
   "source": [
    "## 5. 저장한 csv 파일을 읽어오기"
   ]
  },
  {
   "cell_type": "code",
   "execution_count": 26,
   "id": "d8297c13",
   "metadata": {},
   "outputs": [
    {
     "data": {
      "text/html": [
       "<div>\n",
       "<style scoped>\n",
       "    .dataframe tbody tr th:only-of-type {\n",
       "        vertical-align: middle;\n",
       "    }\n",
       "\n",
       "    .dataframe tbody tr th {\n",
       "        vertical-align: top;\n",
       "    }\n",
       "\n",
       "    .dataframe thead th {\n",
       "        text-align: right;\n",
       "    }\n",
       "</style>\n",
       "<table border=\"1\" class=\"dataframe\">\n",
       "  <thead>\n",
       "    <tr style=\"text-align: right;\">\n",
       "      <th></th>\n",
       "      <th>passage</th>\n",
       "    </tr>\n",
       "  </thead>\n",
       "  <tbody>\n",
       "    <tr>\n",
       "      <th>0</th>\n",
       "      <td>\"대통령, 시장 방문만 하지 말고 실천해달라\" 2008년의 마지막 새벽, 언론의 카...</td>\n",
       "    </tr>\n",
       "    <tr>\n",
       "      <th>1</th>\n",
       "      <td>'근성가이' 키센코, '펀치연타' 앞세워 사토 제압! '어떤 상황에서도 쉬지 않는 ...</td>\n",
       "    </tr>\n",
       "    <tr>\n",
       "      <th>2</th>\n",
       "      <td>출근길의 '지하철 순례객'들과 지하철 범죄예방 새로 출근하게 된 회사의 사무실이 지...</td>\n",
       "    </tr>\n",
       "    <tr>\n",
       "      <th>3</th>\n",
       "      <td>진성호 의원, 겨우 이 정도였나 오늘(31일) 한나라당 의원 총회에서 조선일보 출신...</td>\n",
       "    </tr>\n",
       "    <tr>\n",
       "      <th>4</th>\n",
       "      <td>\"소의 해, 정치인들 싸움 좀 그만하시죠\" 지난해 12월 31일 대구국채보상기념운동...</td>\n",
       "    </tr>\n",
       "    <tr>\n",
       "      <th>...</th>\n",
       "      <td>...</td>\n",
       "    </tr>\n",
       "    <tr>\n",
       "      <th>3536486</th>\n",
       "      <td>일명 고데기라고 불리며 여성들의 필수품이 되어버린 헤어 아이론. 미용실에서 아이론을...</td>\n",
       "    </tr>\n",
       "    <tr>\n",
       "      <th>3536487</th>\n",
       "      <td>지난달 20일 서울 예술의전당 토요콘서트에서 최희준이 지휘하는 KBS교향악단의 쇼스...</td>\n",
       "    </tr>\n",
       "    <tr>\n",
       "      <th>3536488</th>\n",
       "      <td>돌아온 뮤지컬 영화 &lt;미니언즈&gt;를 만들었던 일루미네이션 스튜디오의 새 영화 &lt;씽&gt;은...</td>\n",
       "    </tr>\n",
       "    <tr>\n",
       "      <th>3536489</th>\n",
       "      <td>배우 이민호가 SBS 수목 미니시리즈 &lt;시티헌터&gt;로 내년 5월 안방극장에 컴백한다....</td>\n",
       "    </tr>\n",
       "    <tr>\n",
       "      <th>3536490</th>\n",
       "      <td>멤버들의 신장이 모두 170㎝를 넘는 국내 최장신 9인조 그룹 나인뮤지스가 현해탄을...</td>\n",
       "    </tr>\n",
       "  </tbody>\n",
       "</table>\n",
       "<p>3536491 rows × 1 columns</p>\n",
       "</div>"
      ],
      "text/plain": [
       "                                                   passage\n",
       "0        \"대통령, 시장 방문만 하지 말고 실천해달라\" 2008년의 마지막 새벽, 언론의 카...\n",
       "1        '근성가이' 키센코, '펀치연타' 앞세워 사토 제압! '어떤 상황에서도 쉬지 않는 ...\n",
       "2        출근길의 '지하철 순례객'들과 지하철 범죄예방 새로 출근하게 된 회사의 사무실이 지...\n",
       "3        진성호 의원, 겨우 이 정도였나 오늘(31일) 한나라당 의원 총회에서 조선일보 출신...\n",
       "4        \"소의 해, 정치인들 싸움 좀 그만하시죠\" 지난해 12월 31일 대구국채보상기념운동...\n",
       "...                                                    ...\n",
       "3536486  일명 고데기라고 불리며 여성들의 필수품이 되어버린 헤어 아이론. 미용실에서 아이론을...\n",
       "3536487  지난달 20일 서울 예술의전당 토요콘서트에서 최희준이 지휘하는 KBS교향악단의 쇼스...\n",
       "3536488  돌아온 뮤지컬 영화 <미니언즈>를 만들었던 일루미네이션 스튜디오의 새 영화 <씽>은...\n",
       "3536489  배우 이민호가 SBS 수목 미니시리즈 <시티헌터>로 내년 5월 안방극장에 컴백한다....\n",
       "3536490  멤버들의 신장이 모두 170㎝를 넘는 국내 최장신 9인조 그룹 나인뮤지스가 현해탄을...\n",
       "\n",
       "[3536491 rows x 1 columns]"
      ]
     },
     "execution_count": 26,
     "metadata": {},
     "output_type": "execute_result"
    }
   ],
   "source": [
    "passage = pd.read_csv(save_file_name)\n",
    "passage"
   ]
  },
  {
   "cell_type": "code",
   "execution_count": null,
   "id": "5ca848b4",
   "metadata": {},
   "outputs": [],
   "source": []
  }
 ],
 "metadata": {
  "kernelspec": {
   "display_name": "Python 3",
   "language": "python",
   "name": "python3"
  },
  "language_info": {
   "codemirror_mode": {
    "name": "ipython",
    "version": 3
   },
   "file_extension": ".py",
   "mimetype": "text/x-python",
   "name": "python",
   "nbconvert_exporter": "python",
   "pygments_lexer": "ipython3",
   "version": "3.8.8"
  }
 },
 "nbformat": 4,
 "nbformat_minor": 5
}
