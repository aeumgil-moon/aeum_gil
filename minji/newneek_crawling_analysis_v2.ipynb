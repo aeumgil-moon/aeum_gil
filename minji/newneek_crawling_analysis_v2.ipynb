{
  "nbformat": 4,
  "nbformat_minor": 0,
  "metadata": {
    "colab": {
      "name": "newneek_crawling.ipynb",
      "provenance": []
    },
    "kernelspec": {
      "name": "python3",
      "display_name": "Python 3"
    },
    "language_info": {
      "name": "python"
    }
  },
  "cells": [
    {
      "cell_type": "markdown",
      "metadata": {
        "id": "odPIEauF7CoZ"
      },
      "source": [
        "# 크롤링한 뉴닉 데이터 분석"
      ]
    },
    {
      "cell_type": "code",
      "metadata": {
        "colab": {
          "base_uri": "https://localhost:8080/"
        },
        "id": "9J9tlwNb7G3s",
        "outputId": "f3792402-5347-44fe-9456-5db6639fe565"
      },
      "source": [
        "from google.colab import drive\n",
        "drive.mount('/content/drive')"
      ],
      "execution_count": 1,
      "outputs": [
        {
          "output_type": "stream",
          "name": "stdout",
          "text": [
            "Mounted at /content/drive\n"
          ]
        }
      ]
    },
    {
      "cell_type": "code",
      "metadata": {
        "id": "u_lLvBIh7HcX"
      },
      "source": [
        "# 모듈 임포트\n",
        "import os\n",
        "import pandas as pd\n",
        "import matplotlib.pyplot as plt\n",
        "\n",
        "# read csv to pandas dataframe\n",
        "first = pd.read_csv(\"/content/drive/MyDrive/data/newneek/newneek_211002_onlylink.csv\")\n",
        "sample_1 = pd.read_csv(\"/content/drive/MyDrive/data/newneek/newneek_sample.csv\")\n",
        "sample_2 = pd.read_csv(\"/content/drive/MyDrive/data/newneek/newneek_sample_v2.csv\")\n",
        "train = pd.read_csv(\"/content/drive/MyDrive/data/newneek/newneek_211010_full.csv\")"
      ],
      "execution_count": 2,
      "outputs": []
    },
    {
      "cell_type": "code",
      "metadata": {
        "colab": {
          "base_uri": "https://localhost:8080/"
        },
        "id": "cykOhh987IbA",
        "outputId": "6501f055-34f3-44eb-fc50-e868709b2e8d"
      },
      "source": [
        "print(first.shape)\n",
        "print(sample_1.shape)\n",
        "print(sample_2.shape)\n",
        "print(train.shape)"
      ],
      "execution_count": 17,
      "outputs": [
        {
          "output_type": "stream",
          "name": "stdout",
          "text": [
            "(2821, 7)\n",
            "(44, 7)\n",
            "(926, 7)\n",
            "(2837, 7)\n"
          ]
        }
      ]
    },
    {
      "cell_type": "code",
      "metadata": {
        "colab": {
          "base_uri": "https://localhost:8080/",
          "height": 606
        },
        "id": "1TQr1_217IdZ",
        "outputId": "069a4c76-88eb-4bd0-cca0-11ca3d95989a"
      },
      "source": [
        "display(first)"
      ],
      "execution_count": 4,
      "outputs": [
        {
          "output_type": "display_data",
          "data": {
            "text/html": [
              "<div>\n",
              "<style scoped>\n",
              "    .dataframe tbody tr th:only-of-type {\n",
              "        vertical-align: middle;\n",
              "    }\n",
              "\n",
              "    .dataframe tbody tr th {\n",
              "        vertical-align: top;\n",
              "    }\n",
              "\n",
              "    .dataframe thead th {\n",
              "        text-align: right;\n",
              "    }\n",
              "</style>\n",
              "<table border=\"1\" class=\"dataframe\">\n",
              "  <thead>\n",
              "    <tr style=\"text-align: right;\">\n",
              "      <th></th>\n",
              "      <th>기사id</th>\n",
              "      <th>카테고리</th>\n",
              "      <th>제목</th>\n",
              "      <th>날짜</th>\n",
              "      <th>요약문</th>\n",
              "      <th>원문</th>\n",
              "    </tr>\n",
              "  </thead>\n",
              "  <tbody>\n",
              "    <tr>\n",
              "      <th>0</th>\n",
              "      <td>0</td>\n",
              "      <td>NaN</td>\n",
              "      <td>기시다 후미오 일본 총리 당선</td>\n",
              "      <td>2021/10/01</td>\n",
              "      <td>미국은 가까이 중국은 멀리: 미국과 계속 친하게 지내고, 중국을 견제하는 데 신경 ...</td>\n",
              "      <td>https://www.yna.co.kr/view/AKR20210929177100083</td>\n",
              "    </tr>\n",
              "    <tr>\n",
              "      <th>1</th>\n",
              "      <td>0</td>\n",
              "      <td>NaN</td>\n",
              "      <td>기시다 후미오 일본 총리 당선</td>\n",
              "      <td>2021/10/01</td>\n",
              "      <td>당장 크게 달라지긴 어려울 것 같아요. 아베 전 총리보다는 갈등을 잘 안 만들려는 ...</td>\n",
              "      <td>https://www.yna.co.kr/view/AKR2021092911590050...</td>\n",
              "    </tr>\n",
              "    <tr>\n",
              "      <th>2</th>\n",
              "      <td>0</td>\n",
              "      <td>NaN</td>\n",
              "      <td>기시다 후미오 일본 총리 당선</td>\n",
              "      <td>2021/10/01</td>\n",
              "      <td>\\n그는 2015년 외무상을 할 때, 박근혜 정부와 맺은 ‘한일 위안부합의’를 이끌...</td>\n",
              "      <td>https://terms.naver.com/entry.naver?docId=5144...</td>\n",
              "    </tr>\n",
              "    <tr>\n",
              "      <th>3</th>\n",
              "      <td>1</td>\n",
              "      <td>코로나19</td>\n",
              "      <td>정부 백신 패스 도입 논의</td>\n",
              "      <td>2021/10/01</td>\n",
              "      <td>“백신 인증서 없으세요? 그럼 못 들어오세요.” 식당 들어갈 때 이런 말을 듣는다면...</td>\n",
              "      <td>https://go.seoul.co.kr/news/newsView.php?id=20...</td>\n",
              "    </tr>\n",
              "    <tr>\n",
              "      <th>4</th>\n",
              "      <td>1</td>\n",
              "      <td>코로나19</td>\n",
              "      <td>정부 백신 패스 도입 논의</td>\n",
              "      <td>2021/10/01</td>\n",
              "      <td>맞아요. 그래서 반대하는 목소리도 있어요 🤔.</td>\n",
              "      <td>https://www.hankookilbo.com/News/Read/A2021092...</td>\n",
              "    </tr>\n",
              "    <tr>\n",
              "      <th>...</th>\n",
              "      <td>...</td>\n",
              "      <td>...</td>\n",
              "      <td>...</td>\n",
              "      <td>...</td>\n",
              "      <td>...</td>\n",
              "      <td>...</td>\n",
              "    </tr>\n",
              "    <tr>\n",
              "      <th>2816</th>\n",
              "      <td>847</td>\n",
              "      <td>세계</td>\n",
              "      <td>재판스토리 in 하버드 ⚖️</td>\n",
              "      <td>2019/10/04</td>\n",
              "      <td>과연 아시아계 미국인들은 '공정하게' 뽑히고 있던 걸까요? 🙄 하버드 대학교의 아시...</td>\n",
              "      <td>https://www.reuters.com/article/us-harvard-adm...</td>\n",
              "    </tr>\n",
              "    <tr>\n",
              "      <th>2817</th>\n",
              "      <td>847</td>\n",
              "      <td>세계</td>\n",
              "      <td>재판스토리 in 하버드 ⚖️</td>\n",
              "      <td>2019/10/04</td>\n",
              "      <td>이번 판은 하버드의 승! 5년 만의 판결에서, 하버드가 일부러 차별한 건 아니라는 ...</td>\n",
              "      <td>https://www.nytimes.com/2018/06/15/us/harvard-...</td>\n",
              "    </tr>\n",
              "    <tr>\n",
              "      <th>2818</th>\n",
              "      <td>847</td>\n",
              "      <td>세계</td>\n",
              "      <td>재판스토리 in 하버드 ⚖️</td>\n",
              "      <td>2019/10/04</td>\n",
              "      <td>+ 🙅 “아시아인들을 이용하지 마!” 처음 SFFA가 소송을 시작했을 때, 하버드의...</td>\n",
              "      <td>https://news.joins.com/article/11775777</td>\n",
              "    </tr>\n",
              "    <tr>\n",
              "      <th>2819</th>\n",
              "      <td>848</td>\n",
              "      <td>세계</td>\n",
              "      <td>가짜뉴스 가만두면 가만 안 둔다!</td>\n",
              "      <td>2019/10/04</td>\n",
              "      <td>며칠 전, 싱가포르 양치기가 블로그에 공유한 뉴스: 늑대가 나타났다! 다음 날 자고...</td>\n",
              "      <td>https://www.yna.co.kr/view/AKR20191002086700076</td>\n",
              "    </tr>\n",
              "    <tr>\n",
              "      <th>2820</th>\n",
              "      <td>848</td>\n",
              "      <td>세계</td>\n",
              "      <td>가짜뉴스 가만두면 가만 안 둔다!</td>\n",
              "      <td>2019/10/04</td>\n",
              "      <td>+ 매년 언론 자유 보고서를 발표하는 ‘국경없는기자회’에 따르면, 올해 싱가포르의 ...</td>\n",
              "      <td>https://ko.wikipedia.org/wiki/언론_자유_지수</td>\n",
              "    </tr>\n",
              "  </tbody>\n",
              "</table>\n",
              "<p>2821 rows × 6 columns</p>\n",
              "</div>"
            ],
            "text/plain": [
              "      기사id  ...                                                 원문\n",
              "0        0  ...    https://www.yna.co.kr/view/AKR20210929177100083\n",
              "1        0  ...  https://www.yna.co.kr/view/AKR2021092911590050...\n",
              "2        0  ...  https://terms.naver.com/entry.naver?docId=5144...\n",
              "3        1  ...  https://go.seoul.co.kr/news/newsView.php?id=20...\n",
              "4        1  ...  https://www.hankookilbo.com/News/Read/A2021092...\n",
              "...    ...  ...                                                ...\n",
              "2816   847  ...  https://www.reuters.com/article/us-harvard-adm...\n",
              "2817   847  ...  https://www.nytimes.com/2018/06/15/us/harvard-...\n",
              "2818   847  ...            https://news.joins.com/article/11775777\n",
              "2819   848  ...    https://www.yna.co.kr/view/AKR20191002086700076\n",
              "2820   848  ...             https://ko.wikipedia.org/wiki/언론_자유_지수\n",
              "\n",
              "[2821 rows x 6 columns]"
            ]
          },
          "metadata": {}
        }
      ]
    },
    {
      "cell_type": "code",
      "metadata": {
        "colab": {
          "base_uri": "https://localhost:8080/",
          "height": 929
        },
        "id": "_zfPeOfrh2Hp",
        "outputId": "3c397f9d-41d1-4c1f-f28a-721485d095da"
      },
      "source": [
        "display(train)"
      ],
      "execution_count": 30,
      "outputs": [
        {
          "output_type": "display_data",
          "data": {
            "text/html": [
              "<div>\n",
              "<style scoped>\n",
              "    .dataframe tbody tr th:only-of-type {\n",
              "        vertical-align: middle;\n",
              "    }\n",
              "\n",
              "    .dataframe tbody tr th {\n",
              "        vertical-align: top;\n",
              "    }\n",
              "\n",
              "    .dataframe thead th {\n",
              "        text-align: right;\n",
              "    }\n",
              "</style>\n",
              "<table border=\"1\" class=\"dataframe\">\n",
              "  <thead>\n",
              "    <tr style=\"text-align: right;\">\n",
              "      <th></th>\n",
              "      <th>id</th>\n",
              "      <th>category</th>\n",
              "      <th>title</th>\n",
              "      <th>date</th>\n",
              "      <th>summary</th>\n",
              "      <th>original_text</th>\n",
              "      <th>url</th>\n",
              "    </tr>\n",
              "  </thead>\n",
              "  <tbody>\n",
              "    <tr>\n",
              "      <th>0</th>\n",
              "      <td>0</td>\n",
              "      <td>세계</td>\n",
              "      <td>WHO 말라리아 백신 접종 권고</td>\n",
              "      <td>2021/10/08</td>\n",
              "      <td>모기가 옮기는 기생충질환으로 🦟, 감염되면 심한 오한이 들고 열이 나요. 옛날에는 ...</td>\n",
              "      <td>NaN</td>\n",
              "      <td>https://terms.naver.com/entry.naver?cid=51004&amp;...</td>\n",
              "    </tr>\n",
              "    <tr>\n",
              "      <th>1</th>\n",
              "      <td>0</td>\n",
              "      <td>세계</td>\n",
              "      <td>WHO 말라리아 백신 접종 권고</td>\n",
              "      <td>2021/10/08</td>\n",
              "      <td>이유는  말라리아는 기생충이 주범이라, 코로나19처럼 바이러스가 퍼뜨리는 다른 병보...</td>\n",
              "      <td>2019년 11월 말라위의 한 마을 주민들이 말라리아 백신 접종 시범사업에 참여하는...</td>\n",
              "      <td>https://www.hani.co.kr/arti/international/inte...</td>\n",
              "    </tr>\n",
              "    <tr>\n",
              "      <th>2</th>\n",
              "      <td>0</td>\n",
              "      <td>세계</td>\n",
              "      <td>WHO 말라리아 백신 접종 권고</td>\n",
              "      <td>2021/10/08</td>\n",
              "      <td>WHO가 인정했으니 이제 전 세계에 백신을 공급하면 되는데요. 시간은 꽤 걸릴 것 ...</td>\n",
              "      <td>이재영 기자 기자 페이지 1987년 개발된 최초 백신…인류난제 극복 역사적 첫발 한...</td>\n",
              "      <td>https://www.yna.co.kr/view/AKR20211007003551088</td>\n",
              "    </tr>\n",
              "    <tr>\n",
              "      <th>3</th>\n",
              "      <td>1</td>\n",
              "      <td>경제</td>\n",
              "      <td>주식시장 파란불 켜진 이유 (2): 중국발 인플레 공포</td>\n",
              "      <td>2021/10/08</td>\n",
              "      <td>웬만한 제품이나 부품은 중국에서 만들잖아요(=중국 별명 ‘세계의 공장’ 🏭). 만드...</td>\n",
              "      <td>viewer 중국 랴오닝성 선양에 있는 한 석탄화력 발전소의 굴뚝에서 연기가 솟아오...</td>\n",
              "      <td>https://www.sedaily.com/NewsVIew/22SLJJUOUR</td>\n",
              "    </tr>\n",
              "    <tr>\n",
              "      <th>4</th>\n",
              "      <td>1</td>\n",
              "      <td>경제</td>\n",
              "      <td>주식시장 파란불 켜진 이유 (2): 중국발 인플레 공포</td>\n",
              "      <td>2021/10/08</td>\n",
              "      <td>중국은 호주랑 한바탕 싸우면서 ‘너네 석탄 안 사!’ 했어요. 호주가 석탄 수출해서...</td>\n",
              "      <td>전력난으로 중국 남부 광둥성 제조업 거점인 둥관 산업단지에 있는 한 공장에 불이 꺼...</td>\n",
              "      <td>https://www.joongang.co.kr/article/25011772#home</td>\n",
              "    </tr>\n",
              "    <tr>\n",
              "      <th>...</th>\n",
              "      <td>...</td>\n",
              "      <td>...</td>\n",
              "      <td>...</td>\n",
              "      <td>...</td>\n",
              "      <td>...</td>\n",
              "      <td>...</td>\n",
              "      <td>...</td>\n",
              "    </tr>\n",
              "    <tr>\n",
              "      <th>2832</th>\n",
              "      <td>1065</td>\n",
              "      <td>경제</td>\n",
              "      <td>코드명 스튜어드십코드🕵</td>\n",
              "      <td>2019/02/11</td>\n",
              "      <td>국민연금이 거기 왜 끼는데?😮국민연금은 국민의 노후를 보장하기 위해서 주식으로도 돈...</td>\n",
              "      <td>◆ 국민연금, 한진칼 경영참여 ◆   박능후 보건복지부 장관(맨 오른쪽)이 1일 오...</td>\n",
              "      <td>https://www.mk.co.kr/news/economy/view/2019/02...</td>\n",
              "    </tr>\n",
              "    <tr>\n",
              "      <th>2833</th>\n",
              "      <td>1065</td>\n",
              "      <td>경제</td>\n",
              "      <td>코드명 스튜어드십코드🕵</td>\n",
              "      <td>2019/02/11</td>\n",
              "      <td>+ 스튜어드십코드를 바라보는 또다른 관점 : 정치적인 이유로 국민연금의 스튜어드십코...</td>\n",
              "      <td>NaN</td>\n",
              "      <td>http://www.munhwa.com/news/view.html?no=201902...</td>\n",
              "    </tr>\n",
              "    <tr>\n",
              "      <th>2834</th>\n",
              "      <td>1079</td>\n",
              "      <td>세계</td>\n",
              "      <td>사라진 사우디 언론인 🇸🇦</td>\n",
              "      <td>2018/10/15</td>\n",
              "      <td>누가 그를 죽이라고 시켰는데?외신에 따르면, 사우디아라비아 빈살만 왕세자가 시킨 일...</td>\n",
              "      <td>NaN</td>\n",
              "      <td>https://www.washingtonpost.com/world/national-...</td>\n",
              "    </tr>\n",
              "    <tr>\n",
              "      <th>2835</th>\n",
              "      <td>1079</td>\n",
              "      <td>세계</td>\n",
              "      <td>사라진 사우디 언론인 🇸🇦</td>\n",
              "      <td>2018/10/15</td>\n",
              "      <td>+ 하지만 그러기엔 애플워치와 아이폰의 거리가 너무 멀었다며, 사실은 터키 정부가 ...</td>\n",
              "      <td>NaN</td>\n",
              "      <td>https://qz.com/1423401/jamal-khashoggi-the-pla...</td>\n",
              "    </tr>\n",
              "    <tr>\n",
              "      <th>2836</th>\n",
              "      <td>1079</td>\n",
              "      <td>세계</td>\n",
              "      <td>사라진 사우디 언론인 🇸🇦</td>\n",
              "      <td>2018/10/15</td>\n",
              "      <td>+ 이번 달 말 사우디에서 열리는 국제 투자회의 `미래 투자 이니셔티브(FII)’는...</td>\n",
              "      <td>NaN</td>\n",
              "      <td>https://www.hankookilbo.com/News/Read/20181013...</td>\n",
              "    </tr>\n",
              "  </tbody>\n",
              "</table>\n",
              "<p>2837 rows × 7 columns</p>\n",
              "</div>"
            ],
            "text/plain": [
              "        id  ...                                                url\n",
              "0        0  ...  https://terms.naver.com/entry.naver?cid=51004&...\n",
              "1        0  ...  https://www.hani.co.kr/arti/international/inte...\n",
              "2        0  ...    https://www.yna.co.kr/view/AKR20211007003551088\n",
              "3        1  ...        https://www.sedaily.com/NewsVIew/22SLJJUOUR\n",
              "4        1  ...   https://www.joongang.co.kr/article/25011772#home\n",
              "...    ...  ...                                                ...\n",
              "2832  1065  ...  https://www.mk.co.kr/news/economy/view/2019/02...\n",
              "2833  1065  ...  http://www.munhwa.com/news/view.html?no=201902...\n",
              "2834  1079  ...  https://www.washingtonpost.com/world/national-...\n",
              "2835  1079  ...  https://qz.com/1423401/jamal-khashoggi-the-pla...\n",
              "2836  1079  ...  https://www.hankookilbo.com/News/Read/20181013...\n",
              "\n",
              "[2837 rows x 7 columns]"
            ]
          },
          "metadata": {}
        }
      ]
    },
    {
      "cell_type": "code",
      "metadata": {
        "colab": {
          "base_uri": "https://localhost:8080/",
          "height": 359
        },
        "id": "bQcM8mM27Ifv",
        "outputId": "b08f094c-5d15-4d82-b08d-0a8702c25eee"
      },
      "source": [
        "train[['id', 'category']].groupby(['category']).count()"
      ],
      "execution_count": 19,
      "outputs": [
        {
          "output_type": "execute_result",
          "data": {
            "text/html": [
              "<div>\n",
              "<style scoped>\n",
              "    .dataframe tbody tr th:only-of-type {\n",
              "        vertical-align: middle;\n",
              "    }\n",
              "\n",
              "    .dataframe tbody tr th {\n",
              "        vertical-align: top;\n",
              "    }\n",
              "\n",
              "    .dataframe thead th {\n",
              "        text-align: right;\n",
              "    }\n",
              "</style>\n",
              "<table border=\"1\" class=\"dataframe\">\n",
              "  <thead>\n",
              "    <tr style=\"text-align: right;\">\n",
              "      <th></th>\n",
              "      <th>id</th>\n",
              "    </tr>\n",
              "    <tr>\n",
              "      <th>category</th>\n",
              "      <th></th>\n",
              "    </tr>\n",
              "  </thead>\n",
              "  <tbody>\n",
              "    <tr>\n",
              "      <th>경제</th>\n",
              "      <td>311</td>\n",
              "    </tr>\n",
              "    <tr>\n",
              "      <th>국내정치</th>\n",
              "      <td>490</td>\n",
              "    </tr>\n",
              "    <tr>\n",
              "      <th>노동·일</th>\n",
              "      <td>139</td>\n",
              "    </tr>\n",
              "    <tr>\n",
              "      <th>세계</th>\n",
              "      <td>795</td>\n",
              "    </tr>\n",
              "    <tr>\n",
              "      <th>여성</th>\n",
              "      <td>105</td>\n",
              "    </tr>\n",
              "    <tr>\n",
              "      <th>코로나19</th>\n",
              "      <td>262</td>\n",
              "    </tr>\n",
              "    <tr>\n",
              "      <th>테크</th>\n",
              "      <td>123</td>\n",
              "    </tr>\n",
              "    <tr>\n",
              "      <th>피자스테이션</th>\n",
              "      <td>49</td>\n",
              "    </tr>\n",
              "    <tr>\n",
              "      <th>환경</th>\n",
              "      <td>140</td>\n",
              "    </tr>\n",
              "  </tbody>\n",
              "</table>\n",
              "</div>"
            ],
            "text/plain": [
              "           id\n",
              "category     \n",
              "경제        311\n",
              "국내정치      490\n",
              "노동·일      139\n",
              "세계        795\n",
              "여성        105\n",
              "코로나19     262\n",
              "테크        123\n",
              "피자스테이션     49\n",
              "환경        140"
            ]
          },
          "metadata": {},
          "execution_count": 19
        }
      ]
    },
    {
      "cell_type": "code",
      "metadata": {
        "id": "t7kOD-1h7IiJ"
      },
      "source": [
        "ref = []\n",
        "for x in train['url']:\n",
        "    try: ref.append(x.split('/')[2])\n",
        "    except: ref.append('NULL')"
      ],
      "execution_count": 42,
      "outputs": []
    },
    {
      "cell_type": "code",
      "metadata": {
        "colab": {
          "base_uri": "https://localhost:8080/"
        },
        "id": "dPx0M3saj4A4",
        "outputId": "f4c57714-3586-4613-ba7e-74423ee22a00"
      },
      "source": [
        "print(ref)"
      ],
      "execution_count": 43,
      "outputs": [
        {
          "output_type": "stream",
          "name": "stdout",
          "text": [
            "['terms.naver.com', 'www.hani.co.kr', 'www.yna.co.kr', 'www.sedaily.com', 'www.joongang.co.kr', 'www.ajunews.com', 'qz.com', 'news.mt.co.kr', 'www.sedaily.com', 'www.mk.co.kr', 'www.mediatoday.co.kr', 'www.news1.kr', 'news.sbs.co.kr', 'news.einfomax.co.kr', 'www.hani.co.kr', 'news.kbs.co.kr', 'www.wsj.com', 'news.heraldcorp.com', 'imnews.imbc.com', 'www.edaily.co.kr', 'eiec.kdi.re.kr', 'www.chosun.com', 'www.yna.co.kr', 'www.news1.kr', 'www.news1.kr', 'www.news1.kr', 'www.edaily.co.kr', 'biz.chosun.com', 'www.khan.co.kr', 'www.dongascience.com', 'www.upinews.kr', 'it.donga.com', 'imnews.imbc.com', 'www.segye.com', 'newneek.typeform.com', 'newneek.typeform.com', 'news.sbs.co.kr', 'www.assembly.go.kr', 'www.yna.co.kr', 'terms.naver.com', 'www.hani.co.kr', 'www.joongang.co.kr', 'www.hankookilbo.com', 'www.donga.com', 'www.yna.co.kr', 'www.yna.co.kr', 'terms.naver.com', 'go.seoul.co.kr', 'www.hankookilbo.com', 'www.hani.co.kr', 'www.joongang.co.kr', 'www.joongang.co.kr', 'www.hani.co.kr', 'news.kbs.co.kr', 'img.khan.co.kr', 'news.kbs.co.kr', 'www.khan.co.kr', 'www.hankyung.com', 'www.mk.co.kr', 'file.mk.co.kr', 'terms.naver.com', 'news.jtbc.joins.com', 'www.yna.co.kr', 'www.khan.co.kr', 'www.news1.kr', 'www.donga.com', 'www.hankyung.com', 'view.asiae.co.kr', 'www.nocutnews.co.kr', 'www.seoul.co.kr', 'www.hankookilbo.com', 'www.etoday.co.kr', 'news.kbs.co.kr', 'www.segye.com', 'www.hankookilbo.com', 'www.hankookilbo.com', 'www.hankookilbo.com', 'blog.naver.com', 'www.nocutnews.co.kr', 'flexible.img.hani.co.kr', 'www.hani.co.kr', 'news.kbs.co.kr', 'www.hani.co.kr', 'www.hankyung.com', 'www.ytn.co.kr', 'www.econovill.com', 'www.index.go.kr', 'www.joongang.co.kr', 'www.dongascience.com', 'news.jtbc.joins.com', 'www.youtube.com', 'www.munhwa.com', 'www.yna.co.kr', 'www.netflix.com', 'www.joongang.co.kr', 'imnews.imbc.com', 'www.chosun.com', 'www.hankookilbo.com', 'zdnet.co.kr', 'www.dongascience.com', 'www.hani.co.kr', 'newsis.com', 'news.kbs.co.kr', 'news.sbs.co.kr', 'news.mt.co.kr', 'casper.hyundai.com', 'www.seoul.co.kr', 'newsis.com', 'ko.ifixit.com', 'likms.assembly.go.kr', 'www.newsian.co.kr', 'www.sisain.co.kr', 'health.chosun.com', 'news.jtbc.joins.com', 'www.joongang.co.kr', 'www.bbc.com', 'www.kukinews.com', 'news.sbs.co.kr', 'imnews.imbc.com', 'www.hankyung.com', 'www.edaily.co.kr', 'www.chosun.com', 'economist.co.kr', 'www.mk.co.kr', 'www.hani.co.kr', 'www.ytn.co.kr', 'www.hankookilbo.com', 'health.chosun.com', 'news.heraldcorp.com', 'news.sbs.co.kr', 'news.sbs.co.kr', 'www.joongang.co.kr', 'view.asiae.co.kr', 'imnews.imbc.com', 'news.kbs.co.kr', 'www.seoul.co.kr', 'news.kbs.co.kr', 'www.seoul.co.kr', 'www.hankyung.com', 'www.yna.co.kr', 'www.sisain.co.kr', 'www.hani.co.kr', 'www.hani.co.kr', 'NULL', 'www.hankookilbo.com', 'www.khan.co.kr', 'www.notion.so', 'www.news1.kr', 'www.mk.co.kr', 'www.labortoday.co.kr', 'www.khan.co.kr', 'imnews.imbc.com', 'www.voakorea.com', 'www.hankookilbo.com', 'www.huffingtonpost.kr', 'www.hani.co.kr', 'www.hankyung.com', 'www.donga.com', 'www.joongang.co.kr', 'news.kbs.co.kr', 'www.news1.kr', 'www.nytimes.com', 'www.donga.com', 'www.chosun.com', 'www.chosun.com', 'www.seoul.co.kr', 'www.seoul.co.kr', 'www.mk.co.kr', 'www.newsverse.kr', 'www.hani.co.kr', 'www.hankookilbo.com', 'www.donga.com', 'www.hankookilbo.com', 'www.joongang.co.kr', 'www.hankookilbo.com', 'nip.kdca.go.kr', 'h21.hani.co.kr', 'h21.hani.co.kr', 'www.hankookilbo.com', 'www.ytn.co.kr', 'www.seoul.co.kr', 'news.ebs.co.kr', 'www.yna.co.kr', 'ncov.mohw.go.kr', 'www.news1.kr', 'img8.yna.co.kr', 'img.hani.co.kr', 'www.upinews.kr', 'www.hankyung.com', 'news.kbs.co.kr', 'www.chosun.com', 'www.khan.co.kr', 'www.independent.co.uk', 'www.assembly.go.kr', 'www.assembly.go.kr', 'www.yna.co.kr', 'www.khan.co.kr', 'www.hankyung.com', 'www.hankookilbo.com', 'news.kbs.co.kr', 'www.joongang.co.kr', 'www.hankookilbo.com', 'news.mt.co.kr', 'www.chosun.com', 'www.mk.co.kr', 'www.chosun.com', 'www.youtube.com', 'www.instagram.com', 'www.paralympic.org', 'www.instagram.com', 'www.youtube.com', 'www.netflix.com', 'www.instagram.com', 'www.youtube.com', 'www.netflix.com', 'twitter.com', 'olympics.com', 'www.segye.com', 'www.khan.co.kr', 'www.hani.co.kr', 'www.hani.co.kr', 'h21.hani.co.kr', 'www.mk.co.kr', 'h21.hani.co.kr', 'www.hani.co.kr', 'NULL', 'www.koreaes.com', 'www.hani.co.kr', 'www.chosun.com', 'www.segye.com', 'www.sedaily.com', 'www.esquirekorea.co.kr', 'www.sedaily.com', 'www.etoday.co.kr', 'www.edaily.co.kr', 'www.seoul.co.kr', 'www.kukinews.com', 'news.kbs.co.kr', 'www.yna.co.kr', 'img0.yna.co.kr', 'img1.yna.co.kr', 'www.yna.co.kr', 'www.hani.co.kr', 'www.youtube.com', 'bogun.oopy.io', 'news.sbs.co.kr', 'www.yna.co.kr', 'www.seoul.co.kr', 'www.yna.co.kr', 'www.hani.co.kr', 'www.hani.co.kr', 'www.joongang.co.kr', 'h21.hani.co.kr', 'news.sbs.co.kr', 'www.joongang.co.kr', 'www.hani.co.kr', 'news.sbs.co.kr', 'www.yna.co.kr', 'imnews.imbc.com', 'www.hankookilbo.com', 'news.sbs.co.kr', 'news.kbs.co.kr', 'www.nocutnews.co.kr', 'www.hankookilbo.com', 'www.yna.co.kr', 'www.yna.co.kr', 'news.jtbc.joins.com', 'www.ytn.co.kr', 'www.news1.kr', 'www.yna.co.kr', 'news.kbs.co.kr', 'www.joongang.co.kr', 'ncv.kdca.go.kr', 'nedrug.mfds.go.kr', 'news.mt.co.kr', 'www.news1.kr', 'www.chosun.com', 'www.hankookilbo.com', 'www.hankookilbo.com', 'www.mk.co.kr', 'www.hani.co.kr', 'www.nocutnews.co.kr', 'www.hani.co.kr', 'www.hani.co.kr', 'www.hankookilbo.com', 'newsis.com', 'www.donga.com', 'www.segye.com', 'www.yna.co.kr', 'www.donga.com', 'www.ytn.co.kr', 'www.mediatoday.co.kr', 'terms.naver.com', 'www.mediatoday.co.kr', 'www.donga.com', 'terms.naver.com', 'www.yna.co.kr', 'www.yna.co.kr', 'www.bloomberg.com', 'www.khan.co.kr', 'shindonga.donga.com', 'www.yna.co.kr', 'www.news1.kr', 'kids.donga.com', 'www.mk.co.kr', 'file.mk.co.kr', 'www.sedaily.com', 'newsis.com', 'www.hankyung.com', 'thumb.mt.co.kr', 'www.hani.co.kr', 'www.bbc.com', 'www.sisain.co.kr', 'www.donga.com', 'www.yna.co.kr', 'www.chosun.com', 'www.nocutnews.co.kr', 'news.kbs.co.kr', 'www.news1.kr', 'www.news1.kr', 'www.news1.kr', 'www.yna.co.kr', 'www.wowtv.co.kr', 'www.yna.co.kr', 'news.mt.co.kr', 'www.hankyung.com', 'news.sbs.co.kr', 'www.dongascience.com', 'www.etnews.com', 'www.chosun.com', 'www.donga.com', 'www.sedaily.com', 'www.hankyung.com', 'www.hankookilbo.com', 'www.news1.kr', 'raythep.mk.co.kr', 'weekly.chosun.com', 'view.asiae.co.kr', 'www.yna.co.kr', 'www.yna.co.kr', 'www.joongang.co.kr', 'www.seoul.co.kr', 'www.news1.kr', 'www.mergepoint.co.kr', 'www.hankyung.com', 'www.hankookilbo.com', 'www.hankookilbo.com', 'pds.joins.com', 'www.hani.co.kr', 'www.hankookilbo.com', 'www.yna.co.kr', 'www.khan.co.kr', 'im-media.voltron.voanews.com', 'www.hani.co.kr', 'www.yna.co.kr', 'news.kbs.co.kr', 'www.hankookilbo.com', 'www.news1.kr', 'biz.chosun.com', 'www.yna.co.kr', 'www.hani.co.kr', 'www.news1.kr', 'www.joongang.co.kr', 'www.hani.co.kr', 'www.news1.kr', 'www.who.int', 'www.khan.co.kr', 'www.ipcc.ch', 'www.yna.co.kr', 'img.khan.co.kr', 'news.kbs.co.kr', 'www.hani.co.kr', 'www.hani.co.kr', 'www.hankookilbo.com', 'www.korea.kr', 'www.donga.com', 'www.economist.com', 'newsis.com', 'www.yna.co.kr', 'terms.naver.com', 'img.khan.co.kr', 'www.khan.co.kr', 'www.chosun.com', 'www.donga.com', 'newsis.com', 'www.hani.co.kr', 'www.reuters.com', 'www.apple.com', 'www.huffingtonpost.kr', 'www.mk.co.kr', 'www.nocutnews.co.kr', 'www.korea.kr', 'www.korea.kr', 'www.hankookilbo.com', 'www.instagram.com', 'olympics.com', 'www.instagram.com', 'www.washingtonpost.com', 'www.sedaily.com', 'apnews.com', 'www.instagram.com', 'www.instagram.com', 'www.instagram.com', 'www.instagram.com', 'www.joongang.co.kr', 'www.chosun.com', 'www.nocutnews.co.kr', 'terms.naver.com', 'monthly.chosun.com', 'www.joongang.co.kr', 'www.hani.co.kr', 'www.yna.co.kr', 'news.kbs.co.kr', 'www.yna.co.kr', 'stdict.korean.go.kr', 'news.sbs.co.kr', 'www.yna.co.kr', 'www.hani.co.kr', 'news.kbs.co.kr', 'www.hani.co.kr', 'www.stuff.co.nz', 'www.yna.co.kr', 'www.ytn.co.kr', 'news.jtbc.joins.com', 'newsis.com', 'www.mk.co.kr', 'ncvr2.kdca.go.kr', 'www.yna.co.kr', 'www.dongascience.com', 'www.mk.co.kr', 'zdnet.co.kr', 'biz.chosun.com', 'www.huffingtonpost.kr', 'www.instagram.com', 'www.bbc.com', 'file.mk.co.kr', 'news.sbs.co.kr', 'www.hani.co.kr', 'www.hankookilbo.com', 'www.yna.co.kr', 'image.ytn.co.kr', 'www.hani.co.kr', 'www.joongang.co.kr', 'www.mk.co.kr', 'www.yna.co.kr', 'www.news1.kr', 'www.ytn.co.kr', 'www.seoul.co.kr', 'www.joongang.co.kr', 'www.joongang.co.kr', 'www.yna.co.kr', 'www.yna.co.kr', 'www.reuters.com', 'www.khan.co.kr', 'www.chosun.com', 'www.yna.co.kr', 'www.news1.kr', 'www.yna.co.kr', 'media.npr.org', 'news.kmib.co.kr', 'www.joongang.co.kr', 'www.npr.org', 'www.khan.co.kr', 'jeju.news1.kr', 'www.jejusori.net', 'www.yna.co.kr', 'www.hankookilbo.com', 'www.joongang.co.kr', 'imnews.imbc.com', 'www.joongang.co.kr', 'www.donga.com', 'www.theguardian.com', 'www.yna.co.kr', 'www.hani.co.kr', 'www.yna.co.kr', 'img3.yna.co.kr', 'www.yna.co.kr', 'www.joongang.co.kr', 'www.hani.co.kr', 'imnews.imbc.com', 'www.chosun.com', 'www.yna.co.kr', 'www.joongang.co.kr', 'www.seoul.co.kr', 'www.hankookilbo.com', 'www.chosun.com', 'www.yna.co.kr', 'www.khan.co.kr', 'www.segye.com', 'www.hankookilbo.com', 'www.yna.co.kr', 'news.sbs.co.kr', 'www.khan.co.kr', 'www.dongascience.com', 'www.reuters.com', 'www.joongang.co.kr', 'mblogthumb-phinf.pstatic.net', 'www.chosun.com', 'www.chosun.com', 'www.yna.co.kr', 'www.news1.kr', 'www.edaily.co.kr', 'view.asiae.co.kr', 'www.hani.co.kr', 'www.yna.co.kr', 'news.jtbc.joins.com', 'www.yna.co.kr', 'www.newspenguin.com', 'www.instagram.com', 'www.instagram.com', 'www.youtube.com', 'www.youtube.com', 'www.youtube.com', 'www.youtube.com', 'www.youtube.com', 'www.youtube.com', 'www.youtube.com', 'www.instagram.com', 'www.youtube.com', 'www.instagram.com', 'www.instagram.com', 'www.instagram.com', 'www.instagram.com', 'www.instagram.com', 'www.sedaily.com', 'www.enewstoday.co.kr', 'www.khan.co.kr', 'www.yna.co.kr', 'news.kbs.co.kr', 'www.khan.co.kr', 'flexible.img.hani.co.kr', 'imnews.imbc.com', 'www.joongang.co.kr', 'www.seoul.co.kr', 'www.etnews.com', 'www1.president.go.kr', 'www.hankyung.com', 'zdnet.co.kr', 'www.nytimes.com', 'www.yna.co.kr', 'www.huffingtonpost.kr', 'www.hankookilbo.com', 'www.hankyung.com', 'newsis.com', 'www.mk.co.kr', 'newsis.com', 'www.yna.co.kr', 'imnews.imbc.com', 'newneek.co', 'www.joongang.co.kr', 'newneek.co', 'www.mediatoday.co.kr', 'www.mediatoday.co.kr', 'www.ytn.co.kr', 'www.hani.co.kr', 'www.joongang.co.kr', 'www.hani.co.kr', 'www.hani.co.kr', 'www.yna.co.kr', 'www.hankyung.com', 'www.khan.co.kr', 'www.donga.com', 'www.donga.com', 'www.khan.co.kr', 'www.hani.co.kr', 'img7.yna.co.kr', 'news.jtbc.joins.com', 'www.yna.co.kr', 'www.khan.co.kr', 'newsis.com', 'www.news1.kr', 'www.mk.co.kr', 'www.joongang.co.kr', 'www.fsc.go.kr', 'news.sbs.co.kr', 'www.hankookilbo.com', 'www.hani.co.kr', 'www.joongang.co.kr', 'www.joongang.co.kr', 'www.fnnews.com', 'news.sbs.co.kr', 'www.huffingtonpost.kr', 'www.yna.co.kr', 'www.hani.co.kr', 'www.joongang.co.kr', 'h21.hani.co.kr', 'www.nocutnews.co.kr', 'www.hani.co.kr', 'newsis.com', 'www.hankookilbo.com', 'stibee.com', 'www.joongang.co.kr', 'terms.naver.com', 'www.yna.co.kr', 'news.sbs.co.kr', 'www.news1.kr', 'www.joongang.co.kr', 'www.news1.kr', 'www.ytn.co.kr', 'www.hani.co.kr', 'biz.heraldcorp.com', 'www.africanews.com', 'www.yna.co.kr', 'ppss.kr', 'www.joongang.co.kr', 'www.joongang.co.kr', 'www.ytn.co.kr', 'www.hani.co.kr', 'www.joongang.co.kr', 'www.mk.co.kr', 'www.chosun.com', 'newsis.com', 'www.joongang.co.kr', 'www.ytn.co.kr', 'www.hankyung.com', 'www.joongang.co.kr', 'www.yna.co.kr', 'www.joongang.co.kr', 'www.washingtonpost.com', 'imnews.imbc.com', 'www.yna.co.kr', 'www.bbc.com', 'www.khan.co.kr', 'www.joongang.co.kr', 'img.fcbayern.com', 'www.donga.com', 'twitter.com', 'www.yna.co.kr', 'www.yna.co.kr', 'www.yna.co.kr', 'terms.naver.com', 'www.bbc.com', 'www.yna.co.kr', 'www.ytn.co.kr', 'www.hankyung.com', 'www.mediatoday.co.kr', 'www.hankookilbo.com', 'newneek.co', 'biz.chosun.com', 'terms.naver.com', 'www.hani.co.kr', 'www.hankyung.com', 'www.chosun.com', 'www.hani.co.kr', 'www.joongang.co.kr', 'www.hani.co.kr', 'www.yna.co.kr', 'kdca.go.kr', 'www.hankookilbo.com', 'www.yna.co.kr', 'www.joongang.co.kr', 'www.yna.co.kr', 'www.donga.com', 'www.mk.co.kr', 'newsis.com', 'www.chosun.com', 'www.khan.co.kr', 'articles.dotface.kr', 'www.chosun.com', 'www.donga.com', 'www.khan.co.kr', 'www.khan.co.kr', 'mabu.newscloud.sbs.co.kr', 'h21.hani.co.kr', 'news.sbs.co.kr', 'www.mk.co.kr', 'www.hani.co.kr', 'www.voakorea.com', 'img5.yna.co.kr', 'www.yna.co.kr', 'www.seoul.co.kr', 'imnews.imbc.com', 'www.yna.co.kr', 'www.news1.kr', 'news.kbs.co.kr', 'www.chosun.com', 'www.chosun.com', 'news.mk.co.kr', 'www.hankookilbo.com', 'www.news1.kr', 'www.mk.co.kr', 'www.bbc.com', 'www.hankyung.com', 'www.hani.co.kr', 'www.segye.com', 'www.joongang.co.kr', 'www.hankookilbo.com', 'www.joongang.co.kr', 'www.news1.kr', 'news.jtbc.joins.com', 'www.joongang.co.kr', 'www.youngnong.co.kr', 'www.huffingtonpost.kr', 'www.mk.co.kr', 'www.yna.co.kr', 'www.chosun.com', 'www.mk.co.kr', 'newsis.com', 'news.mt.co.kr', 'www.yna.co.kr', 'www.nocutnews.co.kr', 'psy.amc.seoul.kr', 'www.joongang.co.kr', 'www.bbc.com', 'news.mt.co.kr', 'www.khan.co.kr', 'news.sbs.co.kr', 'www.hani.co.kr', 'www.khan.co.kr', 'www.yna.co.kr', 'www.hani.co.kr', 'www.huffingtonpost.kr', 'news.kbs.co.kr', 'www.yna.co.kr', 'news.kbs.co.kr', 'www.yna.co.kr', 'www.yna.co.kr', 'www.yna.co.kr', 'www.hankookilbo.com', 'www.joongang.co.kr', 'www.hankookilbo.com', 'www.news1.kr', 'www.khan.co.kr', 'www.mediatoday.co.kr', 'news.kmib.co.kr', 'www.fnnews.com', 'newneek.typeform.com', 'imnews.imbc.com', 'www.khan.co.kr', 'www.hani.co.kr', 'www.youtube.com', 'www.yna.co.kr', 'assets.rebelmouse.io', 'www.huffingtonpost.kr', 'www.edaily.co.kr', 'www.hani.co.kr', 'www.sciencetimes.co.kr', 'www.newspenguin.com', 'www.newspenguin.com', 'www.yna.co.kr', 'imnews.imbc.com', 'imnews.imbc.com', 'news.sbs.co.kr', 'www.hani.co.kr', 'www.hankookilbo.com', 'www.fnnews.com', 'www.kyongbuk.co.kr', 'www.yna.co.kr', 'www.nocutnews.co.kr', 'www.humanrights.go.kr', 'www.notion.so', 'magazine.hankyung.com', 'bechdeltest.com', 'www.rainbowbookmark.com', 'www.bbc.com', 'www.yna.co.kr', 'www.joongang.co.kr', 'www.hani.co.kr', 'www.nytimes.com', 'www.dongascience.com', 'news.jtbc.joins.com', 'www.news1.kr', 'www.hankookilbo.com', 'news.kbs.co.kr', 'www.joongang.co.kr', 'www.theguardian.com', 'www.sportsseoul.com', 'news.kbs.co.kr', 'news.kbs.co.kr', 'www.joongang.co.kr', 'www.hankookilbo.com', 'www.hankookilbo.com', 'www.hankyung.com', 'biz.chosun.com', 'news.sbs.co.kr', 'news.jtbc.joins.com', 'newsis.com', 'www.hankookilbo.com', 'www.dongascience.com', 'www.yna.co.kr', 'terms.naver.com', 'www.joongang.co.kr', 'www.sedaily.com', 'www.seoul.co.kr', 'www.news1.kr', 'www.joongang.co.kr', 'www.news1.kr', 'www.mk.co.kr', 'www.sedaily.com', 'newsimg.hankookilbo.com', 'www.yna.co.kr', 'www.yna.co.kr', 'terms.naver.com', 'www.yna.co.kr', 'www.khan.co.kr', 'www.yna.co.kr', 'www.chosun.com', 'www.news1.kr', 'www.hankyung.com', 'newsis.com', 'www.donga.com', 'rtms.molit.go.kr', 'elonalerts.com', 'img7.yna.co.kr', 'www.hankookilbo.com', 'www.nocutnews.co.kr', 'weekly.donga.com', 'pbs.twimg.com', 'www.yna.co.kr', 'news.sbs.co.kr', 'www.joongang.co.kr', 'www.joongang.co.kr', 'jmagazine.joins.com', 'www.hani.co.kr', 'dongascience.com', 'www.yna.co.kr', 'www.bbc.com', 'www.joongang.co.kr', 'www.voakorea.com', 'www.yna.co.kr', 'www.yna.co.kr', 'news.kbs.co.kr', 'www.seoul.co.kr', 'www.hankyung.com', 'www.m-i.kr', 'www.donga.com', 'www.hankookilbo.com', 'www.ytn.co.kr', 'www.khan.co.kr', 'terms.naver.com', 'www.nytimes.com', 'edition.cnn.com', 'www.chosun.com', 'www.chosun.com', 'www.hankookilbo.com', 'www.nocutnews.co.kr', 'www.khan.co.kr', 'newneek.co', 'www.hankookilbo.com', 'www.nocutnews.co.kr', 'www.hankookilbo.com', 'www.hankyung.com', 'www.hankookilbo.com', 'www.chosun.com', 'www.yna.co.kr', 'image.newsis.com', 'www.yna.co.kr', 'www.joongang.co.kr', 'www.yna.co.kr', 'www.hankyung.com', 'news.naver.com', 'www.khan.co.kr', 'news.kmib.co.kr', 'www.edaily.co.kr', 'www.hani.co.kr', 'news.kbs.co.kr', 'www.segye.com', 'news.einfomax.co.kr', 'newneek.co', 'www.hankookilbo.com', 'www.joongang.co.kr', 'www.yna.co.kr', 'imnews.imbc.com', 'www.joongang.co.kr', 'www.hankyung.com', 'www.hani.co.kr', 'www.hani.co.kr', 'www.segye.com', 'newsis.com', 'www.nocutnews.co.kr', 'www.hankookilbo.com', 'www.nocutnews.co.kr', 'www.hani.co.kr', 'www.idaegu.co.kr', 'www.joongang.co.kr', 'www.hani.co.kr', 'www.news1.kr', 'www.khan.co.kr', 'www.yna.co.kr', 'www.news1.kr', 'www.hankookilbo.com', 'www.news1.kr', 't1.daumcdn.net', 'terms.naver.com', 'www.chosun.com', 'www.yna.co.kr', 'terms.naver.com', 'www.yna.co.kr', 'www.yna.co.kr', 'view.asiae.co.kr', 'www.ytn.co.kr', 'www.joongang.co.kr', 'www.joongang.co.kr', 'www.hani.co.kr', 'www.hankookilbo.com', 'www.hankyung.com', 'www.hankyung.com', 'www.hani.co.kr', 'newsis.com', 'www.hani.co.kr', 'www.hani.co.kr', 'www.khan.co.kr', 'www.hankookilbo.com', 'www.seoul.co.kr', 'www.hankookilbo.com', 'www.joongang.co.kr', 'www.youtube.com', 'newneek.co', 'www.mofa.go.kr', 'www.khan.co.kr', 'www.yna.co.kr', 'www.yna.co.kr', 'www.donga.com', 'newsis.com', 'www.hani.co.kr', 'www.news1.kr', 'www.yna.co.kr', 'www.bbc.com', 'newneek.co', 'www.hani.co.kr', 'www.sisajournal.com', 'www.chosun.com', 'news.sbs.co.kr', 'www.hankookilbo.com', 'upload.wikimedia.org', 'news.jtbc.joins.com', 'www.mk.co.kr', 'www.hankyung.com', 'www.chosun.com', 'www.hani.co.kr', 'www.khan.co.kr', 'news.mt.co.kr', 'www.kwdi.re.kr', 'www.yna.co.kr', 'www.joongang.co.kr', 'www.hani.co.kr', 'www.chosun.com', 'gonebikeabout.com', 'www.whereig.com', 'www.bbc.com', 'www.hankookilbo.com', 'www.news1.kr', 'www.yna.co.kr', 'www.hankookilbo.com', 'www.joongang.co.kr', 'www.youtube.com', 'www.hani.co.kr', 'newsis.com', 'www.joongang.co.kr', 'www.voakorea.com', 'www.yna.co.kr', 'www.hankyung.com', 'www.hankyung.com', 'www.news1.kr', 'www.sedaily.com', 'www.joongang.co.kr', 'newsis.com', 'www.yna.co.kr', 'www.khan.co.kr', 'www.khan.co.kr', 'www.huffingtonpost.kr', 'newneek.typeform.com', 'www.ytn.co.kr', 'www.greenpeace.org', 'www.yna.co.kr', 'www.hankookilbo.com', 'www.yna.co.kr', 'www.hankookilbo.com', 'www.hankyung.com', 'NULL', 'www.yna.co.kr', 'www.hankyung.com', 'www.joongang.co.kr', 'www.chosun.com', 'www.coindeskkorea.com', 'www.news1.kr', 'www.edaily.co.kr', 'www.joongang.co.kr', 'www.chosun.com', 'www.joongang.co.kr', 'www.news1.kr', 'www.yna.co.kr', 'www.sedaily.com', 'www.hankookilbo.com', 'www.joongang.co.kr', 'www.hani.co.kr', 'www.hankyung.com', 'www.hankyung.com', 'www.mk.co.kr', 'news.kmib.co.kr', 'www.joongang.co.kr', 'finance.naver.com', 'biz.chosun.com', 'newneek.typeform.com', 'image.fnnews.com', 'abcnews.go.com', 'news.jtbc.joins.com', 'news.jtbc.joins.com', 'imgnews.pstatic.net', 'www.realmeter.net', 'www.donga.com', 'www.joongang.co.kr', 'www.hankookilbo.com', 'biz.chosun.com', 'biz.chosun.com', 'www.donga.com', 'www.mk.co.kr', 'www.hankookilbo.com', 'www.yna.co.kr', 'www.hankookilbo.com', 'www.yna.co.kr', 'file.mk.co.kr', 'www.sedaily.com', 'moneys.mt.co.kr', 'txsi.hometax.go.kr', 'image.newsis.com', 'img2.yna.co.kr', 'newneek.typeform.com', 'www.nec.go.kr', 'www.yna.co.kr', 'www.seoul.co.kr', 'www.yna.co.kr', 'biz.chosun.com', 'www.womentimes.co.kr', 'www.news1.kr', 'www.stop.or.kr', 'www.joongang.co.kr', 'www.etoday.co.kr', 'www.mk.co.kr', 'www.khan.co.kr', 'news.mt.co.kr', 'www.bloter.net', 'www.cryptokitties.co', 'www.hankyung.com', 'news.mk.co.kr', 'www.joongang.co.kr', 'www.hani.co.kr', 'www.nocutnews.co.kr', 'www.sedaily.com', 'www.joongang.co.kr', 'newsis.com', 'www.bbc.com', 'www.khan.co.kr', 'www.bbc.com', 'newsis.com', 'www.donga.com', 'www.hankookilbo.com', 'www.khan.co.kr', 'www.hankookilbo.com', 'img5.yna.co.kr', 'www.hankookilbo.com', 'www.hani.co.kr', 'news.sbs.co.kr', 'www.joongang.co.kr', 'www.yna.co.kr', 'www.hankookilbo.com', 'www.mk.co.kr', 'www.youtube.com', 'thumbs.gfycat.com', 'www.unesco.org', 'www.greenpostkorea.co.kr', 'www.worldwaterday.org', 'www.donga.com', 'www.chosun.com', 'pittsburgh.cbslocal.com', 'time.com', 'news.kbs.co.kr', 'www.hani.co.kr', 'www.joongang.co.kr', 'www.asiatoday.co.kr', 'www.joongang.co.kr', 'www.youtube.com', 'www.hankyung.com', 'www.wsj.com', 'biz.chosun.com', 'www.bbc.com', 'www.koreadaily.com', 'www.yna.co.kr', 'www.news1.kr', 'www.mk.co.kr', 'www.joongang.co.kr', 'newsis.com', 'www.mk.co.kr', 'www.energy-news.co.kr', 'www.busan.com', 'www.busan.com', 'www.sisajournal.com', 'www.yna.co.kr', 'terms.naver.com', 'www.hankookilbo.com', 'en.wikipedia.org', 'www.khan.co.kr', 'www.mk.co.kr', 'law.go.kr', 'www.hankookilbo.com', 'www.donga.com', 'www.hankyung.com', 'www.mk.co.kr', 'www.nocutnews.co.kr', 'www.hani.co.kr', 'www.nocutnews.co.kr', 'www.munhwa.com', 'www.mediaus.co.kr', 'www.nytimes.com', 'moneys.mt.co.kr', 'twitter.com', 'www.joongang.co.kr', 'www.yna.co.kr', 'biz.chosun.com', 'www.hani.co.kr', 'www.hankookilbo.com', 'image.chosun.com', 'www.hani.co.kr', 'www.yna.co.kr', 'news.sbs.co.kr', 'newneek.co', 'newneek.co', 'newneek.co', 'news.mt.co.kr', 'www.hankyung.com', 'www.yna.co.kr', 'newneek.co', 'terms.naver.com', 'www.edaily.co.kr', 'news.sbs.co.kr', 'www.hankyung.com', 'www.hankyung.com', 'slownews.kr', 'www.nocutnews.co.kr', 'biz.chosun.com', 'www.hani.co.kr', 'www.segye.com', 'www.yna.co.kr', 'www.joongang.co.kr', 'www.mk.co.kr', 'www.news1.kr', 'terms.naver.com', 'www.yna.co.kr', 'news.kbs.co.kr', 'www.khan.co.kr', 'www.bbc.com', 'ojsfile.ohmynews.com', 'www.mk.co.kr', 'www.hani.co.kr', 'biz.sbs.co.kr', 'www.khan.co.kr', 'www.hankookilbo.com', 'www.yna.co.kr', 'www.hankookilbo.com', 'www.yna.co.kr', 'www.yna.co.kr', 'news.sbs.co.kr', 'www.yna.co.kr', 'dimg.donga.com', 'www.chosun.com', 'www.yna.co.kr', 'www.hani.co.kr', 'ko.wikipedia.org', 'www.khan.co.kr', 'www.yna.co.kr', 'www.hani.co.kr', 'www.bbc.com', 'www.chosun.com', 'www.yna.co.kr', 'www.yna.co.kr', 'www.joongang.co.kr', 'www.hankookilbo.com', 'www.gnnews.co.kr', 'www.joongang.co.kr', 'www.yna.co.kr', 'www.joongang.co.kr', 'www.yna.co.kr', 'www.law.go.kr', 'news.lawtalk.co.kr', 'www.mediatoday.co.kr', 'tbs.seoul.kr', 'www.joongang.co.kr', 'www.yna.co.kr', 'www.khan.co.kr', 'news.bizwatch.co.kr', 'terms.naver.com', 'ko.wikipedia.org', 'www.joongang.co.kr', 'www.segye.com', 'www.hankookilbo.com', 'www.hankyung.com', 'www.bloter.net', 'newsis.com', 'www.yna.co.kr', 'www.hankookilbo.com', 'news.mt.co.kr', 'www.dongascience.com', 'zdnet.co.kr', 'www.news1.kr', 'www.hani.co.kr', 'newsis.com', 'mars.nasa.gov', 'www.hankookilbo.com', 'www.dongascience.com', 'www.bbc.com', 'www.sciencetimes.co.kr', 'www.bbc.com', 'www.dongascience.com', 'www.news1.kr', 'www.yna.co.kr', 'www.hani.co.kr', 'www.icj-cij.org', 'www.hani.co.kr', 'www.hani.co.kr', 'www.hani.co.kr', 'www.yna.co.kr', 'www.washingtonpost.com', 'www.joongang.co.kr', 'www.mk.co.kr', 'www.joongang.co.kr', 'news.sbs.co.kr', 'www.khan.co.kr', 'www.khan.co.kr', 'www.hani.co.kr', 'imnews.imbc.com', 'www.chosun.com', 'www.mk.co.kr', 'terms.naver.com', 'www.joongang.co.kr', 'www.joongang.co.kr', 'www.edaily.co.kr', 'www.natlawreview.com', 'www.khan.co.kr', 'www.hani.co.kr', 'www.yna.co.kr', 'www.hani.co.kr', 'news.sbs.co.kr', 'www.hani.co.kr', 'www.yna.co.kr', 'www.joongang.co.kr', 'www.nocutnews.co.kr', 'www.hankyung.com', 'moneys.mt.co.kr', 'www.khan.co.kr', 'terms.naver.com', 'www.yna.co.kr', 'www.chosun.com', 'www.joongang.co.kr', 'www.newspim.com', 'www.hankyung.com', 'www.yna.co.kr', 'www.seoul.co.kr', 'www.hani.co.kr', 'www.sedaily.com', 'www.mk.co.kr', 'www.mk.co.kr', 'ko.maps-myanmar.com', 'www.hani.co.kr', 'www.yna.co.kr', 'www.bbc.com', 'www.hankookilbo.com', 'www.bbc.com', 'www.hani.co.kr', 'www.hankookilbo.com', 'www.news1.kr', 'news.sbs.co.kr', 'www.sedaily.com', 'news.sbs.co.kr', 'www.hankookilbo.com', 'news.jtbc.joins.com', 'www.hani.co.kr', 'www.yna.co.kr', 'www.hankyung.com', 'edition.cnn.com', 'www.nongmin.com', 'www.nytimes.com', 'www.hani.co.kr', 'www.yna.co.kr', 'www.pressian.com', 'www.hani.co.kr', 'www.hani.co.kr', 'www.sisain.co.kr', 'www.hani.co.kr', 'www.hani.co.kr', 'www.lawtimes.co.kr', 'www.hani.co.kr', 'www.etoday.co.kr', 'www.yna.co.kr', 'news.skhynix.co.kr', 'www.sedaily.com', 'www.hani.co.kr', 'www.joongang.co.kr', 'www.seoul.co.kr', 'www.mk.co.kr', 'www.korea.kr', 'www.sisain.co.kr', 'www.hani.co.kr', 'www.hani.co.kr', 'news.mt.co.kr', 'news.sbs.co.kr', 'imnews.imbc.com', 'news.kbs.co.kr', 'news.jtbc.joins.com', 'newsis.com', 'www.hani.co.kr', 'www.hani.co.kr', 'www.hankookilbo.com', 'www.bbc.com', 'www.yna.co.kr', 'www.yna.co.kr', 'www.hankyung.com', 'www.ytn.co.kr', 'www.hani.co.kr', 'www.khan.co.kr', 'www.newsis.com', 'www.joongang.co.kr', 'news.sbs.co.kr', 'www.newsis.com', 'www.news1.kr', 'www.hani.co.kr', 'www.hankyung.com', 'www.nkuringosafaris.com', 'www.khan.co.kr', 'newsis.com', 'biz.chosun.com', 'www.yna.co.kr', 'news.sbs.co.kr', 'www.khan.co.kr', 'www.chosun.com', 'imnews.imbc.com', 'www.hankyung.com', 'www.hani.co.kr', 'www.joongang.co.kr', 'www.donga.com', 'www.yna.co.kr', 'www.khan.co.kr', 'www.hankyung.com', 'www.chosun.com', 'dimg.donga.com', 'news.sbs.co.kr', 'www.dongascience.com', 'www.sisain.co.kr', 'www.khan.co.kr', 'www.hani.co.kr', 'terms.naver.com', 'www.yna.co.kr', 'luda.ai', 'www.yna.co.kr', 'www.mk.co.kr', 'www.hankyung.com', 'zdnet.co.kr', 'www.yna.co.kr', 'www.hani.co.kr', 'biz.chosun.com', 'news.sbs.co.kr', 'news.mt.co.kr', 'www.hani.co.kr', 'www.khan.co.kr', 'news.sbs.co.kr', 'www.korea1391.go.kr', 'www.news1.kr', 'www.joongang.co.kr', 'www.seoul.co.kr', 'www.khan.co.kr', 'news.sbs.co.kr', 'www.sisajournal.com', 'edition.cnn.com', 'newsis.com', 'www.instagram.com', 'influencermatchmaker.co.uk', 'www.instagram.com', 'www.etoday.co.kr', 'www.donga.com', 'www.news1.kr', 'www.news1.kr', 'www.chosun.com', 'www.sedaily.com', 'www.mk.co.kr', 'newsis.com', 'www.khan.co.kr', 'www.me.go.kr', 'newsis.com', 'www.bbc.com', 'www.newspim.com', 'www.news1.kr', 'www.sisain.co.kr', 'news.jtbc.joins.com', 'www.bbc.com', 'www.seoul.co.kr', 'www.hani.co.kr', 'biz.chosun.com', 'newneek.co', 'biz.chosun.com', 'www.hani.co.kr', 'www.yna.co.kr', 'www.yna.co.kr', 'www.joongang.co.kr', 'www.hankyung.com', 'ec.europa.eu', 'ec.europa.eu', 'biz.chosun.com', 'news.sbs.co.kr', 'www.hankookilbo.com', 'dimg.donga.com', 'terms.naver.com', 'www.joongang.co.kr', 'www.chosun.com', 'www.hankookilbo.com', 'www.yna.co.kr', 'www.yna.co.kr', 'www.khan.co.kr', 'www.womennews.co.kr', 'www.chosun.com', 'www.news1.kr', 'www.bbc.com', 'www.news1.kr', 'www.hankookilbo.com', 'www.yna.co.kr', 'www.chosun.com', 'news.mt.co.kr', 'news.kbs.co.kr', 'www.yna.co.kr', 'www.hankyung.com', 'www.khan.co.kr', 'www.yna.co.kr', 'terms.naver.com', 'www.nocutnews.co.kr', 'www.ytn.co.kr', 'www.hankookilbo.com', 'www.yna.co.kr', 'www.chosun.com', 'www.hani.co.kr', 'www.hani.co.kr', 'www.donga.com', 'h21.hani.co.kr', 'news.sbs.co.kr', 'news.kbs.co.kr', 'www.yna.co.kr', 'www.hani.co.kr', 'www.yna.co.kr', 'www.seoul.co.kr', 'news.sbs.co.kr', 'www.joongang.co.kr', 'www.nytimes.com', 'www.coindeskkorea.com', 'www.sedaily.com', 'www.coindeskkorea.com', 'www.youtube.com', 'biz.chosun.com', 'www.ytn.co.kr', 'news.jtbc.joins.com', 'www.hankookilbo.com', 'www.hani.co.kr', 'news.sbs.co.kr', 'www.joongang.co.kr', 'news.sbs.co.kr', 'www.joongang.co.kr', 'www.sedaily.com', 'biz.chosun.com', 'www.yna.co.kr', 'www.yna.co.kr', 'www.yna.co.kr', 'news.kbs.co.kr', 'www.hani.co.kr', 'imnews.imbc.com', 'imnews.imbc.com', 'www.chosun.com', 'www.bbc.com', 'news.sbs.co.kr', 'news.sbs.co.kr', 'www.khan.co.kr', 'www.joongang.co.kr', 'news.mt.co.kr', 'www.joongang.co.kr', 'terms.naver.com', 'www.khan.co.kr', 'www.yna.co.kr', 'terms.naver.com', 'www.hankookilbo.com', 'www.yna.co.kr', 'www.sisajournal.com', 'www.news1.kr', 'www.sisajournal.com', 'www.khan.co.kr', 'newsis.com', 'www.yna.co.kr', 'newneek.co', 'newsis.com', 'www.hani.co.kr', 'news.mt.co.kr', 'www.mk.co.kr', 'www.yna.co.kr', 'www.segye.com', 'www.bbc.com', 'www.yna.co.kr', 'www.mk.co.kr', 'news.mt.co.kr', 'www.newspim.com', 'www.hankookilbo.com', 'www.hani.co.kr', 'newsis.com', 'news.kbs.co.kr', 'www.hani.co.kr', 'www.hankyung.com', 'news.jtbc.joins.com', 'www.donga.com', 'www.bloter.net', 'www.joongang.co.kr', 'www.donga.com', 'biz.chosun.com', 'www.hani.co.kr', 'www.hankookilbo.com', 'www.joongang.co.kr', 'www.worldatlas.com', 'upload.wikimedia.org', 'www.joongang.co.kr', 'news.kbs.co.kr', 'www.yna.co.kr', 'www.yna.co.kr', 'www.joongang.co.kr', 'news.kbs.co.kr', 'www.hani.co.kr', 'newneek.co', 'www.yna.co.kr', 'www.hani.co.kr', 'www.hani.co.kr', 'www.fnnews.com', 'www.khan.co.kr', 'www.hani.co.kr', 'www.nytimes.com', 'www.hani.co.kr', 'www.youtube.com', 'www.hani.co.kr', 'news.sbs.co.kr', 'www.news1.kr', 'www.joongang.co.kr', 'biz.chosun.com', 'www.hani.co.kr', 'www.yna.co.kr', 'www.who.int', 'www.chosun.com', 'newneek.co', 'www.hankyung.com', 'www.hankookilbo.com', 'www.joongang.co.kr', 'news.jtbc.joins.com', 'www.yna.co.kr', 'www.hankyung.com', 'www.chosun.com', 'www.chosun.com', 'www.khan.co.kr', 'www.yna.co.kr', 'www.news1.kr', 'www.yna.co.kr', 'www.joongang.co.kr', 'image.news1.kr', 'www.ytn.co.kr', 'www.nytimes.com', 'www.yna.co.kr', 'news.mt.co.kr', 'www.chosun.com', 'www.yna.co.kr', 'www.hani.co.kr', 'imnews.imbc.com', 'terms.naver.com', 'news.kbs.co.kr', 'www.mk.co.kr', 'www.yna.co.kr', 'www.newstomato.com', 'www.munhwa.com', 'www.joongang.co.kr', 'www.khan.co.kr', 'www.joongang.co.kr', 'news.jtbc.joins.com', 'www.hankookilbo.com', 'www.yna.co.kr', 'www.donga.com', 'www.hani.co.kr', 'www.sedaily.com', 'www.yna.co.kr', 'www.hani.co.kr', 'www.ytn.co.kr', 'www.ytn.co.kr', 'www.joongang.co.kr', 'www.hani.co.kr', 'www.hankookilbo.com', 'www.hani.co.kr', 'cdn.imweb.me', 'www.joongang.co.kr', 'www.khan.co.kr', 'www.hani.co.kr', 'www.yna.co.kr', 'www.weforum.org', 'www.joongang.co.kr', 'www.hankyung.com', 'www.hani.co.kr', 'magazine.hankyung.com', 'www.hani.co.kr', 'img.khan.co.kr', 'news.jtbc.joins.com', 'www.hankookilbo.com', 'www.hani.co.kr', 'www.newsmp.com', 'www.hankookilbo.com', 'biz.chosun.com', 'www.hankookilbo.com', 'www.joongang.co.kr', 'www.chosun.com', 'www.hani.co.kr', 'news.heraldcorp.com', 'cloud.greensk.greenpeace.org', 'www.donga.com', 'www.hankookilbo.com', 'www.ajunews.com', 'www.notion.so', 'www.youtube.com', 'www.youtube.com', 'img4.yna.co.kr', 'www.mk.co.kr', 'www.joongang.co.kr', 'www.chosun.com', 'wsri.or.kr', 'image.newsis.com', 'www.joongang.co.kr', 'www.hankyung.com', 'news.mt.co.kr', 'www.youtube.com', 'www.youtube.com', 'www.chosun.com', 'news.kbs.co.kr', 'edition.cnn.com', 'www.hani.co.kr', 'www.hani.co.kr', 'www.hankookilbo.com', 'www.ytn.co.kr', 'www.donga.com', 'www.yna.co.kr', 'img1.yna.co.kr', 'www.hani.co.kr', 'terms.naver.com', 'www.yna.co.kr', 'newsis.com', 'www.nocutnews.co.kr', 'news.sbs.co.kr', 'www.ytn.co.kr', 'www.yonhapnewstv.co.kr', 'www.ytn.co.kr', 'www.hankookilbo.com', 'www.nytimes.com', 'biz.chosun.com', 'www.mk.co.kr', 'www.hankookilbo.com', 'www.chosun.com', 'news.jtbc.joins.com', 'newsis.com', 'www.yna.co.kr', 'www.sqcf.org', 'www.hani.co.kr', 'news.kbs.co.kr', 'www.ytn.co.kr', 'www.joongang.co.kr', 'www.hankookilbo.com', 'terms.naver.com', 'www.kbr.go.kr', 'www.news1.kr', 'imnews.imbc.com', 'www.joongang.co.kr', 'it.chosun.com', 'zdnet.co.kr', 'newsis.com', 'www.nocutnews.co.kr', 'www.yna.co.kr', 'www.yna.co.kr', 'biz.chosun.com', 'www.yna.co.kr', 'www.yna.co.kr', 'www.yna.co.kr', 'newsteacher.chosun.com', 'www.thelocal.de', 'www.hani.co.kr', 'jmagazine.joins.com', 'www.donga.com', 'news.sbs.co.kr', 'www.khan.co.kr', 'www.yna.co.kr', 'www.greenpeace.org', 'biz.chosun.com', 'www.hani.co.kr', 'www.current-news.co.uk', 'www.khan.co.kr', 'img.wowtv.co.kr', 'www.yonhapnewstv.co.kr', 'www.nocutnews.co.kr', 'www.khan.co.kr', 'www.yna.co.kr', 'beyondcoal.kr', 'www.hani.co.kr', 'www.huffingtonpost.kr', 'www.joongang.co.kr', 'www.hani.co.kr', 'img6.yna.co.kr', 'newsis.com', 'newsis.com', 'www.nocutnews.co.kr', 'www.bbc.com', 'www.hankookilbo.com', 'imnews.imbc.com', 'www.khan.co.kr', 'biz.chosun.com', 'www.news1.kr', 'biz.sbs.co.kr', 'news.mt.co.kr', 'www.seoul.co.kr', 'www.hankookilbo.com', 'www.yonhapnewstv.co.kr', 'www.khan.co.kr', 'www.nocutnews.co.kr', 'www.yna.co.kr', 'www.ytn.co.kr', 'www.khan.co.kr', 'www.yna.co.kr', 'www.hani.co.kr', 'www.yna.co.kr', 'www.donga.com', 'terms.naver.com', 'www.yna.co.kr', 'biz.sbs.co.kr', 'www.hani.co.kr', 'www.joongang.co.kr', 'www.hani.co.kr', 'terms.naver.com', 'newneek.co', 'img1.yna.co.kr', 'post-phinf.pstatic.net', 'www.hankookilbo.com', 'www.yna.co.kr', 'www.yna.co.kr', 'terms.naver.com', 'www.lawtimes.co.kr', 'www.khan.co.kr', 'www.hani.co.kr', 'www.segye.com', 'www.joongang.co.kr', 'www.joongang.co.kr', 'newneek.co', 'www.khan.co.kr', 'www.joongang.co.kr', 'www.joongang.co.kr', 'www.donga.com', 'news.jtbc.joins.com', 'www.yna.co.kr', 'news.jtbc.joins.com', 'www.nocutnews.co.kr', 'www.joongang.co.kr', 'imnews.imbc.com', 'www.chosun.com', 'www.yna.co.kr', 'www.hani.co.kr', 'www.joongang.co.kr', 'www.chosun.com', 'www.hani.co.kr', 'www.joongang.co.kr', 'www.hankookilbo.com', 'www.news1.kr', 'www.khan.co.kr', 'img.wowtv.co.kr', 'www.yonhapnewstv.co.kr', 'www.sisain.co.kr', 'www.sisain.co.kr', 'www.hani.co.kr', 'www.hankookilbo.com', 'www.yna.co.kr', 'news.sbs.co.kr', 'newsis.com', 'flexible.img.hani.co.kr', 'www.nocutnews.co.kr', 'www.yna.co.kr', 'www.yna.co.kr', 'newsimg.hankookilbo.com', 'www.hani.co.kr', 'www.khan.co.kr', 'www.yna.co.kr', 'www.segye.com', 'www.hankyung.com', 'news.kbs.co.kr', 'imnews.imbc.com', 'www.joongang.co.kr', 'www.news1.kr', 'www.hankookilbo.com', 'news.kbs.co.kr', 'www.news1.kr', 'www.joongang.co.kr', 'www.yna.co.kr', 'www.joongang.co.kr', 'www.yna.co.kr', 'news.tf.co.kr', 'www.hani.co.kr', 'www.khan.co.kr', 'web.kma.go.kr', 'www.sciencetimes.co.kr', 'www.khan.co.kr', 'science.ytn.co.kr', 'www.mk.co.kr', 'www.ytn.co.kr', 'news.jtbc.joins.com', 'www.mk.co.kr', 'book.naver.com', 'www.joongang.co.kr', 'www.washingtonpost.com', 'imnews.imbc.com', 'search.naver.com', 'www.usanetwork.com', 'search.naver.com', 'imnews.imbc.com', 'www.hankookilbo.com', 'www.hani.co.kr', 'www.yna.co.kr', 'www.theguardian.com', 'flexible.img.hani.co.kr', 'www.hani.co.kr', 'www.joongang.co.kr', 'www.joongang.co.kr', 'www.bbc.com', 'terms.naver.com', 'www.nocutnews.co.kr', 'i.guim.co.uk', 'www.nocutnews.co.kr', 'news.sbs.co.kr', 'biz.sbs.co.kr', 'www.hankookilbo.com', 'news.mt.co.kr', 'www.netflix.com', 'www.donga.com', 'www.joongang.co.kr', 'newneek.co', 'www.hankookilbo.com', 'www.hankookilbo.com', 'terms.naver.com', 'www.hankookilbo.com', 'www.hankookilbo.com', 'news.einfomax.co.kr', 'newsis.com', 'biz.sbs.co.kr', 'www.mk.co.kr', 'www.mk.co.kr', 'www.yna.co.kr', 'www.hani.co.kr', 'biz.chosun.com', 'www.khan.co.kr', 'www.hankookilbo.com', 'weekly.chosun.com', 'www.joongang.co.kr', 'www.voakorea.com', 'www.yna.co.kr', 'www.hani.co.kr', 'www.joongang.co.kr', 'www.bbc.com', 'www.hani.co.kr', 'image.ajunews.com', 'www.yna.co.kr', 'biz.chosun.com', 'www.mk.co.kr', 'www.ichannela.com', 'news.jtbc.joins.com', 'upload.wikimedia.org', 'www.yna.co.kr', 'www.ajunews.com', 'www.yna.co.kr', 'economychosun.com', 'www.yna.co.kr', 'www.joongang.co.kr', 'www.youtube.com', 'www.joongang.co.kr', 'newneek.co', 'www.hankookilbo.com', 'www.yna.co.kr', 'www.joongang.co.kr', 'news.mt.co.kr', 'www.sedaily.com', 'news.jtbc.joins.com', 'www.khan.co.kr', 'www.hankyung.com', 'm.yna.co.kr', 'biz.sbs.co.kr', 'www.news1.kr', 'biz.chosun.com', 'www.khan.co.kr', 'www.yna.co.kr', 'news.sbs.co.kr', 'www.yna.co.kr', 'www.yna.co.kr', 'www.chosun.com', 'www.yna.co.kr', 'www.sedaily.com', 'www1.president.go.kr', 'terms.naver.com', 'www.donga.com', 'www.bbc.com', 'www.hankyung.com', 'www.joongang.co.kr', 'www.joongang.co.kr', 'www.assembly.go.kr', 'www.joongang.co.kr', 'www.hani.co.kr', 'minimumwage.go.kr', 'biz.chosun.com', 'www.dw.com', 'post-phinf.pstatic.net', 'news.kbs.co.kr', 'dimg.donga.com', 'www.hani.co.kr', 'www.ksroadlab.com', 'newneek.co', 'news.sbs.co.kr', 'news.kbs.co.kr', 'www.joongang.co.kr', 'terms.naver.com', 'terms.naver.com', 'www.yna.co.kr', 'news.imaeil.com', 'www.joongang.co.kr', 'news.kmib.co.kr', 'www.hani.co.kr', 'view.asiae.co.kr', 'www.yna.co.kr', 'www.hani.co.kr', 'news.mt.co.kr', 'www.techm.kr', 'it.donga.com', 'www.yna.co.kr', 'www.hani.co.kr', 'www.knou.ac.kr', 'newneek.typeform.com', 'www.yna.co.kr', 'www.joongang.co.kr', 'www.hankookilbo.com', 'news.mt.co.kr', 'www.nocutnews.co.kr', 'www.hankyung.com', 'www.joongang.co.kr', 'news.sbs.co.kr', 'www.nocutnews.co.kr', 'newsis.com', 'www.news1.kr', 'www.seoul.co.kr', 'www.yna.co.kr', 'img9.yna.co.kr', 'www.voakorea.com', 'www.yna.co.kr', 'www.joongang.co.kr', 'www.yna.co.kr', 'www.yna.co.kr', 'www.yna.co.kr', 'news.sbs.co.kr', 'img1.yna.co.kr', 'terms.naver.com', 'm.weekly.chosun.com', 'www.chosun.com', 'www.nocutnews.co.kr', 'www.newspenguin.com', 'nownews.seoul.co.kr', 'www.joongang.co.kr', 'www.theguardian.com', 'www.iea.org', 'www.joongang.co.kr', 'www.chosun.com', 'newsis.com', 'www.seoul.co.kr', 'www.joongang.co.kr', 'img9.yna.co.kr', 'news.sbs.co.kr', 'news.kbs.co.kr', 'en.wikipedia.org', 'news.mt.co.kr', 'www.hani.co.kr', 'www.yna.co.kr', 'www.hani.co.kr', 'www.seoul.co.kr', 'flexible.img.hani.co.kr', 'www.hani.co.kr', 'newsis.com', 'www.joongang.co.kr', 'www.hani.co.kr', 'www.yna.co.kr', 'www.yna.co.kr', 'basicincomekorea.org', 'www.hani.co.kr', 'www.joongang.co.kr', 'www.seoul.co.kr', 'view.asiae.co.kr', 'biz.chosun.com', 'news.kmib.co.kr', 'news.sbs.co.kr', 'www.hankookilbo.com', 'img6.yna.co.kr', 'biz.chosun.com', 'i.kym-cdn.com', 'www.news1.kr', 'www.hankookilbo.com', 'www.joongang.co.kr', 'www.hankookilbo.com', 'www.hankookilbo.com', 'terms.naver.com', 'www.hankookilbo.com', 'www.hani.co.kr', 'terms.naver.com', 'terms.naver.com', 'www.chosun.com', 'www.joongang.co.kr', 'img9.yna.co.kr', 'news.kbs.co.kr', 'www.hani.co.kr', 'www.apmresearchlab.org', 'news.sbs.co.kr', 'www.joongang.co.kr', 'www.joongang.co.kr', 'terms.naver.com', 'www.ytn.co.kr', 'www.taxtimes.co.kr', 'www.youtube.com', 'view.asiae.co.kr', 'www.hani.co.kr', 'terms.naver.com', 'news.kbs.co.kr', 'www.yna.co.kr', 'www.hani.co.kr', 'www.lh.or.kr', 'www.hankyung.com', 'news.mt.co.kr', 'www.dailian.co.kr', 'www.hankyung.com', 'www.news1.kr', 'www.news1.kr', 'www.ytn.co.kr', 'www.yna.co.kr', 'www.news1.kr', 'www.hani.co.kr', 'news.kbs.co.kr', 'newsis.com', 'newsis.com', 'www.joongang.co.kr', 'news.kmib.co.kr', 'view.asiae.co.kr', 'www.sisajournal-e.com', 'www.bloter.net', 'www.khan.co.kr', 'www.hani.co.kr', 'www.mk.co.kr', 'www.joongang.co.kr', 'www.khan.co.kr', 'newsis.com', 'www.newspim.com', 'www.joongang.co.kr', 'www.sisajournal.com', 'www.yna.co.kr', 'www.ytn.co.kr', 'www.assembly.go.kr', 'news.kbs.co.kr', 'newsis.com', 'www.munhwa.com', 'terms.naver.com', 'www.seoul.co.kr', 'news.kbs.co.kr', 'www.hankyung.com', 'news.sbs.co.kr', 'www.voakorea.com', 'www.hankookilbo.com', 'weekly.donga.com', 'www.hani.co.kr', 'newsis.com', 'www.joongang.co.kr', 'news.sbs.co.kr', 'www.joongang.co.kr', 'www.yna.co.kr', 'www.hani.co.kr', 'news.mt.co.kr', 'www.hankyung.com', 'dbr.donga.com', 'www.hankookilbo.com', 'www.yna.co.kr', 'jmagazine.joins.com', 'www.hankookilbo.com', 'www.khan.co.kr', 'www.yna.co.kr', 'www.hani.co.kr', 'www.joongang.co.kr', 'news.sbs.co.kr', 'www.hani.co.kr', 'news.mt.co.kr', 'terms.naver.com', 'www.yna.co.kr', 'www.hani.co.kr', 'imnews.imbc.com', 'newsis.com', 'newsis.com', 'www.nocutnews.co.kr', 'www.joongang.co.kr', 'www.joongang.co.kr', 'committee.na.go.kr:444', 'terms.naver.com', 'www.hani.co.kr', 'www.hani.co.kr', 'www.coindeskkorea.com', 'www.chosun.com', 'www.hankyung.com', 'news.kmib.co.kr', 'news.lawtalk.co.kr', 'www.hani.co.kr', 'www.yna.co.kr', 'www.channelnewsasia.com', 'www.khan.co.kr', 'www.donga.com', 'www.news1.kr', 'biz.chosun.com', 'www.huffingtonpost.kr', 'www.chosun.com', 'www.chosun.com', 'www.cine21.com', 'news.mt.co.kr', 'www.newspim.com', 'www.joongang.co.kr', 'www.yna.co.kr', 'www.mediatoday.co.kr', 'www1.president.go.kr', 'www.hankyung.com', 'terms.naver.com', 'www.joongang.co.kr', 'www.khan.co.kr', 'napp.newneek.co', 'www.khan.co.kr', 'www.realfoods.co.kr', 'newsis.com', 'www.yna.co.kr', 'www.joongang.co.kr', 'www.joongang.co.kr', 'www.mk.co.kr', 'www.sedaily.com', 'www.joongang.co.kr', 'www.joongang.co.kr', 'www.kookje.co.kr', 'www.yna.co.kr', 'www.munhwa.com', 'www.seoul.co.kr', 'www.yna.co.kr', 'www.edaily.co.kr', 'www.research-paper.co.kr', 'www.yna.co.kr', 'www.index.go.kr', 'news.sbs.co.kr', 'news.heraldcorp.com', 'www.donga.com', 'imnews.imbc.com', 'www.khan.co.kr', 'www.joongang.co.kr', 'www.donga.com', 'biz.chosun.com', 'news.einfomax.co.kr', 'biz.chosun.com', 'jmagazine.joins.com', 'www.edaily.co.kr', 'www.mk.co.kr', 'www.nocutnews.co.kr', 'news.mt.co.kr', 'www.hankookilbo.com', 'www.seoul.co.kr', 'news.sbs.co.kr', 'www.koreatimes.com', 'news.kbs.co.kr', 'www.yna.co.kr', 'www.chosun.com', 'www.joongang.co.kr', 'www.hankookilbo.com', 'www.hani.co.kr', 'biz.chosun.com', 'img.hankyung.com', 'biz.chosun.com', 'view.asiae.co.kr', 'www.hankookilbo.com', 'www1.president.go.kr', 'www.joongang.co.kr', 'biz.chosun.com', 'www.chosun.com', 'www.yna.co.kr', 'www.hani.co.kr', 'www.donga.com', 'www.yna.co.kr', 'www.hani.co.kr', 'newsis.com', 'zdnet.co.kr', 'it.chosun.com', 'www.hankyung.com', 'content.v.kakao.com', 'www.donga.com', 'www.fnnews.com', 'www.nocutnews.co.kr', 'www1.president.go.kr', 'www.ytn.co.kr', 'imnews.imbc.com', 'news.sbs.co.kr', 'www.joongang.co.kr', 'biz.sbs.co.kr', 'biz.chosun.com', 'www.hani.co.kr', 'www.khan.co.kr', 'www.yna.co.kr', 'www.khan.co.kr', 'www.hani.co.kr', 'news.mt.co.kr', 'www.khan.co.kr', 'www.hani.co.kr', 'www.mk.co.kr', 'www.yna.co.kr', 'www.donga.com', 'byline.network', 'www.nytimes.com', 'news.sbs.co.kr', 'www.donga.com', 'www.munhwa.com', 'www.khan.co.kr', 'www.segye.com', 'www.yna.co.kr', 'www.nec.go.kr', 'www.yna.co.kr', 'www.hankookilbo.com', 'www.mk.co.kr', 'www.edaily.co.kr', 'www.mk.co.kr', 'www.news1.kr', 'news.sbs.co.kr', 'www.seoul.co.kr', 'www.fnnews.com', 'imnews.imbc.com', 'news.sbs.co.kr', 'stibee.com', 'news.kbs.co.kr', 'www1.president.go.kr', 'www.khan.co.kr', 'www.hani.co.kr', 'www.hankyung.com', 'www.hankyung.com', 'news.mt.co.kr', 'news.kmib.co.kr', 'biz.chosun.com', 'biz.sbs.co.kr', 'terms.naver.com', 'www.yna.co.kr', 'www.hankookilbo.com', 'www.donga.com', 'www.joongang.co.kr', 'www.joongang.co.kr', 'news.jtbc.joins.com', 'news.mt.co.kr', 'www.hani.co.kr', 'www.greenpeace.org', 'www.wsj.com', 'www.joongang.co.kr', 'www.khan.co.kr', 'www.yna.co.kr', 'www.sisain.co.kr', 'www.joongang.co.kr', 'www.hankyung.com', 'www.seoul.co.kr', 'www.nec.go.kr', 'www.assembly.go.kr', 'www.mk.co.kr', 'www.hankyung.com', 'news.sbs.co.kr', 'www.hankookilbo.com', 'www.nocutnews.co.kr', 'www.joongang.co.kr', 'news.kbs.co.kr', 'www.yna.co.kr', 'www.joongang.co.kr', 'www.yna.co.kr', 'news.jtbc.joins.com', 'www.yna.co.kr', 'www.nocutnews.co.kr', 'www.news1.kr', 'www.hani.co.kr', 'news.mt.co.kr', 'h21.hani.co.kr', 'news.mt.co.kr', 'sports.khan.co.kr', 'www.joongang.co.kr', 'www.joongang.co.kr', 'www.fnnews.com', 'terms.naver.com', 'news.sbs.co.kr', 'terms.naver.com', 'www.mk.co.kr', 'terms.naver.com', 'www.huffpost.com', 'www.joongang.co.kr', 'www.donga.com', 'www.youtube.com', 'vibe.naver.com', 'www.chosun.com', 'www.yna.co.kr', 'www.yna.co.kr', 'www.yna.co.kr', 'news.sbs.co.kr', 'www.ytn.co.kr', 'www.bloter.net', 'www.donga.com', 'www.news1.kr', 'www.donga.com', 'www.bloter.net', 'www.coindeskkorea.com', 'www.yna.co.kr', 'www.joongang.co.kr', 'www.mk.co.kr', 'biz.chosun.com', 'www.joongang.co.kr', 'www.notion.so', 'www.joongang.co.kr', 'www.donga.com', 'www.yna.co.kr', 'www.hankyung.com', 'www.joongang.co.kr', 'www.khan.co.kr', 'www.vice.com', 'www.yna.co.kr', 'www.joongang.co.kr', 'news.mt.co.kr', 'www.donga.com', 'www.yna.co.kr', 'www.hani.co.kr', 'volunteer.seoul.go.kr', 'www.joongang.co.kr', 'www.hankookilbo.com', 'www.chosun.com', 'www.yna.co.kr', 'www.hankookilbo.com', 'www.voakorea.com', 'www.news1.kr', 'www.hankookilbo.com', 'www.yna.co.kr', 'www.hankyung.com', 'newsis.com', 'imnews.imbc.com', 'post.naver.com', 'www.youtube.com', 'www.donga.com', 'newsis.com', 'imnews.imbc.com', 'www.hankyung.com', 'www.news1.kr', 'www.joongang.co.kr', 'newsis.com', 'www.yna.co.kr', 'www.joongang.co.kr', 'star.ohmynews.com', 'www.protocol.com', 'www.etoday.co.kr', 'www.edaily.co.kr', 'ccbblab.com', 'newsis.com', 'www.hani.co.kr', 'www.joongang.co.kr', 'www.yna.co.kr', 'www.asiae.co.kr', 'www.hankyung.com', 'news.sbs.co.kr', 'www.joongang.co.kr', 'www.hani.co.kr', 'cms.qz.com', 'www.news1.kr', 'www.joongang.co.kr', 'www.hani.co.kr', 'edition.cnn.com', 'www.joongang.co.kr', 'www.youtube.com', 'www.chosun.com', 'www.scourt.go.kr', 'news.mt.co.kr', 'news.sbs.co.kr', 'news.tvchosun.com', 'www.nocutnews.co.kr', 'www.hankyung.com', 'www.mk.co.kr', 'news.mt.co.kr', 'news.sbs.co.kr', 'news.mt.co.kr', 'www.mk.co.kr', 'www.mk.co.kr', 'www.econovill.com', 'www.econovill.com', 'www.wsj.com', 'www.yna.co.kr', 'asia.nikkei.com', 'www.yna.co.kr', 'www.munhwa.com', 'news.sbs.co.kr', 'www.chosun.com', 'www.khan.co.kr', 'www.instagram.com', 'mashable.com', 'terms.naver.com', 'news.kbs.co.kr', 'www.khan.co.kr', 'www.ytn.co.kr', 'news.kbs.co.kr', 'www.joongang.co.kr', 'www.yna.co.kr', 'www.joongang.co.kr', 'www.donga.com', 'newsis.com', 'www.yna.co.kr', 'www.nocutnews.co.kr', 'www.donga.com', 'www.joongang.co.kr', 'www.ytn.co.kr', 'news.sbs.co.kr', 'www.hankyung.com', 'biz.chosun.com', 'it.donga.com', 'news.mt.co.kr', 'www.edaily.co.kr', 'www.donga.com', 'www.chosun.com', 'www.donga.com', 'news.sbs.co.kr', 'www.yna.co.kr', 'www.munhwa.com', 'www.nytimes.com', 'terms.naver.com', 'www.applyhome.co.kr', 'news.kmib.co.kr', 'images.wsj.net', 'www.youtube.com', 'terms.naver.com', 'www.yna.co.kr', 'www.yonhapnewstv.co.kr', 'www.yna.co.kr', 'image.chosun.com', 'www.hankookilbo.com', 'www.donga.com', 'www.news1.kr', 'www.ytn.co.kr', 'www.fnnews.com', 'news.tf.co.kr', 'www.joongang.co.kr', 'www.newspim.com', 'www.yna.co.kr', 'www.voakorea.com', 'www.joongang.co.kr', 'www.mofa.go.kr', 'newsis.com', 'view.asiae.co.kr', 'terms.naver.com', 'www.yna.co.kr', 'news.mt.co.kr', 'www.ytn.co.kr', 'www1.president.go.kr', 'www.joongang.co.kr', 'news.jtbc.joins.com', 'www.hankookilbo.com', 'www.yna.co.kr', 'www.khan.co.kr', 'news.kbs.co.kr', 'www.hankookilbo.com', 'www.seoul.co.kr', 'www.joongang.co.kr', 'www.hani.co.kr', 'www.yna.co.kr', 'it.donga.com', 'www.ddaily.co.kr', 'mnews.imaeil.com', 'news.kmib.co.kr', 'biz.chosun.com', 'www.yna.co.kr', 'www.khan.co.kr', 'www.joongang.co.kr', 'easylaw.go.kr', 'www.yna.co.kr', 'www.yna.co.kr', 'www.ytn.co.kr', 'www.nytimes.com', 'www.huffingtonpost.kr', 'www.vox.com', 'www.donga.com', 'www.hani.co.kr', 'www.joongang.co.kr', 'news.kbs.co.kr', 'www.joongang.co.kr', 'www.mk.co.kr', 'www.yna.co.kr', 'www.seoul.co.kr', 'www.news1.kr', 'www.mk.co.kr', 'terms.naver.com', 'www.yna.co.kr', 'www.seoul.co.kr', 'www.hankookilbo.com', 'www.segye.com', 'www.hani.co.kr', 'www.joongang.co.kr', 'news.jtbc.joins.com', 'news.kbs.co.kr', 'www.khan.co.kr', 'news.kbs.co.kr', 'www.donga.com', 'terms.naver.com', 'www.hankookilbo.com', 'www.youtube.com', 'www.hani.co.kr', 'www.seoul.co.kr', 'www.chosun.com', 'www.joongang.co.kr', 'www.yna.co.kr', 'www.khan.co.kr', 'www.newsroad.co.kr', 'www.donga.com', 'www.mk.co.kr', 'www.yna.co.kr', 'www.yna.co.kr', 'www.yna.co.kr', 'www.khan.co.kr', 'www.hani.co.kr', 'www.wowtv.co.kr', 'zdnet.co.kr', 'www.joongang.co.kr', 'news.tf.co.kr', 'newsis.com', 'www.khan.co.kr', 'mnews.jtbc.joins.com', 'www.edaily.co.kr', 'www.sisajournal.com', 'www.donga.com', 'www.hankookilbo.com', 'www.edaily.co.kr', 'www.bbc.com', 'www.chosun.com', 'www.hankyung.com', 'www.vox.com', 'www.mk.co.kr', 'www.joongang.co.kr', 'www.yna.co.kr', 'www.yna.co.kr', 'imnews.imbc.com', 'www.hankookilbo.com', 'www.yna.co.kr', 'www.hankyung.com', 'www.ichannela.com', 'news.mt.co.kr', 'newsis.com', 'www.mk.co.kr', 'www.donga.com', 'dynaimage.cdn.cnn.com', 'www.yna.co.kr', 'www.yna.co.kr', 'www.chosun.com', 'news.sbs.co.kr', 'www.yna.co.kr', 'www.hankookilbo.com', 'news.sbs.co.kr', 'go.seoul.co.kr', 'www.hankookilbo.com', 'www.hankyung.com', 'www.khan.co.kr', 'www.khan.co.kr', 'd.kbs.co.kr', 'news.mt.co.kr', 'www.seoul.co.kr', 'www.news1.kr', 'www.yna.co.kr', 'www.chosun.com', 'www.joongang.co.kr', 'www.segye.com', 'edition.cnn.com', 'www.yna.co.kr', 'www.nocutnews.co.kr', 'www.donga.com', 'news.sbs.co.kr', 'www.yna.co.kr', 'www.seoul.co.kr', 'newsis.com', 'www.chosun.com', 'www.sciencetimes.co.kr', 'www.chosun.com', 'twitter.com', 'www.yna.co.kr', 'www.donga.com', 'www.yna.co.kr', 'www.joongang.co.kr', 'biz.sbs.co.kr', 'www.inews24.com', 'www.bloomberg.com', 'www.hani.co.kr', 'www.bloomberg.com', 'www.nocutnews.co.kr', 'www.yna.co.kr', 'www.joongang.co.kr', 'www.voakorea.com', 'www.hani.co.kr', 'www.munhwa.com', 'newsis.com', 'www.yna.co.kr', 'www.yna.co.kr', 'news.kmib.co.kr', 'www.hankookilbo.com', 'news.kbs.co.kr', 'biz.chosun.com', 'www.yna.co.kr', 'www.asiae.co.kr', 'www.news1.kr', 'www.mk.co.kr', 'www.khan.co.kr', 'www.news1.kr', 'newsis.com', 'www.khan.co.kr', 'www.donga.com', 'biz.chosun.com', 'www.joongang.co.kr', 'news.sbs.co.kr', 'www.chosun.com', 'www.hankookilbo.com', 'www.joongang.co.kr', 'www.khan.co.kr', 'www.mk.co.kr', 'www.khan.co.kr', 'www.koreadaily.com', 'www.edaily.co.kr', 'www.voakorea.com', 'www.chosun.com', 'news.sbs.co.kr', 'news.sbs.co.kr', 'www.hankyung.com', 'www.yna.co.kr', 'newsis.com', 'www.yna.co.kr', 'www.mk.co.kr', 'www.yna.co.kr', 'www.hankyung.com', 'newsis.com', 'news.sbs.co.kr', 'news.khan.co.kr', 'www.news1.kr', 'thel.mt.co.kr', 'www.hani.co.kr', 'edition.cnn.com', 'news.kbs.co.kr', 'www.independent.co.uk', 'www.un.org', 'news.kbs.co.kr', 'www.stop.or.kr', 'www.yna.co.kr', 'www.yna.co.kr', 'news.tf.co.kr', 'www.segye.com', 'www.yna.co.kr', 'www.donga.com', 'www.hankookilbo.com', 'www.hankyung.com', 'www.yna.co.kr', 'www.joongang.co.kr', 'www.chosun.com', 'www.yna.co.kr', 'www.scourt.go.kr', 'news.kmib.co.kr', 'www.mk.co.kr', 'terms.naver.com', 'www.fnnews.com', 'www.donga.com', 'www.hankookilbo.com', 'www.hani.co.kr', 'www.news1.kr', 'news.kbs.co.kr', 'www.hani.co.kr', 'imnews.imbc.com', 'view.asiae.co.kr', 'www.yna.co.kr', 'www.nytimes.com', 'www.hani.co.kr', 'www.yna.co.kr', 'www.bbc.com', 'www.chosun.com', 'www.asiae.co.kr', 'www.mk.co.kr', 'www.donga.com', 'www.hani.co.kr', 'www.hankookilbo.com', 'news.kbs.co.kr', 'news.kbs.co.kr', 'www.joongang.co.kr', 'imnews.imbc.com', 'news.sbs.co.kr', 'news.jtbc.joins.com', 'www.mk.co.kr', 'www.joongang.co.kr', 'www.joongang.co.kr', 'www.yna.co.kr', 'biz.sbs.co.kr', 'www.khan.co.kr', 'www.humanrights.go.kr', 'terms.naver.com', 'news.kbs.co.kr', 'www.seoul.co.kr', 'www.koreatimes.com', 'www.yna.co.kr', 'www.joongang.co.kr', 'it.donga.com', 'www.joongang.co.kr', 'www.joongang.co.kr', 'www.joongang.co.kr', 'www.khan.co.kr', 'www.yna.co.kr', 'www.mk.co.kr', 'www.hani.co.kr', 'www.hankookilbo.com', 'www.chosun.com', 'www.joongang.co.kr', 'www.donga.com', 'www.joongang.co.kr', 'www.chosun.com', 'www.greenpeace.org', 'www.joongang.co.kr', 'www.yna.co.kr', 'www.sisajournal.com', 'www.yna.co.kr', 'edition.cnn.com', 'www.yna.co.kr', 'www.vice.com', 'www.hani.co.kr', 'www.hankookilbo.com', 'www.joongang.co.kr', 'www.sedaily.com', 'news.kbs.co.kr', 'www.khan.co.kr', 'www.yna.co.kr', 'www.joongang.co.kr', 'www.joongang.co.kr', 'www.hankyung.com', 'www.yna.co.kr', 'newsis.com', 'www.yna.co.kr', 'www.yna.co.kr', 'www.hankookilbo.com', 'www.chosun.com', 'www.joongang.co.kr', 'www.hankookilbo.com', 'www.pressian.com', 'www.hankookilbo.com', 'www.yna.co.kr', 'newsis.com', 'heavyeditorial.files.wordpress.com', 'www.yna.co.kr', 'www.joongang.co.kr', 'www.khan.co.kr', 'www.news1.kr', 'www.yna.co.kr', 'www.youtube.com', 'post.naver.com', 'newsis.com', 'newsis.com', 'www.nytimes.com', 'www.bloomberg.com', 'www.joongang.co.kr', 'www.yna.co.kr', 'www.businessinsider.com', 'qz.com', 'economy.chosun.com', 'www.hani.co.kr', 'www.bloter.net', 'www.mediatoday.co.kr', 'www.nytimes.com', 'www.yna.co.kr', 'www.joongang.co.kr', 'newsis.com', 'www.joongang.co.kr', 'newsis.com', 'news.sbs.co.kr', 'www.khan.co.kr', 'news.sbs.co.kr', 'www.yna.co.kr', 'www.mk.co.kr', 'www.edaily.co.kr', 'news.mt.co.kr', 'news.jtbc.joins.com', 'www.mk.co.kr', 'www.yna.co.kr', 'www.hankookilbo.com', 'www.joongang.co.kr', 'www.joongang.co.kr', 'www.yna.co.kr', 'www.khan.co.kr', 'www.donga.com', 'news.jtbc.joins.com', 'www.bloter.net', 'news.mt.co.kr', 'www.joongang.co.kr', 'www.hankookilbo.com', 'www.hankookilbo.com', 'www.yna.co.kr', 'www.nytimes.com', 'www.yna.co.kr', 'www.hani.co.kr', 'news.sbs.co.kr', 'www.khan.co.kr', 'news.mt.co.kr', 'newneek.co', 'www.joongang.co.kr', 'news.mt.co.kr', 'www.ohmynews.com', 'weekly.khan.co.kr', 'www.hankookilbo.com', 'newneek.co', 'www.khan.co.kr', 'newneek.co', 'news.kbs.co.kr', 'www.joongang.co.kr', 'newneek.co', 'imnews.imbc.com', 'imnews.imbc.com', 'terms.naver.com', 'www.khan.co.kr', 'www.news1.kr', 'newneek.co', 'newneek.co', 'newneek.co', 'www.yna.co.kr', 'www.joongang.co.kr', 'www.reuters.com', 'www.mk.co.kr', 'www.khan.co.kr', 'www.nytimes.com', 'www.joongang.co.kr', 'www.bbc.com', 'www.khan.co.kr', 'www.mk.co.kr', 'www.nytimes.com', 'www.yna.co.kr', 'static01.nyt.com', 'news.jtbc.joins.com', 'www.youtube.com', 'www.hani.co.kr', 'www.hani.co.kr', 'www.mk.co.kr', 'www.munhwa.com', 'www.washingtonpost.com', 'qz.com', 'www.hankookilbo.com']\n"
          ]
        }
      ]
    },
    {
      "cell_type": "code",
      "metadata": {
        "id": "84pGrzF8kmJu"
      },
      "source": [
        "train['ref'] = ref\n",
        "ref_df = train[['id', 'ref']].groupby(['ref']).count()"
      ],
      "execution_count": 44,
      "outputs": []
    },
    {
      "cell_type": "code",
      "metadata": {
        "colab": {
          "base_uri": "https://localhost:8080/",
          "height": 450
        },
        "id": "rBthI13co0ob",
        "outputId": "764f8c28-b190-4753-82c6-c33cbdffe608"
      },
      "source": [
        "display(ref_df)"
      ],
      "execution_count": 45,
      "outputs": [
        {
          "output_type": "display_data",
          "data": {
            "text/html": [
              "<div>\n",
              "<style scoped>\n",
              "    .dataframe tbody tr th:only-of-type {\n",
              "        vertical-align: middle;\n",
              "    }\n",
              "\n",
              "    .dataframe tbody tr th {\n",
              "        vertical-align: top;\n",
              "    }\n",
              "\n",
              "    .dataframe thead th {\n",
              "        text-align: right;\n",
              "    }\n",
              "</style>\n",
              "<table border=\"1\" class=\"dataframe\">\n",
              "  <thead>\n",
              "    <tr style=\"text-align: right;\">\n",
              "      <th></th>\n",
              "      <th>id</th>\n",
              "    </tr>\n",
              "    <tr>\n",
              "      <th>ref</th>\n",
              "      <th></th>\n",
              "    </tr>\n",
              "  </thead>\n",
              "  <tbody>\n",
              "    <tr>\n",
              "      <th>NULL</th>\n",
              "      <td>3</td>\n",
              "    </tr>\n",
              "    <tr>\n",
              "      <th>abcnews.go.com</th>\n",
              "      <td>1</td>\n",
              "    </tr>\n",
              "    <tr>\n",
              "      <th>apnews.com</th>\n",
              "      <td>1</td>\n",
              "    </tr>\n",
              "    <tr>\n",
              "      <th>articles.dotface.kr</th>\n",
              "      <td>1</td>\n",
              "    </tr>\n",
              "    <tr>\n",
              "      <th>asia.nikkei.com</th>\n",
              "      <td>1</td>\n",
              "    </tr>\n",
              "    <tr>\n",
              "      <th>...</th>\n",
              "      <td>...</td>\n",
              "    </tr>\n",
              "    <tr>\n",
              "      <th>www.youngnong.co.kr</th>\n",
              "      <td>1</td>\n",
              "    </tr>\n",
              "    <tr>\n",
              "      <th>www.youtube.com</th>\n",
              "      <td>33</td>\n",
              "    </tr>\n",
              "    <tr>\n",
              "      <th>www.ytn.co.kr</th>\n",
              "      <td>37</td>\n",
              "    </tr>\n",
              "    <tr>\n",
              "      <th>www1.president.go.kr</th>\n",
              "      <td>7</td>\n",
              "    </tr>\n",
              "    <tr>\n",
              "      <th>zdnet.co.kr</th>\n",
              "      <td>8</td>\n",
              "    </tr>\n",
              "  </tbody>\n",
              "</table>\n",
              "<p>312 rows × 1 columns</p>\n",
              "</div>"
            ],
            "text/plain": [
              "                      id\n",
              "ref                     \n",
              "NULL                   3\n",
              "abcnews.go.com         1\n",
              "apnews.com             1\n",
              "articles.dotface.kr    1\n",
              "asia.nikkei.com        1\n",
              "...                   ..\n",
              "www.youngnong.co.kr    1\n",
              "www.youtube.com       33\n",
              "www.ytn.co.kr         37\n",
              "www1.president.go.kr   7\n",
              "zdnet.co.kr            8\n",
              "\n",
              "[312 rows x 1 columns]"
            ]
          },
          "metadata": {}
        }
      ]
    },
    {
      "cell_type": "code",
      "metadata": {
        "colab": {
          "base_uri": "https://localhost:8080/",
          "height": 418
        },
        "id": "aNiX1SGE_JNP",
        "outputId": "965575d8-3ef5-487d-8810-2ca62e909f16"
      },
      "source": [
        "plt.figure(figsize=(20,20))\n",
        "over_15 = ref_df[ref_df['id']>15]\n",
        "over_15.plot(kind='bar')"
      ],
      "execution_count": 47,
      "outputs": [
        {
          "output_type": "execute_result",
          "data": {
            "text/plain": [
              "<matplotlib.axes._subplots.AxesSubplot at 0x7f3067638890>"
            ]
          },
          "metadata": {},
          "execution_count": 47
        },
        {
          "output_type": "display_data",
          "data": {
            "text/plain": [
              "<Figure size 1440x1440 with 0 Axes>"
            ]
          },
          "metadata": {}
        },
        {
          "output_type": "display_data",
          "data": {
            "image/png": "[encoded data removed]",
            "text/plain": [
              "<Figure size 432x288 with 1 Axes>"
            ]
          },
          "metadata": {
            "needs_background": "light"
          }
        }
      ]
    },
    {
      "cell_type": "code",
      "metadata": {
        "colab": {
          "base_uri": "https://localhost:8080/",
          "height": 692
        },
        "id": "zuOHUK72lF9p",
        "outputId": "aeec0509-b270-41d6-c682-6adb1f5b5dad"
      },
      "source": [
        "plt.figure(figsize=(12,12))\n",
        "plt.bar(ref_df.index, ref_df['id'])\n",
        "plt.xticks([])\n",
        "plt.show()"
      ],
      "execution_count": 61,
      "outputs": [
        {
          "output_type": "display_data",
          "data": {
            "image/png": "[encoded data removed]",
            "text/plain": [
              "<Figure size 864x864 with 1 Axes>"
            ]
          },
          "metadata": {
            "needs_background": "light"
          }
        }
      ]
    },
    {
      "cell_type": "code",
      "metadata": {
        "colab": {
          "base_uri": "https://localhost:8080/"
        },
        "id": "U1Utaboc-JVH",
        "outputId": "441d2c16-b6ca-48ca-da91-16c912b0e70a"
      },
      "source": [
        "train['ref'].nunique()"
      ],
      "execution_count": 48,
      "outputs": [
        {
          "output_type": "execute_result",
          "data": {
            "text/plain": [
              "312"
            ]
          },
          "metadata": {},
          "execution_count": 48
        }
      ]
    },
    {
      "cell_type": "code",
      "metadata": {
        "colab": {
          "base_uri": "https://localhost:8080/"
        },
        "id": "dcKMR-y6-RHY",
        "outputId": "74e966bb-a334-4b58-cdc3-040b6d7982b7"
      },
      "source": [
        "len(over_15)"
      ],
      "execution_count": 50,
      "outputs": [
        {
          "output_type": "execute_result",
          "data": {
            "text/plain": [
              "29"
            ]
          },
          "metadata": {},
          "execution_count": 50
        }
      ]
    },
    {
      "cell_type": "code",
      "metadata": {
        "colab": {
          "base_uri": "https://localhost:8080/"
        },
        "id": "BLhXPCSe-TWh",
        "outputId": "4e3cc8f2-f8c5-4b3c-8604-c0eed838a4dd"
      },
      "source": [
        "over_15.index"
      ],
      "execution_count": 62,
      "outputs": [
        {
          "output_type": "execute_result",
          "data": {
            "text/plain": [
              "Index(['biz.chosun.com', 'imnews.imbc.com', 'newneek.co',\n",
              "       'news.jtbc.joins.com', 'news.kbs.co.kr', 'news.mt.co.kr',\n",
              "       'news.sbs.co.kr', 'newsis.com', 'terms.naver.com', 'www.bbc.com',\n",
              "       'www.chosun.com', 'www.donga.com', 'www.edaily.co.kr', 'www.hani.co.kr',\n",
              "       'www.hankookilbo.com', 'www.hankyung.com', 'www.instagram.com',\n",
              "       'www.joongang.co.kr', 'www.khan.co.kr', 'www.mk.co.kr', 'www.news1.kr',\n",
              "       'www.nocutnews.co.kr', 'www.nytimes.com', 'www.sedaily.com',\n",
              "       'www.segye.com', 'www.seoul.co.kr', 'www.yna.co.kr', 'www.youtube.com',\n",
              "       'www.ytn.co.kr'],\n",
              "      dtype='object', name='ref')"
            ]
          },
          "metadata": {},
          "execution_count": 62
        }
      ]
    },
    {
      "cell_type": "code",
      "metadata": {
        "id": "fLW7bWRCme4I",
        "colab": {
          "base_uri": "https://localhost:8080/"
        },
        "outputId": "84c5590e-1f18-4699-8926-0a285310fb1a"
      },
      "source": [
        "train.isnull().sum()"
      ],
      "execution_count": 63,
      "outputs": [
        {
          "output_type": "execute_result",
          "data": {
            "text/plain": [
              "id                  0\n",
              "category          423\n",
              "title               0\n",
              "date                0\n",
              "summary             0\n",
              "original_text    1024\n",
              "url                 0\n",
              "ref                 0\n",
              "dtype: int64"
            ]
          },
          "metadata": {},
          "execution_count": 63
        }
      ]
    },
    {
      "cell_type": "code",
      "metadata": {
        "id": "MdCB1dVrQ196"
      },
      "source": [
        "train['length'] = [len(str(x)) for x in train['original_text']]"
      ],
      "execution_count": 64,
      "outputs": []
    },
    {
      "cell_type": "code",
      "metadata": {
        "id": "uwTkRldEQavn"
      },
      "source": [
        "nan = train[train['length'] == 3]\n",
        "full = train[train['length'] > 3]"
      ],
      "execution_count": 65,
      "outputs": []
    },
    {
      "cell_type": "code",
      "metadata": {
        "colab": {
          "base_uri": "https://localhost:8080/",
          "height": 1000
        },
        "id": "H7rWq_RSApVh",
        "outputId": "b61c74f8-e50f-4b23-bb31-5247184f356b"
      },
      "source": [
        "display(nan)"
      ],
      "execution_count": 66,
      "outputs": [
        {
          "output_type": "display_data",
          "data": {
            "text/html": [
              "<div>\n",
              "<style scoped>\n",
              "    .dataframe tbody tr th:only-of-type {\n",
              "        vertical-align: middle;\n",
              "    }\n",
              "\n",
              "    .dataframe tbody tr th {\n",
              "        vertical-align: top;\n",
              "    }\n",
              "\n",
              "    .dataframe thead th {\n",
              "        text-align: right;\n",
              "    }\n",
              "</style>\n",
              "<table border=\"1\" class=\"dataframe\">\n",
              "  <thead>\n",
              "    <tr style=\"text-align: right;\">\n",
              "      <th></th>\n",
              "      <th>id</th>\n",
              "      <th>category</th>\n",
              "      <th>title</th>\n",
              "      <th>date</th>\n",
              "      <th>summary</th>\n",
              "      <th>original_text</th>\n",
              "      <th>url</th>\n",
              "      <th>ref</th>\n",
              "      <th>length</th>\n",
              "    </tr>\n",
              "  </thead>\n",
              "  <tbody>\n",
              "    <tr>\n",
              "      <th>0</th>\n",
              "      <td>0</td>\n",
              "      <td>세계</td>\n",
              "      <td>WHO 말라리아 백신 접종 권고</td>\n",
              "      <td>2021/10/08</td>\n",
              "      <td>모기가 옮기는 기생충질환으로 🦟, 감염되면 심한 오한이 들고 열이 나요. 옛날에는 ...</td>\n",
              "      <td>NaN</td>\n",
              "      <td>https://terms.naver.com/entry.naver?cid=51004&amp;...</td>\n",
              "      <td>terms.naver.com</td>\n",
              "      <td>3</td>\n",
              "    </tr>\n",
              "    <tr>\n",
              "      <th>5</th>\n",
              "      <td>1</td>\n",
              "      <td>경제</td>\n",
              "      <td>주식시장 파란불 켜진 이유 (2): 중국발 인플레 공포</td>\n",
              "      <td>2021/10/08</td>\n",
              "      <td>물건 못 만드는데 이건 또 무슨 소리일까요? 중국 정부가 온실가스를 줄이려고 잡은 ...</td>\n",
              "      <td>NaN</td>\n",
              "      <td>https://www.ajunews.com/view/20211004133141153</td>\n",
              "      <td>www.ajunews.com</td>\n",
              "      <td>3</td>\n",
              "    </tr>\n",
              "    <tr>\n",
              "      <th>6</th>\n",
              "      <td>1</td>\n",
              "      <td>경제</td>\n",
              "      <td>주식시장 파란불 켜진 이유 (2): 중국발 인플레 공포</td>\n",
              "      <td>2021/10/08</td>\n",
              "      <td>하지만 이번엔 성격이 좀 달라요. 전 세계 물가는 오르는데 경제는 더 착 가라앉을...</td>\n",
              "      <td>NaN</td>\n",
              "      <td>https://qz.com/2068772/why-economists-are-talk...</td>\n",
              "      <td>qz.com</td>\n",
              "      <td>3</td>\n",
              "    </tr>\n",
              "    <tr>\n",
              "      <th>10</th>\n",
              "      <td>2</td>\n",
              "      <td>국내정치</td>\n",
              "      <td>넷플릭스 인 더 국정감사</td>\n",
              "      <td>2021/10/07</td>\n",
              "      <td>제작비 줄게 저작권 다오: 보통 넷플릭스는 사전에 제작비를 대주는 대신 저작권을 다...</td>\n",
              "      <td>NaN</td>\n",
              "      <td>http://www.mediatoday.co.kr/news/articleView.h...</td>\n",
              "      <td>www.mediatoday.co.kr</td>\n",
              "      <td>3</td>\n",
              "    </tr>\n",
              "    <tr>\n",
              "      <th>13</th>\n",
              "      <td>3</td>\n",
              "      <td>경제</td>\n",
              "      <td>주식시장 파란불 뜬 이유 (1)</td>\n",
              "      <td>2021/10/07</td>\n",
              "      <td>나라가 얼마까지 빚을 질 수 있는지 정해둔 걸(=부채한도) 늘리는 협상을 하는 거예...</td>\n",
              "      <td>NaN</td>\n",
              "      <td>https://news.einfomax.co.kr/news/articleView.h...</td>\n",
              "      <td>news.einfomax.co.kr</td>\n",
              "      <td>3</td>\n",
              "    </tr>\n",
              "    <tr>\n",
              "      <th>...</th>\n",
              "      <td>...</td>\n",
              "      <td>...</td>\n",
              "      <td>...</td>\n",
              "      <td>...</td>\n",
              "      <td>...</td>\n",
              "      <td>...</td>\n",
              "      <td>...</td>\n",
              "      <td>...</td>\n",
              "      <td>...</td>\n",
              "    </tr>\n",
              "    <tr>\n",
              "      <th>2829</th>\n",
              "      <td>1037</td>\n",
              "      <td>NaN</td>\n",
              "      <td>제주 4·3 사건 72주기</td>\n",
              "      <td>2019/04/03</td>\n",
              "      <td>제주 4·3 사건은 한국 현대사에서 한국전쟁 다음으로 인명 피해가 많은 사건으로 기...</td>\n",
              "      <td>NaN</td>\n",
              "      <td>https://www.youtube.com/watch?v=M0oetkBf_Fc</td>\n",
              "      <td>www.youtube.com</td>\n",
              "      <td>3</td>\n",
              "    </tr>\n",
              "    <tr>\n",
              "      <th>2833</th>\n",
              "      <td>1065</td>\n",
              "      <td>경제</td>\n",
              "      <td>코드명 스튜어드십코드🕵</td>\n",
              "      <td>2019/02/11</td>\n",
              "      <td>+ 스튜어드십코드를 바라보는 또다른 관점 : 정치적인 이유로 국민연금의 스튜어드십코...</td>\n",
              "      <td>NaN</td>\n",
              "      <td>http://www.munhwa.com/news/view.html?no=201902...</td>\n",
              "      <td>www.munhwa.com</td>\n",
              "      <td>3</td>\n",
              "    </tr>\n",
              "    <tr>\n",
              "      <th>2834</th>\n",
              "      <td>1079</td>\n",
              "      <td>세계</td>\n",
              "      <td>사라진 사우디 언론인 🇸🇦</td>\n",
              "      <td>2018/10/15</td>\n",
              "      <td>누가 그를 죽이라고 시켰는데?외신에 따르면, 사우디아라비아 빈살만 왕세자가 시킨 일...</td>\n",
              "      <td>NaN</td>\n",
              "      <td>https://www.washingtonpost.com/world/national-...</td>\n",
              "      <td>www.washingtonpost.com</td>\n",
              "      <td>3</td>\n",
              "    </tr>\n",
              "    <tr>\n",
              "      <th>2835</th>\n",
              "      <td>1079</td>\n",
              "      <td>세계</td>\n",
              "      <td>사라진 사우디 언론인 🇸🇦</td>\n",
              "      <td>2018/10/15</td>\n",
              "      <td>+ 하지만 그러기엔 애플워치와 아이폰의 거리가 너무 멀었다며, 사실은 터키 정부가 ...</td>\n",
              "      <td>NaN</td>\n",
              "      <td>https://qz.com/1423401/jamal-khashoggi-the-pla...</td>\n",
              "      <td>qz.com</td>\n",
              "      <td>3</td>\n",
              "    </tr>\n",
              "    <tr>\n",
              "      <th>2836</th>\n",
              "      <td>1079</td>\n",
              "      <td>세계</td>\n",
              "      <td>사라진 사우디 언론인 🇸🇦</td>\n",
              "      <td>2018/10/15</td>\n",
              "      <td>+ 이번 달 말 사우디에서 열리는 국제 투자회의 `미래 투자 이니셔티브(FII)’는...</td>\n",
              "      <td>NaN</td>\n",
              "      <td>https://www.hankookilbo.com/News/Read/20181013...</td>\n",
              "      <td>www.hankookilbo.com</td>\n",
              "      <td>3</td>\n",
              "    </tr>\n",
              "  </tbody>\n",
              "</table>\n",
              "<p>1024 rows × 9 columns</p>\n",
              "</div>"
            ],
            "text/plain": [
              "        id category  ...                     ref length\n",
              "0        0       세계  ...         terms.naver.com      3\n",
              "5        1       경제  ...         www.ajunews.com      3\n",
              "6        1       경제  ...                  qz.com      3\n",
              "10       2     국내정치  ...    www.mediatoday.co.kr      3\n",
              "13       3       경제  ...     news.einfomax.co.kr      3\n",
              "...    ...      ...  ...                     ...    ...\n",
              "2829  1037      NaN  ...         www.youtube.com      3\n",
              "2833  1065       경제  ...          www.munhwa.com      3\n",
              "2834  1079       세계  ...  www.washingtonpost.com      3\n",
              "2835  1079       세계  ...                  qz.com      3\n",
              "2836  1079       세계  ...     www.hankookilbo.com      3\n",
              "\n",
              "[1024 rows x 9 columns]"
            ]
          },
          "metadata": {}
        }
      ]
    },
    {
      "cell_type": "code",
      "metadata": {
        "id": "up-EvMCdpd38"
      },
      "source": [
        "nan_ref = nan[['id', 'ref']].groupby(['ref']).count()"
      ],
      "execution_count": 69,
      "outputs": []
    },
    {
      "cell_type": "code",
      "metadata": {
        "colab": {
          "base_uri": "https://localhost:8080/",
          "height": 271
        },
        "id": "e4KZ3bU-po8n",
        "outputId": "9d99ae13-98d7-4932-f22c-ee71a57bf653"
      },
      "source": [
        "plt.bar(nan_ref.index, nan_ref['id'])\n",
        "plt.xticks([])"
      ],
      "execution_count": 72,
      "outputs": [
        {
          "output_type": "execute_result",
          "data": {
            "text/plain": [
              "([], <a list of 0 Text major ticklabel objects>)"
            ]
          },
          "metadata": {},
          "execution_count": 72
        },
        {
          "output_type": "display_data",
          "data": {
            "image/png": "[encoded data removed]",
            "text/plain": [
              "<Figure size 432x288 with 1 Axes>"
            ]
          },
          "metadata": {
            "needs_background": "light"
          }
        }
      ]
    },
    {
      "cell_type": "code",
      "metadata": {
        "colab": {
          "base_uri": "https://localhost:8080/",
          "height": 545
        },
        "id": "INlUNQHpqWTJ",
        "outputId": "32db4518-d93d-4a97-a8db-98c0066b5da7"
      },
      "source": [
        "again = nan_ref[nan_ref['id']>10]\n",
        "display(again)"
      ],
      "execution_count": 73,
      "outputs": [
        {
          "output_type": "display_data",
          "data": {
            "text/html": [
              "<div>\n",
              "<style scoped>\n",
              "    .dataframe tbody tr th:only-of-type {\n",
              "        vertical-align: middle;\n",
              "    }\n",
              "\n",
              "    .dataframe tbody tr th {\n",
              "        vertical-align: top;\n",
              "    }\n",
              "\n",
              "    .dataframe thead th {\n",
              "        text-align: right;\n",
              "    }\n",
              "</style>\n",
              "<table border=\"1\" class=\"dataframe\">\n",
              "  <thead>\n",
              "    <tr style=\"text-align: right;\">\n",
              "      <th></th>\n",
              "      <th>id</th>\n",
              "    </tr>\n",
              "    <tr>\n",
              "      <th>ref</th>\n",
              "      <th></th>\n",
              "    </tr>\n",
              "  </thead>\n",
              "  <tbody>\n",
              "    <tr>\n",
              "      <th>imnews.imbc.com</th>\n",
              "      <td>30</td>\n",
              "    </tr>\n",
              "    <tr>\n",
              "      <th>newneek.co</th>\n",
              "      <td>27</td>\n",
              "    </tr>\n",
              "    <tr>\n",
              "      <th>news.kmib.co.kr</th>\n",
              "      <td>13</td>\n",
              "    </tr>\n",
              "    <tr>\n",
              "      <th>terms.naver.com</th>\n",
              "      <td>61</td>\n",
              "    </tr>\n",
              "    <tr>\n",
              "      <th>view.asiae.co.kr</th>\n",
              "      <td>12</td>\n",
              "    </tr>\n",
              "    <tr>\n",
              "      <th>www.bbc.com</th>\n",
              "      <td>33</td>\n",
              "    </tr>\n",
              "    <tr>\n",
              "      <th>www.dongascience.com</th>\n",
              "      <td>12</td>\n",
              "    </tr>\n",
              "    <tr>\n",
              "      <th>www.edaily.co.kr</th>\n",
              "      <td>19</td>\n",
              "    </tr>\n",
              "    <tr>\n",
              "      <th>www.hankookilbo.com</th>\n",
              "      <td>44</td>\n",
              "    </tr>\n",
              "    <tr>\n",
              "      <th>www.huffingtonpost.kr</th>\n",
              "      <td>12</td>\n",
              "    </tr>\n",
              "    <tr>\n",
              "      <th>www.instagram.com</th>\n",
              "      <td>21</td>\n",
              "    </tr>\n",
              "    <tr>\n",
              "      <th>www.khan.co.kr</th>\n",
              "      <td>122</td>\n",
              "    </tr>\n",
              "    <tr>\n",
              "      <th>www.nytimes.com</th>\n",
              "      <td>19</td>\n",
              "    </tr>\n",
              "    <tr>\n",
              "      <th>www.voakorea.com</th>\n",
              "      <td>11</td>\n",
              "    </tr>\n",
              "    <tr>\n",
              "      <th>www.youtube.com</th>\n",
              "      <td>33</td>\n",
              "    </tr>\n",
              "  </tbody>\n",
              "</table>\n",
              "</div>"
            ],
            "text/plain": [
              "                        id\n",
              "ref                       \n",
              "imnews.imbc.com         30\n",
              "newneek.co              27\n",
              "news.kmib.co.kr         13\n",
              "terms.naver.com         61\n",
              "view.asiae.co.kr        12\n",
              "www.bbc.com             33\n",
              "www.dongascience.com    12\n",
              "www.edaily.co.kr        19\n",
              "www.hankookilbo.com     44\n",
              "www.huffingtonpost.kr   12\n",
              "www.instagram.com       21\n",
              "www.khan.co.kr         122\n",
              "www.nytimes.com         19\n",
              "www.voakorea.com        11\n",
              "www.youtube.com         33"
            ]
          },
          "metadata": {}
        }
      ]
    },
    {
      "cell_type": "markdown",
      "metadata": {
        "id": "z9EMCQoynMxV"
      },
      "source": [
        "- 추가할 곳: www.edaily.co.kr, www.dongascience.com, view.asiae.co.kr, www.voakorea.com, www.khan.co.kr, www.huffingtonpost.kr\t, www.hankookilbo.com, news.kmib.co.kr, imnews.imbc.com, terms.naver.com"
      ]
    },
    {
      "cell_type": "code",
      "metadata": {
        "colab": {
          "base_uri": "https://localhost:8080/"
        },
        "id": "GGIYqidjrSLN",
        "outputId": "ffabbce5-618c-45df-dda1-7ae099ecf8bb"
      },
      "source": [
        "print(nan[nan['ref'] == 'terms.naver.com']['summary'][0])\n",
        "print(nan[nan['ref'] == 'terms.naver.com']['url'][0])"
      ],
      "execution_count": 76,
      "outputs": [
        {
          "output_type": "stream",
          "name": "stdout",
          "text": [
            "모기가 옮기는 기생충질환으로 🦟, 감염되면 심한 오한이 들고 열이 나요. 옛날에는 나쁜(mal) 공기(air)에 의해 병이 생긴다고 생각해서 말라리아(malaria)라는 이름이 붙었는데요. 총 4가지 종류가 있어요. 이중 증상이 가장 심한 건 열대성 기후 지역에서 주로 발생하는 열대열 말라리아예요. \n",
            "https://terms.naver.com/entry.naver?cid=51004&docId=6507363&categoryId=51004\n"
          ]
        }
      ]
    },
    {
      "cell_type": "code",
      "metadata": {
        "colab": {
          "base_uri": "https://localhost:8080/",
          "height": 1000
        },
        "id": "_MO4uNIJQxxA",
        "outputId": "19cd3d59-26a8-454b-d5c8-eceeae18ce9e"
      },
      "source": [
        "display(full)"
      ],
      "execution_count": 78,
      "outputs": [
        {
          "output_type": "display_data",
          "data": {
            "text/html": [
              "<div>\n",
              "<style scoped>\n",
              "    .dataframe tbody tr th:only-of-type {\n",
              "        vertical-align: middle;\n",
              "    }\n",
              "\n",
              "    .dataframe tbody tr th {\n",
              "        vertical-align: top;\n",
              "    }\n",
              "\n",
              "    .dataframe thead th {\n",
              "        text-align: right;\n",
              "    }\n",
              "</style>\n",
              "<table border=\"1\" class=\"dataframe\">\n",
              "  <thead>\n",
              "    <tr style=\"text-align: right;\">\n",
              "      <th></th>\n",
              "      <th>id</th>\n",
              "      <th>category</th>\n",
              "      <th>title</th>\n",
              "      <th>date</th>\n",
              "      <th>summary</th>\n",
              "      <th>original_text</th>\n",
              "      <th>url</th>\n",
              "      <th>ref</th>\n",
              "      <th>length</th>\n",
              "    </tr>\n",
              "  </thead>\n",
              "  <tbody>\n",
              "    <tr>\n",
              "      <th>0</th>\n",
              "      <td>0</td>\n",
              "      <td>세계</td>\n",
              "      <td>WHO 말라리아 백신 접종 권고</td>\n",
              "      <td>2021/10/08</td>\n",
              "      <td>이유는  말라리아는 기생충이 주범이라, 코로나19처럼 바이러스가 퍼뜨리는 다른 병보...</td>\n",
              "      <td>2019년 11월 말라위의 한 마을 주민들이 말라리아 백신 접종 시범사업에 참여하는...</td>\n",
              "      <td>https://www.hani.co.kr/arti/international/inte...</td>\n",
              "      <td>www.hani.co.kr</td>\n",
              "      <td>1192</td>\n",
              "    </tr>\n",
              "    <tr>\n",
              "      <th>1</th>\n",
              "      <td>0</td>\n",
              "      <td>세계</td>\n",
              "      <td>WHO 말라리아 백신 접종 권고</td>\n",
              "      <td>2021/10/08</td>\n",
              "      <td>WHO가 인정했으니 이제 전 세계에 백신을 공급하면 되는데요. 시간은 꽤 걸릴 것 ...</td>\n",
              "      <td>이재영 기자 기자 페이지 1987년 개발된 최초 백신…인류난제 극복 역사적 첫발 한...</td>\n",
              "      <td>https://www.yna.co.kr/view/AKR20211007003551088</td>\n",
              "      <td>www.yna.co.kr</td>\n",
              "      <td>2299</td>\n",
              "    </tr>\n",
              "    <tr>\n",
              "      <th>2</th>\n",
              "      <td>1</td>\n",
              "      <td>경제</td>\n",
              "      <td>주식시장 파란불 켜진 이유 (2): 중국발 인플레 공포</td>\n",
              "      <td>2021/10/08</td>\n",
              "      <td>웬만한 제품이나 부품은 중국에서 만들잖아요(=중국 별명 ‘세계의 공장’ 🏭). 만드...</td>\n",
              "      <td>viewer 중국 랴오닝성 선양에 있는 한 석탄화력 발전소의 굴뚝에서 연기가 솟아오...</td>\n",
              "      <td>https://www.sedaily.com/NewsVIew/22SLJJUOUR</td>\n",
              "      <td>www.sedaily.com</td>\n",
              "      <td>1269</td>\n",
              "    </tr>\n",
              "    <tr>\n",
              "      <th>3</th>\n",
              "      <td>1</td>\n",
              "      <td>경제</td>\n",
              "      <td>주식시장 파란불 켜진 이유 (2): 중국발 인플레 공포</td>\n",
              "      <td>2021/10/08</td>\n",
              "      <td>중국은 호주랑 한바탕 싸우면서 ‘너네 석탄 안 사!’ 했어요. 호주가 석탄 수출해서...</td>\n",
              "      <td>전력난으로 중국 남부 광둥성 제조업 거점인 둥관 산업단지에 있는 한 공장에 불이 꺼...</td>\n",
              "      <td>https://www.joongang.co.kr/article/25011772#home</td>\n",
              "      <td>www.joongang.co.kr</td>\n",
              "      <td>3110</td>\n",
              "    </tr>\n",
              "    <tr>\n",
              "      <th>4</th>\n",
              "      <td>2</td>\n",
              "      <td>국내정치</td>\n",
              "      <td>넷플릭스 인 더 국정감사</td>\n",
              "      <td>2021/10/07</td>\n",
              "      <td>넷플릭스는 지금까지 한국 콘텐츠에 투자를 많이 해왔어요. 우리나라에 진출한 2016...</td>\n",
              "      <td>오징어게임 스틸컷. /사진=넷플릭스 \"넷플릭스를 통해 한국의 콘텐츠는 말 그대로 전...</td>\n",
              "      <td>https://news.mt.co.kr/mtview.php?no=2021092913...</td>\n",
              "      <td>news.mt.co.kr</td>\n",
              "      <td>2838</td>\n",
              "    </tr>\n",
              "    <tr>\n",
              "      <th>...</th>\n",
              "      <td>...</td>\n",
              "      <td>...</td>\n",
              "      <td>...</td>\n",
              "      <td>...</td>\n",
              "      <td>...</td>\n",
              "      <td>...</td>\n",
              "      <td>...</td>\n",
              "      <td>...</td>\n",
              "      <td>...</td>\n",
              "    </tr>\n",
              "    <tr>\n",
              "      <th>1808</th>\n",
              "      <td>1026</td>\n",
              "      <td>세계</td>\n",
              "      <td>파리의 심장이 불탔다 🇫🇷</td>\n",
              "      <td>2019/04/17</td>\n",
              "      <td>지금은 불이 꺼졌나?오후 7시쯤 시작된 불길은 지붕의 2/3를 태우고 첨탑까지 무너...</td>\n",
              "      <td>성혜미 기자 기자 페이지 \"센 강이 바로 옆인데\"…목재 구조물, 소방 시스템 미비도...</td>\n",
              "      <td>https://www.yna.co.kr/view/AKR2019041608420000...</td>\n",
              "      <td>www.yna.co.kr</td>\n",
              "      <td>1528</td>\n",
              "    </tr>\n",
              "    <tr>\n",
              "      <th>1809</th>\n",
              "      <td>1037</td>\n",
              "      <td>NaN</td>\n",
              "      <td>제주 4·3 사건 72주기</td>\n",
              "      <td>2019/04/03</td>\n",
              "      <td>국방부가 72년 만에 ‘제주 4·3사건’ 희생자들에게 애도를 표한대요.</td>\n",
              "      <td>국방부가 군·경의 무력 진압으로 수많은 양민이 희생된 '제주 4·3사건'에 대해 사...</td>\n",
              "      <td>https://news.jtbc.joins.com/article/article.as...</td>\n",
              "      <td>news.jtbc.joins.com</td>\n",
              "      <td>819</td>\n",
              "    </tr>\n",
              "    <tr>\n",
              "      <th>1810</th>\n",
              "      <td>1037</td>\n",
              "      <td>NaN</td>\n",
              "      <td>제주 4·3 사건 72주기</td>\n",
              "      <td>2019/04/03</td>\n",
              "      <td>50년이 지나도록 진상규명이 이루어지지 않았었는데요. 2000년에야 정부 차원의 진...</td>\n",
              "      <td>노무현 전 대통령과 문재인 대통령. 문재인 대통령이 3일 제주 4·3사건 70주년 ...</td>\n",
              "      <td>https://www.hani.co.kr/arti/politics/politics_...</td>\n",
              "      <td>www.hani.co.kr</td>\n",
              "      <td>276</td>\n",
              "    </tr>\n",
              "    <tr>\n",
              "      <th>1811</th>\n",
              "      <td>1037</td>\n",
              "      <td>NaN</td>\n",
              "      <td>제주 4·3 사건 72주기</td>\n",
              "      <td>2019/04/03</td>\n",
              "      <td>+ 매해 4월 3일 전후에는 정치권에서 특별법 통과를 약속하는 사람들은 많지만, 진...</td>\n",
              "      <td>제주4·3유족회가 지난달 10일 제주시 관덕정 앞 광장에서 기자회견을 열고 제주4·...</td>\n",
              "      <td>https://www.hani.co.kr/arti/society/area/88823...</td>\n",
              "      <td>www.hani.co.kr</td>\n",
              "      <td>535</td>\n",
              "    </tr>\n",
              "    <tr>\n",
              "      <th>1812</th>\n",
              "      <td>1065</td>\n",
              "      <td>경제</td>\n",
              "      <td>코드명 스튜어드십코드🕵</td>\n",
              "      <td>2019/02/11</td>\n",
              "      <td>국민연금이 거기 왜 끼는데?😮국민연금은 국민의 노후를 보장하기 위해서 주식으로도 돈...</td>\n",
              "      <td>◆ 국민연금, 한진칼 경영참여 ◆   박능후 보건복지부 장관(맨 오른쪽)이 1일 오...</td>\n",
              "      <td>https://www.mk.co.kr/news/economy/view/2019/02...</td>\n",
              "      <td>www.mk.co.kr</td>\n",
              "      <td>2458</td>\n",
              "    </tr>\n",
              "  </tbody>\n",
              "</table>\n",
              "<p>1813 rows × 9 columns</p>\n",
              "</div>"
            ],
            "text/plain": [
              "        id category  ...                  ref length\n",
              "0        0       세계  ...       www.hani.co.kr   1192\n",
              "1        0       세계  ...        www.yna.co.kr   2299\n",
              "2        1       경제  ...      www.sedaily.com   1269\n",
              "3        1       경제  ...   www.joongang.co.kr   3110\n",
              "4        2     국내정치  ...        news.mt.co.kr   2838\n",
              "...    ...      ...  ...                  ...    ...\n",
              "1808  1026       세계  ...        www.yna.co.kr   1528\n",
              "1809  1037      NaN  ...  news.jtbc.joins.com    819\n",
              "1810  1037      NaN  ...       www.hani.co.kr    276\n",
              "1811  1037      NaN  ...       www.hani.co.kr    535\n",
              "1812  1065       경제  ...         www.mk.co.kr   2458\n",
              "\n",
              "[1813 rows x 9 columns]"
            ]
          },
          "metadata": {}
        }
      ]
    },
    {
      "cell_type": "code",
      "metadata": {
        "id": "5fIQLz8Bfov2",
        "colab": {
          "base_uri": "https://localhost:8080/"
        },
        "outputId": "7c1c19af-d569-477d-9711-62c3c954291c"
      },
      "source": [
        "full.reset_index(drop=True, inplace=True)\n",
        "\n",
        "# 샘플 찍어보기\n",
        "for i in range(0, 1800, 100):\n",
        "    print(\"요약:\", full['summary'][i])\n",
        "    print(\"원문:\", full['original_text'][i])\n",
        "    print(\"-\"*100)"
      ],
      "execution_count": 81,
      "outputs": [
        {
          "output_type": "stream",
          "name": "stdout",
          "text": [
            "요약: 이유는  말라리아는 기생충이 주범이라, 코로나19처럼 바이러스가 퍼뜨리는 다른 병보다 더 끈질기고 퇴치가 어렵거든요. 또 말라리아 기생충은 한 사람이 여러 번 감염될 정도로 사람의 면역체계를 피해가는 능력이 뛰어나다고. 하지만 한 영국 제약사가 30년 동안 연구한 끝에 백신 개발에 성공해 2019년부터 가나·케냐 등에서 어린이 약 80만 명에게 시범으로 백신을 맞혔어요 💉. \n",
            "원문: 2019년 11월 말라위의 한 마을 주민들이 말라리아 백신 접종 시범사업에 참여하는 아이들을 데리고 순서를 기다리고 했다. AP 연합뉴스 세계보건기구(WHO)가 최초로 말라리아 백신 사용을 승인했다. 열대지방을 중심으로 많은 어린이들 목숨을 앗아가는 말라리아에 대한 백신 보급이 연간 수십만명을 살릴 수 있을지 기대된다. <에이피>(AP) 통신은 테워드로스 아드하놈 거브러여수스 세계보건기구 사무총장이 6일 기자회견에서 말라리아 백신 RTS,S의 아프리카 3개국 시범 접종사업이 성공적이었다며 이 백신에 대한 승인을 발표했다고 보도했다. 거브러여수스 사무총장은 “난 말라리아 연구자였으며, 이 오래되고 악랄한 질병에 효과적인 백신을 가질 날을 고대해왔다”며 “오늘은 역사적인 날이다. 세계보건기구는 세계 최초 말라리아 백신의 광범위한 사용을 권장한다”고 말했다. 모스퀴릭스(Mosquirix)로도 불리는 RTS,S 백신은 영국 제약사 글락소스미스클라인이 개발한 제품으로 2019년 시작한 시범 접종사업에서 가나, 케냐, 말라위 어린이 약 80만명에게 접종됐다. 이 사업에서 백신의 말라리아 예방률은 39%, 중증 예방률은 29%로 그리 높지 않은 것으로 나타났다. 하지만 이 백신과 말라리아 치료제를 함께 복용하면 입원율과 사망률이 70% 감소하는 것으로 나타났다. 현재 통용되는 항말라리아제는 예방 목적으로도 사용된다. 거브러여수스 사무총장은 “현존하는 말라리아 예방 수단과 이 백신을 함께 사용하면 매년 수만명의 어린 목숨을 구할 수 있을 것”이라고 했다. 모기가 옮기는 기생충이 증식을 위해 인간 혈액세포를 파괴하는 말라리아는 인류를 괴롭혀온 대표적 질병이다. 이 질병으로 2019년에 40만9천명이 숨졌으며, 이 중 5살 미만이 27만명이다. 그해에 세계적으로 2억2900만건이 발병했는데 94%가 아프리카에서 발생했다. 지난 100년 동안 백신 개발 노력이 이어졌는데도 결과가 더디게 나온 배경에는 박멸이 어려운 말라리아의 특성이 있다. 전문가들은 말라리아는 기생충이 주범이기 때문에 바이러스가 전파하는 다른 질병들보다 더 끈질기고 퇴치가 어렵다고 설명한다. 또 말라리아 기생충은 같은 사람이 여러 번 감염될 정도로 인체의 면역체계를 회피하는 능력이 뛰어나다. 전문가들은 세계보건기구의 이번 승인으로 다른 제약사들의 말라리아 백신 개발도 자극하는 효과가 날 것으로 기대하고 있다. 이본영 기자 ebon@hani.co.kr\n",
            "----------------------------------------------------------------------------------------------------\n",
            "요약: 처벌보다 더 무서운 게 있어요. 바로 ‘파파라치’ 시스템. 텍사스에 사는 사람이 아니더라도, 이 법을 어기거나 어기게끔 도와주는 텍사스 주민을 찾아내 소송을 낼 수 있게 한 거예요. 소송에서 이기면 상대방(피고)으로부터 소송 비용에 1만 달러(약 1200만 원)까지 얹어 ‘포상금’처럼 받아낼 수 있다고 💰. 반면 소송을 당한 사람은 ‘불법 임신중단’이 아니었어도 변호사 비용 등을 자기가 부담해야 하고요. 시술 비용을 지원해준 사람이나 임신부를 태워준 우버기사까지도 소송에 걸릴 수 있다는 얘기가 나와요.\n",
            "원문: 1일(현지시간) 미국 텍사스주 오스틴의 주의회 의사당 앞에서 시위대가 이날부터 시행되는 새 낙태 제한법을 반대하는 시위를 벌이고 있다. 이 법은 낙태 금지 시기를 현행 20주에서 태아의 심장박동이 감지되는 임신 6주로 앞당기며, 강간이나 근친상간에 따른 임신의 경우에도 낙태를 허용하지 않는다. 이날 조 바이든 대통령은 이 법이 헌법상 권리를 침해했다며 낙태권을 보호하겠다고 밝혔다. /오스틴 아메리칸-스테이츠맨 제공 미국 남부 텍사스주에서 여성의 낙태를 사실상 금지하는 강력한 낙태제한법이 1일(현지 시각) 발효됐다. 이는 미국이 1970년대부터 반세기간 낙태를 여성의 결정권 영역으로 보고 허용한 흐름을 정면으로 뒤집었다는 평가를 낳고 있다. 텍사스는 ‘미 보수의 심장’으로 불리는 지역이자 캘리포니아에 이어 둘째로 인구가 많은 주(州)여서 파장이 커지고 있다. 이날 시행된 법은 낙태 금지 시기를 기존의 ‘임신 20주 이후’에서 ‘6주 이후’로 앞당기는 것이 골자다. 공화당이 장악한 텍사스 주의회는 6주 된 태아는 심장이 뛰기 시작한다는 점을 내세워 이 법을 ‘심장박동법(Heartbeat Bill)’으로 명명해 지난 5월 통과시켰고, 그레그 애벗 텍사스 주지사가 같은 달 법안에 서명했다. 임신 6주는 임신부가 임신을 자각하기 어렵고 병원의 진단도 정확하지 않을 수 있다. 낙태 금지 시기를 임신 사실 자체를 모를 수도 있는 시점으로 앞당겨 사실상 낙태 금지와 같은 효과를 내는 것이다. 성폭행을 당했거나 근친 간 임신을 한 경우에도 낙태를 할 수 없도록 했다. 텍사스의 초강력 낙태제한법인 '심장박동법'이 시행에 들어간 1일 뉴욕시 브루클린의 구청 앞에서도 낙태금지에 반대하는 동조 시위가 열렸다. 미국에서 두번째로 큰 주인 텍사스의 낙태 제한 조치가 전국에 큰 파장을 일으키고 있다. /AFP 연합뉴스 이 법은 또 전례 없는 조항을 담고 있는데, 낙태 고발·단속을 불특정 다수 시민에게 맡겼다는 점이다. 낙태를 감행한 여성은 물론 시술을 한 병원, 이들을 도운 이들에 대해 제3자가 소송을 걸 수 있게 하고 주정부는 제소자가 승소할 경우 최소 1만달러(1100만원)의 보상금을 지급하게 했다. 일종의 ‘낙태 감시 자경단’을 구성해놓고 주정부는 낙태 단속에서 표면적으론 손을 뗀 것이다. 이는 여성계와 진보 단체 등이 주정부를 상대로 법 시행 정지 가처분 신청 등을 하는 것을 봉쇄하고 민간끼리의 다툼으로 돌리려는 의도라고 뉴욕타임스는 분석했다. 미국에선 1970년대 초까지 대부분 주에서 낙태를 처벌했다. 그러나 1973년 태아가 모체 밖에서 독자적으로 생존할 수 있는 시점인 임신 22~24주 이전 낙태권을 보장한 연방대법원의 ‘로 대 웨이드(Roe vs Wade)’ 판결이 나온 이래 임신 중기까지의 낙태가 허용돼왔다. 일부 주에서 낙태 가능 시기를 13~15주까지 앞당기기도 했지만 이번 텍사스처럼 임신 초기 낙태까지 금지한 법이 시행된 건 48년 만에 처음이다. 법 시행을 두고 논란도 커지고 있다. 조 바이든 미 대통령은 1일 성명을 내 “이번 낙태제한법은 ‘로 대 웨이드’ 판결에서 보장된 낙태할 헌법적 권리를 무참하게 침해했다”며 “여성의 권리를 지켜야 한다”고 밝혔다. 낙태 시술 병원들과 진보 단체 등은 지난달 30일 연방대법원에 텍사스의 낙태제한법 시행을 중단해달라는 긴급 신청서를 제출했지만 대법원은 이날 이를 기각했다. 9명의 대법관 중 5명이 기각 편에 섰다. 존 로버츠 대법원장은 인용 쪽이었다. 지난 1일 미 워싱턴 DC의 연방대법원 전경. 텍사스의 여성 단체와 낙태 시술 병원 등은 낙태제한법 시행을 막아달라는 긴급 명령 신청서를 사전에 제출했지만, 보수 우위의 대법원은 별다른 조치를 취하지 않으면서 이 법이 9월부터 곧장 발효됐다. /AFP 연합뉴스 앞서 지난 6월 텍사스의 한 고교에선 졸업 연설에 나선 여학생이 이 법을 겨냥해 “내 몸을 두고 전쟁이 일어나고 있다”며 “우리는 스스로의 몸에 대한 통제권을 뺏겼다. 성폭행당하거나 피임에 실패했을 때 내 미래도 꺾이는 것”이라고 했다. 법안 발효 전날인 31일에는 평소보다 많은 여성들이 낙태 시술을 받으려고 병원에 몰려들었다고 현지 매체들은 전했다.\n",
            "----------------------------------------------------------------------------------------------------\n",
            "요약: 폭염 때문이야 🌡️: 우리나라에서 주로 키우는 홀스타인종 소는 더위에 약한데요. 더운 여름에 소가 스트레스를 받으면서 우유 생산량이 줄어들었어요.\n",
            "원문: 이태수 기자 기자 페이지 이달 하순부터 21원 오른 원윳값 적용되면 먹거리 가격 연쇄 상승 가능성 무더위에 우유 수급도 차질…대용량 우유 판매 중단·축소 (서울=연합뉴스) 이태수 기자 = 이달부터 원유(原乳) 가격이 ℓ당 21원 인상되는 가운데 정부가 낙농가를 상대로 '인상을 미뤄달라'며 막판 설득에 들어갔다. 원유 가격 인상이 이대로 확정된다면 원유에서 우유와 유제품, 커피, 제과·제빵 등으로 이어지는 먹거리 가격 줄인상이 불가피할 전망이다. 우유 [연합뉴스TV 제공] ◇ 원유 인상은 작년 확정…각 우유업체에 통보는 '아직' 12일 식품업계에 따르면 낙농진흥회는 이달 1일부터 원유 가격을 ℓ당 947원으로 21원 올리기로 지난해 7월 결정했다. 그런데도 아직 우유 가격이 오르지 않은 이유는 우유업계의 원유 대금 결제 관행 때문이다. 통상 서울우유·매일유업 등 주요 우유업체들은 매달 1∼15일치 원유 대금을 그달 20일께 지급한다. 이 때문에 이달 인상된 원유 가격은 오는 20일 이후에나 실제로 반영된다. 낙농진흥회 역시 원유 가격 인상을 결정해놓고도 아직 각 우유업체에 인상된 가격을 통보하지는 않은 것으로 확인됐다. 한 우유업체 관계자는 \"원유 가격이 인상됐으면 인상된 가격을 담은 공문이 와야 하는데 아직 받은 것이 없다\"고 말했다. 이 때문에 우유 가격의 향배는 우유업체들이 실제로 대금을 지급하는 이달 하순 이전 최종 결론이 날 전망이다. 그러나 14∼16일 광복절 연휴가 낀 점을 고려하면 현실적으로는 이번 주중 내에 결판이 날 공산이 크다. ◇ '먹거리 물가 급등'에 정부 설득 나섰지만…강제력 없어 정부 축산 당국은 비상이 걸렸다. 그렇지 않아도 최근 라면·과자·소스 등 주요 먹거리 물가가 줄줄이 올랐는데, 다른 식품산업에 파급 효과가 큰 우유 가격마저 오른다면 국민 식생활에 큰 영향을 끼치기 때문이다. 농림축산식품부 관계자는 \"지난달부터 물가 상승 등을 이유로 원유 가격 인상을 6개월 유보하자고 낙농업계에 요청하고 있다\"며 \"공식 경로뿐만 아니라 비공식적으로도 꾸준히 협조를 요청하고 있다\"고 말했다. 농식품부는 이달 4일 열린 낙농진흥회 소위원회 회의에서도 설득에 나섰고 지난 6일에는 전국 낙농 협동조합장을 만나 비슷한 요청을 한 것으로 알려졌다. 하지만 낙농가는 \"이번에는 가격을 올려야 한다\"며 인상 의지가 확고한 것으로 전해졌다. 정부 역시 강제력 있는 수단이 없어 쉽지 않은 상황이다. 낙농진흥회의 가격 인상 계획을 변경하려면 이사회가 다시 열려야 하는 점도 정부로서는 부담이다. 이사회를 개최하려면 낙농진흥회 이사 15명 가운데 최소 10명이 참여해야 하는데 이사진 가운데 7명이 낙농 생산자 측 인사인 만큼 협조를 구하기 쉽지 않다. 낙농진흥회 관계자는 \"현재로서는 이사회 개최 계획이 잡힌 것이 없다\"고 말했다. 우윳값 오르면 커피•빵값도 '들썩'…인상 도미노 (CG) [연합뉴스TV 제공] ◇ 우유 인상 가능성에 업계 촉각…폭염에 이미 일부 수급 차질 원유 가격 인상이 예정대로 진행된다면 우유 제품 가격 인상은 피할 수 없을 전망이다. 국내 우유업계 1위 업체인 서울우유 관계자는 \"원유 가격이 오른다면 주된 원재료다 보니 원가 부담이 있을 수밖에 없다\"며 \"인상 여부나 폭, 시기 등은 내부적으로 검토 중이지만 아직 확정된 것은 없다\"고 말했다. 매일유업 관계자도 \"인건비, 물류비, 원자재 가격이 최근 많이 올랐기 때문에 가격 인상 요인이 있는 상황\"이라며 \"원유 가격마저 오른다면 경쟁 업체가 어떻게 하는지 지켜보고 결정해야겠지만, 가격 인상도 검토하고 있다\"고 말했다. 우유 가격이 인상되면 이를 공급받는 커피, 제과, 제빵, 빙과 등 주요 식품업체가 연쇄적으로 영향을 받게 된다. 한 대형 커피전문점 프랜차이즈 관계자는 \"우유 가격 인상을 이유로 우유업체가 협의를 요청하면 응할 수밖에 없는 구조\"라며 \"우유 가격 인상 가능성을 두고 내부적으로 대응 방안을 계속 검토 중\"이라고 말했다. 한편 최근 폭염 등으로 원유 생산량이 감소하면서 이미 시중에서는 우유 제품 수급 차질이 일부 빚어지고 있다. 서울우유는 지난달 말부터 1.8ℓ 흰우유 제품의 편의점 공급을 중단했다. 대형마트에서는 1.8ℓ, 2.3ℓ 제품 공급이 발주량을 따라가지 못하고 있다. 매일우유 역시 우유 제품 공급량이 발주량보다 5% 부족한 상황이다. 우유업체 관계자는 \"무더위가 일찍 찾아와 젖소가 스트레스를 받아 착유량이 감소한 탓\"이라며 \"우리나라에서 주로 사육하는 홀스타인종은 더위에 약하다\"고 설명했다. tsl@yna.co.kr <저작권자(c) 연합뉴스, 무단 전재-재배포 금지> 2021/08/12 05:30 송고\n",
            "----------------------------------------------------------------------------------------------------\n",
            "요약: 현재 해외파병 부대는 3곳이 더 있어요: UAE 아크부대·남수단 한빛부대·레바논 동명부대 🇺🇳. 이들은 다행히 대부분 출국 전에 접종하거나, 현지 나라·국제연합(UN)의 협조를 받아 접종을 마친 상태예요. 청해부대는 UN 소속도 아니고, 바다에 떠 있어 머무는 나라도 없다 보니 백신 협조를 받기 어려웠고요. 하지만 전문가들은 UN이나 청해부대가 소속된 연합해군사령부에 요청했다면 접종이 가능했을 거라고도 비판해요. \n",
            "원문: 청해부대 34진 안전후송, 파이팅 외치는 장병들. /뉴시스 아프리카 부근에 파병 중인 청해부대 34진(문무대왕함·4400t급)에서 승조원 301명 중 247명이 코로나에 걸린 ‘집단감염’ 사태가 벌어진 가운데, ‘출항 일정상 백신 접종이 불가능해 어쩔 수 없었다'는 취지의 해명을 ’사실은 이렇습니다'라는 제목으로 카드뉴스까지 제작해 배포했다. 국방부는 18일 보도자료와 ‘사실은 이렇습니다' 카드 뉴스 등을 통해 ‘파병 장병들에게 백신을 보내지 않는 등 아무런 조치를 하지 않았다’는 지적에 대해 “청해부대 34진은 (국내에서 군에 백신이 도입되기 전인) 2월에 출항해 파병 전 예방접종은 불가했다”고 밝혔다. 현지 접종을 추진하지 않은 이유에 대해서는 “청해부대 34진의 경우, 최초 백신접종 대상 포함 여부를 검토할 당시 원해에서 작전임무가 지속되는 임무특성상 아나필락시스 등 예방접종 후 이상반응 발생 시 응급상황 대처가 제한되는 점, 함정 내에선 백신 보관기준의 충족이 제한되는 점 등을 들어 현지접종이 곤란하다고 판단했다”고 설명했다. 그러나 국회 국방위원회 소속인 국민의힘 강대식 의원은 보도자료를 통해 “정부가 제출한 ‘국군부대의 소말리아 아덴만 해역 파견연장 동의안’(청해부대)에 따르면 이번 파견은 유엔 안보리 결의 근거로 연합해군사 및 해수부·외교부·국내 해운단체의 요청 등을 고려했다고 했다”며 “우리 청해부대는 유엔에 백신 접종을 요청할 권리가 있고 명분도 있다”고 했다. 강 의원은 “청해부대 34진이 출항 시 백신 접종을 하지 않았다면 국내의 앞선 상황 등을 고려해 유엔에 협조를 구하는 등 적극적인 조치를 취했어야 한다”며 “그것이 불가했다면 기항지에서 현지인과 접촉해 물자보급을 하는 최소한의 인원이라도 모든 수단을 강구해 백신 접종을 마무리했어야 한다”고 했다. 국방부 해명. 황보승희 국민의힘 수석대변인도 논평을 통해 “군 장병들과 그 가족, 국민 앞에 진심어린 사죄부터 해야 하는 것 아닌가. 무슨 이유를 내놓든 ‘방역 무능’에 대한 변명에 불과하다”며 “응급상황 대처가 어렵고, 보관이 어려워 백신 접종이 어려웠다면, 최소한 감염대응 매뉴얼이라도 제대로 갖추고 있어야 했다”고 지적했다. 이어 “최초 유증상자가 나왔을 때 감기약을 처방할 것이 아니라 곧바로 간이검사나 PCR 검사 등을 통해 확인했더라면 이 같은 참사를 막을 수 있었을지 모른다”며 “정부와 군 당국은 청해부대 장병 전원의 무사귀환은 물론이고, 확진 장병들이 빠르게 치유될 수 있도록 끝까지 책임지라”고 했다. 19일 합동참모본부에 따르면 이날 오전 8시(한국시간) 기준 청해부대 34진 승조원 179명이 추가 확진되며 누적 확진자는 247명이 됐다. 나머지 50명은 음성, 4명은 ‘판정 불가’로 통보받았다. 지난 15일(집계일 기준) 최초 확진자가 확인된 이후 현지 보건당국에 의뢰한 전수검사 결과 승조원 전체 301명의 82.1%가 양성으로 확인된 것이다.\n",
            "----------------------------------------------------------------------------------------------------\n",
            "요약: 백신을 맞으면 감염될 확률이 크게 낮아지긴 해요. 다만 2차 접종까지 끝내는 게 중요해요 💉. 영국 보건당국의 연구 결과에 따르면, 화이자·아스트라제네카 백신을 1차만 맞으면 감염 예방률이 30% 정도밖에 안 되지만, 2차까지 맞으면 60%(아스트라제네카)·88%(화이자)로 크게 높아져요 ⬆️. 백신을 한 번이라도 맞으면 코로나19에 걸려도 심하게 아프지 않을 확률이 90% 이상이고요.\n",
            "원문: 김서영 기자 기자 페이지 \"영국, 신규 확진자 65%는 백신 미접종자…1차 접종효과 과신하진 말아야\" 해외유입 확진자 다수는 인도네시아發…\"격리조치 강화·변이 검사량 확대\" 모더나 백신 접종 대기하는 의료진 (서울=연합뉴스) 임헌정 기자 = 상급종합병원 30세 미만 의료인 등에 대한 모더나 백신 접종이 본격적으로 시작된 21일 서울 서초구 서울성모병원 예방접종센터에서 의료진이 모더나 백신 접종을 기다리고 있다. kane@yna.co.kr (서울=연합뉴스) 김서영 기자 = 신종 코로나바이러스 감염증(코로나19) 백신이 최근 영국에서 빠른 속도로 번지는 '델타 변이' 바이러스에도 여전히 효과가 있는 것으로 나타났다. 특히 백신별 권장 횟수를 모두 접종했을 때 예방 효과가 훨씬 큰 것으로 파악됐다. ◇ \"영국 신규확진자 89.6% '2차 미접종자'…2차 맞아야 충분한 접종효과\" 이상원 중앙방역대책본부(방대본) 역학조사분석단장은 22일 브리핑을 통해 \"최근 영국에서 신규 확진자가 다시 증가하고 있고, 이들 확진자의 90% 이상이 델타형 변이에 감염된 것으로 알려져 있다\"고 말했다. 이 단장은 \"다만 환자 발생 현황을 보면, 신규 확진자의 89.6%는 2차 접종을 완료하지 않았으며, 65%는 백신 미접종군\"이라며 \"백신 접종을 완료한 이들에 대해서는 상당한 예방효과와 중증 진행 억제 효과가 있는 것으로 판단한다\"고 설명했다. 그는 \"전파력이 높은 델타 변이가 빠른 속도로 전 세계적인 우세종이 돼 가고 있는 것은 매우 우려스러운 상황\"이라면서도 \"변이 감염에 대한 최상의 대책은 정해진 일정에 따라 백신 접종을 신속하게 완료하는 것\"이라고 강조했다. 특히 \"1차 접종 효과를 과신해 2차 접종을 받지 않으면 충분한 접종 효과를 기대할 수 없다\"며 \"예정된 일정에 2차 접종을 꼭 마쳐달라\"고 당부했다. 이 단장은 \"당국도 해외 입국자를 통한 변이 확산을 막기 위해 보수적인 기준으로 해외 입국 기준·검역 관리를 상당 기간 유지할 예정\"이라며 \"국내 입국자에 대한 철저한 변이 감염 검사와 모니터링을 지속하겠다\"고 밝혔다. [그래픽] 코로나19 변이바이러스 검출 현황 및 백신별 예방효과 (서울=연합뉴스) 장예진 기자 = jin34@yna.co.kr ◇ 화이자 2차 접종 땐 '인도변이' 87.9% 예방…AZ는 59.8% 효과 영국 공중보건국의 백신별 변이 바이러스 예방효과 분석 결과에 따르면 실제로 권장 접종 횟수를 모두 마쳤을 때 변이 바이러스 차단 효과가 훨씬 높았다. 화이자 백신의 경우, 1차 접종만 마쳤을 때는 알파형(영국 변이)에 대한 예방효과가 49.2%, 델타형(인도 변이) 33.2% 수준이었다. 그러나 2차 접종 이후, 알파형에 대해서는 93.4%, 델타형은 87.9%의 예방 효과를 보였다. 아스트라제네카(AZ) 백신도 2차 접종 이후 알파형에는 66.1%, 델타형에는 59.8%의 예방 효과를 보인 것으로 확인됐다. 다만 1차 접종만 완료했을 때는 예방효과가 각각 51.4%(알파형), 32.9%(델타형)에 그쳤다. 베타형(남아프리카공화국 변이) 바이러스에 대해서도 화이자·아스트라제네카 백신 접종을 완료했을 때 각각 75.0%, 10.4%의 예방효과를 가진 것으로 나타났다. 인천공항 검역 요원들 [연합뉴스 자료사진] ◇ 해외 유입 확진자 연일 40명대…변이 발생국 대상 검역 강화 특히 최근 국내에서는 해외 유입 확진자가 연일 40명대에 이르면서 변이 확산 우려가 커지는 상황이다. 이 단장은 이와 관련해 \"해외 유입 환자의 다수는 인도네시아 입국자로, 인도네시아발(發) 확진자가 늘면서 전체 해외유입 확진자도 같이 증가한 상황\"이라며 \"인도네시아는 한창 유행이 진행되고 있으며, 특히 델타 변이 사례도 늘어나고 있는 것으로 파악 중\"이라고 전했다. 현재 인도네시아에 있는 우리나라 공관에서는 입국 희망자들이 제출하는 PCR(유전자증폭) 음성확인서 위변조 여부를 조사하는 등 관리를 강화하고 있으며 변이 발생국에서 국내로 들어오는 입국자에 대한 격리 조치도 한층 강화된 상태다. 이 단장은 \"확진자가 다수 발생한 인도발 입국자에 대해서는 내·외국인, 장기체류 외국인에 대해서도 7일간의 시설 격리 조치를 시행하고, 이후 자가격리를 통해 입국 후 감염 여부를 확인하고 있다\"고 설명했다. 방대본에 따르면 인도발 입국자는 입국 후 1일 이내에 임시생활시설에서 1차례 검사를 받는다. 이어 7일간 임시생활시설에서 머물다 퇴소할 때 2차 검사를 받게 되며, 이후 7일간의 자가격리가 종료될 때 마지막 검사를 받아 총 3차례 검사가 이뤄진다. 남아프리카공화국(남아공)·탄자니아·브라질·아프리카 대륙 등 그 외 변이 발생국에서 입국할 경우에는 입국 직후와 시설격리 해제 전 2차례에 걸쳐 검사를 받게 된다. 다만 남아공·탄자니아 입국자는 입국 후 14일간 의무적으로 시설 격리되며, 브라질·아프리카 입국자는 임시생활시설에서 실시한 검사에서 음성이 나온 후에 자가격리에 들어가게 된다. 당국은 변이 바이러스 검사 속도를 높이기 위해 지난 5월 말부터 각 지방자치단체의 15개 보건환경연구원을 중심으로 선별 검사법을 도입해 시행 중이다. 이 단장은 \"지난 5월 기준으로 확진자 대비 약 15.6%의 유전자를 분석했으며, 월 2천 건 이상의 검사가 이뤄지고 있다\"며 \"향후 보건환경연구원의 검사 역량이 확대될 경우, 현행 15.6% 수준에서 20% 이상까지 검사량이 증가할 수 있다\"고 말했다. sykim@yna.co.kr 유튜브로 보기  <저작권자(c) 연합뉴스, 무단 전재-재배포 금지> 2021/06/22 17:12 송고\n",
            "----------------------------------------------------------------------------------------------------\n",
            "요약: 집주인이나 세입자 중 한 명이 신고하면 돼요. 부동산 중개인이나 법무사에게 대신해달라(=위임) 할 수도 있고요. 자세히 알아보면:\n",
            "원문: ‘임대차 계약 신고제’ Q&A 6월 1일 전월세 신고제 전면 시행을 앞두고 국토교통부가 지방자치단체를 대상으로 실무교육에 나섰다. 지난달부터 전월세 신고제를 시범 운영 중인 세종시 보람동 행정복지센터. 세종=뉴스1 6월 1일부터 임대차 신고제(전월세 신고제)가 시행된다. 수도권과 광역시, 8개 도(道)의 시(市) 지역에서 거래되는 보증금 6000만 원 초과 또는 월세 30만 원 초과인 전월세가 신고 대상이다.  국토교통부는 이 같은 전월세 신고제 시행을 앞두고 지방자치단체를 돌며 세부 실무교육을 하고 있다. 이 교육에서 많이 언급된 전월세 신고제 관련 상세 내용을 문답으로 정리했다.  Q. 무엇을 어떻게 신고해야 하나.  A. 집주인과 세입자가 공동 서명한 ‘주택임대차 계약 신고서’를 작성해 관할 주민센터 통합민원 창구, ‘부동산거래관리시스템’으로 신고하면 된다. 신고서에는 계약 당사자의 인적 정보, 해당 주택의 주소와 면적, 보증금과 월세 금액, 계약 기간 등을 기입한다. 임대차계약서도 첨부해야 한다. 거래액이 소액이어서 계약서를 쓰지 않았다면 통장 입금 명세를 입증 서류로 내면 된다.  관련기사 “임대차법 시행전 산 집, 임대 갱신 요구 거절 가능” 첫 판결 Q. 신고는 누가 하나.  A. 세입자와 집주인에게 신고 의무가 있다. 하지만 두 사람이 모두 신고를 할 필요는 없다. 공동으로 서명한 임대차계약서를 어느 한쪽이 제출하는 방식으로 신고하면 된다. 공인중개사에게 위임할 수도 있다. 계약 후 30일 내 전월세 신고를 하면 전입 신고 전이라도 관계없이 확정일자가 자동으로 부여된다.  Q. 지방에서 3주일짜리 월세를 계약하려 한다. 이런 단기 계약도 신고 대상인가.  A. 원칙적으로는 그렇다. 다만 임대차 신고 기간이 계약일로부터 한 달인 만큼 신고 시점에 이미 계약이 종료돼 신고 대상 자체가 없어질 수 있다. 국토부에서는 각 지자체에 고시원 등 계약 기간이 30일이 되지 않는 초단기 계약은 신고를 하지 않더라도 과태료 대상에서 제외하도록 안내하고 있다. 다만 임차인이 보증금을 보호받기 위해 신고를 원한다면 계약 기간과 관계없이 신고할 수 있다.  Q. 의무 신고를 피하기 위해 30일 미만으로 기간을 쪼개 계약하는 편법이 우려된다.  A. 같은 임대주택에서 30일 미만으로 기간을 쪼개 계약하며 신고를 하지 않았다면 세입자의 총 거주일수를 합산해 과태료 부과 여부를 판단한다.  Q. 전세 계약을 한 뒤 2개월 뒤 잔금을 치르고 이사할 예정이다. 신고는 언제 해야 하나.  A. 임대차 신고 기간은 계약일로부터 30일 이내다. 즉, 아직 잔금을 치르지 않았고 이사를 하지 않았더라도 신고는 계약 시점을 기준으로 30일 내에 먼저 해야 한다.  Q. 전입신고와 임대차 신고는 따로 해야 하나.  A. 전입신고를 할 때 임대차 계약서를 첨부하면 자동으로 임대차 신고도 되고, 확정일자까지 부여된다. 단, 임대차 계약일과 실제 이사하는 날의 차이가 많이 나서 이사 전 임대차 신고를 먼저 했다면 전입신고는 실제 전입 시 따로 해야 한다. 임대차 신고는 계약일로부터 30일 이내, 전입신고는 전입한 날로부터 14일 이내에 하는 것이 원칙이다.  Q. 전세 연장 계약도 신고를 해야 하나.  A. 신규 계약, 갱신 계약 모두 신고 대상이다. 다만 갱신 계약의 경우 보증금이나 월세가 변하지 않았다면 신고하지 않아도 된다.  Q. 계약갱신요구권을 이용해 이전 계약을 연장할 때의 전월세 신고는 신규 계약 때 하는 신고와 뭐가 다른가.  A. 갱신 계약의 경우 갱신이라는 점을 밝히고 이전 보증금, 월세까지 신고해야 한다. 정부는 임대차법을 개정해 표준 임대차계약서에 갱신 계약 여부와 계약 갱신 전 보증금 및 월세를 기재하도록 하는 방안을 추진 중이다. 이렇게 하면 전월세상한제(이전 계약 대비 5%) 준수 여부도 파악할 수 있다.  Q. 고시원을 운영하고 있다. 전월세 신고를 해야 하나.  A. 신고 대상이다. 다세대주택, 아파트는 물론이고 주택임대차보호법의 적용을 받는 오피스텔, 고시원, 판잣집 등까지 모두 신고 대상에 포함된다.  Q. 신고 정보는 언제부터 일반에 공개되나.  A. 11월부터 시범 공개된다. 실거래 정보처럼 각 매물의 정확한 계약일, 가격, 계약 갱신 여부 등을 알 수 있게 된다.  Q. 신고 정보는 어디에 활용되나.  A. 제출된 임대차계약서를 은행과 연계해 전세대출에 활용하도록 하는 방안을 정부가 추진한다. 대출 신청인이 계약서와 확정일자 증빙자료를 제출하지 않아도 은행 창구에서 기존 신고 정보만으로도 대출을 가능하게 하려는 것이다. 다만 관계기관 협의 등이 필요해 아직 시행 시점, 범위 등이 구체화되지는 않았다.  Q. 허위 신고나 미신고에 적용되는 세부 처벌 수위는….  A. 허위 신고에 대해 무조건 과태료 100만 원이 부과된다. 미신고의 경우 미신고 기간, 보증금과 월세액 수준에 따라 최소 4만 원에서 100만 원까지 과태료가 차등 부과된다. 최저 과태료인 4만 원은 보증금 1억 원 미만 임대차 계약이 이뤄진 지 3개월 이내에 신고하는 경우 부과된다. 계도 기간인 내년 5월 31일까지는 과태료가 부과되지 않는다.  이새샘 기자 iamsam@donga.com기자페이지 바로가기> #전월세 신고제#임대차 계약 신고제\n",
            "----------------------------------------------------------------------------------------------------\n",
            "요약: 결과 못 믿어 🤔: 이런 시험은 사람 몸에 직접 해서 효과가 입증돼야 해(from. 질병관리청). 세포에만 시험해놓고 발표한 건 너무 부풀린 거야. \n",
            "원문: 발효유 불가리스. 남양유업 제공 남양유업이 자사 발효유 ‘불가리스’가 코로나19 억제 효과가 있다는 연구결과를 발표하면서 13일 주가가 장 마감 직전에 8% 급등했다. 그러나 질병관리청은 “특정 식품의 코로나19 예방·치료 효과를 확인하려면, 사람 대상 연구가 수반돼야 한다”며 “(현재로서는) 실제 효과를 예상하기 어렵다”고 반박하며 사태를 진화했다. 13일 오후 남양유업 항바이러스면역연구소는 서울 중림동 엘더블유(LW)컨벤션에서 열린 ‘코로나19 시대 항바이러스 식품 개발 심포지엄’(한국의과학연구원 주관)에서 불가리스의 항바이러스 연구 성과를 발표했다. 불가리스가 감기 바이러스인 ‘인플루엔자’(H1N1)를 99.999%까지 ‘사멸’시키고, 코로나19 바이러스도 77.8% 저감 효과를 냈다는 게 연구 결과의 핵심이다. 구체적으로는 한국의과학연구원이 ‘개의 신장세포’를 숙주 세포로 인플루엔자 연구를 진행했고, 충남대 수의대 공중보건학 연구실이 남양유업과 함께 ‘원숭이 폐세포’를 숙주 세포로 실험을 했다고 한다. 이날 남양유업은 보도자료에서 “안전성이 담보된 식품(발효유)에 대한 실험결과로, 1회 음용량(150mL) 및 구강을 통해 음용하는 점을 고려할 때 코로나19 바이러스 감소·억제 효과가 있을 것으로 예상된다”는 결론을 도출했다. 또 “발효유 제품이 인플루엔자와 코로나19에 효과가 있음을 국내 최초로 연구한 것”이라며 연구 의의를 강조하기도 했다. 13일 남양유업 주가 움직임. 네이버금융 갈무리 문제는 이 발표가 투자자와 소비자가 ‘불가리스=인체 내 코로나19 바이러스 억제’로 오인하도록 했다는 것이다. 이와 관련 질병관리청 손상예방관리과는 “특정 식품의 코로나19 예방 또는 치료 효과를 확인하려면 사람 대상의 연구가 수반돼야 한다”며 “잘 통제된 사람 대상의 연구 결과가 발표되면 그 이후에 공유할 만한 효능인지를 검토하는 것이 적절해보인다”는 공식 입장을 내놨다. 질병청은 이어 “해당 연구는 바이러스 자체에 제품을 처리해서 얻은 결과로, 인체에 바이러스가 있을 때 이를 제거하는 기전을 검증한 것이 아니라서 실제 효과가 있을지를 예상하기가 어렵다”고 재차 강조했다. 통상 바이오 업계에서 인체에 대한 효능을 여러 차례 임상시험을 거쳐 입증하는 것을 생각하면 이해하기 쉽다. 남양유업은 이날 보도자료에서 이런 내용을 언급하지 않았다. 이날 내내 횡보하던 남양유업의 주가는 남양유업의 보도자료 배포에 장 마감 30분 전에 급등하며 전날보다 8.57% 오른 38만원에 거래를 마감했다. 이날 남양유업은 발표에서 투자자가 오해하지 않도록 임상시험 등의 중요성을 강조하지 않았다는 점에서 자본시장법상 불공정거래(사기적 부정거래) 혐의도 배제하기 어렵다. ‘타인에게 오해를 유발시키지 않기 위해 필요한 중요사항의 기재 또는 표시가 누락된 문서 등으로 재산상의 이익을 얻고자 하는 행위’에 대해서 자본시장법은 불공정거래 중 하나인 부정거래로 규정한다. 박수지 서혜미 기자 suji@hani.co.kr\n",
            "----------------------------------------------------------------------------------------------------\n",
            "요약: 맞아요. 미국·일본·호주·인도가 중국을 견제하기 위해 모인 건데요. 모이기 시작한 배경을 살짝 짚어보자면:\n",
            "원문:  미국이 본격적인 중국 포위 작전을 시작한다. 중국과 껄끄러운 관계인 일본ㆍ호주ㆍ인도와 함께하는 4개국 안보협의체 ‘쿼드(Quad)’ 정상회의 12일(현지시간) 개최가 시발점이 될 것으로 보인다. 군사와 경제 분야를 중심으로 미국이 거세게 중국을 몰아세우는 모양새다. 젠 사키 백악관 대변인은 9일 정례 브리핑에서 “조 바이든 대통령이 12일 오전 스가 요시히데 일본 총리, 나렌드라 모디 인도 총리, 스콧 모리슨 호주 총리 등 쿼드 카운터파트와 화상으로 만날 것”이라며 “쿼드는 실무 및 외교장관 차원에서 정기적으로 회의를 했지만 12일은 정상 차원의 첫 회의가 될 것”이라고 밝혔다. 지난달 18일 쿼드 외교장관회의에 이어 급을 높여 4개국 정상이 중국 견제에 한목소리를 내겠다는 얘기다. 2019년 도널드 트럼프 행정부 당시 재출범한 쿼드에서 정상회의가 열리는 것은 이번이 처음이다. 게다가 바이든 대통령 취임 50여일 만에 이뤄지는 정상회의다. 그만큼 속도전으로 중국을 압박하는 셈이다.  백악관은 첫 쿼드 정상회의에서 신종 코로나바이러스 감염증(코로나19) 위협, 경제협력, 기후위기 등이 논의된다고 설명했다. 하지만 미국이 ‘자유롭고 개방적인 인도ㆍ태평양’을 강조하고 남중국해와 대만해협 등에서 ‘항행의 자유’를 앞세우는 상황이라 군사안보 의제도 논의될 가능성이 크다. 미국과 인도가 인도양에서 갖던 말라바르 훈련에 호주와 일본이 가세하는 등 쿼드는 최근 안보 측면이 강조되고 있다. 미 CNN은 “북대서양조약기구(NATO)와 같은 공식 군사동맹은 아니지만 쿼드는 아시아·태평양지역에서 중국의 영향력 증대 및 공격성에 대한 잠재적 균형추로 간주되고 있다”라고 해석했다.  미국의 중국 압박은 숨가쁠 정도로 강도가 거세지고 있다. 바이든 대통령은 지난 1월 취임 이후 중국에 계속 각을 세워 왔다. 첫 다자외교 자리였던 지난달 19일 G7(주요 7개국) 정상회의와 뮌헨안보회의 연설에서 “우리는 중국과의 장기적 전략 경쟁을 위해 함께 준비해야 한다”고 밝혔다. 지난 3일 공개한 ‘국가안보전략 중간 지침’에선 중국을 미국의 유일한 경쟁자로 지목했고, 미국의 외교수장 토니 블링컨 국무장관은 중국을 ‘21세기 가장 큰 지정학 시험대’로 규정했다.  경제 분야에서도 미국은 다양한 공세를 이어가고 있다. 바이든 대통령은 지난달 24일 반도체ㆍ전기차용 배터리ㆍ희토류ㆍ의약품 등 중국이 카드로 쓸 수 있는 4대 핵심 품목 공급망 점검 행정명령을 내리기도 했다. 트럼프 행정부에서 진행된 미중 무역전쟁 관세 부과 조처도 해제할 생각이 없다. 필립 데이비드슨 미군 인도태평양사령관은 이날 상원 군사위원회에서 “그것(쿼드)은 민주주의의 다이아몬드”라며 “쿼드는 단순한 방어나 안보 재조정을 넘어 국제 경제, 통신이나 5G(5세대 통신) 같은 핵심 기술, 국제질서 협력을 다룰 수 있을 것”이라고 밝혔다. 다만 중국 경제 의존이 큰 호주, 인도의 경우 미국이나 일본보다 쿼드 결합도가 낮을 것이라는 예상도 나온다.  \n",
            "----------------------------------------------------------------------------------------------------\n",
            "요약: 원전을 폐쇄하는 이유 중에 ‘앞으로 운영하기에 경제성이 떨어진다’는 게 있었는데요. 이후 이 결정의 근거가 된 보고서에 문제가 있다는 의혹이 나왔어요: “그 보고서는 조작된 것이다!” 국회는 감사원에 조사를 요구했고요. \n",
            "원문: viewer 최근 경제성 평가조작 의혹 사건과 관련해 검찰 수사를 받고 있는 월성 원전 1호기 전경. 감사원은 지난달 말 월성 1호기의 조기 폐쇄를 결정하는 과정에서 경제성이 불합리하게 낮게 평가됐다는 감사 결과를 내놓았다. /연합뉴스     월성 원자력발전소 1호기 조기 폐쇄 의혹에 대한 검찰 수사 결과가 문재인 정부의 탈(脫)원전 정책의 향배를 가를 것으로 보인다. 검찰은 일단 감사원 감사 결과를 토대로 원전 경제성 평가 조작 의혹을 철저히 수사해 정책 집행 및 감사 과정에서 공무원 등 관계자의 형사법 위반 여부를 따져보겠다는 각오로 임하고 있다. 감사원의 솜방망이 처벌을 넘어 수사와 재판 단계에서 과연 어느 수준의 사법적 책임을 물을지 주목된다. 이 때문에 원전 관계자와 공직사회는 물론 여야 정치권까지 긴장하며 수사 상황을 주시하고 있다. 검찰은 ‘원전 정책의 당부(當否·옳고 그름)’는 수사 대상이 아니라고 밝혔지만 수사 결과에 따라 정책 타당성 논란으로 번질 수밖에 없다. 검찰 수사의 핵심 쟁점은 월성 1호기의 경제성 평가가 조작됐는지 여부와 공무원들의 자료 파기를 비롯한 증거인멸 혐의를 어떻게 입증하고 이들을 어떻게 처벌할지에 맞춰져 있다. 이와 맞물려 여권이 방어막으로 동원한 ‘통치행위’에 대한 논란도 관전 포인트다.  viewer   ◇경제성 평가 조작 의혹  경제성 평가 조작 의혹은 감사원의 감사 결과 발표 이후에도 계속 제기되고 있다. 무엇보다 핵심 근거로 활용된 경제성 평가보고서가 뒤바뀐 과정이 석연치 않다. 윤영석 국민의힘 의원이 17일 공개한 삼덕회계법인의 경제성 평가보고서에 따르면 월성 1호기를 계속 가동할 경우 2018년 5월 초안에서는 경제성이 1,778억6,000만원으로 예상됐다. 그러나 한 달 후 최종 보고서에서는 224억1,700만원으로 쪼그라들었다. 월성 1호기 이용률을 70%에서 60%로 낮추고 전기 판매단가를 kwh당 60원76전에서 48원78전으로 낮추는 등 8개 항목의 수치를 조기 폐쇄에 유리하도록 바꿔 경제성을 1,554억원이나 줄였다는 것이다. 감사원도 한국수력원자력에서 전기 판매단가를 낮춰 잡는 방법으로 원전 계속 가동 때의 추정 수익을 줄여 경제성이 불합리하게 낮게 평가됐다는 결론을 내렸다.  주목되는 점은 검찰의 직권남용죄 적용 여부다. 관련 공무원들이 회계법인과의 회합을 통해 원전 이용률과 전기 판매단가 등을 조작하도록 압력을 넣은 정황들이 제시됐기 때문이다. 회계법인 안팎에서는 “정부가 원하는 결과에 맞추기 위한 작업이 돼버린 것 같아 씁쓸하다”는 얘기가 나왔을 정도다. 형법 제123조에서 직권남용권리행사방해죄는 ‘공무원이 직권을 남용해 타인으로 하여금 의무 없는 일을 하게 하거나 권리 행사를 방해하는 것’으로 규정돼 있다. 공무원이 직권을 남용한 경우 5년 이하 징역 또는 1,000만원 이하 벌금형에 처하게 돼 있다. 현 정부 출범 초 과거 정부를 공격할 때 동원했던 직권남용죄가 부메랑이 된 셈이다. 감사원은 관련자를 직권남용죄로 고발하는 방안을 논의했지만 ‘부당 개입’으로 보기 어렵다고 판단하는 선에서 마무리했다. 검찰이 직권남용의 구체적인 정황을 입증해야 할 숙제를 떠안은 셈이다.  감사원은 또 2018년 6월 한수원 이사회에 참석한 비상임이사들로부터 외부에서 경제성 평가에 개입한 사실을 미리 알았다면 조기 폐쇄를 결정하지 않았을 것이라는 진술을 확보했다고 한다. 만약 한수원이 이사회에 허위정보를 제공했다면 위계에 의한 업무방해죄가 적용될 수 있다. 이사회 개최를 앞두고 이사회 의장을 교체한 것도 의혹을 키우고 있다. 의장 직무대행을 맡았던 조성진 비상임이사를 제치고 다른 비상임이사에게 의장을 맡겨 이사회 의결을 주도하도록 했다는 것이다. 한수원 이사회가 조기 폐쇄를 결정하는 과정에서 경제성 평가 문제조차 제대로 검토하지 않았다는 주장도 있다. 이런 의혹도 검찰이 철저히 검증해야 할 쟁점이다.    ◇증거인멸 의혹  감사원 보고서에는 산업부 공무원들이 일요일 심야에 사무실로 몰래 들어가 무려 444건의 파일을 삭제하는 등 조직적으로 증거를 인멸하고 감사를 방해했다는 의혹이 기록돼 있다. 이 과정에서 감사원 감사관과의 면담을 앞두고 산업부 담당 공무원들에게 컴퓨터에 저장된 월성 1호기 관련 문서는 물론 e메일·휴대폰 등 모든 매체에 저장된 관련 자료를 삭제하라는 지시까지 내려졌다. 공무원들은 감사관과의 면담에서 “제대로 지워야 한다는 말에 원래 내용을 알아볼 수 없도록 파일명 등을 수정하고 다시 저장한 뒤 삭제하는 방법까지 동원했다”고 실토했다. 삭제할 자료가 너무 많아 여러 파일을 동시에 없애거나 폴더 자체를 삭제했다는 증언도 나왔다. 최재형 감사원장이 “이런 심한 감사 방해 사례는 처음 본다”고 토로한 이유다. 심지어 백운규 당시 산업부 장관이 월성 1호기 가동 연장의 필요성을 보고한 과장급 공무원에게 “너 죽을래”라고 말했다는 주장도 나왔으나 백 전 장관은 그런 표현을 쓴 적이 없다고 반박했다. 이에 대해 최 감사원장은 국회 답변에서 “(당시 장관이 과장을) 강하게 질책했다”고만 밝혔다. 법조계에 따르면 자료 삭제는 형법상 증거인멸, 공공기관기록물관리법 위반, 감사원 감사 방해죄 등에 해당할 수 있다.  관련 공무원들이 국가의 주요 시설인 원전의 경제성을 조작해 조기 폐쇄하는 바람에 국고 손실을 초래했다는 주장도 나온다. 한수원은 2009년 월성1호기의 운전기간을 10년 연장하겠다며 계속 운전을 신청하고 7,000억원의 개보수 비용까지 투입해 설계수명을 10년 더 늘렸다. 박기철 전 한수원 이사는 “월성 1호기 폐쇄는 수조원의 국가 재산 손실을 낳았다”면서 “만약 경제성이 없다는 이유로 폐쇄하는 것이 타당하다면 엄청난 비용과 인력을 낭비한 당시 경영진에게 배임죄를 물어야 할 것”이라고 비판했다. 감사원은 ‘한수원 이사회가 사적 이익을 취득하지 않았고 재산상 손해를 가할 의사가 없었다’며 업무상 배임죄에 해당하지 않는다고 판단했다. 하지만 에너지정책 합리화를 추구하는 교수협의회는 “안전하게 가동해 경제성도 챙길 수 있는 월성 1호기를 조기 폐쇄한 것은 업무상 배임죄나 다름없다”고 반박했다.  ◇통치행위 논란  법적 책임과 정책 타당성 문제는 통치행위 논란으로 이어지고 있다. 양이원영 더불어민주당 의원은 12일 국회에서 “월성 1호기 조기 폐쇄는 대통령의 정당한 통치행위”라며 “고도의 정치적 결단이 필요한 문제에 대해서는 사법심사가 제한돼야 한다”고 주장했다. 윤건영 민주당 의원도 “월성 1호기 폐쇄는 대선 공약으로 문재인 대통령 당선을 통해 국민으로부터 ‘추진해도 좋다’는 승인을 받았다”고 말했다. 대통령이 공약으로 내세워 다수의 지지를 받아 당선된 만큼 정책의 타당성 여부는 감사나 수사의 대상이 될 수 없다는 논리이다. 하지만 선거에서 승리한 후보의 공약을 ‘국민의 명령’이라며 무조건 실행해야 한다는 주장은 온당치 못하다는 게 대다수 헌법학자들의 견해다. 게다가 문 대통령은 77.2%의 유권자가 투표에 참여한 지난 대선에서 41.08%의 지지율을 기록했을 뿐이다. 또 수치까지 조작하는 불법적 방식으로 수조원이 들어가는 대규모 사업의 추진 여부를 결정한 잘못이 있다면 이를 ‘통치행위론’으로 덮을 수 없다. 국가 백년대계와 관련된 탈원전정책 추진 여부는 반드시 합법적인 국민 공론화 과정을 통해 안전성과 경제성 등을 종합적으로 검토한 뒤 합리적으로 결정해야 한다. 법 절차를 무시하고 정책을 밀어붙이면서 발생한 예산 낭비와 에너지정책 혼선에 대해서는 법적 책임을 묻지 않을 수 없다. 지성우 성균관대 법학전문대학원 교수는 “월성 1호기는 국가의 중요한 변란과 관련된 통치행위로 보기 어렵다”면서 “설령 통치행위로 인정하더라도 국민의 기본권과 직결돼 있어 헌법재판소의 결정에 따라 분명히 사법심사의 대상”이라고 못 박았다.  /정상범 논설위원 ssang@sedaily.com < 저작권자 ⓒ 서울경제, 무단 전재 및 재배포 금지 >\n",
            "----------------------------------------------------------------------------------------------------\n",
            "요약: 국회 본회의에서 법안 하나를 두고 4일 동안 무제한 토론(=필리버스터)을 해서 국회의원들 잇몸이 바짝 말랐다고. 결국 법안은 13일에 토론이 강제로 종료된 뒤 통과됐어요. \n",
            "원문: 국회 본회의.  © News1 신웅수 기자  국회는 13일 본회의를 열고 대공수사권 이관을 골자로 하는 국가정보원(국정원)법 개정안을 의결했다.  이날 국회 본회의에 상정된 개정안은 재석 의원 187명 가운데 찬성 187명으로 가결됐다.  개정안은 국정원의 대공수사권을 타 기관에 이관하되 시행 시기를 3년 유예하는 내용을 담았다.  또 국정원의 국내 정부 수집을 금지하기 위해 국정원 직무 범위에서 국내보안정보, 대공, 대정부전복 등 불명확한 개념을 삭제하고 직무 범위를 국외 및 북한에 관한 정보, 사이버안보와 위성자산 정보 등의 수집·작성·배포 등으로 규정했다.  이외에도 개정안은 국정원의 정치개입 근절을 목표로 정치 관여의 우려가 있는 정보 등을 수집·분석하기 위한 조직 설치를 금지하고 특정 정당이나 정치단체·정치인을 위한 기업의 자금 이용 행위를 금지했다.  한편 지난 10일 국민의힘은 국정원법 개정안에 대한 필리버스터(무제한 토론)를 시작했으나, 이날 오후 8시44분 재석 186명 중 180명 찬성으로 무제한 토론 종결의 건이 가결돼 종료됐다.   serendipity@news1.kr\n",
            "----------------------------------------------------------------------------------------------------\n",
            "요약: 기밀유지를 해야 하는 정보나 사건수사, 나랏일 등을 할 때 직접 쓰이는 경비예요 💰. 어떻게 썼는지 밝힐 필요도 없고 어디에 썼는지 공개도 안 돼서 ‘검은 예산’이라고도 불러요. 그렇다 보니 문제가 없진 않은데요. 2017년에는 국정원이 자기 몫의 특활비를 청와대에 준다는 의혹이 나와 당시 국회의장이 국회 특활비를 폐지하자고 공개 발언하기도 했어요. 이후 2019년엔 국회의 특활비를 2018년에 비해 84.4% 줄인 바 있고요. 하지만 국가의 중요한 일을 할 때 쓰이는 돈이라 함부로 줄이거나 없애선 안 된다는 이야기도 나와요.\n",
            "원문: 추미애 법무부장관은 지난 5일 국회 법제사법위원회 전체회의에서 검찰의 특수활동비 집행과 관련한 의혹을 제기했다. 더불어민주당은 윤석열 검찰총장이 특활비를 정치 자금으로 활용하는 것 아니냐는 의혹을 제기했다. 연합뉴스 “윤석열 검찰총장이 특수활동비를 주머닛돈처럼 쓰고 있다. 루프홀(loophole·제도적 허점)이 있다.” 추미애 법무부 장관이 지난 5일 국회 법제사법위원회 전체회의에서 윤석열 검찰총장을 거론하며 ‘주머닛돈’ 의혹을 제기한 이후 특수활동비(특활비) 논란이 이슈화되고 있다. 더불어민주당은 “대선 후보(윤 총장)가 영수증 없이 현금 84억원을 집행한다는 게 있을 수 있는 일이냐”며 날을 세우는 반면, 야당은 “윤석열 찍어내기에 혈안 된 민주당의 비약”(김도읍 국민의힘 의원)이라고 방어하는 모양새다. 이와 관련해 국회 법사위 소속 여야 위원은 9일 대검찰청을 방문해 대검과 법무부의 특활비 사용 내역에 대한 검증에 나섰다. 은밀한 수사·정보활동 위한 특활비 특활비는 “기밀유지가 요구되는 정보 및 사건수사, 기타 이에 준하는 국정 수행 활동에 직접 소요되는 경비”(기획재정부 예산집행지침)를 뜻한다. 2021년도 예산안에 책정된 정부 특활비는 2378억원으로 올해(2531억원)보다 153억원 줄었다. 하지만 특활비에서 명칭만 바꿔 운용하는 국가정보원의 안보비(7460억원)를 더하면 내년 특활비 규모는 9838억원으로 올해(9431억원)보다 오히려 늘어난다. 최순실 국정농단 의혹 사건을 수사한 특별검사팀은 박근혜 정부에서 국정원이 매년 10억원 가량의 특활비를 청와대에 상납했다는 수사 결론을 내리고 이병기·남재준·이병호(왼쪽부터) 전 국정원장 등을 기소했다. [연합뉴스] 국정원은 2017년 말 국정원의 청와대 특활비 상납 논란이 불거지자 특활비 명칭을 안보비로 바꿨다. 안보비 집행과 관련한 근거 서류를 남기는 식의 지침도 만들었지만, 실제 집행 결과는 외부에 공개하지 않는 기밀로 해 관련 전문가들 사이에선 “명칭만 바꾸었지 여전히 깜깜이 돈”이라는 지적이 나온다. 국방부 1144억, 청와대 157억원 책정  연도별 예산안에 담긴 특수활동비 내역. 그래픽=차준홍 기자 cha.junhong@joongang.co.kr 국회와 기획재정부 등에 따르면 국정원을 제외하면 정부 부처 중 국방부가 1144억원으로 가장 많은 특활비를 배정받았다. 청와대는 대통령 비서실·경호처와 국가안보실 등에 157억원의 특활비가 책정됐다. 추미애 장관의 의혹 제기로 논란이 된 검찰 특활비의 경우 법무부에 책정된 154억원 중 일정 금액을 재배정받는다. 홍남기 경제부총리는 9일 국회 예산결산특별위원회 전체회의에서 “법무부의 특활비는 대개 검찰에서 사용한다”고 말했다. 특활비는 깜깜이 돈인 탓에 과거부터 때마다 논란이 계속됐다. 특히 2002년 5483억원이었던 특활비는 노무현 정부에서 매년 규모가 늘어 2007년 8137억원에 달했다. 2007년 5월 당시 김성호 법무부 장관은 부산시의회 의장 등과의 식사 비용을 특활비로 지불한 것이 뒤늦게 드러나 이를 개인 돈으로 다시 메꾸기도 했다. ADVERTISEMENT ADVERTISEMENT 2015년엔 신계륜 전 새정치민주연합(민주당 전신) 의원이 국회 상임위원장으로 활동하며 받은 특활비를 자녀 유학 자금으로 사용한 사실이 드러나는 일도 있었다. 같은 해 홍준표 의원 역시 2008년 국회 운영위원장 시절 특활비 일부를 생활비 명목으로 아내에게 건넸다고 말해 논란이 일었다. 이와 관련해 민주당의 한 중진 의원은 “특활비 불법 사용 문제가 전면에 등장하기 전인 3~4년 전만 해도 여야 원내대표는 매달 2000~3000만 원을, 상임위원장은 500~800만 원의 특활비를 받곤 했는데, 대부분 식사비로 썼지만 사용내역을 증빙하지 않아도 된다는 점 때문에 사적으로 유용한 경우가 심심치 않았다”고 말했다. \"특활비 폐지\"의 명과 암 유인태 전 국회 사무총장은 문희상 국회의장이 '특활비 폐지'를 선언한 것과 2018년 8월 기자회견을 열고 \"당해년도 특활비는 최소 집행한 뒤 나머지는 반납하겠다. 내년도 예산안에도 특활비를 대폭 감축해 편성하겠다\"고 밝혔다. 중앙포토 2017년 국정원 청와대 특활비 상납 의혹이 커지자 이듬해 7월 당시 문희상 당시 국회의장은 “대명천지에 깜깜한 돈, 쌈짓돈이 있어서는 안 된다. 국회 특활비 폐지를 추진하겠다”고 공개 발언했다. 이후 여야는 국회의장단 몫 일부를 제외한 특활비를 폐지하기로 합의했고, 그 결과 2018년 62억7200만 원이었던 특활비는 2019년도 예산안엔 9억8000만 원으로 84.4% 줄었다. 2020년에도 9억8000만 원으로 같은 수준이 유지됐다. 특활비 축소에 대해 긍정적 평가만 있는 건 아니다. 국회에서도 특활비 폐지로 인해 부작용을 지적하는 목소리가 나와서다. 식사 자리나 비공개 대화 창구가 크게 줄었다는 것이다. 실제로 정치권에선 2018년부터는 정치적 이해관계가 엇갈리는 쟁점 사안에 대해 여야 간 이견을 좁히는 창구였던 ‘식사 회동’이 눈에 띄게 줄었다는 의견이 많다. 이에 부작용을 감수하며 특활비를 무작정 터부시하기보단 집행내역을 세밀하게 관리하는 게 중요하다는 목소리 역시 만만치 않다. 특활비 상납 논란이 일어난 지 3년밖에 지나지 않았음에도 국정원 안보비가 증가할 수밖에 없는 게 현실이라면, 관리 실태가 ‘깜깜이’인 현실이 더 문제 아니냐는 문제 인식이다. 국회 한 정보위원은 “기밀을 이유로 집행내역을 비공개한다 하더라도 내부적으론 언제든 검증할 수 있도록 증빙 절차를 강화해야 한다. 특활비가 검은돈이란 국민적 의혹을 없애려면 근거나 증빙 없이는 한 푼도 쓸 수 없다는 마음가짐이어야 한다”고 강조했다. 정진우·김홍범 기자 dino87@joongang.co.kr\n",
            "----------------------------------------------------------------------------------------------------\n",
            "요약: 빚내서 투자: ‘동학개미’라는 단어가 생길 정도로 개인이 주식에 많이 투자하고 있어요. 코로나19 터진 이후 주가가 계속 상승세라 빚까지 내 투자하고 있다고 📈. \n",
            "원문: <앵커>  올해 3월에 코로나 충격으로 각국 증시가 바닥을 친 뒤, 증시가 연일 상승세입니다. 이른바 동학 개미로 불리는 개인 투자자들이 우리 증시를 끌어올렸다는 분석입니다. 하지만 빚을 진 무리한 투자는 조심해야 한다는 목소리가 나옵니다.  유덕기 기자입니다.  <기자>  30대 김 모 씨는 지난 상반기부터 주식 투자를 시작했습니다.  [김모 씨/개인 주식투자자 : 돈을 은행에 넣어도 얼마 벌지도 못하는데… (주식투자 수익이) 은행 이율보다 낫겠다 이런생각이 드니까….]  지난 3월 코로나19 충격으로 1,460선 아래로 추락했던 코스피 지수는 지난주 종가 기준으로 지난 3월 폭락 저점 대비, 64% 넘게 상승하는 등 반년 사이 상승세를 지속하고 있습니다.  이런 국내 증시의 회복과 선전에는 재테크 수단으로 주식을 선택한 개인투자자가 크게 한몫을 했습니다.  증시대기자금인 투자자예탁금은 지난 2월 말 기준 31조였는데, 이달 초 60조를 넘겨 반년 사이 두 배 가까이 증가했습니다.  문제는 상승장세가 이어지다 보니 자금 여력이 없는데도 빚을 내 투자하는 이른바 '빚투'가 늘고 있다는 겁니다.  [김모 씨/개인 주식투자자 : (주변에서는) 마이너스 통장이랑 신용대출로 다 돈을 끌어다가 상장에 참여하더라고요. 저 같은 경우엔 신용대출로….]  폭증한 신용대출 가운데 상당 부분의 사용처가 주식투자일 거라는 추정이 나오는 가운데, 주식투자 위해 개인이 증권사로부터 빌린 돈은 지난 3월에 비해 3배 가까이 뛰어 17조 2천억 원에 육박했습니다.  [김영익/서강대 경제학부 교수 : 결국, 장기적으로 주가는 경기하고 같이 가거든요. (현재) 주가 하고 경기지표하고 괴리가 너무 벌어졌어요.]  코로나19 장기화와 미·중 무역분쟁 등으로 앞으로 경제상황이 불안정한 만큼, 합리적이고 장기적인 투자가 필요하다는 지적이 나옵니다.  (영상편집 : 오노영, CG : 류상수·최지원) \n",
            "----------------------------------------------------------------------------------------------------\n",
            "요약: + 그런데 가장 최근 한 조사에서는 대통령을 긍정적으로 평가하는 사람들이 늘었어요. 아이러니하게도 국민들 관심이 코로나19에 집중되면서 대통령의 다른 잘못(예: 가족 비리 의혹)이 잘 보이지 않는 덕분인 것 같다고. 하지만 상황이 워낙 안 좋아, 돌아선 민심을 잡기는 힘들 거라는 게 많은 전문가의 의견이에요.\n",
            "원문: 김재순 기자 기자 페이지 코로나19 대응 실패로 부정적 평가 여전히 우세…반정부 시위도 변수 (상파울루=연합뉴스) 김재순 특파원 = 정국 혼란과 신종 코로나바이러스 감염증(코로나19) 사태를 거치면서 계속됐던 자이르 보우소나루 브라질 대통령 행정부에 대한 지지율 하락세가 주춤하는 모습을 보이고 있다. 13일(현지시간) 브라질 여론조사업체 이페스피(Ipespe)에 따르면 지난 9∼11일 사흘간 1천명을 대상으로 진행한 조사(오차범위 ±3.2%포인트) 결과, 보우소나루 대통령 정부의 국정 수행 평가는 긍정적 28%·부정적 48%로 나왔다. 지난달 조사와 비교하면 긍정적 평가는 26%에서 28%로 2%포인트 높아졌고, 부정적 평가는 49%에서 48%로 1%포인트 낮아졌다. 자이르 보우소나루 대통령 보우소나루 대통령 정부에 대한 여론의 평가가 소폭 개선된 것으로 나타났다. [국영 뉴스통신 아젠시아 브라질] 보우소나루 대통령의 잔여 임기에 대한 전망은 긍정적 29%·부정적 46%로 나타났다. 5월 조사 결과와 비교해 긍정적 전망치는 27%에서 2%포인트 올랐고, 부정적 전망치는 48%에서 2%포인트 내려갔다. 지난해 초에 취임한 보우소나루 대통령의 임기는 2022년 말까지다. 보우소나루 대통령과 정부에 대한 여론의 평가는 '권력형 부패 수사의 상징'으로 일컬어지는 세르지우 모루 전 법무부 장관이 대통령의 직권남용을 주장하며 사임하고 코로나19 피해가 늘어나면서 빠르게 악화했다. 이런 분위기 속에 지난 4월부터 보우소나루 정부의 국정 수행에 대한 긍정적 평가가 처음으로 30% 아래로 떨어지면서 위기가 본격화했다. 상파울루시에서 벌어진 반 보우소나루 시위 브라질에서 매주 주말마다 보우소나루 대통령 퇴진과 민주주의 수호를 촉구하는 시위가 벌어질 예정이다. [브라질 뉴스포털 UOL] 전문가들은 보우소나루 대통령을 비판하는 시위가 계속되는 데다 코로나19 피해가 급확산하고 있어 여론이 다시 악화할 수 있다고 지적했다. 브라질에서는 지난달 31일부터 전국의 주요 도시에서 보우소나루 대통령 퇴진을 촉구하고 민주주의 수호를 주장하는 시위가 벌어지고 있다. '우리는 민주주의'라는 이름을 내건 시위 지도부는 매주 주말마다 시위를 벌이겠다고 밝혔으며, 시위에는 다양한 분야의 시민단체와 좌파 정당, 프로축구팀 서포터스들이 참여할 것으로 알려졌다. 세계보건기구(WHO)가 브라질의 코로나19 피해 증가세에 우려를 나타낸 가운데 확진자와 사망자는 미국에 이어 전 세계에서 두 번째로 많아졌다. fidelis21c@yna.co.kr <저작권자(c) 연합뉴스, 무단 전재-재배포 금지> 2020/06/14 05:36 송고\n",
            "----------------------------------------------------------------------------------------------------\n",
            "요약: 이후 스페이스X는 발사&재활용을 매달 적금 붓듯이 하고 있어요. 하지만 인공위성을 쏘거나, ‘무인’ 우주선만을 운영하며 우주정거장에 물품을 보내는 용도로 썼죠. 그러던 중 스페이스X의 성과를 눈여겨보던 미국항공우주국(NASA)이 연락을 합니다. 📞 “우리 우주왕복선 못 쏜 지 오래됐는데 너네 남는 자리 있니? 우리 비행사 좀 태워줘” 그 뒤 준비 기간을 거쳐 5월 31일, 우주선 ‘크루 드래건’을 성공적으로 발사해 역사의 한 페이지를 장식합니다. 페이지에 적힌 내용 많지만, 2개만 골라본다면:\n",
            "원문: 30일 오후 3시22분(한국시각 31일 오전 4시22분) 팰컨9 로켓에 실려 이륙하는 최초의 민간 유인 우주선 ‘크루 드래건’. 크루 드래건은 터치스크린 방식으로 기기를 작동한다. 스페이스엑스 제공 30일 오후 3시22분(한국시각 31일 오전 4시22분) 팰컨9 로켓에 실려 이륙하는 최초의 민간 유인 우주선 ‘크루 드래건’. 웹방송 갈무리 민간 유인 우주선 시대가 열렸다. 1961년 옛소련이 우주비행사 유리 가가린을 태운 최초의 유인 우주선 보스토크를 쏜 지 60년만이다. 미국 억만장자 기업인 일론 머스크가 이끄는 우주개발업체 스페이스엑스는 30일 오후 3시22분(미 동부시각 기준, 한국시각 31일 오전 4시22분) 미 플로리다주 케이프커내버럴공군기지 케네디우주센터에서 유인 우주선 `크루 드래건'을 팰컨9 로켓에 실어 국제우주정거장을 향해 쏘아 올렸다. 우주선에는 미국항공우주국(나사)의 우주비행사 더그 헐리(53)와 밥 벤켄(49)이 탑승했다. 이날 팰컨9 로켓이 이륙한 39A 발사대는 달 여행을 한 아폴로 우주선을 쏘아올렸던 장소다. 우주선은 19시간 뒤인 31일 오전 10시29분(한국시각 31일 오후 11시29분) 우주정거장에 도착한다. 이날 발사 현장에는 도널드 트럼프 대통령과 마이크 펜스 부통령도 참석해 역사적인 순간을 지켜봤다. ‘뉴욕타임스’는 이날 발사에 대해 “코로나 바이러스와 경제적 불확실성, 정치적 갈등으로 미국의 앞날이 흐릿한 시점에서 과학, 기술 혁신, 민간 기업에서 미국의 탁월한 존재감을 상기시켜주는, 성취감과 향수를 자극하는 순간”이라고 의미를 부여했다. 발사 9분30초 후 대서양 해상 바지선으로 팰컨9 1단계 추진체. 오른쪽은 우주선 내부 모습. 웹방송 갈무리 팰컨9 로켓 1단계 추진체는 발사 2분40초 후 고도 80km 상공에서 2단 로켓에서 분리한 뒤 9분30초 후 플로리다 인근 대서양 해상의 바지선에 안착했다. 이로써 스페이스엑스는 52번째로 1단계 추진체를 회수하는 기록을 세웠다. 발사 12분 후에는 우주선이 2단 로켓에서 분리됐다. `데모2'(Demo-2)라는 이름이 붙은 이번 비행은 애초 27일 시작할 예정이었으나 기상악화로 한 차례 연기한 바 있다. 케네디우주센터 39A 발사대에서 대기중인 팰컨9 로켓과 유인 우주선 ‘크루 드래건’. 스페이스엑스 제공 크루 드래건은 인류가 만든 9번째 유인 우주선이자 첫번째 민간 유인 우주선이다. 미국으로선 머큐리, 제미니, 아폴로, 우주왕복선에 이은 나사의 다섯번째 유인 우주선이다. 이전의 유인 우주선들은 모두 정부가 소유권과 운영권을 쥐고 기업에 주문제작해 왔다. 하지만 크루 드래건은 스페이스엑스가 독자적으로 개발한 말 그대로 민간 우주선이다. 이는 과거 온 나라가 총력을 기울여 개발한 것을 이제는 민간 기업 한 곳이 해냈다는 의미를 담고 있다. 지금까지 유인 우주선을 개발한 나라는 미국과 러시아(보스토크, 보스호트, 소유즈), 중국(선저우) 세 나라뿐이다. 9년만에 미국땅에서 미국인 우주비행사 태운 미국산 우주선 발사 미국으로선 9년만에 미국인 우주비행사를 미국산 우주선에 태워 미국땅에서 발사했다는 의미도 있다. 미국 우주비행사들은 2011년 우주왕복선 아틀란티스가 퇴역한 이후 러시아의 소유즈 우주선을 빌려 타고 있다. 이번 비행을 성공적으로 마치게 되면 미국은 러시아에 의존하지 않고 다시 독자적으로 우주비행 프로그램을 추진할 수 있게 된다. 이날 우주선이 발진한 39A 발사대는 우주왕복선 아틀란티스가 마지막 우주비행을 위해 출발했던 곳이기도 하다. 이날 발사는 스페이스엑스의 홍보용 이벤트도 겸해 진행됐다. 두 우주비행사는 테슬라의 SUV 전기차 모델엑스를 타고 우주선 탑승장에 도착했다. 두 우주비행사는 코로나19 감염에 따른 비행 차질이 없도록 지난 3월 중순 이후 사실상 격리 상태로 지내왔다. 지난 13일부터는 더욱 엄격한 격리 상태를 유지해 왔다. 두 사람은 2000년에 나란히 우주비행사로 데뷔했다. 사령관을 맡은 헐리는 683시간, 벤켄은 708시간의 우주비행 기록을 갖고 있다. 헐리는 2011년 아틀란티스의 마지막 비행에서 우주왕복선 조종을 맡았다. 최초의 민간 유인 우주선 크루 드래건에 탑승한 밥 벤켄(왼쪽)과 더그 헐리. 스페이스엑스 제공 역대 가장 저렴한 유인 우주선…아폴로의 20분의1 크루 드래건은 높이 8.1미터, 너비 4미터의 총알 모양 우주선이다. 정규 탑승인원은 4명이지만, 최대 7명까지 탈 수 있다. 이 우주선이 이전 우주선과 다른 점은 크게 두 가지다. 하나는 스위치나 버튼 대신 터치스크린으로 기기를 작동시킨다는 점이다. 디지털 혁신의 결과다. 다른 하나는 비상탈출 시스템이다. `슈퍼 드래코'라는 이름의 이 시스템은 우주선 벽에 부착된 작은 추진장치로, 로켓에서 비상 사태가 발생할 경우 8개의 엔진을 가동시켜 우주선을 로켓에서 즉각 분리시킨다. 이는 두 차례 폭발 사망 사고를 겪은 우주왕복선의 전철을 밟지 않기 위해 나사가 주문한 필수 장치다. 나사는 스페이스엑스에 사망사고 확률을 우주왕복선의 90분의1보다 훨씬 강화된 270분의1로 낮춰줄 것을 요구했다. 또 하나 눈에 띄는 특징은 우주복이다. 기존 우주복에 비해 훨씬 가볍고 슬림해졌다. 단 이 우주복을 입고 우주 유영을 할 수는 없으며 실내용이다. 헬멧은 3D프린팅 기술로 제작했다. 과거 두차례씩 우주왕복선을 탄 경험이 있는 두 우주비행사는 지난 1일 기자회견에서 “크루 드래건이 우주왕복선보다 덜 위험하다고 느껴졌다”고 말했다. 앞서 나사는 지난 2014년 새로운 유인 우주선 개발 업체로 스페이스엑스와 보잉을 선정하고, 이들 업체와 각각 6차례 국제우주정거장 왕복비행을 하는 조건으로 26억달러, 49억달러에 계약을 맺은 바 있다. 나사가 민간 우주선을 쓰기로 한 가장 큰 이유는 비용 절감이다. 크루 드래건은 역대 가장 값싼 우주선이다. 민간 우주탐사기구인 플래니터리 소사이어티 분석에 따르면, 크루 드래건의 개발 비용은 17억달러다. 현재 달러 가치로 따져 300억달러가 넘었던 아폴로 우주선의 거의 20분의1이다. 우주비행사 1인당 이용 요금도 6천만달러로, 소유즈를 빌려 타는 데 드는 8천만달러보다 훨씬 싸다. 크루 드래건이 국제우주정거장과 도킹하는 순간 상상도. 스페이스엑스 제공 1~4개월 도킹 뒤 지구 귀환…성공땐 하반기 정식 임무 투입 우주선은 시속 2만7360km의 속도로 날아가 우주정거장과 도킹한다. 현재 국제우주정거장에는 63차 원정대 우주비행사 3인(러시아 2, 미국 1)이 체류 중이다. 크루 드래건의 최대 도킹 기간은 119일이다. 나사는 우주비행사들의 지구 귀환 시기를 도킹 후 6주~16주 사이에서 추후 결정할 계획이다. 우주 임무를 마친 뒤 지구로 돌아오는 방법은 아폴로 우주선과 같다. 네 개의 커다란 낙하산을 펼쳐 속도를 줄이며 플로리다주 인근 대서양 해상에 안착할 예정이다. 이번 우주비행은 크루 드래건이 정식 유인 우주선으로 인정받기 위한 마지막 시험비행이다. 스페이스엑스는 이번 비행에 성공하고 나면 올 하반기에 첫 정식 국제우주정거장 왕복비행 임무(크루1)에 나선다. 나사와의 총 6차례 우주비행 계약 중 첫번째가 될 이 비행에는 나사 우주비행사 3인(마이클 홉킨스, 빅터 글로버, 섀넌 워커)과 일본인 우주비행사 노구치 소이치가 탑승한다. 현재 첫 임무 수행을 위해 최장 210일 동안 우주에서 활동할 수 있는 우주선을 제작중이다. 나사는 스페이스엑스의 우주선 비행에 차질이 생길 경우를 대비해, 예비용으로 러시아 소유즈 우주선 이용 계약도 마쳤다. 우주정거장을 떠난 우주선 ‘크루 드래건’이 낙하산을 펼치고 대서양 해상으로 돌아오는 모습 상상도. 유튜브 갈무리 재활용 가능한 로켓이 강점…최고 기록은 5번 발사 2002년 설립된 스페이스엑스는 회사 역사 20년도 안돼 세계 최대의 우주로켓 발사 업체가 됐다. 수차례의 실패 끝에 2010년 팰컨9 로켓 발사에 성공한 이후 이번 발사를 포함해 지금까지 모두 87회(팰컨9, 팰컨헤비 합계) 로켓 발사에 성공했다. 스페이스엑스 로켓의 가장 큰 장점은 재활용이 가능하다는 점이다. 총 발사 횟수의 절반이 넘는 52회에 걸쳐 로켓을 해상 바지선이나 육상 기지로 회수했으며, 회수한 로켓을 다시 쏜 횟수도 35차례나 된다. 한 로켓을 4번 회수해 5번 발사한 기록도 갖고 있다. 스페이스엑스의 화물 우주선 ‘드래건’은 나사 우주비행사들을 위한 보급품을 싣고 2012년부터 지금까지 21차례 우주정거장을 다녀왔다. 현재 나사의 우주 로켓 발사 가운데 3분의2를 스페이스엑스가 맡아 처리한다. 캘리포니아 호손에 있는 스페이스엑스 본사. 위키미디어 코먼스 2021년 우주여행…2024년 최초 민간 달 착륙선에도 도전 스페이스엑스는 2021년엔 크루 드래건을 이용한 우주여행도 계획하고 있다. 이어 지구 저궤도를 넘어 심우주에도 도전한다. 우선 2022년에는 새로 개발한 대형 로켓 팰컨헤비로 화성과 목성 사이의 소행성 ‘16프시케’(16 Psyche)를 탐사할 우주선 프시케를 발사한다. 이어 2024년에는 달 착륙선 발사를 목표로 하고 있다. 나사는 최근 스페이스엑스를 비롯한 3개 업체를 달 착륙선 개발 후보 업체로 선정했다. 달 탐사에 사용할 우주선 일체형 로켓 스타십은 높이가 120미터로 아폴로 우주선을 실어날랐던 새턴5보다 크다 경쟁업체인 보잉은 유인 우주선 `CST-100' 스타라이너를 개발중이다. 애초 지난해 12월 첫 시험 궤도비행에 나섰으나 궤도 진입에 실패했다. 올 하반기에 다시 시험비행을 추진할 것으로 전해졌다. 스페이스엑스의 로켓 이름 `팰컨'은 영화 `스타워즈'에 등장하는 우주비행선 밀레니엄 팰컨( Millennium Falcon)에서, 우주선 이름 `드래건'은 1963년 피터 폴 앤 매리의 노래 `Puff, the Magic Dragon'(마법의 용 퍼프)에서 따왔다. 곽노필 선임기자 nopil@hani.co.kr, ▶곽노필의 미래창 바로가기\n",
            "----------------------------------------------------------------------------------------------------\n",
            "요약:  + 미국 캘리포니아에서 17살 한국인이 의료보험이 없어 치료받지 못하고 사망했다는 뉴스, 혹시 보셨나요? 이는 사실이 아닌 걸로 밝혀졌어요. 코로나19에 감염된 건 맞지만, 의료보험은 가입돼 있었고 치료를 받기 위해 응급실로 이동하다 사망한 거라고.\n",
            "원문: 미국에서 의료보험이 없다는 이유로 긴급 치료를 거부당해 결국 숨졌다가 코로나 바이러스 감염증 양성 판정을 받은 10대는 한인인 것으로 드러났다. 이 환자는 미국 내에서 코로나 감염증으로 사망한 최초의 미성년자로 추정된다. 지난 18일(현지 시각) 코로나 바이러스 감염증으로 숨진 윌리엄 황(17)군 30일 영국 더선 등에 따르면 지난 18일(현지 시각) 숨진 윌리엄 황(17)군의 사망기록에는 그의 인종이 '한국계(KOREAN)'로 표기돼 있다. 황군은 사후에 코로나 감염증 양성 판정을 받았다. 그러나 구체적 사인(死因)에 대해서는 '추가 조사가 진행 중'인 것으로 명시돼 있다. 영국 더선이 공개한 윌리엄 황의 사망기록. 황군의 인종은 한국인으로 나와있고, 사인에 대해서는 조사 중이라고 기재돼있다. 황군은 응급치료 시설에 갔으나, 의료보험이 없다는 이유로 치료를 거부당했다. 이후 공공병원인 앤털로프밸리병원 응급실로 이동하다가 심장마비가 왔고, 6시간에 걸쳐 소생술을 받았으나 결국 사망했다. 렉스 패리스 캘리포니아주 랭커스터 시장은 유튜브를 통해 \"황군이 병원에 도착했을 때는 '너무 늦은' 시점이었다\"고 했다. 황군의 사망 원인은 패혈성 쇼크로 추정된다고 더선은 보도했다. 코로나 감염증은 패혈증을 일으킬 수 있는 것으로 알려져 있다. 황군은 사후에 코로나 감염증 확진 판정을 받았다. 패리스 시장은 \"황군이 며칠 동안 아팠지만, 기저질환은 없었다\"며 “(이번 사건을 통해) 호흡 곤란이 있거나 열이 난다면 지체없이 병원 치료를 받아야 한다는 것을 알게 됐다”고 말했다. LA카운티는 지난 24일 브리핑에서 코로나 감염증으로 사망한 10대 환자가 최초로 발생했다고 발표했다. 다만 유가족은 이 환자가 황군이라는 사실을 전혀 몰랐다고 한다. 지난주 초 장례식까지 치렀다고 한다. 패리스 시장은 더선에 \"유가족은 황군이 뉴스에 나오는 소년이라는 사실을 몰랐다\"며 \"코로나 감염증에 대해서도 몰랐고, 장례식에서 조문객들과 악수를 나눴다\"고 말했다. 황군의 부친은 코로나 감염증 검사를 받으려 했으나, '자가격리를 하라'는 말만 들었다고 패리스 시장은 덧붙였다. 패리스 시장은 \"황군이 (코로나 감염증) 검사를 받을 수 있는 유일한 기회는 그가 세상을 떠난 뒤였다\"고 했다. 하지만 미 질병통제예방센터(CDC)는 아직 황군을 코로나 관련 사망자로 공식 분류하지 않고 있다. 방역 당국은 \"황군이 양성 판정을 받았지만 이 사례는 복잡해서 추가 조사가 필요하다\"며 밝혔다\n",
            "----------------------------------------------------------------------------------------------------\n",
            "요약: + 도와줘요, 국민연금 🔊코로나19로 불안해하는 사람들이 주식을 팔며 국내 주식 시장이 위태로운 와중에, 국민연금이 이번에 번 돈을 보태 국내 주식을 더 사들이지 않을까 기대하는 의견도 있어요. 미중무역분쟁이나 일본 수출규제로 국내 증시가 떨어졌을 때, 국민연금이 비슷한 역할을 했었고요.\n",
            "원문: 김기훈 기자 기자 페이지 올 10조8천억원 늘어 작년 최고 수준 넘어…공매도 출회 주의해야 대차거래 잔고 추이(2020년 2월 24일 기준)[한국예탁결제원 세이브로 제공] (서울=연합뉴스) 김기훈 기자 = 올해 들어 주식시장에서 대차거래 잔고가 급증하며 21개월 만에 최고 수준을 기록했다. 신종코로나 바이러스 감염증(코로나19) 사태가 장기화하자 하락장을 예상하는 투자자가 늘어난 것으로 풀이된다. 26일 한국예탁결제원 증권정보포털 세이브로에 따르면 이달 24일 현재 대차거래 잔고 금액은 58조2천450억원으로 지난 2018년 5월 말(61조7천493억원) 이후 약 21개월 만에 최고를 기록했다. 이는 지난해 연말(47조4천76억원)과 비교하면 10조8천374억원(22.86%) 늘어난 것이다. 또 지난해 8월의 대차거래 잔고 연중 최고기록(58조2천68억원)을 넘어선 수준이다. 8월을 정점으로 점차 줄며 연말 50조원 아래로 떨어졌던 대차거래 잔고는 새해 들어 브이(V)자형으로 반등하고 있다. 대차거래 잔고 주식 수도 증가세다. 이달 24일 현재 잔고 주식 수는 22억7천251만주로 지난해 연말(19억6천60만주)보다 15.91% 늘었다. 종목별로 대차거래 잔고 금액은 삼성전자[005930]가 7조3천931억원으로 가장 많았다. 이어 셀트리온[068270](3조4천53억원), SK하이닉스[000660](2조5천578억원) 순이었다. 대차거래는 차입자가 기관투자자 등에게 일정한 수수료와 담보물을 지불하고 주식을 빌린 뒤 추후 대여자에게 같은 주식을 상환하기로 하는 거래를 말한다. 대차거래 잔고는 투자자가 주식을 빌린 뒤 갚지 않은 물량으로, 공매도의 선행지표로 통한다. 공매도 투자자는 대차거래를 이용해 미리 주식을 빌려 판 뒤, 주가가 하락하면 싼값에 사들여 갚기 때문이다. 대차잔고가 늘었다는 것은 주가 하락을 전망하는 투자자가 많아졌다는 의미로도 풀이된다. 새해 들어 반도체주를 중심으로 강한 상승세를 이어가던 국내 주식시장은 코로나19의 급격한 확산이라는 복병을 만나 상승세가 꺾였다. 특히 대구·경북을 중심으로 확진자가 급속히 늘자 정부는 지난 23일 코로나19 위기 경보 단계를 '경계'에서 최고 수준인 '심각'으로 상향했다. 이튿날 코스피는 무려 3.87%나 폭락했다. 코로나19 확산으로 경기 둔화에 대한 우려와 함께 주식시장에 대한 비관적 인식도 늘고 있는 것으로 풀이된다. 다만 대차 물량 중 일부는 주가연계증권(ETF) 거래 설정 등의 용도로도 쓰이는 만큼 대차잔고가 늘었다고 모든 물량이 공매도로 이어지는 것은 아니다. kihun@yna.co.kr <저작권자(c) 연합뉴스, 무단 전재-재배포 금지> 2020/02/26 06:47 송고\n",
            "----------------------------------------------------------------------------------------------------\n",
            "요약: 💛 정의네 가게: 청년들, 여기 여기 붙어라! 만 20살이 되면 3000만 원씩 주고, 전세·월세 사는 청년들이 안정적으로 살 수 있도록 지원하겠대요.\n",
            "원문: 정의당이 총선 1호 공약으로 국가가 만 20세가 되는 모든 청년에게 3000만원을 지급하는 '청년기초자산'을 발표했다. 사회생활을 시작하는 출발선에서 최소한의 공정성을 담보하기 위함이라는 이유에서다. 그러나 시행 시 내년부터 소요될 예산은 약 18조원인데 이를 상속증여세, 종합부동산세 인상으로 충당하고 부유세를 신설하겠다고해 비판의 목소리가 나온다.  9일 정의당은 국회에서 기자회견을 열고 만 20세가 되는 모든 청년에게 각 3000만 원의 출발자산을 국가가 제공하고, 양육시설 퇴소자 등 부모 없는 청년에게는 최고 5000만원까지 기초자산을 지급하는 '청년기초자산'을 총선 1호 공약으로 발표했다. 이는 심상정 대표가 대선후보 시절 내세웠던 공약인 '1000만원 청년사회상속세'의 연장이자 확장판이다.  정의당은 현 사회가 계층이동이 어려워진 '전근대적 세습사회'가 됐고 세대 간 자산 불평등뿐만 아니라 같은 세대 내에서의 불평등도 해소해야하기 때문에 이 같은 공약을 내세웠다고 설명했다.  금액을 3000만~5000만원으로 정한 이유에 대해선 '대학 4년 교육비를 감당할 수 있거나, 주거 임대보증금과 2년 정도의 임대료가 준비되어 있거나, 아니면 학자금 대출 등 부채상환을 할 수 있거나, 초기 창업자금을 마련할 수 있을 정도가 돼야하기 때문'이라고 설명했다.  이를 위해 많게는 한 해(2021년) 18조 원의 예산이 필요할 전망이다. 이는 지난해 기준으로 산업·중소기업·에너지 예산(18조8000억원), SOC 예산(19조8000억원), R&D 예산(20조5000억원)과 맞먹는 규모다.  재원 마련 방안으로는 자산 불평등을 해소하기 위함이기 때문에 '자산'에서 발생하는 세금을 수입원으로 하겠다고 특정했다. 상속증여세와 종합부동산세 인상분 등을 주된 재원으로 할 것이라고 했다. 또한 추후에 부유세를 신설하겠다고도 했다.   이에 대해 표를 의식한 포퓰리즘이며 재정건전성도 악화시킬 것이라는 비판의 목소리가 나온다. 신율 명지대 정치외교학과 교수는 \"표는 더 얻을 수 있겠지만 실현가능성이 희박한 급진적인 공약\"이라고 말했다. 또한 \"재정 여력을 판단하는 가장 중요한 기준은 현재의 경제성장률이어야하는데 지금 같은 상황에서 이 같은 공약은 재정건전성을 크게 악화시킬 것\"이라고 밝혔다.  한편 정의당은 포퓰리즘 논란을 의식한 듯 예상되는 비판에 대해 선제적으로 반박했다. 심 대표는 \"일부 보수언론과 자유한국당 등에서는 선거철에 등장하는 흔한 포퓰리즘 공약으로 비난하고 있다\"며 \"그런 비난 따위는 아랑곳하지 않겠다. 좋은 포퓰리즘이다\"라고 말했다.  [이석희 기자] [ⓒ 매일경제 & mk.co.kr, 무단전재 및 재배포 금지]\n",
            "----------------------------------------------------------------------------------------------------\n",
            "요약: 퀴즈! 한국과 경제적으로 협력하는 나라는? 저 멀리 미국이나 유럽도 정답이지만 아주 가까이에 있는 친구, ‘아세안 ASEAN’이 있어요. 어제까지 3일간 부산에서는 올해 들어 국내에서 열리는 가장 큰 규모의 정상회의, ‘한·아세안 특별정상회의’가 열렸어요.아세안? 들어는 봤는데... 뭐더라?동남아시아 10개 나라가 뭉친 공동체예요. 유럽에 EU가 있다면, 🌏 아시아에는 ASEAN(아세안)이 있는 거죠. 화폐를 통합한 EU만큼 뭉치진 못했지만, 1967년부터 함께 모여 으쌰으쌰 목소리를 키워왔어요. 지금은 세계에서 6번째로 경제 규모가 크고, 인구 6억 5000만 명 규모의 큰 시장을 가지고 있습니다.\n",
            "원문: 세계무대서 정치안보·경제 입지 강화 포석…구심점 부재·구속력 한계 (쿠알라룸푸르=연합뉴스) 김문성 특파원 = 아시아판 유럽연합(EU)을 지향하는 동남아국가연합(아세안) 공동체의 출범이 초읽기에 들어갔다. 아세안 10개 회원국이 연말에 닻을 올리는 아세안 공동체는 정치·안보, 경제, 사회·문화 등 3개 축으로 이뤄져 있다. 갈수록 복잡해지고 치열해지는 국제 정치·경제 역학 구도에서 동남아 국가들을 단일 공동체로 묶는 생존 및 발전 전략의 결과물이다. 아세안이 1967년 지역협력을 모색하기 위해 창설된 지 48년 만에, 2003년 아세안 공동체 설립 추진에 합의한 지 12년 만이다. 그러나 아직은 선언적 성격의 통합에 가깝다. 아세안 공동체가 EU와 달리 구속력과 결속력이 약하고 회원국 간에 정치, 경제, 사회 등 여러 면에서 이질성이 강해 실질적인 통합에는 많은 어려움과 시간이 뒤따를 것으로 전망된다. 아세안 공동체 출범은 세계 경제와 정치·안보 지형에서 동남아 국가들의 입지를 다지는 기반을 마련한다는 점에 의미를 둘 수 있다. 회원국 상당수가 저개발국으로 안보와 경제가 취약하고 일부는 정치마저 불안한 상황에서 10개 회원국을 통합, 성장을 극대화하고 강대국들의 틈바구니에서 안보와 안정을 확보할 수 있는 공동 전선을 만든 것이다. 아세안이 그동안 정치·안보, 경제, 사회·문화 등 부문별 통합에 필요한 조치를 이행했다고 밝혔지만 공동체가 출범한다고 해서 곧바로 눈에 띄는 변화를 기대하기는 어렵다. 회원국들이 단일화된 법적, 제도적 틀을 만든 것이 아니기 때문이다. 그동안 어떤 조치를 취했고 앞으로 어떤 정책을 펴며 어떻게 제도를 개선할지 구체적인 정보도 공개돼 있지 않다. 공동체라는 이름을 내세웠지만 여전히 협력체 수준에 머물고 있다는 평가를 받는다. EU와 비교하면 명확히 드러난다. EU는 회원국들의 조약으로 출범해 각료이사회와 유럽의회, 유럽중앙은행 등 통합의 구심점과 운영 기구를 두고 있다. 단일 통화도 쓰고 있다. 반면 아세안 공동체는 이런 것 없이 회원국들의 합의로만 이뤄졌다. 단일 통화를 도입할 계획도 없다. 외교장관 회의를 비롯한 각 분야 장관급 회의, 정상회의 등을 통해 현안을 논의하고 이견을 조절, 공동 정책을 수립·시행하는 방식을 선택하고 있다. 강제력과 신속한 정책 집행, 현안 대응에 한계가 있을 수밖에 없다. 예컨대 국경을 넘나드는 범죄, 재난, 부패에 대해서는 각국이 적극적으로 협력하며 공동 대응을 강화한다는 정도다. 교류 확대를 위한 회원국 간 자유로운 인력 이동 역시 의료, 회계 등 일부 전문직 종사자로 제한하는 등 사회 통합의 장벽도 여전하다. 중국과의 남중국해 영유권 분쟁 사태를 놓고 회원국 간의 갈등을 표출한 데서 보듯이 첨예한 이해관계가 얽힌 사안을 제대로 해결할 수 없는 구조적 문제도 안고 있다. 각자의 경제·안보 이익을 고려해 필리핀은 중국을 견제하려는 미국과 손잡은 반면 캄보디아는 분쟁 당사자 간 해결 원칙을 내세운 중국을 적극적으로 지지하는 입장이다. 말레이시아 말라야대학의 잣스완 싱 교수는 지난달 한국동남아연구소 주최로 열린 '2015 아세안 포럼'에서 아세안의 다양한 정치 시스템, 회원국 내정 비개입 원칙 등을 아세안 통합 도전요인으로 꼽고 \"국가 이익과 지역 이익이 충돌할 때 어떤 정치적 의지가 작용할지가 관건 중의 하나\"라고 말했다. 배기현 서강대 동아연구소 교수는 \"아세안 공동체 출범은 정치·외교적으로 국제사회의 주목을 받으며 입지를 강화하려는 포석이 깔려있다\"고 평가했다. kms1234@yna.co.kr <저작권자(c) 연합뉴스, 무단 전재-재배포 금지> 2015/11/22 11:05 송고\n",
            "----------------------------------------------------------------------------------------------------\n"
          ]
        }
      ]
    },
    {
      "cell_type": "code",
      "metadata": {
        "id": "8WthWJVuqFCb"
      },
      "source": [
        ""
      ],
      "execution_count": null,
      "outputs": []
    }
  ]
}