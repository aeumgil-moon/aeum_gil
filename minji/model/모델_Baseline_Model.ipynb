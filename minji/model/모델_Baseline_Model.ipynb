{
  "nbformat": 4,
  "nbformat_minor": 0,
  "metadata": {
    "colab": {
      "name": "모델_Baseline_Model.ipynb",
      "provenance": []
    },
    "kernelspec": {
      "name": "python3",
      "display_name": "Python 3"
    },
    "language_info": {
      "name": "python"
    },
    "accelerator": "GPU"
  },
  "cells": [
    {
      "cell_type": "markdown",
      "metadata": {
        "id": "odPIEauF7CoZ"
      },
      "source": [
        "# 크롤링한 뉴닉 데이터 분석"
      ]
    },
    {
      "cell_type": "code",
      "metadata": {
        "colab": {
          "base_uri": "https://localhost:8080/"
        },
        "id": "mGgqIVExQ3gp",
        "outputId": "ae582ada-f6c2-4344-e7ff-ab76eeebf090"
      },
      "source": [
        "!nvidia-smi"
      ],
      "execution_count": null,
      "outputs": [
        {
          "output_type": "stream",
          "name": "stdout",
          "text": [
            "Wed Oct 13 06:00:57 2021       \n",
            "+-----------------------------------------------------------------------------+\n",
            "| NVIDIA-SMI 470.74       Driver Version: 460.32.03    CUDA Version: 11.2     |\n",
            "|-------------------------------+----------------------+----------------------+\n",
            "| GPU  Name        Persistence-M| Bus-Id        Disp.A | Volatile Uncorr. ECC |\n",
            "| Fan  Temp  Perf  Pwr:Usage/Cap|         Memory-Usage | GPU-Util  Compute M. |\n",
            "|                               |                      |               MIG M. |\n",
            "|===============================+======================+======================|\n",
            "|   0  Tesla P100-PCIE...  Off  | 00000000:00:04.0 Off |                    0 |\n",
            "| N/A   37C    P0    25W / 250W |      0MiB / 16280MiB |      0%      Default |\n",
            "|                               |                      |                  N/A |\n",
            "+-------------------------------+----------------------+----------------------+\n",
            "                                                                               \n",
            "+-----------------------------------------------------------------------------+\n",
            "| Processes:                                                                  |\n",
            "|  GPU   GI   CI        PID   Type   Process name                  GPU Memory |\n",
            "|        ID   ID                                                   Usage      |\n",
            "|=============================================================================|\n",
            "|  No running processes found                                                 |\n",
            "+-----------------------------------------------------------------------------+\n"
          ]
        }
      ]
    },
    {
      "cell_type": "code",
      "metadata": {
        "colab": {
          "base_uri": "https://localhost:8080/"
        },
        "id": "9J9tlwNb7G3s",
        "outputId": "2a6edab1-733a-486c-bb74-4ee4b317a887"
      },
      "source": [
        "from google.colab import drive\n",
        "drive.mount('/content/drive')"
      ],
      "execution_count": null,
      "outputs": [
        {
          "output_type": "stream",
          "name": "stdout",
          "text": [
            "Mounted at /content/drive\n"
          ]
        }
      ]
    },
    {
      "cell_type": "code",
      "metadata": {
        "id": "u_lLvBIh7HcX"
      },
      "source": [
        "# 모듈 임포트\n",
        "import os\n",
        "import pandas as pd\n",
        "import matplotlib.pyplot as plt\n",
        "\n",
        "# read csv to pandas dataframe\n",
        "first = pd.read_csv(\"/content/drive/MyDrive/data/newneek/newneek_211002_onlylink.csv\")\n",
        "sample_1 = pd.read_csv(\"/content/drive/MyDrive/data/newneek/newneek_sample.csv\")\n",
        "sample_2 = pd.read_csv(\"/content/drive/MyDrive/data/newneek/newneek_sample_v2.csv\")\n",
        "train = pd.read_csv(\"/content/drive/MyDrive/data/newneek/newneek_211010_full.csv\")\n",
        "test = pd.read_csv(\"/content/drive/MyDrive/data/newneek/dacon_train.csv\")"
      ],
      "execution_count": null,
      "outputs": []
    },
    {
      "cell_type": "code",
      "metadata": {
        "colab": {
          "base_uri": "https://localhost:8080/"
        },
        "id": "cykOhh987IbA",
        "outputId": "f8c658cd-a303-4c58-9b43-64dfcd9a998b"
      },
      "source": [
        "print(first.shape)\n",
        "print(sample_1.shape)\n",
        "print(sample_2.shape)\n",
        "print(train.shape)\n",
        "print(test.shape)"
      ],
      "execution_count": null,
      "outputs": [
        {
          "output_type": "stream",
          "name": "stdout",
          "text": [
            "(2821, 6)\n",
            "(44, 7)\n",
            "(926, 7)\n",
            "(2837, 7)\n",
            "(87075, 2)\n"
          ]
        }
      ]
    },
    {
      "cell_type": "code",
      "metadata": {
        "id": "o93w6O46Crhj"
      },
      "source": [
        "test = test[-100:]"
      ],
      "execution_count": null,
      "outputs": []
    },
    {
      "cell_type": "code",
      "metadata": {
        "colab": {
          "base_uri": "https://localhost:8080/",
          "height": 606
        },
        "id": "1TQr1_217IdZ",
        "outputId": "23ab4e52-847d-4ced-f6c2-a6aeab21a5d9"
      },
      "source": [
        "display(first)"
      ],
      "execution_count": null,
      "outputs": [
        {
          "output_type": "display_data",
          "data": {
            "text/html": [
              "<div>\n",
              "<style scoped>\n",
              "    .dataframe tbody tr th:only-of-type {\n",
              "        vertical-align: middle;\n",
              "    }\n",
              "\n",
              "    .dataframe tbody tr th {\n",
              "        vertical-align: top;\n",
              "    }\n",
              "\n",
              "    .dataframe thead th {\n",
              "        text-align: right;\n",
              "    }\n",
              "</style>\n",
              "<table border=\"1\" class=\"dataframe\">\n",
              "  <thead>\n",
              "    <tr style=\"text-align: right;\">\n",
              "      <th></th>\n",
              "      <th>기사id</th>\n",
              "      <th>카테고리</th>\n",
              "      <th>제목</th>\n",
              "      <th>날짜</th>\n",
              "      <th>요약문</th>\n",
              "      <th>원문</th>\n",
              "    </tr>\n",
              "  </thead>\n",
              "  <tbody>\n",
              "    <tr>\n",
              "      <th>0</th>\n",
              "      <td>0</td>\n",
              "      <td>NaN</td>\n",
              "      <td>기시다 후미오 일본 총리 당선</td>\n",
              "      <td>2021/10/01</td>\n",
              "      <td>미국은 가까이 중국은 멀리: 미국과 계속 친하게 지내고, 중국을 견제하는 데 신경 ...</td>\n",
              "      <td>https://www.yna.co.kr/view/AKR20210929177100083</td>\n",
              "    </tr>\n",
              "    <tr>\n",
              "      <th>1</th>\n",
              "      <td>0</td>\n",
              "      <td>NaN</td>\n",
              "      <td>기시다 후미오 일본 총리 당선</td>\n",
              "      <td>2021/10/01</td>\n",
              "      <td>당장 크게 달라지긴 어려울 것 같아요. 아베 전 총리보다는 갈등을 잘 안 만들려는 ...</td>\n",
              "      <td>https://www.yna.co.kr/view/AKR2021092911590050...</td>\n",
              "    </tr>\n",
              "    <tr>\n",
              "      <th>2</th>\n",
              "      <td>0</td>\n",
              "      <td>NaN</td>\n",
              "      <td>기시다 후미오 일본 총리 당선</td>\n",
              "      <td>2021/10/01</td>\n",
              "      <td>\\n그는 2015년 외무상을 할 때, 박근혜 정부와 맺은 ‘한일 위안부합의’를 이끌...</td>\n",
              "      <td>https://terms.naver.com/entry.naver?docId=5144...</td>\n",
              "    </tr>\n",
              "    <tr>\n",
              "      <th>3</th>\n",
              "      <td>1</td>\n",
              "      <td>코로나19</td>\n",
              "      <td>정부 백신 패스 도입 논의</td>\n",
              "      <td>2021/10/01</td>\n",
              "      <td>“백신 인증서 없으세요? 그럼 못 들어오세요.” 식당 들어갈 때 이런 말을 듣는다면...</td>\n",
              "      <td>https://go.seoul.co.kr/news/newsView.php?id=20...</td>\n",
              "    </tr>\n",
              "    <tr>\n",
              "      <th>4</th>\n",
              "      <td>1</td>\n",
              "      <td>코로나19</td>\n",
              "      <td>정부 백신 패스 도입 논의</td>\n",
              "      <td>2021/10/01</td>\n",
              "      <td>맞아요. 그래서 반대하는 목소리도 있어요 🤔.</td>\n",
              "      <td>https://www.hankookilbo.com/News/Read/A2021092...</td>\n",
              "    </tr>\n",
              "    <tr>\n",
              "      <th>...</th>\n",
              "      <td>...</td>\n",
              "      <td>...</td>\n",
              "      <td>...</td>\n",
              "      <td>...</td>\n",
              "      <td>...</td>\n",
              "      <td>...</td>\n",
              "    </tr>\n",
              "    <tr>\n",
              "      <th>2816</th>\n",
              "      <td>847</td>\n",
              "      <td>세계</td>\n",
              "      <td>재판스토리 in 하버드 ⚖️</td>\n",
              "      <td>2019/10/04</td>\n",
              "      <td>과연 아시아계 미국인들은 '공정하게' 뽑히고 있던 걸까요? 🙄 하버드 대학교의 아시...</td>\n",
              "      <td>https://www.reuters.com/article/us-harvard-adm...</td>\n",
              "    </tr>\n",
              "    <tr>\n",
              "      <th>2817</th>\n",
              "      <td>847</td>\n",
              "      <td>세계</td>\n",
              "      <td>재판스토리 in 하버드 ⚖️</td>\n",
              "      <td>2019/10/04</td>\n",
              "      <td>이번 판은 하버드의 승! 5년 만의 판결에서, 하버드가 일부러 차별한 건 아니라는 ...</td>\n",
              "      <td>https://www.nytimes.com/2018/06/15/us/harvard-...</td>\n",
              "    </tr>\n",
              "    <tr>\n",
              "      <th>2818</th>\n",
              "      <td>847</td>\n",
              "      <td>세계</td>\n",
              "      <td>재판스토리 in 하버드 ⚖️</td>\n",
              "      <td>2019/10/04</td>\n",
              "      <td>+ 🙅 “아시아인들을 이용하지 마!” 처음 SFFA가 소송을 시작했을 때, 하버드의...</td>\n",
              "      <td>https://news.joins.com/article/11775777</td>\n",
              "    </tr>\n",
              "    <tr>\n",
              "      <th>2819</th>\n",
              "      <td>848</td>\n",
              "      <td>세계</td>\n",
              "      <td>가짜뉴스 가만두면 가만 안 둔다!</td>\n",
              "      <td>2019/10/04</td>\n",
              "      <td>며칠 전, 싱가포르 양치기가 블로그에 공유한 뉴스: 늑대가 나타났다! 다음 날 자고...</td>\n",
              "      <td>https://www.yna.co.kr/view/AKR20191002086700076</td>\n",
              "    </tr>\n",
              "    <tr>\n",
              "      <th>2820</th>\n",
              "      <td>848</td>\n",
              "      <td>세계</td>\n",
              "      <td>가짜뉴스 가만두면 가만 안 둔다!</td>\n",
              "      <td>2019/10/04</td>\n",
              "      <td>+ 매년 언론 자유 보고서를 발표하는 ‘국경없는기자회’에 따르면, 올해 싱가포르의 ...</td>\n",
              "      <td>https://ko.wikipedia.org/wiki/언론_자유_지수</td>\n",
              "    </tr>\n",
              "  </tbody>\n",
              "</table>\n",
              "<p>2821 rows × 6 columns</p>\n",
              "</div>"
            ],
            "text/plain": [
              "      기사id  ...                                                 원문\n",
              "0        0  ...    https://www.yna.co.kr/view/AKR20210929177100083\n",
              "1        0  ...  https://www.yna.co.kr/view/AKR2021092911590050...\n",
              "2        0  ...  https://terms.naver.com/entry.naver?docId=5144...\n",
              "3        1  ...  https://go.seoul.co.kr/news/newsView.php?id=20...\n",
              "4        1  ...  https://www.hankookilbo.com/News/Read/A2021092...\n",
              "...    ...  ...                                                ...\n",
              "2816   847  ...  https://www.reuters.com/article/us-harvard-adm...\n",
              "2817   847  ...  https://www.nytimes.com/2018/06/15/us/harvard-...\n",
              "2818   847  ...            https://news.joins.com/article/11775777\n",
              "2819   848  ...    https://www.yna.co.kr/view/AKR20191002086700076\n",
              "2820   848  ...             https://ko.wikipedia.org/wiki/언론_자유_지수\n",
              "\n",
              "[2821 rows x 6 columns]"
            ]
          },
          "metadata": {}
        }
      ]
    },
    {
      "cell_type": "code",
      "metadata": {
        "colab": {
          "base_uri": "https://localhost:8080/",
          "height": 1000
        },
        "id": "_zfPeOfrh2Hp",
        "outputId": "8eb70d8f-8446-42d2-9be5-46dd91caff73"
      },
      "source": [
        "display(train)"
      ],
      "execution_count": null,
      "outputs": [
        {
          "output_type": "display_data",
          "data": {
            "text/html": [
              "<div>\n",
              "<style scoped>\n",
              "    .dataframe tbody tr th:only-of-type {\n",
              "        vertical-align: middle;\n",
              "    }\n",
              "\n",
              "    .dataframe tbody tr th {\n",
              "        vertical-align: top;\n",
              "    }\n",
              "\n",
              "    .dataframe thead th {\n",
              "        text-align: right;\n",
              "    }\n",
              "</style>\n",
              "<table border=\"1\" class=\"dataframe\">\n",
              "  <thead>\n",
              "    <tr style=\"text-align: right;\">\n",
              "      <th></th>\n",
              "      <th>id</th>\n",
              "      <th>category</th>\n",
              "      <th>title</th>\n",
              "      <th>date</th>\n",
              "      <th>summary</th>\n",
              "      <th>original_text</th>\n",
              "      <th>url</th>\n",
              "    </tr>\n",
              "  </thead>\n",
              "  <tbody>\n",
              "    <tr>\n",
              "      <th>0</th>\n",
              "      <td>0</td>\n",
              "      <td>세계</td>\n",
              "      <td>WHO 말라리아 백신 접종 권고</td>\n",
              "      <td>2021/10/08</td>\n",
              "      <td>모기가 옮기는 기생충질환으로 🦟, 감염되면 심한 오한이 들고 열이 나요. 옛날에는 ...</td>\n",
              "      <td>NaN</td>\n",
              "      <td>https://terms.naver.com/entry.naver?cid=51004&amp;...</td>\n",
              "    </tr>\n",
              "    <tr>\n",
              "      <th>1</th>\n",
              "      <td>0</td>\n",
              "      <td>세계</td>\n",
              "      <td>WHO 말라리아 백신 접종 권고</td>\n",
              "      <td>2021/10/08</td>\n",
              "      <td>이유는  말라리아는 기생충이 주범이라, 코로나19처럼 바이러스가 퍼뜨리는 다른 병보...</td>\n",
              "      <td>2019년 11월 말라위의 한 마을 주민들이 말라리아 백신 접종 시범사업에 참여하는...</td>\n",
              "      <td>https://www.hani.co.kr/arti/international/inte...</td>\n",
              "    </tr>\n",
              "    <tr>\n",
              "      <th>2</th>\n",
              "      <td>0</td>\n",
              "      <td>세계</td>\n",
              "      <td>WHO 말라리아 백신 접종 권고</td>\n",
              "      <td>2021/10/08</td>\n",
              "      <td>WHO가 인정했으니 이제 전 세계에 백신을 공급하면 되는데요. 시간은 꽤 걸릴 것 ...</td>\n",
              "      <td>이재영 기자 기자 페이지 1987년 개발된 최초 백신…인류난제 극복 역사적 첫발 한...</td>\n",
              "      <td>https://www.yna.co.kr/view/AKR20211007003551088</td>\n",
              "    </tr>\n",
              "    <tr>\n",
              "      <th>3</th>\n",
              "      <td>1</td>\n",
              "      <td>경제</td>\n",
              "      <td>주식시장 파란불 켜진 이유 (2): 중국발 인플레 공포</td>\n",
              "      <td>2021/10/08</td>\n",
              "      <td>웬만한 제품이나 부품은 중국에서 만들잖아요(=중국 별명 ‘세계의 공장’ 🏭). 만드...</td>\n",
              "      <td>viewer 중국 랴오닝성 선양에 있는 한 석탄화력 발전소의 굴뚝에서 연기가 솟아오...</td>\n",
              "      <td>https://www.sedaily.com/NewsVIew/22SLJJUOUR</td>\n",
              "    </tr>\n",
              "    <tr>\n",
              "      <th>4</th>\n",
              "      <td>1</td>\n",
              "      <td>경제</td>\n",
              "      <td>주식시장 파란불 켜진 이유 (2): 중국발 인플레 공포</td>\n",
              "      <td>2021/10/08</td>\n",
              "      <td>중국은 호주랑 한바탕 싸우면서 ‘너네 석탄 안 사!’ 했어요. 호주가 석탄 수출해서...</td>\n",
              "      <td>전력난으로 중국 남부 광둥성 제조업 거점인 둥관 산업단지에 있는 한 공장에 불이 꺼...</td>\n",
              "      <td>https://www.joongang.co.kr/article/25011772#home</td>\n",
              "    </tr>\n",
              "    <tr>\n",
              "      <th>...</th>\n",
              "      <td>...</td>\n",
              "      <td>...</td>\n",
              "      <td>...</td>\n",
              "      <td>...</td>\n",
              "      <td>...</td>\n",
              "      <td>...</td>\n",
              "      <td>...</td>\n",
              "    </tr>\n",
              "    <tr>\n",
              "      <th>2832</th>\n",
              "      <td>1065</td>\n",
              "      <td>경제</td>\n",
              "      <td>코드명 스튜어드십코드🕵</td>\n",
              "      <td>2019/02/11</td>\n",
              "      <td>국민연금이 거기 왜 끼는데?😮국민연금은 국민의 노후를 보장하기 위해서 주식으로도 돈...</td>\n",
              "      <td>◆ 국민연금, 한진칼 경영참여 ◆   박능후 보건복지부 장관(맨 오른쪽)이 1일 오...</td>\n",
              "      <td>https://www.mk.co.kr/news/economy/view/2019/02...</td>\n",
              "    </tr>\n",
              "    <tr>\n",
              "      <th>2833</th>\n",
              "      <td>1065</td>\n",
              "      <td>경제</td>\n",
              "      <td>코드명 스튜어드십코드🕵</td>\n",
              "      <td>2019/02/11</td>\n",
              "      <td>+ 스튜어드십코드를 바라보는 또다른 관점 : 정치적인 이유로 국민연금의 스튜어드십코...</td>\n",
              "      <td>NaN</td>\n",
              "      <td>http://www.munhwa.com/news/view.html?no=201902...</td>\n",
              "    </tr>\n",
              "    <tr>\n",
              "      <th>2834</th>\n",
              "      <td>1079</td>\n",
              "      <td>세계</td>\n",
              "      <td>사라진 사우디 언론인 🇸🇦</td>\n",
              "      <td>2018/10/15</td>\n",
              "      <td>누가 그를 죽이라고 시켰는데?외신에 따르면, 사우디아라비아 빈살만 왕세자가 시킨 일...</td>\n",
              "      <td>NaN</td>\n",
              "      <td>https://www.washingtonpost.com/world/national-...</td>\n",
              "    </tr>\n",
              "    <tr>\n",
              "      <th>2835</th>\n",
              "      <td>1079</td>\n",
              "      <td>세계</td>\n",
              "      <td>사라진 사우디 언론인 🇸🇦</td>\n",
              "      <td>2018/10/15</td>\n",
              "      <td>+ 하지만 그러기엔 애플워치와 아이폰의 거리가 너무 멀었다며, 사실은 터키 정부가 ...</td>\n",
              "      <td>NaN</td>\n",
              "      <td>https://qz.com/1423401/jamal-khashoggi-the-pla...</td>\n",
              "    </tr>\n",
              "    <tr>\n",
              "      <th>2836</th>\n",
              "      <td>1079</td>\n",
              "      <td>세계</td>\n",
              "      <td>사라진 사우디 언론인 🇸🇦</td>\n",
              "      <td>2018/10/15</td>\n",
              "      <td>+ 이번 달 말 사우디에서 열리는 국제 투자회의 `미래 투자 이니셔티브(FII)’는...</td>\n",
              "      <td>NaN</td>\n",
              "      <td>https://www.hankookilbo.com/News/Read/20181013...</td>\n",
              "    </tr>\n",
              "  </tbody>\n",
              "</table>\n",
              "<p>2837 rows × 7 columns</p>\n",
              "</div>"
            ],
            "text/plain": [
              "        id  ...                                                url\n",
              "0        0  ...  https://terms.naver.com/entry.naver?cid=51004&...\n",
              "1        0  ...  https://www.hani.co.kr/arti/international/inte...\n",
              "2        0  ...    https://www.yna.co.kr/view/AKR20211007003551088\n",
              "3        1  ...        https://www.sedaily.com/NewsVIew/22SLJJUOUR\n",
              "4        1  ...   https://www.joongang.co.kr/article/25011772#home\n",
              "...    ...  ...                                                ...\n",
              "2832  1065  ...  https://www.mk.co.kr/news/economy/view/2019/02...\n",
              "2833  1065  ...  http://www.munhwa.com/news/view.html?no=201902...\n",
              "2834  1079  ...  https://www.washingtonpost.com/world/national-...\n",
              "2835  1079  ...  https://qz.com/1423401/jamal-khashoggi-the-pla...\n",
              "2836  1079  ...  https://www.hankookilbo.com/News/Read/20181013...\n",
              "\n",
              "[2837 rows x 7 columns]"
            ]
          },
          "metadata": {}
        }
      ]
    },
    {
      "cell_type": "code",
      "metadata": {
        "colab": {
          "base_uri": "https://localhost:8080/",
          "height": 289
        },
        "id": "F6avpu1bB5Bs",
        "outputId": "131e1dca-0ff0-4ecd-b6b1-148a526fe9d7"
      },
      "source": [
        "test.head()"
      ],
      "execution_count": null,
      "outputs": [
        {
          "output_type": "execute_result",
          "data": {
            "text/html": [
              "<div>\n",
              "<style scoped>\n",
              "    .dataframe tbody tr th:only-of-type {\n",
              "        vertical-align: middle;\n",
              "    }\n",
              "\n",
              "    .dataframe tbody tr th {\n",
              "        vertical-align: top;\n",
              "    }\n",
              "\n",
              "    .dataframe thead th {\n",
              "        text-align: right;\n",
              "    }\n",
              "</style>\n",
              "<table border=\"1\" class=\"dataframe\">\n",
              "  <thead>\n",
              "    <tr style=\"text-align: right;\">\n",
              "      <th></th>\n",
              "      <th>article_original</th>\n",
              "      <th>abstractive</th>\n",
              "    </tr>\n",
              "  </thead>\n",
              "  <tbody>\n",
              "    <tr>\n",
              "      <th>86975</th>\n",
              "      <td>벤처업계가 52시간 근로제와 관련, 탄력적 근로시간 정산 기간을 기존 3개월에서 1...</td>\n",
              "      <td>벤처업계는 법정 근로시간 관련 법률 개정은 자율적인 벤처기업 문화를 훼손할 우려가 ...</td>\n",
              "    </tr>\n",
              "    <tr>\n",
              "      <th>86976</th>\n",
              "      <td>백승현 기자 류장수 최저임금위원회 위원장이 최저임금 결정체계 개편이 지난해에 공식화...</td>\n",
              "      <td>최저임금 결정체계 개편이 지난해에 공식화되었음에도 불구하고 국회가 입법을 하지 않자...</td>\n",
              "    </tr>\n",
              "    <tr>\n",
              "      <th>86977</th>\n",
              "      <td>르노삼성자동차 직원 사이에서 이런 탄식이 이어지고 있다. 직원들의 우려대로 르노삼성...</td>\n",
              "      <td>직원들의 우려대로 르노삼성은 올해 1분기에 2015년 이후 최악의 판매량으로 떨어졌...</td>\n",
              "    </tr>\n",
              "    <tr>\n",
              "      <th>86978</th>\n",
              "      <td>배태웅 기자 미국에서 헬스베리티, 베릴리 같은 업체가 나올 있는 배경은 개인정보보호...</td>\n",
              "      <td>미국에는 개인정보보호 제도의 기본 원칙이 '사후 동의'이기 때문에 다양한 개인정보가...</td>\n",
              "    </tr>\n",
              "    <tr>\n",
              "      <th>86979</th>\n",
              "      <td>박용만 대한상공회의소 회장은 1일 서울 태평로 한국프레스센터에서 열린 여기자 포럼 ...</td>\n",
              "      <td>박용만 대한상공회의소 회장은 1일 열린 '최근 경제진단과 양해 현안' 강연에서 규제...</td>\n",
              "    </tr>\n",
              "  </tbody>\n",
              "</table>\n",
              "</div>"
            ],
            "text/plain": [
              "                                        article_original                                        abstractive\n",
              "86975  벤처업계가 52시간 근로제와 관련, 탄력적 근로시간 정산 기간을 기존 3개월에서 1...  벤처업계는 법정 근로시간 관련 법률 개정은 자율적인 벤처기업 문화를 훼손할 우려가 ...\n",
              "86976  백승현 기자 류장수 최저임금위원회 위원장이 최저임금 결정체계 개편이 지난해에 공식화...  최저임금 결정체계 개편이 지난해에 공식화되었음에도 불구하고 국회가 입법을 하지 않자...\n",
              "86977  르노삼성자동차 직원 사이에서 이런 탄식이 이어지고 있다. 직원들의 우려대로 르노삼성...  직원들의 우려대로 르노삼성은 올해 1분기에 2015년 이후 최악의 판매량으로 떨어졌...\n",
              "86978  배태웅 기자 미국에서 헬스베리티, 베릴리 같은 업체가 나올 있는 배경은 개인정보보호...  미국에는 개인정보보호 제도의 기본 원칙이 '사후 동의'이기 때문에 다양한 개인정보가...\n",
              "86979  박용만 대한상공회의소 회장은 1일 서울 태평로 한국프레스센터에서 열린 여기자 포럼 ...  박용만 대한상공회의소 회장은 1일 열린 '최근 경제진단과 양해 현안' 강연에서 규제..."
            ]
          },
          "metadata": {},
          "execution_count": 8
        }
      ]
    },
    {
      "cell_type": "code",
      "metadata": {
        "colab": {
          "base_uri": "https://localhost:8080/"
        },
        "id": "dCOrpinnMbnD",
        "outputId": "c3c139d5-9b9c-41dc-ae55-9cb8b11a20d3"
      },
      "source": [
        "train.isnull().sum()"
      ],
      "execution_count": null,
      "outputs": [
        {
          "output_type": "execute_result",
          "data": {
            "text/plain": [
              "id                  0\n",
              "category          423\n",
              "title               0\n",
              "date                0\n",
              "summary             0\n",
              "original_text    1024\n",
              "url                 0\n",
              "dtype: int64"
            ]
          },
          "metadata": {},
          "execution_count": 9
        }
      ]
    },
    {
      "cell_type": "code",
      "metadata": {
        "id": "sipHKNMfLgau"
      },
      "source": [
        "# 결측치 처리\n",
        "train['category'].fillna(0, inplace = True)\n",
        "train.dropna(inplace = True)"
      ],
      "execution_count": null,
      "outputs": []
    },
    {
      "cell_type": "code",
      "metadata": {
        "colab": {
          "base_uri": "https://localhost:8080/"
        },
        "id": "wPya167oFTET",
        "outputId": "007d4d7b-88f6-405c-b7b7-808697bb8c86"
      },
      "source": [
        "# 텍스트 전처리\n",
        "# 이모지 없애기\n",
        "!pip install emoji\n",
        "\n",
        "import emoji\n",
        "import re\n",
        "\n",
        "def give_emoji_free_text(text):\n",
        "    return emoji.get_emoji_regexp().sub(r'', text)\n",
        "\n",
        "def preprocess_text(text):\n",
        "    text = text.replace(u'\\xa0', u' ')  # html 전처리\n",
        "    email = '([a-zA-Z0-9_.+-]+@[a-zA-Z0-9-]+\\.[a-zA-Z0-9-.]+)' # email 전처리\n",
        "    text = re.sub(pattern=email, repl=\" \", string=text)\n",
        "    return text\n",
        "\n",
        "train['title'] = train['title'].apply(give_emoji_free_text)\n",
        "train['title'] = train['title'].apply(preprocess_text)\n",
        "train['summary'] = train['summary'].apply(give_emoji_free_text)\n",
        "train['summary'] = train['summary'].apply(preprocess_text)\n",
        "train['original_text'] = train['original_text'].apply(preprocess_text)"
      ],
      "execution_count": null,
      "outputs": [
        {
          "output_type": "stream",
          "name": "stdout",
          "text": [
            "Requirement already satisfied: emoji in /usr/local/lib/python3.7/dist-packages (1.6.0)\n"
          ]
        }
      ]
    },
    {
      "cell_type": "code",
      "metadata": {
        "colab": {
          "base_uri": "https://localhost:8080/",
          "height": 222
        },
        "id": "_Hwmr70FVVic",
        "outputId": "93a7157a-2f5a-4baa-e024-b5bf96677876"
      },
      "source": [
        "train['original_text'][1]"
      ],
      "execution_count": null,
      "outputs": [
        {
          "output_type": "execute_result",
          "data": {
            "application/vnd.google.colaboratory.intrinsic+json": {
              "type": "string"
            },
            "text/plain": [
              "'2019년 11월 말라위의 한 마을 주민들이 말라리아 백신 접종 시범사업에 참여하는 아이들을 데리고 순서를 기다리고 했다. AP 연합뉴스 세계보건기구(WHO)가 최초로 말라리아 백신 사용을 승인했다. 열대지방을 중심으로 많은 어린이들 목숨을 앗아가는 말라리아에 대한 백신 보급이 연간 수십만명을 살릴 수 있을지 기대된다. <에이피>(AP) 통신은 테워드로스 아드하놈 거브러여수스 세계보건기구 사무총장이 6일 기자회견에서 말라리아 백신 RTS,S의 아프리카 3개국 시범 접종사업이 성공적이었다며 이 백신에 대한 승인을 발표했다고 보도했다. 거브러여수스 사무총장은 “난 말라리아 연구자였으며, 이 오래되고 악랄한 질병에 효과적인 백신을 가질 날을 고대해왔다”며 “오늘은 역사적인 날이다. 세계보건기구는 세계 최초 말라리아 백신의 광범위한 사용을 권장한다”고 말했다. 모스퀴릭스(Mosquirix)로도 불리는 RTS,S 백신은 영국 제약사 글락소스미스클라인이 개발한 제품으로 2019년 시작한 시범 접종사업에서 가나, 케냐, 말라위 어린이 약 80만명에게 접종됐다. 이 사업에서 백신의 말라리아 예방률은 39%, 중증 예방률은 29%로 그리 높지 않은 것으로 나타났다. 하지만 이 백신과 말라리아 치료제를 함께 복용하면 입원율과 사망률이 70% 감소하는 것으로 나타났다. 현재 통용되는 항말라리아제는 예방 목적으로도 사용된다. 거브러여수스 사무총장은 “현존하는 말라리아 예방 수단과 이 백신을 함께 사용하면 매년 수만명의 어린 목숨을 구할 수 있을 것”이라고 했다. 모기가 옮기는 기생충이 증식을 위해 인간 혈액세포를 파괴하는 말라리아는 인류를 괴롭혀온 대표적 질병이다. 이 질병으로 2019년에 40만9천명이 숨졌으며, 이 중 5살 미만이 27만명이다. 그해에 세계적으로 2억2900만건이 발병했는데 94%가 아프리카에서 발생했다. 지난 100년 동안 백신 개발 노력이 이어졌는데도 결과가 더디게 나온 배경에는 박멸이 어려운 말라리아의 특성이 있다. 전문가들은 말라리아는 기생충이 주범이기 때문에 바이러스가 전파하는 다른 질병들보다 더 끈질기고 퇴치가 어렵다고 설명한다. 또 말라리아 기생충은 같은 사람이 여러 번 감염될 정도로 인체의 면역체계를 회피하는 능력이 뛰어나다. 전문가들은 세계보건기구의 이번 승인으로 다른 제약사들의 말라리아 백신 개발도 자극하는 효과가 날 것으로 기대하고 있다. 이본영 기자  '"
            ]
          },
          "metadata": {},
          "execution_count": 13
        }
      ]
    },
    {
      "cell_type": "code",
      "metadata": {
        "colab": {
          "base_uri": "https://localhost:8080/",
          "height": 390
        },
        "id": "bQcM8mM27Ifv",
        "outputId": "33b3c3a7-86e8-48dd-85c1-717af12215c7"
      },
      "source": [
        "train[['id', 'category']].groupby(['category']).count()"
      ],
      "execution_count": null,
      "outputs": [
        {
          "output_type": "execute_result",
          "data": {
            "text/html": [
              "<div>\n",
              "<style scoped>\n",
              "    .dataframe tbody tr th:only-of-type {\n",
              "        vertical-align: middle;\n",
              "    }\n",
              "\n",
              "    .dataframe tbody tr th {\n",
              "        vertical-align: top;\n",
              "    }\n",
              "\n",
              "    .dataframe thead th {\n",
              "        text-align: right;\n",
              "    }\n",
              "</style>\n",
              "<table border=\"1\" class=\"dataframe\">\n",
              "  <thead>\n",
              "    <tr style=\"text-align: right;\">\n",
              "      <th></th>\n",
              "      <th>id</th>\n",
              "    </tr>\n",
              "    <tr>\n",
              "      <th>category</th>\n",
              "      <th></th>\n",
              "    </tr>\n",
              "  </thead>\n",
              "  <tbody>\n",
              "    <tr>\n",
              "      <th>0</th>\n",
              "      <td>252</td>\n",
              "    </tr>\n",
              "    <tr>\n",
              "      <th>경제</th>\n",
              "      <td>203</td>\n",
              "    </tr>\n",
              "    <tr>\n",
              "      <th>국내정치</th>\n",
              "      <td>349</td>\n",
              "    </tr>\n",
              "    <tr>\n",
              "      <th>노동·일</th>\n",
              "      <td>91</td>\n",
              "    </tr>\n",
              "    <tr>\n",
              "      <th>세계</th>\n",
              "      <td>490</td>\n",
              "    </tr>\n",
              "    <tr>\n",
              "      <th>여성</th>\n",
              "      <td>63</td>\n",
              "    </tr>\n",
              "    <tr>\n",
              "      <th>코로나19</th>\n",
              "      <td>198</td>\n",
              "    </tr>\n",
              "    <tr>\n",
              "      <th>테크</th>\n",
              "      <td>73</td>\n",
              "    </tr>\n",
              "    <tr>\n",
              "      <th>피자스테이션</th>\n",
              "      <td>25</td>\n",
              "    </tr>\n",
              "    <tr>\n",
              "      <th>환경</th>\n",
              "      <td>69</td>\n",
              "    </tr>\n",
              "  </tbody>\n",
              "</table>\n",
              "</div>"
            ],
            "text/plain": [
              "           id\n",
              "category     \n",
              "0         252\n",
              "경제        203\n",
              "국내정치      349\n",
              "노동·일       91\n",
              "세계        490\n",
              "여성         63\n",
              "코로나19     198\n",
              "테크         73\n",
              "피자스테이션     25\n",
              "환경         69"
            ]
          },
          "metadata": {},
          "execution_count": 14
        }
      ]
    },
    {
      "cell_type": "code",
      "metadata": {
        "id": "t7kOD-1h7IiJ"
      },
      "source": [
        "ref = []\n",
        "for x in train['url']:\n",
        "    try: ref.append(x.split('/')[2])\n",
        "    except: ref.append('NULL')"
      ],
      "execution_count": null,
      "outputs": []
    },
    {
      "cell_type": "code",
      "metadata": {
        "id": "84pGrzF8kmJu"
      },
      "source": [
        "train['ref'] = ref\n",
        "ref_df = train[['id', 'ref']].groupby(['ref']).count()"
      ],
      "execution_count": null,
      "outputs": []
    },
    {
      "cell_type": "code",
      "metadata": {
        "colab": {
          "base_uri": "https://localhost:8080/",
          "height": 762
        },
        "id": "rBthI13co0ob",
        "outputId": "500af836-429f-4521-a423-c8f13192d9f1"
      },
      "source": [
        "display(ref_df)"
      ],
      "execution_count": null,
      "outputs": [
        {
          "output_type": "display_data",
          "data": {
            "text/html": [
              "<div>\n",
              "<style scoped>\n",
              "    .dataframe tbody tr th:only-of-type {\n",
              "        vertical-align: middle;\n",
              "    }\n",
              "\n",
              "    .dataframe tbody tr th {\n",
              "        vertical-align: top;\n",
              "    }\n",
              "\n",
              "    .dataframe thead th {\n",
              "        text-align: right;\n",
              "    }\n",
              "</style>\n",
              "<table border=\"1\" class=\"dataframe\">\n",
              "  <thead>\n",
              "    <tr style=\"text-align: right;\">\n",
              "      <th></th>\n",
              "      <th>id</th>\n",
              "    </tr>\n",
              "    <tr>\n",
              "      <th>ref</th>\n",
              "      <th></th>\n",
              "    </tr>\n",
              "  </thead>\n",
              "  <tbody>\n",
              "    <tr>\n",
              "      <th>biz.chosun.com</th>\n",
              "      <td>42</td>\n",
              "    </tr>\n",
              "    <tr>\n",
              "      <th>imnews.imbc.com</th>\n",
              "      <td>10</td>\n",
              "    </tr>\n",
              "    <tr>\n",
              "      <th>news.jtbc.joins.com</th>\n",
              "      <td>35</td>\n",
              "    </tr>\n",
              "    <tr>\n",
              "      <th>news.kbs.co.kr</th>\n",
              "      <td>67</td>\n",
              "    </tr>\n",
              "    <tr>\n",
              "      <th>news.mt.co.kr</th>\n",
              "      <td>47</td>\n",
              "    </tr>\n",
              "    <tr>\n",
              "      <th>news.sbs.co.kr</th>\n",
              "      <td>80</td>\n",
              "    </tr>\n",
              "    <tr>\n",
              "      <th>newsis.com</th>\n",
              "      <td>71</td>\n",
              "    </tr>\n",
              "    <tr>\n",
              "      <th>www.chosun.com</th>\n",
              "      <td>86</td>\n",
              "    </tr>\n",
              "    <tr>\n",
              "      <th>www.donga.com</th>\n",
              "      <td>71</td>\n",
              "    </tr>\n",
              "    <tr>\n",
              "      <th>www.hani.co.kr</th>\n",
              "      <td>215</td>\n",
              "    </tr>\n",
              "    <tr>\n",
              "      <th>www.hankookilbo.com</th>\n",
              "      <td>115</td>\n",
              "    </tr>\n",
              "    <tr>\n",
              "      <th>www.hankyung.com</th>\n",
              "      <td>84</td>\n",
              "    </tr>\n",
              "    <tr>\n",
              "      <th>www.joongang.co.kr</th>\n",
              "      <td>240</td>\n",
              "    </tr>\n",
              "    <tr>\n",
              "      <th>www.mk.co.kr</th>\n",
              "      <td>78</td>\n",
              "    </tr>\n",
              "    <tr>\n",
              "      <th>www.news1.kr</th>\n",
              "      <td>84</td>\n",
              "    </tr>\n",
              "    <tr>\n",
              "      <th>www.newsis.com</th>\n",
              "      <td>2</td>\n",
              "    </tr>\n",
              "    <tr>\n",
              "      <th>www.nocutnews.co.kr</th>\n",
              "      <td>42</td>\n",
              "    </tr>\n",
              "    <tr>\n",
              "      <th>www.sedaily.com</th>\n",
              "      <td>23</td>\n",
              "    </tr>\n",
              "    <tr>\n",
              "      <th>www.segye.com</th>\n",
              "      <td>13</td>\n",
              "    </tr>\n",
              "    <tr>\n",
              "      <th>www.seoul.co.kr</th>\n",
              "      <td>40</td>\n",
              "    </tr>\n",
              "    <tr>\n",
              "      <th>www.yna.co.kr</th>\n",
              "      <td>332</td>\n",
              "    </tr>\n",
              "    <tr>\n",
              "      <th>www.ytn.co.kr</th>\n",
              "      <td>36</td>\n",
              "    </tr>\n",
              "  </tbody>\n",
              "</table>\n",
              "</div>"
            ],
            "text/plain": [
              "                      id\n",
              "ref                     \n",
              "biz.chosun.com        42\n",
              "imnews.imbc.com       10\n",
              "news.jtbc.joins.com   35\n",
              "news.kbs.co.kr        67\n",
              "news.mt.co.kr         47\n",
              "news.sbs.co.kr        80\n",
              "newsis.com            71\n",
              "www.chosun.com        86\n",
              "www.donga.com         71\n",
              "www.hani.co.kr       215\n",
              "www.hankookilbo.com  115\n",
              "www.hankyung.com      84\n",
              "www.joongang.co.kr   240\n",
              "www.mk.co.kr          78\n",
              "www.news1.kr          84\n",
              "www.newsis.com         2\n",
              "www.nocutnews.co.kr   42\n",
              "www.sedaily.com       23\n",
              "www.segye.com         13\n",
              "www.seoul.co.kr       40\n",
              "www.yna.co.kr        332\n",
              "www.ytn.co.kr         36"
            ]
          },
          "metadata": {}
        }
      ]
    },
    {
      "cell_type": "code",
      "metadata": {
        "colab": {
          "base_uri": "https://localhost:8080/",
          "height": 414
        },
        "id": "aNiX1SGE_JNP",
        "outputId": "7f6ffa65-1f9d-4bfa-bbc9-cac4dbf28b19"
      },
      "source": [
        "plt.figure(figsize=(20,20))\n",
        "over_15 = ref_df[ref_df['id']>15]\n",
        "over_15.plot(kind='bar')"
      ],
      "execution_count": null,
      "outputs": [
        {
          "output_type": "execute_result",
          "data": {
            "text/plain": [
              "<matplotlib.axes._subplots.AxesSubplot at 0x7faebc632c90>"
            ]
          },
          "metadata": {},
          "execution_count": 19
        },
        {
          "output_type": "display_data",
          "data": {
            "text/plain": [
              "<Figure size 1440x1440 with 0 Axes>"
            ]
          },
          "metadata": {}
        },
        {
          "output_type": "display_data",
          "data": {
            "image/png": "[encoded data removed]",
            "text/plain": [
              "<Figure size 432x288 with 1 Axes>"
            ]
          },
          "metadata": {
            "needs_background": "light"
          }
        }
      ]
    },
    {
      "cell_type": "code",
      "metadata": {
        "id": "MdCB1dVrQ196"
      },
      "source": [
        "train['length'] = [len(str(x)) for x in train['original_text']]"
      ],
      "execution_count": null,
      "outputs": []
    },
    {
      "cell_type": "code",
      "metadata": {
        "colab": {
          "base_uri": "https://localhost:8080/",
          "height": 1000
        },
        "id": "_MO4uNIJQxxA",
        "outputId": "2c2a4d4f-1aaa-4fda-b34b-589578b2537d"
      },
      "source": [
        "display(full)"
      ],
      "execution_count": null,
      "outputs": [
        {
          "output_type": "display_data",
          "data": {
            "text/html": [
              "<div>\n",
              "<style scoped>\n",
              "    .dataframe tbody tr th:only-of-type {\n",
              "        vertical-align: middle;\n",
              "    }\n",
              "\n",
              "    .dataframe tbody tr th {\n",
              "        vertical-align: top;\n",
              "    }\n",
              "\n",
              "    .dataframe thead th {\n",
              "        text-align: right;\n",
              "    }\n",
              "</style>\n",
              "<table border=\"1\" class=\"dataframe\">\n",
              "  <thead>\n",
              "    <tr style=\"text-align: right;\">\n",
              "      <th></th>\n",
              "      <th>id</th>\n",
              "      <th>category</th>\n",
              "      <th>title</th>\n",
              "      <th>date</th>\n",
              "      <th>summary</th>\n",
              "      <th>original_text</th>\n",
              "      <th>url</th>\n",
              "      <th>ref</th>\n",
              "      <th>length</th>\n",
              "    </tr>\n",
              "  </thead>\n",
              "  <tbody>\n",
              "    <tr>\n",
              "      <th>1</th>\n",
              "      <td>0</td>\n",
              "      <td>세계</td>\n",
              "      <td>WHO 말라리아 백신 접종 권고</td>\n",
              "      <td>2021/10/08</td>\n",
              "      <td>이유는  말라리아는 기생충이 주범이라, 코로나19처럼 바이러스가 퍼뜨리는 다른 병보...</td>\n",
              "      <td>2019년 11월 말라위의 한 마을 주민들이 말라리아 백신 접종 시범사업에 참여하는...</td>\n",
              "      <td>https://www.hani.co.kr/arti/international/inte...</td>\n",
              "      <td>www.hani.co.kr</td>\n",
              "      <td>1178</td>\n",
              "    </tr>\n",
              "    <tr>\n",
              "      <th>2</th>\n",
              "      <td>0</td>\n",
              "      <td>세계</td>\n",
              "      <td>WHO 말라리아 백신 접종 권고</td>\n",
              "      <td>2021/10/08</td>\n",
              "      <td>WHO가 인정했으니 이제 전 세계에 백신을 공급하면 되는데요. 시간은 꽤 걸릴 것 ...</td>\n",
              "      <td>이재영 기자 기자 페이지 1987년 개발된 최초 백신…인류난제 극복 역사적 첫발 한...</td>\n",
              "      <td>https://www.yna.co.kr/view/AKR20211007003551088</td>\n",
              "      <td>www.yna.co.kr</td>\n",
              "      <td>2284</td>\n",
              "    </tr>\n",
              "    <tr>\n",
              "      <th>3</th>\n",
              "      <td>1</td>\n",
              "      <td>경제</td>\n",
              "      <td>주식시장 파란불 켜진 이유 (2): 중국발 인플레 공포</td>\n",
              "      <td>2021/10/08</td>\n",
              "      <td>웬만한 제품이나 부품은 중국에서 만들잖아요(=중국 별명 ‘세계의 공장’ ). 만드는...</td>\n",
              "      <td>viewer 중국 랴오닝성 선양에 있는 한 석탄화력 발전소의 굴뚝에서 연기가 솟아오...</td>\n",
              "      <td>https://www.sedaily.com/NewsVIew/22SLJJUOUR</td>\n",
              "      <td>www.sedaily.com</td>\n",
              "      <td>1269</td>\n",
              "    </tr>\n",
              "    <tr>\n",
              "      <th>4</th>\n",
              "      <td>1</td>\n",
              "      <td>경제</td>\n",
              "      <td>주식시장 파란불 켜진 이유 (2): 중국발 인플레 공포</td>\n",
              "      <td>2021/10/08</td>\n",
              "      <td>중국은 호주랑 한바탕 싸우면서 ‘너네 석탄 안 사!’ 했어요. 호주가 석탄 수출해서...</td>\n",
              "      <td>전력난으로 중국 남부 광둥성 제조업 거점인 둥관 산업단지에 있는 한 공장에 불이 꺼...</td>\n",
              "      <td>https://www.joongang.co.kr/article/25011772#home</td>\n",
              "      <td>www.joongang.co.kr</td>\n",
              "      <td>3082</td>\n",
              "    </tr>\n",
              "    <tr>\n",
              "      <th>7</th>\n",
              "      <td>2</td>\n",
              "      <td>국내정치</td>\n",
              "      <td>넷플릭스 인 더 국정감사</td>\n",
              "      <td>2021/10/07</td>\n",
              "      <td>넷플릭스는 지금까지 한국 콘텐츠에 투자를 많이 해왔어요. 우리나라에 진출한 2016...</td>\n",
              "      <td>오징어게임 스틸컷. /사진=넷플릭스 \"넷플릭스를 통해 한국의 콘텐츠는 말 그대로 전...</td>\n",
              "      <td>https://news.mt.co.kr/mtview.php?no=2021092913...</td>\n",
              "      <td>news.mt.co.kr</td>\n",
              "      <td>2838</td>\n",
              "    </tr>\n",
              "    <tr>\n",
              "      <th>...</th>\n",
              "      <td>...</td>\n",
              "      <td>...</td>\n",
              "      <td>...</td>\n",
              "      <td>...</td>\n",
              "      <td>...</td>\n",
              "      <td>...</td>\n",
              "      <td>...</td>\n",
              "      <td>...</td>\n",
              "      <td>...</td>\n",
              "    </tr>\n",
              "    <tr>\n",
              "      <th>2826</th>\n",
              "      <td>1026</td>\n",
              "      <td>세계</td>\n",
              "      <td>파리의 심장이 불탔다</td>\n",
              "      <td>2019/04/17</td>\n",
              "      <td>지금은 불이 꺼졌나?오후 7시쯤 시작된 불길은 지붕의 2/3를 태우고 첨탑까지 무너...</td>\n",
              "      <td>성혜미 기자 기자 페이지 \"센 강이 바로 옆인데\"…목재 구조물, 소방 시스템 미비도...</td>\n",
              "      <td>https://www.yna.co.kr/view/AKR2019041608420000...</td>\n",
              "      <td>www.yna.co.kr</td>\n",
              "      <td>1481</td>\n",
              "    </tr>\n",
              "    <tr>\n",
              "      <th>2828</th>\n",
              "      <td>1037</td>\n",
              "      <td>0</td>\n",
              "      <td>제주 4·3 사건 72주기</td>\n",
              "      <td>2019/04/03</td>\n",
              "      <td>국방부가 72년 만에 ‘제주 4·3사건’ 희생자들에게 애도를 표한대요.</td>\n",
              "      <td>국방부가 군·경의 무력 진압으로 수많은 양민이 희생된 '제주 4·3사건'에 대해 사...</td>\n",
              "      <td>https://news.jtbc.joins.com/article/article.as...</td>\n",
              "      <td>news.jtbc.joins.com</td>\n",
              "      <td>819</td>\n",
              "    </tr>\n",
              "    <tr>\n",
              "      <th>2830</th>\n",
              "      <td>1037</td>\n",
              "      <td>0</td>\n",
              "      <td>제주 4·3 사건 72주기</td>\n",
              "      <td>2019/04/03</td>\n",
              "      <td>50년이 지나도록 진상규명이 이루어지지 않았었는데요. 2000년에야 정부 차원의 진...</td>\n",
              "      <td>노무현 전 대통령과 문재인 대통령. 문재인 대통령이 3일 제주 4·3사건 70주년 ...</td>\n",
              "      <td>https://www.hani.co.kr/arti/politics/politics_...</td>\n",
              "      <td>www.hani.co.kr</td>\n",
              "      <td>276</td>\n",
              "    </tr>\n",
              "    <tr>\n",
              "      <th>2831</th>\n",
              "      <td>1037</td>\n",
              "      <td>0</td>\n",
              "      <td>제주 4·3 사건 72주기</td>\n",
              "      <td>2019/04/03</td>\n",
              "      <td>+ 매해 4월 3일 전후에는 정치권에서 특별법 통과를 약속하는 사람들은 많지만, 진...</td>\n",
              "      <td>제주4·3유족회가 지난달 10일 제주시 관덕정 앞 광장에서 기자회견을 열고 제주4·...</td>\n",
              "      <td>https://www.hani.co.kr/arti/society/area/88823...</td>\n",
              "      <td>www.hani.co.kr</td>\n",
              "      <td>535</td>\n",
              "    </tr>\n",
              "    <tr>\n",
              "      <th>2832</th>\n",
              "      <td>1065</td>\n",
              "      <td>경제</td>\n",
              "      <td>코드명 스튜어드십코드</td>\n",
              "      <td>2019/02/11</td>\n",
              "      <td>국민연금이 거기 왜 끼는데?국민연금은 국민의 노후를 보장하기 위해서 주식으로도 돈을...</td>\n",
              "      <td>◆ 국민연금, 한진칼 경영참여 ◆   박능후 보건복지부 장관(맨 오른쪽)이 1일 오...</td>\n",
              "      <td>https://www.mk.co.kr/news/economy/view/2019/02...</td>\n",
              "      <td>www.mk.co.kr</td>\n",
              "      <td>2458</td>\n",
              "    </tr>\n",
              "  </tbody>\n",
              "</table>\n",
              "<p>1813 rows × 9 columns</p>\n",
              "</div>"
            ],
            "text/plain": [
              "        id category  ...                  ref length\n",
              "1        0       세계  ...       www.hani.co.kr   1178\n",
              "2        0       세계  ...        www.yna.co.kr   2284\n",
              "3        1       경제  ...      www.sedaily.com   1269\n",
              "4        1       경제  ...   www.joongang.co.kr   3082\n",
              "7        2     국내정치  ...        news.mt.co.kr   2838\n",
              "...    ...      ...  ...                  ...    ...\n",
              "2826  1026       세계  ...        www.yna.co.kr   1481\n",
              "2828  1037        0  ...  news.jtbc.joins.com    819\n",
              "2830  1037        0  ...       www.hani.co.kr    276\n",
              "2831  1037        0  ...       www.hani.co.kr    535\n",
              "2832  1065       경제  ...         www.mk.co.kr   2458\n",
              "\n",
              "[1813 rows x 9 columns]"
            ]
          },
          "metadata": {}
        }
      ]
    },
    {
      "cell_type": "code",
      "metadata": {
        "id": "hbcVXRgHCIGM"
      },
      "source": [
        "# Mecab\n",
        "%%capture\n",
        "%%bash\n",
        "apt-get update\n",
        "apt-get install g++ openjdk-8-jdk python-dev python3-dev\n",
        "pip3 install JPype1\n",
        "pip3 install konlpy"
      ],
      "execution_count": null,
      "outputs": []
    },
    {
      "cell_type": "code",
      "metadata": {
        "colab": {
          "base_uri": "https://localhost:8080/"
        },
        "id": "BPsbUs84CIMA",
        "outputId": "81b2b3e7-7dc9-4171-c3d2-c47eb0eff98f"
      },
      "source": [
        "%env JAVA_HOME \"/usr/lib/jvm/java-8-openjdk-amd64\""
      ],
      "execution_count": null,
      "outputs": [
        {
          "output_type": "stream",
          "name": "stdout",
          "text": [
            "env: JAVA_HOME=\"/usr/lib/jvm/java-8-openjdk-amd64\"\n"
          ]
        }
      ]
    },
    {
      "cell_type": "code",
      "metadata": {
        "colab": {
          "base_uri": "https://localhost:8080/"
        },
        "id": "iCz4KrvECIRw",
        "outputId": "58dd0e77-25e7-453f-f8a7-e0d73b7008a7"
      },
      "source": [
        "%%bash\n",
        "bash <(curl -s https://raw.githubusercontent.com/konlpy/konlpy/master/scripts/mecab.sh)\n",
        "pip3 install /tmp/mecab-python-0.996"
      ],
      "execution_count": null,
      "outputs": [
        {
          "output_type": "stream",
          "name": "stdout",
          "text": [
            "mecab-ko is already installed\n",
            "mecab-ko-dic is already installed\n",
            "mecab-python is already installed\n",
            "Done.\n",
            "Processing /tmp/mecab-python-0.996\n",
            "Building wheels for collected packages: mecab-python\n",
            "  Building wheel for mecab-python (setup.py): started\n",
            "  Building wheel for mecab-python (setup.py): finished with status 'done'\n",
            "  Created wheel for mecab-python: filename=mecab_python-0.996_ko_0.9.2-cp37-cp37m-linux_x86_64.whl size=141816 sha256=7efeed45589062dd83c86d06d7f34bd40a4d53b9d362c6e1292fa4487af41cb4\n",
            "  Stored in directory: /root/.cache/pip/wheels/40/7b/9f/2922869bef86c3354ae7034f7a3647c573ee1997c2dad0290a\n",
            "Failed to build mecab-python\n",
            "Installing collected packages: mecab-python\n",
            "  Attempting uninstall: mecab-python\n",
            "    Found existing installation: mecab-python 0.996-ko-0.9.2\n",
            "    Uninstalling mecab-python-0.996-ko-0.9.2:\n",
            "      Successfully uninstalled mecab-python-0.996-ko-0.9.2\n",
            "    Running setup.py install for mecab-python: started\n",
            "    Running setup.py install for mecab-python: finished with status 'done'\n",
            "Successfully installed mecab-python-0.996-ko-0.9.2\n"
          ]
        },
        {
          "output_type": "stream",
          "name": "stderr",
          "text": [
            "  DEPRECATION: A future pip version will change local packages to be built in-place without first copying to a temporary directory. We recommend you use --use-feature=in-tree-build to test your packages with this new behavior before it becomes the default.\n",
            "   pip 21.3 will remove support for this functionality. You can find discussion regarding this at https://github.com/pypa/pip/issues/7555.\n",
            "  WARNING: Built wheel for mecab-python is invalid: Metadata 1.2 mandates PEP 440 version, but '0.996-ko-0.9.2' is not\n",
            "  DEPRECATION: mecab-python was installed using the legacy 'setup.py install' method, because a wheel could not be built for it. A possible replacement is to fix the wheel build issue reported above. You can find discussion regarding this at https://github.com/pypa/pip/issues/8368.\n"
          ]
        }
      ]
    },
    {
      "cell_type": "code",
      "metadata": {
        "id": "TroavEiYCIZI"
      },
      "source": [
        "import pandas as pd\n",
        "import numpy as np\n",
        "import matplotlib.pyplot as plt\n",
        "import json\n",
        "import os\n",
        "import random\n",
        "import math\n",
        "import copy\n",
        "import gc\n",
        "from tqdm import tqdm\n",
        "from glob import glob\n",
        "from konlpy.tag import Mecab\n",
        "\n",
        "import torch\n",
        "from torch import nn\n",
        "from torch.utils.data import Dataset, DataLoader\n",
        "\n",
        "import warnings\n",
        "warnings.filterwarnings(action='ignore')"
      ],
      "execution_count": null,
      "outputs": []
    },
    {
      "cell_type": "code",
      "metadata": {
        "id": "8WthWJVuqFCb"
      },
      "source": [
        "encoder_len = 1000   # 1000 설정\n",
        "decoder_len = 100   # 요약문 길이 100\n",
        "max_vocab_size = 20000\n",
        "batch_size = 8\n",
        "num_layers = 6\n",
        "d_model = 512\n",
        "dff = 2048\n",
        "num_heads = 8\n",
        "dropout_rate = 0.1\n",
        "epochs = 10\n",
        "learning_rate = 1e-4\n",
        "device = torch.device(\"cuda:0\")"
      ],
      "execution_count": null,
      "outputs": []
    },
    {
      "cell_type": "markdown",
      "metadata": {
        "id": "ko0S2CyZL7hW"
      },
      "source": [
        "# 토크나이징"
      ]
    },
    {
      "cell_type": "code",
      "metadata": {
        "id": "VV0je-jJL7hW"
      },
      "source": [
        "class Mecab_Tokenizer():\n",
        "    def __init__(self, max_length, mode, max_vocab_size=-1):\n",
        "        self.text_tokenizer = Mecab()\n",
        "        self.mode = mode\n",
        "        self.txt2idx = {'pad_':0, 'unk_':1}\n",
        "        self.idx2txt = {0:'pad_', 1:'unk_'}\n",
        "        self.max_length = max_length\n",
        "        self.word_count = {}\n",
        "        self.max_vocab_size = max_vocab_size\n",
        "        \n",
        "        # 띄어쓰기를 찾기 위한 태그 목록\n",
        "        self.font_blank_tag = [\n",
        "            '', 'EC', 'EC+JKO', 'EF', 'EP+EC', 'EP+EP+EC', 'EP+ETM', 'EP+ETN+JKO', 'ETM', 'ETN', 'ETN+JKO', 'ETN+JX', 'IC', 'JC', 'JKB', 'JKB+JX', 'JKO',\n",
        "            'JKQ', 'JKS', 'JX', 'MAG', 'MAG+JX', 'MAG+XSV+EP+EC', 'MAJ','MM', 'MM+EC', 'NNB', 'NNB+JKB', 'NNB+JKO', 'NNB+VCP+EC', 'NNBC', 'NNG', 'NNG+JX+JKO',\n",
        "            'NNG+VCP+EC', 'NNP', 'NNP+JX', 'NP', 'NP+JKO', 'NP+JKS', 'NP+JX', 'NP+VCP+EC', 'NR', 'SC', 'SF', 'SL', 'SN', 'SSC', 'SSO', 'SY', 'UNKNOWN',\n",
        "            'VA+EC', 'VA+EC+VX+ETM', 'VA+ETM', 'VA+ETN+JKB+JX', 'VCN+EC', 'VCN+ETM', 'VCP', 'VCP+EC', 'VCP+EP+EC', 'VCP+EP+ETM', 'VCP+ETM', 'VCP+ETN',\n",
        "            'VV+EC', 'VV+EC+JX', 'VV+EC+VX+EC', 'VV+EC+VX+ETM', 'VV+EP+EC', 'VV+EP+ETM', 'VV+ETM', 'VV+ETN', 'VX+EC', 'VX+EC+VX+EP+EC', 'VX+EP+ETM',\n",
        "            'VX+ETM', 'XPN', 'XR', 'XSA+EC', 'XSA+EC+VX+ETM', 'XSA+ETM', 'XSN', 'XSV+EC', 'XSV+EP+EC', 'XSV+ETM', 'XSV+ETN', 'XSV+JKO'\n",
        "        ]\n",
        "        self.back_blank_tag = [\n",
        "            '', 'IC', 'MAG', 'MAG+JX', 'MAG+XSV+EP+EC', 'MAJ', 'MM', 'MM+EC', 'NNB', 'NNB+JKB', 'NNB+VCP', 'NNB+VCP+EC', 'NNB+VCP+EF', 'NNBC', 'NNBC+VCP+EC',\n",
        "            'NNG', 'NNG+JC', 'NNG+JX+JKO', 'NNG+VCP', 'NNG+VCP+EC', 'NNG+VCP+ETM', 'NNP', 'NNP+JX', 'NP', 'NP+JKG', 'NP+JKO', 'NP+JKS', 'NP+JX', 'NP+VCP+EC', 'NP+VCP+EF',\n",
        "            'NR', 'SC', 'SL', 'SN', 'SSC', 'SSO', 'SY', 'VA', 'VA+EC', 'VA+EC+VX+ETM', 'VA+EF', 'VA+ETM', 'VA+ETN', 'VA+ETN+JKB+JX', 'VCN', 'VCN+EC', 'VCN+EF', 'VCN+ETM',\n",
        "            'VCN+ETN', 'VCP', 'VCP+EF', 'VV', 'VV+EC', 'VV+EC+JX', 'VV+EC+VX', 'VV+EC+VX+EC', 'VV+EC+VX+EF', 'VV+EC+VX+EP+EC', 'VV+EC+VX+ETM', 'VV+EF', 'VV+EP', 'VV+EP+EC',\n",
        "            'VV+EP+ETM', 'VV+ETM', 'VV+ETN', 'VV+ETN+VCP+EF', 'VX', 'VX+ETM', 'XPN', 'XR', 'XSA+ETN+VCP+EF', 'XSN'\n",
        "        ]\n",
        "        \n",
        "    def morpheme(self, sentence_list):\n",
        "        new_sentence = []\n",
        "        for i, sentence in tqdm(enumerate(sentence_list)):\n",
        "            temp = []\n",
        "            if self.mode == 'dec':\n",
        "                temp.append('sos_')\n",
        "            for t in self.text_tokenizer.pos(sentence):\n",
        "                temp.append('_'.join(t))\n",
        "            if self.mode == 'dec':\n",
        "                temp.append('eos_')\n",
        "            new_sentence.append(' '.join(temp))\n",
        "            \n",
        "        return new_sentence\n",
        "    \n",
        "    def fit(self, sentence_list):\n",
        "        for sentence in tqdm(sentence_list):\n",
        "            for word in sentence.split(' '):\n",
        "                try:\n",
        "                    self.word_count[word] += 1\n",
        "                except:\n",
        "                    self.word_count[word] = 1\n",
        "        self.word_count = dict(sorted(self.word_count.items(), key=self.sort_target, reverse=True))\n",
        "        \n",
        "        self.txt2idx = {'pad_':0, 'unk_':1}\n",
        "        self.idx2txt = {0:'pad_', 1:'unk_'}\n",
        "        if self.max_vocab_size == -1:\n",
        "            for i, word in enumerate(list(self.word_count.keys())):\n",
        "                self.txt2idx[word]=i+2\n",
        "                self.idx2txt[i+2]=word\n",
        "        else:\n",
        "            for i, word in enumerate(list(self.word_count.keys())[:self.max_vocab_size]):\n",
        "                self.txt2idx[word]=i+2\n",
        "                self.idx2txt[i+2]=word\n",
        "        \n",
        "    def sort_target(self, x):\n",
        "        return x[1]\n",
        "            \n",
        "    def txt2token(self, sentence_list):\n",
        "        tokens = []\n",
        "        for sentence in tqdm(sentence_list):\n",
        "            token = [0]*self.max_length\n",
        "            for i, w in enumerate(sentence.split(' ')):\n",
        "                if i == self.max_length:\n",
        "                    break\n",
        "                try:\n",
        "                    token[i] = self.txt2idx[w]\n",
        "                except:\n",
        "                    token[i] = self.txt2idx['unk_']\n",
        "            tokens.append(token)\n",
        "        return np.array(tokens)\n",
        "    \n",
        "    def convert(self, token):\n",
        "        sentence = []\n",
        "        for j, i in enumerate(token):\n",
        "            if self.mode == 'enc':\n",
        "                if i != self.txt2idx['pad_']:\n",
        "                    sentence.append(self.idx2txt[i].split('_')[0])\n",
        "            elif self.mode == 'dec':\n",
        "                if i == self.txt2idx['eos_'] or i == self.txt2idx['pad_']:\n",
        "                    break\n",
        "                elif i != 0:\n",
        "                    sentence.append(self.idx2txt[i].split('_')[0])\n",
        "                    # 앞뒤 태그를 확인하여 띄어쓰기 추가\n",
        "                    if self.idx2txt[i].split('_')[1] in self.font_blank_tag:\n",
        "                        try:\n",
        "                            if self.idx2txt[token[j+1]].split('_')[1] in self.back_blank_tag:\n",
        "                                sentence.append(' ')\n",
        "                        except:\n",
        "                            pass\n",
        "        sentence = \"\".join(sentence)\n",
        "        if self.mode == 'enc':\n",
        "            sentence = sentence[:-1]\n",
        "        elif self.mode == 'dec':\n",
        "            sentence = sentence[3:-1]\n",
        "            \n",
        "        return sentence"
      ],
      "execution_count": null,
      "outputs": []
    },
    {
      "cell_type": "code",
      "metadata": {
        "id": "wtvIoBodL7hX"
      },
      "source": [
        "src_tokenizer = Mecab_Tokenizer(encoder_len, mode='enc', max_vocab_size=max_vocab_size)\n",
        "tar_tokenizer = Mecab_Tokenizer(decoder_len, mode='dec', max_vocab_size=max_vocab_size)"
      ],
      "execution_count": null,
      "outputs": []
    },
    {
      "cell_type": "code",
      "metadata": {
        "colab": {
          "base_uri": "https://localhost:8080/"
        },
        "id": "MCtNQlfYL7hY",
        "outputId": "23691677-2cb3-4a95-c704-e17ecdd5af77"
      },
      "source": [
        "train_src = src_tokenizer.morpheme(train.original_text)\n",
        "# val_src = src_tokenizer.morpheme(df_val.total)\n",
        "test_src = src_tokenizer.morpheme(test.article_original)\n",
        "\n",
        "train_tar = tar_tokenizer.morpheme(train.summary)\n",
        "# val_tar = tar_tokenizer.morpheme(df_val.summary)"
      ],
      "execution_count": null,
      "outputs": [
        {
          "output_type": "stream",
          "name": "stderr",
          "text": [
            "1813it [00:07, 233.21it/s]\n",
            "100it [00:00, 1955.93it/s]\n",
            "1813it [00:00, 2426.68it/s]\n"
          ]
        }
      ]
    },
    {
      "cell_type": "code",
      "metadata": {
        "colab": {
          "base_uri": "https://localhost:8080/",
          "height": 547
        },
        "id": "VjYakoTCL7hY",
        "outputId": "951b73ee-c500-4c1e-ef95-d71a366dbd90"
      },
      "source": [
        "train_src_len = []\n",
        "for m in train_src:\n",
        "    m_len = len(m.split(' '))\n",
        "    train_src_len.append(m_len)\n",
        "print('train_src_max_len :', max(train_src_len))\n",
        "plt.hist(train_src_len, bins=30)\n",
        "plt.show()\n",
        "\n",
        "train_tar_len = []\n",
        "for m in train_tar:\n",
        "    m_len = len(m.split(' '))\n",
        "    train_tar_len.append(m_len)\n",
        "print('train_tar_max_len :', max(train_tar_len))\n",
        "plt.hist(train_tar_len, bins=30)\n",
        "plt.show()"
      ],
      "execution_count": null,
      "outputs": [
        {
          "output_type": "stream",
          "name": "stdout",
          "text": [
            "train_src_max_len : 7186\n"
          ]
        },
        {
          "output_type": "display_data",
          "data": {
            "image/png": "[encoded data removed]",
            "text/plain": [
              "<Figure size 432x288 with 1 Axes>"
            ]
          },
          "metadata": {
            "needs_background": "light"
          }
        },
        {
          "output_type": "stream",
          "name": "stdout",
          "text": [
            "train_tar_max_len : 468\n"
          ]
        },
        {
          "output_type": "display_data",
          "data": {
            "image/png": "[encoded data removed]",
            "text/plain": [
              "<Figure size 432x288 with 1 Axes>"
            ]
          },
          "metadata": {
            "needs_background": "light"
          }
        }
      ]
    },
    {
      "cell_type": "code",
      "metadata": {
        "colab": {
          "base_uri": "https://localhost:8080/"
        },
        "id": "UVBCgVzVL7hZ",
        "outputId": "c8c103d1-aa16-47a9-d545-dd5301560cf1"
      },
      "source": [
        "src_tokenizer.fit(train_src)\n",
        "tar_tokenizer.fit(train_tar)"
      ],
      "execution_count": null,
      "outputs": [
        {
          "output_type": "stream",
          "name": "stderr",
          "text": [
            "100%|██████████| 1813/1813 [00:00<00:00, 3654.86it/s]\n",
            "100%|██████████| 1813/1813 [00:00<00:00, 38674.97it/s]\n"
          ]
        }
      ]
    },
    {
      "cell_type": "code",
      "metadata": {
        "colab": {
          "base_uri": "https://localhost:8080/"
        },
        "id": "scrN9I8JL7ha",
        "outputId": "91bd4029-cb9f-4343-e18a-f4f8a759c5ec"
      },
      "source": [
        "train_src_tokens = src_tokenizer.txt2token(train_src)\n",
        "# val_src_tokens = src_tokenizer.txt2token(val_src)\n",
        "test_src_tokens = src_tokenizer.txt2token(test_src)\n",
        "\n",
        "train_tar_tokens = tar_tokenizer.txt2token(train_tar)\n",
        "# val_tar_tokens = tar_tokenizer.txt2token(val_tar)"
      ],
      "execution_count": null,
      "outputs": [
        {
          "output_type": "stream",
          "name": "stderr",
          "text": [
            "100%|██████████| 1813/1813 [00:00<00:00, 3804.76it/s]\n",
            "100%|██████████| 100/100 [00:00<00:00, 19542.93it/s]\n",
            "100%|██████████| 1813/1813 [00:00<00:00, 36180.50it/s]\n"
          ]
        }
      ]
    },
    {
      "cell_type": "code",
      "metadata": {
        "id": "Tlz4DYQML7ha"
      },
      "source": [
        "input_vocab_size = len(src_tokenizer.txt2idx)\n",
        "target_vocab_size = len(tar_tokenizer.txt2idx)"
      ],
      "execution_count": null,
      "outputs": []
    },
    {
      "cell_type": "code",
      "metadata": {
        "colab": {
          "base_uri": "https://localhost:8080/"
        },
        "id": "rYEArIXHL7hb",
        "outputId": "a7213d83-ae25-4620-df18-ec2b3402b02e"
      },
      "source": [
        "input_vocab_size, target_vocab_size"
      ],
      "execution_count": null,
      "outputs": [
        {
          "output_type": "execute_result",
          "data": {
            "text/plain": [
              "(20002, 11649)"
            ]
          },
          "metadata": {},
          "execution_count": 46
        }
      ]
    },
    {
      "cell_type": "code",
      "metadata": {
        "colab": {
          "base_uri": "https://localhost:8080/",
          "height": 69
        },
        "id": "6cDqvj4lL7hb",
        "outputId": "3fbda3a8-c697-4aee-b598-f43423af6270"
      },
      "source": [
        "train.summary.iloc[0]"
      ],
      "execution_count": null,
      "outputs": [
        {
          "output_type": "execute_result",
          "data": {
            "application/vnd.google.colaboratory.intrinsic+json": {
              "type": "string"
            },
            "text/plain": [
              "'이유는  말라리아는 기생충이 주범이라, 코로나19처럼 바이러스가 퍼뜨리는 다른 병보다 더 끈질기고 퇴치가 어렵거든요. 또 말라리아 기생충은 한 사람이 여러 번 감염될 정도로 사람의 면역체계를 피해가는 능력이 뛰어나다고. 하지만 한 영국 제약사가 30년 동안 연구한 끝에 백신 개발에 성공해 2019년부터 가나·케냐 등에서 어린이 약 80만 명에게 시범으로 백신을 맞혔어요 . '"
            ]
          },
          "metadata": {},
          "execution_count": 47
        }
      ]
    },
    {
      "cell_type": "code",
      "metadata": {
        "colab": {
          "base_uri": "https://localhost:8080/"
        },
        "id": "2w7kwVGyL7hc",
        "outputId": "3f364087-9d6b-4d6e-f0f3-46adda44c6fd"
      },
      "source": [
        "train_tar_tokens[0], tar_tokenizer.convert(train_tar_tokens[0])"
      ],
      "execution_count": null,
      "outputs": [
        {
          "output_type": "execute_result",
          "data": {
            "text/plain": [
              "(array([  12,  169,   11, 4813,   11, 1730,    4, 6503,   26,  136,    5,\n",
              "          97,  100,  277,  436,    7, 4814,    9,  126, 1405,  170,   54,\n",
              "        6504,   10, 6505,    7,  680,   89,    2,  215, 4813, 1730,   18,\n",
              "          94,   47,    4,  413,  153,  368,  260,  238,   20,   47,   17,\n",
              "        1177, 2476,    8, 1178,  681,    9, 2020,    4, 4815,  114,    2,\n",
              "         107,   94,  320, 3860,    7,  325,   36,  230, 1116,   95,  494,\n",
              "           6,  171,  495,    6, 1250,   85,  707,   36,  101,  254, 1117,\n",
              "          51, 6506,   61,   19, 1406,  151,  929,  119,   69,  131, 3861,\n",
              "          23,  171,    3, 3862,   14,    2,   13,    0,    0,    0,    0,\n",
              "           0]),\n",
              " ' 이유는 말라리아는 기생충이 주범 이라 , 코로나 19처럼 바이러스가 퍼뜨리는 다른 병보다 더 끈질기고 퇴치가 어렵거든요. 또 말라리아 기생충은 한 사람이 여러 번 감염될 정도로 사람의면역 체계를 피해 가는 능력이 뛰어나다고. 하지만 한 영국 제약사가 30 년 동안 연구한 끝에 백신 개발에 성공해 2019 년부터 가나 · 케냐 등에서 어린이 약 80 만 명에게 시범으로 백신을 맞혔어요.')"
            ]
          },
          "metadata": {},
          "execution_count": 48
        }
      ]
    },
    {
      "cell_type": "markdown",
      "metadata": {
        "id": "FmuZK4i9L7hc"
      },
      "source": [
        "# 데이터셋"
      ]
    },
    {
      "cell_type": "code",
      "metadata": {
        "id": "-icrs0oBL7hc"
      },
      "source": [
        "class CustomDataset(Dataset):\n",
        "    def __init__(self, src_tokens, tar_tokens, mode='train'):\n",
        "        self.mode = mode\n",
        "        self.src_tokens = src_tokens\n",
        "        if self.mode == 'train':\n",
        "            self.tar_tokens = tar_tokens\n",
        "            \n",
        "    def __len__(self):\n",
        "        return len(self.src_tokens)\n",
        "    \n",
        "    def __getitem__(self, i):\n",
        "        src_token = self.src_tokens[i]\n",
        "        if self.mode == 'train':\n",
        "            tar_token = self.tar_tokens[i]\n",
        "            return {\n",
        "                'src_token' : torch.tensor(src_token, dtype=torch.long),\n",
        "                'tar_token' : torch.tensor(tar_token, dtype=torch.long),\n",
        "            }\n",
        "        else:\n",
        "            return {\n",
        "                'src_token' : torch.tensor(src_token, dtype=torch.long)\n",
        "            }"
      ],
      "execution_count": null,
      "outputs": []
    },
    {
      "cell_type": "code",
      "metadata": {
        "id": "7NaGelJuL7hd"
      },
      "source": [
        "train_dataset = CustomDataset(train_src_tokens, train_tar_tokens)\n",
        "# val_dataset = CustomDataset(val_src_tokens, val_tar_tokens)\n",
        "test_dataset = CustomDataset(test_src_tokens, None, 'test')\n",
        "\n",
        "train_dataloader = torch.utils.data.DataLoader(train_dataset, batch_size=batch_size, num_workers=1, shuffle=True)\n",
        "# val_dataloader = torch.utils.data.DataLoader(val_dataset, batch_size=batch_size, num_workers=1, shuffle=False)\n",
        "test_dataloader = torch.utils.data.DataLoader(test_dataset, batch_size=batch_size, num_workers=1, shuffle=False)"
      ],
      "execution_count": null,
      "outputs": []
    },
    {
      "cell_type": "markdown",
      "metadata": {
        "id": "3gm2HOrVL7hd"
      },
      "source": [
        "# 모델 Transformer\n",
        "\n",
        "https://www.tensorflow.org/text/tutorials/transformer 를 pytorch코드로 수정하여 작성하였습니다."
      ]
    },
    {
      "cell_type": "code",
      "metadata": {
        "id": "Dc7o26Txp_wh"
      },
      "source": [
        "def get_angles(pos, i, d_model):\n",
        "    angle_rates = 1 / np.power(10000, (2 * (i//2)) / np.float32(d_model))\n",
        "    return pos * angle_rates"
      ],
      "execution_count": null,
      "outputs": []
    },
    {
      "cell_type": "code",
      "metadata": {
        "id": "K8l-XKICp_wi"
      },
      "source": [
        "def positional_encoding(position, d_model):\n",
        "    angle_rads = get_angles(np.arange(position)[:, np.newaxis],\n",
        "                            np.arange(d_model)[np.newaxis, :],\n",
        "                            d_model)\n",
        "\n",
        "    # apply sin to even indices in the array; 2i\n",
        "    angle_rads[:, 0::2] = np.sin(angle_rads[:, 0::2])\n",
        "\n",
        "    # apply cos to odd indices in the array; 2i+1\n",
        "    angle_rads[:, 1::2] = np.cos(angle_rads[:, 1::2])\n",
        "\n",
        "    pos_encoding = angle_rads[np.newaxis, ...]\n",
        "\n",
        "    return torch.tensor(pos_encoding, dtype=torch.float32)"
      ],
      "execution_count": null,
      "outputs": []
    },
    {
      "cell_type": "code",
      "metadata": {
        "id": "4mtLLQitL7he"
      },
      "source": [
        "def create_padding_mask(seq):\n",
        "    seq = torch.tensor(torch.eq(seq, 0), dtype=torch.float32)\n",
        "\n",
        "    # add extra dimensions to add the padding\n",
        "    # to the attention logits.\n",
        "    seq = seq.unsqueeze(1).unsqueeze(2)\n",
        "    return seq  # (batch_size, 1, 1, seq_len)"
      ],
      "execution_count": null,
      "outputs": []
    },
    {
      "cell_type": "code",
      "metadata": {
        "id": "Xnsd-KYIL7he"
      },
      "source": [
        "def create_look_ahead_mask(size):\n",
        "    mask = torch.ones(size, size).triu(diagonal=1)\n",
        "    return mask  # (seq_len, seq_len)"
      ],
      "execution_count": null,
      "outputs": []
    },
    {
      "cell_type": "code",
      "metadata": {
        "id": "MrkZ_SWsp_wi"
      },
      "source": [
        "def scaled_dot_product_attention(q, k, v, mask):\n",
        "    matmul_qk = torch.matmul(q, torch.transpose(k, -2, -1))  # (..., seq_len_q, seq_len_k)\n",
        "    \n",
        "    # scale matmul_qk\n",
        "    dk = k.size()[-1]\n",
        "    scaled_attention_logits = matmul_qk / math.sqrt(dk)\n",
        "    \n",
        "    # add the mask to the scaled tensor.\n",
        "    if mask is not None:\n",
        "        scaled_attention_logits += (mask * -1e9)\n",
        "\n",
        "    # softmax is normalized on the last axis (seq_len_k) so that the scores\n",
        "    # add up to 1.\n",
        "    attention_weights = torch.nn.functional.softmax(scaled_attention_logits, dim=-1)  # (..., seq_len_q, seq_len_k)\n",
        "\n",
        "    output = torch.matmul(attention_weights, v)  # (..., seq_len_q, depth_v)\n",
        "\n",
        "    return output, attention_weights"
      ],
      "execution_count": null,
      "outputs": []
    },
    {
      "cell_type": "code",
      "metadata": {
        "id": "rXQu2nfTL7hf"
      },
      "source": [
        "def print_out(q, k, v):\n",
        "    temp_out, temp_attn = scaled_dot_product_attention(\n",
        "      q, k, v, None)\n",
        "    print('Attention weights are:')\n",
        "    print(temp_attn)\n",
        "    print('Output is:')\n",
        "    print(temp_out)"
      ],
      "execution_count": null,
      "outputs": []
    },
    {
      "cell_type": "code",
      "metadata": {
        "id": "MqmIN760L7hf"
      },
      "source": [
        "np.set_printoptions(suppress=True)\n",
        "\n",
        "temp_k = torch.tensor([[10, 0, 0],\n",
        "                      [0, 10, 0],\n",
        "                      [0, 0, 10],\n",
        "                      [0, 0, 10]], dtype=torch.float32)  # (4, 3)\n",
        "\n",
        "temp_v = torch.tensor([[1, 0],\n",
        "                      [10, 0],\n",
        "                      [100, 5],\n",
        "                      [1000, 6]], dtype=torch.float32)  # (4, 2)\n",
        "\n",
        "# This `query` aligns with the second `key`,\n",
        "# so the second `value` is returned.\n",
        "temp_q = torch.tensor([[0, 10, 0]], dtype=torch.float32)  # (1, 3)\n",
        "print_out(temp_q, temp_k, temp_v)"
      ],
      "execution_count": null,
      "outputs": []
    },
    {
      "cell_type": "code",
      "metadata": {
        "id": "OVeuqqQXL7hf"
      },
      "source": [
        "temp_q = torch.tensor([[10, 10, 0]], dtype=torch.float32)  # (1, 3)\n",
        "print_out(temp_q, temp_k, temp_v)"
      ],
      "execution_count": null,
      "outputs": []
    },
    {
      "cell_type": "code",
      "metadata": {
        "id": "-MN3oyb0L7hf"
      },
      "source": [
        "temp_q = torch.tensor([[0, 0, 10],\n",
        "                      [0, 10, 0],\n",
        "                      [10, 10, 0]], dtype=torch.float32)  # (3, 3)\n",
        "print_out(temp_q, temp_k, temp_v)"
      ],
      "execution_count": null,
      "outputs": []
    },
    {
      "cell_type": "code",
      "metadata": {
        "id": "mlrSZRc8L7hg"
      },
      "source": [
        "class MultiHeadAttention(nn.Module):\n",
        "    def __init__(self, d_model, num_heads):\n",
        "        super(MultiHeadAttention, self).__init__()\n",
        "        self.num_heads = num_heads\n",
        "        self.d_model = d_model\n",
        "\n",
        "        assert d_model % self.num_heads == 0\n",
        "\n",
        "        self.depth = d_model // self.num_heads\n",
        "\n",
        "        self.wq = nn.Linear(d_model, d_model)\n",
        "        self.wk = nn.Linear(d_model, d_model)\n",
        "        self.wv = nn.Linear(d_model, d_model)\n",
        "\n",
        "        self.wo = nn.Linear(d_model, d_model)\n",
        "        \n",
        "    def forward(self, v, k, q, mask):\n",
        "        batch_size = q.size()[0]\n",
        "        \n",
        "        q = self.wq(q).view(batch_size, -1, self.num_heads, self.depth).transpose(1, 2)\n",
        "        k = self.wk(k).view(batch_size, -1, self.num_heads, self.depth).transpose(1, 2)\n",
        "        v = self.wv(v).view(batch_size, -1, self.num_heads, self.depth).transpose(1, 2)\n",
        "        \n",
        "        # scaled_attention.shape == (batch_size, num_heads, seq_len_q, depth)\n",
        "        # attention_weights.shape == (batch_size, num_heads, seq_len_q, seq_len_k)\n",
        "        scaled_attention, attention_weights = scaled_dot_product_attention(q, k, v, mask)\n",
        "        \n",
        "        scaled_attention = scaled_attention.transpose(1,2).contiguous().view(batch_size, -1, self.num_heads * self.depth)\n",
        "                \n",
        "        output = self.wo(scaled_attention)  # (batch_size, seq_len_q, d_model)\n",
        "\n",
        "        return output, attention_weights"
      ],
      "execution_count": null,
      "outputs": []
    },
    {
      "cell_type": "code",
      "metadata": {
        "id": "zHkjI2OwL7hg"
      },
      "source": [
        "temp_mha = MultiHeadAttention(d_model=512, num_heads=8)\n",
        "y = torch.rand(1, 60, 512)  # (batch_size, encoder_sequence, d_model)\n",
        "out, attn = temp_mha(y, k=y, q=y, mask=None)\n",
        "out.shape, attn.shape"
      ],
      "execution_count": null,
      "outputs": []
    },
    {
      "cell_type": "code",
      "metadata": {
        "id": "6sInKe_HL7hg"
      },
      "source": [
        "class FFN(nn.Module):\n",
        "    def __init__(self, d_model, dff):\n",
        "        super(FFN, self).__init__()\n",
        "        self.layer1 = nn.Linear(d_model, dff)\n",
        "        self.activation = nn.ReLU()\n",
        "        self.fc = nn.Linear(dff, d_model)\n",
        "\n",
        "    def forward(self, x):\n",
        "        x = self.layer1(x)\n",
        "        x = self.activation(x)\n",
        "        x = self.fc(x)\n",
        "\n",
        "        return x"
      ],
      "execution_count": null,
      "outputs": []
    },
    {
      "cell_type": "code",
      "metadata": {
        "id": "xuWlPxWgL7hg"
      },
      "source": [
        "class EncoderLayer(nn.Module):\n",
        "    def __init__(self, d_model, num_heads, dff, maximum_position_encoding, rate=0.1):\n",
        "        super(EncoderLayer, self).__init__()\n",
        "\n",
        "        self.mha = MultiHeadAttention(d_model, num_heads)\n",
        "        self.ffn = FFN(d_model, dff)\n",
        "        \n",
        "        self.layernorm1 = nn.LayerNorm([maximum_position_encoding, d_model])\n",
        "        self.layernorm2 = nn.LayerNorm([maximum_position_encoding, d_model])\n",
        "        \n",
        "        self.dropout1 = nn.Dropout(rate)\n",
        "        self.dropout2 = nn.Dropout(rate)\n",
        "\n",
        "\n",
        "    def forward(self, x, mask):\n",
        "        attn_output, _ = self.mha(x, x, x, mask)  # (batch_size, input_seq_len, d_model)\n",
        "        attn_output = self.dropout1(attn_output)\n",
        "        out1 = self.layernorm1(x + attn_output)  # (batch_size, input_seq_len, d_model)\n",
        "\n",
        "        ffn_output = self.ffn(out1)  # (batch_size, input_seq_len, d_model)\n",
        "        ffn_output = self.dropout2(ffn_output)\n",
        "        out2 = self.layernorm2(out1 + ffn_output)  # (batch_size, input_seq_len, d_model)\n",
        "\n",
        "        return out2"
      ],
      "execution_count": null,
      "outputs": []
    },
    {
      "cell_type": "code",
      "metadata": {
        "id": "yuYnNmbtL7hh"
      },
      "source": [
        "# sample_encoder_layer = EncoderLayer(512, 8, 2048, encoder_len)\n",
        "\n",
        "# sample_encoder_layer_output = sample_encoder_layer(\n",
        "#     torch.rand(64, encoder_len, 512), None)\n",
        "\n",
        "# sample_encoder_layer_output.shape  # (batch_size, input_seq_len, d_model)"
      ],
      "execution_count": null,
      "outputs": []
    },
    {
      "cell_type": "code",
      "metadata": {
        "id": "K4iNQ0c6L7hh"
      },
      "source": [
        "class DecoderLayer(nn.Module):\n",
        "    def __init__(self, d_model, num_heads, dff, maximum_position_encoding, rate=0.1):\n",
        "        super(DecoderLayer, self).__init__()\n",
        "\n",
        "        self.mha1 = MultiHeadAttention(d_model, num_heads)\n",
        "        self.mha2 = MultiHeadAttention(d_model, num_heads)\n",
        "        \n",
        "        self.ffn = FFN(d_model, dff)\n",
        "        \n",
        "        self.dropout1 = nn.Dropout(rate)\n",
        "        self.dropout2 = nn.Dropout(rate)\n",
        "        self.dropout3 = nn.Dropout(rate)\n",
        "        \n",
        "        self.layernorms1 = nn.ModuleList([copy.deepcopy(nn.LayerNorm([i+1, d_model])) for i in range(maximum_position_encoding)])\n",
        "        self.layernorms2 = nn.ModuleList([copy.deepcopy(nn.LayerNorm([i+1, d_model])) for i in range(maximum_position_encoding)])\n",
        "        self.layernorms3 = nn.ModuleList([copy.deepcopy(nn.LayerNorm([i+1, d_model])) for i in range(maximum_position_encoding)])\n",
        "\n",
        "    def forward(self, x, enc_output, look_ahead_mask, padding_mask):\n",
        "        # enc_output.shape == (batch_size, input_seq_len, d_model)\n",
        "        attn1, attn_weights_block1 = self.mha1(x, x, x, look_ahead_mask)  # (batch_size, target_seq_len, d_model)\n",
        "        attn1 = self.dropout1(attn1)\n",
        "        out1 = self.layernorms1[x.size(1)-1](attn1 + x)\n",
        "        \n",
        "        attn2, attn_weights_block2 = self.mha2(enc_output, enc_output, out1, padding_mask)  # (batch_size, target_seq_len, d_model)\n",
        "        attn2 = self.dropout2(attn2)\n",
        "        out2 = self.layernorms2[x.size(1)-1](attn2 + out1)  # (batch_size, target_seq_len, d_model)\n",
        "        \n",
        "        ffn_output = self.ffn(out2)  # (batch_size, target_seq_len, d_model)\n",
        "        ffn_output = self.dropout3(ffn_output)\n",
        "        out3 = self.layernorms3[x.size(1)-1](ffn_output + out2)  # (batch_size, target_seq_len, d_model)\n",
        "        \n",
        "        return out3, attn_weights_block1, attn_weights_block2"
      ],
      "execution_count": null,
      "outputs": []
    },
    {
      "cell_type": "code",
      "metadata": {
        "id": "WLmnOb2eL7hi"
      },
      "source": [
        "# sample_decoder_layer = DecoderLayer(512, 8, 2048, decoder_len)\n",
        "\n",
        "# sample_decoder_layer_output, _, _ = sample_decoder_layer(\n",
        "#     torch.rand(64, decoder_len, 512), sample_encoder_layer_output,\n",
        "#     None, None)\n",
        "\n",
        "# sample_decoder_layer_output.shape  # (batch_size, target_seq_len, d_model)"
      ],
      "execution_count": null,
      "outputs": []
    },
    {
      "cell_type": "code",
      "metadata": {
        "id": "KZi52rYRL7hi"
      },
      "source": [
        "def clones(module, N):\n",
        "    return nn.ModuleList([copy.deepcopy(module) for i in range(N)])"
      ],
      "execution_count": null,
      "outputs": []
    },
    {
      "cell_type": "code",
      "metadata": {
        "id": "_jeuqf0TL7hi"
      },
      "source": [
        "class Encoder(nn.Module):\n",
        "    def __init__(self, num_layers, d_model, num_heads, dff, input_vocab_size, maximum_position_encoding, device, rate=0.1):\n",
        "        super(Encoder, self).__init__()\n",
        "\n",
        "        self.d_model = d_model\n",
        "        self.num_layers = num_layers\n",
        "\n",
        "        self.embedding = nn.Embedding(input_vocab_size, d_model)\n",
        "        self.pos_encoding = positional_encoding(maximum_position_encoding, d_model).to(device)\n",
        "        \n",
        "        self.dec_layers = clones(EncoderLayer(d_model, num_heads, dff, maximum_position_encoding, rate), num_layers)\n",
        "        self.dropout = nn.Dropout(rate)\n",
        "\n",
        "    def forward(self, x, mask, enc_output=None):\n",
        "        if enc_output == None:\n",
        "            seq_len = x.size()[1]\n",
        "            attention_weights = {}\n",
        "            x = self.embedding(x)  # (batch_size, target_seq_len, d_model)\n",
        "            x *= torch.sqrt(torch.tensor(self.d_model, dtype=torch.float32))\n",
        "            x += self.pos_encoding[:, :seq_len, :]\n",
        "            x = self.dropout(x)\n",
        "            for i in range(self.num_layers):\n",
        "                x = self.dec_layers[i](x, mask)\n",
        "        else:\n",
        "            x = enc_output\n",
        "            \n",
        "        return x"
      ],
      "execution_count": null,
      "outputs": []
    },
    {
      "cell_type": "code",
      "metadata": {
        "id": "6CW9Bz32L7hi"
      },
      "source": [
        "# sample_encoder = Encoder(num_layers=2, d_model=512, num_heads=8,\n",
        "#                          dff=2048, input_vocab_size=input_vocab_size,\n",
        "#                          maximum_position_encoding=encoder_len,\n",
        "#                          device='cpu')\n",
        "\n",
        "# temp_input = torch.randint(low=0, high=input_vocab_size, size=(64, encoder_len))\n",
        "\n",
        "# sample_encoder_output = sample_encoder(temp_input, mask=None, enc_output=None)\n",
        "\n",
        "# print(sample_encoder_output.shape)  # (batch_size, input_seq_len, d_model)"
      ],
      "execution_count": null,
      "outputs": []
    },
    {
      "cell_type": "code",
      "metadata": {
        "id": "iriNZjwuL7hj"
      },
      "source": [
        "class Decoder(nn.Module):\n",
        "    def __init__(self, num_layers, d_model, num_heads, dff, target_vocab_size, maximum_position_encoding, device, rate=0.1):\n",
        "        super(Decoder, self).__init__()\n",
        "\n",
        "        self.d_model = d_model\n",
        "        self.num_layers = num_layers\n",
        "\n",
        "        self.embedding = nn.Embedding(target_vocab_size, d_model)\n",
        "        self.pos_encoding = positional_encoding(maximum_position_encoding, d_model).to(device)\n",
        "        \n",
        "        self.dec_layers = clones(DecoderLayer(d_model, num_heads, dff, maximum_position_encoding, rate), num_layers)\n",
        "        self.dropout = nn.Dropout(rate)\n",
        "        \n",
        "    def forward(self, x, enc_output, look_ahead_mask, padding_mask):\n",
        "        seq_len = x.size()[1]\n",
        "        attention_weights = {}\n",
        "        x = self.embedding(x)  # (batch_size, target_seq_len, d_model)\n",
        "        x *= torch.sqrt(torch.tensor(self.d_model, dtype=torch.float32))\n",
        "        x += self.pos_encoding[:, :seq_len, :]\n",
        "        x = self.dropout(x)\n",
        "        \n",
        "        for i in range(self.num_layers):\n",
        "            x, block1, block2 = self.dec_layers[i](x, enc_output, look_ahead_mask, padding_mask)\n",
        "\n",
        "            attention_weights['decoder_layer{}_block1'.format(i+1)] = block1\n",
        "            attention_weights['decoder_layer{}_block2'.format(i+1)] = block2\n",
        "            \n",
        "        # x.shape == (batch_size, target_seq_len, d_model)\n",
        "        return x, attention_weights"
      ],
      "execution_count": null,
      "outputs": []
    },
    {
      "cell_type": "code",
      "metadata": {
        "id": "U5WFkIvXL7hj"
      },
      "source": [
        "# sample_decoder = Decoder(num_layers=2, d_model=512, num_heads=8,\n",
        "#                          dff=2048, target_vocab_size=target_vocab_size,\n",
        "#                          maximum_position_encoding=decoder_len,\n",
        "#                          device='cpu')\n",
        "\n",
        "# temp_input = torch.randint(low=0, high=target_vocab_size, size=(64, decoder_len))\n",
        "\n",
        "# output, attn = sample_decoder(temp_input,\n",
        "#                               enc_output=sample_encoder_output,\n",
        "#                               look_ahead_mask=None,\n",
        "#                               padding_mask=None)\n",
        "\n",
        "# output.shape, attn['decoder_layer2_block2'].shape"
      ],
      "execution_count": null,
      "outputs": []
    },
    {
      "cell_type": "code",
      "metadata": {
        "id": "p-ul1ZwoL7hj"
      },
      "source": [
        "class Transformer(nn.Module):\n",
        "    def __init__(self, num_layers, d_model, num_heads, dff, input_vocab_size,\n",
        "               target_vocab_size, pe_input, pe_target, device, rate=0.1):\n",
        "        super().__init__()\n",
        "        self.device = device\n",
        "        self.encoder = Encoder(num_layers, d_model, num_heads, dff,\n",
        "                                 input_vocab_size, pe_input, device, rate)\n",
        "\n",
        "        self.decoder = Decoder(num_layers, d_model, num_heads, dff,\n",
        "                               target_vocab_size, pe_target, device, rate)\n",
        "\n",
        "        self.final_layer = nn.Linear(d_model, target_vocab_size)\n",
        "\n",
        "    def forward(self, inputs):\n",
        "        inp, tar, enc_output = inputs\n",
        "\n",
        "        enc_padding_mask, look_ahead_mask, dec_padding_mask = self.create_masks(inp, tar)\n",
        "\n",
        "        enc_output = self.encoder(inp, enc_padding_mask, enc_output)  # (batch_size, inp_seq_len, d_model)\n",
        "\n",
        "        # dec_output.shape == (batch_size, tar_seq_len, d_model)\n",
        "        dec_output, attention_weights = self.decoder(\n",
        "            tar, enc_output, look_ahead_mask, dec_padding_mask)\n",
        "\n",
        "        final_output = self.final_layer(dec_output)  # (batch_size, tar_seq_len, target_vocab_size)\n",
        "\n",
        "        return final_output, attention_weights, enc_output\n",
        "\n",
        "    def create_masks(self, inp, tar):\n",
        "        # Encoder padding mask\n",
        "        enc_padding_mask = create_padding_mask(inp)\n",
        "\n",
        "        # Used in the 2nd attention block in the decoder.\n",
        "        # This padding mask is used to mask the encoder outputs.\n",
        "        dec_padding_mask = create_padding_mask(inp)\n",
        "\n",
        "        # Used in the 1st attention block in the decoder.\n",
        "        # It is used to pad and mask future tokens in the input received by\n",
        "        # the decoder.\n",
        "        look_ahead_mask = create_look_ahead_mask(tar.size(1))\n",
        "        dec_target_padding_mask = create_padding_mask(tar)\n",
        "        look_ahead_mask = torch.maximum(dec_target_padding_mask.to(self.device), look_ahead_mask.to(self.device))\n",
        "\n",
        "        return enc_padding_mask, look_ahead_mask, dec_padding_mask"
      ],
      "execution_count": null,
      "outputs": []
    },
    {
      "cell_type": "code",
      "metadata": {
        "id": "AxZEJmklL7hk"
      },
      "source": [
        "# sample_transformer = Transformer(\n",
        "#     num_layers=2, d_model=512, num_heads=8, dff=2048,\n",
        "#     input_vocab_size=input_vocab_size, target_vocab_size=target_vocab_size,\n",
        "#     pe_input=encoder_len, pe_target=decoder_len, device='cpu')\n",
        "\n",
        "# temp_input = torch.randint(low=0, high=input_vocab_size, size=(64, encoder_len))\n",
        "# temp_target = torch.randint(low=0, high=target_vocab_size, size=(64, decoder_len))\n",
        "\n",
        "# fn_out, _, _ = sample_transformer([temp_input, temp_target, None])\n",
        "\n",
        "# fn_out.shape  # (batch_size, tar_seq_len, target_vocab_size)"
      ],
      "execution_count": null,
      "outputs": []
    },
    {
      "cell_type": "code",
      "metadata": {
        "id": "35VevtPcL7hk"
      },
      "source": [
        "transformer = Transformer(\n",
        "    num_layers=num_layers,\n",
        "    d_model=d_model,\n",
        "    num_heads=num_heads,\n",
        "    dff=dff,\n",
        "    input_vocab_size=input_vocab_size,\n",
        "    target_vocab_size=target_vocab_size,\n",
        "    pe_input=encoder_len,\n",
        "    pe_target=decoder_len-1,\n",
        "    device=device,\n",
        "    rate=dropout_rate\n",
        ")\n",
        "\n",
        "transformer = transformer.to(device)"
      ],
      "execution_count": null,
      "outputs": []
    },
    {
      "cell_type": "markdown",
      "metadata": {
        "id": "bvo8PclFL7hl"
      },
      "source": [
        "# 옵티마이저, 손실함수"
      ]
    },
    {
      "cell_type": "code",
      "metadata": {
        "id": "QpSw8nlGL7hl"
      },
      "source": [
        "optimizer = torch.optim.Adam(transformer.parameters(), lr=learning_rate)\n",
        "criterion = nn.CrossEntropyLoss()"
      ],
      "execution_count": null,
      "outputs": []
    },
    {
      "cell_type": "markdown",
      "metadata": {
        "id": "Ez-qa5kbL7hl"
      },
      "source": [
        "## 손실함수 및 평가함수 정의"
      ]
    },
    {
      "cell_type": "code",
      "metadata": {
        "id": "xLjNdWk0L7hl"
      },
      "source": [
        "def loss_function(real, pred):\n",
        "    mask = torch.logical_not(torch.eq(real, 0))\n",
        "    loss_ = criterion(pred.permute(0,2,1), real)\n",
        "    mask = torch.tensor(mask, dtype=loss_.dtype)\n",
        "    loss_ = mask * loss_\n",
        "\n",
        "    return torch.sum(loss_)/torch.sum(mask)\n",
        "\n",
        "def accuracy_function(real, pred):\n",
        "    accuracies = torch.eq(real, torch.argmax(pred, dim=2))\n",
        "    mask = torch.logical_not(torch.eq(real, 0))\n",
        "    accuracies = torch.logical_and(mask, accuracies)\n",
        "    accuracies = torch.tensor(accuracies, dtype=torch.float32)\n",
        "    mask = torch.tensor(mask, dtype=torch.float32)\n",
        "    \n",
        "    return torch.sum(accuracies)/torch.sum(mask)"
      ],
      "execution_count": null,
      "outputs": []
    },
    {
      "cell_type": "markdown",
      "metadata": {
        "id": "vKtJzrXxL7hl"
      },
      "source": [
        "## 학습 정의"
      ]
    },
    {
      "cell_type": "code",
      "metadata": {
        "id": "ShVFSTnKL7hm"
      },
      "source": [
        "def train_step(batch_item, epoch, batch, training):\n",
        "    src = batch_item['src_token'].to(device)\n",
        "    tar = batch_item['tar_token'].to(device)\n",
        "    \n",
        "    tar_inp = tar[:, :-1]\n",
        "    tar_real = tar[:, 1:]\n",
        "    \n",
        "    if training is True:\n",
        "        transformer.train()\n",
        "        optimizer.zero_grad()\n",
        "        with torch.cuda.amp.autocast():\n",
        "            output, _, _ = transformer([src, tar_inp, None])\n",
        "            loss = loss_function(tar_real, output)\n",
        "        acc = accuracy_function(tar_real, output)\n",
        "        loss.backward()\n",
        "        optimizer.step()\n",
        "        lr = optimizer.param_groups[0][\"lr\"]\n",
        "        return loss, acc, round(lr, 10)\n",
        "    else:\n",
        "        transformer.eval()\n",
        "        with torch.no_grad():\n",
        "            output, _, _ = transformer([src, tar_inp, None])\n",
        "            loss = loss_function(tar_real, output)\n",
        "        acc = accuracy_function(tar_real, output)\n",
        "        return loss, acc"
      ],
      "execution_count": null,
      "outputs": []
    },
    {
      "cell_type": "markdown",
      "metadata": {
        "id": "utFlBlPgL7hm"
      },
      "source": [
        "## 학습"
      ]
    },
    {
      "cell_type": "code",
      "metadata": {
        "id": "SiZBsjOOQAFd"
      },
      "source": [
        "import gc\n",
        "gc.collect()\n",
        "torch.cuda.empty_cache()"
      ],
      "execution_count": null,
      "outputs": []
    },
    {
      "cell_type": "code",
      "metadata": {
        "colab": {
          "base_uri": "https://localhost:8080/"
        },
        "id": "rCPquE2YQBxZ",
        "outputId": "1da3fe62-8942-40ff-a0b1-f6ada5dc2bca"
      },
      "source": [
        "!nvidia-smi"
      ],
      "execution_count": null,
      "outputs": [
        {
          "output_type": "stream",
          "name": "stdout",
          "text": [
            "Wed Oct 13 02:02:46 2021       \n",
            "+-----------------------------------------------------------------------------+\n",
            "| NVIDIA-SMI 470.74       Driver Version: 460.32.03    CUDA Version: 11.2     |\n",
            "|-------------------------------+----------------------+----------------------+\n",
            "| GPU  Name        Persistence-M| Bus-Id        Disp.A | Volatile Uncorr. ECC |\n",
            "| Fan  Temp  Perf  Pwr:Usage/Cap|         Memory-Usage | GPU-Util  Compute M. |\n",
            "|                               |                      |               MIG M. |\n",
            "|===============================+======================+======================|\n",
            "|   0  Tesla P100-PCIE...  Off  | 00000000:00:04.0 Off |                    0 |\n",
            "| N/A   37C    P0    33W / 250W |   1641MiB / 16280MiB |     11%      Default |\n",
            "|                               |                      |                  N/A |\n",
            "+-------------------------------+----------------------+----------------------+\n",
            "                                                                               \n",
            "+-----------------------------------------------------------------------------+\n",
            "| Processes:                                                                  |\n",
            "|  GPU   GI   CI        PID   Type   Process name                  GPU Memory |\n",
            "|        ID   ID                                                   Usage      |\n",
            "|=============================================================================|\n",
            "|  No running processes found                                                 |\n",
            "+-----------------------------------------------------------------------------+\n"
          ]
        }
      ]
    },
    {
      "cell_type": "code",
      "metadata": {
        "id": "qzvBU1YOL7hm",
        "colab": {
          "base_uri": "https://localhost:8080/"
        },
        "outputId": "6d89a5f1-5eb1-4510-9072-370739265da3"
      },
      "source": [
        "loss_plot, val_loss_plot = [], []\n",
        "acc_plot, val_acc_plot = [], []\n",
        "\n",
        "for epoch in range(epochs):\n",
        "    gc.collect()\n",
        "    total_loss, total_val_loss = 0, 0\n",
        "    total_acc, total_val_acc = 0, 0\n",
        "    \n",
        "    tqdm_dataset = tqdm(enumerate(train_dataloader))\n",
        "    training = True\n",
        "    for batch, batch_item in tqdm_dataset:\n",
        "        batch_loss, batch_acc, lr = train_step(batch_item, epoch, batch, training)\n",
        "        total_loss += batch_loss\n",
        "        total_acc += batch_acc\n",
        "        \n",
        "        tqdm_dataset.set_postfix({\n",
        "            'Epoch': epoch + 1,\n",
        "            'LR' : lr,\n",
        "            'Loss': '{:06f}'.format(batch_loss.item()),\n",
        "            'Total Loss' : '{:06f}'.format(total_loss/(batch+1)),\n",
        "            'Total ACC' : '{:06f}'.format(total_acc/(batch+1))\n",
        "        })\n",
        "    loss_plot.append(total_loss/(batch+1))\n",
        "    acc_plot.append(total_acc/(batch+1))\n",
        "    \n",
        "    # tqdm_dataset = tqdm(enumerate(val_dataloader))\n",
        "    # training = False\n",
        "    # for batch, batch_item in tqdm_dataset:\n",
        "    #     batch_loss, batch_acc = train_step(batch_item, epoch, batch, training)\n",
        "    #     total_val_loss += batch_loss\n",
        "    #     total_val_acc += batch_acc\n",
        "        \n",
        "    #     tqdm_dataset.set_postfix({\n",
        "    #         'Epoch': epoch + 1,\n",
        "    #         'Val Loss': '{:06f}'.format(batch_loss.item()),\n",
        "    #         'Total Val Loss' : '{:06f}'.format(total_val_loss/(batch+1)),\n",
        "    #         'Total Val ACC' : '{:06f}'.format(total_val_acc/(batch+1))\n",
        "    #     })\n",
        "    # val_loss_plot.append(total_val_loss/(batch+1))\n",
        "    # val_acc_plot.append(total_val_acc/(batch+1))"
      ],
      "execution_count": null,
      "outputs": [
        {
          "output_type": "stream",
          "name": "stderr",
          "text": [
            "227it [01:42,  2.22it/s, Epoch=1, LR=0.0001, Loss=4.004763, Total Loss=5.330980, Total ACC=0.069772]\n",
            "227it [01:42,  2.22it/s, Epoch=2, LR=0.0001, Loss=6.020473, Total Loss=4.483769, Total ACC=0.148875]\n",
            "227it [01:42,  2.22it/s, Epoch=3, LR=0.0001, Loss=3.311517, Total Loss=4.136704, Total ACC=0.183182]\n",
            "227it [01:42,  2.23it/s, Epoch=4, LR=0.0001, Loss=3.499223, Total Loss=3.904147, Total ACC=0.205205]\n",
            "227it [01:42,  2.22it/s, Epoch=5, LR=0.0001, Loss=4.222202, Total Loss=3.715938, Total ACC=0.224030]\n",
            "227it [01:42,  2.22it/s, Epoch=6, LR=0.0001, Loss=4.810230, Total Loss=3.543999, Total ACC=0.241201]\n",
            "227it [01:42,  2.22it/s, Epoch=7, LR=0.0001, Loss=3.858591, Total Loss=3.382108, Total ACC=0.258400]\n",
            "227it [01:42,  2.22it/s, Epoch=8, LR=0.0001, Loss=3.603583, Total Loss=3.226424, Total ACC=0.276938]\n",
            "227it [01:42,  2.22it/s, Epoch=9, LR=0.0001, Loss=4.200937, Total Loss=3.075317, Total ACC=0.296152]\n",
            "227it [01:42,  2.23it/s, Epoch=10, LR=0.0001, Loss=4.286851, Total Loss=2.925008, Total ACC=0.317379]\n"
          ]
        }
      ]
    },
    {
      "cell_type": "markdown",
      "metadata": {
        "id": "9oLXWEXEL7hm"
      },
      "source": [
        "## 학습 결과"
      ]
    },
    {
      "cell_type": "code",
      "metadata": {
        "id": "4ZyjGyphL7hm",
        "colab": {
          "base_uri": "https://localhost:8080/",
          "height": 279
        },
        "outputId": "801ecb41-e512-48a3-f823-454533daaa8b"
      },
      "source": [
        "plt.plot(loss_plot, label='train_loss')\n",
        "plt.plot(val_loss_plot, label='val_loss')\n",
        "plt.xlabel('epoch')\n",
        "plt.ylabel('loss')\n",
        "plt.legend()\n",
        "plt.show()"
      ],
      "execution_count": null,
      "outputs": [
        {
          "output_type": "display_data",
          "data": {
            "image/png": "[encoded data removed]",
            "text/plain": [
              "<Figure size 432x288 with 1 Axes>"
            ]
          },
          "metadata": {
            "needs_background": "light"
          }
        }
      ]
    },
    {
      "cell_type": "code",
      "metadata": {
        "id": "xNWVKHSgL7hn",
        "colab": {
          "base_uri": "https://localhost:8080/",
          "height": 279
        },
        "outputId": "8bd24845-d2d9-4897-eb61-1ec50451f9e8"
      },
      "source": [
        "plt.plot(acc_plot, label='train_acc')\n",
        "plt.plot(val_acc_plot, label='val_acc')\n",
        "plt.xlabel('epoch')\n",
        "plt.ylabel('acc')\n",
        "plt.legend()\n",
        "plt.show()"
      ],
      "execution_count": null,
      "outputs": [
        {
          "output_type": "display_data",
          "data": {
            "image/png": "[encoded data removed]",
            "text/plain": [
              "<Figure size 432x288 with 1 Axes>"
            ]
          },
          "metadata": {
            "needs_background": "light"
          }
        }
      ]
    },
    {
      "cell_type": "markdown",
      "metadata": {
        "id": "UppyOd0_L7hn"
      },
      "source": [
        "## 추론"
      ]
    },
    {
      "cell_type": "code",
      "metadata": {
        "id": "gTSo0V3KL7hn"
      },
      "source": [
        "def evaluate(tokens):\n",
        "    transformer.to(device)\n",
        "    decoder_input = torch.tensor([tar_tokenizer.txt2idx['sos_']] * tokens.size(0), dtype=torch.long).to(device)\n",
        "    output = decoder_input.unsqueeze(1).to(device)\n",
        "    enc_output = None\n",
        "    for i in range(decoder_len-1):        \n",
        "        # predictions.shape == (batch_size, seq_len, vocab_size)\n",
        "        with torch.no_grad():\n",
        "            predictions, attention_weights, enc_output = transformer([tokens, output, enc_output])\n",
        "        \n",
        "        # select the last token from the seq_len dimension\n",
        "        predictions_ = predictions[: ,-1:, :]  # (batch_size, 1, vocab_size)\n",
        "        \n",
        "        predicted_id = torch.tensor(torch.argmax(predictions_, axis=-1), dtype=torch.int32)\n",
        "        \n",
        "        output = torch.cat([output, predicted_id], dim=-1)\n",
        "    output = output.cpu().numpy()\n",
        "    \n",
        "    summary_list = []\n",
        "    token_list = []\n",
        "    for token in output:\n",
        "        summary = tar_tokenizer.convert(token)\n",
        "        summary_list.append(summary)\n",
        "        token_list.append(token)\n",
        "    return summary_list, token_list"
      ],
      "execution_count": null,
      "outputs": []
    },
    {
      "cell_type": "code",
      "metadata": {
        "id": "hv_cQ21NL7hn"
      },
      "source": [
        "# tqdm_dataset = tqdm(enumerate(val_dataloader))\n",
        "# preds = []\n",
        "# tokens = []\n",
        "# for batch, batch_item in tqdm_dataset:\n",
        "#     output = evaluate(batch_item['src_token'].to(device))\n",
        "#     preds.extend(output[0])\n",
        "#     tokens.extend(output[1])"
      ],
      "execution_count": null,
      "outputs": []
    },
    {
      "cell_type": "code",
      "metadata": {
        "id": "iBQFKsbLL7ho"
      },
      "source": [
        "# for i, (a, p) in enumerate(zip(df_val.summary, preds)):\n",
        "#     print('정답 :', a)\n",
        "#     print('예측 :', p)\n",
        "#     print('=================================================================================')\n",
        "#     if i == 10:\n",
        "#         break"
      ],
      "execution_count": null,
      "outputs": []
    },
    {
      "cell_type": "code",
      "metadata": {
        "colab": {
          "base_uri": "https://localhost:8080/"
        },
        "id": "1iYu5uVbdTuE",
        "outputId": "99f13abb-f003-4ccf-d269-e28773bacd76"
      },
      "source": [
        "tqdm_dataset = tqdm(enumerate(test_dataloader))\n",
        "preds = []\n",
        "tokens = []\n",
        "for batch, batch_item in tqdm_dataset:\n",
        "    output = evaluate(batch_item['src_token'].to(device))\n",
        "    preds.extend(output[0])\n",
        "    tokens.extend(output[1])"
      ],
      "execution_count": null,
      "outputs": [
        {
          "output_type": "stream",
          "name": "stderr",
          "text": [
            "13it [00:28,  2.16s/it]\n"
          ]
        }
      ]
    },
    {
      "cell_type": "code",
      "metadata": {
        "colab": {
          "base_uri": "https://localhost:8080/"
        },
        "id": "r-9zUgF5dU2X",
        "outputId": "5eec0f1c-8723-4793-b0b4-7dd5682f0db6"
      },
      "source": [
        "preds"
      ],
      "execution_count": null,
      "outputs": [
        {
          "output_type": "execute_result",
          "data": {
            "text/plain": [
              "[' + “ 중국은 안 좋다 ” : “ 중국은 중국의힘을 하고 있어요. ”는 중국에 중국을 받을 수 있기 때문에 , 중국이 중국을 받기 때문에는 “ 중국은 “ 중국을 하고 있어요. ”는 중국이 중국을 받고 있었던 중국 정부가 중국을 받고 , 중국에 “ 중국이 중국에 중국에 중국에 , 중국을 하는 사람 들이 중국을 받지 않',\n",
              " ' + 미국에서는 : 중국이 중국을 하고 있어요. 중국은 중국이 중국에 중국에 중국에 중국이 중국을 하고 있어요. 중국은 중국이 중국에 중국에 중국의중국이 중국을 하고 있어요. 중국은 중국에 중국에 중국의중국이 중국에 중국의중국에 중국이 중국이 중국을 하고 있어요. 중국은 중국에 중국에 중국의중국에 중국을 하고 , 중국에 중국은 중',\n",
              " ' + 우리 나라는 : “ 우리 나라는 없어 ”라고 말하는 사람 들이 되겠다고했지만 , 우리 나라는 “ 우리 나라가 없다 ”라고했어요. 하지만 이번에는 ‘ 우리 나라 ’을 하는 사람 들이 있는 사람 들이 있는 사람 들이 있는 것. 하지만 이번에는 “ 우리 나라가 없다 ”는 “ 우리 나라가 없다 ”라고했지만 , 우리 나라는 “ 우리 나라가 없',\n",
              " ' + 우리 나라는 : “ 우리 나라는 없다 ”는 “ 우리 나라에는 없다 ”는 말을 하는 것 같은 사람 들이 있는 것. 하지만 이번에는 “ 우리 나라에서는 “ 우리 나라가 없다 ”라고 말하는 것 같아요. ”는 “ 우리 나라가 없다 ”는 말이 더 많이 안 좋아 주는 것 같아요. ”라고했지만 , 이번에는 “ 우리 나라에도 없다 ',\n",
              " ' + 미국에서는 : 미국에서는 ‘ 우리 나라 ’이라고도 하는 사람이 많은 사람 들이 있어요. 하지만 중국은 “ 우리 나라는 없다 ”는 ‘ 위안부 ’의‘ 위안부 ’ 이라는 용어 ’ 이라는 말이 있어요. 하지만 이번에 , 우리 나라에서도 있어요. 하지만 중국은 “ 우리 나라가 없다 ”는 ‘ 위안부 ’ 이라는 것을 하고 , 중국의‘ 위안부 ’에도 있어요. 하지만 이',\n",
              " ' + 우리 나라는 : “ 우리 나라는 우리 나라가 없다 ”라고 말하는 사람 들이 되는 것. 하지만 이번에는 “ 우리 나라가 없다 ”는 ‘ 우리 나라 ’을 하는 사람이 있었어요. 하지만 이번에는 “ 우리 나라가 없다 ”라고 비판하는 사람 들이 있을 때 , 이번에는 “ 우리 나라가 없다 ”는 없다 ”는 ‘ 위안부 ’는 말을 하는 사람이 ',\n",
              " ' + 우리 나라는 : 우리 나라는 ‘ 우리 나라 ’을 하는 사람이 많은 사람이 있어요. 하지만 우리 나라는 ‘ 우리 나라 ’에 따라 , 우리 나라에 따라 , 우리 나라는 ‘ 위안부 ’ 이라는 용어를 두고 있어요. 하지만 이번에는 ‘ 위안부 ’에는 ‘ 우리 나라에도 있어요. ’는 ‘ 우리 나라에서도 있어요. 하지만 중국은 “ 우리 나라에서도 , 우리 나라는 ‘ 위안부 ’을 ',\n",
              " ' + 우리 나라는 : 우리 나라는 ‘ 우리 나라 ’을 하는 사람이 많아요. 우리 나라에는 ‘ 우리 나라 ’ 이라는 말이 많은 사람 들이 있어요. 하지만 이번에는 ‘ 위안부 ’ 이라는걸 막을 때도 있어요. 하지만 우리 나라에서는 ‘ 위안부 ’ 이라는 용어를 하는 사람이 있는 사람이 있을 수 있는 사람 들이 있어요. 하지만 이번에는 “ 우리 나라는 “ 우리 나',\n",
              " ' + 우리 나라는 : “ 우리 나라는. ” 미국에서도 안 하고 있어요. 하지만 이번에는 “ 우리 나라가 없다 ”는 미국이 없다 ” 이라는 것. ”는 “ 우리 나라에도 , 이번에도 , 우리 나라는 “ 우리 나라가 없다 ” 이에요. ”는 “ 우리 나라가 없다 ”는 “ 우리 나라가 없다 ” 이라는 입장을 하는 사람 들이 있을 수 있을 수 ',\n",
              " ' + 우리 나라는 : “ 우리 나라는 없어 ( = 우리 나라 ). ” 미국은 “ 우리 나라는 없다 ” 미국에서도 안 좋았어요. ”는 “ 우리 나라가 없다 ”는 말이 있을 수 있을 때 , 우리 나라가 있는 사람 들이 있을 수 있는 것. ”는 코로나 19로 , 이번에는 “ 우리 나라가 없다 ”는 “ 우리 나라에도 있는걸 말하는 것 ',\n",
              " ' + 미국에서는 : 미국에서는 ‘ 위안부 ’의‘ 위안부 ’이라고도 있어요. ..는 ‘ 우리 나라 ’의‘ 위안부 ’ 이라는 용어를 받고 있어요. 하지만 이번에는 “ 우리 나라는 없다 ”는 ‘ 위안부 ’는 ‘ 위안부 ’ 이라는 말 이라는 용어가 있어요. 하지만 이번에도 있어요. 하지만 이번에는 “ 우리 나라는 ‘ 위안부 ’ 이라는 용어 ’ 이라는 용어가 없다 ”라고 비',\n",
              " ' + 미국에서는 : “ 우리 나라에서는 ” 미국에서는 ‘ 우리 나라에서는 ’로 한 번 째로 ‘ 위안부 ’이라고도 하는 사람이 많아 지지 않았어요. 하지만 이번에는 ‘ 우리 나라가 있었던 사람 들은 ‘ 우리 나라 ’을 하는 사람 들의이름을 하고 있어요. 하지만 이번에는 “ 우리 나라가 있었다 ”는 “ 우리 나라가 없다 ’는 “ 우리 나라가 ',\n",
              " ' + 우리 나라는 : “ 우리 나라는 ” 이번에는 ‘ 우리 나라 ’로 한 번 째로 한 번에도 있어요. ” 이번에는 ‘ 위안부 ’의‘ 위안부 ’ 이라는 용어 ’을 받지 않았어요. 하지만 이번에는 ‘ 위안부 ’ 이라는 것. 하지만 이번에는 “ 우리 나라는 “ 우리 나라의이름을 받지 않았다 ”는 “ 우리 나라는 “ 우리 나라는 “ 우리 나라가 없다 ”',\n",
              " ' + 미국에서는 ‘ 위안부 ’를 두고 있는 사람 들이 있는 사람이 많은 사람 들이 있는 사람 들의힘을 하는 것. 하지만 이번에는 “ 우리 나라가 없다 ”는 “ 우리 나라가 없다 ”는 “ 우리 나라에는 말이 없다 ”라고 보겠다 ”는 말하는 사람 들이 있는 것을 하는 것 같아요. 하지만 이번에는 “ 우리 나라가 없다 ”',\n",
              " ' + 미국에서는 ‘ 위안부 ’ 이라는 국민의힘을 받고 있어요. 하지만 이번에는 ‘ 위안부 ’를 받고 있어요. 하지만 이번에는 “ 우리 나라에서는 “ 우리가 없다 ”는 “ 우리 나라는 없다 ”는 말이 없다 ” 이라는 것 같은 사람 들이 있었어요. 하지만 이번에는 “ 우리 나라가 없다 ”는 “ 우리 나라가 없다 ”는 “ 우리 나라가 없다 ',\n",
              " ' + 우리 나라는 : “ 우리 나라는 ” 이번에도 안 좋아 지고 있어요. ” 미국은 “ 우리 나라가 없다 ”는 “ 우리 나라는 ‘ 우리도 없다 ’ 이라는 것 같은 사람 들이 있는걸 말을 하는 것. ”는 “ 우리 나라는 ‘ 너도 있어요. 하지만 이번에도 , 우리 나라는 ‘ 너도 있다 ’을 더 많이 하는 사람 들이 있었고요. 하지만 ',\n",
              " ' + 우리 나라는 : 우리 나라는 ‘ 우리 나라 ’을 하고 있어요. 우리 나라는 ‘ 우리 나라 ’에 따라 , 우리 나라에는 ‘ 우리 나라 ’을 하는 사람 들이 있어요. 하지만 이번에는 “ 우리 나라에서도 , 우리 나라는 “ 우리 나라는 “ 우리 나라는 ”라며 비판하는 사람 들이 없다 ”는 ‘ 위안부 ’을 하는 사람이 있었어요. ”는 ‘ 우리 나라는 ‘ 위안부 ',\n",
              " ' + “ 나는 ” 이번에는 ‘ 위안부 ’ 이라는 것. 하지만 이번에는 ‘ 위안부 ’의‘ 위안부 ’ 이라는 비판을 받고 있어요. ”는 ‘ 위안부 ’ 이라는 용어 ’는 ‘ 우리 나라가 있어요. 하지만 이번에 , 이번에는 ‘ 위안부 ’을 하는 사람 들의‘ 위안부 ’ 이라는 용어 ’의‘ 위안부 ’을 하는 사람 들의‘ 위안부 ’ 이라는 비판하는 사람이 있어요.',\n",
              " ' + 우리 나라는 : “ 우리 나라는 안 하고 있어! ” 미국에서는 우리 나라가 안 좋아 지는 사람이 있었어요. 하지만 중국이 더는 중국의힘을 하는 사람 들이 있었어요. 하지만 미국에서는 “ 우리 나라에서도 , 우리 나라가 없는 사람 들이 있었던 사람 들이 있었던 사람이 더 많이 안 좋아 지고 있었던 것. ”는 중국이 있을 ',\n",
              " ' + 미국에서는 ‘ 위안부 ’를 하는 사람이 있어요. 하지만 트럼프가 ‘ 위안부 ’의‘ 위안부 ’ 이라는 용어 ’는 ‘ 위안부 ’의‘ 위안부 ’의‘ 위안부 ’을 받을 수 있어요. 하지만 ‘ 위안부 ’는 ‘ 위안부 ’의‘ 위안부 ’의‘ 위안부 ’ 이라는 것. 하지만 ’는 ‘ 위안부 ’는 ‘ 홍콩의‘ 위안부 ’ 이라는 용어 ’의‘ 위안부 ’를 받을 수 있는 사람이 있어',\n",
              " ' + 우리 나라는 : “ 우리 나라는 ” 이번에는 ‘ 우리 ’ 이에요. .. 이번에는 ‘ 우리 나라 ’ 이라는 말이 있을 수 있어요. 하지만 이번에는 ‘ 우리 나라 ’ 이라는 용어의‘ 우리 나라 ’을 받지 않았어요. 하지만 이번에는 ‘ 위안부 ’을 받을 때 , 이번에도 있어요. 하지만 이번에도 있는 사람 들이 있는 사람 들이 있는 사람 들이 있',\n",
              " ' + 미국에서는 미국에서도 하는 사람 들이 많은 사람 들이 많아요. 하지만 미국이 미국에서는 “ 우리 나라가 없다 ”는 안 좋아 지고 있어요. 하지만 미국에서는 중국은 “ 우리가 없다 ”는 중국의‘ 중국의‘ 홍콩 ’ 이라는 용어 ’ 이라는 용어 ’ 이라는 비판을 하는 사람을 받은 사람이 있을 수 있어요. 하지만 이번에 , 중국의힘을 하',\n",
              " ' + 미국에서는 : 미국에서는 ‘ 위안부 ’가 있는 사람 들이 있어요. 하지만 미국에서는 ‘ 위안부 ’의‘ 위안부 ’의‘ 위안부 ’의’를 하기도 했어요. 하지만 이번에는 ‘ 위안부 ’ 이라는 용어의‘ 위안부 ’의‘ 홍콩 ’ 이라는 용어 ’ 이라는 용어가 있어요. 하지만 ‘ 위안부 ’는 ‘ 위안부 ’ 이라는 용어 ’의‘ 위안부 ’가 있어요. 하지만 이번에는 ‘ 홍',\n",
              " ' + 우리 나라는 : 우리 나라에서는 ‘ 우리 나라 ’을 하는 것도 , 우리 나라는 ‘ 우리 나라 ’을 하는걸 말하는 것 같아요. 하지만 이번에는 ‘ 위안부 ’을 하는 사람 들이 많은 사람 들이 많아 지고 있어요. 하지만 이번에는 ‘ 홍콩의‘ 위안부 ’의‘ 위안부 ’의‘ 위안부 ’ 이라는 용어를 하는 사람 들이 있어요. 하지만 이번에 , 우리 나라',\n",
              " ' + 우리 나라는 : 우리 나라는 ‘ 우리 나라 ’을 하는 사람이 많아 지고 있어요. 우리 나라는 “ 우리 나라에서는 “ 우리 나라는 없다 ” 이에요. ”는 중국은 “ 우리 나라는 “ 우리 나라는 없다 ” 이에요. ”는 “ 우리 나라는 “ 우리 나라는 “ 우리 정부가 없다 ” 고 결정을 하고 있어요. ”는 말하는 사람 들이 없다 ”는 “ 우',\n",
              " ' + 미국에서는 : 미국에서도 하는 사람 들이 많은 사람이 많은 사람이 많아 지면서 , 미국이 많은 사람이 많은 사람 들이 많은 사람 들이 더 많은 사람 들이 많은 사람 들이 많은 사람 들이 많은 사람 들이 많은 사람이 있어요. 하지만 이번에는 이번에는 ‘ 홍콩의힘이 많은 사람 들의힘을 더 많은 사람 들의이름을 더 지켜봐',\n",
              " ' + 우리 나라는 : 우리 나라는 ‘ 우리 나라 ’을 하고 있어요. 하지만 이번에는 ‘ 우리 나라 ’을 하는 사람이 많았어요. 하지만 이번에는 “ 우리 나라에서도 , 우리 나라가 없다 ”는 ‘ 위안부 ’를 하는 사람 들이 있을 수 있어요. 하지만 이번에는 “ 우리 나라는 “ 우리 나라에서도 있는 사람 들이 있는 사람 들이 없는 사람 들이 있다는 것',\n",
              " ' + 우리 나라는 : “ 우리 나라는 우리 나라에 안 좋아 주겠다 ”는 ‘ 우리 나라 ’ 이에요. 우리 나라에서는 ‘ 우리 나라 ’을 하는 사람이 있었어요. 하지만 이번에는 ‘ 우리 나라에서도 , 우리 나라에서도 있어요. ”는 ‘ 우리 나라에서도 ’을 받은 사람이 있을 때 , 이번에도 하는 사람 들을 하는 사람 들이 있어요. 하지만 이번에는 ',\n",
              " ' + 미국에서는 ‘ 위안부 ’ 이라는 말로 하는 사람 들이 있어요. 하지만 중국 정부는 ‘ 중국의‘ 위안부 ’로 불리는걸 막기도 있어요. 하지만 이번에는 “ 우리 나라가 ‘ 위안부 ’을 받지 않았다 ”는 입장을 받을 수 있는 사람 들이 있어요. 하지만 이번에도 있는 사람 들이 있는 사람 들이 있는 사람 들이 있는 사람 들이 있는 사람 ',\n",
              " ' + 미국에서는 : 미국에서는 ‘ 위안부 ’가 있었어요. 하지만 중국의‘ 위안부 ’의‘ 위안부 ’ 이라는 것. 하지만 ’ 이라는 말이 있었다 보는 사람을 받을 수 있었어요. 하지만 미국에서는 “ 우리 나라에도 있었다 ”는 “ 우리도 있었다 ”는 “ 우리 나라에서는 없다 ”는 “ 우리 나라가 없다 ”며 , 이번에도 있었어요. ”',\n",
              " ' + 미국에서는 : 미국이 많은 사람이 많은 사람 들이 많은 사람이 많은 사람 들이 많은 사람 들이 많은 사람이 더 많은 사람 들이 많은 사람 들이 더 많아 지지 않았어요. 하지만 이번에는 이번에는 “ 우리가 안 좋은 사람 들이 더는 ”라고 보면 , 이번에는 없는 사람 들이 있었던 사람 들이 있는 사람 들이 있었어',\n",
              " ' + 미국에서는 미국에서는 미국에서는 ‘ 여성 ’가 있었어요. 하지만 트럼프의‘ 미국의‘ 위안부 ’ 이라는 ’을 받기도 했어요. 하지만 트럼프가 ‘ 홍콩의‘ 위안부 ’ 이라는 용어 ’ 이라는 입장을 받기도 했어요. 하지만 이번에는 “ 우리 나라에는 없다 ”는 ‘ 위안부 ’ 이라는 용어의‘ 위안부 ’ 이라는 용어의‘ 위안부 ’ 이라는 말이 있어요.',\n",
              " ' + “ 나는 ” 이번에는 ‘ 위안부 ’을 하는 사람이 있어요. 하지만 이번에는 ‘ 위안부 ’의‘ 위안부 ’ 이라는 용어 ’ 이라는 비판을 받을 수 있는 사람 들이 있어요. 하지만 이번에는 ‘ 위안부 ’의‘ 위안부 ’의‘ 위안부 ’는 ‘ 위안부 ’을 받지 않았어요. 하지만 이번에 , 이번에 , 이번에도 있는 사람 들의‘ 위안부 ’의‘ 위안부 ’를 ',\n",
              " ' + 우리 나라는 : “ 우리 나라는 없어 ( = 우리 나라에도 하고 있어요. .. 이번에는 우리 나라는 우리 나라가 없는 ‘ 우리 나라 ’ 이에요. ” 이번에는 ‘ 우리 나라에서도 하고 , 우리 나라 ’을 하는 사람 들을 하는 사람 들이 있었어요. 하지만 이번에는 ‘ 위안부 ’을 하는 사람 들이 있었던 사람 들이 있을 때 , 우리 나라에서도 ',\n",
              " ' + 미국에서는 ‘ 위안부 ’ 이라는 말이 있어요. 우리 나라는 ‘ 우리 나라 ’에도 있어요. 하지만 이번에는 ‘ 위안부 ’의‘ 위안부 ’ 이라는 것 ’을 받을 수 있어요. 하지만 이번에도 있는 사람 들이 많은 사람 들이 있어요. 하지만 이번에는 “ 우리 나라가 없다 ”는 “ 우리 나라의‘ 위안부 ’을 받지 않았다 ”는 말을 받았어요.',\n",
              " ' + 우리 나라는 : “ 우리 나라는 없다 ”는 없어요. 하지만 이번에는 “ 우리 나라가 없다 ”라고 비판하는 사람 들이 있을 수 있어요. ”는 “ 우리 나라가 없다 ”는 입장을 더 많이 안 좋아 주는 것 같아요. 하지만 이번에는 “ 우리 나라가 없다 ” 고 하는 사람 들이 있는 사람 들이 있는 사람 들이 있는 사람 들이 있을 수 ',\n",
              " ' + 우리 나라는 ‘ 우리 나라 ’을 하는 사람 들이 있을 때 , 우리 나라에 따라 , 우리 나라가 있어요. 우리 나라는 ‘ 위안부 ’을 하는 사람을 하고 있어요. 하지만 이번에는 “ 우리 나라에는 ”는 “ 우리 나라는 “ 우리 나라를 안 좋아 주는 사람 들이 있을 수 있는 사람 들이 있고 , 우리 나라가 없다 ”는 말을 하는 것. ”는 ',\n",
              " ' + 우리 나라는 : 우리 나라는 우리 나라에는 우리 나라에서도 하고 있어요. 우리 나라는 미국이 더 많이 안 좋아 지고 있어요. 하지만 우리 나라는 우리 나라는 미국에서도 , 우리 나라는 우리 나라가 우리 나라에도 , 우리 나라에서도 안 되면 우리 나라가 없어 하는 것 같아요. 하지만 미국에서도 , 미국에서도 미국이 우리 나라는 미국에서는 미국이 있을 때도 ',\n",
              " ' + 다른 나라는 : “ 우리 나라의‘ ” 하지만 우리 나라는 ‘ 우리 나라 ’을 하는 것 같아요. .. ‘ 위안부 ’는 ‘ 위안부 ’에 따라 ’을 하는 사람이 필요하게 하는 것. 하지만 이번에는 “ 우리 나라는 “ 우리 나라가 없다 ”는 “ 우리 나라가 없다 ”는 말하는 것 같아요. 하지만 이번에는 “ 우리 나라는 “ 우리 나라는 ‘ 우리 나라는 ‘ 위안부 ',\n",
              " ' + 우리 나라는 : 우리 나라에서는 ‘ 우리 나라 ’ 이에요. 우리 나라에는 우리 나라에서도 하는 사람 들이 많아 지고 있어요. 하지만 중국은 “ 우리 나라는 우리 나라는 “ 우리 나라는 없다 ”는 ‘ 우리 나라 ’을 하는 사람 들이 더 많이 하고 있어요. ”는 “ 우리 나라에서도 , 우리 나라에서는 ‘ 우리 나라가 없다 ’을 하고 , 우리 나라는 말',\n",
              " ' + 우리 나라는 : “ 우리 나라는 안 하고 있어! ” 미국에서는 ‘ 우리 나라 ’의‘ 우리 나라에서도 ’로 하는 사람이 있을 수 있어요. 하지만 중국은 “ 우리 나라는 없다 ”는 없는 사람 들이 있고 있어요. 하지만 이번에는 ‘ 위안부 ’의‘ 중국 ’를 하는 사람 들이 있을 수 있는 사람 들이 있다는 것. 하지만 이번에는 “ 우리 나라',\n",
              " ' + 우리 나라에서는 : “ 우리 나라는 없다 ”는 ‘ 위안부 ’을 받을 수 있어요. 하지만 이번에는 ‘ 위안부 ’로 , 이번에는 ‘ 위안부 ’ 이라는 말이 있어요. 하지만 이번에는 ‘ 위안부 ’을 받을 수 있는 사람 들이 있는 사람 들의‘ 위안부 ’ 이라는 용어를 받을 수 있는 사람 들의‘ 위안부 ’ 이라는 용어로 , 이번에도 있어요. 하지만 이번',\n",
              " ' + 미국에서는 미국에서는 ‘ 위안부 ’에도 있어요. 하지만 중국의‘ 중국 ’의‘ 위안부 ’이라고도 있어요. 하지만 중국은 “ 중국은 “ 중국은 없다 ”라고 비판하는 사람 들이 되는 것. 하지만 중국은 “ 중국의‘ 중국은 “ 중국의‘ 중국은 없다 ’ 이라는 것. ”는 중국은 “ 중국의‘ 중국의‘ 중국은 ’ 이라는 용어 ’ 이라는 것을 하',\n",
              " ' + 미국에서는 : 미국에서는 ‘ 위안부 ’에서도 하는 사람이 있어요. 하지만 중국은 “ 우리 나라에는 ” 이라는 것 같은 사람이 없는 것 같은 사람이 있어요. ” 미국에서는 “ 중국의‘ 중국이 더 많은 사람 들의’을 받을 거 죠. ”라며 ‘ 위안부 ’는 ‘ 위안부 ’는 ‘ 위안부 ’을 하는걸 막기도 했어요. 하지만 이번에는 ‘ 너 ',\n",
              " ' + 우리 나라는 : 우리 나라는 우리 나라에서는 ‘ 우리 나라 ’을 하는 사람이 많아 지고 있어요. 하지만 이번에도 , 우리 나라는 ‘ 우리 나라 ’에도 하는 사람 들이 있어요. 하지만 이번에도 , 우리 나라는 “ 우리 나라에서도 , 우리 나라는 “ 우리 나라를 하고 있다 ”는 , 우리 나라는 ‘ 위안부 ’의힘을 하는 사람 들이 있었어요. ”는 ',\n",
              " ' + 우리 나라는 : “ 우리 나라는. ” 미국이 우리 나라에도 안 하고 있어요. 우리 나라는 미국에서는 우리 나라가 안 좋아 지고 있어요. 미국이 우리 나라는 미국 정부가 안 좋아 지고 , 미국에서도 , 미국이 있는 사람 들이 더 많이 안 좋아 지는걸 막을 수 있는 것. 하지만 이번에는 미국에서도 있지만 , 미국에서도 , 미국에서도 , 우',\n",
              " ' + 우리 나라는 : “ 우리도 못 하고 있다 ” 이번에는 ‘ 우리 나라 ’이라고도 있어요. 하지만 중국은 “ 우리 나라는 “ 우리 나라가 없다 ” 고 호소하는 사람 들이 없다 ”라고 비판하는 것 같아요. 하지만 이번에는 ‘ 위안부 ’ 이라는 용어가 있다 ’ 이라는 말이 있는걸 말하는 사람 들이 있을 거라고 말하는 것. 하지만 이번에 , 이',\n",
              " ' + 우리 나라는 : 우리 나라에서는 ‘ 우리 나라 ’ 이에요. 우리 나라는 ‘ 우리 나라에도 ’ 이라는 뜻을 하고 있어요. 우리 나라는 ‘ 위안부 ’는 “ 우리 나라에도 , 우리 나라는 없다 ” 이라는 용어로는 “ 우리 나라에도 있어요. ” 고는 “ 우리 나라는 “ 우리 나라는 “ 우리 나라에도 안 좋은 사람 들이 없다 ”며 , 우리 나라에서도 없',\n",
              " ' + 미국에서는 ‘ 위안부 ’가 있었어요. 지난 1 월에는 ‘ 위안부 ’ 이라는 용어를 하는 사람 들의힘을 하는 사람 들의의견을 하는 것. 하지만 이번에는 “ 우리 나라가 있다 ”는 “ 우리 나라가 있다 ”는 ‘ 위안부 ’ 이라는 것. ”는 “ 우리 나라에서는 ‘ 위안부 ’을 하는 사람 들이 더 지켜봐야해요. 하지만 이번에는 “ 우리 나라에서는 ',\n",
              " ' + 우리 나라는 : “ 우리 나라는 없다 ”는 ‘ 우리 나라 ’에는 ‘ 우리 나라 ’로는 ‘ 우리 나라에는 ‘ 우리 나라 ’을 하고 있어요. 하지만 이번에는 ‘ 홍콩의‘ 우리 나라 ’을 하는 사람이 없다 ’을 하는 사람 들이 있어요. 하지만 이번에는 ‘ 위안부 ’ 이라는 용어 ’는 ‘ 홍콩의‘ 위안부 ’를 하는 사람 들이 있어요. 하지만 이번에',\n",
              " ' + 미국에서는 ‘ 위안부 ’에도 있어요. 하지만 트럼프가 ‘ 위안부 ’의‘ 위안부 ’의‘ 위안부 ’ 이라는 용어 ’는 없어요. 하지만 이번에도 있었던 사람 들이 있어요. 하지만 이번에는 “ 우리 나라의이름을 받지 않았다 ”는 입장을 받지 않았어요. 하지만 이번에는 “ 우리 나라에도 , 이번에는 “ 우리 나라는 “ 우리 나라가 있었다 ”는 ',\n",
              " ' + 우리 나라는 : “ 우리 나라는 없다 ”는 ‘ 우리 나라 ’을 하는 사람이 있어요. 하지만 이번에는 “ 우리 나라는 “ 우리 나라는 “ 우리 나라는 없다 ”라고 말하는 사람 들이 더 많이 안 좋아 주는 것. ”는 “ 우리 나라는 없다 ”는 “ 우리 나라는 말 이라 ”는 없다 ”는 말이 있을 수 있을 수 있을 수 있을 때 , 이',\n",
              " ' + 미국에서는 : 미국에서는 ‘ 우리 나라 ’로는 ‘ 위안부 ’ 이라는 용어 ’를 하고 있어요. 하지만 중국은 “ 우리 나라에도 없다 ”는 “ 우리 나라가 없는 사람 들이 없었어요. ”는 “ 우리 나라에도 , 이번에도 안 좋은 사람 들이 있을 수 있는 것 같아요. 하지만 이번에는 “ 우리 나라에서도 있고요. ”는 없다 ”는 “ 우리 나',\n",
              " ' + 우리 나라는 : “ 우리 나라는 없다 ”고 있어요. 하지만 이번에는 “ 우리 나라는 “ 우리 나라에서 ”라며 ”라고했어요. 하지만 미국에서는 “ 우리 나라는 우리 나라가 없는 사람을 하는 것 같은 사람 들이 더 많이 하는 것. ” 고 결정을 더 많이 하는 사람 들이 있었어요. ”는 “ 우리 나라에서도 , 우리 나라에서도 , 우리 나라에는 입장을 ',\n",
              " ' + 우리 나라는 : “ 우리 나라는 우리 나라는 ” 미국에서는 우리 나라가 3 년에 안 좋아 지고 있어요. 우리 나라는 이번에도 , 우리 나라는 “ 우리 나라는 없다 ”라고 하는 사람 들이 있었어요. ”는 미국에서도 안 좋은 사람 들이 있는 사람 들이 있을 수 있는걸 막기 때문. 하지만 이번에는 “ 우리 나라가 안 좋아 , 우리 나라는 ',\n",
              " ' + 우리 나라는 : “ 우리 나라는 우리 나라를 두고 있어요. ” 미국에서는 ‘ 우리 나라 ’을 받지 않았어요. 하지만 이번에는 “ 우리 나라에서도 , 우리 나라가 없다 ”는 “ 우리 나라에도 안 좋아 주는 사람 들의‘ 위안부 ’ 이라는 것. ”는 말을 하는 사람 들이 있어요. 하지만 중국은 “ 우리 나라는 “ 우리 나라가 없다 ”는 ‘ 너 ',\n",
              " ' + 우리 나라는 : “ 우리 나라는 없다 ”라고 말하는 것 같아요. 하지만 코로나 19로 , 우리 나라는 “ 우리 나라에도 안 좋아 주고 있다 ”는 “ 우리 나라는 없다 ”는 없다 ” 고 호소을 받고 있어요. 하지만 이번에는 “ 우리 나라가 안 좋은 사람 들이 있는 사람 들이 있고요. ”는 “ 우리 나라에서는 “ 우리 나라에는 “ 우리 나라',\n",
              " ' + 우리 나라는 ‘ 우리 나라 ’을 하고 있어요. 하지만 이번에는 “ 우리 나라는 없다 ”는 “ 우리 나라는 없다 ”는 “ 우리 나라에도 있다 ”는 “ 우리 나라가 없다 ”는 말로 , 이번에도 안 좋아요. ”는 “ 우리 나라는 “ 우리 나라는 말이 없다 ”는 “ 우리 나라를 안 하고 있어요. ” 이에요. ”는 “ 우리 나라는 말',\n",
              " ' + 우리 나라는 : “ 우리 나라는 ” 하지만 일부를 하고 있어요. ”는 “ 우리 나라는 “ 우리 나라는 없다 ”는 없다 ”는 없는걸 말하는 사람을 하고 있어요. ”는 “ 우리 나라가 없다 ”는 말을 하는 사람이 있었어요. ”는 말을 하는 것 같은 사람 들이 있는 것 같은 사람 들이 있을 때 , 이번에는 말을 ',\n",
              " ' + 우리 나라는 : “ 우리 나라는 없을 수 있는 것 같아요. .. 정부는 “ 우리 나라가 안 좋아 ”고 있는 사람 들이 더 많이 안 좋아 지고 , 우리 나라가 없는 것 같아요. 하지만 이번에도 있는 사람 들도 있었던 사람 들이 더는 더 많이 안 좋아 지고 있어요. ”는 “ 우리 나라가 없는 사람이 더 많이도 있는 것 같아요. ',\n",
              " ' + 우리 나라는 : “ 우리 나라는 우리 나라에 안 하는 사람 들이 없어 보면 , 우리 나라가 안 좋아 지고 있어. ” 미국이 더는 ‘ 우리 나라 ’을 하는 것. 하지만 이번에는 ‘ 우리 나라에서는 ‘ 우리 나라에서는 ‘ 위안부 ’을 하는 것 ’을 하는 사람이 많아 지는 사람이 있었어요. 하지만 이번에도 , 이번에도 , 이번에는 “ 우',\n",
              " ' + 우리 나라는 : “ 우리 나라는 우리 나라에 안 좋아 주는 것 같아요. .. 이번에는 ‘ 우리 나라 ’이 없어 , ‘ 우리 나라에서는 ‘ 우리 나라 ’을 하는 사람이 있을 수 있는 사람 들이 있어요. 하지만 이번에는 ‘ 위안부 ’을 하는 사람이 많은 사람 들이 있는 사람 들이 많은 사람 들이 많아 있어요. 하지만 이번에는 “ 우리 나라에서',\n",
              " ' + 우리 나라는 : “ 우리 나라는 우리 나라에도 안 하고 있어! ” 미국에서는 ‘ 중국의’이 있는 사람이 있었어요. 하지만 중국은 “ 우리 나라는 중국이 없다 ”라며 중국이 있을 때 , 중국을 하는걸 막을 수 있을 수 있는 사람이 있는걸 막을 수 있어요. 하지만 중국은 “ 중국을 하는걸 막기도 있는 사람 들이 있고 ',\n",
              " ' + 미국에서는 : 미국에서는 ‘ 위안부 ’ 이라는 말이 있어요. 하지만 중국은 “ 우리 나라는 없다 ”는 없는 사람이 되는걸 막을 수 있어요. ”는 “ 우리 나라는 입장을 더 많이 만들어 , 이번에도 있어요. ” 고 사람 들이 없는 사람 들이 되고 있어요. 하지만 이번에는 “ 우리 나라가 없다 ”라고 비판하는 사람 들이 있는 사람 들',\n",
              " ' + 우리 나라는 : “ 우리도 안 되겠다 ”는 “ 우리 나라는 없다 ”는 없는 사람 들이 있을 수 있어요. 하지만 이번에는 “ 우리 나라는 안 좋아 주는 사람이 더는 없다 ”라고 비판하는 것 같아요. 하지만 이번에는 “ 우리 나라는 없다 ”는 “ 우리 나라가 없다 ”는 없다 ”는 ‘ 위안부 ’ 이라는 것. 하지만 이번에는 ‘ 우리 나',\n",
              " ' + 미국에서도 한 번 째로 한 사람 들이 더 많아요. 하지만 이번에는 “ 너도 , 우리 나라가 안 좋은 사람 들이 있다 ”는 안 좋아 지지 않았어요. 하지만 이번에는 않은 사람 들이 있는 사람 들이 있는 사람 들이 있었던 사람 들이 있었던 사람 들이 있었어요. 하지만 이번에는 “ 우리 나라가 없어 , 이번에도 , 이번에',\n",
              " ' + 우리 나라는 : “ 우리 나라는 없다! ” 하지만 이번에는 ‘ 우리 나라 ’이라고 하는 사람이 있을 수 있어요. 하지만 이번에는 “ 우리 나라에서는 “ 우리 나라가 없다 ” 이라는 것 같은 사람 들이 있는 사람 들이 더 많은 사람도 있고 , 우리 나라가 없는 것. 하지만 이번에는 “ 우리 나라는 “ 우리 나라가 없다 ” 이라는 것 같은 사람 들',\n",
              " ' + “ 나는 ” 이번에는 “ 이번에 ”는 ‘ 여성 ’ 이라는 비판을 받고 있어요. 하지만 이번에는 ‘ 여성 ’ 이라는 말이 있었어요. 하지만 이번에는 ‘ 홍콩의‘ 위안부 ’을 받지 않다 ’을 받지 않았어요. 하지만 이번에 , 이번에는 ‘ 위안부 ’을 받았다 ’을 받지 않았어요. 하지만 ‘ 위안부 ’의힘을 받은 사람 들이 있',\n",
              " ' + 우리 나라는 : “ 우리도 안 되겠다 ”는. ..는 우리 나라에서는 “ 우리 나라는 없는 사람이 없어 주는 것 같아요. ”는 “ 우리 나라가 없다 ”는 ‘ 우리 나라가 없다 ’ 이라는 것. 하지만 이번에는 ‘ 우리 나라는 ‘ 우리 나라는 ‘ 위안부 ’에는 ‘ 위안부 ’을 하는 사람을 하는 사람 들이 있을 수 있을 수 있는 사람 들',\n",
              " ' + 미국에서는 : 미국에서는 미국에서는 중국을 하는 사람 들이 많은 사람이 많은 사람 들이 많은 사람이 많아 지고 있어요. 하지만 중국은 “ 중국이 없다 ”는 ‘ 중국의‘ 아동의’의이름을 하고 있다 ’로 , 중국에 따라 ‘ 위안부 ’ 이라는 용어 ’를 두고 있어요. 하지만 중국의‘ 홍콩 시위를 받기도 했고요. 하지만 중국은 “ 중',\n",
              " ' + 우리 나라는 : 우리 나라는 ‘ 우리 나라 ’을 ‘ 우리 나라에 우리 나라에서도 하는 사람 들이 많은 사람 들이 있어요. 하지만 우리 나라는 ‘ 우리 나라 ’을 하는 사람 들이 있을 때 , 우리 나라에서도 있어요. 하지만 이번에는 “ 우리 나라는 “ 우리 나라에 , 우리 나라는 우리 나라를 두고 있다 ”는 ‘ 위안부 ’을 하는 사람 들이 있을 수 있는 사',\n",
              " ' + 우리 나라는 : “ 우리 나라는 없다 ”는 ‘ 우리 나라 ’을 하고 있어요. 하지만 이번에는 “ 우리 나라에서는 “ 우리 나라는 없다 ” 이라는 것 같은 사람 들이 없다 ”는 “ 우리 나라가 없다 ”는 말을 받지 않았어요. ”는 “ 우리 나라는 “ 우리 나라를 두고 , 이번에도 없다 ”는 말로 하고 , 이번에도 안 좋은 사',\n",
              " ' + 우리 나라에서도 하고 있어요. 우리 나라는 : “ 우리 나라는. ” 미국에서도 안 좋아 지고 있는 사람 들도 , 우리 나라에서는 “ 우리 나라가 없다 ” 고 정도로는 없어 지고 있어요. 하지만 이번에는 “ 우리 나라가 없는 것 같은 사람 들이 없다 ”는 “ 우리 나라가 없다 ”는 입장을 더 많이 안 좋아 주고 있어요. ” 고 ',\n",
              " ' + 우리 나라는 ‘ 우리 나라에서는 : “ 우리 나라는 우리 나라는 없다! ”는 ‘ 우리 나라 ’ 이라는 말에 있을 때 , 우리 나라는 ‘ 우리 나라 ’ 이에요. 우리 나라에서도 있는 사람 들이 있는 사람이 있을 때 , ‘ 위안부 ’을 하는걸 막기도 하는 사람 들이 있을 수 있을 수도 있어요. 하지만 우리 나라는 ‘ 우리 나라에서도 ’을 하',\n",
              " ' + 우리 나라는 : “ 우리 나라는 우리 나라에 안 좋아 주겠다! ” 하지만 이번에는 “ 우리 나라는 “ 우리 나라가 없다 ”는 말을 하는 것 같아요. ”는 “ 우리 나라에서도 , 이번에는 없어 민주당의힘을 더 많이 안 좋아 주겠다고했어요. ”는 “ 우리 나라가 없다 ”는 ‘',\n",
              " ' + 미국에서는 : 미국에서는 ‘ 위안부 ’로는 ‘ 위안부 ’ 이라는 말 이라는 말도 있어요. 하지만 이번에는 ‘ 위안부 ’의‘ 위안부 ’ 이라는 것 같은 ’ 이라는 말이 있어요. 하지만 이번에는 ‘ 위안부 ’을 받지 않았어요. 하지만 이번에는 “ 우리 나라가 없다 ”는 “ 우리 나라에서는 ‘ 위안부 ’을 받지 않았다 ” 고 받지 않았어요.',\n",
              " ' + 우리 나라는 : 우리 나라는 우리 나라에 있을 때도 없어요. 하지만 미국이 있을 때 , 우리 나라가 ‘ 우리 나라 ’ 이라는 말도 있어요. 우리 나라는 ‘ 우리 나라 ’ 이라는 용어를 하고 , 우리 나라를 하는 사람 들이 있을 때도 있어요. 하지만 이번에도 , 우리 나라는 “ 우리 나라는 “ 우리 나라가 없다 ”는 없다 ”는 “ 우리 나라가 없다 ',\n",
              " ' + 우리 나라는 : “ 우리 나라는 ” 우리 나라는 안 하고 있어요. ..는 우리 나라에는 “ 우리 나라가 없는 사람 들이 없는 것 같아요. ” 미국에서도 , 우리 나라에도 안 좋아 지고 있어요. 하지만 이번에도 안 좋아 지는 사람 들이 있을 수 있는 사람 들이 있을 때 , 우리 나라는 , 우리 나라가 없어 , 우리 나라가 있는 사람 들',\n",
              " ' + 우리 나라는 : “ 우리 나라는 없다! ” 하지만 중국이 더 안 하고 있어요. 하지만 미국은 “ 우리 나라가 없다 ”는 코로나 19가 없는걸 말하는 사람 들이 있을 수 있는 것 같아요. ”는 “ 우리 나라가 없는 사람 들이 더 안 좋아 지고 있어요. 하지만 미국에서도 , 우리 나라가 없는 사람 들이 있는걸 막기 때문. 하지만 중국의',\n",
              " ' + 우리 나라는 : “ 우리 나라는 안 하는 것 같아요. ” 미국에서는 ‘ 우리 나라의‘ 우리 ’ 이라는걸 막기 때문. 하지만 이번에는 “ 우리 나라에서는 “ 우리 나라가 없다 ”는 “ 우리 나라는 “ 우리 나라가 없다 ”는 “ 우리 나라가 없다 ”는 없다 ”는 ‘ 위안부 ’ 이라는 것 같아요. ”는 ‘ 우리 나라가 없다 ’는 “ 우리 나라는 ',\n",
              " ' + 미국에서는 미국에서는 ‘ 위안부 ’를 두고 있어요. 하지만 이번에는 “ 우리 나라가 없다 ”는 “ 우리 나라가 없다 ”라고했어요. 하지만 이번에는 없다 ”는 “ 우리 나라에서도 없다 ”는 “ 우리 나라가 없다 ”는 “ 우리 나라가 없다 ”는 말을 받을 수 있는 사람 들이 있었어요. 하지만 이번에는 “ 우리 나라가 없다 ”는 ',\n",
              " ' + 우리 나라는 : “ 우리 나라는. ” 미국에서는 안 좋아 지고 있는 사람 들이 있기 때문. 하지만 우리 나라는 미국에서는 이번에는 ‘ 우리 나라에서도 ’ 이라는 것. 하지만 이번에도 하는 사람이 없는 사람이 있었던 사람 들이 있을 때 , 우리 나라가 있는 사람 들을 더 많이 하는 것. 하지만 이번에는 “ 우리 나라에서는 “ 우리 나라가 없',\n",
              " ' + 우리 나라는 : 우리 나라에는 ‘ 우리 나라 ’의‘ 우리 나라 ’로 하고 있어요. 우리 나라는 ‘ 우리 나라 ’을 하는 사람 들이 더 많아 지고 있어요. 하지만 중국은 “ 우리 나라는 “ 우리 나라에서도 , 우리 나라는 “ 우리 나라에 따라 , 우리 나라가 없다 ”라며 하는 사람 들이 있는 사람을 하고 있어요. ”는 “ 우리 나라에서는 “ 우리 나라',\n",
              " ' + 우리 나라는 : “ 우리 나라는 안 하는 사람이 없어. ” 하지만 이번에는 “ 우리 나라는 “ 우리 나라는 안 좋아 주겠다 ”는 ‘ 우리 나라 ’라는 말이 있는 것. ”는 ‘ 우리 나라에서도 있다 ’에는 ‘ 위안부 ’ 이라는 것 같은 사람의핵심 ’ 이라는 말이 있어요. 우리 나라는 ‘ 위안부 ’에도 있어요. 하지만 중국의‘ 위안부 ’은 ',\n",
              " ' + 미국에서도 하는 사람 들이 많아 지는 사람 들이 많아 지는 사람 들이 많은 사람 들이 많아 지는 사람 들이 더 많아 지는 것. 하지만 이번에는 ‘ 홍콩의‘ 위안부 ’의‘ 홍콩의힘이 많은 사람 들이 많은 사람 들이 많은 사람 들의‘ 위안부 ’의힘을 하는 것. 이 소식이 많은 사람 들이 많은 사람 들이 많은 사',\n",
              " ' + 미국에서는 ‘ 위안부 ’의‘ 위안부 ’ 이라는 말 이라는 말이 있어요. 하지만 이번에도 , 그 중 이라는 입장을 받고 있어요. 하지만 이번에는 “ 우리 나라가 없다 ”는 “ 우리 나라가 없다 ”는 ‘ 위안부 ’ 이라는 말을 받지 않았어요. 하지만 이번에도 , 이번에는 “ 우리 나라가 없다 ”는 “ 우리 나라가 있다 ”는 ‘ 위안부 ’ 이라',\n",
              " ' + 우리 나라는 : “ 우리 나라는 ” 하지만 이번에도 , 우리 나라는 ‘ 위안부 ’ 이라는 말로도 있어요. .. ‘ 우리 나라 ’도 있고 , 우리 나라는 “ 우리 나라는 없다 ”는 ‘ 위안부 ’ 이라는 것. ’을 받지 않았어요. 하지만 이번에는 “ 우리 나라에서는 ‘ 위안부 ’을 하는 사람 들이 되는 사람 들의힘을 받을 수 있는 사람 들의힘',\n",
              " ' + 미국에서는 : 미국이 중국을 하는 사람이 많아 지면서 , 중국이 많은 사람 들이 많은 사람 들이 많은 사람이 많은 사람이 많은 사람이 많은 사람 들이 많아 지는 것. 그런데 이번에는 ‘ 위안부 ’에도 , 중국의‘ 홍콩 시위가 ‘ 위안부 ’을 하는 것. 하지만 중국은 ‘ 홍콩의‘ 위안부 ’의‘ 홍콩 ’ 이라는 용어 ’의‘ 홍콩 ’',\n",
              " ' + 우리 나라는 : “ 우리 나라는 우리 나라에 안 좋아요. ” 고는 “ 우리 나라가 없다 ”는 “ 우리 나라는 없다 ” 이라는 것 같아요. ”는 ‘ 우리 나라가 없다 ’을 하는 사람을 하는 사람 들이 없었어요. 하지만 이번에는 “ 우리 나라에서도 안 좋아 지고 , 우리 나라는 “ 우리 나라에서도 , 이번에도 하고 있어요. ”는 “ 우',\n",
              " ' + 우리 나라는 : “ 우리 나라는 없어 ”라고 말하는 사람이 있을 때도 있어요. 하지만 이번에는 ‘ 너 네 카 ’을 받을 수 있는 사람이 있어요. 하지만 중국은 “ 우리 나라가 없다 ”는 “ 우리 나라는 입장을 하는 사람 들이 있는 것. ”는 “ 우리 나라가 없었지만 , 이번에도 있었던 사람 들이 있는 사람 들이 있을 수 ',\n",
              " ' + 우리 나라는 : “ 우리 나라는 우리 나라는 없어 ”라고 말하는 것 같은 사람이 되는 것 같아요. 하지만 이번에는 “ 우리 나라는 ‘ 우리 나라 ’을 하는 사람이 더 많아 지는 사람 들이 있어요. 하지만 이번에는 “ 우리 나라에는 없다 ” 고 정도로 , 우리 나라에도 , 우리 나라에는 “ 우리 나라가 없다 ” 고 수 있고 , 우리 나라에',\n",
              " ' + 우리 나라는 : “ 우리도 안 하고 있어. ” 미국에서는 안 좋아 지는 사람이 있었어요. 하지만 미국에서는 이번에는 우리 나라에서는 ‘ 우리 나라 ’을 하는 사람 들이 있었어요. 하지만 중국은 “ 우리 나라는 ‘ 위안부 ’을 하는 사람 들이 더는 없다 ”라고 비판하는 사람 들이 있는 것. 하지만 이번에는 ‘ 중국은 “ 우리 나라가 없',\n",
              " ' + 우리 나라는 : “ 우리 나라는 우리 나라에 안 하는 사람이 없다 ”는 ‘ 위안부 ’ 이라는 용어를 하는 사람이 있어요. 하지만 이번에는 ‘ 위안부 ’를 두고 있는 사람이 있는걸 말하는 사람이 있는걸 막을 수 있는 사람 들이 있어요. 하지만 이번에는 ‘ 위안부 ’을 하는 사람 들이 많은 사람 들이 있는 사람 들이 있는 사람 들',\n",
              " ' + 우리 나라는 : 우리 나라는 ‘ 우리 나라 ’에 따라 ‘ 우리 나라 ’ 이에요. 우리 나라에는 ‘ 우리 나라 ’을 하고 있어요. 하지만 우리 나라는 “ 우리 나라는 ‘ 위안부 ’ 이라는 용어가 없다 ”는 ‘ 위안부 ’에도 있어요. 하지만 이번에는 , 우리 나라는 ‘ 위안부 ’에도 하고 , 우리 나라는 “ 우리 나라의‘ 위안부 ’ 이라는 것. ”는 “ 우리 나라는 ',\n",
              " ' + 우리 나라는 : “ 우리 나라는 우리 나라에 없다! ” 하지만 중국이 되는 사람이 더 많이 안 좋아요. 하지만 미국은 “ 우리 나라에도 , 우리 나라는 없어 주는 것 같은 사람이 없다 ”는 ‘ 너 네 카 ’ 이라는 것. 하지만 중국은 “ 우리 나라에서도 , 우리 나라가 없다 ”는 ‘ 너도 있었고 있어요. 하지만 중국의‘ 우리 나라는 ‘ 우리 나라에',\n",
              " ' + 우리 나라는 : “ 우리 나라는 안 좋아 주는 것 같아요. ” 미국에서는 우리 나라에서도 안 좋아 지고 , 우리 나라가 안 좋아 지고 있어요. 하지만 미국이 있는 사람 들이 더 많이 안 좋아 지는 사람 들도 있었어요. 하지만 이번에는 “ 우리 나라가 없다 ”는 중국이 더는 “ 우리 나라가 없다 ”며 , 미국이 없다 ”는 없는 ',\n",
              " ' + 우리 나라는 : “ 우리 나라는 우리 나라에 안 좋아 ” 하지만 이번에는 “ 우리 나라는 ‘ 위안부 ’이 없다 ” 이라는 말도 있어요. ’ 이라는 것. 하지만 이번에는 ‘ 위안부 ’ 이라는 말도 있는 사람 들이 있어요. 하지만 이번에는 “ 우리 나라에서도 있는 사람이 있을 때도 , 우리 나라가 없다 ”는 “ 우리 나라가 없다 ” 이라는 입장을 ',\n",
              " ' + 미국에서는 : “ 우리 나라는 ” 미국에서는 ‘ 위안부 ’ 이라는 것. ..가 없는 사람이 없었어요. 하지만 중국은 “ 우리 나라가 없다 ”는 중국은 “ 우리 나라가 없다 ”라고 비판하는 사람 들의힘을 받고 있어요. 하지만 이번에는 “ 우리 나라가 없다 ”는 말 이라는 것 같은 사람 들이 있었던 사람 들의힘을 받지 않았어요',\n",
              " ' + 우리 나라는 : “ 우리 나라는. ” 미국에서는 ‘ 우리 나라 ’을 하고 있어요. 하지만 이번에는 ‘ 우리 나라 ’에도 하는 사람 들이 있었어요. 하지만 이번에도 “ 우리 나라는 “ 우리 나라에서도 안 좋아 주겠다 ” 고 하는 사람 들이 있을 수 있는 사람 들이 있는 사람 들도 있어요. 하지만 중국은 “ 우리 나라는 “ 우리 나라는 “ 우리 나',\n",
              " ' + 우리 나라는 : “ 우리 나라는 없을 때 , 우리 나라는 없어 주는 것 같아요. ”는 ‘ 너 네 카 ’이 있을 수 있어요. 하지만 이번에는 “ 우리 나라가 없다 ”는 “ 우리 나라가 없다 ”는 “ 우리 나라가 없다 ”는 “ 우리 나라에도 있다 ” 이라는 것. ”는 없다 ”는 “ 우리 나라가 없다 ”는 “ 우리 나라가 없다 ']"
            ]
          },
          "metadata": {},
          "execution_count": 87
        }
      ]
    },
    {
      "cell_type": "code",
      "metadata": {
        "id": "6bQg7-VddV4f"
      },
      "source": [
        ""
      ],
      "execution_count": null,
      "outputs": []
    }
  ]
}