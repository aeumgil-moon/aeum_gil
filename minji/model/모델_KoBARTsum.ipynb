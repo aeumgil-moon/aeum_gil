{
  "nbformat": 4,
  "nbformat_minor": 0,
  "metadata": {
    "colab": {
      "name": "모델_KoBARTsum.ipynb",
      "provenance": [],
      "collapsed_sections": []
    },
    "kernelspec": {
      "name": "python3",
      "display_name": "Python 3"
    },
    "language_info": {
      "name": "python"
    },
    "accelerator": "GPU"
  },
  "cells": [
    {
      "cell_type": "code",
      "metadata": {
        "colab": {
          "base_uri": "https://localhost:8080/",
          "height": 1000
        },
        "id": "2yyFAVfFXnqG",
        "outputId": "790b3fbf-8802-413a-f559-e835601379a4"
      },
      "source": [
        "!pip install git+https://github.com/SKT-AI/KoBART#egg=kobart\n",
        "!pip install gdown"
      ],
      "execution_count": null,
      "outputs": [
        {
          "output_type": "stream",
          "name": "stdout",
          "text": [
            "Collecting kobart\n",
            "  Cloning https://github.com/SKT-AI/KoBART to /tmp/pip-install-zgu8bflm/kobart_085a72c1d4c54b8f8bf0bcf1c9ffd76c\n",
            "  Running command git clone -q https://github.com/SKT-AI/KoBART /tmp/pip-install-zgu8bflm/kobart_085a72c1d4c54b8f8bf0bcf1c9ffd76c\n",
            "Collecting transformers==4.3.3\n",
            "  Downloading transformers-4.3.3-py3-none-any.whl (1.9 MB)\n",
            "\u001b[K     |████████████████████████████████| 1.9 MB 7.1 MB/s \n",
            "\u001b[?25hCollecting torch==1.7.1\n",
            "  Downloading torch-1.7.1-cp37-cp37m-manylinux1_x86_64.whl (776.8 MB)\n",
            "\u001b[K     |████████████████████████████████| 776.8 MB 17 kB/s \n",
            "\u001b[?25hRequirement already satisfied: numpy in /usr/local/lib/python3.7/dist-packages (from torch==1.7.1->kobart) (1.19.5)\n",
            "Requirement already satisfied: typing-extensions in /usr/local/lib/python3.7/dist-packages (from torch==1.7.1->kobart) (3.7.4.3)\n",
            "Collecting sacremoses\n",
            "  Downloading sacremoses-0.0.46-py3-none-any.whl (895 kB)\n",
            "\u001b[K     |████████████████████████████████| 895 kB 52.9 MB/s \n",
            "\u001b[?25hRequirement already satisfied: packaging in /usr/local/lib/python3.7/dist-packages (from transformers==4.3.3->kobart) (21.0)\n",
            "Requirement already satisfied: importlib-metadata in /usr/local/lib/python3.7/dist-packages (from transformers==4.3.3->kobart) (4.8.1)\n",
            "Collecting tokenizers<0.11,>=0.10.1\n",
            "  Downloading tokenizers-0.10.3-cp37-cp37m-manylinux_2_5_x86_64.manylinux1_x86_64.manylinux_2_12_x86_64.manylinux2010_x86_64.whl (3.3 MB)\n",
            "\u001b[K     |████████████████████████████████| 3.3 MB 49.0 MB/s \n",
            "\u001b[?25hRequirement already satisfied: regex!=2019.12.17 in /usr/local/lib/python3.7/dist-packages (from transformers==4.3.3->kobart) (2019.12.20)\n",
            "Requirement already satisfied: filelock in /usr/local/lib/python3.7/dist-packages (from transformers==4.3.3->kobart) (3.3.0)\n",
            "Requirement already satisfied: requests in /usr/local/lib/python3.7/dist-packages (from transformers==4.3.3->kobart) (2.23.0)\n",
            "Requirement already satisfied: tqdm>=4.27 in /usr/local/lib/python3.7/dist-packages (from transformers==4.3.3->kobart) (4.62.3)\n",
            "Requirement already satisfied: zipp>=0.5 in /usr/local/lib/python3.7/dist-packages (from importlib-metadata->transformers==4.3.3->kobart) (3.6.0)\n",
            "Requirement already satisfied: pyparsing>=2.0.2 in /usr/local/lib/python3.7/dist-packages (from packaging->transformers==4.3.3->kobart) (2.4.7)\n",
            "Requirement already satisfied: certifi>=2017.4.17 in /usr/local/lib/python3.7/dist-packages (from requests->transformers==4.3.3->kobart) (2021.5.30)\n",
            "Requirement already satisfied: chardet<4,>=3.0.2 in /usr/local/lib/python3.7/dist-packages (from requests->transformers==4.3.3->kobart) (3.0.4)\n",
            "Requirement already satisfied: urllib3!=1.25.0,!=1.25.1,<1.26,>=1.21.1 in /usr/local/lib/python3.7/dist-packages (from requests->transformers==4.3.3->kobart) (1.24.3)\n",
            "Requirement already satisfied: idna<3,>=2.5 in /usr/local/lib/python3.7/dist-packages (from requests->transformers==4.3.3->kobart) (2.10)\n",
            "Requirement already satisfied: six in /usr/local/lib/python3.7/dist-packages (from sacremoses->transformers==4.3.3->kobart) (1.15.0)\n",
            "Requirement already satisfied: joblib in /usr/local/lib/python3.7/dist-packages (from sacremoses->transformers==4.3.3->kobart) (1.0.1)\n",
            "Requirement already satisfied: click in /usr/local/lib/python3.7/dist-packages (from sacremoses->transformers==4.3.3->kobart) (7.1.2)\n",
            "Building wheels for collected packages: kobart\n",
            "  Building wheel for kobart (setup.py) ... \u001b[?25l\u001b[?25hdone\n",
            "  Created wheel for kobart: filename=kobart-0.4-py3-none-any.whl size=8538 sha256=9545fea1d9f5720293cda8ae54f47636b4655b9becaa186415dcbd3297e08559\n",
            "  Stored in directory: /tmp/pip-ephem-wheel-cache-164tboth/wheels/6e/55/c4/bd4fede223bc304089ac8da2a2099a69db3fcd4b0e853383f5\n",
            "Successfully built kobart\n",
            "Installing collected packages: tokenizers, sacremoses, transformers, torch, kobart\n",
            "  Attempting uninstall: torch\n",
            "    Found existing installation: torch 1.9.0+cu111\n",
            "    Uninstalling torch-1.9.0+cu111:\n",
            "      Successfully uninstalled torch-1.9.0+cu111\n",
            "\u001b[31mERROR: pip's dependency resolver does not currently take into account all the packages that are installed. This behaviour is the source of the following dependency conflicts.\n",
            "torchvision 0.10.0+cu111 requires torch==1.9.0, but you have torch 1.7.1 which is incompatible.\n",
            "torchtext 0.10.0 requires torch==1.9.0, but you have torch 1.7.1 which is incompatible.\u001b[0m\n",
            "Successfully installed kobart-0.4 sacremoses-0.0.46 tokenizers-0.10.3 torch-1.7.1 transformers-4.3.3\n"
          ]
        },
        {
          "output_type": "display_data",
          "data": {
            "application/vnd.colab-display-data+json": {
              "pip_warning": {
                "packages": [
                  "torch"
                ]
              }
            }
          },
          "metadata": {}
        },
        {
          "output_type": "stream",
          "name": "stdout",
          "text": [
            "Requirement already satisfied: gdown in /usr/local/lib/python3.7/dist-packages (3.6.4)\n",
            "Requirement already satisfied: six in /usr/local/lib/python3.7/dist-packages (from gdown) (1.15.0)\n",
            "Requirement already satisfied: tqdm in /usr/local/lib/python3.7/dist-packages (from gdown) (4.62.3)\n",
            "Requirement already satisfied: requests in /usr/local/lib/python3.7/dist-packages (from gdown) (2.23.0)\n",
            "Requirement already satisfied: certifi>=2017.4.17 in /usr/local/lib/python3.7/dist-packages (from requests->gdown) (2021.5.30)\n",
            "Requirement already satisfied: chardet<4,>=3.0.2 in /usr/local/lib/python3.7/dist-packages (from requests->gdown) (3.0.4)\n",
            "Requirement already satisfied: idna<3,>=2.5 in /usr/local/lib/python3.7/dist-packages (from requests->gdown) (2.10)\n",
            "Requirement already satisfied: urllib3!=1.25.0,!=1.25.1,<1.26,>=1.21.1 in /usr/local/lib/python3.7/dist-packages (from requests->gdown) (1.24.3)\n"
          ]
        }
      ]
    },
    {
      "cell_type": "code",
      "metadata": {
        "colab": {
          "base_uri": "https://localhost:8080/"
        },
        "id": "UpiWm97ahwuf",
        "outputId": "d467690b-2635-49df-aa90-463242d8a9c0"
      },
      "source": [
        "%cd /content/drive/MyDrive/data"
      ],
      "execution_count": null,
      "outputs": [
        {
          "output_type": "stream",
          "name": "stdout",
          "text": [
            "/content/drive/MyDrive/data\n"
          ]
        }
      ]
    },
    {
      "cell_type": "code",
      "metadata": {
        "colab": {
          "base_uri": "https://localhost:8080/"
        },
        "id": "dut-LBUKk4wb",
        "outputId": "d178ae0e-aeed-41fe-8653-70dd1a365d66"
      },
      "source": [
        "# !git clone https://github.com/seujung/KoBART-summarization.git"
      ],
      "execution_count": null,
      "outputs": [
        {
          "output_type": "stream",
          "name": "stdout",
          "text": [
            "Cloning into 'KoBART-summarization'...\n",
            "remote: Enumerating objects: 110, done.\u001b[K\n",
            "remote: Counting objects: 100% (110/110), done.\u001b[K\n",
            "remote: Compressing objects: 100% (82/82), done.\u001b[K\n",
            "remote: Total 110 (delta 56), reused 69 (delta 25), pack-reused 0\u001b[K\n",
            "Receiving objects: 100% (110/110), 37.22 MiB | 13.63 MiB/s, done.\n",
            "Resolving deltas: 100% (56/56), done.\n"
          ]
        }
      ]
    },
    {
      "cell_type": "code",
      "metadata": {
        "colab": {
          "base_uri": "https://localhost:8080/"
        },
        "id": "ShrKzFKNlBeP",
        "outputId": "53d77d58-fe08-4b23-fe79-ace5b8bc6844"
      },
      "source": [
        "%cd KoBART-summarization"
      ],
      "execution_count": null,
      "outputs": [
        {
          "output_type": "stream",
          "name": "stdout",
          "text": [
            "/content/drive/My Drive/data/KoBART-summarization\n"
          ]
        }
      ]
    },
    {
      "cell_type": "code",
      "metadata": {
        "colab": {
          "base_uri": "https://localhost:8080/",
          "height": 1000
        },
        "id": "m3akcSGHYMR-",
        "outputId": "c3b910c5-2435-4955-8a47-eb6cc3504f76"
      },
      "source": [
        "!python download_binary.py\n",
        "!bash install_kobart.sh\n",
        "!pip install -r requirements.txt"
      ],
      "execution_count": null,
      "outputs": [
        {
          "output_type": "stream",
          "name": "stdout",
          "text": [
            "== Data existed.==\n",
            "Collecting kobart\n",
            "  Cloning https://github.com/SKT-AI/KoBART to /tmp/pip-install-qpk4gjc7/kobart_33544fc434654072b2f966203f34c7ec\n",
            "  Running command git clone -q https://github.com/SKT-AI/KoBART /tmp/pip-install-qpk4gjc7/kobart_33544fc434654072b2f966203f34c7ec\n",
            "Requirement already satisfied: transformers==4.3.3 in /usr/local/lib/python3.7/dist-packages (from kobart) (4.3.3)\n",
            "Requirement already satisfied: torch==1.7.1 in /usr/local/lib/python3.7/dist-packages (from kobart) (1.7.1)\n",
            "Requirement already satisfied: numpy in /usr/local/lib/python3.7/dist-packages (from torch==1.7.1->kobart) (1.19.5)\n",
            "Requirement already satisfied: typing-extensions in /usr/local/lib/python3.7/dist-packages (from torch==1.7.1->kobart) (3.7.4.3)\n",
            "Requirement already satisfied: tokenizers<0.11,>=0.10.1 in /usr/local/lib/python3.7/dist-packages (from transformers==4.3.3->kobart) (0.10.3)\n",
            "Requirement already satisfied: tqdm>=4.27 in /usr/local/lib/python3.7/dist-packages (from transformers==4.3.3->kobart) (4.62.3)\n",
            "Requirement already satisfied: packaging in /usr/local/lib/python3.7/dist-packages (from transformers==4.3.3->kobart) (21.0)\n",
            "Requirement already satisfied: regex!=2019.12.17 in /usr/local/lib/python3.7/dist-packages (from transformers==4.3.3->kobart) (2019.12.20)\n",
            "Requirement already satisfied: importlib-metadata in /usr/local/lib/python3.7/dist-packages (from transformers==4.3.3->kobart) (4.8.1)\n",
            "Requirement already satisfied: sacremoses in /usr/local/lib/python3.7/dist-packages (from transformers==4.3.3->kobart) (0.0.46)\n",
            "Requirement already satisfied: requests in /usr/local/lib/python3.7/dist-packages (from transformers==4.3.3->kobart) (2.23.0)\n",
            "Requirement already satisfied: filelock in /usr/local/lib/python3.7/dist-packages (from transformers==4.3.3->kobart) (3.3.0)\n",
            "Requirement already satisfied: zipp>=0.5 in /usr/local/lib/python3.7/dist-packages (from importlib-metadata->transformers==4.3.3->kobart) (3.6.0)\n",
            "Requirement already satisfied: pyparsing>=2.0.2 in /usr/local/lib/python3.7/dist-packages (from packaging->transformers==4.3.3->kobart) (2.4.7)\n",
            "Requirement already satisfied: idna<3,>=2.5 in /usr/local/lib/python3.7/dist-packages (from requests->transformers==4.3.3->kobart) (2.10)\n",
            "Requirement already satisfied: certifi>=2017.4.17 in /usr/local/lib/python3.7/dist-packages (from requests->transformers==4.3.3->kobart) (2021.5.30)\n",
            "Requirement already satisfied: chardet<4,>=3.0.2 in /usr/local/lib/python3.7/dist-packages (from requests->transformers==4.3.3->kobart) (3.0.4)\n",
            "Requirement already satisfied: urllib3!=1.25.0,!=1.25.1,<1.26,>=1.21.1 in /usr/local/lib/python3.7/dist-packages (from requests->transformers==4.3.3->kobart) (1.24.3)\n",
            "Requirement already satisfied: click in /usr/local/lib/python3.7/dist-packages (from sacremoses->transformers==4.3.3->kobart) (7.1.2)\n",
            "Requirement already satisfied: joblib in /usr/local/lib/python3.7/dist-packages (from sacremoses->transformers==4.3.3->kobart) (1.0.1)\n",
            "Requirement already satisfied: six in /usr/local/lib/python3.7/dist-packages (from sacremoses->transformers==4.3.3->kobart) (1.15.0)\n",
            "Requirement already satisfied: pandas in /usr/local/lib/python3.7/dist-packages (from -r requirements.txt (line 1)) (1.1.5)\n",
            "Collecting torch==1.9.0\n",
            "  Downloading torch-1.9.0-cp37-cp37m-manylinux1_x86_64.whl (831.4 MB)\n",
            "\u001b[K     |████████████████████████████████| 831.4 MB 2.8 kB/s \n",
            "\u001b[?25hCollecting transformers==4.8.2\n",
            "  Downloading transformers-4.8.2-py3-none-any.whl (2.5 MB)\n",
            "\u001b[K     |████████████████████████████████| 2.5 MB 62.8 MB/s \n",
            "\u001b[?25hCollecting pytorch-lightning==1.3.8\n",
            "  Downloading pytorch_lightning-1.3.8-py3-none-any.whl (813 kB)\n",
            "\u001b[K     |████████████████████████████████| 813 kB 67.3 MB/s \n",
            "\u001b[?25hCollecting streamlit==0.72.0\n",
            "  Downloading streamlit-0.72.0-py2.py3-none-any.whl (7.4 MB)\n",
            "\u001b[K     |████████████████████████████████| 7.4 MB 9.4 MB/s \n",
            "\u001b[?25hRequirement already satisfied: typing-extensions in /usr/local/lib/python3.7/dist-packages (from torch==1.9.0->-r requirements.txt (line 2)) (3.7.4.3)\n",
            "Requirement already satisfied: pyyaml in /usr/local/lib/python3.7/dist-packages (from transformers==4.8.2->-r requirements.txt (line 3)) (3.13)\n",
            "Requirement already satisfied: tokenizers<0.11,>=0.10.1 in /usr/local/lib/python3.7/dist-packages (from transformers==4.8.2->-r requirements.txt (line 3)) (0.10.3)\n",
            "Requirement already satisfied: tqdm>=4.27 in /usr/local/lib/python3.7/dist-packages (from transformers==4.8.2->-r requirements.txt (line 3)) (4.62.3)\n",
            "Collecting huggingface-hub==0.0.12\n",
            "  Downloading huggingface_hub-0.0.12-py3-none-any.whl (37 kB)\n",
            "Requirement already satisfied: requests in /usr/local/lib/python3.7/dist-packages (from transformers==4.8.2->-r requirements.txt (line 3)) (2.23.0)\n",
            "Requirement already satisfied: numpy>=1.17 in /usr/local/lib/python3.7/dist-packages (from transformers==4.8.2->-r requirements.txt (line 3)) (1.19.5)\n",
            "Requirement already satisfied: regex!=2019.12.17 in /usr/local/lib/python3.7/dist-packages (from transformers==4.8.2->-r requirements.txt (line 3)) (2019.12.20)\n",
            "Requirement already satisfied: sacremoses in /usr/local/lib/python3.7/dist-packages (from transformers==4.8.2->-r requirements.txt (line 3)) (0.0.46)\n",
            "Requirement already satisfied: importlib-metadata in /usr/local/lib/python3.7/dist-packages (from transformers==4.8.2->-r requirements.txt (line 3)) (4.8.1)\n",
            "Requirement already satisfied: packaging in /usr/local/lib/python3.7/dist-packages (from transformers==4.8.2->-r requirements.txt (line 3)) (21.0)\n",
            "Requirement already satisfied: filelock in /usr/local/lib/python3.7/dist-packages (from transformers==4.8.2->-r requirements.txt (line 3)) (3.3.0)\n",
            "Collecting torchmetrics>=0.2.0\n",
            "  Downloading torchmetrics-0.5.1-py3-none-any.whl (282 kB)\n",
            "\u001b[K     |████████████████████████████████| 282 kB 68.1 MB/s \n",
            "\u001b[?25hCollecting fsspec[http]!=2021.06.0,>=2021.05.0\n",
            "  Downloading fsspec-2021.10.0-py3-none-any.whl (125 kB)\n",
            "\u001b[K     |████████████████████████████████| 125 kB 73.0 MB/s \n",
            "\u001b[?25hCollecting pyyaml\n",
            "  Downloading PyYAML-5.4.1-cp37-cp37m-manylinux1_x86_64.whl (636 kB)\n",
            "\u001b[K     |████████████████████████████████| 636 kB 44.5 MB/s \n",
            "\u001b[?25hRequirement already satisfied: pillow!=8.3.0 in /usr/local/lib/python3.7/dist-packages (from pytorch-lightning==1.3.8->-r requirements.txt (line 4)) (7.1.2)\n",
            "Collecting pyDeprecate==0.3.0\n",
            "  Downloading pyDeprecate-0.3.0-py3-none-any.whl (10 kB)\n",
            "Requirement already satisfied: tensorboard!=2.5.0,>=2.2.0 in /usr/local/lib/python3.7/dist-packages (from pytorch-lightning==1.3.8->-r requirements.txt (line 4)) (2.6.0)\n",
            "Collecting future>=0.17.1\n",
            "  Downloading future-0.18.2.tar.gz (829 kB)\n",
            "\u001b[K     |████████████████████████████████| 829 kB 56.3 MB/s \n",
            "\u001b[?25hRequirement already satisfied: python-dateutil in /usr/local/lib/python3.7/dist-packages (from streamlit==0.72.0->-r requirements.txt (line 5)) (2.8.2)\n",
            "Collecting base58\n",
            "  Downloading base58-2.1.0-py3-none-any.whl (5.6 kB)\n",
            "Collecting gitpython\n",
            "  Downloading GitPython-3.1.24-py3-none-any.whl (180 kB)\n",
            "\u001b[K     |████████████████████████████████| 180 kB 61.9 MB/s \n",
            "\u001b[?25hRequirement already satisfied: pyarrow in /usr/local/lib/python3.7/dist-packages (from streamlit==0.72.0->-r requirements.txt (line 5)) (3.0.0)\n",
            "Collecting watchdog\n",
            "  Downloading watchdog-2.1.6-py3-none-manylinux2014_x86_64.whl (76 kB)\n",
            "\u001b[K     |████████████████████████████████| 76 kB 6.1 MB/s \n",
            "\u001b[?25hCollecting validators\n",
            "  Downloading validators-0.18.2-py3-none-any.whl (19 kB)\n",
            "Requirement already satisfied: tzlocal in /usr/local/lib/python3.7/dist-packages (from streamlit==0.72.0->-r requirements.txt (line 5)) (1.5.1)\n",
            "Collecting blinker\n",
            "  Downloading blinker-1.4.tar.gz (111 kB)\n",
            "\u001b[K     |████████████████████████████████| 111 kB 72.6 MB/s \n",
            "\u001b[?25hRequirement already satisfied: altair>=3.2.0 in /usr/local/lib/python3.7/dist-packages (from streamlit==0.72.0->-r requirements.txt (line 5)) (4.1.0)\n",
            "Requirement already satisfied: astor in /usr/local/lib/python3.7/dist-packages (from streamlit==0.72.0->-r requirements.txt (line 5)) (0.8.1)\n",
            "Collecting pydeck>=0.1.dev5\n",
            "  Downloading pydeck-0.7.0-py2.py3-none-any.whl (4.3 MB)\n",
            "\u001b[K     |████████████████████████████████| 4.3 MB 53.1 MB/s \n",
            "\u001b[?25hRequirement already satisfied: cachetools>=4.0 in /usr/local/lib/python3.7/dist-packages (from streamlit==0.72.0->-r requirements.txt (line 5)) (4.2.4)\n",
            "Requirement already satisfied: click>=7.0 in /usr/local/lib/python3.7/dist-packages (from streamlit==0.72.0->-r requirements.txt (line 5)) (7.1.2)\n",
            "Requirement already satisfied: tornado>=5.0 in /usr/local/lib/python3.7/dist-packages (from streamlit==0.72.0->-r requirements.txt (line 5)) (5.1.1)\n",
            "Requirement already satisfied: protobuf!=3.11,>=3.6.0 in /usr/local/lib/python3.7/dist-packages (from streamlit==0.72.0->-r requirements.txt (line 5)) (3.17.3)\n",
            "Requirement already satisfied: toml in /usr/local/lib/python3.7/dist-packages (from streamlit==0.72.0->-r requirements.txt (line 5)) (0.10.2)\n",
            "Requirement already satisfied: pytz>=2017.2 in /usr/local/lib/python3.7/dist-packages (from pandas->-r requirements.txt (line 1)) (2018.9)\n",
            "Requirement already satisfied: jinja2 in /usr/local/lib/python3.7/dist-packages (from altair>=3.2.0->streamlit==0.72.0->-r requirements.txt (line 5)) (2.11.3)\n",
            "Requirement already satisfied: toolz in /usr/local/lib/python3.7/dist-packages (from altair>=3.2.0->streamlit==0.72.0->-r requirements.txt (line 5)) (0.11.1)\n",
            "Requirement already satisfied: jsonschema in /usr/local/lib/python3.7/dist-packages (from altair>=3.2.0->streamlit==0.72.0->-r requirements.txt (line 5)) (2.6.0)\n",
            "Requirement already satisfied: entrypoints in /usr/local/lib/python3.7/dist-packages (from altair>=3.2.0->streamlit==0.72.0->-r requirements.txt (line 5)) (0.3)\n",
            "Collecting aiohttp\n",
            "  Downloading aiohttp-3.7.4.post0-cp37-cp37m-manylinux2014_x86_64.whl (1.3 MB)\n",
            "\u001b[K     |████████████████████████████████| 1.3 MB 40.0 MB/s \n",
            "\u001b[?25hRequirement already satisfied: pyparsing>=2.0.2 in /usr/local/lib/python3.7/dist-packages (from packaging->transformers==4.8.2->-r requirements.txt (line 3)) (2.4.7)\n",
            "Requirement already satisfied: six>=1.9 in /usr/local/lib/python3.7/dist-packages (from protobuf!=3.11,>=3.6.0->streamlit==0.72.0->-r requirements.txt (line 5)) (1.15.0)\n",
            "Requirement already satisfied: ipywidgets>=7.0.0 in /usr/local/lib/python3.7/dist-packages (from pydeck>=0.1.dev5->streamlit==0.72.0->-r requirements.txt (line 5)) (7.6.5)\n",
            "Requirement already satisfied: traitlets>=4.3.2 in /usr/local/lib/python3.7/dist-packages (from pydeck>=0.1.dev5->streamlit==0.72.0->-r requirements.txt (line 5)) (5.1.0)\n",
            "Collecting ipykernel>=5.1.2\n",
            "  Downloading ipykernel-6.4.1-py3-none-any.whl (124 kB)\n",
            "\u001b[K     |████████████████████████████████| 124 kB 74.9 MB/s \n",
            "\u001b[?25hRequirement already satisfied: jupyter-client<8.0 in /usr/local/lib/python3.7/dist-packages (from ipykernel>=5.1.2->pydeck>=0.1.dev5->streamlit==0.72.0->-r requirements.txt (line 5)) (5.3.5)\n",
            "Requirement already satisfied: argcomplete>=1.12.3 in /usr/local/lib/python3.7/dist-packages (from ipykernel>=5.1.2->pydeck>=0.1.dev5->streamlit==0.72.0->-r requirements.txt (line 5)) (1.12.3)\n",
            "Requirement already satisfied: matplotlib-inline<0.2.0,>=0.1.0 in /usr/local/lib/python3.7/dist-packages (from ipykernel>=5.1.2->pydeck>=0.1.dev5->streamlit==0.72.0->-r requirements.txt (line 5)) (0.1.3)\n",
            "Requirement already satisfied: debugpy<2.0,>=1.0.0 in /usr/local/lib/python3.7/dist-packages (from ipykernel>=5.1.2->pydeck>=0.1.dev5->streamlit==0.72.0->-r requirements.txt (line 5)) (1.0.0)\n",
            "Requirement already satisfied: ipython-genutils in /usr/local/lib/python3.7/dist-packages (from ipykernel>=5.1.2->pydeck>=0.1.dev5->streamlit==0.72.0->-r requirements.txt (line 5)) (0.2.0)\n",
            "Collecting ipython<8.0,>=7.23.1\n",
            "  Downloading ipython-7.28.0-py3-none-any.whl (788 kB)\n",
            "\u001b[K     |████████████████████████████████| 788 kB 61.5 MB/s \n",
            "\u001b[?25hRequirement already satisfied: zipp>=0.5 in /usr/local/lib/python3.7/dist-packages (from importlib-metadata->transformers==4.8.2->-r requirements.txt (line 3)) (3.6.0)\n",
            "Requirement already satisfied: pygments in /usr/local/lib/python3.7/dist-packages (from ipython<8.0,>=7.23.1->ipykernel>=5.1.2->pydeck>=0.1.dev5->streamlit==0.72.0->-r requirements.txt (line 5)) (2.6.1)\n",
            "Collecting prompt-toolkit!=3.0.0,!=3.0.1,<3.1.0,>=2.0.0\n",
            "  Downloading prompt_toolkit-3.0.20-py3-none-any.whl (370 kB)\n",
            "\u001b[K     |████████████████████████████████| 370 kB 67.5 MB/s \n",
            "\u001b[?25hRequirement already satisfied: pickleshare in /usr/local/lib/python3.7/dist-packages (from ipython<8.0,>=7.23.1->ipykernel>=5.1.2->pydeck>=0.1.dev5->streamlit==0.72.0->-r requirements.txt (line 5)) (0.7.5)\n",
            "Requirement already satisfied: setuptools>=18.5 in /usr/local/lib/python3.7/dist-packages (from ipython<8.0,>=7.23.1->ipykernel>=5.1.2->pydeck>=0.1.dev5->streamlit==0.72.0->-r requirements.txt (line 5)) (57.4.0)\n",
            "Requirement already satisfied: pexpect>4.3 in /usr/local/lib/python3.7/dist-packages (from ipython<8.0,>=7.23.1->ipykernel>=5.1.2->pydeck>=0.1.dev5->streamlit==0.72.0->-r requirements.txt (line 5)) (4.8.0)\n",
            "Requirement already satisfied: jedi>=0.16 in /usr/local/lib/python3.7/dist-packages (from ipython<8.0,>=7.23.1->ipykernel>=5.1.2->pydeck>=0.1.dev5->streamlit==0.72.0->-r requirements.txt (line 5)) (0.18.0)\n",
            "Requirement already satisfied: backcall in /usr/local/lib/python3.7/dist-packages (from ipython<8.0,>=7.23.1->ipykernel>=5.1.2->pydeck>=0.1.dev5->streamlit==0.72.0->-r requirements.txt (line 5)) (0.2.0)\n",
            "Requirement already satisfied: decorator in /usr/local/lib/python3.7/dist-packages (from ipython<8.0,>=7.23.1->ipykernel>=5.1.2->pydeck>=0.1.dev5->streamlit==0.72.0->-r requirements.txt (line 5)) (4.4.2)\n",
            "Requirement already satisfied: jupyterlab-widgets>=1.0.0 in /usr/local/lib/python3.7/dist-packages (from ipywidgets>=7.0.0->pydeck>=0.1.dev5->streamlit==0.72.0->-r requirements.txt (line 5)) (1.0.2)\n",
            "Requirement already satisfied: nbformat>=4.2.0 in /usr/local/lib/python3.7/dist-packages (from ipywidgets>=7.0.0->pydeck>=0.1.dev5->streamlit==0.72.0->-r requirements.txt (line 5)) (5.1.3)\n",
            "Requirement already satisfied: widgetsnbextension~=3.5.0 in /usr/local/lib/python3.7/dist-packages (from ipywidgets>=7.0.0->pydeck>=0.1.dev5->streamlit==0.72.0->-r requirements.txt (line 5)) (3.5.1)\n",
            "Requirement already satisfied: parso<0.9.0,>=0.8.0 in /usr/local/lib/python3.7/dist-packages (from jedi>=0.16->ipython<8.0,>=7.23.1->ipykernel>=5.1.2->pydeck>=0.1.dev5->streamlit==0.72.0->-r requirements.txt (line 5)) (0.8.2)\n",
            "Requirement already satisfied: MarkupSafe>=0.23 in /usr/local/lib/python3.7/dist-packages (from jinja2->altair>=3.2.0->streamlit==0.72.0->-r requirements.txt (line 5)) (2.0.1)\n",
            "Requirement already satisfied: jupyter-core>=4.6.0 in /usr/local/lib/python3.7/dist-packages (from jupyter-client<8.0->ipykernel>=5.1.2->pydeck>=0.1.dev5->streamlit==0.72.0->-r requirements.txt (line 5)) (4.8.1)\n",
            "Requirement already satisfied: pyzmq>=13 in /usr/local/lib/python3.7/dist-packages (from jupyter-client<8.0->ipykernel>=5.1.2->pydeck>=0.1.dev5->streamlit==0.72.0->-r requirements.txt (line 5)) (22.3.0)\n",
            "Requirement already satisfied: ptyprocess>=0.5 in /usr/local/lib/python3.7/dist-packages (from pexpect>4.3->ipython<8.0,>=7.23.1->ipykernel>=5.1.2->pydeck>=0.1.dev5->streamlit==0.72.0->-r requirements.txt (line 5)) (0.7.0)\n",
            "Requirement already satisfied: wcwidth in /usr/local/lib/python3.7/dist-packages (from prompt-toolkit!=3.0.0,!=3.0.1,<3.1.0,>=2.0.0->ipython<8.0,>=7.23.1->ipykernel>=5.1.2->pydeck>=0.1.dev5->streamlit==0.72.0->-r requirements.txt (line 5)) (0.2.5)\n",
            "Requirement already satisfied: google-auth-oauthlib<0.5,>=0.4.1 in /usr/local/lib/python3.7/dist-packages (from tensorboard!=2.5.0,>=2.2.0->pytorch-lightning==1.3.8->-r requirements.txt (line 4)) (0.4.6)\n",
            "Requirement already satisfied: tensorboard-plugin-wit>=1.6.0 in /usr/local/lib/python3.7/dist-packages (from tensorboard!=2.5.0,>=2.2.0->pytorch-lightning==1.3.8->-r requirements.txt (line 4)) (1.8.0)\n",
            "Requirement already satisfied: werkzeug>=0.11.15 in /usr/local/lib/python3.7/dist-packages (from tensorboard!=2.5.0,>=2.2.0->pytorch-lightning==1.3.8->-r requirements.txt (line 4)) (1.0.1)\n",
            "Requirement already satisfied: tensorboard-data-server<0.7.0,>=0.6.0 in /usr/local/lib/python3.7/dist-packages (from tensorboard!=2.5.0,>=2.2.0->pytorch-lightning==1.3.8->-r requirements.txt (line 4)) (0.6.1)\n",
            "Requirement already satisfied: markdown>=2.6.8 in /usr/local/lib/python3.7/dist-packages (from tensorboard!=2.5.0,>=2.2.0->pytorch-lightning==1.3.8->-r requirements.txt (line 4)) (3.3.4)\n",
            "Requirement already satisfied: wheel>=0.26 in /usr/local/lib/python3.7/dist-packages (from tensorboard!=2.5.0,>=2.2.0->pytorch-lightning==1.3.8->-r requirements.txt (line 4)) (0.37.0)\n",
            "Requirement already satisfied: absl-py>=0.4 in /usr/local/lib/python3.7/dist-packages (from tensorboard!=2.5.0,>=2.2.0->pytorch-lightning==1.3.8->-r requirements.txt (line 4)) (0.12.0)\n",
            "Requirement already satisfied: grpcio>=1.24.3 in /usr/local/lib/python3.7/dist-packages (from tensorboard!=2.5.0,>=2.2.0->pytorch-lightning==1.3.8->-r requirements.txt (line 4)) (1.41.0)\n",
            "Requirement already satisfied: google-auth<2,>=1.6.3 in /usr/local/lib/python3.7/dist-packages (from tensorboard!=2.5.0,>=2.2.0->pytorch-lightning==1.3.8->-r requirements.txt (line 4)) (1.35.0)\n",
            "Requirement already satisfied: pyasn1-modules>=0.2.1 in /usr/local/lib/python3.7/dist-packages (from google-auth<2,>=1.6.3->tensorboard!=2.5.0,>=2.2.0->pytorch-lightning==1.3.8->-r requirements.txt (line 4)) (0.2.8)\n",
            "Requirement already satisfied: rsa<5,>=3.1.4 in /usr/local/lib/python3.7/dist-packages (from google-auth<2,>=1.6.3->tensorboard!=2.5.0,>=2.2.0->pytorch-lightning==1.3.8->-r requirements.txt (line 4)) (4.7.2)\n",
            "Requirement already satisfied: requests-oauthlib>=0.7.0 in /usr/local/lib/python3.7/dist-packages (from google-auth-oauthlib<0.5,>=0.4.1->tensorboard!=2.5.0,>=2.2.0->pytorch-lightning==1.3.8->-r requirements.txt (line 4)) (1.3.0)\n",
            "Requirement already satisfied: pyasn1<0.5.0,>=0.4.6 in /usr/local/lib/python3.7/dist-packages (from pyasn1-modules>=0.2.1->google-auth<2,>=1.6.3->tensorboard!=2.5.0,>=2.2.0->pytorch-lightning==1.3.8->-r requirements.txt (line 4)) (0.4.8)\n",
            "Requirement already satisfied: urllib3!=1.25.0,!=1.25.1,<1.26,>=1.21.1 in /usr/local/lib/python3.7/dist-packages (from requests->transformers==4.8.2->-r requirements.txt (line 3)) (1.24.3)\n",
            "Requirement already satisfied: idna<3,>=2.5 in /usr/local/lib/python3.7/dist-packages (from requests->transformers==4.8.2->-r requirements.txt (line 3)) (2.10)\n",
            "Requirement already satisfied: certifi>=2017.4.17 in /usr/local/lib/python3.7/dist-packages (from requests->transformers==4.8.2->-r requirements.txt (line 3)) (2021.5.30)\n",
            "Requirement already satisfied: chardet<4,>=3.0.2 in /usr/local/lib/python3.7/dist-packages (from requests->transformers==4.8.2->-r requirements.txt (line 3)) (3.0.4)\n",
            "Requirement already satisfied: oauthlib>=3.0.0 in /usr/local/lib/python3.7/dist-packages (from requests-oauthlib>=0.7.0->google-auth-oauthlib<0.5,>=0.4.1->tensorboard!=2.5.0,>=2.2.0->pytorch-lightning==1.3.8->-r requirements.txt (line 4)) (3.1.1)\n",
            "Requirement already satisfied: notebook>=4.4.1 in /usr/local/lib/python3.7/dist-packages (from widgetsnbextension~=3.5.0->ipywidgets>=7.0.0->pydeck>=0.1.dev5->streamlit==0.72.0->-r requirements.txt (line 5)) (5.3.1)\n",
            "Requirement already satisfied: nbconvert in /usr/local/lib/python3.7/dist-packages (from notebook>=4.4.1->widgetsnbextension~=3.5.0->ipywidgets>=7.0.0->pydeck>=0.1.dev5->streamlit==0.72.0->-r requirements.txt (line 5)) (5.6.1)\n",
            "Requirement already satisfied: Send2Trash in /usr/local/lib/python3.7/dist-packages (from notebook>=4.4.1->widgetsnbextension~=3.5.0->ipywidgets>=7.0.0->pydeck>=0.1.dev5->streamlit==0.72.0->-r requirements.txt (line 5)) (1.8.0)\n",
            "Requirement already satisfied: terminado>=0.8.1 in /usr/local/lib/python3.7/dist-packages (from notebook>=4.4.1->widgetsnbextension~=3.5.0->ipywidgets>=7.0.0->pydeck>=0.1.dev5->streamlit==0.72.0->-r requirements.txt (line 5)) (0.12.1)\n",
            "Collecting async-timeout<4.0,>=3.0\n",
            "  Downloading async_timeout-3.0.1-py3-none-any.whl (8.2 kB)\n",
            "Collecting multidict<7.0,>=4.5\n",
            "  Downloading multidict-5.2.0-cp37-cp37m-manylinux_2_5_x86_64.manylinux1_x86_64.manylinux_2_12_x86_64.manylinux2010_x86_64.whl (160 kB)\n",
            "\u001b[K     |████████████████████████████████| 160 kB 66.6 MB/s \n",
            "\u001b[?25hRequirement already satisfied: attrs>=17.3.0 in /usr/local/lib/python3.7/dist-packages (from aiohttp->fsspec[http]!=2021.06.0,>=2021.05.0->pytorch-lightning==1.3.8->-r requirements.txt (line 4)) (21.2.0)\n",
            "Collecting yarl<2.0,>=1.0\n",
            "  Downloading yarl-1.7.0-cp37-cp37m-manylinux_2_5_x86_64.manylinux1_x86_64.manylinux_2_12_x86_64.manylinux2010_x86_64.whl (271 kB)\n",
            "\u001b[K     |████████████████████████████████| 271 kB 70.5 MB/s \n",
            "\u001b[?25hCollecting gitdb<5,>=4.0.1\n",
            "  Downloading gitdb-4.0.7-py3-none-any.whl (63 kB)\n",
            "\u001b[K     |████████████████████████████████| 63 kB 2.2 MB/s \n",
            "\u001b[?25hCollecting smmap<5,>=3.0.1\n",
            "  Downloading smmap-4.0.0-py2.py3-none-any.whl (24 kB)\n",
            "Requirement already satisfied: testpath in /usr/local/lib/python3.7/dist-packages (from nbconvert->notebook>=4.4.1->widgetsnbextension~=3.5.0->ipywidgets>=7.0.0->pydeck>=0.1.dev5->streamlit==0.72.0->-r requirements.txt (line 5)) (0.5.0)\n",
            "Requirement already satisfied: mistune<2,>=0.8.1 in /usr/local/lib/python3.7/dist-packages (from nbconvert->notebook>=4.4.1->widgetsnbextension~=3.5.0->ipywidgets>=7.0.0->pydeck>=0.1.dev5->streamlit==0.72.0->-r requirements.txt (line 5)) (0.8.4)\n",
            "Requirement already satisfied: bleach in /usr/local/lib/python3.7/dist-packages (from nbconvert->notebook>=4.4.1->widgetsnbextension~=3.5.0->ipywidgets>=7.0.0->pydeck>=0.1.dev5->streamlit==0.72.0->-r requirements.txt (line 5)) (4.1.0)\n",
            "Requirement already satisfied: defusedxml in /usr/local/lib/python3.7/dist-packages (from nbconvert->notebook>=4.4.1->widgetsnbextension~=3.5.0->ipywidgets>=7.0.0->pydeck>=0.1.dev5->streamlit==0.72.0->-r requirements.txt (line 5)) (0.7.1)\n",
            "Requirement already satisfied: pandocfilters>=1.4.1 in /usr/local/lib/python3.7/dist-packages (from nbconvert->notebook>=4.4.1->widgetsnbextension~=3.5.0->ipywidgets>=7.0.0->pydeck>=0.1.dev5->streamlit==0.72.0->-r requirements.txt (line 5)) (1.5.0)\n",
            "Requirement already satisfied: webencodings in /usr/local/lib/python3.7/dist-packages (from bleach->nbconvert->notebook>=4.4.1->widgetsnbextension~=3.5.0->ipywidgets>=7.0.0->pydeck>=0.1.dev5->streamlit==0.72.0->-r requirements.txt (line 5)) (0.5.1)\n",
            "Requirement already satisfied: joblib in /usr/local/lib/python3.7/dist-packages (from sacremoses->transformers==4.8.2->-r requirements.txt (line 3)) (1.0.1)\n",
            "Building wheels for collected packages: future, blinker\n",
            "  Building wheel for future (setup.py) ... \u001b[?25l\u001b[?25hdone\n",
            "  Created wheel for future: filename=future-0.18.2-py3-none-any.whl size=491070 sha256=5000c4e943c5faf6ae62e5dbcf564f60420166a02339e52f49e18967057e0f71\n",
            "  Stored in directory: /root/.cache/pip/wheels/56/b0/fe/4410d17b32f1f0c3cf54cdfb2bc04d7b4b8f4ae377e2229ba0\n",
            "  Building wheel for blinker (setup.py) ... \u001b[?25l\u001b[?25hdone\n",
            "  Created wheel for blinker: filename=blinker-1.4-py3-none-any.whl size=13478 sha256=81c0b7007344490215da7584a53f417e954aedc0411b8addafd3c4d46306a983\n",
            "  Stored in directory: /root/.cache/pip/wheels/22/f5/18/df711b66eb25b21325c132757d4314db9ac5e8dabeaf196eab\n",
            "Successfully built future blinker\n",
            "Installing collected packages: prompt-toolkit, ipython, ipykernel, multidict, yarl, smmap, async-timeout, torch, gitdb, fsspec, aiohttp, watchdog, validators, torchmetrics, pyyaml, pyDeprecate, pydeck, huggingface-hub, gitpython, future, blinker, base58, transformers, streamlit, pytorch-lightning\n",
            "  Attempting uninstall: prompt-toolkit\n",
            "    Found existing installation: prompt-toolkit 1.0.18\n",
            "    Uninstalling prompt-toolkit-1.0.18:\n",
            "      Successfully uninstalled prompt-toolkit-1.0.18\n",
            "  Attempting uninstall: ipython\n",
            "    Found existing installation: ipython 5.5.0\n",
            "    Uninstalling ipython-5.5.0:\n",
            "      Successfully uninstalled ipython-5.5.0\n",
            "  Attempting uninstall: ipykernel\n",
            "    Found existing installation: ipykernel 4.10.1\n",
            "    Uninstalling ipykernel-4.10.1:\n",
            "      Successfully uninstalled ipykernel-4.10.1\n",
            "  Attempting uninstall: torch\n",
            "    Found existing installation: torch 1.7.1\n",
            "    Uninstalling torch-1.7.1:\n",
            "      Successfully uninstalled torch-1.7.1\n",
            "  Attempting uninstall: pyyaml\n",
            "    Found existing installation: PyYAML 3.13\n",
            "    Uninstalling PyYAML-3.13:\n",
            "      Successfully uninstalled PyYAML-3.13\n",
            "  Attempting uninstall: future\n",
            "    Found existing installation: future 0.16.0\n",
            "    Uninstalling future-0.16.0:\n",
            "      Successfully uninstalled future-0.16.0\n",
            "  Attempting uninstall: transformers\n",
            "    Found existing installation: transformers 4.3.3\n",
            "    Uninstalling transformers-4.3.3:\n",
            "      Successfully uninstalled transformers-4.3.3\n",
            "\u001b[31mERROR: pip's dependency resolver does not currently take into account all the packages that are installed. This behaviour is the source of the following dependency conflicts.\n",
            "kobart 0.4 requires torch==1.7.1, but you have torch 1.9.0 which is incompatible.\n",
            "kobart 0.4 requires transformers==4.3.3, but you have transformers 4.8.2 which is incompatible.\n",
            "jupyter-console 5.2.0 requires prompt-toolkit<2.0.0,>=1.0.0, but you have prompt-toolkit 3.0.20 which is incompatible.\n",
            "google-colab 1.0.0 requires ipykernel~=4.10, but you have ipykernel 6.4.1 which is incompatible.\n",
            "google-colab 1.0.0 requires ipython~=5.5.0, but you have ipython 7.28.0 which is incompatible.\u001b[0m\n",
            "Successfully installed aiohttp-3.7.4.post0 async-timeout-3.0.1 base58-2.1.0 blinker-1.4 fsspec-2021.10.0 future-0.18.2 gitdb-4.0.7 gitpython-3.1.24 huggingface-hub-0.0.12 ipykernel-6.4.1 ipython-7.28.0 multidict-5.2.0 prompt-toolkit-3.0.20 pyDeprecate-0.3.0 pydeck-0.7.0 pytorch-lightning-1.3.8 pyyaml-5.4.1 smmap-4.0.0 streamlit-0.72.0 torch-1.9.0 torchmetrics-0.5.1 transformers-4.8.2 validators-0.18.2 watchdog-2.1.6 yarl-1.7.0\n"
          ]
        },
        {
          "output_type": "display_data",
          "data": {
            "application/vnd.colab-display-data+json": {
              "pip_warning": {
                "packages": [
                  "IPython",
                  "ipykernel",
                  "prompt_toolkit",
                  "torch"
                ]
              }
            }
          },
          "metadata": {}
        }
      ]
    },
    {
      "cell_type": "code",
      "metadata": {
        "colab": {
          "base_uri": "https://localhost:8080/"
        },
        "id": "6gKTgpjO2EFu",
        "outputId": "6b93080e-eb21-4b12-c7e8-adef25cbf938"
      },
      "source": [
        "!python train.py --train_file data/clean_train.csv --test_file data/clean_test.csv --gradient_clip_val 1.0 --max_epochs 50 --default_root_dir logs  --gpus 1 --batch_size 4 --num_workers 4"
      ],
      "execution_count": null,
      "outputs": [
        {
          "output_type": "stream",
          "name": "stdout",
          "text": [
            "INFO:root:Namespace(accelerator=None, accumulate_grad_batches=1, amp_backend='native', amp_level='O2', auto_lr_find=False, auto_scale_batch_size=False, auto_select_gpus=False, batch_size=4, benchmark=False, check_val_every_n_epoch=1, checkpoint_callback=True, checkpoint_path=None, default_root_dir='logs', deterministic=False, distributed_backend=None, fast_dev_run=False, flush_logs_every_n_steps=100, gpus=1, gradient_clip_algorithm='norm', gradient_clip_val=1.0, limit_predict_batches=1.0, limit_test_batches=1.0, limit_train_batches=1.0, limit_val_batches=1.0, log_every_n_steps=50, log_gpu_memory=None, logger=True, lr=3e-05, max_epochs=50, max_len=512, max_steps=None, max_time=None, min_epochs=None, min_steps=None, model_path=None, move_metrics_to_cpu=False, multiple_trainloader_mode='max_size_cycle', num_nodes=1, num_processes=1, num_sanity_val_steps=2, num_workers=4, overfit_batches=0.0, plugins=None, precision=32, prepare_data_per_node=True, process_position=0, profiler=None, progress_bar_refresh_rate=None, reload_dataloaders_every_epoch=False, replace_sampler_ddp=True, resume_from_checkpoint=None, stochastic_weight_avg=False, sync_batchnorm=False, terminate_on_nan=False, test_file='data/clean_test.csv', tpu_cores=None, track_grad_norm=-1, train_file='data/clean_train.csv', truncated_bptt_steps=None, val_check_interval=1.0, warmup_ratio=0.1, weights_save_path=None, weights_summary='top')\n",
            "[██████████████████████████████████████████████████]\n",
            "[██████████████████████████████████████████████████]\n",
            "using cached model\n",
            "GPU available: True, used: True\n",
            "TPU available: False, using: 0 TPU cores\n",
            "LOCAL_RANK: 0 - CUDA_VISIBLE_DEVICES: [0]\n",
            "/usr/local/lib/python3.7/dist-packages/torch/utils/data/dataloader.py:481: UserWarning: This DataLoader will create 4 worker processes in total. Our suggested max number of worker in current system is 2, which is smaller than what this DataLoader is going to create. Please be aware that excessive worker creation might get DataLoader running slow or even freeze, lower the worker number to avoid potential slowness/freeze if necessary.\n",
            "  cpuset_checked))\n",
            "INFO:root:number of workers 4, data length 1813\n",
            "INFO:root:num_train_steps : 5665\n",
            "INFO:root:num_warmup_steps : 566\n",
            "\n",
            "  | Name  | Type                         | Params\n",
            "-------------------------------------------------------\n",
            "0 | model | BartForConditionalGeneration | 123 M \n",
            "-------------------------------------------------------\n",
            "123 M     Trainable params\n",
            "0         Non-trainable params\n",
            "123 M     Total params\n",
            "495.440   Total estimated model params size (MB)\n",
            "Epoch 0:  96% 460/479 [02:41<00:06,  2.85it/s, loss=3.86, v_num=3, val_loss=10.40, train_loss=3.560]\n",
            "Validating: 0it [00:00, ?it/s]\u001b[A\n",
            "Validating:   0% 0/25 [00:00<?, ?it/s]\u001b[A\n",
            "Validating:  80% 20/25 [00:02<00:00,  8.36it/s]\u001b[A\n",
            "Epoch 0: 100% 479/479 [02:44<00:00,  2.91it/s, loss=3.75, v_num=3, val_loss=3.500, train_loss=2.960]\n",
            "                                               \u001b[AEpoch 0, global step 453: val_loss reached 3.50028 (best 3.50028), saving model to \"/content/drive/My Drive/data/KoBART-summarization/logs/model_chp/epoch=00-val_loss=3.500.ckpt\" as top 1\n",
            "tcmalloc: large alloc 1075716096 bytes == 0x557022d78000 @  0x7fa1a46e8615 0x556f2f64c4cc 0x556f2f72c47a 0x556f2f652f0c 0x7fa18a56a5d4 0x7fa18a572cd4 0x7fa18a5477e0 0x7fa17880b665 0x7fa178806f9e 0x7fa17880c13a 0x7fa18a547d2e 0x7fa189fddb88 0x556f2f650098 0x556f2f6c34d9 0x556f2f6bdced 0x556f2f650bda 0x556f2f6be915 0x556f2f6bd9ee 0x556f2f650bda 0x556f2f6c2d00 0x556f2f650afa 0x556f2f6be915 0x556f2f650afa 0x556f2f6bec0d 0x556f2f650afa 0x556f2f6bec0d 0x556f2f6bd9ee 0x556f2f650bda 0x556f2f6bec0d 0x556f2f6bd9ee 0x556f2f650bda\n",
            "tcmalloc: large alloc 1344651264 bytes == 0x556fc104e000 @  0x7fa1a46e8615 0x556f2f64c4cc 0x556f2f72c47a 0x556f2f652f0c 0x7fa18a56a5d4 0x7fa18a572cd4 0x7fa18a5477e0 0x7fa17880b665 0x7fa178806f9e 0x7fa17880c13a 0x7fa18a547d2e 0x7fa189fddb88 0x556f2f650098 0x556f2f6c34d9 0x556f2f6bdced 0x556f2f650bda 0x556f2f6be915 0x556f2f6bd9ee 0x556f2f650bda 0x556f2f6c2d00 0x556f2f650afa 0x556f2f6be915 0x556f2f650afa 0x556f2f6bec0d 0x556f2f650afa 0x556f2f6bec0d 0x556f2f6bd9ee 0x556f2f650bda 0x556f2f6bec0d 0x556f2f6bd9ee 0x556f2f650bda\n",
            "tcmalloc: large alloc 1680818176 bytes == 0x557066d04000 @  0x7fa1a46e8615 0x556f2f64c4cc 0x556f2f72c47a 0x556f2f652f0c 0x7fa18a56a5d4 0x7fa18a572cd4 0x7fa18a5477e0 0x7fa17880b665 0x7fa178806f9e 0x7fa17880c13a 0x7fa18a547d2e 0x7fa189fddb88 0x556f2f650098 0x556f2f6c34d9 0x556f2f6bdced 0x556f2f650bda 0x556f2f6be915 0x556f2f6bd9ee 0x556f2f650bda 0x556f2f6c2d00 0x556f2f650afa 0x556f2f6be915 0x556f2f650afa 0x556f2f6bec0d 0x556f2f650afa 0x556f2f6bec0d 0x556f2f6bd9ee 0x556f2f650bda 0x556f2f6bec0d 0x556f2f6bd9ee 0x556f2f650bda\n",
            "Epoch 0: 100% 479/479 [02:59<00:00,  2.67it/s, loss=3.75, v_num=3, val_loss=3.500, train_loss=2.960]tcmalloc: large alloc 1680818176 bytes == 0x557066d04000 @  0x7fa1a46e8615 0x556f2f64c4cc 0x556f2f72c47a 0x556f2f652f0c 0x7fa18a56a5d4 0x7fa18a572cd4 0x7fa18a5477e0 0x7fa17880b665 0x7fa178806f9e 0x7fa17880c13a 0x7fa18a547d2e 0x7fa189fddb88 0x556f2f650098 0x556f2f6c34d9 0x556f2f6bdced 0x556f2f650bda 0x556f2f6be915 0x556f2f6bd9ee 0x556f2f650bda 0x556f2f6c2d00 0x556f2f650afa 0x556f2f6be915 0x556f2f650afa 0x556f2f6bec0d 0x556f2f650afa 0x556f2f6bec0d 0x556f2f6bd9ee 0x556f2f650bda 0x556f2f6bec0d 0x556f2f6bd9ee 0x556f2f650bda\n",
            "Epoch 1:   8% 40/479 [00:15<02:44,  2.67it/s, loss=3.36, v_num=3, val_loss=3.500, train_loss=3.330]/usr/local/lib/python3.7/dist-packages/pytorch_lightning/trainer/trainer.py:897: UserWarning: Detected KeyboardInterrupt, attempting graceful shutdown...\n",
            "  rank_zero_warn('Detected KeyboardInterrupt, attempting graceful shutdown...')\n",
            "Traceback (most recent call last):\n",
            "  File \"train.py\", line 235, in <module>\n",
            "    model.save_pretrained(\"./kobart_summary\")\n",
            "  File \"/usr/local/lib/python3.7/dist-packages/torch/nn/modules/module.py\", line 1131, in __getattr__\n",
            "    type(self).__name__, name))\n",
            "AttributeError: 'KoBARTConditionalGeneration' object has no attribute 'save_pretrained'\n"
          ]
        }
      ]
    },
    {
      "cell_type": "code",
      "metadata": {
        "colab": {
          "base_uri": "https://localhost:8080/"
        },
        "id": "_L_Ph7WNN5ok",
        "outputId": "5ad89576-d174-401b-9cae-625efe97e314"
      },
      "source": [
        "!python get_model_binary.py --hparams /content/drive/MyDrive/data/KoBART-summarization/logs/tb_logs/default/version_0/hparams.yaml --model_binary /content/drive/MyDrive/data/KoBART-summarization/logs/model_chp/epoch=00-val_loss=3.553.ckpt"
      ],
      "execution_count": null,
      "outputs": [
        {
          "output_type": "stream",
          "name": "stdout",
          "text": [
            "get_model_binary.py:13: YAMLLoadWarning: calling yaml.load() without Loader=... is deprecated, as the default Loader is unsafe. Please read https://msg.pyyaml.org/load for full details.\n",
            "  hparams = yaml.load(f)\n",
            "using cached model\n",
            "using cached model\n"
          ]
        }
      ]
    },
    {
      "cell_type": "code",
      "metadata": {
        "id": "JRbh7CrEvSMM"
      },
      "source": [
        "import torch\n",
        "# import streamlit as st\n",
        "from kobart import get_kobart_tokenizer\n",
        "from transformers.models.bart import BartForConditionalGeneration\n",
        "\n",
        "def load_model():\n",
        "    model = BartForConditionalGeneration.from_pretrained('./kobart_summary')\n",
        "    # tokenizer = get_kobart_tokenizer()\n",
        "    return model\n",
        "\n",
        "model = load_model()\n",
        "tokenizer = get_kobart_tokenizer()\n",
        "\n",
        "def prediction(text):\n",
        "    input_ids = tokenizer.encode(text)\n",
        "    input_ids = torch.tensor(input_ids)\n",
        "    input_ids = input_ids.unsqueeze(0)\n",
        "    output = model.generate(input_ids, eos_token_id=1, max_length=512, num_beams=5)\n",
        "    output = tokenizer.decode(output[0], skip_special_tokens=True)\n",
        "    return output\n",
        "\n",
        "import pandas as pd\n",
        "test = pd.read_csv(\"/content/drive/MyDrive/data/KoBART-summarization/data/clean_test.csv\")"
      ],
      "execution_count": null,
      "outputs": []
    },
    {
      "cell_type": "code",
      "metadata": {
        "colab": {
          "base_uri": "https://localhost:8080/"
        },
        "id": "s7HVkwCS5k2P",
        "outputId": "689cec46-279f-4e93-f183-53f0baffe002"
      },
      "source": [
        "preds = test['original_text'].apply(prediction)"
      ],
      "execution_count": null,
      "outputs": [
        {
          "output_type": "stream",
          "name": "stderr",
          "text": [
            "/usr/local/lib/python3.7/dist-packages/torch/_tensor.py:575: UserWarning: floor_divide is deprecated, and will be removed in a future version of pytorch. It currently rounds toward 0 (like the 'trunc' function NOT 'floor'). This results in incorrect rounding for negative values.\n",
            "To keep the current behavior, use torch.div(a, b, rounding_mode='trunc'), or for actual floor division, use torch.div(a, b, rounding_mode='floor'). (Triggered internally at  /pytorch/aten/src/ATen/native/BinaryOps.cpp:467.)\n",
            "  return torch.floor_divide(self, other)\n"
          ]
        }
      ]
    },
    {
      "cell_type": "code",
      "metadata": {
        "colab": {
          "base_uri": "https://localhost:8080/"
        },
        "id": "CuaRuqu-5y6w",
        "outputId": "8d9c3220-714b-4e71-c5da-6117334c2568"
      },
      "source": [
        "print(preds)"
      ],
      "execution_count": null,
      "outputs": [
        {
          "output_type": "stream",
          "name": "stdout",
          "text": [
            "0     + 소프트웨어: 소프트웨어에 필요한 소프트웨어 정산 기간을 3개월에서 1년으로 연장...\n",
            "1     + 국회가 국회가 아직 입법하지 않은 건 문제가 있어요 : 국회가 아직 입법하지 않...\n",
            "2     르노삼 르노 르노 르노삼성 르노삼성 르노삼성 르노 르노 르노 르노 르노 르노 르노 ...\n",
            "3     미국에서 헬스베리티, 베릴리 같은 업체가 나올 있는 배경은 개인정보보호 제도의 기본...\n",
            "4     대한상공회의소 회장 : 대한상공회의소 회장 : 대한상공회의소 회장 : 대한상공회의소...\n",
            "                            ...                        \n",
            "95    충청남 충청남도는 지난 4일 전국에서 처음으로 고농도 미세먼지 저감을 위한 비상저감...\n",
            "96    조양호 한진그룹 회장의 갑작스런 타계 소식이 전해진 8일 오전, 조양호 한진그룹 회...\n",
            "97    조원 조 조원태 한진그룹 회장이 타계하면서 그의 재산을 물려받을 장남 조원태 대한항...\n",
            "98    조원호 한진그룹 회장이 8일 타계하면서 조원태 대한항공 사장의 ‘3세 경영’이 시작...\n",
            "99    국방 국방 국방 국방 국방 국방 국방 국방 국방 국방 국방 국방 국방 국방 국방 국...\n",
            "Name: original_text, Length: 100, dtype: object\n"
          ]
        }
      ]
    },
    {
      "cell_type": "code",
      "metadata": {
        "id": "kevYqXm8GrAU"
      },
      "source": [
        "import pandas as pd\n",
        "test = pd.read_csv(\"/content/drive/MyDrive/data/KoBART-summarization/data/clean_test.csv\")"
      ],
      "execution_count": null,
      "outputs": []
    },
    {
      "cell_type": "code",
      "metadata": {
        "colab": {
          "base_uri": "https://localhost:8080/",
          "height": 289
        },
        "id": "id0RrO2R755H",
        "outputId": "ddc9d349-aefa-4aa6-cc01-c197d779f8b6"
      },
      "source": [
        "test.head()"
      ],
      "execution_count": null,
      "outputs": [
        {
          "output_type": "execute_result",
          "data": {
            "text/html": [
              "<div>\n",
              "<style scoped>\n",
              "    .dataframe tbody tr th:only-of-type {\n",
              "        vertical-align: middle;\n",
              "    }\n",
              "\n",
              "    .dataframe tbody tr th {\n",
              "        vertical-align: top;\n",
              "    }\n",
              "\n",
              "    .dataframe thead th {\n",
              "        text-align: right;\n",
              "    }\n",
              "</style>\n",
              "<table border=\"1\" class=\"dataframe\">\n",
              "  <thead>\n",
              "    <tr style=\"text-align: right;\">\n",
              "      <th></th>\n",
              "      <th>Unnamed: 0</th>\n",
              "      <th>original_text</th>\n",
              "      <th>summary</th>\n",
              "    </tr>\n",
              "  </thead>\n",
              "  <tbody>\n",
              "    <tr>\n",
              "      <th>0</th>\n",
              "      <td>86975</td>\n",
              "      <td>벤처업계가 52시간 근로제와 관련, 탄력적 근로시간 정산 기간을 기존 3개월에서 1...</td>\n",
              "      <td>벤처업계는 법정 근로시간 관련 법률 개정은 자율적인 벤처기업 문화를 훼손할 우려가 ...</td>\n",
              "    </tr>\n",
              "    <tr>\n",
              "      <th>1</th>\n",
              "      <td>86976</td>\n",
              "      <td>백승현 기자 류장수 최저임금위원회 위원장이 최저임금 결정체계 개편이 지난해에 공식화...</td>\n",
              "      <td>최저임금 결정체계 개편이 지난해에 공식화되었음에도 불구하고 국회가 입법을 하지 않자...</td>\n",
              "    </tr>\n",
              "    <tr>\n",
              "      <th>2</th>\n",
              "      <td>86977</td>\n",
              "      <td>르노삼성자동차 직원 사이에서 이런 탄식이 이어지고 있다. 직원들의 우려대로 르노삼성...</td>\n",
              "      <td>직원들의 우려대로 르노삼성은 올해 1분기에 2015년 이후 최악의 판매량으로 떨어졌...</td>\n",
              "    </tr>\n",
              "    <tr>\n",
              "      <th>3</th>\n",
              "      <td>86978</td>\n",
              "      <td>배태웅 기자 미국에서 헬스베리티, 베릴리 같은 업체가 나올 있는 배경은 개인정보보호...</td>\n",
              "      <td>미국에는 개인정보보호 제도의 기본 원칙이 '사후 동의'이기 때문에 다양한 개인정보가...</td>\n",
              "    </tr>\n",
              "    <tr>\n",
              "      <th>4</th>\n",
              "      <td>86979</td>\n",
              "      <td>박용만 대한상공회의소 회장은 1일 서울 태평로 한국프레스센터에서 열린 여기자 포럼 ...</td>\n",
              "      <td>박용만 대한상공회의소 회장은 1일 열린 '최근 경제진단과 양해 현안' 강연에서 규제...</td>\n",
              "    </tr>\n",
              "  </tbody>\n",
              "</table>\n",
              "</div>"
            ],
            "text/plain": [
              "   Unnamed: 0  ...                                            summary\n",
              "0       86975  ...  벤처업계는 법정 근로시간 관련 법률 개정은 자율적인 벤처기업 문화를 훼손할 우려가 ...\n",
              "1       86976  ...  최저임금 결정체계 개편이 지난해에 공식화되었음에도 불구하고 국회가 입법을 하지 않자...\n",
              "2       86977  ...  직원들의 우려대로 르노삼성은 올해 1분기에 2015년 이후 최악의 판매량으로 떨어졌...\n",
              "3       86978  ...  미국에는 개인정보보호 제도의 기본 원칙이 '사후 동의'이기 때문에 다양한 개인정보가...\n",
              "4       86979  ...  박용만 대한상공회의소 회장은 1일 열린 '최근 경제진단과 양해 현안' 강연에서 규제...\n",
              "\n",
              "[5 rows x 3 columns]"
            ]
          },
          "metadata": {},
          "execution_count": 4
        }
      ]
    },
    {
      "cell_type": "code",
      "metadata": {
        "colab": {
          "base_uri": "https://localhost:8080/"
        },
        "id": "viXjccDL78Iy",
        "outputId": "d1e3a643-0ea8-4ebf-815b-3e3e7dd8ee9c"
      },
      "source": [
        "print(preds[0])\n",
        "print(test['summary'][0])\n",
        "print(test['original_text'][0])"
      ],
      "execution_count": null,
      "outputs": [
        {
          "output_type": "stream",
          "name": "stdout",
          "text": [
            "+ 소프트웨어: 소프트웨어에 필요한 소프트웨어 정산 기간을 3개월에서 1년으로 연장해달라고 요구했어요. 소프트웨어 소프트웨어 업체들의 경쟁력을 떨어뜨리는 선택적 근로시간제 정산기간은 3개월로 확대해야 한다고.\n",
            "벤처업계는 법정 근로시간 관련 법률 개정은 자율적인 벤처기업 문화를 훼손할 우려가 크다고 주장하며 52시간 근로제와 관련, 탄력근로를 기존 3개월에서 1년으로 확대해달라고 공식 요구했다.\n",
            "벤처업계가 52시간 근로제와 관련, 탄력적 근로시간 정산 기간을 기존 3개월에서 1년으로 연장해달라고 공식 요구했다. 소프트웨어 업체들의 경쟁력을 떨어뜨리는 선택적 근로시간제 정산기간은 3개월로 확대해야 한다고 밝혔다. 지난해 7월 도입된 52시간 근로제의 처벌을 유예하는 계도기간은 지난달 종료됐다.\n"
          ]
        }
      ]
    },
    {
      "cell_type": "markdown",
      "metadata": {
        "id": "uaDswvKSV8vv"
      },
      "source": [
        "- 데이터 전처리\n"
      ]
    },
    {
      "cell_type": "code",
      "metadata": {
        "colab": {
          "base_uri": "https://localhost:8080/"
        },
        "id": "IL9HM_sjWzwk",
        "outputId": "0808f610-3ba6-4672-df43-51fe7c3b9891"
      },
      "source": [
        "for i in range(100):\n",
        "    print(preds[i])"
      ],
      "execution_count": null,
      "outputs": [
        {
          "output_type": "stream",
          "name": "stdout",
          "text": [
            "+ 소프트웨어: 소프트웨어에 필요한 소프트웨어 정산 기간을 3개월에서 1년으로 연장해달라고 요구했어요. 소프트웨어 소프트웨어 업체들의 경쟁력을 떨어뜨리는 선택적 근로시간제 정산기간은 3개월로 확대해야 한다고.\n",
            "+ 국회가 국회가 아직 입법하지 않은 건 문제가 있어요 : 국회가 아직 입법하지 않은 건 문제가 있어요 : 국회가 아직 입법하지 않은 건 문제가 있어요 : 국회가 아직 입법하지 않은 건 문제가 있어요 : 국회가 아직 입법하지 않은 건 문제가 있어요 : 국회가 아직 입법하지 않은 건 문제가 있어요 : 국회가 아직 입법하지 않은 건 문제가 있어요:\n",
            "르노삼 르노 르노 르노삼성 르노삼성 르노삼성 르노 르노 르노 르노 르노 르노 르노 르노 르노 르노삼삼 르노 르노 르노 르노 르노 르노삼삼 르노 르노 르노 르노 르노 르노 르노 르노 르노삼삼 르노 르노 르노 르노 르노 르노 르노삼삼 르노 르노 르노 르노 르노 르노 르노 르노 르노 르노 르노 르노 르노 르노 르노 르노 르노 르노 르노 르노 르노 르노 르노 르노 르노 르노 르노 르노 르노 르노 르노 르노 르노 르노 르노 르노 르노 르노 르노 르노 르노 르노 르노 르노 르노 르노 르노 르노 르노 르노 르노 르노 르노 르노 르노 르노 르노 르노 르노 르노 르노 르노 르노 르노 르노 르노 르노 르노 르노 르노 르노 르노 르노 르노 르노 르노 르노 르노 르노 르노 르노 르노 르노 르노 르노 르노 르노 르노 르노 르노 르노 르노 르노 르노 르노 르노 르노 르노 르노 르노 르노 르노 르노 르노 르노 르노 르노 르노 르노 르노 르노 르노 르노 르노 르노 르노 르노 르노 르노 르노 르노 르노 르노 르노 르노 르노 르노 르노 르노 르노 르노 르노 르노 르노 르노 르노 르노 르노 르노 르노 르노 르노 르노 르노 르노 르노 르노 르노 르노 르노 르노 르노 르노 르노 르노 르노 르노 르노 르노 르노 르노 르노 르노 르노 르노 르노 르노 르노 르노 르노 르노 르노 르노 르노 르노 르노 르노 르노 르노 르노 르노 르노 르노 르노 르노 르노 르노 르노 르노 르노 르노 르노 르노 르노 르노 르노 르노 르노 르노 르노 르노 르노 르노 르노 르노 르노 르노 르노 르노 르노 르노 르노 르노 르노 르노 르노 르노 르노 르노 르노 르노 르노 르노 르노 르노 르노 르노 르노 르노 르노 르노 르노 르노 르노 르노 르노 르노 르노 르노 르노 르노 르노 르노 르노 르노 르노 르노 르노 르노 르노 르노 르노 르노 르노 르노 르노 르노 르노 르노 르노 르노 르노 르노 르노 르노 르노 르노 르노 르노 르노 르노 르노 르노 르노 르노 르노 르노 르노 르노 르노 르노 르노 르노 르노 르노 르노 르노 르노 르노 르노 르노 르노 르노 르노 르노 르노 르노 르노 르노 르노 르노 르노 르노 르노 르노 르노 르노 르노 르노 르노 르노 르노 르노 르노 르노 르노 르노 르노 르노 르노 르노 르노 르노 르노!! 르노 르노!! 르노 르노!! 르노 르노!! 르노 르노!!!!!!! 르노 르노 르노!!!!! 르노 르노 르노 르노 르노 르노 르노 르노 르노 르노 르노 르노 르노 르노 르노 르노 르노 르노 르노 르노 르노 르노 르노 르노 르노 르노 르노 르노 르노 르노 르노 르노 르노 르노 르노 르노 르노 르노 르노 르노 르노 르노 르노 르노 르노 르노 르노 르노 르노 르노 르노 르노 르노 르노 르노 르노 르노 르노 르노 르노 르노 르노 르노 르노 르노 르노 르노 르노 르노 르노 르노 르노 르노 르노 르노 르노 르노 르노 르노 르노 르노 르노 르노 르노 르노 르노 르노 르노 르노 르노 르노 르노 르노 르노 르노 르노 르노 르노 르노 르노 르노 르노 르노 르노 르노\n",
            "미국에서 헬스베리티, 베릴리 같은 업체가 나올 있는 배경은 개인정보보호 제도의 기본 원칙이 '사후 동의'기 때문 때문.\n",
            "대한상공회의소 회장 : 대한상공회의소 회장 : 대한상공회의소 회장 : 대한상공회의소 회장 : 대한상공회의소 회장 : 대한상공회의소 회장 : 대한상공회의소 회장 : 대한상공회의소 회장 : 대한상공회의소 회장 : 대한상공회의소 회장 : 대한상공회의소 회장 : 대한상공회의소 회장 : 대한상공회의소 회장 : 대한상공회의소 회장 : 대한상공회의소 회장 : 대한상공회의소 회장 : 대한상공회의소 회장: 대한 경제진단과 양대 현안(최근 경제진단과 양대 현안) 강연에서 ‘규제 완화’의 필요성을 언급하며 ‘규제 완화’의 필요성을 언급했어요.\n",
            "아시아나항공, 자산 매각· 비수익 노선 정리, 조직 개편 등에 나선다고요?\n",
            "+  + +                                                                    +                                                                                                                                                                                                                                                                                                                                                                                                                                                      \n",
            "52시간 근로제 부작용을 줄이기 위한 ‘탄력근로제 단위기간 확대’의 3월 임시국회 처리가 사실상 무산됐요. 52시간 근로제 위반 사업주 처벌을 유예하는 계도기간이 3월 말로 끝났지만 보완 입법이 이뤄지지 않아 제도를 적용받는 300명 이상 대형 사업장에 극심한 혼란이 예상된다.\n",
            "+ + + + “절대 사수”:                                                                                                                                                                                                                                                                                                                                                                                                                                                                                                                   \n",
            "금융 규제 규제 샌드박스에 넣을 우선심사대상으로 서비스 19건 : 앞으로 금융권에 미칠 파급력이 상당할 전망이에요.\n",
            "중국도 올레드TV 판매량이 4년 안에 배로 불어날 것이란 전망이 나왔어요. 중국도 저가 제품 위주에서 탈피해 올레드 시장의 폭발적인 성장세에 힘을 보탤 지역으로 꼽혔어요. 중국도 저가 제품 위주에서 탈피해 올레드 시장의 폭발적인 성장세에 힘을 보탤 지역으로 꼽혔어요.\n",
            "보통주보다 싸고, 국내 경기 둔화 우려로 배당 매력이 높아진 우선주를 주목할 만하다는 평가도 나왔어요.\n",
            "세계 최대 경제 수요처인 미국과 중국 등의 경기가 둔화하면서 신흥국 경기의 앞날도 장담할 없게 됐기 때문.\n",
            "인보사의 성분 변경 논란으로 세포 유전자 치료제를 개발 중인 국내 바이오기업들은 타격을 입게 됐 됐고요. 세포의 기원이 미국 임상에 가서야 발견되면서 국내 임상 수준의 한계도 지적되고 있고요. 코오롱티슈진이 미국에서 인보사의 임상3상을 하지 않았 않았다면 국내 의료진은 여전히 인보사의 유래 세포를 제대로 모른 환자에게 처방했을 것이란 자조 섞인 반응도 나왔어요.\n",
            "온라인몰에서는 식품의약품안전처 환수조치가 내려진 업체의 헤나 염색약을, 온라인몰에서는 식약처에서 고시한 제품과 동일한 날에 제조되지 않아 제조번호, 사용기한 등이 다르다는 이유로 김씨의 환불 요청을 거절했어요.\n",
            "경기 경기 경기 경기 경기 경기 경기 경기 경기 경기 경기 경기 경기 경기 경기 경기 경기 경기 경기 경기 경기 경기 경기 경기 경기 경기 경기 경기 경기 경기 경기 경기 경기 경기 경기 경기 경기 경기 경기 경기 경기 경기 경기 경기 경기 경기 경기 경기 경기 경기 경기 경기 경기 경기 경기 경기 경기 경기 경기 경기 경기 경기 경기 경기 경기 경기 경기 경기 경기 경기 경기 경기 경기 경기 경기 경기 경기 경기 경기 경기 경기 경기 경기 경기 경기 경기 경기 경기 경기 경기 경기 경기 경기 경기 경기 경기 경기 경기 경기 경기 경기 경기 경기 경기 경기 경기 경기 경기 경기 경기 경기 경기 경기 경기 경기 경기 경기 경기 경기 경기 경기 경기 경기 경기 경기 경기 경기 경기 경기 경기 경기 경기 경기 경기 경기 경기 경기 경기 경기 경기 경기 경기 경기 경기 경기 경기 경기 경기 경기 경기 경기 경기 경기 경기 경기 경기 경기 경기 경기 경기 경기 경기 경기 경기 경기 경기 경기 경기 경기 경기 경기 경기 경기 경기 경기 경기 경기 경기 경기 경기 경기 경기 경기 경기 경기 경기 경기 경기 경기 경기 경기 경기 경기 경기 경기 경기 경기 경기 경기 경기 경기 경기 경기 경기 경기 경기 경기 경기 경기 경기 경기 경기 경기 경기 경기 경기 경기 경기 경기 경기 경기 경기 경기 경기 경기 경기 경기 경기 경기 경기 경기 경기 경기 경기 경기 경기 경기 경기 경기 경기 경기 경기 경기 경기 경기 경기 경기 경기 경기 경기 경기 경기 경기 경기 경기 경기 경기 경기 경기 경기 경기 경기 경기 경기 경기 경기 경기 경기 경기 경기 경기 경기 경기 경기 경기 경기 경기 경기 경기 경기 경기 경기 경기 경기 경기 경기 경기 경기 경기 경기 경기 경기 경기 경기 경기 경기 경기 경기 경기 경기 경기 경기 경기 경기 경기 경기 경기 경기 경기 경기 경기 경기 경기 경기 경기 경기 경기 경기 경기 경기 경기 경기 경기 경기 경기 경기 경기 경기 경기 경기 경기 경기 경기 경기 경기 경기 경기 경기 경기 경기 경기 경기 경기 경기 경기 경기 경기 경기 경기 경기 경기 경기 경기 경기 경기 경기 경기 경기 경기 경기 경기 경기 경기 경기 경기 경기 경기 경기 경기 경기 경기 경기 경기 경기 경기 경기 경기 경기 경기 경기 경기 경기 경기 경기 경기 경기 경기 경기 경기 경기 경기 경기 경기 경기 경기 경기 경기 경기 경기 경기 경기 경기 경기 경기 경기 경기 경기 경기 경기 경기 경기 경기 경기 경기 경기 경기 경기 경기 경기 경기 경기 경기 경기 경기 경기 경기 경기 경기 경기 경기 경기 경기 경기 경기 경기 경기 경기 경기 경기 경기 경기 경기 경기 경기 경기 경기 경기 경기 경기 경기 경기 경기 경기 경기 경기 경기 경기 경기 경기 경기 경기 경기 경기 경기 경기 경기 경기 경기 경기 경기 경기 경기 경기 경기 경기 경기 경기 경기 경기 경기 경기 경기 경기 경기 경기 경기 경기 경기 경기 경기 경기 경기 경기 경기 경기 경기 경기 경기 경기 경기 경기 경기 경기 경기 경기 경기 경기 경기 경기 경기\n",
            "올해 올해 법학전문대학원 신입생 10명 9명이 이른바 ‘SKY’ 졸업생인 것으로 나타났어요. 고려대와 연세대 서울 주요 로스쿨들도 십중팔구가 명문대 출신으로, 로스쿨의 학벌 쏠림 현상이 심각하다는 지적이에요.\n",
            "피부과학을 연구하는 한국 대표 더마코스메틱 브랜드 에스트라가 지난 27일, 화이트 화이트 16기 브랜드아카데미를 후원했어요. 더마코스메틱은 피부과학이라는 뜻의 더마톨로지와 화장품이라는 뜻의 코스메틱이 합쳐진 합성어. 더마코스메틱은 피부과학이라는 뜻의 더마톨로지와 화장품이라는 뜻의 코스메틱이 합쳐진 합성어예요.\n",
            "‘아프로존’이 홍콩 시장 진출의 시작을 알리는 ‘아프로존’이 홍콩 시장 진출의 시작을 알리는 ‘아프로존 홍콩 법인’ 진출 업무협약을 체결했어요. 아프로존 김봉준 회장과 홍콩 법인장 kiang ping fai 등이 참석했어요.\n",
            "정부는 금융회사들과 함께 연령대에 맞춰 비과세 세금 감면 등의 각종 혜택을 주는 정책금융상품을 속속 출시하고 있어요. 소상공인 등을 대상으로 1%대 초저금리 대출상품도 들어 새로 나왔어요.\n",
            "한국대학교 한국대학교육협의회 회장으로 취임하는 김헌영 강원대 총장, 김헌영 한국대학교육협의회 회장도 취임하는 김헌영 강원대 총장, 김헌영 한국대학교육협의회 회장으로 취임하는 김헌영 강원대 총장은 “등록금은 지속적으로 상승했지만 등록금은 계속 동결돼 교육의 질적 성장을 가로막았다”며 교육 재정 확충 없이 대학 발전은 불가능하다고 진단했요.\n",
            "한솔제지 한솔제지는 시장에 매물로 나온 태림포장과 전주페이퍼 곳만 인수하겠다고 2일 밝혔는데요. 한솔제지와 한솔제지가 동시에 회사를 인수할 것이란 설이 돌며 주가가 크게 하락했어요.\n",
            "채식주의자를 위한 점심 메뉴를 만들고 사옥 담식주의자를 위한 점심 메뉴를 만들고 사옥 흡연실을 휴게 공간으로 바꿨 사옥 흡연실을 휴게 공간으로 바꿨어요.\n",
            "+ + + + + + + + + + + + + + + + + + + + + + + + + + + + + + + + + + + + + + + + + + + + + + + + + + + + + + + + + + + + + + + + + + + + + + + 5G에서는 무제한 데이터 상품을 앞세워 초기부터 시장을 주도해 나가겠다는 의지로 해석돼요.\n",
            "SK SK SK SK에너지가 지난해 최고 연봉 기업에 올랐는데요. SK SK에너지가 지난해 최고 연봉 기업에 올랐어요. SK SK SK에너지가 지난해 최고 연봉 IT SK SK SK에너지에너지가 지난해 최고 연봉 기업에 올랐어요. SK SK SK SK SK에너지가 지난해 최고 연봉 기업에 올랐어요. SK SK SK SK SK SK에너지에너지가 지난해 최고 연봉 기업에 올랐어요. 구인·구직 사이트 사람인이 2일 구인·구직 사이트 사람인이 2일 국내 매출 상위 30대 기업, IT IT IT IT IT IT IT IT IT IT IT IT IT IT IT IT IT IT IT IT IT IT IT IT IT IT IT IT IT IT IT IT IT IT IT IT IT IT IT IT IT IT IT IT IT IT IT IT IT IT IT IT IT IT IT IT IT IT IT IT IT IT IT IT IT IT IT IT IT IT IT IT IT IT IT IT IT IT IT IT IT IT IT IT IT IT IT IT IT IT IT IT IT IT IT IT IT IT IT IT IT IT IT IT IT IT IT IT IT IT IT IT IT IT IT IT IT IT IT IT IT IT IT IT IT IT IT IT IT IT IT IT IT IT IT IT IT IT IT IT IT IT IT IT IT IT IT IT IT IT IT IT IT IT IT IT IT IT IT IT IT IT IT IT IT IT IT IT IT IT IT IT IT IT IT IT IT IT IT IT IT IT IT IT IT IT IT IT IT IT IT IT IT IT IT IT IT IT IT IT IT IT IT IT IT IT IT IT IT IT IT IT IT IT IT IT IT IT IT IT IT IT IT IT IT IT IT IT IT IT IT IT IT IT IT IT IT IT IT IT IT IT IT IT IT IT IT IT IT IT IT IT IT IT IT IT IT IT IT IT IT IT IT IT IT IT IT IT IT IT IT IT IT IT IT IT IT IT IT IT IT IT IT IT IT IT IT IT IT IT IT IT IT IT IT IT IT IT IT IT IT IT IT IT IT IT IT IT IT IT IT IT IT IT IT IT IT IT IT IT IT IT IT IT IT IT IT IT IT IT IT IT IT IT IT IT IT IT IT IT IT IT IT IT IT IT IT IT IT IT IT IT IT IT IT IT IT IT IT IT IT IT IT IT IT IT IT IT IT IT IT IT IT IT IT IT IT IT IT IT IT IT IT IT IT IT IT IT IT IT IT IT IT IT IT IT IT IT IT IT IT IT IT IT IT\n",
            "+ + + + + + 국가 국가부채가 자산보다 이상 빠른 속도로 증가해 사상 1700조원에 육박 국가 부채는 국가 부채의 절반 이상이 공무원과 군인에게 지급할 연금 때문에 쌓아두는 충당부채에요 국가부채가 작년에 1700조 원에 육박 빚 빚 빚 빚 빚 빚 빚 빚 빚 빚 빚 빚 빚 빚 빚 빚 빚 빚 빚 빚 빚 빚 빚 빚 빚 빚 빚 빚 빚 빚 빚 빚 빚 빚 빚 빚 빚 빚 빚 빚 빚 빚 빚 빚 빚 빚 빚 빚 빚 빚 빚 빚 빚 빚 빚 빚 빚 빚 빚 빚 빚 빚 빚 빚 빚 빚 빚 빚 빚 빚 빚 빚 빚 빚 빚 빚 빚 빚 빚 빚 빚 빚 빚 빚 빚 빚 빚 빚 빚 빚 빚 빚 빚 빚 빚 빚 빚 빚 빚 빚 빚 빚 빚 빚 빚 빚 빚 빚 빚 빚 빚 빚 빚 빚 빚 빚 빚 빚 빚 빚 빚 빚 빚 빚 빚 빚 빚 빚 빚 빚 빚 빚 빚 빚 빚 빚 빚 빚 빚 빚 빚 빚 빚 빚 빚 빚 빚 빚 빚 빚 빚 빚 빚 빚 빚 빚 빚 빚 빚 빚 빚 빚 빚 빚 빚 빚 빚 빚 빚 빚 빚 빚 빚 빚 빚 빚 빚 빚 빚 빚 빚 빚 빚 빚 빚 빚 빚 빚 빚 빚 빚 빚 빚 빚 빚 빚 빚 빚 빚 빚 빚 빚 빚 빚 빚 빚 빚 빚 빚 빚 빚 빚 빚 빚 빚 빚 빚 빚 빚 빚 빚 빚 빚 빚 빚 빚 빚 빚 빚 빚 빚 빚 빚 빚 빚 빚 빚 빚 빚 빚 빚 빚 빚 빚 빚 빚 빚 빚 빚 빚 빚 빚 빚 빚 빚 빚 빚 빚 빚 빚 빚 빚 빚 빚 빚 빚 빚 빚 빚 빚 빚 빚 빚 빚 빚 빚 빚 빚 빚 빚 빚 빚 빚 빚 빚 빚 빚 빚 빚 빚 빚 빚 빚 빚 빚 빚 빚 빚 빚 빚 빚 빚 빚 빚 빚 빚 빚 빚 빚 빚 빚 빚 빚 빚 빚 빚 빚 빚 빚 빚 빚 빚 빚 빚 빚 빚 빚 빚 빚 빚 빚 빚 빚 빚 빚 빚 빚 빚 빚 빚 빚 빚 빚 빚 빚 빚 빚 빚 빚 빚 빚 빚 빚 빚 빚 빚 빚 빚 빚 빚 빚 빚 빚 빚 빚 빚 빚 빚 빚 빚 빚 빚 빚 빚 빚 빚 빚 빚 빚 빚 빚 빚 빚 빚 빚 빚 빚 빚 빚 빚 빚 빚 빚 빚 빚 빚 빚 빚 빚 빚 빚 빚 빚 빚 빚 빚 빚 빚 빚 빚 빚 빚 빚 빚 빚 빚 빚 빚 빚 빚 빚 빚 빚 빚 빚 빚 빚 빚 빚 빚 빚 빚 빚 빚 빚 빚 빚 빚 빚 빚 빚 빚 빚 빚 빚 빚 빚 빚 빚 빚 빚 빚\n",
            "국내 제 제과업체인 뚜레쥬르가 해외 진출 14년 만에 처음으로 미국에서 흑자를 냈어요. 제과나 치킨 프랜차이즈 국내 식품 프랜차이즈를 통틀어 해외 흑자여서 의미가 크다는 거예요.\n",
            "+ + ‘영업맨이 누구야?’  기아자동차의 사업보고서 제출 마감일이던 지난 1일, 기아자동차가 내놓은 지난해 사업보고서에는 눈에 띄는 숫자가 있었어요. 10억7600만원. 박광주 기아자동차 서울 테헤란로지점 영업부장이 지난해 받은 급여와 상여금을 합친 금액. 부장은 10억2700만원을 받은 박한우 사장을 제치고 기아차 임직원 ‘연봉 킹’에 올랐어요.\n",
            "부산 부산 부산에 있는 아동 청소년 보호 시설, 대연동, 용호동 일대를 방문해 ‘꿈과 희망을 주는 러브하우스 봉사활동’을 했어요. 부산 부산의 롯데건설 임직원 20여 명은 부산 남구청이 추천한 부산 남구 용당동에 위치한 아동 청소년 보호 시설, 대연동과 용호동의 취약계층 2가구의 시설개선 봉사활동을 했어요. 롯데건설은 2016년 4월 부산 남구청과 봉사활동 협약을 맺고 기초생활수급자 주거환경이 열악한 곳에 집수리 봉사활동을 꾸준히 해왔어요.\n",
            "+ 동남아, 인도네시아 인도네시아 동남아시아 시장에 대한 투자자의 관심이 높아지고 있어요. 동남아는 개발도상국이라는 점에서 선진국과 달리 경기 정점 논란에서 자유로우며, 미·중 무역 분쟁과 중국의 인건비 상승으로 공장들이 동남아로 이전하면서 중장기적으로 수혜를 받을 것으로 기대되고 있어요.\n",
            "저축은행 저축은행에 저축 저축을 할 수 있잖아요! 저축은행에 가입하면 높은 금리를 제공하는 전용 신상품도 잇따라 내놓고 있고요. 입 입 입 입 입 입 입 입 입 입 입 입 입 입 입 입 입 입 입 입 입 돈 대출 편의성을 높였어요.                                                                                                                                                                                                                                                                                                                                                                                                                                                                   \n",
            "전력 전력 공기업 5곳이 상반기 신입 채용에 나섰어요.\n",
            "공공 공공는 민간이 자유롭게 열람할 있는 데이터는 공공 데이터는 빅데이터 경제의 '마중물'로 통한 공공 데이터는 빅데이터 경제의 '마중물'로 통한 데이터가 많고, 전국의 교통정보, 공시지가, 기상정보 기업이 활용할 만한 데이터가 상당 데이터가 상당    공공 데이터법에 따라 매년 중앙부처와 공공기관의 데이터를 개방해왔어요.요. 민간이 자유롭게 열람할 있는 데이터는 2만7000여 건에 이른 민간이 자유롭게 열람할 있는 데이터는 2만7000여 건에 이른 민간이 자유롭게 열람할 있는 데이터는 2만7000여 건에 이른 데이터는 2만7000여 건에 이른 데이터는 2만7000여 건에 이른 민간이 자유롭게 열람할 있는 데이터가 있어요.\n",
            "일자리안정자금 3조원에 달하는 일자리안정자금을 처음 지급하면서 올해부터는 일하는 저소득층에 지원하는 근로장려금을 확대하는 간접 지원 방식으로 전환하겠다고 했어요. 그런데 3조원에 달하는 일자리안정자금을 그대로 근로장려금 요건은 완화하고 지급액을 늘리고 새로운 혜택을 추가한 결과 지원 대상은 중산층 수준까지 확대됐어요. 그래서 지원 대상은 중산층 수준까지 확대됐어요.\n",
            "다노: 온라인 다이어트 코칭 서비스 다노에 다이어트 관련 질문이 올라오면 전담 코치가 바로 댓글을 단다!\n",
            "엔케이맥스 창업자인 박상우 의장은 올해는 글로벌 시장에 진출하기 위해 견고한 사업 기반을 다지는 중요한 시기라며 “글로벌 시장에 진출하기 위해 견고한 사업 기반을 다지는 중요한 시기”라고 말했어요. 박상우 의장은 올해 글로벌 시장에 진출하기 위해 견고한 사업 기반을 다지는 중요한 시기라고, 박상우 의장은 올해는 글로벌 시장에 진출하기 위해 견고한 사업 기반을 다지는 중요한 시기라고 생각 박상우 의장은 체내 NK세포 활성도로 면역세포치료제를 개발하기 위해 2016년 엔케이맥스를 세웠고, 에이티젠의 연구 결과를 바탕으로 면역세포치료제를 개발하기 위해 2016년 엔케이맥스를 세웠다고.\n",
            "수입차 레몬법'이 도입된 3개월이 지났지만 수입차업체 참여율은 저조한 것으로 나타났어요.\n",
            "‘R의 공포’가 누그러지는 것일까. 아니면 ‘R의 공포’가 누그러지는 것일까.\n",
            "호암재단: 호암재단과 호암재단, 호암재단, 호암재단, 호암재단, 호암재단, 호암재단, 호암재단, 호암재단, 호암재단, 호암재단, 호암재단, 호암재단, 호암재단, 호암재단, 호암재단, 호암재단, 호암재단, 호암재단, 호암재단, 호암재단, 호암재단, 호암재단, 호암재단, 호암재단, 호암재단, 호암재단, 호암재단, 호암재단, 호암재단, 호암재단, 호암재단, 호암재단, 호암재단, 호암재단, 호암재단, 호암재단, 호암재단, 호암재단, 호암재단, 호암재단, 호암재단, 호암재단, 호암재단, 호암재단, 호암재단, 호암재단, 호암재단, 호암재단, 호암재단, 호암재단, 호암재단, 호암재단, 호암재단, 호암재단, 호암재단, 호암재단, 호암재단, 호암재단, 호암재단, 호암재단, 호암재단, 호암재단, 호암재단, 호암재단, 호암재단, 호암재단, 호암재단, 호암재단, 호암재단, 호암재단, 호암재단, 호암재단, 호암재단, 호암재단, 호암재단, 호암재단, 호암재단, 호암재단, 호암재단, 호암재단, 호암재단, 호암재단, 호암재단, 호암재단, 호암재단, 호암재단, 호암재단, 호암재단, 호암재단, 호암재단, 호암재단, 호암재단, 호암재단, 호암재단, 호암재단, 호암재단, 호암재단, 호암재단, 호암재단, 호암재단, 호암재단, 호암재단, 호암재단, 호암재단, 호암재단, 호암재단, 호암재단, 호암재단, 호암재단, 호암재단, 호암재단, 호암재단, 호암재단, 호암재단, 호암재단, 호암재단, 호암재단, 호암재단, 호암재단, 호암재단, 호암재단, 호암재단, 호암재단, 호암재단, 호암재단, 호암\n",
            "생체보안기술 전문업체 아이리시스는 홍채인식보안 이동식 저장장치 3000개를 아랍에미리트 국방부에 수출한다고 3일 생체보안기술 전문업체 아이리시스는 홍채인식보안 이동식 저장장치 3000개를 아랍에미리트 국방부에 수출한다고 3일 UAE 국방부 관계자들이 제품의 보안성을 깐깐하게 시험하는 절차가 복잡해 수출까지 1년 넘게 걸 UAE 국방부 관계자들이 제품의 보안기능을 인정했기 때문에 중동의 인근 국가로부터 추가 주문을 기대하고 있다고.\n",
            "대구공항 통합이전 최종 부지를 선정하기로 했어요. 대구공항 통합이전 최종 부지를 선정하기로 했어요. 대구공항 통합이전 최종 부지를 선정하기로 했어요. 대구공항 통합이전은 대구 K-2와 대구공항을 함께 이전하는 사업이에요. 대구공항 통합이전은 대구 K-2와 대구공항을 함께 이전하는 사업이에요. 대구공항 통합이전은 ‘군공항 이전 지원에 관한 특별법’ 절차에 따라 상반기 국방부 장관이 위원장인 이전부지 선정위원회에서 종전부지 활용방안과 이전 주변지역 지원방안을 심의했어요.\n",
            "한국여자프로골프투어 국내 개막전 롯데렌터카 여자오픈에 출전하는 우승 후보들이 올해 타이틀을 휩쓸 ‘대세’ 선수를 꼽아달라는 거예요:\n",
            "부동산 분양 시장에서 관심을 모았던 단지들이 이름값을 했어요. 부동산 분양 시장에서 관심을 모았던 단지들이 이름값을 했어 부동산 분양 시장에서 관심을 모았던 단지들이 이름값을 했어요.\n",
            "2년째 적자를 지속 중인 인터넷전문은행들이 올해는 서로 다른 성적표를 받아들 것으로 보여요.\n",
            "버거 버거 프랜차이즈 맘스터치가 지난해 나홀로 성장 가도를 달리며 승승장구하고요. 다른 업체들이 가격을 올릴 '가성비 버거'로 내수불황에 대응한 점, 간편식 시장에 뛰어들어 사업구조를 다양화 등이 호실적의 배경으로 꼽힌다고.\n",
            "은행을 중금리대출의 평균금리 기준을 내리기로 했어요.\n",
            "부산에 부산에 국내 최대 뮤지컬 전용극장이 개관하고 운영에 들어갔어요.요. 부산오페라하우스도 공사에 들어가는 부산의 랜드마크로 자리 잡을 것으로 전망돼요 영화의전당을 조성해 ‘영화 도시’ 부산의 기틀을 마련한 이어 뮤지컬, 오페라 등의 새로운 문화시설을 만들고 뮤지컬, 오페라 등의 새로운 문화시설을 구축해 글로벌 문화관광도시로 도약하겠다는 것이 부산시의 전략이에요.\n",
            "+ 펄: 펄어비스의 3D 스캔 스튜디오: 펄어비스의 3D 스캔 스튜디오 게임 업계에 ‘모바일 바람’이 거세게 불던 2010년대 초, 펄어비스는 PC용 다중접속역할수행게임 ‘검은사막’ 개발에 온힘을 쏟았어요. 펄어비스가 모두 모바일을 외칠 정반대 길을 있었던 게임 기술을 탄탄히 쌓으면 통할 것이라는 믿음 때문.\n",
            "외교부가 최근 ‘외교 실수’ 문제가 계속 반복되고 있는데요. 외교부는 ‘외교 실수’ 지적을 받았는데요. 외교부는 ‘발틱’ 국가인 라트비아를 ‘발칸’ 국가로 잘못 표기했는데요. 외교부의 기강해이가 도를 넘었다는 지적이 나온다고.\n",
            "맞아요.                                                                                                                                                                                                                                                        \n",
            "규제 샌드: 규제 샌드박스: 규제 샌드박스: 규제 샌드박스가 규제 완화를 요구하면 규제 완화를 요구하면 규제 완화를 요구하면 규제 완화를 요구하면 규제 완화를 요구하면 규제 완화의 회피 회피 창구로 쓰 ‘ 규제 완 규제: 규제 완 규제: 규제 완 규제: 규제 완 규제: 규제 완 규제: 규제 규제: 규제 규제: 규제 규제: 규제 규제: 규제 규제: 규제 규제: 규제 규제: 규제 규제: 규제 규제: 규제 규제: 규제 규제: 규제 규제: 규제 규제: 규제 규제: 규제 규제: 규제 규제: 규제 규제: 규제 규제: 규제 규제: 규제 규제: 규제 규제: 규제 규제: 규제 규제: 규제 규제: 규제 규제: 규제 규제: 규제 규제: 규제 규제: 규제 규제: 규제 규제: 규제 규제: 규제 규제: 규제 규제: 규제 규제: 규제 규제: 규제 규제: 규제 규제: 규제 규제: 규제 규제: 규제 규제: 규제 규제 규제 규제 규제 규제 규제 규제 규제 규제 규제 규제 규제 규제 규제 규제 규제 규제 규제 규제 규제 규제 규제 규제 규제 규제 규제 규제 규제 규제 규제 규제 규제 규제 규제 규제 규제 규제 규제 규제 규제 규제 규제 규제 규제 규제 규제 규제 규제 규제 규제 규제 규제 규제 규제 규제 규제 규제 규제 규제 규제 규제 규제 규제 규제 규제 규제 규제 규제 규제 규제 규제 규제 규제 규제 규제 규제 규제 규제 규제 규제 규제 규제 규제 규제 규제 규제 규제 규제 규제 규제 규제 규제 규제 규제 규제 규제 규제 규제 규제 규제 규제 규제 규제 규제 규제 규제 규제 규제 규제 규제 규제 규제 규제 규제 규제 규제 규제 규제 규제 규제 규제 규제 규제 규제 규제 규제 규제 규제 규제 규제 규제 규제 규제 규제 규제 규제 규제 규제 규제 규제 규제 규제 규제 규제 규제 규제 규제 규제 규제 규제 규제 규제 규제 규제 규제 규제 규제 규제 규제 규제 규제 규제 규제 규제 규제 규제 규제 규제 규제 규제 규제 규제 규제 규제 규제 규제 규제 규제 규제 규제 규제 규제 규제 규제 규제 규제 규제 규제 규제 규제 규제 규제 규제 규제 규제 규제 규제 규제 규제 규제 규제 규제 규제 규제 규제 규제 규제 규제 규제 규제 규제 규제 규제 규제 규제 규제 규제 규제 규제 규제 규제 규제 규제 규제 규제 규제 규제 규제 규제 규제 규제 규제 규제 규제 규제 규제 규제 규제 규제 규제 규제 규제 규제 규제 규제 규제 규제 규제 규제 규제 규제 규제 규제 규제 규제 규제 규제 규제 규제 규제 규제 규제 규제 규제 규제 규제 규제 규제 규제 규제 규제 규제 규제 규제 규제 규제 규제 규제 규제 규제 규제 규제 규제 규제 규제 규제 규제 규제 규제 규제 규제 규제 규제 규제 규제 규제 규제 규제 규제 규제 규제 규제 규제 규제 규제 규제 규제 규제 규제 규제 규제 규제 규제 규제 규제 규제\n",
            "‘집 집’은 필리핀 대학생들이 만든 의류 공유 서비스에요 ‘집’은 필리핀 대학생들이 만든 의류 공유 서비스에 대한 플랫폼 사업을 제안했어요.\n",
            "5세대 이동통신의 최대 장점 : 5세대 이동통신의 최대 장점 5G 서비스의 최고 속도는 2GPP가 정한 최고 속도는 초당 20기가비트로 4세대 이동통신보다 20배가량 빠르요. 5G 서비스의 최고 속도는 2Gbps 수준이에 비해 배가량 빨리 빨리 빨리 빨리 빨리 빨리 빨리 빨리 빨리 빨리 빨리 빨리 빨리 빨리 빨리 빨리 빨리 빨리 빨리 빨리 빨리 빨리 빨리 빨리 빨리 빨리 빨리 빨리 빨리 빨리 빨리 빨리 빨리 빨리 빨리 빨리 빨리 빨리 빨리 빨리 빨리 빨리 빨리 빨리 빨리 빨리 빨리 빨리 빨리 빨리 빨리 빨리 빨리 빨리 빨리 빨리 빨리 빨리 빨리 빨리 빨리 빨리 빨리 빨리 빨리 빨리 빨리 빨리 빨리 빨리 빨리 빨리 빨리 빨리 빨리 빨리 빨리 빨리 빨리 빨리 빨리 빨리 빨리 빨리 빨리 빨리 빨리 빨리 빨리 빨리 빨리 빨리 빨리 빨리 빨리 빨리 빨리 빨리 빨리 빨리 빨리 빨리 빨리 빨리 빨리 빨리 빨리 빨리 빨리 빨리 빨리 빨리 빨리 빨리 빨리 빨리 빨리 빨리 빨리 빨리 빨리 빨리 빨리 빨리 빨리 빨리 빨리 빨리 빨리 빨리 빨리 빨리 빨리 빨리 빨리 빨리 빨리 빨리 빨리 빨리 빨리 빨리 빨리 빨리 빨리 빨리 빨리 빨리 빨리 빨리 빨리 빨리 빨리 빨리 빨리 빨리 빨리 빨리 빨리 빨리 빨리 빨리 빨리 빨리 빨리 빨리 빨리 빨리 빨리 빨리 빨리 빨리 빨리 빨리 빨리 빨리 빨리 빨리 빨리 빨리 빨리 빨리 빨리 빨리 빨리 빨리 빨리 빨리 빨리 빨리 빨리 빨리 빨리 빨리 빨리 빨리 빨리 빨리 빨리 빨리 빨리 빨리 빨리 빨리 빨리 빨리 빨리 빨리 빨리 빨리 빨리 빨리 빨리 빨리 빨리 빨리 빨리 빨리 빨리 빨리 빨리 빨리 빨리 빨리 빨리 빨리 빨리 빨리 빨리 빨리 빨리 빨리 빨리 빨리 빨리 빨리 빨리 빨리 빨리 빨리 빨리 빨리 빨리 빨리 빨리 빨리 빨리 빨리 빨리 빨리 빨리 빨리 빨리 빨리 빨리 빨리 빨리 빨리 빨리 빨리 빨리 빨리 빨리 빨리 빨리 빨리 빨리 빨리 빨리 빨리 빨리 빨리 빨리 빨리 빨리 빨리 빨리 빨리 빨리 빨리 빨리 빨리 빨리 빨리 빨리 빨리 빨리 빨리 빨리 빨리 빨리 빨리 빨리 빨리 빨리 빨리 빨리 빨리 빨리 빨리 빨리 빨리 빨리 빨리 빨리 빨리 빨리 빨리 빨리 빨리 빨리 빨리 빨리 빨리 빨리 빨리 빨리 빨리 빨리 빨리 빨리 빨리 빨리 빨리 빨리 빨리 빨리 빨리 빨리 빨리 빨리 빨리 빨리 빨리 빨리 빨리 빨리 빨리 빨리 빨리 빨리 빨리 빨리 빨리 빨리 빨리 빨리 빨리 빨리 빨리 빨리 빨리 빨리 빨리 빨리 빨리 빨리 빨리 빨리 빨리 빨리 빨리 빨리 빨리 빨리 빨리 빨리 빨리 빨리 빨리 빨리 빨리 빨리 빨리 빨리 빨리 빨리 빨리 빨리 빨리 빨리 빨리 빨리 빨리 빨리 빨리 빨리 빨리 빨리 빨리 빨리 빨리 빨리 빨리 빨리 빨리 빨리 빨리 빨리 빨리 빨리 빨리 빨리 빨리 빨리 빨리 빨리 빨리 빨리 빨리 빨리 빨리 빨리 빨리 빨리 빨리 빨리 빨리 빨리 빨리 빨리 빨리 빨리 빨리 빨리 빨리 빨리 빨리 빨리 빨리 빨리 빨리 빨리 빨리 빨리 빨리 빨리 빨리 빨리 빨리 빨리 빨리 빨리 빨리 빨리 빨리\n",
            "+ ‘ + 창업도시 서울 추진계획’ : 첨단 벤처기업이 입주할 있는 공간 1200여 개를 새로 만들기로 했어요. 한국과학기술연구원 KAIST 고려대 경희대 학교와 연구기관이 밀집한 홍릉과 양재, 마곡 서울 곳곳에 조성했어요. ‘임차료 전액 면제’라는 파격적 조건을 걸어 초기 자금 부담이 창업기업들에 희소식이!\n",
            "국내 1위 해외배송 대행업체인 코리아센터의 김기록 대표는 사업 초기였던 2008년 위기를 맞았어요. 리먼브러더스 파산 이후 불어닥친 글로벌 금융위기 여파가 대표에게도 영향을 미쳤다고.\n",
            "헤어진 남자친구가 만든 토스트 레시피가 화제가 됐어요. \n",
            "미국여자 미국여자프로골프투어에 선수와 캐디로 호흡하는 ‘헨더슨 자매’가 있다면, 일본인인 다카바야시 유미는 시즌 KLPGA투어에서 캐디이자 친동생인 리카와 ‘풀타임'으로 뛴 적이 있어요.\n",
            "부동산 블록 블록체인 전문가 단체인 ‘글로벌 부동산 블록체인 포럼’과 연세대학교 스마트시티융합서비스 연구개발단, 러시아 국립 엠지모대학교 공공정책단등 3자가 공동 주최하는 ‘제3차 글로벌 스마트시티 포럼’이 9일 오후 1시 30분 서울 여의도 한국거래소 국제회의장에서 열린다고.\n",
            "‘혈세 낭비’로 굳어진 여론에 긍정적인 영향을 미칠까요?\n",
            "미세먼지로 심각성이 국가 재난 수준으로 확산되자, 많은 사람들이 바깥 출입을 줄이고 부득이 외출할 시에는 마스크를 착용하는 등 마스크를 착용하는 일상 속에서 실천할 수 있는 미세먼지 대응책 마련에 분주한 모습. 실내에서 역시 공기청정기를 가동하는 일상 속에서 실천할 수 있는 미세먼지 대응책 마련에 분주한 모습.\n",
            "에티오피아의 에티오피아에서 보잉 737맥스8 항공기의 잇따른 추락 사고의 원인이 센서 오류와 소프트웨어 결함 때문이란 사실을 처음으로 인정했어요.\n",
            "국민· 국민·신한·KEB하나·우리·기업 주요 은행이 ‘기업고객 모시기' 경쟁에 뛰어들었어요. 국민·신한·KEB하나·우리·기업 주요 은행들이 ‘기업고객 모시기' 경쟁에 뛰어들었어요. 은행은 혁신기업을 지원하는 정부의 '생산적 금융'에 동참한다는 취지도 있고요. 은행들은 경영지원 플랫폼과 법인고객 우대 제도, 전담 영업인력 차별화된 서비스를 앞세워 기업대출 시장을 선점한다는 전략이에요.\n",
            "조희찬 기자 고진영이 미국여자프로골프투어투어 진출 2년 만에 약점 없는 ‘올라운드 플레이어'로 거듭나고 있어요. 미국여자프로골프투어 진출 2년 만에 약점 없는 ‘올라운드 플레이어'로 거듭나고 있어요. 시즌 참가한 거의 모든 대회에서 우승 경쟁을 하더니 메이저 타이틀까지 따낼 기세요. 자신만의 자신만의 독특한 스윙으로 LPGA투어 2년차에 US여자오픈을 제패하며 ‘골프 여제’의 길을 걷기 시작한 박인비의 ‘무심골프’를 떠올리게 해요.\n",
            "독일 베를린 베를린에 오픈이노베이션 센터인 ‘현대 크래들 베를린’을 열었다고 해요. 센터는 스타트 스타트 ‘크래들'이라는 단어가 포함된 데서 있 있듯이 센터는 스타트업을 발굴하고 키우는 역할을 할 예정예요.\n",
            "북한이 국제물품 매매계약에 관한 유엔협약에 최근 가입한 것으로 알려졌 북한이 국제 고립을 탈피하려고 세계 경제 시스템의 기준을 받아들인 것으로 알려졌는데요. 북한이 제재 완화와 남북한 경제협력 확대를 노린 선제적 포석이라는 해석도 나온 것 같아요.\n",
            "재판은 재판 시작 시작 전에 피의 혐의사실 등을 들 들 들 들 들 들 들 들 들 들 들 들 들 들 들 들 들 들 들 들 들 들 들 들 들 들 들 들 들 들 들 들 들 들 들 들 들 들 들 들 들 들 들 들 들 들 들 들 들 들 들 들 들 들 들 들 들 들 들 들 들 들 들 들 들 들 들 들 들 들 들 들 들 들 들 들 들 들 들 들 들 들 들 들 들 들 들 들 들 들 들 들 들 들 들 들 들 들 들 들 들 들 들 들 들 들 들 검찰 검찰 : 검찰 : 검찰 : 검찰 : 검찰 : 검찰 : 검찰 : 검찰 : 검찰 : 검찰 : 검찰 : 검찰 : : 검찰 : 검찰 : 검찰 : : 검찰 : : : : : : : : : : : : : : : : : : : : 검찰 : : : : : : : : : : : : : : : : : : : : : : : : : : : : : : : : : : : : : : : : : : : : : : : : : : : : : : : : : : : : : : : : : : : : : : : : : : : : : : : : : : : : : : : : : : : : : : : : : : : : : : : : : : : : : : : : : : : : : : : : : : : : : : : : : : : : : : : : : : : : : : : : : : : : : : : : : : : : : : : : : : : : : : : : : : : : : : : : : : : : : : : : : : : : : : : : : : : : : : : : : : : : : : : : : : : : : : : : : : : : : : : : : : : : : : : : : : : : : : : : : : : : : : : : : : : : : : : : : : : : : : : : : : : : : : : : : : : : : : : : : : : : : : : : : : : : : : : : : : : : : : : : : : : : : : : : : : : : : : : : : : : : : : : : : : : : : : : : : :\n",
            "뉴 뉴 뉴 뉴 뉴 뉴 뉴 뉴 뉴 뉴 뉴 뉴 뉴 뉴 뉴 뉴 뉴 뉴 뉴 뉴 뉴 뉴 뉴 뉴 뉴 뉴 뉴 뉴 뉴 뉴 뉴 뉴 뉴 뉴 뉴 뉴 뉴 뉴 뉴 뉴 뉴 뉴 뉴 뉴 뉴 뉴 뉴 뉴 뉴 뉴 뉴 뉴 뉴 뉴 뉴 뉴 뉴 뉴 뉴 뉴 뉴 뉴 뉴 뉴 뉴 뉴 뉴 뉴 뉴 뉴 뉴 뉴 재건축 사업에서 공사비가 함부로 증액되지 않도록 일정 수준 수준 수준 수준 이상 공사비가 오 오  뉴 뉴 뉴 뉴 뉴 뉴 뉴 뉴 뉴 뉴 뉴 뉴 뉴 뉴 뉴 뉴 뉴 뉴 뉴 뉴 뉴 정비 사업이 제대로 제대로 제대로 제대로 제대로 제대로 제대로 제대로 추진 사업이 제대로 추진 사업이 제대로 추진 사업이 제대로 추진 사업이 제대로 제대로 제대로 제대로 제대로 추진 사업이 제대로 제대로 제대로 제대로 제대로 제대로 제대로 제대로 제대로 제대로 제대로 제대로 제대로 제대로 제대로 제대로 제대로 제대로  뉴 뉴 뉴 뉴 뉴 뉴 뉴 뉴 뉴 뉴 뉴 뉴 뉴 뉴 + 뉴 뉴 뉴 뉴 뉴 뉴 뉴 뉴 뉴 뉴 + 뉴 뉴 뉴 뉴 뉴 뉴 뉴 + 뉴 뉴 뉴 뉴 뉴 뉴 뉴 뉴 뉴 뉴 뉴 뉴 뉴 뉴 뉴 뉴 뉴 뉴 뉴 뉴 뉴 뉴 뉴 뉴 뉴 뉴 뉴 뉴 뉴 뉴 뉴 뉴 뉴 뉴 뉴 뉴 뉴 뉴 뉴 뉴 뉴 뉴 뉴 뉴 뉴 뉴 뉴 뉴 뉴 뉴 뉴 뉴 뉴 뉴 뉴 뉴 뉴 뉴 뉴 뉴 뉴 뉴 뉴 뉴 뉴 뉴 뉴 뉴 뉴 뉴 뉴 뉴 뉴 뉴 뉴 뉴 뉴 뉴 뉴 뉴 뉴 뉴 뉴 뉴 뉴 뉴 뉴 뉴 뉴 뉴 뉴 뉴 뉴 뉴 뉴 뉴 뉴 뉴 뉴 뉴 뉴 뉴 뉴 뉴 뉴 뉴 뉴 뉴 뉴 뉴 뉴 뉴 뉴 뉴 뉴 뉴 뉴 뉴 뉴 뉴 뉴 뉴 뉴 뉴 뉴 뉴 뉴 뉴 뉴 뉴 뉴 뉴 뉴 뉴 뉴 뉴 뉴 뉴 뉴 뉴 뉴 뉴 뉴 뉴 뉴 뉴 뉴 뉴 뉴 뉴 뉴 뉴 뉴 뉴 뉴 뉴 뉴 뉴 뉴 뉴 뉴 뉴 뉴 뉴 뉴 뉴 뉴 뉴 뉴 뉴 뉴 뉴 뉴 뉴 뉴 뉴 뉴 뉴 뉴 뉴 뉴 뉴 뉴 뉴 뉴 뉴 뉴 뉴 뉴 뉴 뉴 정비 정비 정비 정비 정비 정비 정비 정비 정비 정비 사업이 제대로 사업이 제대로 사업이 제대로 사업이 제대로 사업이 제대로 사업이 제대로 사업이 제대로 사업이 제대로 사업이 제대로 사업이 제대로 제대로\n",
            "조 조 조 조재룡은 학교폭력으로 인해 생사의 벼랑 끝에 아들과 가족들이 아들의 이름으로 진실을 진실을 찾아가는 이야기를 하고 있어요. 조 조재룡, 조재룡은 조재룡의 조 조재룡이 박선명의 사건으로 식물인간이 박선호의 사건을 파헤치는 박승만 형사로 날카로운 카리스 ‘아름다운 사람들’: ‘아름다운 사람들’은 ‘아름다운 사람들’은 학교폭력으로 인해 생사의 벼 벼랑 끝에 아들과 가족들이 아들의 이름으로 진실을 진실을 진실을 진실을 진실을 진실을 진실을 진실을 진실을 진실을 진실을 진실을 진실을 진실을 진실을 진실을 진실을 진실을 진실을 진실을 진실을 진실을 진실을 진실을 진실을 진실을 진실을 진실을 진실을 진실을 진실을 진실을 진실을 진실을 진실을 진실을 진실을 진실을 진실을 진실을 진실을 진실을 진실을 진실을 진실을 진실을 진실을 진실을 진실을 진실을 진실을 진실을 진실을 진실을 진실을 진실을 진실을 진실을 진실을 진실을 진실을 진실을 진실을 진실을 진실을 진실을 진실을 진실을 진실을 진실을 진실을 진실을 진실을 진실을 진실을 진실을 진실을 진실을 진실을 진실을 진실을 진실을 진실을 진실을 진실을 진실을 진실을 진실을 진실을 진실을 진실을 진실을 진실을 진실을 진실을 진실을 진실을 진실을 진실을 진실을 진실을 진실을 진실을 사람들이 사람들이 사람들이 사람들이 사람들이 더 더 더 더 사람들이 사람들이 더 더 더 더 더 더 사람들이 사람들이 더 더 더 더 더 사람들이 더 더 더 더 더 더 사람들이 더 더 더 더 더 더 사람들이 더 더 더 더 더 더 더 더 더 사람들이 사람들이 더 더 더 더 더 더 더 더 더 더 더 더 사람들이 사람들이 더 더 더 더 더 더 더 더 더 더 더 더 사람들이 사람들이 더 더 더 더 더 사람들이 더 더 더 더 더 더 더 더 더 더 더 더 더 사람들이 사람들이, 바로 바로 바로 바로 바로 바로 바로 바로 바로 바로 바로 바로 바로 바로 바로 바로 바로 바로 바로 바로 바로 바로 바로 바로 바로 바로 바로 바로 바로 사람들이 사람들이 사람들이 바로 바로 바로 바로 바로 바로 바로 바로 바로 바로 바로 바로 사람들이 사람들이 바로 바로 바로 바로 바로 바로 바로 사람들이 사람들이 바로 바로 바로 바로 바로 바로 바로 사람들이 사람들이 바로 바로 바로 바로 바로 바로 사람들이 사람들이 바로 바로 바로 바로 바로 바로 바로 사람들이 사람들이 바로 바로 바로 바로 바로 바로 바로 바로 사람들이 사람들이 사람들이 바로 바로 바로 바로 바로 바로 바로예예예예예예예예예예예예예예예예예예예예예예예예예예예예예예예예예예예예예예예예예예예예예예예예예예예예예예예예예예예예예예예예예예예예예예예예예예예예예예예예예예예예예예예예예예예예예예예예예예예예예예예예예예예\n",
            "위스키라이브러리 대표가 최종 낙찰을 받았어요. 위스키 경매가 열리는 동안 뉴욕, 홍콩, 런던에서 위스키 경매가 열렸거든요. 뉴욕, 홍콩, 런던, 런던 등에서 위스키 경매가 열렸어요. 뉴욕, 홍콩, 런던, 런던에서 위스키 경매가 열렸어요. 위스키 경매가 열린 건 그만큼 국내 위스키 시장이 성숙했다는 증거라는 거예요.\n",
            "쏘카 쏘카가 4월 달간 출퇴근 쏘카 차량을 1000원에 이용할 있는 프로모션을 진행했어요. 쏘카는 차를 소유하지 않고도 언제나 차량을 자유롭게 이용할 수 있는 경험을 만드는 데 집중하고 있어요.\n",
            "경기 구 구리시의 아파트값이 최고가를 경신하고 있어요. 경기도 구리시의 아파트값은 최고가를 경신하고 있어요. 경기도 구리시의 아파트값은 최고가를 경신하고 있어요. 구리시는 지난해 9월 이후 경기도 내에서 매매가 지수 상승률이 1위를 나타냈고요. 구리시의 매매가격 지수는 작년 9월 10일 기준으로 106.2, 작년 9월 10일 기준으로 106.2, 올해 3월 18일 기준으로는 111.5를 기록했어요. 작년 9월 10일 기준으로는 111.5를 기록했어요. 작년 9월 10일 기준으로는 111.5를 기록했고요. 작년 9월 10일 기준으로는 111.5를 기록했어요. 작년 9월 10일 기준으로는 111.5를 기록했고 작년 9월 10일 기준으로는 116.2, 올해 3월 18일 기준으로는 111.5를 기록했어요.\n",
            "5G 이동통신 시대가 열렸어요. 5G 통신은 4차 산업혁명의 핵심 인프라라고요. 5G 통신은 올해 증시에서도 가장 뜨거운 테마로 꼽혀요. 5G 통신은 4차 산업혁명의 핵심 인프라라며 새로운 수요와 비즈니스 모델이 생겨나 직·간접적으로 다양한 종목의 수혜가 기대된다고.\n",
            "침구 청소기업체인 코니맥스가 기능성 화장품을 내놓고 ‘제2 창업'에 나섰다고요. 침구 청소기업체가 화장품 회사로 변신을 시도한 데는 그동안 축 축 축 축 축 축 축 축 축 축 축 축 축 축 축 축 축 축 축 축 축 축 축 축 축 축 축 축 축 축 축 축 축 축 축 축 축 축 축 축 축 축 축 축 축 축 축 축 축 축 축 축 축 축 축 축 축 축 축 축 축 축 축 축 축 축 축 축 축 축 축 축 축 축 축 축 축 축 축 축 축 축 축 축 축 축 축 축 축 축 축 축 축 축 축 축 축 축 축 축 축 축 축 축 축 축 축 축 축 축 축 축 축 축 축 축 축 축 축 축 축 축 축 축 축 축 축 축 축 축 축 축 축 축 축 축 축 축 축 축 축 축 축 축 축 축 축 축 축 축 축 축 축 축 축 축 축 축 축 축 축 축 축 축 축 축 축 축 축 축 축 축 축 축 축 축 축 축 축 축 축 축 축 축 축 축 축 축 축 축 축 축 축 축 축 축 축 축 축 축 축 축 축 축 축 축 축 축 축 축 축 축 축 축 축 축 축 축 축 축 축 축 축 축 축 축 축 축 축 축 축 축 축 축 축 축 축 축 축 축 축 축 축 축 축 축 축 축 축 축 축 축 축 축 축 축 축 축 축 축 축 축 축 축 축 축 축 축 축 축 축 축 축 축 축 축 축 축 축 축 축 축 축 축 축 축 축 축 축 축 축 축 축 축 축 축 축 축 축 축 축 축 축 축 축 축 축 축 축 축 축 축 축 축 축 축 축 축 축 축 축 축 축 토 토 토 토 토 토 토 토 토 토 토 토 토 토 토 토 토 토 토 토 토 토 토 토 토 토 토 토 토 토 토 토 토 토 토 토 토 토 토 토 토 토 토 토 토 토 토 토 토 토 토 토 토 토 토 토 토 토 토 토 토 토 토 토 토 토 토 토 토 토 토 토 토 토 토 토 토 토 토 토 토 토 토 토 토 토 토 토 토 토 토 토 토 토 토 토 토 토 토 토 토 토 토 토 토 토 토 토 토 토 토 토 토 토 토 토 토 토 토 토 토 토 토 토 토 토 토 토 토 토 토 토 토 토 토 토 토 토 토 토 토 토 토 토 토 토 토 토 토 토 토\n",
            "한국 자동차 한국 한국 자동차 자동차 자동차 자동차 자동차 자동차 자동차 자동차 자동차 자동차 자동차 자동차 자동차 자동차 자동차 자동차 자동차 자동차 자동차 자동차 자동차 자동차 자동차 자동차 자동차 자동차 자동차 자동차 자동차 자동차 자동차 자동차 자동차 자동차 자동차 자동차 자동차 자동차 자동차 자동차 자동차 자동차 자동차 자동차 자동차 자동차 자동차 자동차 자동차 자동차 자동차 자동차 자동차 자동차 자동차 자동차 자동차 자동차 자동차 자동차 자동차 자동차 자동차 자동차 자동차 자동차 자동차 자동차 자동차 자동차 자동차 자동차 자동차 자동차 자동차 자동차 자동차 자동차 자동차 자동차 자동차 자동차 자동차 자동차 자동차 자동차 자동차 자동차 자동차 자동차 자동차 자동차 자동차 자동차 자동차 자동차 자동차 자동차 자동차 자동차 자동차 자동차 자동차 자동차 자동차 자동차 자동차 자동차 자동차 자동차 자동차 자동차 자동차 자동차 자동차 자동차 자동차 자동차 자동차 자동차 자동차 자동차 자동차 자동차 자동차 자동차 자동차 자동차 자동차 자동차 자동차 자동차 자동차 자동차 자동차 자동차 자동차 자동차 자동차 자동차 자동차 자동차 자동차 자동차 자동차 자동차 자동차 자동차 자동차 자동차 자동차 자동차 자동차 자동차 자동차 자동차 자동차 자동차 자동차 자동차 자동차 자동차 자동차 산업 산업 산업 자동차 자동차 자동차 자동차 자동차 자동차 자동차 자동차 자동차 산업 산업 산업 산업 자동차 자동차 자동차 자동차 자동차 자동차 자동차 자동차 자동차 자동차 자동차 자동차 자동차 자동차 자동차 자동차 자동차 자동차 자동차 자동차 자동차 산업 산업 산업 자동차 자동차 자동차 자동차 자동차 자동차 자동차 자동차 자동차 산업 산업 산업 자동차 자동차 자동차 자동차 자동차 자동차 자동차 자동차 자동차 자동차 자동차 자동차 자동차 자동차 자동차 자동차 자동차 자동차 자동차 자동차 자동차 자동차 자동차 자동차 자동차 자동차 자동차 자동차 자동차 자동차 자동차 자동차 자동차 자동차 자동차 자동차 자동차 자동차 자동차 자동차 자동차 자동차 자동차 자동차 자동차 자동차 자동차 자동차 자동차 자동차 자동차 자동차 자동차 자동차 자동차 자동차 자동차 자동차 자동차 자동차 자동차 자동차 자동차 자동차 자동차 자동차 자동차 자동차 자동차 자동차 자동차 자동차 자동차 자동차 자동차 자동차 자동차 자동차 자동차 자동차 자동차 자동차 자동차 자동차 자동차 자동차 자동차 산업 산업 산업 산업 산업 자동차 자동차 자동차 자동차 자동차 자동차 자동차 자동차 산업 산업 산업 산업 산업 자동차 자동차 자동차 자동차 자동차 자동차 자동차 자동차 자동차 자동차 자동차 자동차 자동차 자동차 자동차 자동차 자동차 자동차 자동차 자동차 자동차 자동차 자동차 자동차 자동차 자동차 자동차 자동차 자동차 자동차 자동차 자동차 자동차 자동차 자동차 자동차 자동차 자동차 자동차 자동차 자동차 자동차 자동차 자동차 자동차 자동차 자동차 자동차 자동차 자동차 자동차 자동차 자동차 자동차 자동차 자동차 자동차 자동차 자동차 자동차 자동차 자동차 자동차 자동차 자동차 자동차 자동차 자동차 자동차 자동차 자동차 자동차 자동차 자동차 자동차 자동차 자동차 자동차 자동차 자동차 자동차 자동차 자동차 자동차 자동차 자동차 자동차 자동차 자동차 자동차 자동차 자동차 자동차 자동차 자동차 자동차 자동차 자동차 자동차 자동차 자동차 자동차 자동차 자동차 자동차 자동차 자동차 자동차 자동차 자동차 자동차 자동차 자동차 자동차 자동차 자동차 자동차 자동차 자동차 자동차 자동차 자동차 자동차 자동차 자동차 자동차 자동차 자동차 자동차 자동차 자동차 자동차 자동차 자동차 자동차 자동차 자동차 자동차 자동차 자동차 자동차 자동차 자동차 자동차 자동차 자동차 자동차 자동차 자동차 자동차 자동차 자동차 자동차 자동차 자동차 자동차 자동차 자동차 자동차 자동차 자동차 자동차 자동차 자동차 자동차 자동차 자동차 자동차 자동차 자동차 자동차 자동차 자동차 자동차 자동차 자동차 자동차 자동차 자동차 자동차 자동차 자동차 자동차 자동차 자동차 자동차\n",
            "국제 국제 + 국제 국제 국제 국제 국제 국제 국제 국제 국제 국제 국제 국제 국제 국제 국제 국제 국제 국제 국제 국제 국제 국제 국제 국제 국제 국제 국제 국제 국제 국제 국제 국제 국제 국제 국제 국제 국제 국제 국제 국제 국제 국제 국제 국제 국제 국제 국제 국제 국제 국제 국제 국제 국제 국제 국제 국제 국제 국제 국제 국제 국제 국제 국제 국제 국제 국제 국제 국제 국제 국제 국제 국제 국제 국제 국제 국제 국제 국제 국제 국제 국제 국제 국제 국제 국제 국제 국제 국제 국제 국제 국제 국제 국제 국제 국제 국제 국제 국제 국제 국제 국제 국제 국제 국제 국제 국제 국제 국제 국제 국제 국제 국제 국제 국제 국제 국제 국제 국제 국제 국제 국제 국제 국제 국제 국제 국제 국제 국제 국제 국제 유 국제 유 국제 유 국제 유 국제 유 국제 유 국제 유 국제 유 국제 유 국제 유 국제 유 국제 유 국제 유 국제 유 국제 유 국제 유 국제 국제 유 국제 국제 국제 국제 국제 국제 국제 국제 국제 국제 국제 국제 국제 국제 국제 국제 국제 국제 국제 국제 국제 국제 국제 국제 국제 국제 국제 국제 국제 국제 국제 국제 국제 국제 국제 국제 국제 국제 국제 국제 국제 국제 국제 국제 국제 국제 국제 국제 국제 국제 국제 국제 국제 국제 국제 국제 국제 국제 국제 + 국제 국제 + 국제 국제 + 국제 국제 + 국제 국제 + 국제 국제 + 국제 국제 + 국제 국제 + 국제 국제 + 국제 국제 국제 + 국제 국제 국제 + 국제 국제 국제 국제 국제 국제 국제 국제 국제 국제 국제 국제 국제 + 국제 + 국제 국제 + 국제 + 국제 + 국제 + 국제 + 국제 + 국제 + 국제 + 국제 + 국제 + 국제 + 국제 + 국제 + 국제 + 국제 + 국제 + 국제 + 국제 + 국제 + 국제 + 국제 + 국제 + 국제 + 국제 + 국제 + 국제 + 국제 + 국제 + 국제 + 국제 + 국제 + 국제 + 국제 + 국제 + 국제 + 국제 + 국제 + 국제 + 국제 + 국제 + 국제 + 국제 + 국제 + 국제 + 국제 + + + + + + + + + + + + + + + + + + + + + + + + + + + + + + + + + + + + + + + + + + + + + + + + + + + + + + + + + + + + + + + + + + + + + + + + + + + + + + + + + + + + + + + + + + + + + + + + + + + + + + + + + + + + + + + + + + + + + + + + + + + + + + + + + + + + + + + + + + + + + + + + +\n",
            "수출과 수입이 위축되면서 일본과의 교역도 감소일로에 있어요. 1분기 대일본 수출· 수입이 위축되면서 일본과의 교역도 감소일로에 있어요. 1분기 대일본 수출· 수입 감소율은 각각 6.2%, 14.6%에 이른다고.\n",
            "한·일 관계가 역대 최 최악으로 치달고 있다는 뉴스를 접할 때마다 불똥이 여행·호텔업계도 우려의 목소리가 커지고 있어요. 중국 정부의 ‘한한령’ 조치가 여전한 가운데 그나마 회복세를 보이던 중국인 관광객마저 발길을 돌릴 경우 여행·호텔업계는 중국에 이어 일본 시장까지 위축되는 ‘이중고’를 피하기가 어렵고요.\n",
            "환자가 한의원이나 한방병원에서 추나치료를 받으면 8일부터 건강보험 혜택을 받을 수 있어요. 환자 부담은 평균 5만원에서 1만원대로 내려간다고. 한의원과 한방병원은 늘어나는 예약 환자에 대비하는 분주한 분위기. 의사들은 건강보험 급여 확대를 결정한 보건복지부 장관을 고발하는 비판의 목소리를 높이고 있어요.\n",
            "법무연수원 19기에는 차기 검찰총장 물망에 오르는 ‘3인방’이 있어요. 봉욱 대검찰청 차장검사와 조은석 법무연수원장, 황철규 부산고검장이 있고, 조은석 법무연수원장, 황철규 부산고검장이 있는데요 문무일 검찰총장의 임기가 오는 7월 끝나기 때문에 국회 청문회 일정을 감안할 5월쯤에는 검찰총장 후보가 드러날 것으로 전망했어요.\n",
            "매일유업과 남양유업은 50년 라이벌이에요. 매일유업과 남양유업은 50년 라이벌이에요. 분유와 우유 시장에서 격돌했어요. 50년 넘게 남양이 우위를 지켰고요. 매일유업이 남양유업을 제친 차이를 벌려 나가고 있 있어요. 역전의 시발점은 2013년 남양유업의 ‘대리점 갑질 사건’, 불매운동에 대응하는 과정에서 남양유업은 동력을 잃었어요. 불매운동에 대응하는 과정에서 남양유업은 동력을 잃고, 불매운동에 대응하는 과정에서 남양유업은 동력을 떨어졌고 신사업도 신통치 않아요.\n",
            "은행이 점포를 폐쇄하려면 취약계층의 금융접근성을 따지는 사전영향평가를 해야 해요.\n",
            "5세대 이동통신사 5G 이동통신 서비스에 가입한 8만 정도가 5G 이동통신 서비스에 가입한 것으로 추정됐어요.\n",
            "재개발·재건축이 광범위하게 진행되고 있는 경기 성남시 일대 구도심에서 다음달부터 1만여 가구에 이르는 아파트 분양이 잇따를 것 같아요. 주변 시세보다 2억~3억원가량 저렴한 단지들이 분양을 앞두고 있는 만큼 예비 청약자의 관심도 달아오르는 분위기.\n",
            "주식 + + + + + + + + + + + + + + + + + + + + + + + + + + + + + + + + + + + + + + + + + + + + + + + + + + + + + + + + + + + + + + + + + + + + + + + + + + + + + + + + + + + + + + + + + + + + + + + + + + + + + + + + + + + + + + + + + + + + + + + + + + + + + + + + + + + + + + + + + + + + + + + + + + + + + + + + + + + + + + + + + + + + + + + + + + + + + + + + + + + + + + + + + + + + + + + + + + + + + + + + + + + + + + + + + + + + + + + + + + + + + + + + + + + + + + + + + + + + + + + + + + + + + + + + + + + + + + + + + + + + + + + + + + + + + + + + + + + + + + + + + + + + + + + + + + + + + + + + + + + + + + + + + + + + + + + + + + + + + + + + + + + + + + + + + + + + + + + + + + + + + + + + + + + + + + + + + + + + + + + + + + + + + + + + + + + + + + + + + + + + + + + + + + + + + + + + + + + + + + + + + + + + + + + + + + + + + + + + + + + + + + + + + + + + + + + + + + + + + + + + + + + + + + + + + + + + + + + + + + + + + + + + + + + + + + + + + + + + + + + + + + + + + + + + + + + + + + + + + + + + + + + + + + + + +\n",
            "김보라 기자 본죽을 운영하는 본죽을 운영하는 본아이에프 연간 매출이 2000억원을 돌파했어요.\n",
            "라면 라면 비 비 비 비 비 비 비 비 비 비 비 비 비 비 비 비 비 비 비 비 비 비 비 비 비 비 비 비 비 비 비 비 비 비 비 비 비 비 비 비 비 비 비 비 비 비 비 비 비 비 비 비 비 비 비 비 비 비 비 비 비 비 비 비 비 비 비 비 비 비 비 비 비 비 비 비 비 비 비 비 비 비 비 비 비 비 비 비 비 비 비 비 비 비 비 비 비 비 비 비 비 비 비 비 비 비 비 비 비 비 비 비 비 비 비 비 비 비 비 비 비 비 비 비 비 비 비 비 비 비 비 비 비 비 비 비 비 비 비 비 비 비 비 비 비 비 비 비 비 비 비 비 비 비 비 비 비 비 비 비 비 비 비 비 비 비 비 비 비 비 비 비 비 비 비 비 비\n",
            "BNK캐피탈은 BNK금융그룹을 본사로, BNK캐피탈은 BNK캐피탈을 본사로, BNK캐피탈은 BNK캐피탈을 본사로, BNK캐피탈은 BNK캐피탈을 본사로, BNK캐피탈은 BNK캐피탈을 본사로, BNK캐피탈은 BNK캐피탈을 본사로, BNK캐피탈은 BNK캐피탈을 본사로, BNK캐피탈은 BNK캐피탈을 본사로, BNK캐피탈은 BNK캐피탈을 본사로, BNK캐피탈은 BNK캐피탈을 본사로, BNK캐피탈은 BNK캐피탈을 본사로, BNK캐피탈은 BNK캐피탈을 본사로, BNK캐피탈은 BNK캐피탈을 본사로, BNK캐피탈은 BNK캐피탈을 본사로, BNK캐피탈은 BNK캐피탈을 본사로, BNK 여자프로농구단은 BNK캐피탈을 본사로, BNK금융 계열사인 부산은행 모바일 뱅킹 '썸뱅크'에서 따 BNK금융은 Simple, Useful, Mobile의 줄임말로 간편하고 사용하기 편한 모바일 금융이란 의미 신생 농구 팬들과 농구 팬들과 ‘썸'을 타며 여자농구의 붐을 일으키겠다는 중의적인 의미도 담 농구 팬들과 농구 팬들과 ‘썸'을 타며 여자농구의 붐을 일으키겠다는 중의적인 의미도 있고 여자농구의 붐을 일으키겠다는 중의적인 의미도 담 연고지는 부산이며 부산시의 전폭적인 지원으로 홈구장을 금정실내체육관으로 예정하고 부산의 전폭적인 지원으로 홈구장을 금정실내체육관으로 예정했요. BNK캐피탈은 기장군 BNK그룹 연수원에 연습시설도 조성하기로 하고 연습시설도 조성하기로 했요. B BNK금융 계열사인 BNK그룹 연수원에 연습시설도 조성하기로 하고 BNK금융 계열사인 부산은행 모바일 뱅뱅뱅뱅뱅뱅뱅뱅, Useful, Mobful, Mobile, Mobile의 줄임말로 간편하고 사용하기 편한 모바일 금융이란 뜻도 있고요. 농구 팬들과 ‘썸'을 타며 여자농구의 붐을 일으키겠다는 중의적인 의미도 있고 여자농구의 붐을 일으키겠다는 중의적인 의미도 있어요\n",
            "문재인 대통령, 조명균 통일부 장관, 조명균 통일부 장관이 8일 21개월의 임기를 마친 소회 손편지를 통일부 직원들에게 메일로 보냈어요. 조명균 통일부 장관, 조명균 통일부 장관, 조명균 통일부 장관, 조명균 통일부 장관, 조명균 통일부 장관, 조명균 통일부 장관, 조명균 통일부 장관이 8일 21개월의 임기를 마친 소회 손편지를 통일부 직원들에게 메일로 보냈어요. 장관은 2017년 깜깜한 상황에서부터 유난히 추웠지만 그만큼 뜨거웠던 평창, 후의 남북관계와 북한 비핵화 과정을 거쳐오면서 여러분과 함께라서 희망을 놓지 않고 헤쳐올 있었다고.\n",
            "데이터 완전 데이터 데이터 완전 완전 무 무 무 무 무 무 무 무 무 무 무 무 무 무 무 무 무 무 무 무 무 무 무 무 무 무 무 무 무 무 무 무 무 무 무 무 무 무 무 무 무 무 무 무 무 무 무 무 무 무 무 무 무 무 무 무 무 무 무 무 무 무 무 무 무 무 무 무 무 무 무 무 무 무 무 무 무 무 무 무 무 무 무 무 무 무 무 무 무 무 무 무 무 무 무 무 무 무 무 무 무 무 무 무 무 무 무 무 무 무 무 무 무 무 무 무 무 무 무 무 무 무 무 무 무 무 무 무 무 무 무 무 무 무 무 무 무 무 무 무 무 무 무 무 무 무 무 무 무 무 무 무 무 무 무 무 무 무 무 무 무 무 무 무 무 무 무 무 무 무 무 무 무 무 무 무 무 무 무 무 무 무 무 무 무 무 무 무 무 무 무 무 무 무 무 무 부모님 부모님 부모님 부모님 부모님 부모님 부모님 고생 고생 고생 고생 고생 고생 고생 고생 고생 고생 고생 고생 고생 고생 고생 고생 고생 고생 고생 고생 고생 고생 고생 고생 고생 고생 고생 고생 고생 고생 고생 고생 고생 고생 고생 고생 고생 고생 고생 고생 고생 고생 고생 고생 고생 고생 고생 고생 고생 고생 고생 고생 고생 고생 고생 고생 고생 고생 고생 고생 고생 고생 고생 고생 고생 고생 고생 고생 고생 고생 고생 고생 고생 고생 고생 고생 고생 고생 고생 고생 고생 고생 고생 고생 고생 고생 고생 고생 고생 고생 고생 고생 고생 고생 고생 고생 고생 고생 고생 고생 고생 고생 고생 고생 고생 고생 고생 고생 고생 고생 고생 고생 고생 고생 고생 고생 고생 고생 고생 고생 고생 고생 고생 고생 고생 고생 고생 고생 고생 고생 고생 고생 고생 고생 고생 고생 고생 고생 고생 고생 고생 고생 고생 고생 고생 고생 고생 고생 고생 고생 고생 고생 고생 고생 고생 고생 고생 고생 고생 고생 고생 고생 고생 고생 고생 고생 고생 고생 고생 고생 고생 고생 고생 고생 고생 고생 고생 고생 고생 고생 고생 고생 고생 고생 고생 고생 고생 고생 고생 고생 고생 고생 고생 고생 고생 고생 고생 고생 고생 고생 고생 고생 고생 고생 고생 고생 고생 고생 고생 고생 고생 고생 고생 고생 고생 고생 고생 고생 고생 고생 고생 고생 고생도 고생 고생 고생 고생 고생 고생 고생 고생 고생 고생 고생 고생 고생 고생 고생 고생 고생 고생 고생 고생 고생 고생 고생 고생 고생 고생 고생 고생 고생 고생 고생 고생 고생 고생 고생 고생 고생 고생 고생 고생 고생 고생 고생 고생 고생 고생 고생 고생 고생 고생 고생 고생 고생 고생 고생 고생 고생 고생 고생 고생 고생 고생 고생 고생 고생 고생 고생 고생 고생 고생 고생 고생 고생 고생 고생 고생 고생\n",
            "+ + (존경하는 중앙회 회원 여러분, 저는 어제 OO기업을 만나 소상공인의 사회안전망인 노란우산공제 시스템의 안정적인 운영을 위한 IT 지원 협력에 대한 긍정적인 답변을 받았어요.\n",
            "배우 김혜자가 CJ제일제당 다시다 광고 모델로 활동하면서 남긴 유행어: 김혜자 씨가 27년간 다시다 광고 모델로 활동하면서 남긴 유행어: “최장수 TV 광고 모델로 한국 기네스북에 오르기도 했어요!”\n",
            "취업 준비생생은 서울 독산동 '산업문화 어울림센터'에 다닌다고 해요. 의류 디자이너를 꿈꾸는 그는 디자인 교육을 받고 실습을 받고 실습을 받고 실습을 받았 2023년 독산동 우시장에서 식사한 ‘독산 어울림길’을 산책하는 모습.\n",
            "마이크로바이옴을 활용한 화장품이 나왔어요 : 우리나라 ODM 회사들이 화장품업계 혁신을 주도하고 있어요.\n",
            "국가 안보와도 직결되는 전력산업을 보호하기 위해 외국 정부가 어떤 노력을 하고 있는지 단적으로 보여주는 예예예예예예예예예예예예예예예예예예예예예예예예예예예예예예예예예예예예예예예예예예예예예예예예예예예예예예예예예예예예예예예예예예예예예예예예예예예예예예예예예예예예예예예예예예예예예예예예예예예예예예예예예예예예예예예예예예예예예예예예예예예예예예예예예예예예예예예예예예예예예예예예예예예예예예예예예예예예예예예예예예예예예예예예예예예예예예예예예예예예예예예예예예예예예예예예예예예예예예예예예예예예예예예예예예예예예예예예예예예예예예예예예예예예예예예예예예예예예예예예예예예예예예예예예예예예예예예예예예예예예예예예예예예예예예예예예예예예예예예예예예예예예예예예예예예예예예예예예예예예예예예예예예예예예예예예예예예예예예예예예예예예예예예예예예예예예예예예예예예예예예예예예예예예예예예예예예예예예예예예예예예예예예예예예예예예예예예예예예예예예예예예예예예예예예예예예예예예예예예예예예예예예예예예예예예예예예예예예예예예예예예예예예예예예예예예예예예예예예예예예예예예예예예예예예예예예예예예예예예예예예예예예예예예예예예예예예예예예예예예예예예예예예예예\n",
            "폐철을 발전시설과 스포츠 공간으로 활용한 전국 첫 사례!\n",
            "충청남 충청남도는 지난 4일 전국에서 처음으로 고농도 미세먼지 저감을 위한 비상저감 조치를 발령했요. 충청남도는 미세먼지 비상저감 조치를 발령했어요. 충청남도는 서해안 복선 전철 공사를 중단하고, 보령·아산 생활폐기물처리장 공공사업장 공공사업장의 소각량을 30% 감축했어요. 보령·태안·보령· 서천에 밀집한 석탄화력발전 30기도 정격용량의 80%로 가동률을 낮췄어요. 보령·태안· 보령·태안·서천에 밀집한 석탄화 발전소는 살수차 5대와 분진흡입차 3대를 시·군에 긴급 투입하고, 석탄 화력 발전소는 살수차 5대와 분진흡입차 3대를 시·군에 긴급 투입했어요.\n",
            "조양호 한진그룹 회장의 갑작스런 타계 소식이 전해진 8일 오전, 조양호 한진그룹 회장의 갑작스런 타계 소식이 전해진 8일 오전, 서울 공항동 대한항공 본사 앞에는 회장 별세를 애도하는 조기가 내걸렸어요.\n",
            "조원 조 조원태 한진그룹 회장이 타계하면서 그의 재산을 물려받을 장남 조원태 대한항공 사장 유가족이 납부할 상속세 규모가 2000억 웃\n",
            "조원호 한진그룹 회장이 8일 타계하면서 조원태 대한항공 사장의 ‘3세 경영’이 시작될 것 같아요. 조원태 대한항공 사장도 조중훈 회장이 2002년 별세한 다음해인 2003년 그룹 회장에 올랐고요. 하지만 취약한 지배구조와 행동주의 펀드의 경영권 공격 등을 감안하면 조원태 대한항공 사장의 경영 승계가 순탄치 않을 것이란 전망도 나온다고.\n",
            "국방 국방 국방 국방 국방 국방 국방 국방 국방 국방 국방 국방 국방 국방 국방 국방 국방 국방 국방 국방 국방 국방 국방 국방 국방 국방 국방 국방 국방 국방 국방 국방 국방 국방 국방 국방 국방 국방 국방 국방 국방 국방 국방 국방 국방 국방 국방 국방 국방 국방 국방 국방 국방 국방 국방 국방 국방 국방 국방 국방 국방 국방 국방 국방 국방 국방 국방 국방 국방 국방 국방 국방 국방 국방 국방 국방 국방 국방 국방 국방 국방 국방 국방 국방 국방 국방 국방 국방 국방 국방 국방 국방 국방 국방 국방 국방 국방 국방 국방 국방 국방 국방 국방 국방 국방 국방 국방 국방 국방 국방 국방 국방 국방 국방 국방 국방 국방 국방 국방 국방 국방 국방 국방 국방 국방 국방 국방 국방 국방 국방 국방 국방 국방 국방 국방 국방 국방 국방 국방 국방 국방 국방 국방 국방 국방 국방 국방 국방 국방 국방 국방 국방 국방 국방 국방 국방 국방 국방 국방 국방 국방 국방 국방 국방 국방 국방 국방 국방 국방 국방 국방 국방 국방 국방 국방 국방 국방 국방 국방 국방 국방 국방 국방 국방 국방 국방 국방 국방 국방 국방 국방 국방 국방 국방 국방 국방 국방 국방 국방 국방 국방 국방 국방 국방 국방 국방 국방 국방 국방 국방 국방 국방 국방 국방 국방 국방 국방 국방 국방 국방 국방 국방 국방 국방 국방 국방 국방 국방 국방 국방 국방 국방 국방 국방 국방 국방 국방 국방 국방 국방 국방 국방 국방 국방 국방 국방 국방 국방 국방 국방 국방 국방 국방 국방 국방 국방 국방 국방 국방 국방 국방 국방 국방 국방 국방 국방 국방 국방 국방 국방 국방 국방 국방 국방 국방 국방 국방 국방 국방 국방 국방 국방 국방 국방 국방 국방 국방 국방 국방 국방 국방 국방 국방 국방 국방 국방 국방 국방 국방 국방 국방 국방 국방 국방 국방 국방 국방 국방 국방 국방 국방 국방 국방 국방 국방 국방 국방 국방 국방 국방 국방 국방 국방 국방 국방 국방 국방 국방 국방 국방 국방 국방 : : : : : : : : : : : : : : : : : : : : : : : : : : : : : : : : : : : : : : : : : : : : : : : : : : : : : : : : : : : : : : : : : : : : : : : : : : : : : : : : : : : : : : : : : : : : : : : : : : : : : : : : : : : : : : : : : : : : : : : : : : : : : : : : : : : : : : : : : : : : : : : : : : : :::::::::::::::::::::::::::::::\n"
          ]
        }
      ]
    },
    {
      "cell_type": "code",
      "metadata": {
        "colab": {
          "base_uri": "https://localhost:8080/"
        },
        "id": "5YDWMB_2XGAm",
        "outputId": "9e7172d1-05e5-40c4-9164-e4b996988691"
      },
      "source": [
        "print(test['summary'][98])\n",
        "print(test['original_text'][98])"
      ],
      "execution_count": null,
      "outputs": [
        {
          "output_type": "stream",
          "name": "stdout",
          "text": [
            "지난 8일 조양호 한진그룹 회장이 별세하면서 한진그룹은 비상경영체제에 돌입했고, 그간 그룹 영향력을 키워오던 전회장의 장남 조원태 대한항공 사장의 '3세 경영'이 본격화할 것으로 보인다.\n",
            "김보형 기자 조양호 한진그룹 회장이 8일 타계하면서 그의 장남인 조원태 대한항공 사장의 '3세 경영'이 본격화할 전망이다. 회장도 부친이자 그룹 창업주인 조중훈 회장이 2002년 별세한 다음해인 2003년 그룹 회장에 올랐다. 하지만 취약한 지배구조와 행동주의 펀드의 경영권 공격 등을 감안하면 사장의 경영 승계가 순탄치 않을 것이란 전망도 나온다. 공정거래위원회는 다음달 1일 '2019년 자산 5조원 이상 대기업집단 지정 현황'을 발표하면서 한진그룹의 동일인을 변경할 방침이다.\n"
          ]
        }
      ]
    },
    {
      "cell_type": "code",
      "metadata": {
        "colab": {
          "base_uri": "https://localhost:8080/"
        },
        "id": "gLbw7ooT8HkJ",
        "outputId": "bec99b63-0279-4a52-81e0-fc0bfdebaf62"
      },
      "source": [
        "print(preds[1])"
      ],
      "execution_count": null,
      "outputs": [
        {
          "output_type": "stream",
          "name": "stdout",
          "text": [
            "류장수 최저임금위원회 위원장이 최저임금 결정체계 개편이 지난해에 공식화된 마당에 국회가 아직까지 입법하지 않은 것은 문제가 있다며 2월 말, 늦어도 3월 초에는 정리를 했어야 했다고 1일 밝혔다.\n"
          ]
        }
      ]
    },
    {
      "cell_type": "code",
      "metadata": {
        "colab": {
          "base_uri": "https://localhost:8080/",
          "height": 52
        },
        "id": "01xsnx6j8Roa",
        "outputId": "8679a41f-f7f5-4f95-c72a-4881fb73a391"
      },
      "source": [
        "test['summary'][1]"
      ],
      "execution_count": null,
      "outputs": [
        {
          "output_type": "execute_result",
          "data": {
            "application/vnd.google.colaboratory.intrinsic+json": {
              "type": "string"
            },
            "text/plain": [
              "\"최저임금 결정체계 개편이 지난해에 공식화되었음에도 불구하고 국회가 입법을 하지 않자 국회가 '직무유기'를 하며 혼란을 부추기고 있다는 비판이 나오고 있는 가운데, 최저임금연대는 1일 기자회견을 소집하고 최저임금 결정체계 개편의 중단과 내년도 최저임금 심의 절차의 진행을 촉구했다.\""
            ]
          },
          "metadata": {},
          "execution_count": 17
        }
      ]
    }
  ]
}